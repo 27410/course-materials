{
 "cells": [
  {
   "cell_type": "markdown",
   "metadata": {},
   "source": [
    "# Reconstruction of genome-scale metabolic models"
   ]
  },
  {
   "cell_type": "markdown",
   "metadata": {},
   "source": [
    "In the following exercise you are going to:\n",
    "\n",
    "* Reconstruct a draft of a genome-scale metabolic model using [carveme](https://github.com/cdanielmachado/carveme).\n",
    "* Analyze its characteristics (number of reactions, metabolites and genes; predicted growth rate etc.).\n",
    "* Validate your model using [memote](https://memote.io/).\n",
    "* Validate three other models of your choice (use Pubmed or Google Scholar to find publications of GSMs and then download them from the supplementary materials if available) a compare their quality metrics also with the model that you reconstructed."
   ]
  },
  {
   "cell_type": "markdown",
   "metadata": {},
   "source": [
    "***\n",
    "**A.**\n",
    "Use [carveme](https://github.com/cdanielmachado/carveme) to generate a draft reconstruction for a bacterium of your choice.\n",
    "\n",
    "For example,\n",
    "\n",
    "    carve --refseq GCF_000166295.1 --output Marinobacter-adhaerens-HP15.xml --gapfill LB --init LB\n",
    "\n",
    "will generate a GSM for the bacterium *Marinobacter adhaerens* HP15 by accessing its [sequence](https://www.ncbi.nlm.nih.gov/nuccore/NC_017506.1) on [RefSeq](https://www.ncbi.nlm.nih.gov/refseq/) (`GCF_000166295.1` is its RefSeq accession number). After \"carving\" out a model from the universal reaction model, carveme will gap-fill the model to be able to grow on rich medium (`--gapfil LB`) and initialize the final model with that medium (`--init LB`). The final model is writing to a file named `Marinobacter-adhaerens-HP15.xml` (`--output Marinobacter-adhaerens-HP15.xml`).\n",
    "\n",
    "Hints:\n",
    "* You can find carveme's documentation [here](https://carveme.readthedocs.io/en/latest/usage.html).\n",
    "* You can excecute command line commandos (e.g. `carve`) in Jupyter notebook by prepending them with a `!` here in a code cell."
   ]
  },
  {
   "cell_type": "markdown",
   "metadata": {},
   "source": [
    "As an example, let's reconstruct a draft GSM for [*Marinobacter adhaerens HP15*](https://www.ncbi.nlm.nih.gov/assembly/GCF_000166295.1) (this should take a few minutes)."
   ]
  },
  {
   "cell_type": "code",
   "execution_count": 1,
   "metadata": {},
   "outputs": [
    {
     "name": "stdout",
     "output_type": "stream",
     "text": [
      "CPU times: user 2.33 s, sys: 427 ms, total: 2.75 s\n",
      "Wall time: 2min 41s\n"
     ]
    }
   ],
   "source": [
    "%%time\n",
    "!carve --refseq GCF_000166295.1 --output Marinobacter-adhaerens-HP15-LB.xml --gapfill LB --init LB"
   ]
  },
  {
   "cell_type": "markdown",
   "metadata": {},
   "source": [
    "***\n",
    "**B.**\n",
    "Try to answer the following questions.\n",
    "\n",
    "* How many reactions, metabolites and genes does the model contain?\n",
    "* What is the percentage of genes covered?\n",
    "* How fast does your model/organism grow?\n",
    "* What is the predicted growth rate if you gap-fill the model based on a minimal M9 glucose medium (`M9` instead of `LB`)\n",
    "\n",
    "Hints:\n",
    "* You can use `cobra.io.read_sbml_model` to load your model (see also previous exercise)\n",
    "* Reactions, metabolites and genes are accessible via `model.reactions`, `model.metabolites` and `model.genes` (see also previous exercise).\n",
    "* You can simulate the model by running model.optimize() (the objective value corresponds to $\\mu_{max}$)\n",
    "* You can look at the medium of a model by running `model.medium`. This will return a dictionary of all the exchange reactions that enable uptable and the bound that has been set on that uptake"
   ]
  },
  {
   "cell_type": "code",
   "execution_count": 2,
   "metadata": {},
   "outputs": [],
   "source": [
    "from cobra.io import read_sbml_model"
   ]
  },
  {
   "cell_type": "code",
   "execution_count": 3,
   "metadata": {},
   "outputs": [],
   "source": [
    "model = read_sbml_model('Marinobacter-adhaerens-HP15-LB.xml')"
   ]
  },
  {
   "cell_type": "markdown",
   "metadata": {},
   "source": [
    "The model contains 1865 reactions."
   ]
  },
  {
   "cell_type": "code",
   "execution_count": 4,
   "metadata": {},
   "outputs": [
    {
     "data": {
      "text/plain": [
       "1865"
      ]
     },
     "execution_count": 4,
     "metadata": {},
     "output_type": "execute_result"
    }
   ],
   "source": [
    "len(model.reactions)"
   ]
  },
  {
   "cell_type": "markdown",
   "metadata": {},
   "source": [
    "The model contains 1252 metabolites."
   ]
  },
  {
   "cell_type": "code",
   "execution_count": 5,
   "metadata": {},
   "outputs": [
    {
     "data": {
      "text/plain": [
       "1252"
      ]
     },
     "execution_count": 5,
     "metadata": {},
     "output_type": "execute_result"
    }
   ],
   "source": [
    "len(model.metabolites)"
   ]
  },
  {
   "cell_type": "markdown",
   "metadata": {},
   "source": [
    "The model includes 1089 genes."
   ]
  },
  {
   "cell_type": "code",
   "execution_count": 6,
   "metadata": {},
   "outputs": [
    {
     "data": {
      "text/plain": [
       "1089"
      ]
     },
     "execution_count": 6,
     "metadata": {},
     "output_type": "execute_result"
    }
   ],
   "source": [
    "len(model.genes)"
   ]
  },
  {
   "cell_type": "markdown",
   "metadata": {},
   "source": [
    "That accounts for roughly 26% of genes in the organism's genome (4,197 coding genes in total as can be seen on genome's [summary page](https://www.ncbi.nlm.nih.gov/nuccore/NC_017506.1))."
   ]
  },
  {
   "cell_type": "code",
   "execution_count": 7,
   "metadata": {},
   "outputs": [
    {
     "data": {
      "text/plain": [
       "25.94710507505361"
      ]
     },
     "execution_count": 7,
     "metadata": {},
     "output_type": "execute_result"
    }
   ],
   "source": [
    "(len(model.genes) / 4197) * 100"
   ]
  },
  {
   "cell_type": "code",
   "execution_count": 8,
   "metadata": {},
   "outputs": [
    {
     "data": {
      "text/html": [
       "<strong><em>Optimal</em> solution with objective value 1.320</strong><br><div>\n",
       "<style scoped>\n",
       "    .dataframe tbody tr th:only-of-type {\n",
       "        vertical-align: middle;\n",
       "    }\n",
       "\n",
       "    .dataframe tbody tr th {\n",
       "        vertical-align: top;\n",
       "    }\n",
       "\n",
       "    .dataframe thead th {\n",
       "        text-align: right;\n",
       "    }\n",
       "</style>\n",
       "<table border=\"1\" class=\"dataframe\">\n",
       "  <thead>\n",
       "    <tr style=\"text-align: right;\">\n",
       "      <th></th>\n",
       "      <th>fluxes</th>\n",
       "      <th>reduced_costs</th>\n",
       "    </tr>\n",
       "  </thead>\n",
       "  <tbody>\n",
       "    <tr>\n",
       "      <th>1PPDCRc</th>\n",
       "      <td>0.000128</td>\n",
       "      <td>0.000000e+00</td>\n",
       "    </tr>\n",
       "    <tr>\n",
       "      <th>2AGPE120tipp</th>\n",
       "      <td>0.000000</td>\n",
       "      <td>-1.172990e-01</td>\n",
       "    </tr>\n",
       "    <tr>\n",
       "      <th>2AGPE140tipp</th>\n",
       "      <td>0.000000</td>\n",
       "      <td>0.000000e+00</td>\n",
       "    </tr>\n",
       "    <tr>\n",
       "      <th>2AGPE141tipp</th>\n",
       "      <td>0.000000</td>\n",
       "      <td>0.000000e+00</td>\n",
       "    </tr>\n",
       "    <tr>\n",
       "      <th>2AGPE160tipp</th>\n",
       "      <td>0.000000</td>\n",
       "      <td>0.000000e+00</td>\n",
       "    </tr>\n",
       "    <tr>\n",
       "      <th>...</th>\n",
       "      <td>...</td>\n",
       "      <td>...</td>\n",
       "    </tr>\n",
       "    <tr>\n",
       "      <th>sink_hemeO_c</th>\n",
       "      <td>0.000000</td>\n",
       "      <td>-3.740536e-01</td>\n",
       "    </tr>\n",
       "    <tr>\n",
       "      <th>sink_lipopb_c</th>\n",
       "      <td>-0.000000</td>\n",
       "      <td>0.000000e+00</td>\n",
       "    </tr>\n",
       "    <tr>\n",
       "      <th>sink_sheme_c</th>\n",
       "      <td>-0.000000</td>\n",
       "      <td>0.000000e+00</td>\n",
       "    </tr>\n",
       "    <tr>\n",
       "      <th>Growth</th>\n",
       "      <td>1.319614</td>\n",
       "      <td>4.440892e-16</td>\n",
       "    </tr>\n",
       "    <tr>\n",
       "      <th>ATPM</th>\n",
       "      <td>0.000000</td>\n",
       "      <td>-2.606645e-02</td>\n",
       "    </tr>\n",
       "  </tbody>\n",
       "</table>\n",
       "<p>1865 rows × 2 columns</p>\n",
       "</div>"
      ],
      "text/plain": [
       "<Solution 1.320 at 0x7f63222b95c0>"
      ]
     },
     "execution_count": 8,
     "metadata": {},
     "output_type": "execute_result"
    }
   ],
   "source": [
    "model.optimize()"
   ]
  },
  {
   "cell_type": "code",
   "execution_count": 9,
   "metadata": {},
   "outputs": [
    {
     "name": "stdout",
     "output_type": "stream",
     "text": [
      "File exists, skipping.\n"
     ]
    }
   ],
   "source": [
    "!carve --refseq GCF_000166295.1 --output Marinobacter-adhaerens-HP15-M9.xml --gapfill M9 --init M9"
   ]
  },
  {
   "cell_type": "code",
   "execution_count": 11,
   "metadata": {},
   "outputs": [],
   "source": [
    "m9_model = read_sbml_model('Marinobacter-adhaerens-HP15-M9.xml')"
   ]
  },
  {
   "cell_type": "code",
   "execution_count": 12,
   "metadata": {},
   "outputs": [
    {
     "data": {
      "text/html": [
       "<strong><em>Optimal</em> solution with objective value 0.782</strong><br><div>\n",
       "<style scoped>\n",
       "    .dataframe tbody tr th:only-of-type {\n",
       "        vertical-align: middle;\n",
       "    }\n",
       "\n",
       "    .dataframe tbody tr th {\n",
       "        vertical-align: top;\n",
       "    }\n",
       "\n",
       "    .dataframe thead th {\n",
       "        text-align: right;\n",
       "    }\n",
       "</style>\n",
       "<table border=\"1\" class=\"dataframe\">\n",
       "  <thead>\n",
       "    <tr style=\"text-align: right;\">\n",
       "      <th></th>\n",
       "      <th>fluxes</th>\n",
       "      <th>reduced_costs</th>\n",
       "    </tr>\n",
       "  </thead>\n",
       "  <tbody>\n",
       "    <tr>\n",
       "      <th>1PPDCRc</th>\n",
       "      <td>0.000076</td>\n",
       "      <td>0.000000e+00</td>\n",
       "    </tr>\n",
       "    <tr>\n",
       "      <th>2AGPE120tipp</th>\n",
       "      <td>0.000000</td>\n",
       "      <td>0.000000e+00</td>\n",
       "    </tr>\n",
       "    <tr>\n",
       "      <th>2AGPE140tipp</th>\n",
       "      <td>0.000000</td>\n",
       "      <td>0.000000e+00</td>\n",
       "    </tr>\n",
       "    <tr>\n",
       "      <th>2AGPE141tipp</th>\n",
       "      <td>0.000000</td>\n",
       "      <td>-9.267130e-02</td>\n",
       "    </tr>\n",
       "    <tr>\n",
       "      <th>2AGPE160tipp</th>\n",
       "      <td>0.000000</td>\n",
       "      <td>0.000000e+00</td>\n",
       "    </tr>\n",
       "    <tr>\n",
       "      <th>...</th>\n",
       "      <td>...</td>\n",
       "      <td>...</td>\n",
       "    </tr>\n",
       "    <tr>\n",
       "      <th>sink_hemeO_c</th>\n",
       "      <td>0.000000</td>\n",
       "      <td>-4.332383e-01</td>\n",
       "    </tr>\n",
       "    <tr>\n",
       "      <th>sink_lipopb_c</th>\n",
       "      <td>-0.000000</td>\n",
       "      <td>0.000000e+00</td>\n",
       "    </tr>\n",
       "    <tr>\n",
       "      <th>sink_sheme_c</th>\n",
       "      <td>0.000000</td>\n",
       "      <td>-1.086571e+00</td>\n",
       "    </tr>\n",
       "    <tr>\n",
       "      <th>Growth</th>\n",
       "      <td>0.781914</td>\n",
       "      <td>-1.998401e-15</td>\n",
       "    </tr>\n",
       "    <tr>\n",
       "      <th>ATPM</th>\n",
       "      <td>0.000000</td>\n",
       "      <td>-1.853426e-02</td>\n",
       "    </tr>\n",
       "  </tbody>\n",
       "</table>\n",
       "<p>1865 rows × 2 columns</p>\n",
       "</div>"
      ],
      "text/plain": [
       "<Solution 0.782 at 0x7f63c75bf6a0>"
      ]
     },
     "execution_count": 12,
     "metadata": {},
     "output_type": "execute_result"
    }
   ],
   "source": [
    "m9_model.optimize()"
   ]
  },
  {
   "cell_type": "code",
   "execution_count": 13,
   "metadata": {},
   "outputs": [
    {
     "data": {
      "text/plain": [
       "{'EX_glc__D_e': 10.0,\n",
       " 'EX_h2o_e': 10.0,\n",
       " 'EX_h_e': 10.0,\n",
       " 'EX_cl_e': 10.0,\n",
       " 'EX_pi_e': 10.0,\n",
       " 'EX_nh4_e': 10.0,\n",
       " 'EX_fe3_e': 10.0,\n",
       " 'EX_k_e': 10.0,\n",
       " 'EX_ca2_e': 10.0,\n",
       " 'EX_mg2_e': 10.0,\n",
       " 'EX_mn2_e': 10.0,\n",
       " 'EX_cobalt2_e': 10.0,\n",
       " 'EX_zn2_e': 10.0,\n",
       " 'EX_cu2_e': 10.0,\n",
       " 'EX_o2_e': 10.0,\n",
       " 'EX_fe2_e': 10.0,\n",
       " 'EX_mobd_e': 10.0,\n",
       " 'EX_so4_e': 10.0}"
      ]
     },
     "execution_count": 13,
     "metadata": {},
     "output_type": "execute_result"
    }
   ],
   "source": [
    "m9_model.medium"
   ]
  },
  {
   "cell_type": "code",
   "execution_count": 14,
   "metadata": {},
   "outputs": [
    {
     "data": {
      "text/plain": [
       "{'EX_glc__D_e': 10.0,\n",
       " 'EX_h2o_e': 10.0,\n",
       " 'EX_h_e': 10.0,\n",
       " 'EX_leu__L_e': 10.0,\n",
       " 'EX_ala__L_e': 10.0,\n",
       " 'EX_cl_e': 10.0,\n",
       " 'EX_pi_e': 10.0,\n",
       " 'EX_nh4_e': 10.0,\n",
       " 'EX_gly_e': 10.0,\n",
       " 'EX_ser__L_e': 10.0,\n",
       " 'EX_thr__L_e': 10.0,\n",
       " 'EX_arg__L_e': 10.0,\n",
       " 'EX_fe3_e': 10.0,\n",
       " 'EX_lys__L_e': 10.0,\n",
       " 'EX_asp__L_e': 10.0,\n",
       " 'EX_aso3_e': 10.0,\n",
       " 'EX_k_e': 10.0,\n",
       " 'EX_pro__L_e': 10.0,\n",
       " 'EX_ca2_e': 10.0,\n",
       " 'EX_mg2_e': 10.0,\n",
       " 'EX_mn2_e': 10.0,\n",
       " 'EX_cobalt2_e': 10.0,\n",
       " 'EX_zn2_e': 10.0,\n",
       " 'EX_cu2_e': 10.0,\n",
       " 'EX_o2_e': 10.0,\n",
       " 'EX_glu__L_e': 10.0,\n",
       " 'EX_fe2_e': 10.0,\n",
       " 'EX_h2s_e': 10.0,\n",
       " 'EX_pheme_e': 10.0,\n",
       " 'EX_his__L_e': 10.0,\n",
       " 'EX_hxan_e': 10.0,\n",
       " 'EX_ile__L_e': 10.0,\n",
       " 'EX_met__L_e': 10.0,\n",
       " 'EX_mobd_e': 10.0,\n",
       " 'EX_so4_e': 10.0,\n",
       " 'EX_val__L_e': 10.0,\n",
       " 'EX_thm_e': 10.0,\n",
       " 'EX_ura_e': 10.0}"
      ]
     },
     "execution_count": 14,
     "metadata": {},
     "output_type": "execute_result"
    }
   ],
   "source": [
    "model.medium"
   ]
  },
  {
   "cell_type": "markdown",
   "metadata": {},
   "source": [
    "***\n",
    "**C.*optimizeu can generate a report for a model with memote by running \n",
    "\n",
    "    memote report snapshot model.xml\n",
    "\n",
    "In the interest of time we're going to skip a few more computationally demanding tests and also write .\n",
    "\n",
    "    !memote report snapshot --skip test_stoichiometric_consistency \\\n",
    "        --skip test_find_metabolites_not_produced_with_open_bounds \\\n",
    "        --skip test_find_metabolites_not_consumed_with_open_bounds Marinobacter-adhaerens-HP15-LB.xml --filename Marinobacter-adhaerens-HP15-LB.html\n",
    "\n",
    "This will take a few minutes (depending on your model's size and the computational load on the Jupyter Classroom) and generate a file called `index.html` that contains the report. You can double click it in the file bwYou can continue to **D.** while you're waiting for the result."
   ]
  },
  {
   "cell_type": "code",
   "execution_count": 10,
   "metadata": {},
   "outputs": [
    {
     "name": "stdout",
     "output_type": "stream",
     "text": [
      "\u001b[1m============================= test session starts ==============================\u001b[0m\n",
      "platform linux -- Python 3.6.12, pytest-6.0.2, py-1.9.0, pluggy-0.13.1\n",
      "rootdir: /usr/local/lib/python3.6/dist-packages/memote/suite/tests\n",
      "collected 145 items                                                            \u001b[0m\u001b[1m\n",
      "\n",
      "../../../../../usr/local/lib/python3.6/dist-packages/memote/suite/tests/test_annotation.py \u001b[31mF\u001b[0m\u001b[31m [  0%]\n",
      "\u001b[0m\u001b[31mF\u001b[0m\u001b[31mF\u001b[0m\u001b[31mF\u001b[0m\u001b[31mF\u001b[0m\u001b[31mF\u001b[0m\u001b[31mF\u001b[0m\u001b[31mF\u001b[0m\u001b[31mF\u001b[0m\u001b[31mF\u001b[0m\u001b[31mF\u001b[0m\u001b[31mF\u001b[0m\u001b[31mF\u001b[0m\u001b[31mF\u001b[0m\u001b[31mF\u001b[0m\u001b[31mF\u001b[0m\u001b[31mF\u001b[0m\u001b[31mF\u001b[0m\u001b[31mF\u001b[0m\u001b[31mF\u001b[0m\u001b[31mF\u001b[0m\u001b[31mF\u001b[0m\u001b[31mF\u001b[0m\u001b[31mF\u001b[0m\u001b[31mF\u001b[0m\u001b[31mF\u001b[0m\u001b[31mF\u001b[0m\u001b[31mF\u001b[0m\u001b[31mF\u001b[0m\u001b[31mF\u001b[0m\u001b[31mF\u001b[0m\u001b[31mF\u001b[0m\u001b[31mF\u001b[0m\u001b[31mF\u001b[0m\u001b[31mF\u001b[0m\u001b[31mF\u001b[0m\u001b[31mF\u001b[0m\u001b[31mF\u001b[0m\u001b[31mF\u001b[0m\u001b[31mF\u001b[0m\u001b[31mF\u001b[0m\u001b[31mF\u001b[0m\u001b[31mF\u001b[0m\u001b[31mF\u001b[0m\u001b[31mF\u001b[0m\u001b[31mF\u001b[0m\u001b[31mF\u001b[0m\u001b[31mF\u001b[0m\u001b[31mF\u001b[0m\u001b[31mF\u001b[0m\u001b[31mF\u001b[0m\u001b[31mF\u001b[0m\u001b[31mF\u001b[0m\u001b[31mF\u001b[0m\u001b[31mF\u001b[0m\u001b[31mF\u001b[0m\u001b[31mF\u001b[0m\u001b[31mF\u001b[0m\u001b[31mF\u001b[0m\u001b[31mF\u001b[0m\u001b[31mF\u001b[0m\u001b[31mF\u001b[0m\u001b[31mF\u001b[0m\u001b[32m.\u001b[0m\u001b[32m.\u001b[0m\u001b[31m         [ 44%]\u001b[0m\n",
      "../../../../../usr/local/lib/python3.6/dist-packages/memote/suite/tests/test_basic.py \u001b[32m.\u001b[0m\u001b[31m [ 45%]\n",
      "\u001b[0m\u001b[32m.\u001b[0m\u001b[32m.\u001b[0m\u001b[32m.\u001b[0m\u001b[32m.\u001b[0m\u001b[32m.\u001b[0m\u001b[31mF\u001b[0m\u001b[32m.\u001b[0m\u001b[32m.\u001b[0m\u001b[32m.\u001b[0m\u001b[32m.\u001b[0m\u001b[32m.\u001b[0m\u001b[32m.\u001b[0m\u001b[32m.\u001b[0m\u001b[32m.\u001b[0m\u001b[32m.\u001b[0m\u001b[32m.\u001b[0m\u001b[31mF\u001b[0m\u001b[32m.\u001b[0m\u001b[32m.\u001b[0m\u001b[32m.\u001b[0m\u001b[31mF\u001b[0m\u001b[31mF\u001b[0m\u001b[31m                                                   [ 60%]\u001b[0m\n",
      "../../../../../usr/local/lib/python3.6/dist-packages/memote/suite/tests/test_biomass.py \u001b[32m.\u001b[0m\u001b[31m [ 61%]\n",
      "\u001b[0m\u001b[31mF\u001b[0m\u001b[32m.\u001b[0m\u001b[32m.\u001b[0m\u001b[32m.\u001b[0m\u001b[32m.\u001b[0m\u001b[32m.\u001b[0m\u001b[31mF\u001b[0m\u001b[32m.\u001b[0m\u001b[31mF\u001b[0m\u001b[31m                                                                [ 67%]\u001b[0m\n",
      "../../../../../usr/local/lib/python3.6/dist-packages/memote/suite/tests/test_consistency.py \u001b[33ms\u001b[0m\u001b[31m [ 68%]\n",
      "\u001b[0m\u001b[33ms\u001b[0m\u001b[33ms\u001b[0m\u001b[33ms\u001b[0m\u001b[33ms\u001b[0m\u001b[33ms\u001b[0m\u001b[33ms\u001b[0m\u001b[33ms\u001b[0m\u001b[33ms\u001b[0m\u001b[33ms\u001b[0m\u001b[33ms\u001b[0m\u001b[33ms\u001b[0m\u001b[33ms\u001b[0m\u001b[33ms\u001b[0m\u001b[33ms\u001b[0m\u001b[33ms\u001b[0m\u001b[33ms\u001b[0m\u001b[32m.\u001b[0m\u001b[31mF\u001b[0m\u001b[31mF\u001b[0m\u001b[31mF\u001b[0m\u001b[31mF\u001b[0m\u001b[31mF\u001b[0m\u001b[32m.\u001b[0m\u001b[33ms\u001b[0m\u001b[33ms\u001b[0m\u001b[31mF\u001b[0m\u001b[31m                                               [ 86%]\u001b[0m\n",
      "../../../../../usr/local/lib/python3.6/dist-packages/memote/suite/tests/test_essentiality.py \u001b[33ms\u001b[0m\u001b[31m [ 86%]\n",
      "\u001b[0m\u001b[31m                                                                         [ 86%]\u001b[0m\n",
      "../../../../../usr/local/lib/python3.6/dist-packages/memote/suite/tests/test_growth.py \u001b[33ms\u001b[0m\u001b[31m [ 87%]\n",
      "\u001b[0m\u001b[31m                                                                         [ 87%]\u001b[0m\n",
      "../../../../../usr/local/lib/python3.6/dist-packages/memote/suite/tests/test_matrix.py \u001b[32m.\u001b[0m\u001b[31m [ 88%]\n",
      "\u001b[0m\u001b[32m.\u001b[0m\u001b[32m.\u001b[0m\u001b[32m.\u001b[0m\u001b[31m                                                                      [ 90%]\u001b[0m\n",
      "../../../../../usr/local/lib/python3.6/dist-packages/memote/suite/tests/test_sbml.py \u001b[32m.\u001b[0m\u001b[31m [ 91%]\n",
      "\u001b[0m\u001b[32m.\u001b[0m\u001b[31m                                                                        [ 91%]\u001b[0m\n",
      "../../../../../usr/local/lib/python3.6/dist-packages/memote/suite/tests/test_sbo.py \u001b[32m.\u001b[0m\u001b[31m [ 92%]\n",
      "\u001b[0m\u001b[32m.\u001b[0m\u001b[32m.\u001b[0m\u001b[32m.\u001b[0m\u001b[32m.\u001b[0m\u001b[32m.\u001b[0m\u001b[32m.\u001b[0m\u001b[32m.\u001b[0m\u001b[33ms\u001b[0m\u001b[33ms\u001b[0m\u001b[31mF\u001b[0m\u001b[31m                                                               [ 99%]\u001b[0m\n",
      "../../../../../usr/local/lib/python3.6/dist-packages/memote/suite/tests/test_thermodynamics.py \u001b[31mF\u001b[0m\u001b[31m [100%]\u001b[0m\n",
      "\n",
      "\u001b[33m=============================== warnings summary ===============================\u001b[0m\n",
      "/usr/local/lib/python3.6/dist-packages/_pytest/stepwise.py:122\n",
      "  /usr/local/lib/python3.6/dist-packages/_pytest/stepwise.py:122 \u001b[1;31mPytestCacheWarning\u001b[0m: could not create cache path /usr/local/lib/python3.6/dist-packages/memote/suite/tests/.pytest_cache/v/cache/stepwise\n",
      "\n",
      "/usr/local/lib/python3.6/dist-packages/_pytest/cacheprovider.py:396\n",
      "  /usr/local/lib/python3.6/dist-packages/_pytest/cacheprovider.py:396 \u001b[1;31mPytestCacheWarning\u001b[0m: could not create cache path /usr/local/lib/python3.6/dist-packages/memote/suite/tests/.pytest_cache/v/cache/nodeids\n",
      "\n",
      "/usr/local/lib/python3.6/dist-packages/_pytest/cacheprovider.py:350\n",
      "  /usr/local/lib/python3.6/dist-packages/_pytest/cacheprovider.py:350 \u001b[1;31mPytestCacheWarning\u001b[0m: could not create cache path /usr/local/lib/python3.6/dist-packages/memote/suite/tests/.pytest_cache/v/cache/lastfailed\n",
      "\n",
      "-- Docs: https://docs.pytest.org/en/stable/warnings.html\n",
      "=========================== short test summary info ============================\n",
      "FAILED ../../../../../usr/local/lib/python3.6/dist-packages/memote/suite/tests/test_annotation.py::test_metabolite_annotation_presence\n",
      "FAILED ../../../../../usr/local/lib/python3.6/dist-packages/memote/suite/tests/test_annotation.py::test_reaction_annotation_presence\n",
      "FAILED ../../../../../usr/local/lib/python3.6/dist-packages/memote/suite/tests/test_annotation.py::test_gene_product_annotation_presence\n",
      "FAILED ../../../../../usr/local/lib/python3.6/dist-packages/memote/suite/tests/test_annotation.py::test_metabolite_annotation_overview[pubchem.compound]\n",
      "FAILED ../../../../../usr/local/lib/python3.6/dist-packages/memote/suite/tests/test_annotation.py::test_metabolite_annotation_overview[kegg.compound]\n",
      "FAILED ../../../../../usr/local/lib/python3.6/dist-packages/memote/suite/tests/test_annotation.py::test_metabolite_annotation_overview[seed.compound]\n",
      "FAILED ../../../../../usr/local/lib/python3.6/dist-packages/memote/suite/tests/test_annotation.py::test_metabolite_annotation_overview[inchikey]\n",
      "FAILED ../../../../../usr/local/lib/python3.6/dist-packages/memote/suite/tests/test_annotation.py::test_metabolite_annotation_overview[inchi]\n",
      "FAILED ../../../../../usr/local/lib/python3.6/dist-packages/memote/suite/tests/test_annotation.py::test_metabolite_annotation_overview[chebi]\n",
      "FAILED ../../../../../usr/local/lib/python3.6/dist-packages/memote/suite/tests/test_annotation.py::test_metabolite_annotation_overview[hmdb]\n",
      "FAILED ../../../../../usr/local/lib/python3.6/dist-packages/memote/suite/tests/test_annotation.py::test_metabolite_annotation_overview[reactome]\n",
      "FAILED ../../../../../usr/local/lib/python3.6/dist-packages/memote/suite/tests/test_annotation.py::test_metabolite_annotation_overview[metanetx.chemical]\n",
      "FAILED ../../../../../usr/local/lib/python3.6/dist-packages/memote/suite/tests/test_annotation.py::test_metabolite_annotation_overview[bigg.metabolite]\n",
      "FAILED ../../../../../usr/local/lib/python3.6/dist-packages/memote/suite/tests/test_annotation.py::test_metabolite_annotation_overview[biocyc]\n",
      "FAILED ../../../../../usr/local/lib/python3.6/dist-packages/memote/suite/tests/test_annotation.py::test_reaction_annotation_overview[rhea]\n",
      "FAILED ../../../../../usr/local/lib/python3.6/dist-packages/memote/suite/tests/test_annotation.py::test_reaction_annotation_overview[kegg.reaction]\n",
      "FAILED ../../../../../usr/local/lib/python3.6/dist-packages/memote/suite/tests/test_annotation.py::test_reaction_annotation_overview[seed.reaction]\n",
      "FAILED ../../../../../usr/local/lib/python3.6/dist-packages/memote/suite/tests/test_annotation.py::test_reaction_annotation_overview[metanetx.reaction]\n",
      "FAILED ../../../../../usr/local/lib/python3.6/dist-packages/memote/suite/tests/test_annotation.py::test_reaction_annotation_overview[bigg.reaction]\n",
      "FAILED ../../../../../usr/local/lib/python3.6/dist-packages/memote/suite/tests/test_annotation.py::test_reaction_annotation_overview[reactome]\n",
      "FAILED ../../../../../usr/local/lib/python3.6/dist-packages/memote/suite/tests/test_annotation.py::test_reaction_annotation_overview[ec-code]\n",
      "FAILED ../../../../../usr/local/lib/python3.6/dist-packages/memote/suite/tests/test_annotation.py::test_reaction_annotation_overview[brenda]\n",
      "FAILED ../../../../../usr/local/lib/python3.6/dist-packages/memote/suite/tests/test_annotation.py::test_reaction_annotation_overview[biocyc]\n",
      "FAILED ../../../../../usr/local/lib/python3.6/dist-packages/memote/suite/tests/test_annotation.py::test_gene_product_annotation_overview[refseq]\n",
      "FAILED ../../../../../usr/local/lib/python3.6/dist-packages/memote/suite/tests/test_annotation.py::test_gene_product_annotation_overview[uniprot]\n",
      "FAILED ../../../../../usr/local/lib/python3.6/dist-packages/memote/suite/tests/test_annotation.py::test_gene_product_annotation_overview[ecogene]\n",
      "FAILED ../../../../../usr/local/lib/python3.6/dist-packages/memote/suite/tests/test_annotation.py::test_gene_product_annotation_overview[kegg.genes]\n",
      "FAILED ../../../../../usr/local/lib/python3.6/dist-packages/memote/suite/tests/test_annotation.py::test_gene_product_annotation_overview[ncbigi]\n",
      "FAILED ../../../../../usr/local/lib/python3.6/dist-packages/memote/suite/tests/test_annotation.py::test_gene_product_annotation_overview[ncbigene]\n",
      "FAILED ../../../../../usr/local/lib/python3.6/dist-packages/memote/suite/tests/test_annotation.py::test_gene_product_annotation_overview[ncbiprotein]\n",
      "FAILED ../../../../../usr/local/lib/python3.6/dist-packages/memote/suite/tests/test_annotation.py::test_gene_product_annotation_overview[ccds]\n",
      "FAILED ../../../../../usr/local/lib/python3.6/dist-packages/memote/suite/tests/test_annotation.py::test_gene_product_annotation_overview[hprd]\n",
      "FAILED ../../../../../usr/local/lib/python3.6/dist-packages/memote/suite/tests/test_annotation.py::test_gene_product_annotation_overview[asap]\n",
      "FAILED ../../../../../usr/local/lib/python3.6/dist-packages/memote/suite/tests/test_annotation.py::test_metabolite_annotation_wrong_ids[pubchem.compound]\n",
      "FAILED ../../../../../usr/local/lib/python3.6/dist-packages/memote/suite/tests/test_annotation.py::test_metabolite_annotation_wrong_ids[kegg.compound]\n",
      "FAILED ../../../../../usr/local/lib/python3.6/dist-packages/memote/suite/tests/test_annotation.py::test_metabolite_annotation_wrong_ids[seed.compound]\n",
      "FAILED ../../../../../usr/local/lib/python3.6/dist-packages/memote/suite/tests/test_annotation.py::test_metabolite_annotation_wrong_ids[inchikey]\n",
      "FAILED ../../../../../usr/local/lib/python3.6/dist-packages/memote/suite/tests/test_annotation.py::test_metabolite_annotation_wrong_ids[inchi]\n",
      "FAILED ../../../../../usr/local/lib/python3.6/dist-packages/memote/suite/tests/test_annotation.py::test_metabolite_annotation_wrong_ids[chebi]\n",
      "FAILED ../../../../../usr/local/lib/python3.6/dist-packages/memote/suite/tests/test_annotation.py::test_metabolite_annotation_wrong_ids[hmdb]\n",
      "FAILED ../../../../../usr/local/lib/python3.6/dist-packages/memote/suite/tests/test_annotation.py::test_metabolite_annotation_wrong_ids[reactome]\n",
      "FAILED ../../../../../usr/local/lib/python3.6/dist-packages/memote/suite/tests/test_annotation.py::test_metabolite_annotation_wrong_ids[metanetx.chemical]\n",
      "FAILED ../../../../../usr/local/lib/python3.6/dist-packages/memote/suite/tests/test_annotation.py::test_metabolite_annotation_wrong_ids[bigg.metabolite]\n",
      "FAILED ../../../../../usr/local/lib/python3.6/dist-packages/memote/suite/tests/test_annotation.py::test_metabolite_annotation_wrong_ids[biocyc]\n",
      "FAILED ../../../../../usr/local/lib/python3.6/dist-packages/memote/suite/tests/test_annotation.py::test_reaction_annotation_wrong_ids[rhea]\n",
      "FAILED ../../../../../usr/local/lib/python3.6/dist-packages/memote/suite/tests/test_annotation.py::test_reaction_annotation_wrong_ids[kegg.reaction]\n",
      "FAILED ../../../../../usr/local/lib/python3.6/dist-packages/memote/suite/tests/test_annotation.py::test_reaction_annotation_wrong_ids[seed.reaction]\n",
      "FAILED ../../../../../usr/local/lib/python3.6/dist-packages/memote/suite/tests/test_annotation.py::test_reaction_annotation_wrong_ids[metanetx.reaction]\n",
      "FAILED ../../../../../usr/local/lib/python3.6/dist-packages/memote/suite/tests/test_annotation.py::test_reaction_annotation_wrong_ids[bigg.reaction]\n",
      "FAILED ../../../../../usr/local/lib/python3.6/dist-packages/memote/suite/tests/test_annotation.py::test_reaction_annotation_wrong_ids[reactome]\n",
      "FAILED ../../../../../usr/local/lib/python3.6/dist-packages/memote/suite/tests/test_annotation.py::test_reaction_annotation_wrong_ids[ec-code]\n",
      "FAILED ../../../../../usr/local/lib/python3.6/dist-packages/memote/suite/tests/test_annotation.py::test_reaction_annotation_wrong_ids[brenda]\n",
      "FAILED ../../../../../usr/local/lib/python3.6/dist-packages/memote/suite/tests/test_annotation.py::test_reaction_annotation_wrong_ids[biocyc]\n",
      "FAILED ../../../../../usr/local/lib/python3.6/dist-packages/memote/suite/tests/test_annotation.py::test_gene_product_annotation_wrong_ids[refseq]\n",
      "FAILED ../../../../../usr/local/lib/python3.6/dist-packages/memote/suite/tests/test_annotation.py::test_gene_product_annotation_wrong_ids[uniprot]\n",
      "FAILED ../../../../../usr/local/lib/python3.6/dist-packages/memote/suite/tests/test_annotation.py::test_gene_product_annotation_wrong_ids[ecogene]\n",
      "FAILED ../../../../../usr/local/lib/python3.6/dist-packages/memote/suite/tests/test_annotation.py::test_gene_product_annotation_wrong_ids[kegg.genes]\n",
      "FAILED ../../../../../usr/local/lib/python3.6/dist-packages/memote/suite/tests/test_annotation.py::test_gene_product_annotation_wrong_ids[ncbigi]\n",
      "FAILED ../../../../../usr/local/lib/python3.6/dist-packages/memote/suite/tests/test_annotation.py::test_gene_product_annotation_wrong_ids[ncbigene]\n",
      "FAILED ../../../../../usr/local/lib/python3.6/dist-packages/memote/suite/tests/test_annotation.py::test_gene_product_annotation_wrong_ids[ncbiprotein]\n",
      "FAILED ../../../../../usr/local/lib/python3.6/dist-packages/memote/suite/tests/test_annotation.py::test_gene_product_annotation_wrong_ids[ccds]\n",
      "FAILED ../../../../../usr/local/lib/python3.6/dist-packages/memote/suite/tests/test_annotation.py::test_gene_product_annotation_wrong_ids[hprd]\n",
      "FAILED ../../../../../usr/local/lib/python3.6/dist-packages/memote/suite/tests/test_annotation.py::test_gene_product_annotation_wrong_ids[asap]\n",
      "FAILED ../../../../../usr/local/lib/python3.6/dist-packages/memote/suite/tests/test_basic.py::test_gene_protein_reaction_rule_presence\n",
      "FAILED ../../../../../usr/local/lib/python3.6/dist-packages/memote/suite/tests/test_basic.py::test_find_unique_metabolites\n",
      "FAILED ../../../../../usr/local/lib/python3.6/dist-packages/memote/suite/tests/test_basic.py::test_find_reactions_with_identical_genes\n",
      "FAILED ../../../../../usr/local/lib/python3.6/dist-packages/memote/suite/tests/test_basic.py::test_find_medium_metabolites\n",
      "FAILED ../../../../../usr/local/lib/python3.6/dist-packages/memote/suite/tests/test_biomass.py::test_biomass_consistency[Growth]\n",
      "FAILED ../../../../../usr/local/lib/python3.6/dist-packages/memote/suite/tests/test_biomass.py::test_fast_growth_default[Growth]\n",
      "FAILED ../../../../../usr/local/lib/python3.6/dist-packages/memote/suite/tests/test_biomass.py::test_essential_precursors_not_in_biomass[Growth]\n",
      "FAILED ../../../../../usr/local/lib/python3.6/dist-packages/memote/suite/tests/test_consistency.py::test_reaction_mass_balance\n",
      "FAILED ../../../../../usr/local/lib/python3.6/dist-packages/memote/suite/tests/test_consistency.py::test_blocked_reactions\n",
      "FAILED ../../../../../usr/local/lib/python3.6/dist-packages/memote/suite/tests/test_consistency.py::test_find_stoichiometrically_balanced_cycles\n",
      "FAILED ../../../../../usr/local/lib/python3.6/dist-packages/memote/suite/tests/test_consistency.py::test_find_orphans\n",
      "FAILED ../../../../../usr/local/lib/python3.6/dist-packages/memote/suite/tests/test_consistency.py::test_find_deadends\n",
      "FAILED ../../../../../usr/local/lib/python3.6/dist-packages/memote/suite/tests/test_consistency.py::test_find_reactions_unbounded_flux_default_condition\n",
      "FAILED ../../../../../usr/local/lib/python3.6/dist-packages/memote/suite/tests/test_sbo.py::test_biomass_specific_sbo_presence\n",
      "FAILED ../../../../../usr/local/lib/python3.6/dist-packages/memote/suite/tests/test_thermodynamics.py::test_find_candidate_irreversible_reactions\n",
      "\u001b[31m============ \u001b[31m\u001b[1m78 failed\u001b[0m, \u001b[32m44 passed\u001b[0m, \u001b[33m23 skipped\u001b[0m, \u001b[33m3 warnings\u001b[0m\u001b[31m in 46.51s\u001b[0m\u001b[31m ============\u001b[0m\n",
      "Writing snapshot report to 'Marinobacter-adhaerens-HP15-LB.html'.\n",
      "CPU times: user 1.06 s, sys: 197 ms, total: 1.26 s\n",
      "Wall time: 1min 5s\n"
     ]
    }
   ],
   "source": [
    "%%time\n",
    "!memote report snapshot --skip test_stoichiometric_consistency \\\n",
    "    --skip test_find_metabolites_not_produced_with_open_bounds \\\n",
    "    --skip test_find_metabolites_not_consumed_with_open_bounds Marinobacter-adhaerens-HP15-LB.xml --filename Marinobacter-adhaerens-HP15-LB.html"
   ]
  },
  {
   "cell_type": "markdown",
   "metadata": {},
   "source": [
    "***\n",
    "**D.**\n",
    "Upload three models that you found in literature and test them with memote. Compare how different quality metrics vary between those models and also the model that you constructed with carveme."
   ]
  },
  {
   "cell_type": "code",
   "execution_count": null,
   "metadata": {},
   "outputs": [],
   "source": []
  }
 ],
 "metadata": {
  "kernelspec": {
   "display_name": "python3.6",
   "language": "python",
   "name": "python3.6"
  },
  "language_info": {
   "codemirror_mode": {
    "name": "ipython",
    "version": 3
   },
   "file_extension": ".py",
   "mimetype": "text/x-python",
   "name": "python",
   "nbconvert_exporter": "python",
   "pygments_lexer": "ipython3",
   "version": "3.6.12"
  }
 },
 "nbformat": 4,
 "nbformat_minor": 4
}
