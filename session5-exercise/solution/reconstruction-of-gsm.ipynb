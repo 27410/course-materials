{
 "cells": [
  {
   "cell_type": "markdown",
   "metadata": {},
   "source": [
    "# Reconstruction of genome-scale metabolic models"
   ]
  },
  {
   "cell_type": "markdown",
   "metadata": {},
   "source": [
    "In the following exercise you are going to:\n",
    "\n",
    "* Reconstruct a draft of a genome-scale metabolic model using [carveme](https://github.com/cdanielmachado/carveme).\n",
    "* Analyze its characteristics (number of reactions, metabolites and genes; predicted growth rate etc.).\n",
    "* Validate your model using [memote](https://memote.io/).\n",
    "* Validate You are going to validate 3 other models using memote and compare the results to you're model"
   ]
  },
  {
   "cell_type": "markdown",
   "metadata": {},
   "source": [
    "Before you start, make sure that the following returns a version 1.4.2. If it states 1.4.4., please open a command line terminal (the + icon in the top left) and run `python3.6 -m pip install optlang==1.4.4 --upgrade`"
   ]
  },
  {
   "cell_type": "code",
   "execution_count": 15,
   "metadata": {},
   "outputs": [
    {
     "data": {
      "text/plain": [
       "'1.4.4'"
      ]
     },
     "execution_count": 15,
     "metadata": {},
     "output_type": "execute_result"
    }
   ],
   "source": [
    "import optlang\n",
    "optlang.__version__"
   ]
  },
  {
   "cell_type": "markdown",
   "metadata": {},
   "source": [
    "***\n",
    "**A.**\n",
    "Use [carveme](https://github.com/cdanielmachado/carveme) to generate a draft reconstruction for a bacterium of your choice.\n",
    "\n",
    "For example,\n",
    "\n",
    "    carve --refseq GCF_000166295.1 --output Marinobacter-adhaerens-HP15.xml --gapfill LB --init LB\n",
    "\n",
    "will generate a GSM for the bacterium *Marinobacter adhaerens* HP15 by accessing its [sequence](https://www.ncbi.nlm.nih.gov/nuccore/NC_017506.1) on [RefSeq](https://www.ncbi.nlm.nih.gov/refseq/) (`GCF_000166295.1` is its RefSeq accession number). After \"carving\" out a model from the universal reaction model, carveme will gap-fill the model to be able to grow on rich medium (`--gapfil LB`) and initialize the final model with that medium (`--init LB`). The final model is writing to a file named `Marinobacter-adhaerens-HP15.xml` (`--output Marinobacter-adhaerens-HP15.xml`).\n",
    "\n",
    "Hints:\n",
    "* You can find carveme's documentation [here](https://carveme.readthedocs.io/en/latest/usage.html).\n",
    "* You can excecute command line commandos (e.g. `carve`) in Jupyter notebook by prepending them with a `!` here in a code cell."
   ]
  },
  {
   "cell_type": "markdown",
   "metadata": {},
   "source": [
    "As an example, let's reconstruct a draft GSM for [*Marinobacter adhaerens HP15*](https://www.ncbi.nlm.nih.gov/assembly/GCF_000166295.1) (this should take a few minutes)."
   ]
  },
  {
   "cell_type": "code",
   "execution_count": 9,
   "metadata": {},
   "outputs": [],
   "source": [
    "!carve --refseq GCF_000166295.1 --output Marinobacter-adhaerens-HP15-LB.xml --gapfill LB --init LB"
   ]
  },
  {
   "cell_type": "markdown",
   "metadata": {},
   "source": [
    "***\n",
    "**B.**\n",
    "\n",
    "* How many reactions, metabolites and genes does the model contain?\n",
    "* What is the percentage of genes covered \n",
    "* How fast does your model/organism grow?\n",
    "\n",
    "Hints:\n",
    "* You can use `cobra.io.read_sbml_model` to load your model (see also previous exercise)\n",
    "* Reactions, metabolites and genes are accessible via `model.reactions`, `model.metabolites` and `model.genes` (see also previous exercise).\n",
    "* You can simulate the model by running model.optimize() (the objective value corresponds to $\\mu_{max}$)\n",
    "* What is the predicted growth rate if you gap-fill the model based on a minimal M9 glucose medium (`M9` instead of `LB`)"
   ]
  },
  {
   "cell_type": "code",
   "execution_count": 10,
   "metadata": {},
   "outputs": [],
   "source": [
    "from cobra.io import read_sbml_model"
   ]
  },
  {
   "cell_type": "code",
   "execution_count": 11,
   "metadata": {},
   "outputs": [],
   "source": [
    "model = read_sbml_model('Marinobacter-adhaerens-HP15-LB.xml')"
   ]
  },
  {
   "cell_type": "markdown",
   "metadata": {},
   "source": [
    "The model includes 1089 genes."
   ]
  },
  {
   "cell_type": "code",
   "execution_count": 12,
   "metadata": {},
   "outputs": [
    {
     "data": {
      "text/plain": [
       "1089"
      ]
     },
     "execution_count": 12,
     "metadata": {},
     "output_type": "execute_result"
    }
   ],
   "source": [
    "len(model.genes)"
   ]
  },
  {
   "cell_type": "markdown",
   "metadata": {},
   "source": [
    "That accounts for roughly 26% of genes in the organism's genome (4,197 coding genes in total as can be seen on genome's [summary page](https://www.ncbi.nlm.nih.gov/nuccore/NC_017506.1))."
   ]
  },
  {
   "cell_type": "code",
   "execution_count": 6,
   "metadata": {},
   "outputs": [
    {
     "data": {
      "text/plain": [
       "25.94710507505361"
      ]
     },
     "execution_count": 6,
     "metadata": {},
     "output_type": "execute_result"
    }
   ],
   "source": [
    "(len(model.genes) / 4197) * 100"
   ]
  },
  {
   "cell_type": "code",
   "execution_count": 7,
   "metadata": {},
   "outputs": [
    {
     "data": {
      "text/plain": [
       "{'EX_glc__D_e': 10.0,\n",
       " 'EX_h2o_e': 10.0,\n",
       " 'EX_h_e': 10.0,\n",
       " 'EX_leu__L_e': 10.0,\n",
       " 'EX_ala__L_e': 10.0,\n",
       " 'EX_cl_e': 10.0,\n",
       " 'EX_pi_e': 10.0,\n",
       " 'EX_nh4_e': 10.0,\n",
       " 'EX_gly_e': 10.0,\n",
       " 'EX_ser__L_e': 10.0,\n",
       " 'EX_thr__L_e': 10.0,\n",
       " 'EX_arg__L_e': 10.0,\n",
       " 'EX_fe3_e': 10.0,\n",
       " 'EX_lys__L_e': 10.0,\n",
       " 'EX_asp__L_e': 10.0,\n",
       " 'EX_aso3_e': 10.0,\n",
       " 'EX_k_e': 10.0,\n",
       " 'EX_pro__L_e': 10.0,\n",
       " 'EX_ca2_e': 10.0,\n",
       " 'EX_mg2_e': 10.0,\n",
       " 'EX_mn2_e': 10.0,\n",
       " 'EX_cobalt2_e': 10.0,\n",
       " 'EX_zn2_e': 10.0,\n",
       " 'EX_cu2_e': 10.0,\n",
       " 'EX_o2_e': 10.0,\n",
       " 'EX_glu__L_e': 10.0,\n",
       " 'EX_fe2_e': 10.0,\n",
       " 'EX_h2s_e': 10.0,\n",
       " 'EX_pheme_e': 10.0,\n",
       " 'EX_his__L_e': 10.0,\n",
       " 'EX_hxan_e': 10.0,\n",
       " 'EX_ile__L_e': 10.0,\n",
       " 'EX_met__L_e': 10.0,\n",
       " 'EX_mobd_e': 10.0,\n",
       " 'EX_so4_e': 10.0,\n",
       " 'EX_val__L_e': 10.0,\n",
       " 'EX_thm_e': 10.0,\n",
       " 'EX_ura_e': 10.0}"
      ]
     },
     "execution_count": 7,
     "metadata": {},
     "output_type": "execute_result"
    }
   ],
   "source": [
    "model.medium"
   ]
  },
  {
   "cell_type": "code",
   "execution_count": 8,
   "metadata": {},
   "outputs": [
    {
     "data": {
      "text/html": [
       "<strong><em>Optimal</em> solution with objective value 1.320</strong><br><div>\n",
       "<style scoped>\n",
       "    .dataframe tbody tr th:only-of-type {\n",
       "        vertical-align: middle;\n",
       "    }\n",
       "\n",
       "    .dataframe tbody tr th {\n",
       "        vertical-align: top;\n",
       "    }\n",
       "\n",
       "    .dataframe thead th {\n",
       "        text-align: right;\n",
       "    }\n",
       "</style>\n",
       "<table border=\"1\" class=\"dataframe\">\n",
       "  <thead>\n",
       "    <tr style=\"text-align: right;\">\n",
       "      <th></th>\n",
       "      <th>fluxes</th>\n",
       "      <th>reduced_costs</th>\n",
       "    </tr>\n",
       "  </thead>\n",
       "  <tbody>\n",
       "    <tr>\n",
       "      <th>1PPDCRc</th>\n",
       "      <td>0.000128</td>\n",
       "      <td>-1.387779e-17</td>\n",
       "    </tr>\n",
       "    <tr>\n",
       "      <th>2AGPE120tipp</th>\n",
       "      <td>0.000000</td>\n",
       "      <td>0.000000e+00</td>\n",
       "    </tr>\n",
       "    <tr>\n",
       "      <th>2AGPE140tipp</th>\n",
       "      <td>0.000000</td>\n",
       "      <td>-7.819936e-02</td>\n",
       "    </tr>\n",
       "    <tr>\n",
       "      <th>2AGPE141tipp</th>\n",
       "      <td>0.000000</td>\n",
       "      <td>-5.604288e-02</td>\n",
       "    </tr>\n",
       "    <tr>\n",
       "      <th>2AGPE160tipp</th>\n",
       "      <td>0.000000</td>\n",
       "      <td>0.000000e+00</td>\n",
       "    </tr>\n",
       "    <tr>\n",
       "      <th>...</th>\n",
       "      <td>...</td>\n",
       "      <td>...</td>\n",
       "    </tr>\n",
       "    <tr>\n",
       "      <th>sink_hemeO_c</th>\n",
       "      <td>-0.000000</td>\n",
       "      <td>0.000000e+00</td>\n",
       "    </tr>\n",
       "    <tr>\n",
       "      <th>sink_lipopb_c</th>\n",
       "      <td>-0.000000</td>\n",
       "      <td>0.000000e+00</td>\n",
       "    </tr>\n",
       "    <tr>\n",
       "      <th>sink_sheme_c</th>\n",
       "      <td>-0.000000</td>\n",
       "      <td>0.000000e+00</td>\n",
       "    </tr>\n",
       "    <tr>\n",
       "      <th>Growth</th>\n",
       "      <td>1.319614</td>\n",
       "      <td>-3.330669e-15</td>\n",
       "    </tr>\n",
       "    <tr>\n",
       "      <th>ATPM</th>\n",
       "      <td>0.000000</td>\n",
       "      <td>-2.606645e-02</td>\n",
       "    </tr>\n",
       "  </tbody>\n",
       "</table>\n",
       "<p>1868 rows × 2 columns</p>\n",
       "</div>"
      ],
      "text/plain": [
       "<Solution 1.320 at 0x139709ef0>"
      ]
     },
     "execution_count": 8,
     "metadata": {},
     "output_type": "execute_result"
    }
   ],
   "source": [
    "model.optimize()"
   ]
  },
  {
   "cell_type": "code",
   "execution_count": null,
   "metadata": {},
   "outputs": [],
   "source": [
    "!carve --refseq GCF_000166295.1 --output Marinobacter-adhaerens-HP15-M9.xml --gapfill M9 --init M9"
   ]
  },
  {
   "cell_type": "markdown",
   "metadata": {},
   "source": [
    "***\n",
    "**C.**\n",
    "\n",
    "You can generate a report for a model by running \n",
    "\n",
    "    memote report snapshot model.xml\n",
    "\n",
    "This will take a few minutes (depending on your model's size) an generate a file called `index.html` that contains the report.\n",
    "\n",
    "Hints:\n",
    "* "
   ]
  },
  {
   "cell_type": "code",
   "execution_count": 16,
   "metadata": {},
   "outputs": [
    {
     "name": "stdout",
     "output_type": "stream",
     "text": [
      "pyenv: memote: command not found\n",
      "\n",
      "The `memote' command exists in these Python versions:\n",
      "  27410-course-materials\n",
      "  3.6.11/envs/27410-course-materials\n",
      "\n",
      "Note: See 'pyenv help global' for tips on allowing both\n",
      "      python2 and python3 to be found.\n",
      "CPU times: user 4.48 ms, sys: 9.65 ms, total: 14.1 ms\n",
      "Wall time: 226 ms\n"
     ]
    }
   ],
   "source": [
    "%%time\n",
    "!memote report snapshot --skip test_stoichiometric_consistency --skip test_find_metabolites_not_produced_with_open_bounds --skip test_find_metabolites_not_consumed_with_open_bounds Marinobacter-adhaerens-HP15-LB.xml"
   ]
  },
  {
   "cell_type": "code",
   "execution_count": null,
   "metadata": {},
   "outputs": [],
   "source": []
  }
 ],
 "metadata": {
  "kernelspec": {
   "display_name": "python3.6",
   "language": "python",
   "name": "python3.6"
  },
  "language_info": {
   "codemirror_mode": {
    "name": "ipython",
    "version": 3
   },
   "file_extension": ".py",
   "mimetype": "text/x-python",
   "name": "python",
   "nbconvert_exporter": "python",
   "pygments_lexer": "ipython3",
   "version": "3.6.11"
  }
 },
 "nbformat": 4,
 "nbformat_minor": 4
}
