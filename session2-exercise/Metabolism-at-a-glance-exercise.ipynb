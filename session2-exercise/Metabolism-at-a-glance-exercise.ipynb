{
 "cells": [
  {
   "cell_type": "markdown",
   "source": [
    "# Metabolism at a glance - Exercises"
   ],
   "metadata": {}
  },
  {
   "cell_type": "code",
   "execution_count": 3,
   "source": [
    "%matplotlib inline\n",
    "import matplotlib.pyplot as plt\n",
    "import pandas as pd\n",
    "import scipy\n",
    "import numpy"
   ],
   "outputs": [],
   "metadata": {}
  },
  {
   "cell_type": "markdown",
   "source": [
    "Hint: Use page 76 and forward in Villadsen et al\n",
    "An average biomass elemental composition of CH1.8O0.5N0.2 may be used"
   ],
   "metadata": {}
  },
  {
   "cell_type": "markdown",
   "source": [
    "## Batch data analysis"
   ],
   "metadata": {}
  },
  {
   "cell_type": "markdown",
   "source": [
    "A yeast strain was cultivated in batch culture under anaerobic conditions and samples were analyzed for the dry weight, glucose, ethanol and glycerol concentrations."
   ],
   "metadata": {}
  },
  {
   "cell_type": "markdown",
   "source": [
    "Let's read the file using pandas."
   ],
   "metadata": {}
  },
  {
   "cell_type": "code",
   "execution_count": 5,
   "source": [
    "batch_data = pd.read_csv(\"data/batch-data-analysis-data.csv\")\n",
    "batch_data"
   ],
   "outputs": [
    {
     "output_type": "execute_result",
     "data": {
      "text/html": [
       "<div>\n",
       "<style scoped>\n",
       "    .dataframe tbody tr th:only-of-type {\n",
       "        vertical-align: middle;\n",
       "    }\n",
       "\n",
       "    .dataframe tbody tr th {\n",
       "        vertical-align: top;\n",
       "    }\n",
       "\n",
       "    .dataframe thead th {\n",
       "        text-align: right;\n",
       "    }\n",
       "</style>\n",
       "<table border=\"1\" class=\"dataframe\">\n",
       "  <thead>\n",
       "    <tr style=\"text-align: right;\">\n",
       "      <th></th>\n",
       "      <th>time [h]</th>\n",
       "      <th>biomass [DW g/l]</th>\n",
       "      <th>glucose [g/l]</th>\n",
       "      <th>ethanol [g/l]</th>\n",
       "      <th>glycerol [g/l]</th>\n",
       "    </tr>\n",
       "  </thead>\n",
       "  <tbody>\n",
       "    <tr>\n",
       "      <th>0</th>\n",
       "      <td>0.00</td>\n",
       "      <td>0.0068</td>\n",
       "      <td>NaN</td>\n",
       "      <td>NaN</td>\n",
       "      <td>NaN</td>\n",
       "    </tr>\n",
       "    <tr>\n",
       "      <th>1</th>\n",
       "      <td>0.50</td>\n",
       "      <td>0.0100</td>\n",
       "      <td>20.02</td>\n",
       "      <td>0.00</td>\n",
       "      <td>0.01</td>\n",
       "    </tr>\n",
       "    <tr>\n",
       "      <th>2</th>\n",
       "      <td>2.42</td>\n",
       "      <td>0.0150</td>\n",
       "      <td>20.09</td>\n",
       "      <td>0.02</td>\n",
       "      <td>0.02</td>\n",
       "    </tr>\n",
       "    <tr>\n",
       "      <th>3</th>\n",
       "      <td>4.50</td>\n",
       "      <td>0.0190</td>\n",
       "      <td>20.00</td>\n",
       "      <td>0.03</td>\n",
       "      <td>0.02</td>\n",
       "    </tr>\n",
       "    <tr>\n",
       "      <th>4</th>\n",
       "      <td>6.34</td>\n",
       "      <td>0.0286</td>\n",
       "      <td>19.68</td>\n",
       "      <td>0.04</td>\n",
       "      <td>0.05</td>\n",
       "    </tr>\n",
       "    <tr>\n",
       "      <th>5</th>\n",
       "      <td>9.25</td>\n",
       "      <td>0.0608</td>\n",
       "      <td>19.47</td>\n",
       "      <td>0.17</td>\n",
       "      <td>0.15</td>\n",
       "    </tr>\n",
       "    <tr>\n",
       "      <th>6</th>\n",
       "      <td>11.34</td>\n",
       "      <td>0.1100</td>\n",
       "      <td>19.21</td>\n",
       "      <td>0.31</td>\n",
       "      <td>0.32</td>\n",
       "    </tr>\n",
       "    <tr>\n",
       "      <th>7</th>\n",
       "      <td>14.17</td>\n",
       "      <td>0.2300</td>\n",
       "      <td>18.12</td>\n",
       "      <td>0.68</td>\n",
       "      <td>0.36</td>\n",
       "    </tr>\n",
       "    <tr>\n",
       "      <th>8</th>\n",
       "      <td>17.17</td>\n",
       "      <td>0.4920</td>\n",
       "      <td>15.47</td>\n",
       "      <td>1.55</td>\n",
       "      <td>0.73</td>\n",
       "    </tr>\n",
       "    <tr>\n",
       "      <th>9</th>\n",
       "      <td>17.84</td>\n",
       "      <td>0.5560</td>\n",
       "      <td>14.34</td>\n",
       "      <td>1.96</td>\n",
       "      <td>0.82</td>\n",
       "    </tr>\n",
       "    <tr>\n",
       "      <th>10</th>\n",
       "      <td>19.50</td>\n",
       "      <td>0.8260</td>\n",
       "      <td>11.90</td>\n",
       "      <td>2.84</td>\n",
       "      <td>1.10</td>\n",
       "    </tr>\n",
       "    <tr>\n",
       "      <th>11</th>\n",
       "      <td>25.17</td>\n",
       "      <td>1.8900</td>\n",
       "      <td>0.14</td>\n",
       "      <td>7.00</td>\n",
       "      <td>2.19</td>\n",
       "    </tr>\n",
       "    <tr>\n",
       "      <th>12</th>\n",
       "      <td>28.59</td>\n",
       "      <td>1.9000</td>\n",
       "      <td>0.00</td>\n",
       "      <td>6.99</td>\n",
       "      <td>2.18</td>\n",
       "    </tr>\n",
       "  </tbody>\n",
       "</table>\n",
       "</div>"
      ],
      "text/plain": [
       "    time [h]  biomass [DW g/l]  glucose [g/l]  ethanol [g/l]  glycerol [g/l]\n",
       "0       0.00            0.0068            NaN            NaN             NaN\n",
       "1       0.50            0.0100          20.02           0.00            0.01\n",
       "2       2.42            0.0150          20.09           0.02            0.02\n",
       "3       4.50            0.0190          20.00           0.03            0.02\n",
       "4       6.34            0.0286          19.68           0.04            0.05\n",
       "5       9.25            0.0608          19.47           0.17            0.15\n",
       "6      11.34            0.1100          19.21           0.31            0.32\n",
       "7      14.17            0.2300          18.12           0.68            0.36\n",
       "8      17.17            0.4920          15.47           1.55            0.73\n",
       "9      17.84            0.5560          14.34           1.96            0.82\n",
       "10     19.50            0.8260          11.90           2.84            1.10\n",
       "11     25.17            1.8900           0.14           7.00            2.19\n",
       "12     28.59            1.9000           0.00           6.99            2.18"
      ]
     },
     "metadata": {},
     "execution_count": 5
    }
   ],
   "metadata": {}
  },
  {
   "cell_type": "markdown",
   "source": [
    "### a)"
   ],
   "metadata": {}
  },
  {
   "cell_type": "markdown",
   "source": [
    "Plot the data, find the region with the exponential growth and find $μ_{max}$.\n",
    "Hints: you could use [https://docs.scipy.org/doc/scipy/reference/generated/scipy.optimize.curve_fit.html]() for example to fit a function to the data. You will have to define a Python function for that purpose (either using `def` or `lambda`). You can take a look at [https://data-science-for-biotech.github.io/python-novice-inflammation/08-func/index.html]() in case you have never defined a Python function before. If this is too tough, you could resort to Excel to determine $mu_{max}$ or estimate it by eye (using a logarithmic plot)."
   ],
   "metadata": {}
  },
  {
   "cell_type": "code",
   "execution_count": 6,
   "source": [
    "batch_data.plot(x='time [h]', style='.-');"
   ],
   "outputs": [
    {
     "output_type": "display_data",
     "data": {
      "image/png": "[encoded data removed]",
      "text/plain": [
       "<Figure size 432x288 with 1 Axes>"
      ]
     },
     "metadata": {
      "needs_background": "light"
     }
    }
   ],
   "metadata": {}
  },
  {
   "cell_type": "markdown",
   "source": [
    "### b) "
   ],
   "metadata": {}
  },
  {
   "cell_type": "markdown",
   "source": [
    "During exponential growth the yield coefficients should be constant. Prove it by plotting. Calculate the yield coefficients for biomass, ethanol and glycerol on glucose (Ysx, Yse, and Ysg) in g/g and in Cmol/Cmol.\n",
    "Assume the generalized composition of the biomass: $CH_{1.8}O_{0.5}N_{0.2}$."
   ],
   "metadata": {}
  },
  {
   "cell_type": "markdown",
   "source": [
    "### c)"
   ],
   "metadata": {}
  },
  {
   "cell_type": "markdown",
   "source": [
    "Make a C balance and calculate the yield of CO2 on glucose ($Y_{sc}$)."
   ],
   "metadata": {}
  },
  {
   "cell_type": "markdown",
   "source": [
    "### d)"
   ],
   "metadata": {}
  },
  {
   "cell_type": "markdown",
   "source": [
    "Using the calculated μmax and yield coefficients, calculate the specific consumption rate for glucose ($r_s$) and specific production rates for ethanol, glycerol and CO2 ($r_e$, $r_g$, and $r_c$). Use units of C-mmol/g DW·h."
   ],
   "metadata": {}
  }
 ],
 "metadata": {
  "jupytext": {
   "encoding": "# -*- coding: utf-8 -*-"
  },
  "kernelspec": {
   "display_name": "Python 3",
   "language": "python",
   "name": "python3"
  },
  "language_info": {
   "codemirror_mode": {
    "name": "ipython",
    "version": 3
   },
   "file_extension": ".py",
   "mimetype": "text/x-python",
   "name": "python",
   "nbconvert_exporter": "python",
   "pygments_lexer": "ipython3",
   "version": "3.8.0"
  }
 },
 "nbformat": 4,
 "nbformat_minor": 4
}