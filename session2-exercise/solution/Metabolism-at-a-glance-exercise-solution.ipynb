{
 "cells": [
  {
   "cell_type": "markdown",
   "metadata": {},
   "source": [
    "# Metabolism at a glance - Exercises"
   ]
  },
  {
   "cell_type": "code",
   "execution_count": 33,
   "metadata": {},
   "outputs": [],
   "source": [
    "%matplotlib inline\n",
    "import matplotlib.pyplot as plt\n",
    "import pandas as pd\n",
    "import scipy\n",
    "import numpy"
   ]
  },
  {
   "cell_type": "markdown",
   "metadata": {},
   "source": [
    "Hint: Use page 76 and forward in Villadsen et al\n",
    "An average biomass elemental composition of CH1.8O0.5N0.2 may be used"
   ]
  },
  {
   "cell_type": "markdown",
   "metadata": {},
   "source": [
    "## Batch data analysis"
   ]
  },
  {
   "cell_type": "markdown",
   "metadata": {},
   "source": [
    "A yeast strain was cultivated in batch culture under anaerobic conditions and samples were analyzed for the dry weight, glucose, ethanol and glycerol concentrations."
   ]
  },
  {
   "cell_type": "markdown",
   "metadata": {},
   "source": [
    "Let's read the file using pandas (we're going to ignore the comment lines in the beginning)."
   ]
  },
  {
   "cell_type": "code",
   "execution_count": 34,
   "metadata": {},
   "outputs": [
    {
     "data": {
      "text/html": [
       "<div>\n",
       "<style scoped>\n",
       "    .dataframe tbody tr th:only-of-type {\n",
       "        vertical-align: middle;\n",
       "    }\n",
       "\n",
       "    .dataframe tbody tr th {\n",
       "        vertical-align: top;\n",
       "    }\n",
       "\n",
       "    .dataframe thead th {\n",
       "        text-align: right;\n",
       "    }\n",
       "</style>\n",
       "<table border=\"1\" class=\"dataframe\">\n",
       "  <thead>\n",
       "    <tr style=\"text-align: right;\">\n",
       "      <th></th>\n",
       "      <th>time [h]</th>\n",
       "      <th>biomass [DW g/l]</th>\n",
       "      <th>glucose [g/l]</th>\n",
       "      <th>ethanol [g/l]</th>\n",
       "      <th>glycerol [g/l]</th>\n",
       "    </tr>\n",
       "  </thead>\n",
       "  <tbody>\n",
       "    <tr>\n",
       "      <th>0</th>\n",
       "      <td>0.00</td>\n",
       "      <td>0.0068</td>\n",
       "      <td>NaN</td>\n",
       "      <td>NaN</td>\n",
       "      <td>NaN</td>\n",
       "    </tr>\n",
       "    <tr>\n",
       "      <th>1</th>\n",
       "      <td>0.50</td>\n",
       "      <td>0.0100</td>\n",
       "      <td>20.02</td>\n",
       "      <td>0.00</td>\n",
       "      <td>0.01</td>\n",
       "    </tr>\n",
       "    <tr>\n",
       "      <th>2</th>\n",
       "      <td>2.42</td>\n",
       "      <td>0.0150</td>\n",
       "      <td>20.09</td>\n",
       "      <td>0.02</td>\n",
       "      <td>0.02</td>\n",
       "    </tr>\n",
       "    <tr>\n",
       "      <th>3</th>\n",
       "      <td>4.50</td>\n",
       "      <td>0.0190</td>\n",
       "      <td>20.00</td>\n",
       "      <td>0.03</td>\n",
       "      <td>0.02</td>\n",
       "    </tr>\n",
       "    <tr>\n",
       "      <th>4</th>\n",
       "      <td>6.34</td>\n",
       "      <td>0.0286</td>\n",
       "      <td>19.68</td>\n",
       "      <td>0.04</td>\n",
       "      <td>0.05</td>\n",
       "    </tr>\n",
       "    <tr>\n",
       "      <th>5</th>\n",
       "      <td>9.25</td>\n",
       "      <td>0.0608</td>\n",
       "      <td>19.47</td>\n",
       "      <td>0.17</td>\n",
       "      <td>0.15</td>\n",
       "    </tr>\n",
       "    <tr>\n",
       "      <th>6</th>\n",
       "      <td>11.34</td>\n",
       "      <td>0.1100</td>\n",
       "      <td>19.21</td>\n",
       "      <td>0.31</td>\n",
       "      <td>0.32</td>\n",
       "    </tr>\n",
       "    <tr>\n",
       "      <th>7</th>\n",
       "      <td>14.17</td>\n",
       "      <td>0.2300</td>\n",
       "      <td>18.12</td>\n",
       "      <td>0.68</td>\n",
       "      <td>0.36</td>\n",
       "    </tr>\n",
       "    <tr>\n",
       "      <th>8</th>\n",
       "      <td>17.17</td>\n",
       "      <td>0.4920</td>\n",
       "      <td>15.47</td>\n",
       "      <td>1.55</td>\n",
       "      <td>0.73</td>\n",
       "    </tr>\n",
       "    <tr>\n",
       "      <th>9</th>\n",
       "      <td>17.84</td>\n",
       "      <td>0.5560</td>\n",
       "      <td>14.34</td>\n",
       "      <td>1.96</td>\n",
       "      <td>0.82</td>\n",
       "    </tr>\n",
       "    <tr>\n",
       "      <th>10</th>\n",
       "      <td>19.50</td>\n",
       "      <td>0.8260</td>\n",
       "      <td>11.90</td>\n",
       "      <td>2.84</td>\n",
       "      <td>1.10</td>\n",
       "    </tr>\n",
       "    <tr>\n",
       "      <th>11</th>\n",
       "      <td>25.17</td>\n",
       "      <td>1.8900</td>\n",
       "      <td>0.14</td>\n",
       "      <td>7.00</td>\n",
       "      <td>2.19</td>\n",
       "    </tr>\n",
       "    <tr>\n",
       "      <th>12</th>\n",
       "      <td>28.59</td>\n",
       "      <td>1.9000</td>\n",
       "      <td>0.00</td>\n",
       "      <td>6.99</td>\n",
       "      <td>2.18</td>\n",
       "    </tr>\n",
       "  </tbody>\n",
       "</table>\n",
       "</div>"
      ],
      "text/plain": [
       "    time [h]  biomass [DW g/l]  glucose [g/l]  ethanol [g/l]  glycerol [g/l]\n",
       "0       0.00            0.0068            NaN            NaN             NaN\n",
       "1       0.50            0.0100          20.02           0.00            0.01\n",
       "2       2.42            0.0150          20.09           0.02            0.02\n",
       "3       4.50            0.0190          20.00           0.03            0.02\n",
       "4       6.34            0.0286          19.68           0.04            0.05\n",
       "5       9.25            0.0608          19.47           0.17            0.15\n",
       "6      11.34            0.1100          19.21           0.31            0.32\n",
       "7      14.17            0.2300          18.12           0.68            0.36\n",
       "8      17.17            0.4920          15.47           1.55            0.73\n",
       "9      17.84            0.5560          14.34           1.96            0.82\n",
       "10     19.50            0.8260          11.90           2.84            1.10\n",
       "11     25.17            1.8900           0.14           7.00            2.19\n",
       "12     28.59            1.9000           0.00           6.99            2.18"
      ]
     },
     "execution_count": 34,
     "metadata": {},
     "output_type": "execute_result"
    }
   ],
   "source": [
    "batch_data = pd.read_csv(\"data/batch-data-analysis-data.csv\")\n",
    "batch_data"
   ]
  },
  {
   "cell_type": "markdown",
   "metadata": {},
   "source": [
    "### a)"
   ]
  },
  {
   "cell_type": "markdown",
   "metadata": {},
   "source": [
    "Plot the data, find the region with the exponential growth and find $μ_{max}$"
   ]
  },
  {
   "cell_type": "code",
   "execution_count": 35,
   "metadata": {},
   "outputs": [
    {
     "data": {
      "image/png": "[encoded data removed]",
      "text/plain": [
       "<Figure size 432x288 with 1 Axes>"
      ]
     },
     "metadata": {
      "needs_background": "light"
     },
     "output_type": "display_data"
    }
   ],
   "source": [
    "batch_data.plot(x='time [h]', style='.-');"
   ]
  },
  {
   "cell_type": "code",
   "execution_count": 36,
   "metadata": {},
   "outputs": [
    {
     "data": {
      "image/png": "[encoded data removed]",
      "text/plain": [
       "<Figure size 432x288 with 1 Axes>"
      ]
     },
     "metadata": {
      "needs_background": "light"
     },
     "output_type": "display_data"
    }
   ],
   "source": [
    "batch_data.plot(x='time [h]', logy=True, style='.-');"
   ]
  },
  {
   "cell_type": "code",
   "execution_count": 37,
   "metadata": {},
   "outputs": [
    {
     "data": {
      "image/png": "[encoded data removed]",
      "text/plain": [
       "<Figure size 432x288 with 1 Axes>"
      ]
     },
     "metadata": {
      "needs_background": "light"
     },
     "output_type": "display_data"
    }
   ],
   "source": [
    "fig = batch_data.plot(x='time [h]', y='biomass [DW g/l]', logy=True, style='.-');"
   ]
  },
  {
   "cell_type": "markdown",
   "metadata": {},
   "source": [
    "Let's use scipy to fit an expontial function to the data $f = a e^{\\mu_{max} t}$. https://docs.scipy.org/doc/scipy/reference/generated/scipy.optimize.curve_fit.html"
   ]
  },
  {
   "cell_type": "code",
   "execution_count": 38,
   "metadata": {},
   "outputs": [],
   "source": [
    "from scipy.optimize import curve_fit"
   ]
  },
  {
   "cell_type": "code",
   "execution_count": 39,
   "metadata": {},
   "outputs": [],
   "source": [
    "func = lambda t, a, mu_max: a*numpy.exp(mu_max*t)"
   ]
  },
  {
   "cell_type": "markdown",
   "metadata": {},
   "source": [
    "Through visual inspection, rows 5-11 (4-10 using Python indexing) should provide a suitable range for curve fitting."
   ]
  },
  {
   "cell_type": "code",
   "execution_count": 40,
   "metadata": {},
   "outputs": [],
   "source": [
    "exp_time_points = batch_data.loc[4:10, 'time [h]']\n",
    "exp_phase_biomass = batch_data.loc[4:10, 'biomass [DW g/l]']"
   ]
  },
  {
   "cell_type": "code",
   "execution_count": 41,
   "metadata": {},
   "outputs": [],
   "source": [
    "popt, pcov = curve_fit(func, exp_time_points, exp_phase_biomass)"
   ]
  },
  {
   "cell_type": "markdown",
   "metadata": {},
   "source": [
    "Here the fitted parameters."
   ]
  },
  {
   "cell_type": "code",
   "execution_count": 42,
   "metadata": {},
   "outputs": [
    {
     "data": {
      "text/plain": [
       "array([0.00760486, 0.24078499])"
      ]
     },
     "execution_count": 42,
     "metadata": {},
     "output_type": "execute_result"
    }
   ],
   "source": [
    "popt"
   ]
  },
  {
   "cell_type": "markdown",
   "metadata": {},
   "source": [
    "$a = 0.0076$ and $\\mu_{max} = 0.24$"
   ]
  },
  {
   "cell_type": "code",
   "execution_count": 43,
   "metadata": {},
   "outputs": [],
   "source": [
    "intercept, mu_max = popt"
   ]
  },
  {
   "cell_type": "markdown",
   "metadata": {},
   "source": [
    "Let's inspect the fitted curve using plots."
   ]
  },
  {
   "cell_type": "code",
   "execution_count": 44,
   "metadata": {},
   "outputs": [
    {
     "data": {
      "image/png": "[encoded data removed]",
      "text/plain": [
       "<Figure size 432x288 with 1 Axes>"
      ]
     },
     "metadata": {
      "needs_background": "light"
     },
     "output_type": "display_data"
    }
   ],
   "source": [
    "fig, ax = plt.subplots()\n",
    "batch_data.plot(x='time [h]', y='biomass [DW g/l]', logy=True, ax=ax, style='.-');\n",
    "ax.plot(exp_time_points, func(exp_time_points, *popt), 'r-', label=\"Fitted Curve\")\n",
    "ax.legend();"
   ]
  },
  {
   "cell_type": "code",
   "execution_count": 45,
   "metadata": {},
   "outputs": [
    {
     "data": {
      "image/png": "[encoded data removed]",
      "text/plain": [
       "<Figure size 432x288 with 1 Axes>"
      ]
     },
     "metadata": {
      "needs_background": "light"
     },
     "output_type": "display_data"
    }
   ],
   "source": [
    "fig, ax = plt.subplots()\n",
    "batch_data.plot(x='time [h]', y='biomass [DW g/l]', ax=ax, style='.-');\n",
    "ax.plot(exp_time_points, func(exp_time_points, *popt), 'r-', label=\"Fitted Curve\")\n",
    "ax.legend();"
   ]
  },
  {
   "cell_type": "markdown",
   "metadata": {},
   "source": [
    "### b) "
   ]
  },
  {
   "cell_type": "markdown",
   "metadata": {},
   "source": [
    "During exponential growth the yield coefficients should be constant. Prove it by plotting. Calculate the yield coefficients for biomass, ethanol and glycerol on glucose (Ysx, Yse, and Ysg) in g/g and in Cmol/Cmol.\n",
    "Assume the generalized composition of the biomass: $CH_{1.8}O_{0.5}N_{0.2}$."
   ]
  },
  {
   "cell_type": "code",
   "execution_count": 46,
   "metadata": {},
   "outputs": [
    {
     "data": {
      "image/png": "[encoded data removed]",
      "text/plain": [
       "<Figure size 432x288 with 1 Axes>"
      ]
     },
     "metadata": {
      "needs_background": "light"
     },
     "output_type": "display_data"
    }
   ],
   "source": [
    "batch_data.iloc[4:10, 1:].plot(x='glucose [g/l]', style='.-');"
   ]
  },
  {
   "cell_type": "markdown",
   "metadata": {},
   "source": [
    "The plots of concentrations of biomass, ethanol and glycerol against glucose are linear in the exponential growth phase, proving that the yield coefficients are constant."
   ]
  },
  {
   "cell_type": "markdown",
   "metadata": {},
   "source": [
    "Let's fit linear models to obtain the slopes/yield coefficients. This time we're going to use scikit-learn (which should come pre-installed with Anaconda) but ."
   ]
  },
  {
   "cell_type": "code",
   "execution_count": 47,
   "metadata": {},
   "outputs": [],
   "source": [
    "from sklearn import linear_model\n",
    "from sklearn.metrics import mean_squared_error, r2_score"
   ]
  },
  {
   "cell_type": "code",
   "execution_count": 48,
   "metadata": {},
   "outputs": [],
   "source": [
    "df = batch_data[4:10] # again, let's use only the data points of the exponential growth phase"
   ]
  },
  {
   "cell_type": "code",
   "execution_count": 49,
   "metadata": {},
   "outputs": [
    {
     "name": "stdout",
     "output_type": "stream",
     "text": [
      "biomass [DW g/l] 2.0063513326697957 * y -0.09935749361199336; r2 = 0.9901882229397242; MSE = 0.0004201557854267896\n",
      "ethanol [g/l] 6.957147291815009 * y -0.34841362076291327; r2 = 0.9976523894280985; MSE = 0.0012269199751399817\n",
      "glycerol [g/l] 2.756361309924547 * y -0.13273278633500124; r2 = 0.9495606098019909; MSE = 0.0040195990705296815\n"
     ]
    },
    {
     "data": {
      "image/png": "[encoded data removed]",
      "text/plain": [
       "<Figure size 432x288 with 1 Axes>"
      ]
     },
     "metadata": {
      "needs_background": "light"
     },
     "output_type": "display_data"
    }
   ],
   "source": [
    "yields = dict() # store the fitted yield coefficients\n",
    "colors = ('red', 'blue', 'orange') # colors for the plots\n",
    "for i, var in enumerate(['biomass [DW g/l]', 'ethanol [g/l]', 'glycerol [g/l]']):\n",
    "    reg = linear_model.LinearRegression()\n",
    "    reg.fit(df[['glucose [g/l]']], df[var])\n",
    "    predicted = reg.predict(df[['glucose [g/l]']])\n",
    "    slope = reg.coef_[0]\n",
    "    intercept = reg.intercept_\n",
    "    yields[var.split(\" \")[0]] = -1 * slope # store the result\n",
    "    r2 = r2_score(df[var], predicted)\n",
    "    mse = mean_squared_error(df[var], predicted)\n",
    "    print(var, f'{intercept} * y {slope}; r2 = {r2}; MSE = {mse}')\n",
    "    # plot the fitted lines\n",
    "    plt.scatter(df[['glucose [g/l]']], df[var],  color=colors[i])\n",
    "    plt.plot(df[['glucose [g/l]']], predicted, color=colors[i], linewidth=3, label=var)\n",
    "    plt.legend()\n",
    "    plt.xlabel('glucose [g/l]')\n",
    "    plt.ylabel('biomass/ethanol/glycerol [g/l]')"
   ]
  },
  {
   "cell_type": "code",
   "execution_count": 50,
   "metadata": {},
   "outputs": [
    {
     "data": {
      "text/plain": [
       "{'biomass': 0.09935749361199336,\n",
       " 'ethanol': 0.34841362076291327,\n",
       " 'glycerol': 0.13273278633500124}"
      ]
     },
     "execution_count": 50,
     "metadata": {},
     "output_type": "execute_result"
    }
   ],
   "source": [
    "yields"
   ]
  },
  {
   "cell_type": "markdown",
   "metadata": {},
   "source": [
    "$Y_{sx}$ = 0.098 g DW/g glucose, $Y_{se}$ = 0.347 g ethanol/g glucose, $Y_{sg}$ = 0.12 g glycerol/g glucose."
   ]
  },
  {
   "cell_type": "markdown",
   "metadata": {},
   "source": [
    "Converting into Cmol:"
   ]
  },
  {
   "cell_type": "code",
   "execution_count": 51,
   "metadata": {},
   "outputs": [],
   "source": [
    "yields_cmol = dict()\n",
    "yields_cmol['biomass'] = yields['biomass'] * (30/24.6) # (30 gGLC/CmolGLC) / (24.6 g gDW/CmolDW)\n",
    "yields_cmol['ethanol'] = yields['ethanol'] * (30/23) # (30 gGLC/CmolGLC) / (23 gETH/CmolETH)\n",
    "yields_cmol['glycerol'] = yields['glycerol'] * (30/30.67) # (30 gGLC/CmolGLC) / (30.67 gGLYC/CmolGLYC)"
   ]
  },
  {
   "cell_type": "code",
   "execution_count": 52,
   "metadata": {},
   "outputs": [
    {
     "data": {
      "text/plain": [
       "{'biomass': 0.12116767513657727,\n",
       " 'ethanol': 0.45445254882119124,\n",
       " 'glycerol': 0.12983317867786232}"
      ]
     },
     "execution_count": 52,
     "metadata": {},
     "output_type": "execute_result"
    }
   ],
   "source": [
    "yields_cmol"
   ]
  },
  {
   "cell_type": "markdown",
   "metadata": {},
   "source": [
    "### c)"
   ]
  },
  {
   "cell_type": "markdown",
   "metadata": {},
   "source": [
    "Make a C balance and calculate the yield of CO2 on glucose ($Y_{sc}$)."
   ]
  },
  {
   "cell_type": "markdown",
   "metadata": {},
   "source": [
    "Since glucose is the only carbon source, all yields should add up to one ($Y_{sx} + Y_{se} + Y_{sg} + Y_{sc} = 1$)."
   ]
  },
  {
   "cell_type": "code",
   "execution_count": 53,
   "metadata": {},
   "outputs": [
    {
     "data": {
      "text/plain": [
       "0.29454659736436917"
      ]
     },
     "execution_count": 53,
     "metadata": {},
     "output_type": "execute_result"
    }
   ],
   "source": [
    "co2_yield_cmol = 1 - yields_cmol['ethanol'] - yields_cmol['glycerol'] - yields_cmol['biomass']\n",
    "co2_yield_cmol"
   ]
  },
  {
   "cell_type": "markdown",
   "metadata": {},
   "source": [
    "$Y_{sc} = 0.295$ (Cmol-CO2 / Cmol-GLC)"
   ]
  },
  {
   "cell_type": "markdown",
   "metadata": {},
   "source": [
    "### d)"
   ]
  },
  {
   "cell_type": "markdown",
   "metadata": {},
   "source": [
    "Using the calculated μmax and yield coefficients, calculate the specific consumption rate for glucose ($r_s$) and specific production rates for ethanol, glycerol and CO2 ($r_e$, $r_g$, and $r_c$). Use units of C-mmol/g DW·h."
   ]
  },
  {
   "cell_type": "markdown",
   "metadata": {},
   "source": [
    "* $r_s = Y_{xs} \\mu_{max} = Y_{sx}^{-1} \\mu_{max}$\n",
    "* $r_e = Y_{se} r_s$\n",
    "* $r_g = Y_{sg} r_s$\n",
    "* $r_c = Y_{sc} r_s$"
   ]
  },
  {
   "cell_type": "markdown",
   "metadata": {},
   "source": [
    "Glucose:"
   ]
  },
  {
   "cell_type": "code",
   "execution_count": 54,
   "metadata": {},
   "outputs": [
    {
     "data": {
      "text/plain": [
       "2.423420566676058"
      ]
     },
     "execution_count": 54,
     "metadata": {},
     "output_type": "execute_result"
    }
   ],
   "source": [
    "specific_rate_glc_mass = yields['biomass']**-1 * mu_max\n",
    "specific_rate_glc_mass # g-glc gDW^-1 h^-1"
   ]
  },
  {
   "cell_type": "code",
   "execution_count": 55,
   "metadata": {},
   "outputs": [
    {
     "data": {
      "text/plain": [
       "13.463447592644767"
      ]
     },
     "execution_count": 55,
     "metadata": {},
     "output_type": "execute_result"
    }
   ],
   "source": [
    "specific_rate_glc_mmol = specific_rate_glc_mass * 1000/180 # 1000 mmol / 180 g-glc\n",
    "specific_rate_glc_mmol # mmol gDW^-1 h^-1"
   ]
  },
  {
   "cell_type": "code",
   "execution_count": 56,
   "metadata": {},
   "outputs": [
    {
     "data": {
      "text/plain": [
       "80.7806855558686"
      ]
     },
     "execution_count": 56,
     "metadata": {},
     "output_type": "execute_result"
    }
   ],
   "source": [
    "specific_rate_glc_c_mmol = specific_rate_glc_mmol * 6 # glucose has 6 carbons\n",
    "specific_rate_glc_c_mmol # c-mmol gDW^-1 h^-1"
   ]
  },
  {
   "cell_type": "code",
   "execution_count": 57,
   "metadata": {},
   "outputs": [
    {
     "data": {
      "text/plain": [
       "80.78068555586862"
      ]
     },
     "execution_count": 57,
     "metadata": {},
     "output_type": "execute_result"
    }
   ],
   "source": [
    "specific_rate_glc_c_mmol = specific_rate_glc_mass * (1000/30) # 1000 c-mmol / 30 g-glc\n",
    "specific_rate_glc_c_mmol # c-mmol gDW^-1 h^-1"
   ]
  },
  {
   "cell_type": "markdown",
   "metadata": {},
   "source": [
    "Ethanol:"
   ]
  },
  {
   "cell_type": "code",
   "execution_count": 58,
   "metadata": {},
   "outputs": [
    {
     "data": {
      "text/plain": [
       "0.8443527342669165"
      ]
     },
     "execution_count": 58,
     "metadata": {},
     "output_type": "execute_result"
    }
   ],
   "source": [
    "specific_rate_eth_mass = yields['ethanol'] * specific_rate_glc_mass\n",
    "specific_rate_eth_mass # g-eth gDW^-1 h^-1"
   ]
  },
  {
   "cell_type": "code",
   "execution_count": 59,
   "metadata": {},
   "outputs": [
    {
     "data": {
      "text/plain": [
       "18.327604390425797"
      ]
     },
     "execution_count": 59,
     "metadata": {},
     "output_type": "execute_result"
    }
   ],
   "source": [
    "specific_rate_eth_mmol = specific_rate_eth_mass * 1000/46.07 # 1000 mmol / 46.07 g-eth\n",
    "specific_rate_eth_mmol # mmol gDW^-1 h^-1"
   ]
  },
  {
   "cell_type": "markdown",
   "metadata": {},
   "source": [
    "Glycerol:"
   ]
  },
  {
   "cell_type": "code",
   "execution_count": 60,
   "metadata": {},
   "outputs": [
    {
     "data": {
      "text/plain": [
       "0.32166736427646087"
      ]
     },
     "execution_count": 60,
     "metadata": {},
     "output_type": "execute_result"
    }
   ],
   "source": [
    "specific_rate_glyc_mass = yields['glycerol'] * specific_rate_glc_mass\n",
    "specific_rate_glyc_mass # g-eth gDW^-1 h^-1"
   ]
  },
  {
   "cell_type": "code",
   "execution_count": 61,
   "metadata": {},
   "outputs": [
    {
     "data": {
      "text/plain": [
       "3.4925881028931696"
      ]
     },
     "execution_count": 61,
     "metadata": {},
     "output_type": "execute_result"
    }
   ],
   "source": [
    "specific_rate_eth_mmol = specific_rate_glyc_mass * 1000/92.1 # 1000 mmol / 92.1 g-glyc\n",
    "specific_rate_eth_mmol # mmol gDW^-1 h^-1"
   ]
  },
  {
   "cell_type": "markdown",
   "metadata": {},
   "source": [
    "CO2:"
   ]
  },
  {
   "cell_type": "code",
   "execution_count": 62,
   "metadata": {},
   "outputs": [
    {
     "data": {
      "text/plain": [
       "21.41430845691793"
      ]
     },
     "execution_count": 62,
     "metadata": {},
     "output_type": "execute_result"
    }
   ],
   "source": [
    "specific_rate_co2_mmol = co2_yield_cmol * specific_rate_glc_mass * 30 # g-glc/ cmol-glc\n",
    "specific_rate_co2_mmol # mmol-co2 gDW^-1 h^-1"
   ]
  },
  {
   "cell_type": "code",
   "execution_count": null,
   "metadata": {},
   "outputs": [],
   "source": []
  }
 ],
 "metadata": {
  "interpreter": {
   "hash": "d58dce0d622850efa13e08cf104c667c4bdb4553a145c7178045b065887c29a0"
  },
  "jupytext": {
   "encoding": "# -*- coding: utf-8 -*-"
  },
  "kernelspec": {
   "display_name": "Python 3 (ipykernel)",
   "language": "python",
   "name": "python3"
  },
  "language_info": {
   "codemirror_mode": {
    "name": "ipython",
    "version": 3
   },
   "file_extension": ".py",
   "mimetype": "text/x-python",
   "name": "python",
   "nbconvert_exporter": "python",
   "pygments_lexer": "ipython3",
   "version": "3.8.17"
  }
 },
 "nbformat": 4,
 "nbformat_minor": 4
}
