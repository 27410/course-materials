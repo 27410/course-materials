{
 "cells": [
  {
   "cell_type": "code",
   "execution_count": 1,
   "id": "141277a3",
   "metadata": {},
   "outputs": [
    {
     "ename": "ModuleNotFoundError",
     "evalue": "No module named 'pytest'",
     "output_type": "error",
     "traceback": [
      "\u001b[0;31m---------------------------------------------------------------------------\u001b[0m",
      "\u001b[0;31mModuleNotFoundError\u001b[0m                       Traceback (most recent call last)",
      "Input \u001b[0;32mIn [1]\u001b[0m, in \u001b[0;36m<cell line: 1>\u001b[0;34m()\u001b[0m\n\u001b[0;32m----> 1\u001b[0m \u001b[38;5;28;01mimport\u001b[39;00m \u001b[38;5;21;01mpytest\u001b[39;00m\n\u001b[1;32m      2\u001b[0m _ \u001b[38;5;241m=\u001b[39m \u001b[38;5;241m123456789\u001b[39m  \u001b[38;5;66;03m# just  wrong number, please ignore\u001b[39;00m\n\u001b[1;32m      4\u001b[0m \u001b[38;5;66;03m# Black box model\u001b[39;00m\n\u001b[1;32m      5\u001b[0m \u001b[38;5;66;03m# 1. Calculate the specific yield coefficients (C-mol) for all products.\u001b[39;00m\n\u001b[1;32m      6\u001b[0m \n\u001b[1;32m      7\u001b[0m \u001b[38;5;66;03m# Add your calculations here ...\u001b[39;00m\n\u001b[1;32m      8\u001b[0m \n\u001b[1;32m      9\u001b[0m \u001b[38;5;66;03m# Assign your solutions to the following variables (replace _ with your solutions)\u001b[39;00m\n",
      "\u001b[0;31mModuleNotFoundError\u001b[0m: No module named 'pytest'"
     ]
    }
   ],
   "source": [
    "import pytest\n",
    "_ = 123456789  # just  wrong number, please ignore\n",
    "\n",
    "# Black box model\n",
    "# 1. Calculate the specific yield coefficients (C-mol) for all products.\n",
    "\n",
    "# Add your calculations here ...\n",
    "\n",
    "# Assign your solutions to the following variables (replace _ with your solutions)\n",
    "Y_sx = 0.166\n",
    "Y_se = 0.652\n",
    "Y_sg = 0.075\n",
    "\n",
    "def test_Y_sx():\n",
    "    assert Y_sx == pytest.approx(0.166, .01)\n",
    "\n",
    "def test_Y_se():\n",
    "    assert Y_se == pytest.approx(0.652, .01)\n",
    "\n",
    "def test_Y_sg():\n",
    "    assert Y_sg == pytest.approx(0.075, .01)\n",
    "  \n",
    "\n",
    "# 2. Calculate the carbon balance.\n",
    "\n",
    "# Add your calculations here ...\n",
    "\n",
    "# Assign your solution to the following variable (replace _ with your solution)\n",
    "carbon_balance = 0.106 # c-mol-? / c-mol-Glc\n",
    "\n",
    "def test_carbon_balance():\n",
    "    assert carbon_balance == pytest.approx(0.106, 0.01)\n",
    "    \n",
    "\n",
    "# 3. Assuming that CO2 is the only missing product, calculate how much CO2 was produced in the fermentation.\n",
    "\n",
    "# Add your calculations here ...\n",
    "\n",
    "# Assign your solution to the following variable (replace _ with your solution)\n",
    "co2_produced = 3.129 # g/L\n",
    "\n",
    "def test_co2_produced():\n",
    "    assert co2_produced == pytest.approx(3.129, 0.01)"
   ]
  },
  {
   "cell_type": "code",
   "execution_count": null,
   "id": "7975cd1b",
   "metadata": {},
   "outputs": [],
   "source": []
  }
 ],
 "metadata": {
  "kernelspec": {
   "display_name": "Python 3 (ipykernel)",
   "language": "python",
   "name": "python3"
  },
  "language_info": {
   "codemirror_mode": {
    "name": "ipython",
    "version": 3
   },
   "file_extension": ".py",
   "mimetype": "text/x-python",
   "name": "python",
   "nbconvert_exporter": "python",
   "pygments_lexer": "ipython3",
   "version": "3.8.10"
  }
 },
 "nbformat": 4,
 "nbformat_minor": 5
}
