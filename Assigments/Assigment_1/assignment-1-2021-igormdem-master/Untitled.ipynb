{
 "cells": [
  {
   "cell_type": "code",
   "execution_count": 4,
   "id": "a558944a",
   "metadata": {},
   "outputs": [
    {
     "name": "stdout",
     "output_type": "stream",
     "text": [
      "import-im6.q16: attempt to perform an operation not allowed by the security policy `PS' @ error/constitute.c/IsCoderAuthorized/408.\n",
      "import-im6.q16: attempt to perform an operation not allowed by the security policy `PS' @ error/constitute.c/IsCoderAuthorized/408.\n"
     ]
    }
   ],
   "source": [
    "###### Ignore this!\n",
    "!import pytest\n",
    "!import hashlib\n",
    "_ = 123456789  # just a wrong number, please ignore\n",
    "###### Stop ignoring\n",
    "\n",
    "import numpy as np\n",
    "\n",
    "# Metabolic Flux Analysis\n",
    "\n",
    "# 1. Write down the stoichiometry matrix S for the model as a numpy array.\n",
    "# The order of the rows should correspond to A, B and C.\n",
    "# The order of the columns should correspond to v1-v6\n",
    "\n",
    "\n",
    "# replace [[]] with the stoichiometric matrix.\n",
    "S = np.array([[-1, -1, 0, 0, 0, 1], [1,  0, 0, 0,-1, 0],[0, 1, -1, -1, 0, 0]])\n",
    "\n",
    "###### Don't touch\n",
    "def test_stoichiometry_matrix():\n",
    "    assert hashlib.md5(S).digest() == b'\\xe2Q(\\xd6\\xf1\\x8f.7F\\xfbB(\\xabY\\xf8\\xcc'\n",
    "###### this\n",
    "\n",
    "\n",
    "# 2. Calculate how many fluxes need to be measured (degrees of freedom).\n",
    "\n",
    "# Assign your solution to the following variable (replace _ with your solution;\n",
    "# cannot be just a number; should be a computation based on S)\n",
    "from numpy.linalg import matrix_rank\n",
    "degrees_of_freedom = S.shape[1] - matrix_rank(S)\n",
    "\n",
    "\n",
    "###### Don't touch\n",
    "def test_degrees_of_freedom():\n",
    "    assert degrees_of_freedom == 3\n",
    "###### this\n",
    "\n",
    "\n",
    "# 3. Based on measured fluxes v4 = 2.5, v5 = 2, and v6 = 10, calculate v1-v3.\n",
    "\n",
    "# Put you're intermediate steps here ...\n",
    "\n",
    "S_c = S[:, 0:3] #matrix with the unknow fluxes\n",
    "S_m = S[:, 3:] #matrix with the known fluxes\n",
    "v_m = np.array([2.5, 2, 10]) # v4, v5, v6\n",
    "\n",
    "# Assign the final solution here (replace _ with your final step)\n",
    "# v_c needs to be a numpy.array containing the three calculated fluxes v1-v3\n",
    "# Ideally you should get to v_c through a computation involving S and the\n",
    "# measured fluxes v4-v6 as covered in the lecture.\n",
    "\n",
    "v_c = -np.linalg.inv(S_c).dot(S_m.dot(v_m))\n",
    "\n",
    "###### Don't touch\n",
    "def test_mfa_calculation():\n",
    "    assert v_c.sum() == 15.5\n",
    "###### this"
   ]
  },
  {
   "cell_type": "code",
   "execution_count": 5,
   "id": "1e1012c0",
   "metadata": {},
   "outputs": [],
   "source": [
    "import numpy as np"
   ]
  },
  {
   "cell_type": "code",
   "execution_count": 6,
   "id": "cf4dc5de",
   "metadata": {},
   "outputs": [],
   "source": [
    "S = np.array([[-1, -1, 0, 0, 0, 1], [1,  0, 0, 0,-1, 0],[0, 1, -1, -1, 0, 0]])"
   ]
  },
  {
   "cell_type": "code",
   "execution_count": 7,
   "id": "c7a88b36",
   "metadata": {},
   "outputs": [],
   "source": [
    "from numpy.linalg import matrix_rank"
   ]
  },
  {
   "cell_type": "code",
   "execution_count": 8,
   "id": "61bfde9d",
   "metadata": {},
   "outputs": [],
   "source": [
    "degrees_of_freedom = S.shape[1] - matrix_rank(S)"
   ]
  },
  {
   "cell_type": "code",
   "execution_count": 10,
   "id": "a9f9fad6",
   "metadata": {},
   "outputs": [
    {
     "name": "stdout",
     "output_type": "stream",
     "text": [
      "3\n"
     ]
    }
   ],
   "source": [
    "print(degrees_of_freedom)"
   ]
  },
  {
   "cell_type": "code",
   "execution_count": 11,
   "id": "c3c3ddaf",
   "metadata": {},
   "outputs": [],
   "source": [
    "S_c = S[:, 0:3] #matrix with the unknow fluxes\n",
    "S_m = S[:, 3:] #matrix with the known fluxes\n",
    "v_m = np.array([2.5, 2, 10]) # v4, v5"
   ]
  },
  {
   "cell_type": "code",
   "execution_count": 12,
   "id": "9d3b6832",
   "metadata": {},
   "outputs": [
    {
     "name": "stdout",
     "output_type": "stream",
     "text": [
      "[[-1 -1  0]\n",
      " [ 1  0  0]\n",
      " [ 0  1 -1]] [[ 0  0  1]\n",
      " [ 0 -1  0]\n",
      " [-1  0  0]] [ 2.5  2.  10. ]\n"
     ]
    }
   ],
   "source": [
    "print(S_c,S_m,v_m)"
   ]
  },
  {
   "cell_type": "code",
   "execution_count": null,
   "id": "e1ed8d54",
   "metadata": {},
   "outputs": [],
   "source": []
  }
 ],
 "metadata": {
  "kernelspec": {
   "display_name": "Python 3 (ipykernel)",
   "language": "python",
   "name": "python3"
  },
  "language_info": {
   "codemirror_mode": {
    "name": "ipython",
    "version": 3
   },
   "file_extension": ".py",
   "mimetype": "text/x-python",
   "name": "python",
   "nbconvert_exporter": "python",
   "pygments_lexer": "ipython3",
   "version": "3.8.10"
  }
 },
 "nbformat": 4,
 "nbformat_minor": 5
}
