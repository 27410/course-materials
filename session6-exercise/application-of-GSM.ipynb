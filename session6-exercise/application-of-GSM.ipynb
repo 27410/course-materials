{
 "cells": [
  {
   "cell_type": "code",
   "execution_count": 1,
   "source": [
    "import pandas as pd\r\n",
    "import matplotlib.pyplot as plt\r\n",
    "plt.style.use('seaborn')\r\n",
    "%matplotlib inline"
   ],
   "outputs": [],
   "metadata": {}
  },
  {
   "cell_type": "markdown",
   "source": [
    "# Application of genome-scale metabolic models"
   ],
   "metadata": {}
  },
  {
   "cell_type": "markdown",
   "source": [
    "## Model import"
   ],
   "metadata": {}
  },
  {
   "cell_type": "markdown",
   "source": [
    "As you've already encountered in previous exercises, you can download a GSM using `cobra.io.read_sbml_model`. Let's load the latest iteration of the *Escherchia coli* GSM iML1515 ([nature.com/articles/nbt.3956](https://www.nature.com/articles/nbt.3956))."
   ],
   "metadata": {}
  },
  {
   "cell_type": "code",
   "execution_count": 2,
   "source": [
    "from cobra.io import read_sbml_model\r\n",
    "model = read_sbml_model('../data/iML1515.xml')"
   ],
   "outputs": [],
   "metadata": {}
  },
  {
   "cell_type": "markdown",
   "source": [
    "## Model content"
   ],
   "metadata": {}
  },
  {
   "cell_type": "markdown",
   "source": [
    "### Metabolites"
   ],
   "metadata": {}
  },
  {
   "cell_type": "markdown",
   "source": [
    "The model contains a list of metabolites. Here are the first ten."
   ],
   "metadata": {}
  },
  {
   "cell_type": "code",
   "execution_count": 3,
   "source": [
    "model.metabolites[0:10]"
   ],
   "outputs": [
    {
     "output_type": "execute_result",
     "data": {
      "text/plain": [
       "[<Metabolite octapb_c at 0x1906d152fa0>,\n",
       " <Metabolite cysi__L_e at 0x1906d152f40>,\n",
       " <Metabolite dhap_c at 0x19075fb70a0>,\n",
       " <Metabolite prbatp_c at 0x19075fb7190>,\n",
       " <Metabolite 10fthf_c at 0x19075fb7250>,\n",
       " <Metabolite btal_c at 0x19075fb71f0>,\n",
       " <Metabolite 6pgg_c at 0x19075fb7310>,\n",
       " <Metabolite co2_e at 0x19075fb71c0>,\n",
       " <Metabolite akg_e at 0x19075fb73a0>,\n",
       " <Metabolite gsn_e at 0x19075fb7400>]"
      ]
     },
     "metadata": {},
     "execution_count": 3
    }
   ],
   "metadata": {}
  },
  {
   "cell_type": "markdown",
   "source": [
    "There are 1877 metabolites in the model."
   ],
   "metadata": {}
  },
  {
   "cell_type": "code",
   "execution_count": 4,
   "source": [
    "len(model.metabolites)"
   ],
   "outputs": [
    {
     "output_type": "execute_result",
     "data": {
      "text/plain": [
       "1877"
      ]
     },
     "metadata": {},
     "execution_count": 4
    }
   ],
   "metadata": {}
  },
  {
   "cell_type": "markdown",
   "source": [
    "One can access a specific metabolite using dot notation."
   ],
   "metadata": {}
  },
  {
   "cell_type": "code",
   "execution_count": 5,
   "source": [
    "model.metabolites.g3p_c"
   ],
   "outputs": [
    {
     "output_type": "execute_result",
     "data": {
      "text/html": [
       "\n",
       "        <table>\n",
       "            <tr>\n",
       "                <td><strong>Metabolite identifier</strong></td><td>g3p_c</td>\n",
       "            </tr><tr>\n",
       "                <td><strong>Name</strong></td><td>Glyceraldehyde 3-phosphate</td>\n",
       "            </tr><tr>\n",
       "                <td><strong>Memory address</strong></td>\n",
       "                <td>0x0190760b6730</td>\n",
       "            </tr><tr>\n",
       "                <td><strong>Formula</strong></td><td>C3H5O6P</td>\n",
       "            </tr><tr>\n",
       "                <td><strong>Compartment</strong></td><td>c</td>\n",
       "            </tr><tr>\n",
       "                <td><strong>In 15 reaction(s)</strong></td><td>\n",
       "                    TRPS3, TPI, F6PA, DRPA, GAPP, DDPGALA, FBA, TKT2, TKT1, EDA, DXPS, TRPS1, TGBPA, GAPD, TALA</td>\n",
       "            </tr>\n",
       "        </table>"
      ],
      "text/plain": [
       "<Metabolite g3p_c at 0x190760b6730>"
      ]
     },
     "metadata": {},
     "execution_count": 5
    }
   ],
   "metadata": {}
  },
  {
   "cell_type": "markdown",
   "source": [
    "<div class=\"alert alert-warning\">\n",
    "\n",
    "**Warning:** One cannot use dot notation to access metabolites, reactions, or genes if their identifiers do not resemble proper Python variable names.\n",
    "\n",
    "</div>"
   ],
   "metadata": {}
  },
  {
   "cell_type": "code",
   "execution_count": 6,
   "source": [
    "# model.metabolites.10fthf_c  # this won't work, you can try by uncommenting the line"
   ],
   "outputs": [],
   "metadata": {}
  },
  {
   "cell_type": "markdown",
   "source": [
    "<div class=\"alert alert-success\">\n",
    "\n",
    "**Solution:** Use the method `get_by_id` instead!\n",
    "\n",
    "</div>"
   ],
   "metadata": {}
  },
  {
   "cell_type": "code",
   "execution_count": 7,
   "source": [
    "model.metabolites.get_by_id('10fthf_c')"
   ],
   "outputs": [
    {
     "output_type": "execute_result",
     "data": {
      "text/html": [
       "\n",
       "        <table>\n",
       "            <tr>\n",
       "                <td><strong>Metabolite identifier</strong></td><td>10fthf_c</td>\n",
       "            </tr><tr>\n",
       "                <td><strong>Name</strong></td><td>10-Formyltetrahydrofolate</td>\n",
       "            </tr><tr>\n",
       "                <td><strong>Memory address</strong></td>\n",
       "                <td>0x019075fb7250</td>\n",
       "            </tr><tr>\n",
       "                <td><strong>Formula</strong></td><td>C20H21N7O7</td>\n",
       "            </tr><tr>\n",
       "                <td><strong>Compartment</strong></td><td>c</td>\n",
       "            </tr><tr>\n",
       "                <td><strong>In 8 reaction(s)</strong></td><td>\n",
       "                    BIOMASS_Ec_iML1515_core_75p37M, AICART, FTHFD, GARFT, BIOMASS_Ec_iML1515_WT_75p37M, MTHFC, FTHFLi, ULA4NFT</td>\n",
       "            </tr>\n",
       "        </table>"
      ],
      "text/plain": [
       "<Metabolite 10fthf_c at 0x19075fb7250>"
      ]
     },
     "metadata": {},
     "execution_count": 7
    }
   ],
   "metadata": {}
  },
  {
   "cell_type": "markdown",
   "source": [
    "Metabolites are associated with compartments in the cell. Glyceraldehyde 3-phosphate (`g3p_c`) is associated with the `c` (Cytosol) compartment."
   ],
   "metadata": {}
  },
  {
   "cell_type": "code",
   "execution_count": 8,
   "source": [
    "model.metabolites.g3p_c.compartment"
   ],
   "outputs": [
    {
     "output_type": "execute_result",
     "data": {
      "text/plain": [
       "'c'"
      ]
     },
     "metadata": {},
     "execution_count": 8
    }
   ],
   "metadata": {}
  },
  {
   "cell_type": "markdown",
   "source": [
    "The _E. coli_ model has three compartments."
   ],
   "metadata": {}
  },
  {
   "cell_type": "code",
   "execution_count": 9,
   "source": [
    "model.compartments"
   ],
   "outputs": [
    {
     "output_type": "execute_result",
     "data": {
      "text/plain": [
       "{'c': 'cytosol', 'e': 'extracellular space', 'p': 'periplasm'}"
      ]
     },
     "metadata": {},
     "execution_count": 9
    }
   ],
   "metadata": {}
  },
  {
   "cell_type": "markdown",
   "source": [
    "Some metabolites (like Glucose for example) can be associated with multiple compartments."
   ],
   "metadata": {}
  },
  {
   "cell_type": "code",
   "execution_count": 10,
   "source": [
    "model.metabolites.glc__D_c.compartment"
   ],
   "outputs": [
    {
     "output_type": "execute_result",
     "data": {
      "text/plain": [
       "'c'"
      ]
     },
     "metadata": {},
     "execution_count": 10
    }
   ],
   "metadata": {}
  },
  {
   "cell_type": "code",
   "execution_count": 11,
   "source": [
    "model.metabolites.glc__D_p.compartment"
   ],
   "outputs": [
    {
     "output_type": "execute_result",
     "data": {
      "text/plain": [
       "'p'"
      ]
     },
     "metadata": {},
     "execution_count": 11
    }
   ],
   "metadata": {}
  },
  {
   "cell_type": "markdown",
   "source": [
    "The full name of the metabolite is available via the `.name` attribute. "
   ],
   "metadata": {}
  },
  {
   "cell_type": "code",
   "execution_count": 12,
   "source": [
    "model.metabolites.glc__D_c.name"
   ],
   "outputs": [
    {
     "output_type": "execute_result",
     "data": {
      "text/plain": [
       "'D-Glucose'"
      ]
     },
     "metadata": {},
     "execution_count": 12
    }
   ],
   "metadata": {}
  },
  {
   "cell_type": "markdown",
   "source": [
    "One can look up the molecular formula of glucose."
   ],
   "metadata": {}
  },
  {
   "cell_type": "code",
   "execution_count": 13,
   "source": [
    "model.metabolites.g3p_c.formula"
   ],
   "outputs": [
    {
     "output_type": "execute_result",
     "data": {
      "text/plain": [
       "'C3H5O6P'"
      ]
     },
     "metadata": {},
     "execution_count": 13
    }
   ],
   "metadata": {}
  },
  {
   "cell_type": "markdown",
   "source": [
    "The `.elements` attribute returns a dictionary representation of the formula."
   ],
   "metadata": {}
  },
  {
   "cell_type": "code",
   "execution_count": 14,
   "source": [
    "model.metabolites.g3p_c.elements"
   ],
   "outputs": [
    {
     "output_type": "execute_result",
     "data": {
      "text/plain": [
       "{'C': 3, 'H': 5, 'O': 6, 'P': 1}"
      ]
     },
     "metadata": {},
     "execution_count": 14
    }
   ],
   "metadata": {}
  },
  {
   "cell_type": "markdown",
   "source": [
    "Furthermore, one can look up the molecular weight of a metabolite."
   ],
   "metadata": {}
  },
  {
   "cell_type": "code",
   "execution_count": 15,
   "source": [
    "model.metabolites.g3p_c.formula_weight"
   ],
   "outputs": [
    {
     "output_type": "execute_result",
     "data": {
      "text/plain": [
       "168.041961"
      ]
     },
     "metadata": {},
     "execution_count": 15
    }
   ],
   "metadata": {}
  },
  {
   "cell_type": "markdown",
   "source": [
    "One can gather additional information (like references to external datbases) about the metabolite through the annotation attribute."
   ],
   "metadata": {}
  },
  {
   "cell_type": "code",
   "execution_count": 16,
   "source": [
    "model.metabolites.g3p_c.annotation"
   ],
   "outputs": [
    {
     "output_type": "execute_result",
     "data": {
      "text/plain": [
       "{'sbo': 'SBO:0000247',\n",
       " 'bigg.metabolite': 'g3p',\n",
       " 'biocyc': 'META:GAP',\n",
       " 'chebi': ['CHEBI:5446',\n",
       "  'CHEBI:14333',\n",
       "  'CHEBI:12984',\n",
       "  'CHEBI:181',\n",
       "  'CHEBI:17138',\n",
       "  'CHEBI:21026',\n",
       "  'CHEBI:12983',\n",
       "  'CHEBI:18324',\n",
       "  'CHEBI:58027',\n",
       "  'CHEBI:59776',\n",
       "  'CHEBI:29052'],\n",
       " 'hmdb': 'HMDB01112',\n",
       " 'inchi_key': 'LXJXRIRHZLFYRP-VKHMYHEASA-L',\n",
       " 'kegg.compound': ['C00661', 'C00118'],\n",
       " 'metanetx.chemical': 'MNXM74',\n",
       " 'reactome.compound': '29578',\n",
       " 'sabiork': ['27', '1687'],\n",
       " 'seed.compound': ['cpd00102', 'cpd19005']}"
      ]
     },
     "metadata": {},
     "execution_count": 16
    }
   ],
   "metadata": {}
  },
  {
   "cell_type": "markdown",
   "source": [
    "One can use these annotations to look up the compound on [KEGG](http://www.genome.jp/dbget-bin/www_bget?cpd:C00118) for example."
   ],
   "metadata": {}
  },
  {
   "cell_type": "markdown",
   "source": [
    "Metabolites are not isolated things. They participate in reactions as substrates and products."
   ],
   "metadata": {}
  },
  {
   "cell_type": "code",
   "execution_count": 17,
   "source": [
    "model.metabolites.g3p_c.reactions"
   ],
   "outputs": [
    {
     "output_type": "execute_result",
     "data": {
      "text/plain": [
       "frozenset({<Reaction DDPGALA at 0x190769ee460>,\n",
       "           <Reaction DRPA at 0x19076e3ba30>,\n",
       "           <Reaction DXPS at 0x19076878f40>,\n",
       "           <Reaction EDA at 0x19076957f40>,\n",
       "           <Reaction F6PA at 0x19076b1da30>,\n",
       "           <Reaction FBA at 0x19076949880>,\n",
       "           <Reaction GAPD at 0x19076ce87c0>,\n",
       "           <Reaction GAPP at 0x19077b13e20>,\n",
       "           <Reaction TALA at 0x1907697c5e0>,\n",
       "           <Reaction TGBPA at 0x190769e1bb0>,\n",
       "           <Reaction TKT1 at 0x19076986730>,\n",
       "           <Reaction TKT2 at 0x19076e3bee0>,\n",
       "           <Reaction TPI at 0x19077611c10>,\n",
       "           <Reaction TRPS1 at 0x19076c91f40>,\n",
       "           <Reaction TRPS3 at 0x190769d7c10>})"
      ]
     },
     "metadata": {},
     "execution_count": 17
    }
   ],
   "metadata": {}
  },
  {
   "cell_type": "markdown",
   "source": [
    "### Reactions"
   ],
   "metadata": {}
  },
  {
   "cell_type": "markdown",
   "source": [
    "The model contains a list of reactions. Here are the first 10 of them."
   ],
   "metadata": {}
  },
  {
   "cell_type": "code",
   "execution_count": 18,
   "source": [
    "model.reactions[0:10]"
   ],
   "outputs": [
    {
     "output_type": "execute_result",
     "data": {
      "text/plain": [
       "[<Reaction CYTDK2 at 0x19076865700>,\n",
       " <Reaction XPPT at 0x19076865550>,\n",
       " <Reaction HXPRT at 0x19076865d30>,\n",
       " <Reaction NDPK5 at 0x19076865ca0>,\n",
       " <Reaction SHK3Dr at 0x19076865910>,\n",
       " <Reaction NDPK6 at 0x19076865f10>,\n",
       " <Reaction NDPK8 at 0x19076865d60>,\n",
       " <Reaction DHORTS at 0x19076878e50>,\n",
       " <Reaction OMPDC at 0x19076878c70>,\n",
       " <Reaction PYNP2r at 0x19076865df0>]"
      ]
     },
     "metadata": {},
     "execution_count": 18
    }
   ],
   "metadata": {}
  },
  {
   "cell_type": "markdown",
   "source": [
    "There are 2712 reactions in the model."
   ],
   "metadata": {}
  },
  {
   "cell_type": "code",
   "execution_count": 19,
   "source": [
    "len(model.reactions)"
   ],
   "outputs": [
    {
     "output_type": "execute_result",
     "data": {
      "text/plain": [
       "2712"
      ]
     },
     "metadata": {},
     "execution_count": 19
    }
   ],
   "metadata": {}
  },
  {
   "cell_type": "markdown",
   "source": [
    "Let's take a closer look at the reactions associated with Glyceraldehyde 3-phosphate (`g3p`)."
   ],
   "metadata": {}
  },
  {
   "cell_type": "code",
   "execution_count": 20,
   "source": [
    "for reaction in model.metabolites.g3p_c.reactions:\r\n",
    "    print(reaction.id, reaction, reaction.name)"
   ],
   "outputs": [
    {
     "output_type": "stream",
     "name": "stdout",
     "text": [
      "TRPS3 TRPS3: 3ig3p_c --> g3p_c + indole_c Tryptophan synthase (indoleglycerol phosphate)\n",
      "TPI TPI: dhap_c <=> g3p_c Triose-phosphate isomerase\n",
      "F6PA F6PA: f6p_c <=> dha_c + g3p_c Fructose 6-phosphate aldolase\n",
      "DRPA DRPA: 2dr5p_c --> acald_c + g3p_c Deoxyribose-phosphate aldolase\n",
      "GAPP GAPP: g3p_c + h2o_c --> glyald_c + pi_c Glyceraldehyde-3-phosphate phosphatase\n",
      "DDPGALA DDPGALA: 2dh3dgal6p_c <=> g3p_c + pyr_c 2-dehydro-3-deoxy-6-phosphogalactonate aldolase\n",
      "FBA FBA: fdp_c <=> dhap_c + g3p_c Fructose-bisphosphate aldolase\n",
      "TKT2 TKT2: e4p_c + xu5p__D_c <=> f6p_c + g3p_c Transketolase\n",
      "TKT1 TKT1: r5p_c + xu5p__D_c <=> g3p_c + s7p_c Transketolase\n",
      "EDA EDA: 2ddg6p_c --> g3p_c + pyr_c 2-dehydro-3-deoxy-phosphogluconate aldolase\n",
      "DXPS DXPS: g3p_c + h_c + pyr_c --> co2_c + dxyl5p_c 1-deoxy-D-xylulose 5-phosphate synthase\n",
      "TRPS1 TRPS1: 3ig3p_c + ser__L_c --> g3p_c + h2o_c + trp__L_c Tryptophan synthase (indoleglycerol phosphate)\n",
      "TGBPA TGBPA: tagdp__D_c <=> dhap_c + g3p_c Tagatose-bisphosphate aldolase\n",
      "GAPD GAPD: g3p_c + nad_c + pi_c <=> 13dpg_c + h_c + nadh_c Glyceraldehyde-3-phosphate dehydrogenase\n",
      "TALA TALA: g3p_c + s7p_c <=> e4p_c + f6p_c Transaldolase\n"
     ]
    }
   ],
   "metadata": {}
  },
  {
   "cell_type": "markdown",
   "source": [
    "The second reaction in this list is Glyceraldehyde-3-phosphate dehydrogenase (GAPD)."
   ],
   "metadata": {}
  },
  {
   "cell_type": "code",
   "execution_count": 21,
   "source": [
    "model.reactions.GAPD.name"
   ],
   "outputs": [
    {
     "output_type": "execute_result",
     "data": {
      "text/plain": [
       "'Glyceraldehyde-3-phosphate dehydrogenase'"
      ]
     },
     "metadata": {},
     "execution_count": 21
    }
   ],
   "metadata": {}
  },
  {
   "cell_type": "markdown",
   "source": [
    "### Objective function"
   ],
   "metadata": {}
  },
  {
   "cell_type": "markdown",
   "source": [
    "Here is the objective function currently set in the model. "
   ],
   "metadata": {}
  },
  {
   "cell_type": "markdown",
   "source": [
    "<div class=\"alert alert-info\">\n",
    "\n",
    "Under the hood all reactions are represented by two flux variables, the first one representing the forward direction, the second  one the reverse direction. In all likelihood, you won't have to worry about this during the course.\n",
    "\n",
    "</div>"
   ],
   "metadata": {}
  },
  {
   "cell_type": "code",
   "execution_count": 22,
   "source": [
    "print(model.objective)"
   ],
   "outputs": [
    {
     "output_type": "stream",
     "name": "stdout",
     "text": [
      "Maximize\n",
      "1.0*BIOMASS_Ec_iML1515_core_75p37M - 1.0*BIOMASS_Ec_iML1515_core_75p37M_reverse_35685\n"
     ]
    }
   ],
   "metadata": {}
  },
  {
   "cell_type": "markdown",
   "source": [
    "It corresponds to the following reaction."
   ],
   "metadata": {}
  },
  {
   "cell_type": "code",
   "execution_count": 23,
   "source": [
    "model.reactions.BIOMASS_Ec_iML1515_core_75p37M"
   ],
   "outputs": [
    {
     "output_type": "execute_result",
     "data": {
      "text/html": [
       "\n",
       "        <table>\n",
       "            <tr>\n",
       "                <td><strong>Reaction identifier</strong></td><td>BIOMASS_Ec_iML1515_core_75p37M</td>\n",
       "            </tr><tr>\n",
       "                <td><strong>Name</strong></td><td>E. coli biomass objective function (iML1515) - core - with 75.37 GAM estimate</td>\n",
       "            </tr><tr>\n",
       "                <td><strong>Memory address</strong></td>\n",
       "                <td>0x019077b65670</td>\n",
       "            </tr><tr>\n",
       "                <td><strong>Stoichiometry</strong></td>\n",
       "                <td>\n",
       "                    <p style='text-align:right'>0.000223 10fthf_c + 2.6e-05 2fe2s_c + 0.000223 2ohph_c + 0.00026 4fe4s_c + 0.513689 ala__L_c + 0.000223 amet_c + 0.295792 arg__L_c + 0.241055 asn__L_c + 0.241055 asp__L_c + 75.55223 atp_c + 2e-06...</p>\n",
       "                    <p style='text-align:right'>0.000223 10-Formyltetrahydrofolate + 2.6e-05 [2Fe-2S] iron-sulfur cluster + 0.000223 2-Octaprenyl-6-hydroxyphenol + 0.00026 [4Fe-4S] iron-sulfur cluster + 0.513689 L-Alanine + 0.000223 S-Adenosyl-...</p>\n",
       "                </td>\n",
       "            </tr><tr>\n",
       "                <td><strong>GPR</strong></td><td></td>\n",
       "            </tr><tr>\n",
       "                <td><strong>Lower bound</strong></td><td>0.0</td>\n",
       "            </tr><tr>\n",
       "                <td><strong>Upper bound</strong></td><td>1000.0</td>\n",
       "            </tr>\n",
       "        </table>\n",
       "        "
      ],
      "text/plain": [
       "<Reaction BIOMASS_Ec_iML1515_core_75p37M at 0x19077b65670>"
      ]
     },
     "metadata": {},
     "execution_count": 23
    }
   ],
   "metadata": {}
  },
  {
   "cell_type": "markdown",
   "source": [
    "### ATP maintenance requirement"
   ],
   "metadata": {}
  },
  {
   "cell_type": "markdown",
   "source": [
    "Most models also contain a reaction that hydrolyzes ATP and that represents the non-growth ATP maintenance (NGAM) cost. Usually its lower bound is set to an experimentally determined value to enforce a certain flux."
   ],
   "metadata": {}
  },
  {
   "cell_type": "code",
   "execution_count": 24,
   "source": [
    "model.reactions.ATPM"
   ],
   "outputs": [
    {
     "output_type": "execute_result",
     "data": {
      "text/html": [
       "\n",
       "        <table>\n",
       "            <tr>\n",
       "                <td><strong>Reaction identifier</strong></td><td>ATPM</td>\n",
       "            </tr><tr>\n",
       "                <td><strong>Name</strong></td><td>ATP maintenance requirement</td>\n",
       "            </tr><tr>\n",
       "                <td><strong>Memory address</strong></td>\n",
       "                <td>0x0190772f5ca0</td>\n",
       "            </tr><tr>\n",
       "                <td><strong>Stoichiometry</strong></td>\n",
       "                <td>\n",
       "                    <p style='text-align:right'>atp_c + h2o_c --> adp_c + h_c + pi_c</p>\n",
       "                    <p style='text-align:right'>ATP C10H12N5O13P3 + H2O H2O --> ADP C10H12N5O10P2 + H+ + Phosphate</p>\n",
       "                </td>\n",
       "            </tr><tr>\n",
       "                <td><strong>GPR</strong></td><td></td>\n",
       "            </tr><tr>\n",
       "                <td><strong>Lower bound</strong></td><td>6.86</td>\n",
       "            </tr><tr>\n",
       "                <td><strong>Upper bound</strong></td><td>1000.0</td>\n",
       "            </tr>\n",
       "        </table>\n",
       "        "
      ],
      "text/plain": [
       "<Reaction ATPM at 0x190772f5ca0>"
      ]
     },
     "metadata": {},
     "execution_count": 24
    }
   ],
   "metadata": {}
  },
  {
   "cell_type": "markdown",
   "source": [
    "### Gene-Protein-Reaction associations"
   ],
   "metadata": {}
  },
  {
   "cell_type": "markdown",
   "source": [
    "Glyceraldehyde-3-phosphate dehydrogenase is associated with a single gene. "
   ],
   "metadata": {}
  },
  {
   "cell_type": "code",
   "execution_count": 25,
   "source": [
    "model.reactions.GAPD.gene_reaction_rule"
   ],
   "outputs": [
    {
     "output_type": "execute_result",
     "data": {
      "text/plain": [
       "'b1779'"
      ]
     },
     "metadata": {},
     "execution_count": 25
    }
   ],
   "metadata": {}
  },
  {
   "cell_type": "markdown",
   "source": [
    "Phosphofructokinase (PFK) on the other hand seems to be associated with two isozymes."
   ],
   "metadata": {}
  },
  {
   "cell_type": "code",
   "execution_count": 26,
   "source": [
    "model.reactions.PFK.gene_reaction_rule"
   ],
   "outputs": [
    {
     "output_type": "execute_result",
     "data": {
      "text/plain": [
       "'b3916 or b1723'"
      ]
     },
     "metadata": {},
     "execution_count": 26
    }
   ],
   "metadata": {}
  },
  {
   "cell_type": "markdown",
   "source": [
    "One can display the gene names (typical 4 letter gene codes) instead of the identifiers (Blattner numbers in this case)."
   ],
   "metadata": {}
  },
  {
   "cell_type": "code",
   "execution_count": 27,
   "source": [
    "model.reactions.PFK.gene_name_reaction_rule"
   ],
   "outputs": [
    {
     "output_type": "execute_result",
     "data": {
      "text/plain": [
       "'pfkA or pfkB'"
      ]
     },
     "metadata": {},
     "execution_count": 27
    }
   ],
   "metadata": {}
  },
  {
   "cell_type": "markdown",
   "source": [
    "Here a very complicated gene to reaction mapping (ATP synthase)."
   ],
   "metadata": {}
  },
  {
   "cell_type": "code",
   "execution_count": 28,
   "source": [
    "model.reactions.ATPS4rpp.gene_name_reaction_rule"
   ],
   "outputs": [
    {
     "output_type": "execute_result",
     "data": {
      "text/plain": [
       "'(atpI and (atpC and atpG and atpH and atpA and atpD) and (atpB and atpF and atpE)) or ((atpC and atpG and atpH and atpA and atpD) and (atpB and atpF and atpE))'"
      ]
     },
     "metadata": {},
     "execution_count": 28
    }
   ],
   "metadata": {}
  },
  {
   "cell_type": "markdown",
   "source": [
    "### Finding things"
   ],
   "metadata": {}
  },
  {
   "cell_type": "markdown",
   "source": [
    "One can use `.query('search term', 'attribute_to_search_in')` to search in model metabolites, reactions, and genes. For example, one can search metabolites that contain the term _glucose_ in their name."
   ],
   "metadata": {}
  },
  {
   "cell_type": "code",
   "execution_count": 29,
   "source": [
    "for metabolite in model.metabolites.query('glucose', 'name'):\r\n",
    "    print(metabolite.name)"
   ],
   "outputs": [
    {
     "output_type": "stream",
     "name": "stdout",
     "text": [
      "6-Phospho-beta-D-glucosyl-(1,4)-D-glucose\n",
      "DTDP-4-dehydro-6-deoxy-D-glucose\n",
      "Undecaprenol-diphosphate-glucose\n",
      "UDPglucose\n",
      "2 Deoxy D glucose 6 phosphate C6H11O8P\n",
      "ADPglucose C16H23N5O15P2\n",
      "6-Acetyl-D-glucose\n",
      "UDPglucose\n",
      "UDPglucose\n",
      "DTDPglucose\n",
      "2 Deoxy D glucose C6H12O5\n",
      "2 Deoxy D glucose C6H12O5\n",
      "2 Deoxy D glucose C6H12O5\n"
     ]
    }
   ],
   "metadata": {}
  },
  {
   "cell_type": "markdown",
   "source": [
    "## Simulating models"
   ],
   "metadata": {}
  },
  {
   "cell_type": "code",
   "execution_count": 30,
   "source": [
    "model.optimize()"
   ],
   "outputs": [
    {
     "output_type": "execute_result",
     "data": {
      "text/html": [
       "<strong><em>Optimal</em> solution with objective value 0.877</strong><br><div>\n",
       "<style scoped>\n",
       "    .dataframe tbody tr th:only-of-type {\n",
       "        vertical-align: middle;\n",
       "    }\n",
       "\n",
       "    .dataframe tbody tr th {\n",
       "        vertical-align: top;\n",
       "    }\n",
       "\n",
       "    .dataframe thead th {\n",
       "        text-align: right;\n",
       "    }\n",
       "</style>\n",
       "<table border=\"1\" class=\"dataframe\">\n",
       "  <thead>\n",
       "    <tr style=\"text-align: right;\">\n",
       "      <th></th>\n",
       "      <th>fluxes</th>\n",
       "      <th>reduced_costs</th>\n",
       "    </tr>\n",
       "  </thead>\n",
       "  <tbody>\n",
       "    <tr>\n",
       "      <th>CYTDK2</th>\n",
       "      <td>0.00000</td>\n",
       "      <td>-7.523353e-03</td>\n",
       "    </tr>\n",
       "    <tr>\n",
       "      <th>XPPT</th>\n",
       "      <td>0.00000</td>\n",
       "      <td>-1.504671e-02</td>\n",
       "    </tr>\n",
       "    <tr>\n",
       "      <th>HXPRT</th>\n",
       "      <td>0.00000</td>\n",
       "      <td>-1.504671e-02</td>\n",
       "    </tr>\n",
       "    <tr>\n",
       "      <th>NDPK5</th>\n",
       "      <td>0.00000</td>\n",
       "      <td>2.775558e-17</td>\n",
       "    </tr>\n",
       "    <tr>\n",
       "      <th>SHK3Dr</th>\n",
       "      <td>0.33424</td>\n",
       "      <td>3.295975e-17</td>\n",
       "    </tr>\n",
       "    <tr>\n",
       "      <th>...</th>\n",
       "      <td>...</td>\n",
       "      <td>...</td>\n",
       "    </tr>\n",
       "    <tr>\n",
       "      <th>MPTS</th>\n",
       "      <td>0.00000</td>\n",
       "      <td>-2.257006e-02</td>\n",
       "    </tr>\n",
       "    <tr>\n",
       "      <th>MOCOS</th>\n",
       "      <td>0.00000</td>\n",
       "      <td>-1.734723e-17</td>\n",
       "    </tr>\n",
       "    <tr>\n",
       "      <th>BMOGDS2</th>\n",
       "      <td>0.00000</td>\n",
       "      <td>-3.338488e-01</td>\n",
       "    </tr>\n",
       "    <tr>\n",
       "      <th>FESD2s</th>\n",
       "      <td>0.00000</td>\n",
       "      <td>7.632783e-17</td>\n",
       "    </tr>\n",
       "    <tr>\n",
       "      <th>OCTNLL</th>\n",
       "      <td>0.00000</td>\n",
       "      <td>-1.202796e+00</td>\n",
       "    </tr>\n",
       "  </tbody>\n",
       "</table>\n",
       "<p>2712 rows × 2 columns</p>\n",
       "</div>"
      ],
      "text/plain": [
       "<Solution 0.877 at 0x19077ddbd30>"
      ]
     },
     "metadata": {},
     "execution_count": 30
    }
   ],
   "metadata": {}
  },
  {
   "cell_type": "markdown",
   "source": [
    "You can get the objective value (which corresponds to $\\mu_{max}$ in this case) like this."
   ],
   "metadata": {}
  },
  {
   "cell_type": "code",
   "execution_count": 31,
   "source": [
    "model.optimize().objective_value"
   ],
   "outputs": [
    {
     "output_type": "execute_result",
     "data": {
      "text/plain": [
       "0.8769972144269748"
      ]
     },
     "metadata": {},
     "execution_count": 31
    }
   ],
   "metadata": {}
  },
  {
   "cell_type": "markdown",
   "source": [
    "We'll get to the fluxes in a second."
   ],
   "metadata": {}
  },
  {
   "cell_type": "markdown",
   "source": [
    "## *E. coli* Core model"
   ],
   "metadata": {}
  },
  {
   "cell_type": "markdown",
   "source": [
    "For the sake of keeping things simple, let's continue with a much simplified model representing *Escherichia coli's* central carbon metabolism, i.e., the *E. coli* Core Model [10.1128/ecosalplus.10.2.1]( https://doi.org/10.1128/ecosalplus.10.2.1)."
   ],
   "metadata": {}
  },
  {
   "cell_type": "code",
   "execution_count": 32,
   "source": [
    "from cobra.io import read_sbml_model\r\n",
    "model = read_sbml_model('../data/e_coli_core.xml')"
   ],
   "outputs": [],
   "metadata": {}
  },
  {
   "cell_type": "code",
   "execution_count": 33,
   "source": [
    "model"
   ],
   "outputs": [
    {
     "output_type": "execute_result",
     "data": {
      "text/html": [
       "\n",
       "        <table>\n",
       "            <tr>\n",
       "                <td><strong>Name</strong></td>\n",
       "                <td>e_coli_core</td>\n",
       "            </tr><tr>\n",
       "                <td><strong>Memory address</strong></td>\n",
       "                <td>0x019077d2ca60</td>\n",
       "            </tr><tr>\n",
       "                <td><strong>Number of metabolites</strong></td>\n",
       "                <td>72</td>\n",
       "            </tr><tr>\n",
       "                <td><strong>Number of reactions</strong></td>\n",
       "                <td>95</td>\n",
       "            </tr><tr>\n",
       "                <td><strong>Number of groups</strong></td>\n",
       "                <td>9</td>\n",
       "            </tr><tr>\n",
       "                <td><strong>Objective expression</strong></td>\n",
       "                <td>1.0*BIOMASS_Ecoli_core_w_GAM - 1.0*BIOMASS_Ecoli_core_w_GAM_reverse_712e5</td>\n",
       "            </tr><tr>\n",
       "                <td><strong>Compartments</strong></td>\n",
       "                <td>cytosol, extracellular space</td>\n",
       "            </tr>\n",
       "          </table>"
      ],
      "text/plain": [
       "<Model e_coli_core at 0x19077d2ca60>"
      ]
     },
     "metadata": {},
     "execution_count": 33
    }
   ],
   "metadata": {}
  },
  {
   "cell_type": "markdown",
   "source": [
    "We can simulate the model and the store the solution in a variable."
   ],
   "metadata": {}
  },
  {
   "cell_type": "code",
   "execution_count": 34,
   "source": [
    "solution = model.optimize()"
   ],
   "outputs": [],
   "metadata": {}
  },
  {
   "cell_type": "markdown",
   "source": [
    "Then we can access the predicted fluxes."
   ],
   "metadata": {}
  },
  {
   "cell_type": "code",
   "execution_count": 35,
   "source": [
    "solution.fluxes"
   ],
   "outputs": [
    {
     "output_type": "execute_result",
     "data": {
      "text/plain": [
       "ACALD     0.000000\n",
       "ACALDt    0.000000\n",
       "ACKr      0.000000\n",
       "ACONTa    6.007250\n",
       "ACONTb    6.007250\n",
       "            ...   \n",
       "TALA      1.496984\n",
       "THD2      0.000000\n",
       "TKT1      1.496984\n",
       "TKT2      1.181498\n",
       "TPI       7.477382\n",
       "Name: fluxes, Length: 95, dtype: float64"
      ]
     },
     "metadata": {},
     "execution_count": 35
    }
   ],
   "metadata": {}
  },
  {
   "cell_type": "markdown",
   "source": [
    "`solution.fluxes` is a pandas `Series` object so we can do easily pandas related things (statistics, plotting, filtering etc.)."
   ],
   "metadata": {}
  },
  {
   "cell_type": "code",
   "execution_count": 36,
   "source": [
    "type(solution.fluxes)"
   ],
   "outputs": [
    {
     "output_type": "execute_result",
     "data": {
      "text/plain": [
       "pandas.core.series.Series"
      ]
     },
     "metadata": {},
     "execution_count": 36
    }
   ],
   "metadata": {}
  },
  {
   "cell_type": "markdown",
   "source": [
    "Let's get statistical overview of the data."
   ],
   "metadata": {}
  },
  {
   "cell_type": "code",
   "execution_count": 37,
   "source": [
    "solution.fluxes.describe()"
   ],
   "outputs": [
    {
     "output_type": "execute_result",
     "data": {
      "text/plain": [
       "count    95.000000\n",
       "mean      2.627753\n",
       "std      10.698095\n",
       "min     -29.175827\n",
       "25%       0.000000\n",
       "50%       0.000000\n",
       "75%       4.959985\n",
       "max      45.514010\n",
       "Name: fluxes, dtype: float64"
      ]
     },
     "metadata": {},
     "execution_count": 37
    }
   ],
   "metadata": {}
  },
  {
   "cell_type": "markdown",
   "source": [
    "Let's plot a histogram of the distribution of flux values."
   ],
   "metadata": {}
  },
  {
   "cell_type": "code",
   "execution_count": 38,
   "source": [
    "fig = solution.fluxes.hist()\r\n",
    "fig.set_xlabel('flux [$mmol gDW^{-1} h^{-1}]$')\r\n",
    "fig.set_ylabel('Frequency')"
   ],
   "outputs": [
    {
     "output_type": "display_data",
     "data": {
      "image/png": "[encoded data removed]",
      "text/plain": [
       "<Figure size 432x288 with 1 Axes>"
      ]
     },
     "metadata": {
      "needs_background": "light"
     }
    }
   ],
   "metadata": {}
  },
  {
   "cell_type": "markdown",
   "source": [
    "Let's filter the non-zero fluxes."
   ],
   "metadata": {}
  },
  {
   "cell_type": "code",
   "execution_count": 39,
   "source": [
    "solution.fluxes[solution.fluxes != 0.]"
   ],
   "outputs": [
    {
     "output_type": "execute_result",
     "data": {
      "text/plain": [
       "ACONTa                      6.007250e+00\n",
       "ACONTb                      6.007250e+00\n",
       "AKGDH                       5.064376e+00\n",
       "ATPM                        8.390000e+00\n",
       "ATPS4r                      4.551401e+01\n",
       "BIOMASS_Ecoli_core_w_GAM    8.739215e-01\n",
       "CO2t                       -2.280983e+01\n",
       "CS                          6.007250e+00\n",
       "CYTBD                       4.359899e+01\n",
       "ENO                         1.471614e+01\n",
       "EX_co2_e                    2.280983e+01\n",
       "EX_glc__D_e                -1.000000e+01\n",
       "EX_h_e                      1.753087e+01\n",
       "EX_h2o_e                    2.917583e+01\n",
       "EX_nh4_e                   -4.765319e+00\n",
       "EX_o2_e                    -2.179949e+01\n",
       "EX_pi_e                    -3.214895e+00\n",
       "FBA                         7.477382e+00\n",
       "FUM                         5.064376e+00\n",
       "G6PDH2r                     4.959985e+00\n",
       "GAPD                        1.602353e+01\n",
       "GLCpts                      1.000000e+01\n",
       "GLNS                        2.234617e-01\n",
       "GLNabc                      2.722410e-16\n",
       "GLUDy                      -4.541857e+00\n",
       "GND                         4.959985e+00\n",
       "H2Ot                       -2.917583e+01\n",
       "ICDHyr                      6.007250e+00\n",
       "MDH                         5.064376e+00\n",
       "NADH16                      3.853461e+01\n",
       "NH4t                        4.765319e+00\n",
       "O2t                         2.179949e+01\n",
       "PDH                         9.282533e+00\n",
       "PFK                         7.477382e+00\n",
       "PGI                         4.860861e+00\n",
       "PGK                        -1.602353e+01\n",
       "PGL                         4.959985e+00\n",
       "PGM                        -1.471614e+01\n",
       "PIt2r                       3.214895e+00\n",
       "PPC                         2.504309e+00\n",
       "PYK                         1.758177e+00\n",
       "RPE                         2.678482e+00\n",
       "RPI                        -2.281503e+00\n",
       "SUCDi                       5.064376e+00\n",
       "SUCOAS                     -5.064376e+00\n",
       "TALA                        1.496984e+00\n",
       "TKT1                        1.496984e+00\n",
       "TKT2                        1.181498e+00\n",
       "TPI                         7.477382e+00\n",
       "Name: fluxes, dtype: float64"
      ]
     },
     "metadata": {},
     "execution_count": 39
    }
   ],
   "metadata": {}
  },
  {
   "cell_type": "markdown",
   "source": [
    "## Metabolic pathway visualizations with Escher"
   ],
   "metadata": {}
  },
  {
   "cell_type": "markdown",
   "source": [
    "It is quite tedious to try to interpret GSM flux predictions by looking at the raw numbers or statistics. One very useful approach to analyzing simulation results is to plot them on metabolic pathway maps. Luckily a very useful Python package exists for that purpose – [Escher](https://escher.github.io/#/) ([10.1371/journal.pcbi.1004321](http://dx.doi.org/10.1371/journal.pcbi.1004321))."
   ],
   "metadata": {}
  },
  {
   "cell_type": "code",
   "execution_count": 40,
   "source": [
    "import escher"
   ],
   "outputs": [],
   "metadata": {}
  },
  {
   "cell_type": "markdown",
   "source": [
    "You can watch the following [video](https://www.youtube.com/embed/qUipX-xzZjQ) to get an overview of Escher's functionality."
   ],
   "metadata": {}
  },
  {
   "cell_type": "code",
   "execution_count": 41,
   "source": [
    "from IPython.display import IFrame\r\n",
    "IFrame(width=\"560\", height=\"315\", src=\"https://www.youtube.com/embed/qUipX-xzZjQ\")"
   ],
   "outputs": [
    {
     "output_type": "execute_result",
     "data": {
      "text/html": [
       "\n",
       "        <iframe\n",
       "            width=\"560\"\n",
       "            height=\"315\"\n",
       "            src=\"https://www.youtube.com/embed/qUipX-xzZjQ\"\n",
       "            frameborder=\"0\"\n",
       "            allowfullscreen\n",
       "        ></iframe>\n",
       "        "
      ],
      "text/plain": [
       "<IPython.lib.display.IFrame at 0x190788fb0a0>"
      ]
     },
     "metadata": {},
     "execution_count": 41
    }
   ],
   "metadata": {}
  },
  {
   "cell_type": "markdown",
   "source": [
    "With the following you can display all available maps in escher (you can also load you're own which we are not going to cover here)."
   ],
   "metadata": {}
  },
  {
   "cell_type": "code",
   "execution_count": 42,
   "source": [
    "escher.list_available_maps()"
   ],
   "outputs": [
    {
     "output_type": "execute_result",
     "data": {
      "text/plain": [
       "[{'organism': 'Saccharomyces cerevisiae',\n",
       "  'map_name': 'iMM904.Central carbon metabolism'},\n",
       " {'organism': 'Homo sapiens',\n",
       "  'map_name': 'RECON1.Inositol retinol metabolism'},\n",
       " {'organism': 'Homo sapiens', 'map_name': 'RECON1.Glycolysis TCA PPP'},\n",
       " {'organism': 'Homo sapiens', 'map_name': 'RECON1.Tryptophan metabolism'},\n",
       " {'organism': 'Homo sapiens', 'map_name': 'RECON1.Carbohydrate metabolism'},\n",
       " {'organism': 'Homo sapiens',\n",
       "  'map_name': 'RECON1.Amino acid metabolism (partial)'},\n",
       " {'organism': 'Escherichia coli', 'map_name': 'iJO1366.Nucleotide metabolism'},\n",
       " {'organism': 'Escherichia coli',\n",
       "  'map_name': 'iJO1366.Fatty acid biosynthesis (saturated)'},\n",
       " {'organism': 'Escherichia coli',\n",
       "  'map_name': 'iJO1366.Nucleotide and histidine biosynthesis'},\n",
       " {'organism': 'Escherichia coli', 'map_name': 'e_coli_core.Core metabolism'},\n",
       " {'organism': 'Escherichia coli', 'map_name': 'iJO1366.Central metabolism'},\n",
       " {'organism': 'Escherichia coli',\n",
       "  'map_name': 'iJO1366.Fatty acid beta-oxidation'}]"
      ]
     },
     "metadata": {},
     "execution_count": 42
    }
   ],
   "metadata": {
    "scrolled": true
   }
  },
  {
   "cell_type": "markdown",
   "source": [
    "Let's display the map that corresponds to the _E. coli_ core model."
   ],
   "metadata": {}
  },
  {
   "cell_type": "code",
   "execution_count": 43,
   "source": [
    "escher.Builder('e_coli_core.Core metabolism')"
   ],
   "outputs": [
    {
     "output_type": "stream",
     "name": "stdout",
     "text": [
      "Downloading Map from https://escher.github.io/1-0-0/6/maps/Escherichia%20coli/e_coli_core.Core%20metabolism.json\n"
     ]
    },
    {
     "output_type": "display_data",
     "data": {
      "application/vnd.jupyter.widget-view+json": {
       "version_major": 2,
       "version_minor": 0,
       "model_id": "846928f2a47b473faab751dcaacda454"
      },
      "text/plain": [
       "Builder()"
      ]
     },
     "metadata": {}
    }
   ],
   "metadata": {}
  },
  {
   "cell_type": "markdown",
   "source": [
    "Ok, now to the data visualization part. Escher can visualization gene, reaction, and metabolite-centric  data. Here an example of visualizing one flux and one metabolite concentration (Escher expect Python dictionaries as data input mapping data values to gene/reaction/metabolite identifiers)."
   ],
   "metadata": {}
  },
  {
   "cell_type": "code",
   "execution_count": 45,
   "source": [
    "escher.Builder('e_coli_core.Core metabolism',\r\n",
    "               reaction_data={'PGK': 100},\r\n",
    "               metabolite_data={'ATP': 20})"
   ],
   "outputs": [
    {
     "output_type": "stream",
     "name": "stdout",
     "text": [
      "Downloading Map from https://escher.github.io/1-0-0/6/maps/Escherichia%20coli/e_coli_core.Core%20metabolism.json\n"
     ]
    },
    {
     "output_type": "display_data",
     "data": {
      "application/vnd.jupyter.widget-view+json": {
       "version_major": 2,
       "version_minor": 0,
       "model_id": "956052356fcb41b8b3bd4f84cc7008c0"
      },
      "text/plain": [
       "Builder(metabolite_data={'ATP': 20}, reaction_data={'PGK': 100})"
      ]
     },
     "metadata": {}
    }
   ],
   "metadata": {}
  },
  {
   "cell_type": "markdown",
   "source": [
    "***\n",
    "**A.**\n",
    "\n",
    "* Visualize the computed fluxes (see above `solution.fluxes`) on the central carbon metabolism map.\n",
    "\n",
    "Hints:\n",
    "* You can convert a pandas Series into a dictionary using the `.to_dict()` method."
   ],
   "metadata": {}
  },
  {
   "cell_type": "markdown",
   "source": [
    "## Manipulating models"
   ],
   "metadata": {}
  },
  {
   "cell_type": "markdown",
   "source": [
    "### Making temporary changes to the model"
   ],
   "metadata": {}
  },
  {
   "cell_type": "markdown",
   "source": [
    "Usually one relies on making copies if objects need to be changed but the original state needs to be retained. Unfortunately, making copies of models is time consuming."
   ],
   "metadata": {}
  },
  {
   "cell_type": "code",
   "execution_count": 46,
   "source": [
    "model.optimize()"
   ],
   "outputs": [
    {
     "output_type": "execute_result",
     "data": {
      "text/html": [
       "<strong><em>Optimal</em> solution with objective value 0.874</strong><br><div>\n",
       "<style scoped>\n",
       "    .dataframe tbody tr th:only-of-type {\n",
       "        vertical-align: middle;\n",
       "    }\n",
       "\n",
       "    .dataframe tbody tr th {\n",
       "        vertical-align: top;\n",
       "    }\n",
       "\n",
       "    .dataframe thead th {\n",
       "        text-align: right;\n",
       "    }\n",
       "</style>\n",
       "<table border=\"1\" class=\"dataframe\">\n",
       "  <thead>\n",
       "    <tr style=\"text-align: right;\">\n",
       "      <th></th>\n",
       "      <th>fluxes</th>\n",
       "      <th>reduced_costs</th>\n",
       "    </tr>\n",
       "  </thead>\n",
       "  <tbody>\n",
       "    <tr>\n",
       "      <th>ACALD</th>\n",
       "      <td>0.000000</td>\n",
       "      <td>6.938894e-18</td>\n",
       "    </tr>\n",
       "    <tr>\n",
       "      <th>ACALDt</th>\n",
       "      <td>0.000000</td>\n",
       "      <td>0.000000e+00</td>\n",
       "    </tr>\n",
       "    <tr>\n",
       "      <th>ACKr</th>\n",
       "      <td>0.000000</td>\n",
       "      <td>1.040834e-17</td>\n",
       "    </tr>\n",
       "    <tr>\n",
       "      <th>ACONTa</th>\n",
       "      <td>6.007250</td>\n",
       "      <td>0.000000e+00</td>\n",
       "    </tr>\n",
       "    <tr>\n",
       "      <th>ACONTb</th>\n",
       "      <td>6.007250</td>\n",
       "      <td>1.387779e-17</td>\n",
       "    </tr>\n",
       "    <tr>\n",
       "      <th>...</th>\n",
       "      <td>...</td>\n",
       "      <td>...</td>\n",
       "    </tr>\n",
       "    <tr>\n",
       "      <th>TALA</th>\n",
       "      <td>1.496984</td>\n",
       "      <td>-1.387779e-17</td>\n",
       "    </tr>\n",
       "    <tr>\n",
       "      <th>THD2</th>\n",
       "      <td>0.000000</td>\n",
       "      <td>-2.546243e-03</td>\n",
       "    </tr>\n",
       "    <tr>\n",
       "      <th>TKT1</th>\n",
       "      <td>1.496984</td>\n",
       "      <td>-1.387779e-17</td>\n",
       "    </tr>\n",
       "    <tr>\n",
       "      <th>TKT2</th>\n",
       "      <td>1.181498</td>\n",
       "      <td>1.387779e-17</td>\n",
       "    </tr>\n",
       "    <tr>\n",
       "      <th>TPI</th>\n",
       "      <td>7.477382</td>\n",
       "      <td>-6.938894e-18</td>\n",
       "    </tr>\n",
       "  </tbody>\n",
       "</table>\n",
       "<p>95 rows × 2 columns</p>\n",
       "</div>"
      ],
      "text/plain": [
       "<Solution 0.874 at 0x19078912ee0>"
      ]
     },
     "metadata": {},
     "execution_count": 46
    }
   ],
   "metadata": {}
  },
  {
   "cell_type": "code",
   "execution_count": 47,
   "source": [
    "%%time\r\n",
    "copy_of_model = model.copy()"
   ],
   "outputs": [
    {
     "output_type": "stream",
     "name": "stdout",
     "text": [
      "Wall time: 34 ms\n"
     ]
    }
   ],
   "metadata": {}
  },
  {
   "cell_type": "markdown",
   "source": [
    "Yes, even milliseconds add up pretty quickly if you need to run many simulations (e.g. if you need to knock out every single gene individually in the model to check if it is essential or not)."
   ],
   "metadata": {}
  },
  {
   "cell_type": "code",
   "execution_count": 48,
   "source": [
    "%%time\r\n",
    "for gene in model.genes:\r\n",
    "    mutant = model.copy()\r\n",
    "    mutant.genes.get_by_id(gene.id).knock_out()"
   ],
   "outputs": [
    {
     "output_type": "stream",
     "name": "stdout",
     "text": [
      "Wall time: 3.89 s\n"
     ]
    }
   ],
   "metadata": {}
  },
  {
   "cell_type": "markdown",
   "source": [
    "For that reason cobrapy provides a mechanism that is less time consuming. Almost all methods that make changes to the mdoel such as knocking-out genes, reactions, adding or removing metabolites, reactions etc can be automatically reverted upon exit from a python context. How this works is probably best understood by looking at an example."
   ],
   "metadata": {}
  },
  {
   "cell_type": "code",
   "execution_count": 49,
   "source": [
    "%%time\r\n",
    "with model:\r\n",
    "    for gene in model.genes:\r\n",
    "        gene.knock_out()"
   ],
   "outputs": [
    {
     "output_type": "stream",
     "name": "stdout",
     "text": [
      "Wall time: 12.5 ms\n"
     ]
    }
   ],
   "metadata": {}
  },
  {
   "cell_type": "markdown",
   "source": [
    "Here, the `with model` statements starts the context and changes done to the model one indentation level to the right, are automatically recorded. When that block finishes, the context manager is requested to roll-back all changes leaving the model looking exactly as it did before all the changes."
   ],
   "metadata": {}
  },
  {
   "cell_type": "markdown",
   "source": [
    "Changing flux bounds can as indicated also be done reversibly. For example let's set the lower and upper bound of phosphoglycerate kinase to 0 (effectively knocking out the reaction)."
   ],
   "metadata": {}
  },
  {
   "cell_type": "code",
   "execution_count": 50,
   "source": [
    "with model:\r\n",
    "    model.reactions.PGK.bounds = 0, 0\r\n",
    "    print(\"PGK's bounds inside the with statement\")\r\n",
    "    print(model.reactions.PGK.lower_bound, model.reactions.PGK.bounds)\r\n",
    "    print('Mutant growth rate: ', model.optimize().objective_value)\r\n",
    "print(\"PGK's bounds outside the with statement\")\r\n",
    "print(model.reactions.PGK.bounds)"
   ],
   "outputs": [
    {
     "output_type": "stream",
     "name": "stdout",
     "text": [
      "PGK's bounds inside the with statement\n",
      "0 (0, 0)\n",
      "Mutant growth rate:  -2.171174082614637e-15\n",
      "PGK's bounds outside the with statement\n",
      "(-1000.0, 1000.0)\n"
     ]
    }
   ],
   "metadata": {}
  },
  {
   "cell_type": "markdown",
   "source": [
    "### Slim versus full optimize"
   ],
   "metadata": {}
  },
  {
   "cell_type": "markdown",
   "source": [
    "Mathematical solvers are now so fast that for many small to mid-size models computing the solution can be even faster than it takes us to collect the values from the solver and convert that to objects that are usable for in python. When we use `model.optimize` we gather values for all reactions and metabolites and that can take some time. If we are only interested in the flux value of a single reaction or the objective, it is faster to instead use `model.slim_optimize` which only does the optimization and returns the objective value leaving it up to you to fetch other values that you may need. For example, let's optimize and get the flux value of the `ATPM` reaction."
   ],
   "metadata": {}
  },
  {
   "cell_type": "code",
   "execution_count": 51,
   "source": [
    "%%time\r\n",
    "solution = model.optimize()\r\n",
    "solution.fluxes['ATPM']"
   ],
   "outputs": [
    {
     "output_type": "stream",
     "name": "stdout",
     "text": [
      "Wall time: 1.99 ms\n"
     ]
    },
    {
     "output_type": "execute_result",
     "data": {
      "text/plain": [
       "8.39"
      ]
     },
     "metadata": {},
     "execution_count": 51
    }
   ],
   "metadata": {}
  },
  {
   "cell_type": "code",
   "execution_count": 52,
   "source": [
    "%%time\r\n",
    "model.slim_optimize()\r\n",
    "model.reactions.ATPM.flux"
   ],
   "outputs": [
    {
     "output_type": "stream",
     "name": "stdout",
     "text": [
      "Wall time: 0 ns\n"
     ]
    },
    {
     "output_type": "execute_result",
     "data": {
      "text/plain": [
       "8.39"
      ]
     },
     "metadata": {},
     "execution_count": 52
    }
   ],
   "metadata": {}
  },
  {
   "cell_type": "markdown",
   "source": [
    "Again, the difference may seem small but when done thousands of times these small differences can start to become significant."
   ],
   "metadata": {}
  },
  {
   "cell_type": "markdown",
   "source": [
    "### Changing the objective function"
   ],
   "metadata": {}
  },
  {
   "cell_type": "markdown",
   "source": [
    "You can change the objective function like this (e.g. if you'd like to determine the maximum possible production rate of acetate)."
   ],
   "metadata": {}
  },
  {
   "cell_type": "code",
   "execution_count": 53,
   "source": [
    "with model:\r\n",
    "    model.objective = model.reactions.EX_ac_e\r\n",
    "    print(model.optimize().objective_value)"
   ],
   "outputs": [
    {
     "output_type": "stream",
     "name": "stdout",
     "text": [
      "20.0\n"
     ]
    }
   ],
   "metadata": {}
  },
  {
   "cell_type": "markdown",
   "source": [
    "### Changing the medium"
   ],
   "metadata": {}
  },
  {
   "cell_type": "markdown",
   "source": [
    "One can access the medium condition using `model.medium`. The indicated bound is the effective upper uptake bound. "
   ],
   "metadata": {}
  },
  {
   "cell_type": "code",
   "execution_count": 54,
   "source": [
    "model.medium"
   ],
   "outputs": [
    {
     "output_type": "execute_result",
     "data": {
      "text/plain": [
       "{'EX_co2_e': 1000.0,\n",
       " 'EX_glc__D_e': 10.0,\n",
       " 'EX_h_e': 1000.0,\n",
       " 'EX_h2o_e': 1000.0,\n",
       " 'EX_nh4_e': 1000.0,\n",
       " 'EX_o2_e': 1000.0,\n",
       " 'EX_pi_e': 1000.0}"
      ]
     },
     "metadata": {},
     "execution_count": 54
    }
   ],
   "metadata": {}
  },
  {
   "cell_type": "markdown",
   "source": [
    "Changing the carbon source in the medium can be achieved by adjusting the flux bounds of the respective exchange reactions appropriately. For example, the following code block removes glucose from the medium and adds succinate."
   ],
   "metadata": {}
  },
  {
   "cell_type": "code",
   "execution_count": 55,
   "source": [
    "medium = model.medium\r\n",
    "with model:\r\n",
    "    medium['EX_glc__D_e'] = 0\r\n",
    "    medium['EX_succ_e'] = 10\r\n",
    "    model.medium = medium\r\n",
    "    solution = model.optimize()\r\n",
    "    print(solution.fluxes['BIOMASS_Ecoli_core_w_GAM'])"
   ],
   "outputs": [
    {
     "output_type": "stream",
     "name": "stdout",
     "text": [
      "0.397563015427763\n"
     ]
    }
   ],
   "metadata": {}
  },
  {
   "cell_type": "markdown",
   "source": [
    "Changing the carbon source to succinate led to a significant drop in growth rate."
   ],
   "metadata": {}
  },
  {
   "cell_type": "markdown",
   "source": [
    "***\n",
    "**B.**\n",
    "\n",
    "* Change the carbon source in the medium to a different carbon source. What is the difference in the growth rate observed?\n",
    "* How about growing E. coli under anaerobic conditions?\n",
    "* Now that you know how to compute the maximum production rate of a compound and you know how to manipulate the medium, calculate the theoretical maximum yield of succinate.\n",
    "\n",
    "Hints:\n",
    "* Remember that you can use model.reactions.query to find specific metabolites and reactions etc.\n",
    "* You can use `model.exchanges` to get an overview of available exchange reactions"
   ],
   "metadata": {}
  },
  {
   "cell_type": "markdown",
   "source": [
    "## Adding reactions and pathways"
   ],
   "metadata": {}
  },
  {
   "cell_type": "code",
   "execution_count": 56,
   "source": [
    "from cobra import Reaction, Metabolite"
   ],
   "outputs": [],
   "metadata": {}
  },
  {
   "cell_type": "markdown",
   "source": [
    "Ok, let's add [cis-aconitic acid decarboxylase](https://www.kegg.jp/entry/R02243), a reaction that produces itaconic acid from the TCA cycle intertmediate cis-aconitate:\n",
    "\n",
    "    1 H(+) + 1 cis-aconitate = 1 CO2 + 1 itaconate"
   ],
   "metadata": {}
  },
  {
   "cell_type": "code",
   "execution_count": 57,
   "source": [
    "new_reaction = Reaction('CAADC')  # CAADC -> (c)is-(a)conitic (a)cid (d)e(c)arboxylase"
   ],
   "outputs": [],
   "metadata": {}
  },
  {
   "cell_type": "markdown",
   "source": [
    "Itaconic acid (or itaconate depending on its protonation state) is not a native metabolite in _E. coli_. So, we need to create a new metabolite."
   ],
   "metadata": {}
  },
  {
   "cell_type": "code",
   "execution_count": 58,
   "source": [
    "itaconate = Metabolite(id='itaconate_c', compartment='c')"
   ],
   "outputs": [],
   "metadata": {}
  },
  {
   "cell_type": "markdown",
   "source": [
    "The native metabolites in the reaction are:"
   ],
   "metadata": {}
  },
  {
   "cell_type": "code",
   "execution_count": 59,
   "source": [
    "model.metabolites.acon_C_c"
   ],
   "outputs": [
    {
     "output_type": "execute_result",
     "data": {
      "text/html": [
       "\n",
       "        <table>\n",
       "            <tr>\n",
       "                <td><strong>Metabolite identifier</strong></td><td>acon_C_c</td>\n",
       "            </tr><tr>\n",
       "                <td><strong>Name</strong></td><td>Cis-Aconitate</td>\n",
       "            </tr><tr>\n",
       "                <td><strong>Memory address</strong></td>\n",
       "                <td>0x019077e3dc40</td>\n",
       "            </tr><tr>\n",
       "                <td><strong>Formula</strong></td><td>C6H3O6</td>\n",
       "            </tr><tr>\n",
       "                <td><strong>Compartment</strong></td><td>c</td>\n",
       "            </tr><tr>\n",
       "                <td><strong>In 2 reaction(s)</strong></td><td>\n",
       "                    ACONTa, ACONTb</td>\n",
       "            </tr>\n",
       "        </table>"
      ],
      "text/plain": [
       "<Metabolite acon_C_c at 0x19077e3dc40>"
      ]
     },
     "metadata": {},
     "execution_count": 59
    }
   ],
   "metadata": {}
  },
  {
   "cell_type": "code",
   "execution_count": 60,
   "source": [
    "model.metabolites.h_c"
   ],
   "outputs": [
    {
     "output_type": "execute_result",
     "data": {
      "text/html": [
       "\n",
       "        <table>\n",
       "            <tr>\n",
       "                <td><strong>Metabolite identifier</strong></td><td>h_c</td>\n",
       "            </tr><tr>\n",
       "                <td><strong>Name</strong></td><td>H+</td>\n",
       "            </tr><tr>\n",
       "                <td><strong>Memory address</strong></td>\n",
       "                <td>0x019077e6fdf0</td>\n",
       "            </tr><tr>\n",
       "                <td><strong>Formula</strong></td><td>H</td>\n",
       "            </tr><tr>\n",
       "                <td><strong>Compartment</strong></td><td>c</td>\n",
       "            </tr><tr>\n",
       "                <td><strong>In 35 reaction(s)</strong></td><td>\n",
       "                    GLUt2r, ACALD, GLUSy, FORt2, PFK, GLUDy, GLNS, CYTBD, BIOMASS_Ecoli_core_w_GAM, ATPM, LDH_D, THD2, AKGt2r, FUMt2_2, PPC, PYRt2, PIt2r, ATPS4r, ETOHt2r, ACt2r, NADH16, SUCCt2_2, D_LACt2, PGL, PYK,...</td>\n",
       "            </tr>\n",
       "        </table>"
      ],
      "text/plain": [
       "<Metabolite h_c at 0x19077e6fdf0>"
      ]
     },
     "metadata": {},
     "execution_count": 60
    }
   ],
   "metadata": {}
  },
  {
   "cell_type": "code",
   "execution_count": 61,
   "source": [
    "model.metabolites.co2_c"
   ],
   "outputs": [
    {
     "output_type": "execute_result",
     "data": {
      "text/html": [
       "\n",
       "        <table>\n",
       "            <tr>\n",
       "                <td><strong>Metabolite identifier</strong></td><td>co2_c</td>\n",
       "            </tr><tr>\n",
       "                <td><strong>Name</strong></td><td>CO2</td>\n",
       "            </tr><tr>\n",
       "                <td><strong>Memory address</strong></td>\n",
       "                <td>0x019077e3d820</td>\n",
       "            </tr><tr>\n",
       "                <td><strong>Formula</strong></td><td>CO2</td>\n",
       "            </tr><tr>\n",
       "                <td><strong>Compartment</strong></td><td>c</td>\n",
       "            </tr><tr>\n",
       "                <td><strong>In 9 reaction(s)</strong></td><td>\n",
       "                    AKGDH, PPC, PDH, GND, CO2t, ME1, PPCK, ICDHyr, ME2</td>\n",
       "            </tr>\n",
       "        </table>"
      ],
      "text/plain": [
       "<Metabolite co2_c at 0x19077e3d820>"
      ]
     },
     "metadata": {},
     "execution_count": 61
    }
   ],
   "metadata": {}
  },
  {
   "cell_type": "markdown",
   "source": [
    "Now, we're going to specify the reaction's stoichiometry."
   ],
   "metadata": {}
  },
  {
   "cell_type": "code",
   "execution_count": 62,
   "source": [
    "new_reaction.add_metabolites({model.metabolites.h_c: -1,\r\n",
    "                              model.metabolites.acon_C_c: -1,\r\n",
    "                              itaconate: 1, # our newly created metabolites\r\n",
    "                              model.metabolites.co2_c: 1\r\n",
    "                             })"
   ],
   "outputs": [],
   "metadata": {}
  },
  {
   "cell_type": "markdown",
   "source": [
    "Printing the reaction reveals that the reaction reveals that formula is correct."
   ],
   "metadata": {}
  },
  {
   "cell_type": "code",
   "execution_count": 63,
   "source": [
    "print(new_reaction.build_reaction_string())"
   ],
   "outputs": [
    {
     "output_type": "stream",
     "name": "stdout",
     "text": [
      "acon_C_c + h_c --> co2_c + itaconate_c\n"
     ]
    }
   ],
   "metadata": {}
  },
  {
   "cell_type": "markdown",
   "source": [
    "Now, let's add the new reaction to the model."
   ],
   "metadata": {}
  },
  {
   "cell_type": "code",
   "execution_count": 64,
   "source": [
    "model.add_reactions([new_reaction])"
   ],
   "outputs": [],
   "metadata": {}
  },
  {
   "cell_type": "markdown",
   "source": [
    "Quickly check that the reaction was indeed added to the model."
   ],
   "metadata": {}
  },
  {
   "cell_type": "code",
   "execution_count": 65,
   "source": [
    "model.reactions.CAADC"
   ],
   "outputs": [
    {
     "output_type": "execute_result",
     "data": {
      "text/html": [
       "\n",
       "        <table>\n",
       "            <tr>\n",
       "                <td><strong>Reaction identifier</strong></td><td>CAADC</td>\n",
       "            </tr><tr>\n",
       "                <td><strong>Name</strong></td><td></td>\n",
       "            </tr><tr>\n",
       "                <td><strong>Memory address</strong></td>\n",
       "                <td>0x019078912f10</td>\n",
       "            </tr><tr>\n",
       "                <td><strong>Stoichiometry</strong></td>\n",
       "                <td>\n",
       "                    <p style='text-align:right'>acon_C_c + h_c --> co2_c + itaconate_c</p>\n",
       "                    <p style='text-align:right'>Cis-Aconitate + H+ --> CO2 +</p>\n",
       "                </td>\n",
       "            </tr><tr>\n",
       "                <td><strong>GPR</strong></td><td></td>\n",
       "            </tr><tr>\n",
       "                <td><strong>Lower bound</strong></td><td>0.0</td>\n",
       "            </tr><tr>\n",
       "                <td><strong>Upper bound</strong></td><td>1000.0</td>\n",
       "            </tr>\n",
       "        </table>\n",
       "        "
      ],
      "text/plain": [
       "<Reaction CAADC at 0x19078912f10>"
      ]
     },
     "metadata": {},
     "execution_count": 65
    }
   ],
   "metadata": {}
  },
  {
   "cell_type": "markdown",
   "source": [
    "Let's produce some itaconic acid then!"
   ],
   "metadata": {}
  },
  {
   "cell_type": "code",
   "execution_count": 66,
   "source": [
    "with model:\r\n",
    "    model.objective = model.reactions.CAADC\r\n",
    "    print(model.optimize().objective_value)"
   ],
   "outputs": [
    {
     "output_type": "stream",
     "name": "stdout",
     "text": [
      "0.0\n"
     ]
    }
   ],
   "metadata": {}
  },
  {
   "cell_type": "markdown",
   "source": [
    "***\n",
    "**C.**\n",
    "\n",
    "\n",
    "😞 What happened? Discuss with your partners. Why is there no production flux? How can this situation be resolved?\n",
    "\n",
    "Hints:\n",
    "* Revisit the steady-steady assumption that underlies also GSMs."
   ],
   "metadata": {}
  },
  {
   "cell_type": "markdown",
   "source": [
    "## Phenotype predictions"
   ],
   "metadata": {}
  },
  {
   "cell_type": "markdown",
   "source": [
    "### Gene deletions and gene essentiality"
   ],
   "metadata": {}
  },
  {
   "cell_type": "markdown",
   "source": [
    "#### Knocking out a single gene"
   ],
   "metadata": {}
  },
  {
   "cell_type": "markdown",
   "source": [
    "In the model, exactly one gene is associated with reaction with [phosphoglycerate kinase](http://bigg.ucsd.edu/universal/reactions/PGK) (PGK)."
   ],
   "metadata": {}
  },
  {
   "cell_type": "code",
   "execution_count": 67,
   "source": [
    "model.reactions.PGK.genes"
   ],
   "outputs": [
    {
     "output_type": "execute_result",
     "data": {
      "text/plain": [
       "frozenset({<Gene b2926 at 0x19077e66e50>})"
      ]
     },
     "metadata": {},
     "execution_count": 67
    }
   ],
   "metadata": {}
  },
  {
   "cell_type": "markdown",
   "source": [
    "Checking the name of this gene in the model (the id is the Blattner number b2926), reveals that it is indeed [pgk](http://ecocyc.org/gene?orgid=ECOLI&id=EG10703)."
   ],
   "metadata": {}
  },
  {
   "cell_type": "code",
   "execution_count": 68,
   "source": [
    "model.genes.b2926.name"
   ],
   "outputs": [
    {
     "output_type": "execute_result",
     "data": {
      "text/plain": [
       "'pgk'"
      ]
     },
     "metadata": {},
     "execution_count": 68
    }
   ],
   "metadata": {}
  },
  {
   "cell_type": "markdown",
   "source": [
    "Is [pgk](http://ecocyc.org/gene?orgid=ECOLI&id=EG10703) essential? Let's find out."
   ],
   "metadata": {}
  },
  {
   "cell_type": "code",
   "execution_count": 69,
   "source": [
    "with model as pgk_mutant:\r\n",
    "    pgk_mutant.genes.b2926.knock_out()\r\n",
    "    print(pgk_mutant.slim_optimize())"
   ],
   "outputs": [
    {
     "output_type": "stream",
     "name": "stdout",
     "text": [
      "1.0026113169547354e-16\n"
     ]
    }
   ],
   "metadata": {}
  },
  {
   "cell_type": "markdown",
   "source": [
    "Yes, it is."
   ],
   "metadata": {}
  },
  {
   "cell_type": "markdown",
   "source": [
    "#### Perform all possible single gene deletions"
   ],
   "metadata": {}
  },
  {
   "cell_type": "markdown",
   "source": [
    "Using a `for` loop allows to iterate over all genes in the model and knock out each one of them individually. We're using the model as a context to undo every gene deletion before proceeding to the next knockout."
   ],
   "metadata": {}
  },
  {
   "cell_type": "code",
   "execution_count": 70,
   "source": [
    "essentiality = {}\r\n",
    "for gene in model.genes:\r\n",
    "    with model:\r\n",
    "        gene.knock_out()\r\n",
    "        essentiality[gene] = model.slim_optimize(error_value=0.)"
   ],
   "outputs": [],
   "metadata": {}
  },
  {
   "cell_type": "code",
   "execution_count": 71,
   "source": [
    "essentiality"
   ],
   "outputs": [
    {
     "output_type": "execute_result",
     "data": {
      "text/plain": [
       "{<Gene b0351 at 0x19077e68a00>: 0.8739215069684292,\n",
       " <Gene b1241 at 0x19077e68a60>: 0.8739215069684292,\n",
       " <Gene s0001 at 0x19077e68af0>: 0.21114065257211254,\n",
       " <Gene b1849 at 0x19077e68040>: 0.8739215069684346,\n",
       " <Gene b3115 at 0x19077e68070>: 0.8739215069684346,\n",
       " <Gene b2296 at 0x19077e68940>: 0.8739215069684346,\n",
       " <Gene b1276 at 0x19077e68a90>: 0.8739215069684346,\n",
       " <Gene b0118 at 0x19077e68a30>: 0.8739215069684346,\n",
       " <Gene b0474 at 0x19077e68b20>: 0.8739215069684346,\n",
       " <Gene b0116 at 0x19077e68b80>: 0.7823510529477398,\n",
       " <Gene b0726 at 0x19077e68b50>: 0.8583074080226886,\n",
       " <Gene b0727 at 0x19077e68be0>: 0.8583074080226886,\n",
       " <Gene b2587 at 0x19077e68c10>: 0.8739215069684305,\n",
       " <Gene b0356 at 0x19077e68c40>: 0.8739215069684305,\n",
       " <Gene b1478 at 0x19077e68c70>: 0.8739215069684305,\n",
       " <Gene b3731 at 0x19077e68ca0>: 0.3742298749331076,\n",
       " <Gene b3733 at 0x19077e68cd0>: 0.3742298749331076,\n",
       " <Gene b3735 at 0x19077e68d00>: 0.3742298749331076,\n",
       " <Gene b3739 at 0x19077e68d30>: 0.8739215069684207,\n",
       " <Gene b3732 at 0x19077e68d60>: 0.374229874933108,\n",
       " <Gene b3737 at 0x19077e68d90>: 0.374229874933108,\n",
       " <Gene b3736 at 0x19077e68dc0>: 0.374229874933108,\n",
       " <Gene b3738 at 0x19077e68df0>: 0.374229874933108,\n",
       " <Gene b3734 at 0x19077e68e20>: 0.374229874933108,\n",
       " <Gene b0720 at 0x19077e68e50>: -1.1402679173045201e-15,\n",
       " <Gene b0979 at 0x19077e68e80>: 0.8739215069684155,\n",
       " <Gene b0978 at 0x19077e68eb0>: 0.8739215069684155,\n",
       " <Gene b0733 at 0x19077e68fa0>: 0.8739215069684155,\n",
       " <Gene b0734 at 0x19077e680a0>: 0.8739215069684155,\n",
       " <Gene b2975 at 0x19077e68bb0>: 0.8739215069684155,\n",
       " <Gene b3603 at 0x19077e68f70>: 0.8739215069684155,\n",
       " <Gene b2779 at 0x19077e68ac0>: 1.286342625147183e-17,\n",
       " <Gene b2925 at 0x19077e689a0>: 0.8739215069684307,\n",
       " <Gene b1773 at 0x19077e68f40>: 0.8739215069684307,\n",
       " <Gene b2097 at 0x19077e68f10>: 0.8739215069684307,\n",
       " <Gene b3925 at 0x19077e68ee0>: 0.8739215069684307,\n",
       " <Gene b4232 at 0x19077e68fd0>: 0.8739215069684307,\n",
       " <Gene b0904 at 0x19077e689d0>: 0.8739215069684307,\n",
       " <Gene b2492 at 0x19077e66250>: 0.8739215069684307,\n",
       " <Gene b4151 at 0x19077e661c0>: 0.8739215069684307,\n",
       " <Gene b4154 at 0x19077e661f0>: 0.8739215069684307,\n",
       " <Gene b4152 at 0x19077e66220>: 0.8739215069684307,\n",
       " <Gene b4153 at 0x19077e660d0>: 0.8739215069684307,\n",
       " <Gene b1817 at 0x19077e66070>: 0.8739215069684307,\n",
       " <Gene b2415 at 0x19077e66130>: 0.0,\n",
       " <Gene b1818 at 0x19077e66280>: 0.8739215069684309,\n",
       " <Gene b1819 at 0x19077e662b0>: 0.8739215069684309,\n",
       " <Gene b2416 at 0x19077e662e0>: 0.0,\n",
       " <Gene b4122 at 0x19077e66310>: 0.8739215069684303,\n",
       " <Gene b1612 at 0x19077e66340>: 0.8739215069684303,\n",
       " <Gene b1611 at 0x19077e66370>: 0.8739215069684303,\n",
       " <Gene b3528 at 0x19077e663a0>: 0.8739215069684303,\n",
       " <Gene b1852 at 0x19077e663d0>: 0.8638133095040009,\n",
       " <Gene b1779 at 0x19077e66400>: 0.0,\n",
       " <Gene b1101 at 0x19077e66430>: 0.8739215069684307,\n",
       " <Gene b1621 at 0x19077e66460>: 0.8739215069684307,\n",
       " <Gene b2417 at 0x19077e66490>: 0.8739215069684307,\n",
       " <Gene b3870 at 0x19077e664c0>: 0.8739215069684307,\n",
       " <Gene b1297 at 0x19077e664f0>: 0.8739215069684307,\n",
       " <Gene b0810 at 0x19077e66520>: 0.8739215069684307,\n",
       " <Gene b0809 at 0x19077e66550>: 0.8739215069684307,\n",
       " <Gene b0811 at 0x19077e66580>: 0.8739215069684307,\n",
       " <Gene b1761 at 0x19077e665b0>: 0.8513885233462086,\n",
       " <Gene b1524 at 0x19077e665e0>: 0.8739215069684307,\n",
       " <Gene b1812 at 0x19077e66610>: 0.8739215069684307,\n",
       " <Gene b0485 at 0x19077e66640>: 0.8739215069684307,\n",
       " <Gene b3213 at 0x19077e66670>: 0.8739215069684307,\n",
       " <Gene b3212 at 0x19077e666a0>: 0.8739215069684307,\n",
       " <Gene b4077 at 0x19077e666d0>: 0.8739215069684307,\n",
       " <Gene b2029 at 0x19077e66700>: 0.8638133095040006,\n",
       " <Gene b0875 at 0x19077e66730>: 0.8739215069684307,\n",
       " <Gene b1136 at 0x19077e66760>: 6.046579981984286e-17,\n",
       " <Gene b4015 at 0x19077e66790>: 0.8739215069684309,\n",
       " <Gene b2133 at 0x19077e667c0>: 0.8739215069684309,\n",
       " <Gene b1380 at 0x19077e667f0>: 0.8739215069684309,\n",
       " <Gene b4014 at 0x19077e66820>: 0.8739215069684309,\n",
       " <Gene b2976 at 0x19077e66850>: 0.8739215069684309,\n",
       " <Gene b3236 at 0x19077e66880>: 0.8258192905969886,\n",
       " <Gene b1479 at 0x19077e668b0>: 0.8739215069684304,\n",
       " <Gene b2463 at 0x19077e668e0>: 0.8739215069684304,\n",
       " <Gene b2279 at 0x19077e66910>: 0.21166294973530964,\n",
       " <Gene b2282 at 0x19077e66940>: 0.21166294973530964,\n",
       " <Gene b2284 at 0x19077e66970>: 0.21166294973530964,\n",
       " <Gene b2287 at 0x19077e669a0>: 0.21166294973530964,\n",
       " <Gene b2276 at 0x19077e669d0>: 0.21166294973530964,\n",
       " <Gene b2278 at 0x19077e66a00>: 0.21166294973530964,\n",
       " <Gene b2288 at 0x19077e66a30>: 0.21166294973530964,\n",
       " <Gene b2285 at 0x19077e66a60>: 0.21166294973530964,\n",
       " <Gene b2280 at 0x19077e66a90>: 0.21166294973530964,\n",
       " <Gene b2281 at 0x19077e66ac0>: 0.21166294973530964,\n",
       " <Gene b2283 at 0x19077e66af0>: 0.21166294973530964,\n",
       " <Gene b2286 at 0x19077e66b20>: 0.21166294973530964,\n",
       " <Gene b2277 at 0x19077e66b50>: 0.21166294973530964,\n",
       " <Gene b1602 at 0x19077e66b80>: 0.8739215069684333,\n",
       " <Gene b3962 at 0x19077e66bb0>: 0.8739215069684333,\n",
       " <Gene b1603 at 0x19077e66be0>: 0.8739215069684333,\n",
       " <Gene b0451 at 0x19077e66c10>: 0.8739215069684333,\n",
       " <Gene b0114 at 0x19077e66c40>: 0.7966959254309561,\n",
       " <Gene b0115 at 0x19077e66c70>: 0.7966959254309561,\n",
       " <Gene b3916 at 0x19077e66ca0>: 0.8739215069684301,\n",
       " <Gene b1723 at 0x19077e66cd0>: 0.8739215069684301,\n",
       " <Gene b3114 at 0x19077e66d00>: 0.8739215069684301,\n",
       " <Gene b3951 at 0x19077e66d30>: 0.8739215069684301,\n",
       " <Gene b0902 at 0x19077e66d60>: 0.8739215069684301,\n",
       " <Gene b2579 at 0x19077e66d90>: 0.8739215069684301,\n",
       " <Gene b0903 at 0x19077e66dc0>: 0.8739215069684301,\n",
       " <Gene b3952 at 0x19077e66df0>: 0.8739215069684301,\n",
       " <Gene b4025 at 0x19077e66e20>: 0.8631595522084169,\n",
       " <Gene b2926 at 0x19077e66e50>: -4.4165782008846706e-18,\n",
       " <Gene b0767 at 0x19077e66e80>: 0.8638133095040001,\n",
       " <Gene b3612 at 0x19077e66eb0>: 0.873921506968429,\n",
       " <Gene b4395 at 0x19077e66fa0>: 0.873921506968429,\n",
       " <Gene b0755 at 0x19077e66160>: 0.873921506968429,\n",
       " <Gene b2987 at 0x19077e660a0>: 0.873921506968429,\n",
       " <Gene b3493 at 0x19077e66f70>: 0.873921506968429,\n",
       " <Gene b3956 at 0x19077e66040>: 0.8707448062160251,\n",
       " <Gene b3403 at 0x19077e66100>: 0.8739215069684297,\n",
       " <Gene b1702 at 0x19077e66f40>: 0.8739215069684297,\n",
       " <Gene b2297 at 0x19077e66f10>: 0.8739215069684297,\n",
       " <Gene b2458 at 0x19077e66ee0>: 0.8739215069684297,\n",
       " <Gene b1676 at 0x19077e66fd0>: 0.8739215069684297,\n",
       " <Gene b1854 at 0x19077e66190>: 0.8739215069684297,\n",
       " <Gene b4301 at 0x19077e60250>: 0.8739215069684297,\n",
       " <Gene b3386 at 0x19077e601c0>: 0.8739215069684297,\n",
       " <Gene b2914 at 0x19077e601f0>: 0.8739215069684297,\n",
       " <Gene b4090 at 0x19077e60220>: 0.8739215069684297,\n",
       " <Gene b0722 at 0x19077e600d0>: 0.8142975075325328,\n",
       " <Gene b0724 at 0x19077e60070>: 0.8142975075325328,\n",
       " <Gene b0723 at 0x19077e60130>: 0.8142975075325328,\n",
       " <Gene b0721 at 0x19077e60280>: 0.8142975075325328,\n",
       " <Gene b0729 at 0x19077e602b0>: 0.8583074080226893,\n",
       " <Gene b0728 at 0x19077e602e0>: 0.8583074080226893,\n",
       " <Gene b0008 at 0x19077e60310>: 0.8739215069684297,\n",
       " <Gene b2464 at 0x19077e60340>: 0.8739215069684297,\n",
       " <Gene b2935 at 0x19077e60370>: 0.8739215069684297,\n",
       " <Gene b2465 at 0x19077e603a0>: 0.8739215069684297,\n",
       " <Gene b3919 at 0x19077e603d0>: 0.7040369478590234}"
      ]
     },
     "metadata": {},
     "execution_count": 71
    }
   ],
   "metadata": {}
  },
  {
   "cell_type": "code",
   "execution_count": 72,
   "source": [
    "df = pd.DataFrame.from_dict(essentiality, orient='index')\r\n",
    "df = df.rename(columns={0: 'growth'})\r\n",
    "df = df.sort_values('growth')"
   ],
   "outputs": [],
   "metadata": {
    "scrolled": true
   }
  },
  {
   "cell_type": "code",
   "execution_count": 73,
   "source": [
    "df.plot.hist()"
   ],
   "outputs": [
    {
     "output_type": "execute_result",
     "data": {
      "text/plain": [
       "<AxesSubplot:ylabel='Frequency'>"
      ]
     },
     "metadata": {},
     "execution_count": 73
    },
    {
     "output_type": "display_data",
     "data": {
      "image/png": "[encoded data removed]",
      "text/plain": [
       "<Figure size 432x288 with 1 Axes>"
      ]
     },
     "metadata": {
      "needs_background": "light"
     }
    }
   ],
   "metadata": {}
  },
  {
   "cell_type": "code",
   "execution_count": 74,
   "source": [
    "ax = df.plot.bar().axes\r\n",
    "ax.figure.set_size_inches(20, 9)"
   ],
   "outputs": [
    {
     "output_type": "display_data",
     "data": {
      "image/png": "[encoded data removed]",
      "text/plain": [
       "<Figure size 1440x648 with 1 Axes>"
      ]
     },
     "metadata": {
      "needs_background": "light"
     }
    }
   ],
   "metadata": {}
  },
  {
   "cell_type": "markdown",
   "source": [
    "## Phenotypic phase plane analysis"
   ],
   "metadata": {}
  },
  {
   "cell_type": "code",
   "execution_count": 76,
   "source": [
    "from cobra.flux_analysis.phenotype_phase_plane import production_envelope"
   ],
   "outputs": [],
   "metadata": {}
  },
  {
   "cell_type": "code",
   "execution_count": 77,
   "source": [
    "ppp_succ = production_envelope(model,\r\n",
    "                    reactions=[model.reactions.EX_glc__D_e],\r\n",
    "                    objective=model.reactions.BIOMASS_Ecoli_core_w_GAM)"
   ],
   "outputs": [],
   "metadata": {}
  },
  {
   "cell_type": "code",
   "execution_count": 78,
   "source": [
    "ppp_succ"
   ],
   "outputs": [
    {
     "output_type": "execute_result",
     "data": {
      "text/html": [
       "<div>\n",
       "<style scoped>\n",
       "    .dataframe tbody tr th:only-of-type {\n",
       "        vertical-align: middle;\n",
       "    }\n",
       "\n",
       "    .dataframe tbody tr th {\n",
       "        vertical-align: top;\n",
       "    }\n",
       "\n",
       "    .dataframe thead th {\n",
       "        text-align: right;\n",
       "    }\n",
       "</style>\n",
       "<table border=\"1\" class=\"dataframe\">\n",
       "  <thead>\n",
       "    <tr style=\"text-align: right;\">\n",
       "      <th></th>\n",
       "      <th>carbon_source</th>\n",
       "      <th>flux_minimum</th>\n",
       "      <th>carbon_yield_minimum</th>\n",
       "      <th>mass_yield_minimum</th>\n",
       "      <th>flux_maximum</th>\n",
       "      <th>carbon_yield_maximum</th>\n",
       "      <th>mass_yield_maximum</th>\n",
       "      <th>EX_glc__D_e</th>\n",
       "    </tr>\n",
       "  </thead>\n",
       "  <tbody>\n",
       "    <tr>\n",
       "      <th>0</th>\n",
       "      <td>EX_glc__D_e</td>\n",
       "      <td>0.0</td>\n",
       "      <td>0.0</td>\n",
       "      <td>NaN</td>\n",
       "      <td>0.873922</td>\n",
       "      <td>1.584745e+01</td>\n",
       "      <td>NaN</td>\n",
       "      <td>-10.000000</td>\n",
       "    </tr>\n",
       "    <tr>\n",
       "      <th>1</th>\n",
       "      <td>EX_glc__D_e</td>\n",
       "      <td>0.0</td>\n",
       "      <td>0.0</td>\n",
       "      <td>NaN</td>\n",
       "      <td>0.827990</td>\n",
       "      <td>1.580658e+01</td>\n",
       "      <td>NaN</td>\n",
       "      <td>-9.498917</td>\n",
       "    </tr>\n",
       "    <tr>\n",
       "      <th>2</th>\n",
       "      <td>EX_glc__D_e</td>\n",
       "      <td>0.0</td>\n",
       "      <td>0.0</td>\n",
       "      <td>NaN</td>\n",
       "      <td>0.782058</td>\n",
       "      <td>1.576115e+01</td>\n",
       "      <td>NaN</td>\n",
       "      <td>-8.997835</td>\n",
       "    </tr>\n",
       "    <tr>\n",
       "      <th>3</th>\n",
       "      <td>EX_glc__D_e</td>\n",
       "      <td>0.0</td>\n",
       "      <td>0.0</td>\n",
       "      <td>NaN</td>\n",
       "      <td>0.736127</td>\n",
       "      <td>1.571037e+01</td>\n",
       "      <td>NaN</td>\n",
       "      <td>-8.496752</td>\n",
       "    </tr>\n",
       "    <tr>\n",
       "      <th>4</th>\n",
       "      <td>EX_glc__D_e</td>\n",
       "      <td>0.0</td>\n",
       "      <td>0.0</td>\n",
       "      <td>NaN</td>\n",
       "      <td>0.690195</td>\n",
       "      <td>1.565323e+01</td>\n",
       "      <td>NaN</td>\n",
       "      <td>-7.995669</td>\n",
       "    </tr>\n",
       "    <tr>\n",
       "      <th>5</th>\n",
       "      <td>EX_glc__D_e</td>\n",
       "      <td>0.0</td>\n",
       "      <td>0.0</td>\n",
       "      <td>NaN</td>\n",
       "      <td>0.644263</td>\n",
       "      <td>1.558844e+01</td>\n",
       "      <td>NaN</td>\n",
       "      <td>-7.494586</td>\n",
       "    </tr>\n",
       "    <tr>\n",
       "      <th>6</th>\n",
       "      <td>EX_glc__D_e</td>\n",
       "      <td>0.0</td>\n",
       "      <td>0.0</td>\n",
       "      <td>NaN</td>\n",
       "      <td>0.598332</td>\n",
       "      <td>1.551437e+01</td>\n",
       "      <td>NaN</td>\n",
       "      <td>-6.993504</td>\n",
       "    </tr>\n",
       "    <tr>\n",
       "      <th>7</th>\n",
       "      <td>EX_glc__D_e</td>\n",
       "      <td>0.0</td>\n",
       "      <td>0.0</td>\n",
       "      <td>NaN</td>\n",
       "      <td>0.552400</td>\n",
       "      <td>1.542887e+01</td>\n",
       "      <td>NaN</td>\n",
       "      <td>-6.492421</td>\n",
       "    </tr>\n",
       "    <tr>\n",
       "      <th>8</th>\n",
       "      <td>EX_glc__D_e</td>\n",
       "      <td>0.0</td>\n",
       "      <td>0.0</td>\n",
       "      <td>NaN</td>\n",
       "      <td>0.506469</td>\n",
       "      <td>1.532906e+01</td>\n",
       "      <td>NaN</td>\n",
       "      <td>-5.991338</td>\n",
       "    </tr>\n",
       "    <tr>\n",
       "      <th>9</th>\n",
       "      <td>EX_glc__D_e</td>\n",
       "      <td>0.0</td>\n",
       "      <td>0.0</td>\n",
       "      <td>NaN</td>\n",
       "      <td>0.460537</td>\n",
       "      <td>1.521104e+01</td>\n",
       "      <td>NaN</td>\n",
       "      <td>-5.490256</td>\n",
       "    </tr>\n",
       "    <tr>\n",
       "      <th>10</th>\n",
       "      <td>EX_glc__D_e</td>\n",
       "      <td>0.0</td>\n",
       "      <td>0.0</td>\n",
       "      <td>NaN</td>\n",
       "      <td>0.414605</td>\n",
       "      <td>1.506930e+01</td>\n",
       "      <td>NaN</td>\n",
       "      <td>-4.989173</td>\n",
       "    </tr>\n",
       "    <tr>\n",
       "      <th>11</th>\n",
       "      <td>EX_glc__D_e</td>\n",
       "      <td>0.0</td>\n",
       "      <td>0.0</td>\n",
       "      <td>NaN</td>\n",
       "      <td>0.368674</td>\n",
       "      <td>1.489593e+01</td>\n",
       "      <td>NaN</td>\n",
       "      <td>-4.488090</td>\n",
       "    </tr>\n",
       "    <tr>\n",
       "      <th>12</th>\n",
       "      <td>EX_glc__D_e</td>\n",
       "      <td>0.0</td>\n",
       "      <td>0.0</td>\n",
       "      <td>NaN</td>\n",
       "      <td>0.322742</td>\n",
       "      <td>1.467897e+01</td>\n",
       "      <td>NaN</td>\n",
       "      <td>-3.987008</td>\n",
       "    </tr>\n",
       "    <tr>\n",
       "      <th>13</th>\n",
       "      <td>EX_glc__D_e</td>\n",
       "      <td>0.0</td>\n",
       "      <td>0.0</td>\n",
       "      <td>NaN</td>\n",
       "      <td>0.276810</td>\n",
       "      <td>1.439963e+01</td>\n",
       "      <td>NaN</td>\n",
       "      <td>-3.485925</td>\n",
       "    </tr>\n",
       "    <tr>\n",
       "      <th>14</th>\n",
       "      <td>EX_glc__D_e</td>\n",
       "      <td>0.0</td>\n",
       "      <td>0.0</td>\n",
       "      <td>NaN</td>\n",
       "      <td>0.230879</td>\n",
       "      <td>1.402651e+01</td>\n",
       "      <td>NaN</td>\n",
       "      <td>-2.984842</td>\n",
       "    </tr>\n",
       "    <tr>\n",
       "      <th>15</th>\n",
       "      <td>EX_glc__D_e</td>\n",
       "      <td>0.0</td>\n",
       "      <td>0.0</td>\n",
       "      <td>NaN</td>\n",
       "      <td>0.184947</td>\n",
       "      <td>1.350284e+01</td>\n",
       "      <td>NaN</td>\n",
       "      <td>-2.483759</td>\n",
       "    </tr>\n",
       "    <tr>\n",
       "      <th>16</th>\n",
       "      <td>EX_glc__D_e</td>\n",
       "      <td>0.0</td>\n",
       "      <td>0.0</td>\n",
       "      <td>NaN</td>\n",
       "      <td>0.139016</td>\n",
       "      <td>1.271448e+01</td>\n",
       "      <td>NaN</td>\n",
       "      <td>-1.982677</td>\n",
       "    </tr>\n",
       "    <tr>\n",
       "      <th>17</th>\n",
       "      <td>EX_glc__D_e</td>\n",
       "      <td>0.0</td>\n",
       "      <td>0.0</td>\n",
       "      <td>NaN</td>\n",
       "      <td>0.093084</td>\n",
       "      <td>1.139286e+01</td>\n",
       "      <td>NaN</td>\n",
       "      <td>-1.481594</td>\n",
       "    </tr>\n",
       "    <tr>\n",
       "      <th>18</th>\n",
       "      <td>EX_glc__D_e</td>\n",
       "      <td>0.0</td>\n",
       "      <td>0.0</td>\n",
       "      <td>NaN</td>\n",
       "      <td>0.046574</td>\n",
       "      <td>8.613386e+00</td>\n",
       "      <td>NaN</td>\n",
       "      <td>-0.980511</td>\n",
       "    </tr>\n",
       "    <tr>\n",
       "      <th>19</th>\n",
       "      <td>EX_glc__D_e</td>\n",
       "      <td>0.0</td>\n",
       "      <td>0.0</td>\n",
       "      <td>NaN</td>\n",
       "      <td>0.000000</td>\n",
       "      <td>1.001717e-13</td>\n",
       "      <td>NaN</td>\n",
       "      <td>-0.479429</td>\n",
       "    </tr>\n",
       "  </tbody>\n",
       "</table>\n",
       "</div>"
      ],
      "text/plain": [
       "   carbon_source  flux_minimum  carbon_yield_minimum  mass_yield_minimum  \\\n",
       "0    EX_glc__D_e           0.0                   0.0                 NaN   \n",
       "1    EX_glc__D_e           0.0                   0.0                 NaN   \n",
       "2    EX_glc__D_e           0.0                   0.0                 NaN   \n",
       "3    EX_glc__D_e           0.0                   0.0                 NaN   \n",
       "4    EX_glc__D_e           0.0                   0.0                 NaN   \n",
       "5    EX_glc__D_e           0.0                   0.0                 NaN   \n",
       "6    EX_glc__D_e           0.0                   0.0                 NaN   \n",
       "7    EX_glc__D_e           0.0                   0.0                 NaN   \n",
       "8    EX_glc__D_e           0.0                   0.0                 NaN   \n",
       "9    EX_glc__D_e           0.0                   0.0                 NaN   \n",
       "10   EX_glc__D_e           0.0                   0.0                 NaN   \n",
       "11   EX_glc__D_e           0.0                   0.0                 NaN   \n",
       "12   EX_glc__D_e           0.0                   0.0                 NaN   \n",
       "13   EX_glc__D_e           0.0                   0.0                 NaN   \n",
       "14   EX_glc__D_e           0.0                   0.0                 NaN   \n",
       "15   EX_glc__D_e           0.0                   0.0                 NaN   \n",
       "16   EX_glc__D_e           0.0                   0.0                 NaN   \n",
       "17   EX_glc__D_e           0.0                   0.0                 NaN   \n",
       "18   EX_glc__D_e           0.0                   0.0                 NaN   \n",
       "19   EX_glc__D_e           0.0                   0.0                 NaN   \n",
       "\n",
       "    flux_maximum  carbon_yield_maximum  mass_yield_maximum  EX_glc__D_e  \n",
       "0       0.873922          1.584745e+01                 NaN   -10.000000  \n",
       "1       0.827990          1.580658e+01                 NaN    -9.498917  \n",
       "2       0.782058          1.576115e+01                 NaN    -8.997835  \n",
       "3       0.736127          1.571037e+01                 NaN    -8.496752  \n",
       "4       0.690195          1.565323e+01                 NaN    -7.995669  \n",
       "5       0.644263          1.558844e+01                 NaN    -7.494586  \n",
       "6       0.598332          1.551437e+01                 NaN    -6.993504  \n",
       "7       0.552400          1.542887e+01                 NaN    -6.492421  \n",
       "8       0.506469          1.532906e+01                 NaN    -5.991338  \n",
       "9       0.460537          1.521104e+01                 NaN    -5.490256  \n",
       "10      0.414605          1.506930e+01                 NaN    -4.989173  \n",
       "11      0.368674          1.489593e+01                 NaN    -4.488090  \n",
       "12      0.322742          1.467897e+01                 NaN    -3.987008  \n",
       "13      0.276810          1.439963e+01                 NaN    -3.485925  \n",
       "14      0.230879          1.402651e+01                 NaN    -2.984842  \n",
       "15      0.184947          1.350284e+01                 NaN    -2.483759  \n",
       "16      0.139016          1.271448e+01                 NaN    -1.982677  \n",
       "17      0.093084          1.139286e+01                 NaN    -1.481594  \n",
       "18      0.046574          8.613386e+00                 NaN    -0.980511  \n",
       "19      0.000000          1.001717e-13                 NaN    -0.479429  "
      ]
     },
     "metadata": {},
     "execution_count": 78
    }
   ],
   "metadata": {}
  },
  {
   "cell_type": "code",
   "execution_count": 79,
   "source": [
    "ppp_succ.plot(x='EX_glc__D_e', y='flux_maximum')"
   ],
   "outputs": [
    {
     "output_type": "execute_result",
     "data": {
      "text/plain": [
       "<AxesSubplot:xlabel='EX_glc__D_e'>"
      ]
     },
     "metadata": {},
     "execution_count": 79
    },
    {
     "output_type": "display_data",
     "data": {
      "image/png": "[encoded data removed]",
      "text/plain": [
       "<Figure size 432x288 with 1 Axes>"
      ]
     },
     "metadata": {
      "needs_background": "light"
     }
    }
   ],
   "metadata": {}
  },
  {
   "cell_type": "markdown",
   "source": [
    "***\n",
    "**D.**\n",
    "\n",
    "Use `production_envelope` to determine the optimal O2 uptake rate.\n",
    "***"
   ],
   "metadata": {}
  },
  {
   "cell_type": "code",
   "execution_count": null,
   "source": [],
   "outputs": [],
   "metadata": {}
  }
 ],
 "metadata": {
  "kernelspec": {
   "name": "python3",
   "display_name": "Python 3.8.11 64-bit ('base': conda)"
  },
  "language_info": {
   "codemirror_mode": {
    "name": "ipython",
    "version": 3
   },
   "file_extension": ".py",
   "mimetype": "text/x-python",
   "name": "python",
   "nbconvert_exporter": "python",
   "pygments_lexer": "ipython3",
   "version": "3.8.11"
  },
  "interpreter": {
   "hash": "ee48aba10c501f1fec91491645e726a062a8ad97d3905bb73861d5c4d2b946ee"
  }
 },
 "nbformat": 4,
 "nbformat_minor": 4
}