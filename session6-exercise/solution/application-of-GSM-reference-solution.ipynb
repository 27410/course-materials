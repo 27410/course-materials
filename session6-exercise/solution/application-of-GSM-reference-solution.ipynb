{
 "cells": [
  {
   "cell_type": "code",
   "execution_count": 95,
   "metadata": {},
   "outputs": [],
   "source": [
    "import matplotlib.pyplot as plt\n",
    "plt.style.use('seaborn')\n",
    "%matplotlib inline"
   ]
  },
  {
   "cell_type": "markdown",
   "metadata": {},
   "source": [
    "# Application of genome-scale metabolic models"
   ]
  },
  {
   "cell_type": "markdown",
   "metadata": {},
   "source": [
    "## Model import"
   ]
  },
  {
   "cell_type": "markdown",
   "metadata": {},
   "source": [
    "As you've already encountered in previous exercises, you can download a GSM using `cobra.io.read_sbml_model`. Let's load the latest iteration of the *Escherchia coli* GSM iML1515 ([nature.com/articles/nbt.3956](https://www.nature.com/articles/nbt.3956))."
   ]
  },
  {
   "cell_type": "code",
   "execution_count": 96,
   "metadata": {},
   "outputs": [],
   "source": [
    "from cobra.io import read_sbml_model\n",
    "model = read_sbml_model('../../data/iML1515.xml')"
   ]
  },
  {
   "cell_type": "markdown",
   "metadata": {},
   "source": [
    "## Model content"
   ]
  },
  {
   "cell_type": "markdown",
   "metadata": {},
   "source": [
    "### Metabolites"
   ]
  },
  {
   "cell_type": "markdown",
   "metadata": {},
   "source": [
    "The model contains a list of metabolites. Here are the first ten."
   ]
  },
  {
   "cell_type": "code",
   "execution_count": 97,
   "metadata": {},
   "outputs": [
    {
     "data": {
      "text/plain": [
       "[<Metabolite octapb_c at 0x7f65cc1ee5c0>,\n",
       " <Metabolite cysi__L_e at 0x7f65cc1ee588>,\n",
       " <Metabolite dhap_c at 0x7f65cc1ee6d8>,\n",
       " <Metabolite prbatp_c at 0x7f65cc1ee630>,\n",
       " <Metabolite 10fthf_c at 0x7f65cc1ee940>,\n",
       " <Metabolite btal_c at 0x7f65cc1eec18>,\n",
       " <Metabolite 6pgg_c at 0x7f65cc1f0240>,\n",
       " <Metabolite co2_e at 0x7f65cc1f0048>,\n",
       " <Metabolite akg_e at 0x7f65cc1f0080>,\n",
       " <Metabolite gsn_e at 0x7f65cc1f0358>]"
      ]
     },
     "execution_count": 97,
     "metadata": {},
     "output_type": "execute_result"
    }
   ],
   "source": [
    "model.metabolites[0:10]"
   ]
  },
  {
   "cell_type": "markdown",
   "metadata": {},
   "source": [
    "There are 1877 metabolites in the model."
   ]
  },
  {
   "cell_type": "code",
   "execution_count": 98,
   "metadata": {},
   "outputs": [
    {
     "data": {
      "text/plain": [
       "1877"
      ]
     },
     "execution_count": 98,
     "metadata": {},
     "output_type": "execute_result"
    }
   ],
   "source": [
    "len(model.metabolites)"
   ]
  },
  {
   "cell_type": "markdown",
   "metadata": {},
   "source": [
    "One can access a specific metabolite using dot notation."
   ]
  },
  {
   "cell_type": "code",
   "execution_count": 99,
   "metadata": {},
   "outputs": [
    {
     "data": {
      "text/html": [
       "\n",
       "        <table>\n",
       "            <tr>\n",
       "                <td><strong>Metabolite identifier</strong></td><td>g3p_c</td>\n",
       "            </tr><tr>\n",
       "                <td><strong>Name</strong></td><td>Glyceraldehyde 3-phosphate</td>\n",
       "            </tr><tr>\n",
       "                <td><strong>Memory address</strong></td>\n",
       "                <td>0x07f65cc0e32e8</td>\n",
       "            </tr><tr>\n",
       "                <td><strong>Formula</strong></td><td>C3H5O6P</td>\n",
       "            </tr><tr>\n",
       "                <td><strong>Compartment</strong></td><td>c</td>\n",
       "            </tr><tr>\n",
       "                <td><strong>In 15 reaction(s)</strong></td><td>\n",
       "                    TALA, TGBPA, TKT1, F6PA, GAPD, EDA, DDPGALA, GAPP, DXPS, TRPS3, DRPA, FBA, TPI, TRPS1, TKT2</td>\n",
       "            </tr>\n",
       "        </table>"
      ],
      "text/plain": [
       "<Metabolite g3p_c at 0x7f65cc0e32e8>"
      ]
     },
     "execution_count": 99,
     "metadata": {},
     "output_type": "execute_result"
    }
   ],
   "source": [
    "model.metabolites.g3p_c"
   ]
  },
  {
   "cell_type": "markdown",
   "metadata": {},
   "source": [
    "<div class=\"alert alert-warning\">\n",
    "\n",
    "**Warning:** One cannot use dot notation to access metabolites, reactions, or genes if their identifiers do not resemble proper Python variable names.\n",
    "\n",
    "</div>"
   ]
  },
  {
   "cell_type": "code",
   "execution_count": 100,
   "metadata": {},
   "outputs": [
    {
     "ename": "SyntaxError",
     "evalue": "invalid syntax (<ipython-input-100-2d9f6c5b57e5>, line 1)",
     "output_type": "error",
     "traceback": [
      "\u001b[0;36m  File \u001b[0;32m\"<ipython-input-100-2d9f6c5b57e5>\"\u001b[0;36m, line \u001b[0;32m1\u001b[0m\n\u001b[0;31m    model.metabolites.10fthf_c\u001b[0m\n\u001b[0m                       ^\u001b[0m\n\u001b[0;31mSyntaxError\u001b[0m\u001b[0;31m:\u001b[0m invalid syntax\n"
     ]
    }
   ],
   "source": [
    "model.metabolites.10fthf_c"
   ]
  },
  {
   "cell_type": "markdown",
   "metadata": {},
   "source": [
    "<div class=\"alert alert-success\">\n",
    "\n",
    "**Solution:** Use the method `get_by_id` instead!\n",
    "\n",
    "</div>"
   ]
  },
  {
   "cell_type": "code",
   "execution_count": 101,
   "metadata": {},
   "outputs": [
    {
     "data": {
      "text/html": [
       "\n",
       "        <table>\n",
       "            <tr>\n",
       "                <td><strong>Metabolite identifier</strong></td><td>10fthf_c</td>\n",
       "            </tr><tr>\n",
       "                <td><strong>Name</strong></td><td>10-Formyltetrahydrofolate</td>\n",
       "            </tr><tr>\n",
       "                <td><strong>Memory address</strong></td>\n",
       "                <td>0x07f65cc1ee940</td>\n",
       "            </tr><tr>\n",
       "                <td><strong>Formula</strong></td><td>C20H21N7O7</td>\n",
       "            </tr><tr>\n",
       "                <td><strong>Compartment</strong></td><td>c</td>\n",
       "            </tr><tr>\n",
       "                <td><strong>In 8 reaction(s)</strong></td><td>\n",
       "                    BIOMASS_Ec_iML1515_core_75p37M, BIOMASS_Ec_iML1515_WT_75p37M, GARFT, FTHFD, AICART, FTHFLi, ULA4NFT, MTHFC</td>\n",
       "            </tr>\n",
       "        </table>"
      ],
      "text/plain": [
       "<Metabolite 10fthf_c at 0x7f65cc1ee940>"
      ]
     },
     "execution_count": 101,
     "metadata": {},
     "output_type": "execute_result"
    }
   ],
   "source": [
    "model.metabolites.get_by_id('10fthf_c')"
   ]
  },
  {
   "cell_type": "markdown",
   "metadata": {},
   "source": [
    "Metabolites are associated with compartments in the cell. Glyceraldehyde 3-phosphate (`g3p_c`) is associated with the `c` (Cytosol) compartment."
   ]
  },
  {
   "cell_type": "code",
   "execution_count": 102,
   "metadata": {},
   "outputs": [
    {
     "data": {
      "text/plain": [
       "'c'"
      ]
     },
     "execution_count": 102,
     "metadata": {},
     "output_type": "execute_result"
    }
   ],
   "source": [
    "model.metabolites.g3p_c.compartment"
   ]
  },
  {
   "cell_type": "markdown",
   "metadata": {},
   "source": [
    "The _E. coli_ model has three compartments."
   ]
  },
  {
   "cell_type": "code",
   "execution_count": 103,
   "metadata": {},
   "outputs": [
    {
     "data": {
      "text/plain": [
       "{'c': 'cytosol', 'e': 'extracellular space', 'p': 'periplasm'}"
      ]
     },
     "execution_count": 103,
     "metadata": {},
     "output_type": "execute_result"
    }
   ],
   "source": [
    "model.compartments"
   ]
  },
  {
   "cell_type": "markdown",
   "metadata": {},
   "source": [
    "Some metabolites (like Glucose for example) can be associated with multiple compartments."
   ]
  },
  {
   "cell_type": "code",
   "execution_count": 104,
   "metadata": {},
   "outputs": [
    {
     "data": {
      "text/plain": [
       "'c'"
      ]
     },
     "execution_count": 104,
     "metadata": {},
     "output_type": "execute_result"
    }
   ],
   "source": [
    "model.metabolites.glc__D_c.compartment"
   ]
  },
  {
   "cell_type": "code",
   "execution_count": 105,
   "metadata": {},
   "outputs": [
    {
     "data": {
      "text/plain": [
       "'p'"
      ]
     },
     "execution_count": 105,
     "metadata": {},
     "output_type": "execute_result"
    }
   ],
   "source": [
    "model.metabolites.glc__D_p.compartment"
   ]
  },
  {
   "cell_type": "markdown",
   "metadata": {},
   "source": [
    "The full name of the metabolite is available via the `.name` attribute. "
   ]
  },
  {
   "cell_type": "code",
   "execution_count": 106,
   "metadata": {},
   "outputs": [
    {
     "data": {
      "text/plain": [
       "'D-Glucose'"
      ]
     },
     "execution_count": 106,
     "metadata": {},
     "output_type": "execute_result"
    }
   ],
   "source": [
    "model.metabolites.glc__D_c.name"
   ]
  },
  {
   "cell_type": "markdown",
   "metadata": {},
   "source": [
    "One can look up the molecular formula of glucose."
   ]
  },
  {
   "cell_type": "code",
   "execution_count": 107,
   "metadata": {},
   "outputs": [
    {
     "data": {
      "text/plain": [
       "'C3H5O6P'"
      ]
     },
     "execution_count": 107,
     "metadata": {},
     "output_type": "execute_result"
    }
   ],
   "source": [
    "model.metabolites.g3p_c.formula"
   ]
  },
  {
   "cell_type": "markdown",
   "metadata": {},
   "source": [
    "The `.elements` attribute returns a dictionary representation of the formula."
   ]
  },
  {
   "cell_type": "code",
   "execution_count": 108,
   "metadata": {},
   "outputs": [
    {
     "data": {
      "text/plain": [
       "{'C': 3, 'H': 5, 'O': 6, 'P': 1}"
      ]
     },
     "execution_count": 108,
     "metadata": {},
     "output_type": "execute_result"
    }
   ],
   "source": [
    "model.metabolites.g3p_c.elements"
   ]
  },
  {
   "cell_type": "markdown",
   "metadata": {},
   "source": [
    "Furthermore, one can look up the molecular weight of a metabolite."
   ]
  },
  {
   "cell_type": "code",
   "execution_count": 109,
   "metadata": {},
   "outputs": [
    {
     "data": {
      "text/plain": [
       "168.041961"
      ]
     },
     "execution_count": 109,
     "metadata": {},
     "output_type": "execute_result"
    }
   ],
   "source": [
    "model.metabolites.g3p_c.formula_weight"
   ]
  },
  {
   "cell_type": "markdown",
   "metadata": {},
   "source": [
    "One can gather additional information (like references to external datbases) about the metabolite through the annotation attribute."
   ]
  },
  {
   "cell_type": "code",
   "execution_count": 110,
   "metadata": {},
   "outputs": [
    {
     "data": {
      "text/plain": [
       "{'sbo': 'SBO:0000247',\n",
       " 'bigg.metabolite': 'g3p',\n",
       " 'biocyc': 'META:GAP',\n",
       " 'chebi': ['CHEBI:5446',\n",
       "  'CHEBI:14333',\n",
       "  'CHEBI:12984',\n",
       "  'CHEBI:181',\n",
       "  'CHEBI:17138',\n",
       "  'CHEBI:21026',\n",
       "  'CHEBI:12983',\n",
       "  'CHEBI:18324',\n",
       "  'CHEBI:58027',\n",
       "  'CHEBI:59776',\n",
       "  'CHEBI:29052'],\n",
       " 'hmdb': 'HMDB01112',\n",
       " 'inchi_key': 'LXJXRIRHZLFYRP-VKHMYHEASA-L',\n",
       " 'kegg.compound': ['C00661', 'C00118'],\n",
       " 'metanetx.chemical': 'MNXM74',\n",
       " 'reactome.compound': '29578',\n",
       " 'sabiork': ['27', '1687'],\n",
       " 'seed.compound': ['cpd00102', 'cpd19005']}"
      ]
     },
     "execution_count": 110,
     "metadata": {},
     "output_type": "execute_result"
    }
   ],
   "source": [
    "model.metabolites.g3p_c.annotation"
   ]
  },
  {
   "cell_type": "markdown",
   "metadata": {},
   "source": [
    "One can use these annotations to look up the compound on [KEGG](http://www.genome.jp/dbget-bin/www_bget?cpd:C00118) for example."
   ]
  },
  {
   "cell_type": "markdown",
   "metadata": {},
   "source": [
    "Metabolites are not isolated things. They participate in reactions as substrates and products."
   ]
  },
  {
   "cell_type": "code",
   "execution_count": 111,
   "metadata": {},
   "outputs": [
    {
     "data": {
      "text/plain": [
       "frozenset({<Reaction DDPGALA at 0x7f65af5b6ac8>,\n",
       "           <Reaction DRPA at 0x7f65af198160>,\n",
       "           <Reaction DXPS at 0x7f65af66e710>,\n",
       "           <Reaction EDA at 0x7f65af765eb8>,\n",
       "           <Reaction F6PA at 0x7f65af55cf98>,\n",
       "           <Reaction FBA at 0x7f65af7bf390>,\n",
       "           <Reaction GAPD at 0x7f65af37a668>,\n",
       "           <Reaction GAPP at 0x7f65af73c7f0>,\n",
       "           <Reaction TALA at 0x7f65af704e10>,\n",
       "           <Reaction TGBPA at 0x7f65af588a20>,\n",
       "           <Reaction TKT1 at 0x7f65af711c50>,\n",
       "           <Reaction TKT2 at 0x7f65af1985f8>,\n",
       "           <Reaction TPI at 0x7f65ae87dba8>,\n",
       "           <Reaction TRPS1 at 0x7f65af3951d0>,\n",
       "           <Reaction TRPS3 at 0x7f65af563358>})"
      ]
     },
     "execution_count": 111,
     "metadata": {},
     "output_type": "execute_result"
    }
   ],
   "source": [
    "model.metabolites.g3p_c.reactions"
   ]
  },
  {
   "cell_type": "markdown",
   "metadata": {},
   "source": [
    "### Reactions"
   ]
  },
  {
   "cell_type": "markdown",
   "metadata": {},
   "source": [
    "The model contains a list of reactions. Here are the first 10 of them."
   ]
  },
  {
   "cell_type": "code",
   "execution_count": 112,
   "metadata": {},
   "outputs": [
    {
     "data": {
      "text/plain": [
       "[<Reaction CYTDK2 at 0x7f65af8b7978>,\n",
       " <Reaction XPPT at 0x7f65af8b76a0>,\n",
       " <Reaction HXPRT at 0x7f65af8bc208>,\n",
       " <Reaction NDPK5 at 0x7f65af8bc828>,\n",
       " <Reaction SHK3Dr at 0x7f65af8414a8>,\n",
       " <Reaction NDPK6 at 0x7f65af841518>,\n",
       " <Reaction NDPK8 at 0x7f65af841c50>,\n",
       " <Reaction DHORTS at 0x7f65af8468d0>,\n",
       " <Reaction OMPDC at 0x7f65af841be0>,\n",
       " <Reaction PYNP2r at 0x7f65af84c518>]"
      ]
     },
     "execution_count": 112,
     "metadata": {},
     "output_type": "execute_result"
    }
   ],
   "source": [
    "model.reactions[0:10]"
   ]
  },
  {
   "cell_type": "markdown",
   "metadata": {},
   "source": [
    "There are 2712 reactions in the model."
   ]
  },
  {
   "cell_type": "code",
   "execution_count": 114,
   "metadata": {},
   "outputs": [
    {
     "data": {
      "text/plain": [
       "2712"
      ]
     },
     "execution_count": 114,
     "metadata": {},
     "output_type": "execute_result"
    }
   ],
   "source": [
    "len(model.reactions)"
   ]
  },
  {
   "cell_type": "markdown",
   "metadata": {},
   "source": [
    "Let's take a closer look at the reactions associated with Glyceraldehyde 3-phosphate (`g3p`)."
   ]
  },
  {
   "cell_type": "code",
   "execution_count": 115,
   "metadata": {},
   "outputs": [
    {
     "name": "stdout",
     "output_type": "stream",
     "text": [
      "TALA TALA: g3p_c + s7p_c <=> e4p_c + f6p_c Transaldolase\n",
      "TGBPA TGBPA: tagdp__D_c <=> dhap_c + g3p_c Tagatose-bisphosphate aldolase\n",
      "TKT1 TKT1: r5p_c + xu5p__D_c <=> g3p_c + s7p_c Transketolase\n",
      "F6PA F6PA: f6p_c <=> dha_c + g3p_c Fructose 6-phosphate aldolase\n",
      "GAPD GAPD: g3p_c + nad_c + pi_c <=> 13dpg_c + h_c + nadh_c Glyceraldehyde-3-phosphate dehydrogenase\n",
      "EDA EDA: 2ddg6p_c --> g3p_c + pyr_c 2-dehydro-3-deoxy-phosphogluconate aldolase\n",
      "DDPGALA DDPGALA: 2dh3dgal6p_c <=> g3p_c + pyr_c 2-dehydro-3-deoxy-6-phosphogalactonate aldolase\n",
      "GAPP GAPP: g3p_c + h2o_c --> glyald_c + pi_c Glyceraldehyde-3-phosphate phosphatase\n",
      "DXPS DXPS: g3p_c + h_c + pyr_c --> co2_c + dxyl5p_c 1-deoxy-D-xylulose 5-phosphate synthase\n",
      "TRPS3 TRPS3: 3ig3p_c --> g3p_c + indole_c Tryptophan synthase (indoleglycerol phosphate)\n",
      "DRPA DRPA: 2dr5p_c --> acald_c + g3p_c Deoxyribose-phosphate aldolase\n",
      "FBA FBA: fdp_c <=> dhap_c + g3p_c Fructose-bisphosphate aldolase\n",
      "TPI TPI: dhap_c <=> g3p_c Triose-phosphate isomerase\n",
      "TRPS1 TRPS1: 3ig3p_c + ser__L_c --> g3p_c + h2o_c + trp__L_c Tryptophan synthase (indoleglycerol phosphate)\n",
      "TKT2 TKT2: e4p_c + xu5p__D_c <=> f6p_c + g3p_c Transketolase\n"
     ]
    }
   ],
   "source": [
    "for reaction in model.metabolites.g3p_c.reactions:\n",
    "    print(reaction.id, reaction, reaction.name)"
   ]
  },
  {
   "cell_type": "markdown",
   "metadata": {},
   "source": [
    "The second reaction in this list is Glyceraldehyde-3-phosphate dehydrogenase (GAPD)."
   ]
  },
  {
   "cell_type": "code",
   "execution_count": 116,
   "metadata": {},
   "outputs": [
    {
     "data": {
      "text/plain": [
       "'Glyceraldehyde-3-phosphate dehydrogenase'"
      ]
     },
     "execution_count": 116,
     "metadata": {},
     "output_type": "execute_result"
    }
   ],
   "source": [
    "model.reactions.GAPD.name"
   ]
  },
  {
   "cell_type": "markdown",
   "metadata": {},
   "source": [
    "### Objective function"
   ]
  },
  {
   "cell_type": "markdown",
   "metadata": {},
   "source": [
    "Here is the objective function currently set in the model. "
   ]
  },
  {
   "cell_type": "markdown",
   "metadata": {},
   "source": [
    "<div class=\"alert alert-info\">\n",
    "\n",
    "Under the hood all reactions are represented by two flux variables, the first one representing the forward direction, the second  one the reverse direction. In all likelihood, you won't have to worry about this during the course.\n",
    "\n",
    "</div>"
   ]
  },
  {
   "cell_type": "code",
   "execution_count": 25,
   "metadata": {},
   "outputs": [
    {
     "name": "stdout",
     "output_type": "stream",
     "text": [
      "Maximize\n",
      "1.0*BIOMASS_Ec_iML1515_core_75p37M - 1.0*BIOMASS_Ec_iML1515_core_75p37M_reverse_35685\n"
     ]
    }
   ],
   "source": [
    "print(model.objective)"
   ]
  },
  {
   "cell_type": "markdown",
   "metadata": {},
   "source": [
    "It corresponds to the following reaction."
   ]
  },
  {
   "cell_type": "code",
   "execution_count": 117,
   "metadata": {},
   "outputs": [
    {
     "data": {
      "text/html": [
       "\n",
       "        <table>\n",
       "            <tr>\n",
       "                <td><strong>Reaction identifier</strong></td><td>BIOMASS_Ec_iML1515_core_75p37M</td>\n",
       "            </tr><tr>\n",
       "                <td><strong>Name</strong></td><td>E. coli biomass objective function (iML1515) - core - with 75.37 GAM estimate</td>\n",
       "            </tr><tr>\n",
       "                <td><strong>Memory address</strong></td>\n",
       "                <td>0x07f65cc2e1e10</td>\n",
       "            </tr><tr>\n",
       "                <td><strong>Stoichiometry</strong></td>\n",
       "                <td>\n",
       "                    <p style='text-align:right'>0.000223 10fthf_c + 2.6e-05 2fe2s_c + 0.000223 2ohph_c + 0.00026 4fe4s_c + 0.513689 ala__L_c + 0.000223 amet_c + 0.295792 arg__L_c + 0.241055 asn__L_c + 0.241055 asp__L_c + 75.55223 atp_c + 2e-06 b...</p>\n",
       "                    <p style='text-align:right'>0.000223 10-Formyltetrahydrofolate + 2.6e-05 [2Fe-2S] iron-sulfur cluster + 0.000223 2-Octaprenyl-6-hydroxyphenol + 0.00026 [4Fe-4S] iron-sulfur cluster + 0.513689 L-Alanine + 0.000223 S-Adenosyl-L...</p>\n",
       "                </td>\n",
       "            </tr><tr>\n",
       "                <td><strong>GPR</strong></td><td></td>\n",
       "            </tr><tr>\n",
       "                <td><strong>Lower bound</strong></td><td>0.0</td>\n",
       "            </tr><tr>\n",
       "                <td><strong>Upper bound</strong></td><td>1000.0</td>\n",
       "            </tr>\n",
       "        </table>\n",
       "        "
      ],
      "text/plain": [
       "<Reaction BIOMASS_Ec_iML1515_core_75p37M at 0x7f65cc2e1e10>"
      ]
     },
     "execution_count": 117,
     "metadata": {},
     "output_type": "execute_result"
    }
   ],
   "source": [
    "model.reactions.BIOMASS_Ec_iML1515_core_75p37M"
   ]
  },
  {
   "cell_type": "markdown",
   "metadata": {},
   "source": [
    "### ATP maintenance requirement"
   ]
  },
  {
   "cell_type": "markdown",
   "metadata": {},
   "source": [
    "Most models also contain a reaction that hydrolyzes ATP and that represents the non-growth ATP maintenance (NGAM) cost. Usually its lower bound is set to an experimentally determined value to enforce a certain flux."
   ]
  },
  {
   "cell_type": "code",
   "execution_count": 27,
   "metadata": {},
   "outputs": [
    {
     "data": {
      "text/html": [
       "\n",
       "        <table>\n",
       "            <tr>\n",
       "                <td><strong>Reaction identifier</strong></td><td>ATPM</td>\n",
       "            </tr><tr>\n",
       "                <td><strong>Name</strong></td><td>ATP maintenance requirement</td>\n",
       "            </tr><tr>\n",
       "                <td><strong>Memory address</strong></td>\n",
       "                <td>0x07f66250b9fd0</td>\n",
       "            </tr><tr>\n",
       "                <td><strong>Stoichiometry</strong></td>\n",
       "                <td>\n",
       "                    <p style='text-align:right'>atp_c + h2o_c --> adp_c + h_c + pi_c</p>\n",
       "                    <p style='text-align:right'>ATP C10H12N5O13P3 + H2O H2O --> ADP C10H12N5O10P2 + H+ + Phosphate</p>\n",
       "                </td>\n",
       "            </tr><tr>\n",
       "                <td><strong>GPR</strong></td><td></td>\n",
       "            </tr><tr>\n",
       "                <td><strong>Lower bound</strong></td><td>6.86</td>\n",
       "            </tr><tr>\n",
       "                <td><strong>Upper bound</strong></td><td>1000.0</td>\n",
       "            </tr>\n",
       "        </table>\n",
       "        "
      ],
      "text/plain": [
       "<Reaction ATPM at 0x7f66250b9fd0>"
      ]
     },
     "execution_count": 27,
     "metadata": {},
     "output_type": "execute_result"
    }
   ],
   "source": [
    "model.reactions.ATPM"
   ]
  },
  {
   "cell_type": "markdown",
   "metadata": {},
   "source": [
    "### Gene-Protein-Reaction associations"
   ]
  },
  {
   "cell_type": "markdown",
   "metadata": {},
   "source": [
    "Glyceraldehyde-3-phosphate dehydrogenase is associated with a single gene. "
   ]
  },
  {
   "cell_type": "code",
   "execution_count": 29,
   "metadata": {},
   "outputs": [
    {
     "data": {
      "text/plain": [
       "'b1779'"
      ]
     },
     "execution_count": 29,
     "metadata": {},
     "output_type": "execute_result"
    }
   ],
   "source": [
    "model.reactions.GAPD.gene_reaction_rule"
   ]
  },
  {
   "cell_type": "markdown",
   "metadata": {},
   "source": [
    "Phosphofructokinase (PFK) on the other hand seems to be associated with two isozymes."
   ]
  },
  {
   "cell_type": "code",
   "execution_count": 30,
   "metadata": {},
   "outputs": [
    {
     "data": {
      "text/plain": [
       "'b3916 or b1723'"
      ]
     },
     "execution_count": 30,
     "metadata": {},
     "output_type": "execute_result"
    }
   ],
   "source": [
    "model.reactions.PFK.gene_reaction_rule"
   ]
  },
  {
   "cell_type": "markdown",
   "metadata": {},
   "source": [
    "One can display the gene names (typical 4 letter gene codes) instead of the identifiers (Blattner numbers in this case)."
   ]
  },
  {
   "cell_type": "code",
   "execution_count": 31,
   "metadata": {},
   "outputs": [
    {
     "data": {
      "text/plain": [
       "'pfkA or pfkB'"
      ]
     },
     "execution_count": 31,
     "metadata": {},
     "output_type": "execute_result"
    }
   ],
   "source": [
    "model.reactions.PFK.gene_name_reaction_rule"
   ]
  },
  {
   "cell_type": "markdown",
   "metadata": {},
   "source": [
    "Here a very complicated gene to reaction mapping (ATP synthase)."
   ]
  },
  {
   "cell_type": "code",
   "execution_count": 32,
   "metadata": {},
   "outputs": [
    {
     "data": {
      "text/plain": [
       "'(atpI and (atpC and atpG and atpH and atpA and atpD) and (atpB and atpF and atpE)) or ((atpC and atpG and atpH and atpA and atpD) and (atpB and atpF and atpE))'"
      ]
     },
     "execution_count": 32,
     "metadata": {},
     "output_type": "execute_result"
    }
   ],
   "source": [
    "model.reactions.ATPS4rpp.gene_name_reaction_rule"
   ]
  },
  {
   "cell_type": "markdown",
   "metadata": {},
   "source": [
    "### Finding things"
   ]
  },
  {
   "cell_type": "markdown",
   "metadata": {},
   "source": [
    "One can use `.query('search term', 'attribute_to_search_in')` to search in model metabolites, reactions, and genes. For example, one can search metabolites that contain the term _glucose_ in their name."
   ]
  },
  {
   "cell_type": "code",
   "execution_count": 33,
   "metadata": {},
   "outputs": [
    {
     "name": "stdout",
     "output_type": "stream",
     "text": [
      "6-Phospho-beta-D-glucosyl-(1,4)-D-glucose\n",
      "DTDP-4-dehydro-6-deoxy-D-glucose\n",
      "Undecaprenol-diphosphate-glucose\n",
      "UDPglucose\n",
      "2 Deoxy D glucose 6 phosphate C6H11O8P\n",
      "ADPglucose C16H23N5O15P2\n",
      "6-Acetyl-D-glucose\n",
      "UDPglucose\n",
      "UDPglucose\n",
      "DTDPglucose\n",
      "2 Deoxy D glucose C6H12O5\n",
      "2 Deoxy D glucose C6H12O5\n",
      "2 Deoxy D glucose C6H12O5\n"
     ]
    }
   ],
   "source": [
    "for metabolite in model.metabolites.query('glucose', 'name'):\n",
    "    print(metabolite.name)"
   ]
  },
  {
   "cell_type": "markdown",
   "metadata": {},
   "source": [
    "## Simulating models"
   ]
  },
  {
   "cell_type": "code",
   "execution_count": 36,
   "metadata": {},
   "outputs": [
    {
     "data": {
      "text/html": [
       "<strong><em>Optimal</em> solution with objective value 0.877</strong><br><div>\n",
       "<style scoped>\n",
       "    .dataframe tbody tr th:only-of-type {\n",
       "        vertical-align: middle;\n",
       "    }\n",
       "\n",
       "    .dataframe tbody tr th {\n",
       "        vertical-align: top;\n",
       "    }\n",
       "\n",
       "    .dataframe thead th {\n",
       "        text-align: right;\n",
       "    }\n",
       "</style>\n",
       "<table border=\"1\" class=\"dataframe\">\n",
       "  <thead>\n",
       "    <tr style=\"text-align: right;\">\n",
       "      <th></th>\n",
       "      <th>fluxes</th>\n",
       "      <th>reduced_costs</th>\n",
       "    </tr>\n",
       "  </thead>\n",
       "  <tbody>\n",
       "    <tr>\n",
       "      <th>CYTDK2</th>\n",
       "      <td>0.00000</td>\n",
       "      <td>-2.818926e-18</td>\n",
       "    </tr>\n",
       "    <tr>\n",
       "      <th>XPPT</th>\n",
       "      <td>0.00000</td>\n",
       "      <td>0.000000e+00</td>\n",
       "    </tr>\n",
       "    <tr>\n",
       "      <th>HXPRT</th>\n",
       "      <td>0.00000</td>\n",
       "      <td>-7.523353e-03</td>\n",
       "    </tr>\n",
       "    <tr>\n",
       "      <th>NDPK5</th>\n",
       "      <td>0.00000</td>\n",
       "      <td>0.000000e+00</td>\n",
       "    </tr>\n",
       "    <tr>\n",
       "      <th>SHK3Dr</th>\n",
       "      <td>0.33424</td>\n",
       "      <td>5.551115e-17</td>\n",
       "    </tr>\n",
       "    <tr>\n",
       "      <th>...</th>\n",
       "      <td>...</td>\n",
       "      <td>...</td>\n",
       "    </tr>\n",
       "    <tr>\n",
       "      <th>MPTS</th>\n",
       "      <td>0.00000</td>\n",
       "      <td>2.775558e-17</td>\n",
       "    </tr>\n",
       "    <tr>\n",
       "      <th>MOCOS</th>\n",
       "      <td>0.00000</td>\n",
       "      <td>0.000000e+00</td>\n",
       "    </tr>\n",
       "    <tr>\n",
       "      <th>BMOGDS2</th>\n",
       "      <td>0.00000</td>\n",
       "      <td>0.000000e+00</td>\n",
       "    </tr>\n",
       "    <tr>\n",
       "      <th>FESD2s</th>\n",
       "      <td>0.00000</td>\n",
       "      <td>0.000000e+00</td>\n",
       "    </tr>\n",
       "    <tr>\n",
       "      <th>OCTNLL</th>\n",
       "      <td>0.00000</td>\n",
       "      <td>-1.504671e-02</td>\n",
       "    </tr>\n",
       "  </tbody>\n",
       "</table>\n",
       "<p>2712 rows × 2 columns</p>\n",
       "</div>"
      ],
      "text/plain": [
       "<Solution 0.877 at 0x7f6627438b38>"
      ]
     },
     "execution_count": 36,
     "metadata": {},
     "output_type": "execute_result"
    }
   ],
   "source": [
    "model.optimize()"
   ]
  },
  {
   "cell_type": "markdown",
   "metadata": {},
   "source": [
    "You can get the objective value (which corresponds to $\\mu_{max}$ in this case) like this."
   ]
  },
  {
   "cell_type": "code",
   "execution_count": 154,
   "metadata": {},
   "outputs": [
    {
     "data": {
      "text/plain": [
       "0.8739215069684304"
      ]
     },
     "execution_count": 154,
     "metadata": {},
     "output_type": "execute_result"
    }
   ],
   "source": [
    "model.optimize().objective_value"
   ]
  },
  {
   "cell_type": "markdown",
   "metadata": {},
   "source": [
    "We'll get to the fluxes in a second."
   ]
  },
  {
   "cell_type": "markdown",
   "metadata": {},
   "source": [
    "## *E. coli* Core model"
   ]
  },
  {
   "cell_type": "markdown",
   "metadata": {},
   "source": [
    "For the sake of keeping things simple, let's continue with a much simplified model representing *Escherichia coli's* central carbon metabolism, i.e., the *E. coli* Core Model [10.1128/ecosalplus.10.2.1]( https://doi.org/10.1128/ecosalplus.10.2.1)."
   ]
  },
  {
   "cell_type": "code",
   "execution_count": 120,
   "metadata": {},
   "outputs": [],
   "source": [
    "from cobra.io import read_sbml_model\n",
    "model = read_sbml_model('../../data/e_coli_core.xml')"
   ]
  },
  {
   "cell_type": "code",
   "execution_count": 121,
   "metadata": {},
   "outputs": [
    {
     "data": {
      "text/html": [
       "\n",
       "        <table>\n",
       "            <tr>\n",
       "                <td><strong>Name</strong></td>\n",
       "                <td>e_coli_core</td>\n",
       "            </tr><tr>\n",
       "                <td><strong>Memory address</strong></td>\n",
       "                <td>0x07f65cc5f2a58</td>\n",
       "            </tr><tr>\n",
       "                <td><strong>Number of metabolites</strong></td>\n",
       "                <td>72</td>\n",
       "            </tr><tr>\n",
       "                <td><strong>Number of reactions</strong></td>\n",
       "                <td>95</td>\n",
       "            </tr><tr>\n",
       "                <td><strong>Number of groups</strong></td>\n",
       "                <td>9</td>\n",
       "            </tr><tr>\n",
       "                <td><strong>Objective expression</strong></td>\n",
       "                <td>1.0*BIOMASS_Ecoli_core_w_GAM - 1.0*BIOMASS_Ecoli_core_w_GAM_reverse_712e5</td>\n",
       "            </tr><tr>\n",
       "                <td><strong>Compartments</strong></td>\n",
       "                <td>cytosol, extracellular space</td>\n",
       "            </tr>\n",
       "          </table>"
      ],
      "text/plain": [
       "<Model e_coli_core at 0x7f65cc5f2a58>"
      ]
     },
     "execution_count": 121,
     "metadata": {},
     "output_type": "execute_result"
    }
   ],
   "source": [
    "model"
   ]
  },
  {
   "cell_type": "markdown",
   "metadata": {},
   "source": [
    "We can simulate the model and the store the solution in a variable."
   ]
  },
  {
   "cell_type": "code",
   "execution_count": 122,
   "metadata": {},
   "outputs": [],
   "source": [
    "solution = model.optimize()"
   ]
  },
  {
   "cell_type": "markdown",
   "metadata": {},
   "source": [
    "That we can access for example the predicted fluxes."
   ]
  },
  {
   "cell_type": "code",
   "execution_count": 123,
   "metadata": {},
   "outputs": [
    {
     "data": {
      "text/plain": [
       "ACALD     0.000000\n",
       "ACALDt    0.000000\n",
       "ACKr      0.000000\n",
       "ACONTa    6.007250\n",
       "ACONTb    6.007250\n",
       "            ...   \n",
       "TALA      1.496984\n",
       "THD2      0.000000\n",
       "TKT1      1.496984\n",
       "TKT2      1.181498\n",
       "TPI       7.477382\n",
       "Name: fluxes, Length: 95, dtype: float64"
      ]
     },
     "execution_count": 123,
     "metadata": {},
     "output_type": "execute_result"
    }
   ],
   "source": [
    "solution.fluxes"
   ]
  },
  {
   "cell_type": "markdown",
   "metadata": {},
   "source": [
    "`solution.fluxes` is a pandas `Series` object so we can do easily pandas related things (statistics, plotting, filtering etc.)."
   ]
  },
  {
   "cell_type": "code",
   "execution_count": 124,
   "metadata": {},
   "outputs": [
    {
     "data": {
      "text/plain": [
       "pandas.core.series.Series"
      ]
     },
     "execution_count": 124,
     "metadata": {},
     "output_type": "execute_result"
    }
   ],
   "source": [
    "type(solution.fluxes)"
   ]
  },
  {
   "cell_type": "markdown",
   "metadata": {},
   "source": [
    "Let's get statistical overview of the data."
   ]
  },
  {
   "cell_type": "code",
   "execution_count": 125,
   "metadata": {},
   "outputs": [
    {
     "data": {
      "text/plain": [
       "count    95.000000\n",
       "mean      2.627753\n",
       "std      10.698095\n",
       "min     -29.175827\n",
       "25%       0.000000\n",
       "50%       0.000000\n",
       "75%       4.959985\n",
       "max      45.514010\n",
       "Name: fluxes, dtype: float64"
      ]
     },
     "execution_count": 125,
     "metadata": {},
     "output_type": "execute_result"
    }
   ],
   "source": [
    "solution.fluxes.describe()"
   ]
  },
  {
   "cell_type": "markdown",
   "metadata": {},
   "source": [
    "Let's plot a histogram of the distribution of flux values."
   ]
  },
  {
   "cell_type": "code",
   "execution_count": 126,
   "metadata": {},
   "outputs": [
    {
     "data": {
      "image/png": "[encoded data removed]",
      "text/plain": [
       "<Figure size 432x288 with 1 Axes>"
      ]
     },
     "metadata": {
      "needs_background": "light"
     },
     "output_type": "display_data"
    }
   ],
   "source": [
    "fig = solution.fluxes.hist()\n",
    "fig.set_xlabel('flux [$mmol gDW^{-1} h^{-1}]$')\n",
    "fig.set_ylabel('Frequency');"
   ]
  },
  {
   "cell_type": "markdown",
   "metadata": {},
   "source": [
    "Let's filter the non-zero fluxes."
   ]
  },
  {
   "cell_type": "code",
   "execution_count": 127,
   "metadata": {},
   "outputs": [
    {
     "data": {
      "text/plain": [
       "ACONTa                       6.007250\n",
       "ACONTb                       6.007250\n",
       "AKGDH                        5.064376\n",
       "ATPM                         8.390000\n",
       "ATPS4r                      45.514010\n",
       "BIOMASS_Ecoli_core_w_GAM     0.873922\n",
       "CO2t                       -22.809833\n",
       "CS                           6.007250\n",
       "CYTBD                       43.598985\n",
       "ENO                         14.716140\n",
       "EX_co2_e                    22.809833\n",
       "EX_glc__D_e                -10.000000\n",
       "EX_h_e                      17.530865\n",
       "EX_h2o_e                    29.175827\n",
       "EX_nh4_e                    -4.765319\n",
       "EX_o2_e                    -21.799493\n",
       "EX_pi_e                     -3.214895\n",
       "FBA                          7.477382\n",
       "FUM                          5.064376\n",
       "G6PDH2r                      4.959985\n",
       "GAPD                        16.023526\n",
       "GLCpts                      10.000000\n",
       "GLNS                         0.223462\n",
       "GLUDy                       -4.541857\n",
       "GND                          4.959985\n",
       "H2Ot                       -29.175827\n",
       "ICDHyr                       6.007250\n",
       "MDH                          5.064376\n",
       "NADH16                      38.534610\n",
       "NH4t                         4.765319\n",
       "O2t                         21.799493\n",
       "PDH                          9.282533\n",
       "PFK                          7.477382\n",
       "PGI                          4.860861\n",
       "PGK                        -16.023526\n",
       "PGL                          4.959985\n",
       "PGM                        -14.716140\n",
       "PIt2r                        3.214895\n",
       "PPC                          2.504309\n",
       "PYK                          1.758177\n",
       "RPE                          2.678482\n",
       "RPI                         -2.281503\n",
       "SUCDi                        5.064376\n",
       "SUCOAS                      -5.064376\n",
       "TALA                         1.496984\n",
       "TKT1                         1.496984\n",
       "TKT2                         1.181498\n",
       "TPI                          7.477382\n",
       "Name: fluxes, dtype: float64"
      ]
     },
     "execution_count": 127,
     "metadata": {},
     "output_type": "execute_result"
    }
   ],
   "source": [
    "solution.fluxes[solution.fluxes != 0.]"
   ]
  },
  {
   "cell_type": "markdown",
   "metadata": {},
   "source": [
    "## Metabolic pathway visualizations with Escher"
   ]
  },
  {
   "cell_type": "markdown",
   "metadata": {},
   "source": [
    "It is quite tedious to try to interpret GSM flux predictions by looking at the raw numbers or statistics. One very useful approach to analyzing simulation results is to plot them on metabolic pathway maps. Luckily a very useful Python package exists for that purpose – [Escher](https://escher.github.io/#/) ([10.1371/journal.pcbi.1004321](http://dx.doi.org/10.1371/journal.pcbi.1004321))."
   ]
  },
  {
   "cell_type": "code",
   "execution_count": 128,
   "metadata": {},
   "outputs": [],
   "source": [
    "import escher"
   ]
  },
  {
   "cell_type": "markdown",
   "metadata": {},
   "source": [
    "You can watch the following [video](https://www.youtube.com/embed/qUipX-xzZjQ) to get an overview of Escher's functionality."
   ]
  },
  {
   "cell_type": "code",
   "execution_count": 129,
   "metadata": {},
   "outputs": [
    {
     "data": {
      "text/html": [
       "\n",
       "        <iframe\n",
       "            width=\"560\"\n",
       "            height=\"315\"\n",
       "            src=\"https://www.youtube.com/embed/qUipX-xzZjQ\"\n",
       "            frameborder=\"0\"\n",
       "            allowfullscreen\n",
       "        ></iframe>\n",
       "        "
      ],
      "text/plain": [
       "<IPython.lib.display.IFrame at 0x7f65ae7d10f0>"
      ]
     },
     "execution_count": 129,
     "metadata": {},
     "output_type": "execute_result"
    }
   ],
   "source": [
    "from IPython.display import IFrame\n",
    "IFrame(width=\"560\", height=\"315\", src=\"https://www.youtube.com/embed/qUipX-xzZjQ\")"
   ]
  },
  {
   "cell_type": "markdown",
   "metadata": {},
   "source": [
    "With the following you can display all available maps in escher (you can also load you're own which we are not going to cover here)."
   ]
  },
  {
   "cell_type": "code",
   "execution_count": 130,
   "metadata": {
    "scrolled": true
   },
   "outputs": [
    {
     "data": {
      "text/plain": [
       "[{'organism': 'Saccharomyces cerevisiae',\n",
       "  'map_name': 'iMM904.Central carbon metabolism'},\n",
       " {'organism': 'Homo sapiens',\n",
       "  'map_name': 'RECON1.Inositol retinol metabolism'},\n",
       " {'organism': 'Homo sapiens', 'map_name': 'RECON1.Glycolysis TCA PPP'},\n",
       " {'organism': 'Homo sapiens', 'map_name': 'RECON1.Tryptophan metabolism'},\n",
       " {'organism': 'Homo sapiens', 'map_name': 'RECON1.Carbohydrate metabolism'},\n",
       " {'organism': 'Homo sapiens',\n",
       "  'map_name': 'RECON1.Amino acid metabolism (partial)'},\n",
       " {'organism': 'Escherichia coli', 'map_name': 'iJO1366.Nucleotide metabolism'},\n",
       " {'organism': 'Escherichia coli',\n",
       "  'map_name': 'iJO1366.Fatty acid biosynthesis (saturated)'},\n",
       " {'organism': 'Escherichia coli',\n",
       "  'map_name': 'iJO1366.Nucleotide and histidine biosynthesis'},\n",
       " {'organism': 'Escherichia coli', 'map_name': 'e_coli_core.Core metabolism'},\n",
       " {'organism': 'Escherichia coli', 'map_name': 'iJO1366.Central metabolism'},\n",
       " {'organism': 'Escherichia coli',\n",
       "  'map_name': 'iJO1366.Fatty acid beta-oxidation'}]"
      ]
     },
     "execution_count": 130,
     "metadata": {},
     "output_type": "execute_result"
    }
   ],
   "source": [
    "escher.list_available_maps()"
   ]
  },
  {
   "cell_type": "markdown",
   "metadata": {},
   "source": [
    "Let's display the map that corresponds to the _E. coli_ core model."
   ]
  },
  {
   "cell_type": "code",
   "execution_count": 131,
   "metadata": {},
   "outputs": [
    {
     "data": {
      "text/html": [
       "\n",
       "\n",
       "\n",
       "  \n",
       "  \n",
       "\n",
       "  \n",
       "  \n",
       "    <link rel=\"stylesheet\" href=\"//unpkg.com/escher-vis@1.6.0/css/dist/builder.min.css\"/>\n",
       "  \n",
       "\n",
       "\n",
       "\n",
       "  <div style=\"height: 500px; width: 100%;\" id=\"bmezfpgare\"></div>\n",
       "\n",
       "  <script>\n",
       "   /* Closure to make sure data only applies to this map. */\n",
       "   (function() {\n",
       "       /* data from python */\n",
       "       var data = get_data();\n",
       "\n",
       "       function load_lib(url, callback) {\n",
       "           /** Dynamically load a JavaScript file */\n",
       "           var s = document.createElement('script');\n",
       "           s.src = url;\n",
       "           s.async = true;\n",
       "           s.onreadystatechange = s.onload = callback;\n",
       "           s.onerror = function() {\n",
       "               console.warn('Failed to load library ' + url);\n",
       "           };\n",
       "           document.getElementsByTagName('head')[0].appendChild(s);\n",
       "       }\n",
       "\n",
       "       function check_global_and_load(name, url, callback) {\n",
       "           /** Look for the name in the global scope. If it isn't present, then\n",
       "              load the library at url. Returns the object. */\n",
       "           if (window[name] !== undefined) {\n",
       "               callback(window[name]);\n",
       "           } else {\n",
       "               load_lib(url, function() {\n",
       "                   callback(window[name]);\n",
       "               });\n",
       "           }\n",
       "       }\n",
       "\n",
       "       function draw_escher(escher) {\n",
       "           /** Get data and draw */\n",
       "           var load = function(t_map_data, t_model_data, t_options) {\n",
       "               escher.Builder(t_map_data, t_model_data, data.builder_embed_css,\n",
       "                              escher.libs.d3_select('#' + data.id), t_options);\n",
       "           }\n",
       "\n",
       "           // for the static site, use the url attributes for the map and model\n",
       "           // information\n",
       "           if (data.static_site_index !== null) {\n",
       "               escher.static.load_map_model_from_url(data.map_download_url, data.model_download_url,\n",
       "                                                     data.static_site_index, data.options, load);\n",
       "           } else {\n",
       "               load(data.map_data, data.model_data, data.options);\n",
       "           }\n",
       "       }\n",
       "\n",
       "       // Load dependencies and draw\n",
       "       if (typeof define === 'function' && define.amd) {\n",
       "           // require.js is available: use it to load escher\n",
       "           require.config({\n",
       "             paths: {\n",
       "               escher: '//unpkg.com/escher-vis@1.6.0/js/dist/escher.min',\n",
       "             },\n",
       "             // Override urlArgs that adds ?v= to the end of the escher URL and\n",
       "             // messes up unpkg links. Honestly, I'm not sure if this will lead\n",
       "             // to downstream bugs in the notebook, but they really shouldn't be\n",
       "             // doing this cache-busting anyway.\n",
       "             urlArgs: null,\n",
       "           })\n",
       "           require([ 'escher' ], function(escher) {\n",
       "               draw_escher(escher);\n",
       "           })\n",
       "       } else {\n",
       "           // require.js not available: dynamically load escher\n",
       "           check_global_and_load('escher', '//unpkg.com/escher-vis@1.6.0/js/dist/escher.min.js', function(escher) {\n",
       "               draw_escher(escher);\n",
       "           })\n",
       "       }\n",
       "\n",
       "       // Put this at the end so Chrome doesn't cut off the code above.\n",
       "       function get_data() {\n",
       "           /** Return the data passed in by the Python module. */\n",
       "           return {\n",
       "               id: JSON.parse('\"bmezfpgare\"'),\n",
       "               map_download_url: JSON.parse('\"//escher.github.io/1-0-0/5/maps/\"'),\n",
       "               model_download_url: JSON.parse('\"//escher.github.io/1-0-0/5/models/\"'),\n",
       "               options: JSON.parse('{\"menu\": \"zoom\", \"enable_keys\": false, \"enable_editing\": false, \"scroll_behavior\": \"none\", \"fill_screen\": false, \"ignore_bootstrap\": true, \"never_ask_before_quit\": true, \"reaction_data\": null, \"metabolite_data\": null, \"gene_data\": null}'),\n",
       "               builder_embed_css: JSON.parse('null'),\n",
       "               map_data: JSON.parse('[{\"map_name\": \"e_coli_core.Core metabolism\", \"map_id\": \"0df3827fde8464e80f455a773a52c274\", \"map_description\": \"E. coli core metabolic network\\\\nLast Modified Fri Dec 05 2014 16:39:44 GMT-0800 (PST)\", \"homepage\": \"https://escher.github.io\", \"schema\": \"https://escher.github.io/escher/jsonschema/1-0-0#\"}, {\"reactions\": {\"1577514\": {\"name\": \"Formate transport in via proton symport\", \"bigg_id\": \"FORt2\", \"segments\": {\"11\": {\"to_node_id\": \"1577044\", \"from_node_id\": \"1576666\", \"b2\": {\"y\": 4749.209372712298, \"x\": 1360.0}, \"b1\": {\"y\": 4827.353507999329, \"x\": 1360.0}}, \"10\": {\"to_node_id\": \"1577046\", \"from_node_id\": \"1577045\", \"b2\": null, \"b1\": null}, \"13\": {\"to_node_id\": \"1576590\", \"from_node_id\": \"1577046\", \"b2\": {\"y\": 4275.94781629675, \"x\": 1360.0}, \"b1\": {\"y\": 4411.784344889025, \"x\": 1360.0}}, \"12\": {\"to_node_id\": \"1577044\", \"from_node_id\": \"1576833\", \"b2\": {\"y\": 4744.773286702694, \"x\": 1360.0}, \"b1\": {\"y\": 4779.244289008981, \"x\": 1360.0}}, \"14\": {\"to_node_id\": \"1576811\", \"from_node_id\": \"1577046\", \"b2\": {\"y\": 4422.5658350974745, \"x\": 1360.0}, \"b1\": {\"y\": 4455.769750529243, \"x\": 1360.0}}, \"9\": {\"to_node_id\": \"1577045\", \"from_node_id\": \"1577044\", \"b2\": null, \"b1\": null}}, \"genes\": [{\"bigg_id\": \"b2492\", \"name\": \"focB\"}, {\"bigg_id\": \"b0904\", \"name\": \"focA\"}], \"reversibility\": false, \"metabolites\": [{\"coefficient\": -1.0, \"bigg_id\": \"for_e\"}, {\"coefficient\": 1.0, \"bigg_id\": \"h_c\"}, {\"coefficient\": 1.0, \"bigg_id\": \"for_c\"}, {\"coefficient\": -1.0, \"bigg_id\": \"h_e\"}], \"label_x\": 1255.7530517578125, \"label_y\": 4574.13232421875, \"gene_reaction_rule\": \"b0904 or b2492\"}, \"1577518\": {\"name\": \"Formate transport via diffusion\", \"bigg_id\": \"FORti\", \"segments\": {\"15\": {\"to_node_id\": \"1577047\", \"from_node_id\": \"1576590\", \"b2\": {\"y\": 4263.5, \"x\": 1460.0}, \"b1\": {\"y\": 4145.55, \"x\": 1460.0}}, \"16\": {\"to_node_id\": \"1576666\", \"from_node_id\": \"1577047\", \"b2\": {\"y\": 4654.322265625, \"x\": 1460.0}, \"b1\": {\"y\": 4488.7, \"x\": 1460.0}}}, \"genes\": [{\"bigg_id\": \"b2492\", \"name\": \"focB\"}, {\"bigg_id\": \"b0904\", \"name\": \"focA\"}], \"reversibility\": false, \"metabolites\": [{\"coefficient\": 1.0, \"bigg_id\": \"for_e\"}, {\"coefficient\": -1.0, \"bigg_id\": \"for_c\"}], \"label_x\": 1479.5206298828125, \"label_y\": 4509.27197265625, \"gene_reaction_rule\": \"b0904 or b2492\"}, \"1576747\": {\"name\": \"D-lactate dehydrogenase\", \"bigg_id\": \"LDH_D\", \"segments\": {\"120\": {\"to_node_id\": \"1576957\", \"from_node_id\": \"1576956\", \"b2\": null, \"b1\": null}, \"121\": {\"to_node_id\": \"1576955\", \"from_node_id\": \"1576957\", \"b2\": null, \"b1\": null}, \"122\": {\"to_node_id\": \"1576956\", \"from_node_id\": \"1576633\", \"b2\": {\"y\": 4240.660459763366, \"x\": 1055.0}, \"b1\": {\"y\": 4277.201532544553, \"x\": 1055.0}}, \"123\": {\"to_node_id\": \"1576956\", \"from_node_id\": \"1576584\", \"b2\": {\"y\": 4243.0, \"x\": 1055.0}, \"b1\": {\"y\": 4285.0, \"x\": 1055.0}}, \"124\": {\"to_node_id\": \"1576634\", \"from_node_id\": \"1576955\", \"b2\": {\"y\": 4060.9687576256715, \"x\": 1055.0}, \"b1\": {\"y\": 4105.790627287702, \"x\": 1055.0}}, \"125\": {\"to_node_id\": \"1576511\", \"from_node_id\": \"1576955\", \"b2\": {\"y\": 4035.0, \"x\": 1055.0}, \"b1\": {\"y\": 4098.0, \"x\": 1055.0}}, \"126\": {\"to_node_id\": \"1576635\", \"from_node_id\": \"1576955\", \"b2\": {\"y\": 4072.7984674554473, \"x\": 1055.0}, \"b1\": {\"y\": 4109.339540236634, \"x\": 1055.0}}}, \"genes\": [{\"bigg_id\": \"b1380\", \"name\": \"ldhA\"}, {\"bigg_id\": \"b2133\", \"name\": \"dld\"}], \"reversibility\": true, \"metabolites\": [{\"coefficient\": 1.0, \"bigg_id\": \"pyr_c\"}, {\"coefficient\": 1.0, \"bigg_id\": \"h_c\"}, {\"coefficient\": -1.0, \"bigg_id\": \"lac__D_c\"}, {\"coefficient\": -1.0, \"bigg_id\": \"nad_c\"}, {\"coefficient\": 1.0, \"bigg_id\": \"nadh_c\"}], \"label_x\": 1065.0, \"label_y\": 4165.0, \"gene_reaction_rule\": \"b2133 or b1380\"}, \"1576746\": {\"name\": \"ATP maintenance requirement\", \"bigg_id\": \"ATPM\", \"segments\": {\"115\": {\"to_node_id\": \"1576952\", \"from_node_id\": \"1576534\", \"b2\": {\"y\": 1176.0, \"x\": 4215.0}, \"b1\": {\"y\": 1120.0, \"x\": 4215.0}}, \"114\": {\"to_node_id\": \"1576954\", \"from_node_id\": \"1576953\", \"b2\": null, \"b1\": null}, \"117\": {\"to_node_id\": \"1576631\", \"from_node_id\": \"1576954\", \"b2\": {\"y\": 1411.0327780786686, \"x\": 4215.0}, \"b1\": {\"y\": 1368.3098334236006, \"x\": 4215.0}}, \"116\": {\"to_node_id\": \"1576952\", \"from_node_id\": \"1576630\", \"b2\": {\"y\": 1187.2720779386423, \"x\": 4215.0}, \"b1\": {\"y\": 1157.5735931288073, \"x\": 4215.0}}, \"113\": {\"to_node_id\": \"1576953\", \"from_node_id\": \"1576952\", \"b2\": null, \"b1\": null}, \"119\": {\"to_node_id\": \"1576536\", \"from_node_id\": \"1576954\", \"b2\": {\"y\": 1430.0, \"x\": 4215.0}, \"b1\": {\"y\": 1374.0, \"x\": 4215.0}}, \"118\": {\"to_node_id\": \"1576632\", \"from_node_id\": \"1576954\", \"b2\": {\"y\": 1388.0788655293195, \"x\": 4215.0}, \"b1\": {\"y\": 1361.423659658796, \"x\": 4215.0}}}, \"genes\": [], \"reversibility\": false, \"metabolites\": [{\"coefficient\": 1.0, \"bigg_id\": \"adp_c\"}, {\"coefficient\": 1.0, \"bigg_id\": \"h_c\"}, {\"coefficient\": -1.0, \"bigg_id\": \"atp_c\"}, {\"coefficient\": -1.0, \"bigg_id\": \"h2o_c\"}, {\"coefficient\": 1.0, \"bigg_id\": \"pi_c\"}], \"label_x\": 4241.11474609375, \"label_y\": 1266.1151123046875, \"gene_reaction_rule\": \"\"}, \"1576745\": {\"name\": \"Glutaminase\", \"bigg_id\": \"GLUN\", \"segments\": {\"108\": {\"to_node_id\": \"1576949\", \"from_node_id\": \"1576951\", \"b2\": null, \"b1\": null}, \"109\": {\"to_node_id\": \"1576950\", \"from_node_id\": \"1576628\", \"b2\": {\"y\": 3888.700961498954, \"x\": 4247.0}, \"b1\": {\"y\": 3916.003204996513, \"x\": 4247.0}}, \"111\": {\"to_node_id\": \"1576629\", \"from_node_id\": \"1576949\", \"b2\": {\"y\": 3777.1681351239463, \"x\": 4247.0}, \"b1\": {\"y\": 3803.650440537184, \"x\": 4247.0}}, \"110\": {\"to_node_id\": \"1576950\", \"from_node_id\": \"1576578\", \"b2\": {\"y\": 3909.550345620285, \"x\": 4247.0}, \"b1\": {\"y\": 3985.501152067616, \"x\": 4247.0}}, \"112\": {\"to_node_id\": \"1576554\", \"from_node_id\": \"1576949\", \"b2\": {\"y\": 3723.4986338899794, \"x\": 4247.0}, \"b1\": {\"y\": 3787.5495901669938, \"x\": 4247.0}}, \"107\": {\"to_node_id\": \"1576951\", \"from_node_id\": \"1576950\", \"b2\": null, \"b1\": null}}, \"genes\": [{\"bigg_id\": \"b1524\", \"name\": \"glsB\"}, {\"bigg_id\": \"b0485\", \"name\": \"glsA\"}, {\"bigg_id\": \"b1812\", \"name\": \"pabB\"}], \"reversibility\": false, \"metabolites\": [{\"coefficient\": 1.0, \"bigg_id\": \"glu__L_c\"}, {\"coefficient\": -1.0, \"bigg_id\": \"gln__L_c\"}, {\"coefficient\": 1.0, \"bigg_id\": \"nh4_c\"}, {\"coefficient\": -1.0, \"bigg_id\": \"h2o_c\"}], \"label_x\": 4253.77685546875, \"label_y\": 3866.338134765625, \"gene_reaction_rule\": \"b1812 or b0485 or b1524\"}, \"1576744\": {\"name\": \"Acetate exchange\", \"bigg_id\": \"EX_ac_e\", \"segments\": {\"105\": {\"to_node_id\": \"1576947\", \"from_node_id\": \"1576627\", \"b2\": {\"y\": 4890.0, \"x\": 1715.0}, \"b1\": {\"y\": 4888.64794921875, \"x\": 1715.0}}}, \"genes\": [], \"reversibility\": false, \"metabolites\": [{\"coefficient\": -1.0, \"bigg_id\": \"ac_e\"}], \"label_x\": 1742.4544677734375, \"label_y\": 4917.06640625, \"gene_reaction_rule\": \"\"}, \"1576743\": {\"name\": \"Glucose 6-phosphate dehydrogenase\", \"bigg_id\": \"G6PDH2r\", \"segments\": {\"99\": {\"to_node_id\": \"1576944\", \"from_node_id\": \"1576945\", \"b2\": null, \"b1\": null}, \"98\": {\"to_node_id\": \"1576945\", \"from_node_id\": \"1576946\", \"b2\": null, \"b1\": null}, \"102\": {\"to_node_id\": \"1576624\", \"from_node_id\": \"1576944\", \"b2\": {\"y\": 1265.0, \"x\": 1393.0018939122203}, \"b1\": {\"y\": 1265.0, \"x\": 1346.800568173666}}, \"103\": {\"to_node_id\": \"1576625\", \"from_node_id\": \"1576944\", \"b2\": {\"y\": 1265.0, \"x\": 1381.6008241696038}, \"b1\": {\"y\": 1265.0, \"x\": 1343.3802472508812}}, \"100\": {\"to_node_id\": \"1576946\", \"from_node_id\": \"1576623\", \"b2\": {\"y\": 1265.0, \"x\": 1270.6197527491188}, \"b1\": {\"y\": 1265.0, \"x\": 1232.3991758303962}}, \"101\": {\"to_node_id\": \"1576946\", \"from_node_id\": \"1576524\", \"b2\": {\"y\": 1265.0, \"x\": 1252.2}, \"b1\": {\"y\": 1265.0, \"x\": 1171.0}}, \"104\": {\"to_node_id\": \"1576626\", \"from_node_id\": \"1576944\", \"b2\": {\"y\": 1265.0, \"x\": 1417.0}, \"b1\": {\"y\": 1265.0, \"x\": 1354.0}}}, \"genes\": [{\"bigg_id\": \"b1852\", \"name\": \"zwf\"}], \"reversibility\": true, \"metabolites\": [{\"coefficient\": -1.0, \"bigg_id\": \"g6p_c\"}, {\"coefficient\": 1.0, \"bigg_id\": \"h_c\"}, {\"coefficient\": -1.0, \"bigg_id\": \"nadp_c\"}, {\"coefficient\": 1.0, \"bigg_id\": \"nadph_c\"}, {\"coefficient\": 1.0, \"bigg_id\": \"6pgl_c\"}], \"label_x\": 1261.46337890625, \"label_y\": 1320.0572509765625, \"gene_reaction_rule\": \"b1852\"}, \"1576742\": {\"name\": \"Malic enzyme (NAD)\", \"bigg_id\": \"ME1\", \"segments\": {\"91\": {\"to_node_id\": \"1576942\", \"from_node_id\": \"1576941\", \"b2\": null, \"b1\": null}, \"93\": {\"to_node_id\": \"1576941\", \"from_node_id\": \"1576504\", \"b2\": {\"y\": 3307.175835174097, \"x\": 2355.6483296518063}, \"b1\": {\"y\": 3253.9194505803225, \"x\": 2462.161098839355}}, \"92\": {\"to_node_id\": \"1576943\", \"from_node_id\": \"1576942\", \"b2\": null, \"b1\": null}, \"95\": {\"to_node_id\": \"1576511\", \"from_node_id\": \"1576943\", \"b2\": {\"y\": 3870.856276574083, \"x\": 1117.2138384533964}, \"b1\": {\"y\": 3474.7533185191, \"x\": 2020.4933629618001}}, \"94\": {\"to_node_id\": \"1576941\", \"from_node_id\": \"1576620\", \"b2\": {\"y\": 3321.8944463483363, \"x\": 2326.2111073033275}, \"b1\": {\"y\": 3302.9814878277875, \"x\": 2364.0370243444254}}, \"97\": {\"to_node_id\": \"1576622\", \"from_node_id\": \"1576943\", \"b2\": {\"y\": 3415.0, \"x\": 2140.0}, \"b1\": {\"y\": 3397.5, \"x\": 2175.0}}, \"96\": {\"to_node_id\": \"1576621\", \"from_node_id\": \"1576943\", \"b2\": {\"y\": 3419.8328677803524, \"x\": 2130.3342644392947}, \"b1\": {\"y\": 3398.949860334106, \"x\": 2172.1002793317884}}}, \"genes\": [{\"bigg_id\": \"b1479\", \"name\": \"maeA\"}], \"reversibility\": false, \"metabolites\": [{\"coefficient\": -1.0, \"bigg_id\": \"mal__L_c\"}, {\"coefficient\": 1.0, \"bigg_id\": \"pyr_c\"}, {\"coefficient\": 1.0, \"bigg_id\": \"co2_c\"}, {\"coefficient\": -1.0, \"bigg_id\": \"nad_c\"}, {\"coefficient\": 1.0, \"bigg_id\": \"nadh_c\"}], \"label_x\": 2188.595703125, \"label_y\": 3321.438232421875, \"gene_reaction_rule\": \"b1479\"}, \"1576741\": {\"name\": \"GLNabc\", \"bigg_id\": \"GLNabc\", \"segments\": {\"88\": {\"to_node_id\": \"1576617\", \"from_node_id\": \"1576938\", \"b2\": {\"y\": 4158.0, \"x\": 4332.993902665717}, \"b1\": {\"y\": 4158.0, \"x\": 4390.398170799715}}, \"89\": {\"to_node_id\": \"1576618\", \"from_node_id\": \"1576938\", \"b2\": {\"y\": 4158.0, \"x\": 4362.798467455447}, \"b1\": {\"y\": 4158.0, \"x\": 4399.339540236634}}, \"90\": {\"to_node_id\": \"1576619\", \"from_node_id\": \"1576938\", \"b2\": {\"y\": 4158.0, \"x\": 4350.968757625671}, \"b1\": {\"y\": 4158.0, \"x\": 4395.790627287702}}, \"82\": {\"to_node_id\": \"1576939\", \"from_node_id\": \"1576940\", \"b2\": null, \"b1\": null}, \"83\": {\"to_node_id\": \"1576938\", \"from_node_id\": \"1576939\", \"b2\": null, \"b1\": null}, \"86\": {\"to_node_id\": \"1576940\", \"from_node_id\": \"1576616\", \"b2\": {\"y\": 4158.0, \"x\": 4470.660459763366}, \"b1\": {\"y\": 4158.0, \"x\": 4507.201532544553}}, \"87\": {\"to_node_id\": \"1576578\", \"from_node_id\": \"1576938\", \"b2\": {\"y\": 4158.0, \"x\": 4324.643760591755}, \"b1\": {\"y\": 4158.0, \"x\": 4387.893128177527}}, \"84\": {\"to_node_id\": \"1576940\", \"from_node_id\": \"1576537\", \"b2\": {\"y\": 4158.0, \"x\": 4519.05}, \"b1\": {\"y\": 4158.0, \"x\": 4668.5}}, \"85\": {\"to_node_id\": \"1576940\", \"from_node_id\": \"1576615\", \"b2\": {\"y\": 4158.0, \"x\": 4474.209372712298}, \"b1\": {\"y\": 4158.0, \"x\": 4519.031242374329}}}, \"genes\": [{\"bigg_id\": \"b0811\", \"name\": \"glnH\"}, {\"bigg_id\": \"b0810\", \"name\": \"glnP\"}, {\"bigg_id\": \"b0809\", \"name\": \"glnQ\"}], \"reversibility\": false, \"metabolites\": [{\"coefficient\": -1.0, \"bigg_id\": \"h2o_c\"}, {\"coefficient\": -1.0, \"bigg_id\": \"atp_c\"}, {\"coefficient\": -1.0, \"bigg_id\": \"gln__L_e\"}, {\"coefficient\": 1.0, \"bigg_id\": \"adp_c\"}, {\"coefficient\": 1.0, \"bigg_id\": \"h_c\"}, {\"coefficient\": 1.0, \"bigg_id\": \"pi_c\"}, {\"coefficient\": 1.0, \"bigg_id\": \"gln__L_c\"}], \"label_x\": 4535.24462890625, \"label_y\": 4133.49658203125, \"gene_reaction_rule\": \"b0811 and b0810 and b0809\"}, \"1577547\": {\"name\": \"Biomass Objective Function with GAM\", \"bigg_id\": \"BIOMASS_Ecoli_core_w_GAM\", \"segments\": {\"498\": {\"to_node_id\": \"1577090\", \"from_node_id\": \"1577076\", \"b2\": {\"y\": 4899.2412109375, \"x\": 5215.0458984375}, \"b1\": {\"y\": 4793.48193359375, \"x\": 5334.0517578125}}, \"499\": {\"to_node_id\": \"1577091\", \"from_node_id\": \"1577076\", \"b2\": {\"y\": 4977.43115234375, \"x\": 5353.5947265625}, \"b1\": {\"y\": 4789.48193359375, \"x\": 5334.0517578125}}, \"494\": {\"to_node_id\": \"1577086\", \"from_node_id\": \"1577074\", \"b2\": {\"y\": 4564.25048828125, \"x\": 5140.27099609375}, \"b1\": {\"y\": 4681.48193359375, \"x\": 5334.0517578125}}, \"495\": {\"to_node_id\": \"1577087\", \"from_node_id\": \"1577076\", \"b2\": {\"y\": 4938.26416015625, \"x\": 5273.55517578125}, \"b1\": {\"y\": 4793.48193359375, \"x\": 5334.0517578125}}, \"496\": {\"to_node_id\": \"1577088\", \"from_node_id\": \"1577074\", \"b2\": {\"y\": 4579.03759765625, \"x\": 5068.69580078125}, \"b1\": {\"y\": 4681.48193359375, \"x\": 5334.0517578125}}, \"497\": {\"to_node_id\": \"1577089\", \"from_node_id\": \"1577074\", \"b2\": {\"y\": 4594.88134765625, \"x\": 5023.52734375}, \"b1\": {\"y\": 4681.48193359375, \"x\": 5334.0517578125}}, \"490\": {\"to_node_id\": \"1577082\", \"from_node_id\": \"1577074\", \"b2\": {\"y\": 4413.09912109375, \"x\": 5307.541015625}, \"b1\": {\"y\": 4681.48193359375, \"x\": 5334.0517578125}}, \"491\": {\"to_node_id\": \"1577083\", \"from_node_id\": \"1577074\", \"b2\": {\"y\": 4523.05615234375, \"x\": 5316.9716796875}, \"b1\": {\"y\": 4681.48193359375, \"x\": 5334.0517578125}}, \"492\": {\"to_node_id\": \"1577084\", \"from_node_id\": \"1577074\", \"b2\": {\"y\": 4533.61865234375, \"x\": 5258.0712890625}, \"b1\": {\"y\": 4681.48193359375, \"x\": 5334.0517578125}}, \"493\": {\"to_node_id\": \"1577085\", \"from_node_id\": \"1577074\", \"b2\": {\"y\": 4544.18115234375, \"x\": 5197.05859375}, \"b1\": {\"y\": 4681.48193359375, \"x\": 5334.0517578125}}, \"506\": {\"to_node_id\": \"1577098\", \"from_node_id\": \"1577076\", \"b2\": {\"y\": 4820.185546875, \"x\": 5099.533203125}, \"b1\": {\"y\": 4793.48193359375, \"x\": 5334.0517578125}}, \"504\": {\"to_node_id\": \"1577096\", \"from_node_id\": \"1577076\", \"b2\": {\"y\": 4868.333984375, \"x\": 5114.79541015625}, \"b1\": {\"y\": 4793.48193359375, \"x\": 5334.0517578125}}, \"505\": {\"to_node_id\": \"1577097\", \"from_node_id\": \"1577074\", \"b2\": {\"y\": 4717.4072265625, \"x\": 4780.78271484375}, \"b1\": {\"y\": 4681.48193359375, \"x\": 5334.0517578125}}, \"502\": {\"to_node_id\": \"1577094\", \"from_node_id\": \"1577074\", \"b2\": {\"y\": 4664.59423828125, \"x\": 4851.0517578125}, \"b1\": {\"y\": 4681.48193359375, \"x\": 5334.0517578125}}, \"503\": {\"to_node_id\": \"1577095\", \"from_node_id\": \"1577074\", \"b2\": {\"y\": 4685.7197265625, \"x\": 4807.9951171875}, \"b1\": {\"y\": 4681.48193359375, \"x\": 5334.0517578125}}, \"500\": {\"to_node_id\": \"1577092\", \"from_node_id\": \"1577074\", \"b2\": {\"y\": 4611.78173828125, \"x\": 4962.51416015625}, \"b1\": {\"y\": 4681.48193359375, \"x\": 5334.0517578125}}, \"501\": {\"to_node_id\": \"1577093\", \"from_node_id\": \"1577074\", \"b2\": {\"y\": 4637.1318359375, \"x\": 4907.83935546875}, \"b1\": {\"y\": 4681.48193359375, \"x\": 5334.0517578125}}, \"489\": {\"to_node_id\": \"1577081\", \"from_node_id\": \"1577076\", \"b2\": {\"y\": 5001.37158203125, \"x\": 5337.27587890625}, \"b1\": {\"y\": 4793.48193359375, \"x\": 5334.0517578125}}, \"488\": {\"to_node_id\": \"1577080\", \"from_node_id\": \"1577074\", \"b2\": {\"y\": 4453.01611328125, \"x\": 5350.98828125}, \"b1\": {\"y\": 4681.48193359375, \"x\": 5334.0517578125}}, \"487\": {\"to_node_id\": \"1577079\", \"from_node_id\": \"1577074\", \"b2\": {\"y\": 4516.16943359375, \"x\": 5423.4208984375}, \"b1\": {\"y\": 4681.48193359375, \"x\": 5334.0517578125}}, \"486\": {\"to_node_id\": \"1577078\", \"from_node_id\": \"1577074\", \"b2\": {\"y\": 4630.19921875, \"x\": 5427.28515625}, \"b1\": {\"y\": 4681.48193359375, \"x\": 5334.0517578125}}, \"485\": {\"to_node_id\": \"1577077\", \"from_node_id\": \"1577076\", \"b2\": {\"y\": 4926.6220703125, \"x\": 5391.197265625}, \"b1\": {\"y\": 4793.48193359375, \"x\": 5334.0517578125}}, \"484\": {\"to_node_id\": \"1577073\", \"from_node_id\": \"1577074\", \"b2\": {\"y\": 4573.30322265625, \"x\": 5455.328125}, \"b1\": {\"y\": 4685.48193359375, \"x\": 5334.0517578125}}, \"483\": {\"to_node_id\": \"1577075\", \"from_node_id\": \"1577076\", \"b2\": null, \"b1\": null}, \"482\": {\"to_node_id\": \"1577075\", \"from_node_id\": \"1577074\", \"b2\": null, \"b1\": null}}, \"genes\": [], \"reversibility\": false, \"metabolites\": [{\"coefficient\": 3.7478, \"bigg_id\": \"coa_c\"}, {\"coefficient\": -0.8977, \"bigg_id\": \"r5p_c\"}, {\"coefficient\": -1.496, \"bigg_id\": \"3pg_c\"}, {\"coefficient\": -0.361, \"bigg_id\": \"e4p_c\"}, {\"coefficient\": -0.2557, \"bigg_id\": \"gln__L_c\"}, {\"coefficient\": 3.547, \"bigg_id\": \"nadh_c\"}, {\"coefficient\": -2.8328, \"bigg_id\": \"pyr_c\"}, {\"coefficient\": -0.0709, \"bigg_id\": \"f6p_c\"}, {\"coefficient\": -13.0279, \"bigg_id\": \"nadph_c\"}, {\"coefficient\": -3.7478, \"bigg_id\": \"accoa_c\"}, {\"coefficient\": -1.7867, \"bigg_id\": \"oaa_c\"}, {\"coefficient\": -0.129, \"bigg_id\": \"g3p_c\"}, {\"coefficient\": -3.547, \"bigg_id\": \"nad_c\"}, {\"coefficient\": 59.81, \"bigg_id\": \"pi_c\"}, {\"coefficient\": -0.205, \"bigg_id\": \"g6p_c\"}, {\"coefficient\": 4.1182, \"bigg_id\": \"akg_c\"}, {\"coefficient\": -0.5191, \"bigg_id\": \"pep_c\"}, {\"coefficient\": -4.9414, \"bigg_id\": \"glu__L_c\"}, {\"coefficient\": -59.81, \"bigg_id\": \"atp_c\"}, {\"coefficient\": 59.81, \"bigg_id\": \"adp_c\"}, {\"coefficient\": 59.81, \"bigg_id\": \"h_c\"}, {\"coefficient\": -59.81, \"bigg_id\": \"h2o_c\"}, {\"coefficient\": 13.0279, \"bigg_id\": \"nadp_c\"}], \"label_x\": 5392.94580078125, \"label_y\": 4746.6962890625, \"gene_reaction_rule\": \"\"}, \"1576749\": {\"name\": \"H2O transport via diffusion\", \"bigg_id\": \"H2Ot\", \"segments\": {\"135\": {\"to_node_id\": \"1576640\", \"from_node_id\": \"1576961\", \"b2\": {\"y\": 4524.0, \"x\": 3257.0}, \"b1\": {\"y\": 4587.0, \"x\": 3257.0}}, \"134\": {\"to_node_id\": \"1576961\", \"from_node_id\": \"1576639\", \"b2\": {\"y\": 4684.0, \"x\": 3257.0}, \"b1\": {\"y\": 4733.0, \"x\": 3257.0}}}, \"genes\": [{\"bigg_id\": \"s0001\", \"name\": \"None\"}, {\"bigg_id\": \"b0875\", \"name\": \"aqpZ\"}], \"reversibility\": true, \"metabolites\": [{\"coefficient\": 1.0, \"bigg_id\": \"h2o_c\"}, {\"coefficient\": -1.0, \"bigg_id\": \"h2o_e\"}], \"label_x\": 3267.0, \"label_y\": 4604.0, \"gene_reaction_rule\": \"b0875 or s0001\"}, \"1576748\": {\"name\": \"Malate dehydrogenase\", \"bigg_id\": \"MDH\", \"segments\": {\"133\": {\"to_node_id\": \"1576521\", \"from_node_id\": \"1576958\", \"b2\": {\"y\": 3595.960728582294, \"x\": 2580.6915524727365}, \"b1\": {\"y\": 3497.9882185746883, \"x\": 2578.807465741821}}, \"132\": {\"to_node_id\": \"1576638\", \"from_node_id\": \"1576958\", \"b2\": {\"y\": 3505.0826757349405, \"x\": 2578.9438976102874}, \"b1\": {\"y\": 3470.7248027204823, \"x\": 2578.2831692830864}}, \"131\": {\"to_node_id\": \"1576637\", \"from_node_id\": \"1576958\", \"b2\": {\"y\": 3538.2116199944217, \"x\": 2579.5809926922}, \"b1\": {\"y\": 3480.6634859983265, \"x\": 2578.47429780766}}, \"130\": {\"to_node_id\": \"1576960\", \"from_node_id\": \"1576636\", \"b2\": {\"y\": 3327.0487806839114, \"x\": 2583.107239628261}, \"b1\": {\"y\": 3294.4959356130375, \"x\": 2585.69079876087}}, \"127\": {\"to_node_id\": \"1576959\", \"from_node_id\": \"1576960\", \"b2\": null, \"b1\": null}, \"128\": {\"to_node_id\": \"1576958\", \"from_node_id\": \"1576959\", \"b2\": null, \"b1\": null}, \"129\": {\"to_node_id\": \"1576960\", \"from_node_id\": \"1576504\", \"b2\": {\"y\": 3317.969496697346, \"x\": 2583.827817722433}, \"b1\": {\"y\": 3264.23165565782, \"x\": 2588.092725741443}}}, \"genes\": [{\"bigg_id\": \"b3236\", \"name\": \"mdh\"}], \"reversibility\": true, \"metabolites\": [{\"coefficient\": -1.0, \"bigg_id\": \"mal__L_c\"}, {\"coefficient\": 1.0, \"bigg_id\": \"h_c\"}, {\"coefficient\": 1.0, \"bigg_id\": \"oaa_c\"}, {\"coefficient\": -1.0, \"bigg_id\": \"nad_c\"}, {\"coefficient\": 1.0, \"bigg_id\": \"nadh_c\"}], \"label_x\": 2587.0, \"label_y\": 3394.0, \"gene_reaction_rule\": \"b3236\"}, \"1577545\": {\"name\": \"Succinate dehydrogenase (irreversible)\", \"bigg_id\": \"SUCDi\", \"segments\": {\"48\": {\"to_node_id\": \"1577066\", \"from_node_id\": \"1577065\", \"b2\": null, \"b1\": null}, \"49\": {\"to_node_id\": \"1577064\", \"from_node_id\": \"1576814\", \"b2\": {\"y\": 2816.4590794794085, \"x\": 3193.7934732750823}, \"b1\": {\"y\": 2815.1969315980286, \"x\": 3225.9782442502737}}, \"47\": {\"to_node_id\": \"1577065\", \"from_node_id\": \"1577064\", \"b2\": null, \"b1\": null}, \"51\": {\"to_node_id\": \"1576503\", \"from_node_id\": \"1577066\", \"b2\": {\"y\": 2843.2084583195547, \"x\": 2952.624089386102}, \"b1\": {\"y\": 2831.162537495866, \"x\": 3040.3872268158307}}, \"50\": {\"to_node_id\": \"1577064\", \"from_node_id\": \"1576533\", \"b2\": {\"y\": 2815.5590310361767, \"x\": 3216.7447085774984}, \"b1\": {\"y\": 2812.1967701205886, \"x\": 3302.482361924995}}, \"52\": {\"to_node_id\": \"1576830\", \"from_node_id\": \"1577066\", \"b2\": {\"y\": 2833.0526323200284, \"x\": 3026.6165359540787}, \"b1\": {\"y\": 2828.1157896960085, \"x\": 3062.5849607862237}}}, \"genes\": [{\"bigg_id\": \"b0724\", \"name\": \"sdhB\"}, {\"bigg_id\": \"b0721\", \"name\": \"sdhC\"}, {\"bigg_id\": \"b0722\", \"name\": \"sdhD\"}, {\"bigg_id\": \"b0723\", \"name\": \"sdhA\"}], \"reversibility\": false, \"metabolites\": [{\"coefficient\": -1.0, \"bigg_id\": \"succ_c\"}, {\"coefficient\": 1.0, \"bigg_id\": \"fum_c\"}, {\"coefficient\": -1.0, \"bigg_id\": \"q8_c\"}, {\"coefficient\": 1.0, \"bigg_id\": \"q8h2_c\"}], \"label_x\": 3108.851318359375, \"label_y\": 2862.949951171875, \"gene_reaction_rule\": \"b0721 and b0722 and b0723 and b0724\"}, \"1577540\": {\"name\": \"NADH dehydrogenase (ubiquinone-8 & 3 protons)\", \"bigg_id\": \"NADH16\", \"segments\": {\"39\": {\"to_node_id\": \"1577062\", \"from_node_id\": \"1577061\", \"b2\": null, \"b1\": null}, \"46\": {\"to_node_id\": \"1576542\", \"from_node_id\": \"1577063\", \"b2\": {\"y\": 2507.151123046875, \"x\": 4630.938294107013}, \"b1\": {\"y\": 2571.611572265625, \"x\": 4800.053949169604}}, \"44\": {\"to_node_id\": \"1576808\", \"from_node_id\": \"1577063\", \"b2\": {\"y\": 2570.0, \"x\": 4780.0}, \"b1\": {\"y\": 2568.388427734375, \"x\": 4766.45361328125}}, \"45\": {\"to_node_id\": \"1576809\", \"from_node_id\": \"1577063\", \"b2\": {\"y\": 2655.409912109375, \"x\": 4928.099683314913}, \"b1\": {\"y\": 2570.000244140625, \"x\": 4798.6355690569735}}, \"42\": {\"to_node_id\": \"1577061\", \"from_node_id\": \"1576827\", \"b2\": {\"y\": 2570.0, \"x\": 4595.729021023612}, \"b1\": {\"y\": 2567.302001953125, \"x\": 4458.799047943291}}, \"43\": {\"to_node_id\": \"1577061\", \"from_node_id\": \"1576539\", \"b2\": {\"y\": 2570.0, \"x\": 4542.513923505967}, \"b1\": {\"y\": 2375.007080078125, \"x\": 4706.342147363639}}, \"40\": {\"to_node_id\": \"1577063\", \"from_node_id\": \"1577062\", \"b2\": null, \"b1\": null}, \"41\": {\"to_node_id\": \"1577061\", \"from_node_id\": \"1576820\", \"b2\": {\"y\": 2570.0, \"x\": 4582.0}, \"b1\": {\"y\": 2570.0, \"x\": 4470.0}}}, \"genes\": [{\"bigg_id\": \"b2284\", \"name\": \"nuoF\"}, {\"bigg_id\": \"b2279\", \"name\": \"nuoK\"}, {\"bigg_id\": \"b2287\", \"name\": \"nuoB\"}, {\"bigg_id\": \"b2286\", \"name\": \"nuoC\"}, {\"bigg_id\": \"b2288\", \"name\": \"nuoA\"}, {\"bigg_id\": \"b2283\", \"name\": \"nuoG\"}, {\"bigg_id\": \"b2277\", \"name\": \"nuoM\"}, {\"bigg_id\": \"b2281\", \"name\": \"nuoI\"}, {\"bigg_id\": \"b2280\", \"name\": \"nuoJ\"}, {\"bigg_id\": \"b2276\", \"name\": \"nuoN\"}, {\"bigg_id\": \"b2282\", \"name\": \"nuoH\"}, {\"bigg_id\": \"b2278\", \"name\": \"nuoL\"}, {\"bigg_id\": \"b2285\", \"name\": \"nuoE\"}], \"reversibility\": false, \"metabolites\": [{\"coefficient\": 3.0, \"bigg_id\": \"h_e\"}, {\"coefficient\": -1.0, \"bigg_id\": \"q8_c\"}, {\"coefficient\": -1.0, \"bigg_id\": \"nadh_c\"}, {\"coefficient\": 1.0, \"bigg_id\": \"q8h2_c\"}, {\"coefficient\": -4.0, \"bigg_id\": \"h_c\"}, {\"coefficient\": 1.0, \"bigg_id\": \"nad_c\"}], \"label_x\": 4589.75537109375, \"label_y\": 2624.46044921875, \"gene_reaction_rule\": \"b2276 and b2277 and b2278 and b2279 and b2280 and b2281 and b2282 and b2283 and b2284 and b2285 and b2286 and b2287 and b2288\"}, \"1577507\": {\"name\": \"Alcohol dehydrogenase (ethanol)\", \"bigg_id\": \"ALCD2x\", \"segments\": {\"3\": {\"to_node_id\": \"1577043\", \"from_node_id\": \"1577042\", \"b2\": null, \"b1\": null}, \"2\": {\"to_node_id\": \"1577042\", \"from_node_id\": \"1577041\", \"b2\": null, \"b1\": null}, \"5\": {\"to_node_id\": \"1577041\", \"from_node_id\": \"1576822\", \"b2\": {\"y\": 4111.911975251582, \"x\": 2383.7628306266947}, \"b1\": {\"y\": 4139.7065841719395, \"x\": 2413.5427687556494}}, \"4\": {\"to_node_id\": \"1577041\", \"from_node_id\": \"1576829\", \"b2\": {\"y\": 4118.6722220553565, \"x\": 2391.0059522021684}, \"b1\": {\"y\": 4162.240740184523, \"x\": 2437.6865073405606}}, \"7\": {\"to_node_id\": \"1576813\", \"from_node_id\": \"1577043\", \"b2\": {\"y\": 4033.046682944248, \"x\": 2306.576904081298}, \"b1\": {\"y\": 4059.6140048832744, \"x\": 2331.3730712243896}}, \"6\": {\"to_node_id\": \"1576817\", \"from_node_id\": \"1577043\", \"b2\": {\"y\": 4004.2974661013272, \"x\": 2279.744301694572}, \"b1\": {\"y\": 4050.989239830398, \"x\": 2323.3232905083714}}, \"8\": {\"to_node_id\": \"1576824\", \"from_node_id\": \"1577043\", \"b2\": {\"y\": 4021.1795086945217, \"x\": 2295.5008747815536}, \"b1\": {\"y\": 4056.0538526083565, \"x\": 2328.0502624344663}}}, \"genes\": [{\"bigg_id\": \"b1241\", \"name\": \"adhE\"}, {\"bigg_id\": \"b0356\", \"name\": \"frmA\"}, {\"bigg_id\": \"b1478\", \"name\": \"adhP\"}], \"reversibility\": true, \"metabolites\": [{\"coefficient\": 1.0, \"bigg_id\": \"acald_c\"}, {\"coefficient\": 1.0, \"bigg_id\": \"h_c\"}, {\"coefficient\": -1.0, \"bigg_id\": \"nad_c\"}, {\"coefficient\": 1.0, \"bigg_id\": \"nadh_c\"}, {\"coefficient\": -1.0, \"bigg_id\": \"etoh_c\"}], \"label_x\": 2356.4794921875, \"label_y\": 4047.4384765625, \"gene_reaction_rule\": \"b0356 or b1478 or b1241\"}, \"1576754\": {\"name\": \"Phosphoenolpyruvate synthase\", \"bigg_id\": \"PPS\", \"segments\": {\"151\": {\"to_node_id\": \"1576970\", \"from_node_id\": \"1576511\", \"b2\": {\"y\": 3844.115214431216, \"x\": 835.0}, \"b1\": {\"y\": 3935.384048104053, \"x\": 835.0}}, \"150\": {\"to_node_id\": \"1576970\", \"from_node_id\": \"1576642\", \"b2\": {\"y\": 3821.7705098312485, \"x\": 835.0}, \"b1\": {\"y\": 3860.9016994374947, \"x\": 835.0}}, \"153\": {\"to_node_id\": \"1576517\", \"from_node_id\": \"1576971\", \"b2\": {\"y\": 3391.8647304430565, \"x\": 835.0}, \"b1\": {\"y\": 3485.059419132917, \"x\": 835.0}}, \"152\": {\"to_node_id\": \"1576970\", \"from_node_id\": \"1576643\", \"b2\": {\"y\": 3820.0, \"x\": 835.0}, \"b1\": {\"y\": 3855.0, \"x\": 835.0}}, \"155\": {\"to_node_id\": \"1576645\", \"from_node_id\": \"1576971\", \"b2\": {\"y\": 3475.0, \"x\": 835.0}, \"b1\": {\"y\": 3510.0, \"x\": 835.0}}, \"154\": {\"to_node_id\": \"1576644\", \"from_node_id\": \"1576971\", \"b2\": {\"y\": 3469.0983005625053, \"x\": 835.0}, \"b1\": {\"y\": 3508.2294901687515, \"x\": 835.0}}, \"156\": {\"to_node_id\": \"1576646\", \"from_node_id\": \"1576971\", \"b2\": {\"y\": 3454.289321881345, \"x\": 835.0}, \"b1\": {\"y\": 3503.7867965644036, \"x\": 835.0}}, \"148\": {\"to_node_id\": \"1576972\", \"from_node_id\": \"1576970\", \"b2\": null, \"b1\": null}, \"149\": {\"to_node_id\": \"1576971\", \"from_node_id\": \"1576972\", \"b2\": null, \"b1\": null}}, \"genes\": [{\"bigg_id\": \"b1702\", \"name\": \"ppsA\"}], \"reversibility\": false, \"metabolites\": [{\"coefficient\": -1.0, \"bigg_id\": \"pyr_c\"}, {\"coefficient\": -1.0, \"bigg_id\": \"atp_c\"}, {\"coefficient\": 1.0, \"bigg_id\": \"amp_c\"}, {\"coefficient\": 1.0, \"bigg_id\": \"pep_c\"}, {\"coefficient\": 2.0, \"bigg_id\": \"h_c\"}, {\"coefficient\": 1.0, \"bigg_id\": \"pi_c\"}, {\"coefficient\": -1.0, \"bigg_id\": \"h2o_c\"}], \"label_x\": 741.8604125976562, \"label_y\": 3669.90869140625, \"gene_reaction_rule\": \"b1702\"}, \"1576755\": {\"name\": \"D-Glucose exchange\", \"bigg_id\": \"EX_glc__D_e\", \"segments\": {\"157\": {\"to_node_id\": \"1576974\", \"from_node_id\": \"1576647\", \"b2\": {\"y\": 623.4132690429688, \"x\": 1056.6529541015625}, \"b1\": {\"y\": 625.4632568359375, \"x\": 1055.066162109375}}}, \"genes\": [], \"reversibility\": true, \"metabolites\": [{\"coefficient\": -1.0, \"bigg_id\": \"glc__D_e\"}], \"label_x\": 1082.5206298828125, \"label_y\": 598.4705200195312, \"gene_reaction_rule\": \"\"}, \"1576756\": {\"name\": \"ETOHt2r\", \"bigg_id\": \"ETOHt2r\", \"segments\": {\"159\": {\"to_node_id\": \"1576976\", \"from_node_id\": \"1576977\", \"b2\": null, \"b1\": null}, \"164\": {\"to_node_id\": \"1576829\", \"from_node_id\": \"1576975\", \"b2\": {\"y\": 4328.998762383821, \"x\": 2500.0}, \"b1\": {\"y\": 4399.699628715146, \"x\": 2500.0}}, \"160\": {\"to_node_id\": \"1576975\", \"from_node_id\": \"1576976\", \"b2\": null, \"b1\": null}, \"161\": {\"to_node_id\": \"1576977\", \"from_node_id\": \"1576648\", \"b2\": {\"y\": 4745.660459763366, \"x\": 2500.0}, \"b1\": {\"y\": 4782.201532544553, \"x\": 2500.0}}, \"162\": {\"to_node_id\": \"1576977\", \"from_node_id\": \"1576649\", \"b2\": {\"y\": 4745.0, \"x\": 2500.0}, \"b1\": {\"y\": 4780.0, \"x\": 2500.0}}, \"163\": {\"to_node_id\": \"1576650\", \"from_node_id\": \"1576975\", \"b2\": {\"y\": 4377.798467455447, \"x\": 2500.0}, \"b1\": {\"y\": 4414.339540236634, \"x\": 2500.0}}}, \"genes\": [], \"reversibility\": true, \"metabolites\": [{\"coefficient\": -1.0, \"bigg_id\": \"h_e\"}, {\"coefficient\": 1.0, \"bigg_id\": \"etoh_c\"}, {\"coefficient\": -1.0, \"bigg_id\": \"etoh_e\"}, {\"coefficient\": 1.0, \"bigg_id\": \"h_c\"}], \"label_x\": 2530.6279296875, \"label_y\": 4611.404296875, \"gene_reaction_rule\": \"\"}, \"1576757\": {\"name\": \"Phosphoglycerate mutase\", \"bigg_id\": \"PGM\", \"segments\": {\"165\": {\"to_node_id\": \"1576978\", \"from_node_id\": \"1576522\", \"b2\": {\"y\": 3060.0, \"x\": 1055.0}, \"b1\": {\"y\": 3105.5, \"x\": 1055.0}}, \"166\": {\"to_node_id\": \"1576486\", \"from_node_id\": \"1576978\", \"b2\": {\"y\": 2935.0, \"x\": 1055.0}, \"b1\": {\"y\": 2977.0, \"x\": 1055.0}}}, \"genes\": [{\"bigg_id\": \"b3612\", \"name\": \"gpmM\"}, {\"bigg_id\": \"b4395\", \"name\": \"ytjC\"}, {\"bigg_id\": \"b0755\", \"name\": \"gpmA\"}], \"reversibility\": true, \"metabolites\": [{\"coefficient\": 1.0, \"bigg_id\": \"3pg_c\"}, {\"coefficient\": -1.0, \"bigg_id\": \"2pg_c\"}], \"label_x\": 1065.0, \"label_y\": 2985.0, \"gene_reaction_rule\": \"b3612 or b4395 or b0755\"}, \"1576750\": {\"name\": \"H2O exchange\", \"bigg_id\": \"EX_h2o_e\", \"segments\": {\"136\": {\"to_node_id\": \"1576962\", \"from_node_id\": \"1576639\", \"b2\": {\"y\": 4839.0, \"x\": 3257.0}, \"b1\": {\"y\": 4779.5, \"x\": 3257.0}}}, \"genes\": [], \"reversibility\": true, \"metabolites\": [{\"coefficient\": -1.0, \"bigg_id\": \"h2o_e\"}], \"label_x\": 3267.0, \"label_y\": 4914.0, \"gene_reaction_rule\": \"\"}, \"1576751\": {\"name\": \"Transketolase\", \"bigg_id\": \"TKT1\", \"segments\": {\"142\": {\"to_node_id\": \"1576546\", \"from_node_id\": \"1576966\", \"b2\": {\"y\": 1816.322080948729, \"x\": 2070.2734375}, \"b1\": {\"y\": 1823.819109636181, \"x\": 2173.413330078125}}, \"143\": {\"to_node_id\": \"1576545\", \"from_node_id\": \"1576966\", \"b2\": {\"y\": 1821.0824569252916, \"x\": 2297.1806640625}, \"b1\": {\"y\": 1822.232439714306, \"x\": 2175.0}}, \"140\": {\"to_node_id\": \"1576964\", \"from_node_id\": \"1576605\", \"b2\": {\"y\": 1605.9896167668144, \"x\": 2175.0}, \"b1\": {\"y\": 1557.80791851959, \"x\": 2171.826416015625}}, \"141\": {\"to_node_id\": \"1576964\", \"from_node_id\": \"1576558\", \"b2\": {\"y\": 1607.9527328943145, \"x\": 2175.0}, \"b1\": {\"y\": 1558.0047151164654, \"x\": 2171.82666015625}}, \"139\": {\"to_node_id\": \"1576966\", \"from_node_id\": \"1576965\", \"b2\": null, \"b1\": null}, \"138\": {\"to_node_id\": \"1576965\", \"from_node_id\": \"1576964\", \"b2\": null, \"b1\": null}}, \"genes\": [{\"bigg_id\": \"b2465\", \"name\": \"tktB\"}, {\"bigg_id\": \"b2935\", \"name\": \"tktA\"}], \"reversibility\": true, \"metabolites\": [{\"coefficient\": -1.0, \"bigg_id\": \"xu5p__D_c\"}, {\"coefficient\": -1.0, \"bigg_id\": \"r5p_c\"}, {\"coefficient\": 1.0, \"bigg_id\": \"g3p_c\"}, {\"coefficient\": 1.0, \"bigg_id\": \"s7p_c\"}], \"label_x\": 2185.0, \"label_y\": 1685.0, \"gene_reaction_rule\": \"b2935 or b2465\"}, \"1576752\": {\"name\": \"CO2 transporter via diffusion\", \"bigg_id\": \"CO2t\", \"segments\": {\"144\": {\"to_node_id\": \"1576967\", \"from_node_id\": \"1576544\", \"b2\": {\"y\": 4679.0, \"x\": 3621.0}, \"b1\": {\"y\": 4731.5, \"x\": 3621.0}}, \"145\": {\"to_node_id\": \"1576641\", \"from_node_id\": \"1576967\", \"b2\": {\"y\": 4519.0, \"x\": 3621.0}, \"b1\": {\"y\": 4578.5, \"x\": 3621.0}}}, \"genes\": [{\"bigg_id\": \"s0001\", \"name\": \"None\"}], \"reversibility\": true, \"metabolites\": [{\"coefficient\": -1.0, \"bigg_id\": \"co2_e\"}, {\"coefficient\": 1.0, \"bigg_id\": \"co2_c\"}], \"label_x\": 3631.0, \"label_y\": 4594.0, \"gene_reaction_rule\": \"s0001\"}, \"1576753\": {\"name\": \"2-Oxoglutarate exchange\", \"bigg_id\": \"EX_akg_e\", \"segments\": {\"146\": {\"to_node_id\": \"1576969\", \"from_node_id\": \"1576598\", \"b2\": {\"y\": 3228.0, \"x\": 4977.0}, \"b1\": {\"y\": 3228.0, \"x\": 4938.5}}}, \"genes\": [], \"reversibility\": false, \"metabolites\": [{\"coefficient\": -1.0, \"bigg_id\": \"akg_e\"}], \"label_x\": 5042.0, \"label_y\": 3218.0, \"gene_reaction_rule\": \"\"}, \"1576758\": {\"name\": \"Ethanol exchange\", \"bigg_id\": \"EX_etoh_e\", \"segments\": {\"167\": {\"to_node_id\": \"1576980\", \"from_node_id\": \"1576649\", \"b2\": {\"y\": 4887.93359375, \"x\": 2500.0}, \"b1\": {\"y\": 4875.1484375, \"x\": 2500.0}}}, \"genes\": [], \"reversibility\": false, \"metabolites\": [{\"coefficient\": -1.0, \"bigg_id\": \"etoh_e\"}], \"label_x\": 2519.520751953125, \"label_y\": 4934.28076171875, \"gene_reaction_rule\": \"\"}, \"1576759\": {\"name\": \"Acetate kinase\", \"bigg_id\": \"ACKr\", \"segments\": {\"169\": {\"to_node_id\": \"1576982\", \"from_node_id\": \"1576981\", \"b2\": null, \"b1\": null}, \"174\": {\"to_node_id\": \"1576613\", \"from_node_id\": \"1576983\", \"b2\": {\"y\": 4215.0, \"x\": 1715.0}, \"b1\": {\"y\": 4243.0, \"x\": 1715.0}}, \"173\": {\"to_node_id\": \"1576653\", \"from_node_id\": \"1576983\", \"b2\": {\"y\": 4202.798467455447, \"x\": 1715.0}, \"b1\": {\"y\": 4239.339540236634, \"x\": 1715.0}}, \"172\": {\"to_node_id\": \"1576981\", \"from_node_id\": \"1576652\", \"b2\": {\"y\": 4317.0, \"x\": 1715.0}, \"b1\": {\"y\": 4345.0, \"x\": 1715.0}}, \"171\": {\"to_node_id\": \"1576981\", \"from_node_id\": \"1576651\", \"b2\": {\"y\": 4320.660459763366, \"x\": 1715.0}, \"b1\": {\"y\": 4357.201532544553, \"x\": 1715.0}}, \"170\": {\"to_node_id\": \"1576983\", \"from_node_id\": \"1576982\", \"b2\": null, \"b1\": null}}, \"genes\": [{\"bigg_id\": \"b2296\", \"name\": \"ackA\"}, {\"bigg_id\": \"b3115\", \"name\": \"tdcD\"}, {\"bigg_id\": \"b1849\", \"name\": \"purT\"}], \"reversibility\": true, \"metabolites\": [{\"coefficient\": 1.0, \"bigg_id\": \"adp_c\"}, {\"coefficient\": -1.0, \"bigg_id\": \"ac_c\"}, {\"coefficient\": 1.0, \"bigg_id\": \"actp_c\"}, {\"coefficient\": -1.0, \"bigg_id\": \"atp_c\"}], \"label_x\": 1737.694091796875, \"label_y\": 4293.5615234375, \"gene_reaction_rule\": \"b3115 or b2296 or b1849\"}, \"1576710\": {\"name\": \"CO2 exchange\", \"bigg_id\": \"EX_co2_e\", \"segments\": {\"367\": {\"to_node_id\": \"1576871\", \"from_node_id\": \"1576544\", \"b2\": {\"y\": 4834.0, \"x\": 3621.0}, \"b1\": {\"y\": 4778.0, \"x\": 3621.0}}}, \"genes\": [], \"reversibility\": true, \"metabolites\": [{\"coefficient\": -1.0, \"bigg_id\": \"co2_e\"}], \"label_x\": 3631.0, \"label_y\": 4904.0, \"gene_reaction_rule\": \"\"}, \"1576760\": {\"name\": \"Ammonia exchange\", \"bigg_id\": \"EX_nh4_e\", \"segments\": {\"175\": {\"to_node_id\": \"1576985\", \"from_node_id\": \"1576526\", \"b2\": {\"y\": 4837.5, \"x\": 3990.0}, \"b1\": {\"y\": 4781.15, \"x\": 3989.3}}}, \"genes\": [], \"reversibility\": true, \"metabolites\": [{\"coefficient\": -1.0, \"bigg_id\": \"nh4_e\"}], \"label_x\": 4001.0, \"label_y\": 4908.0, \"gene_reaction_rule\": \"\"}, \"1576763\": {\"name\": \"Fumarate transport via proton symport  2 H \", \"bigg_id\": \"FUMt2_2\", \"segments\": {\"191\": {\"to_node_id\": \"1576659\", \"from_node_id\": \"1576992\", \"b2\": {\"y\": 1032.2015325445527, \"x\": 2840.0}, \"b1\": {\"y\": 995.6604597633658, \"x\": 2840.0}}, \"190\": {\"to_node_id\": \"1576991\", \"from_node_id\": \"1576658\", \"b2\": {\"y\": 714.3395402366342, \"x\": 2840.0}, \"b1\": {\"y\": 677.7984674554473, \"x\": 2840.0}}, \"192\": {\"to_node_id\": \"1576503\", \"from_node_id\": \"1576992\", \"b2\": {\"y\": 1950.0011597931211, \"x\": 2840.0}, \"b1\": {\"y\": 1271.0003479379363, \"x\": 2840.0}}, \"187\": {\"to_node_id\": \"1576993\", \"from_node_id\": \"1576991\", \"b2\": null, \"b1\": null}, \"188\": {\"to_node_id\": \"1576992\", \"from_node_id\": \"1576993\", \"b2\": null, \"b1\": null}, \"189\": {\"to_node_id\": \"1576991\", \"from_node_id\": \"1576657\", \"b2\": {\"y\": 718.0, \"x\": 2840.0}, \"b1\": {\"y\": 690.0, \"x\": 2840.0}}}, \"genes\": [{\"bigg_id\": \"b3528\", \"name\": \"dctA\"}], \"reversibility\": false, \"metabolites\": [{\"coefficient\": 1.0, \"bigg_id\": \"fum_c\"}, {\"coefficient\": 2.0, \"bigg_id\": \"h_c\"}, {\"coefficient\": -1.0, \"bigg_id\": \"fum_e\"}, {\"coefficient\": -2.0, \"bigg_id\": \"h_e\"}], \"label_x\": 2851.586669921875, \"label_y\": 845.8676147460938, \"gene_reaction_rule\": \"b3528\"}, \"1576762\": {\"name\": \"Phosphate exchange\", \"bigg_id\": \"EX_pi_e\", \"segments\": {\"185\": {\"to_node_id\": \"1576989\", \"from_node_id\": \"1576594\", \"b2\": {\"y\": 4909.82177734375, \"x\": 2880.0}, \"b1\": {\"y\": 4896.2666015625, \"x\": 2879.999755859375}}}, \"genes\": [], \"reversibility\": true, \"metabolites\": [{\"coefficient\": -1.0, \"bigg_id\": \"pi_e\"}], \"label_x\": 2902.694091796875, \"label_y\": 4926.21484375, \"gene_reaction_rule\": \"\"}, \"1576765\": {\"name\": \"D-glucose transport via PEP:Pyr PTS\", \"bigg_id\": \"GLCpts\", \"segments\": {\"201\": {\"to_node_id\": \"1576998\", \"from_node_id\": \"1576662\", \"b2\": {\"y\": 830.8607140720374, \"x\": 1056.2982974892807}, \"b1\": {\"y\": 817.6128620109578, \"x\": 962.100078544998}}, \"200\": {\"to_node_id\": \"1576999\", \"from_node_id\": \"1576997\", \"b2\": null, \"b1\": null}, \"203\": {\"to_node_id\": \"1576663\", \"from_node_id\": \"1576999\", \"b2\": {\"y\": 1091.99109457335, \"x\": 1162.89990234375}, \"b1\": {\"y\": 1155.6497636747395, \"x\": 1056.5867919921875}}, \"202\": {\"to_node_id\": \"1576998\", \"from_node_id\": \"1576647\", \"b2\": {\"y\": 852.0646158583277, \"x\": 1054.6540059434642}, \"b1\": {\"y\": 841.218336226978, \"x\": 1054.4691636917553}}, \"199\": {\"to_node_id\": \"1576997\", \"from_node_id\": \"1576998\", \"b2\": null, \"b1\": null}, \"204\": {\"to_node_id\": \"1576524\", \"from_node_id\": \"1576999\", \"b2\": {\"y\": 1159.3526000976562, \"x\": 1055.0}, \"b1\": {\"y\": 1156.4998046875, \"x\": 1056.5867919921875}}}, \"genes\": [{\"bigg_id\": \"b1621\", \"name\": \"malX\"}, {\"bigg_id\": \"b2416\", \"name\": \"ptsI\"}, {\"bigg_id\": \"b1817\", \"name\": \"manX\"}, {\"bigg_id\": \"b1101\", \"name\": \"ptsG\"}, {\"bigg_id\": \"b1818\", \"name\": \"manY\"}, {\"bigg_id\": \"b1819\", \"name\": \"manZ\"}, {\"bigg_id\": \"b2415\", \"name\": \"ptsH\"}, {\"bigg_id\": \"b2417\", \"name\": \"crr\"}], \"reversibility\": false, \"metabolites\": [{\"coefficient\": -1.0, \"bigg_id\": \"pep_c\"}, {\"coefficient\": 1.0, \"bigg_id\": \"pyr_c\"}, {\"coefficient\": -1.0, \"bigg_id\": \"glc__D_e\"}, {\"coefficient\": 1.0, \"bigg_id\": \"g6p_c\"}], \"label_x\": 1074.520263671875, \"label_y\": 929.0499877929688, \"gene_reaction_rule\": \"(b2417 and b1101 and b2415 and b2416) or (b1817 and b1818 and b1819 and b2415 and b2416) or (b2417 and b1621 and b2415 and b2416)\"}, \"1576764\": {\"name\": \"Acetate reversible transport via proton symport\", \"bigg_id\": \"ACt2r\", \"segments\": {\"198\": {\"to_node_id\": \"1576661\", \"from_node_id\": \"1576996\", \"b2\": {\"y\": 4430.253057299197, \"x\": 1719.76025390625}, \"b1\": {\"y\": 4485.835145705384, \"x\": 1715.0}}, \"195\": {\"to_node_id\": \"1576994\", \"from_node_id\": \"1576627\", \"b2\": {\"y\": 4760.0, \"x\": 1715.0}, \"b1\": {\"y\": 4779.13232421875, \"x\": 1716.5867919921875}}, \"194\": {\"to_node_id\": \"1576996\", \"from_node_id\": \"1576995\", \"b2\": null, \"b1\": null}, \"197\": {\"to_node_id\": \"1576652\", \"from_node_id\": \"1576996\", \"b2\": {\"y\": 4450.38818359375, \"x\": 1715.0}, \"b1\": {\"y\": 4489.49560546875, \"x\": 1715.0}}, \"196\": {\"to_node_id\": \"1576994\", \"from_node_id\": \"1576660\", \"b2\": {\"y\": 4760.660459763366, \"x\": 1715.0}, \"b1\": {\"y\": 4787.680536450803, \"x\": 1715.0}}, \"193\": {\"to_node_id\": \"1576995\", \"from_node_id\": \"1576994\", \"b2\": null, \"b1\": null}}, \"genes\": [], \"reversibility\": true, \"metabolites\": [{\"coefficient\": -1.0, \"bigg_id\": \"h_e\"}, {\"coefficient\": 1.0, \"bigg_id\": \"h_c\"}, {\"coefficient\": -1.0, \"bigg_id\": \"ac_e\"}, {\"coefficient\": 1.0, \"bigg_id\": \"ac_c\"}], \"label_x\": 1740.8675537109375, \"label_y\": 4638.470703125, \"gene_reaction_rule\": \"\"}, \"1576766\": {\"name\": \"Succinate transport out via proton antiport\", \"bigg_id\": \"SUCCt3\", \"segments\": {\"205\": {\"to_node_id\": \"1577000\", \"from_node_id\": \"1577002\", \"b2\": null, \"b1\": null}, \"207\": {\"to_node_id\": \"1577002\", \"from_node_id\": \"1576664\", \"b2\": {\"y\": 2844.388427734375, \"x\": 4392.512762612581}, \"b1\": {\"y\": 2928.186767578125, \"x\": 4395.992900114855}}, \"210\": {\"to_node_id\": \"1576665\", \"from_node_id\": \"1577001\", \"b2\": {\"y\": 2757.366943359375, \"x\": 4896.373608481642}, \"b1\": {\"y\": 2844.388427734375, \"x\": 4895.4172094976175}}, \"206\": {\"to_node_id\": \"1577001\", \"from_node_id\": \"1577000\", \"b2\": null, \"b1\": null}, \"209\": {\"to_node_id\": \"1576531\", \"from_node_id\": \"1577001\", \"b2\": {\"y\": 2846.0, \"x\": 4852.764726786234}, \"b1\": {\"y\": 2844.388427734375, \"x\": 4830.28303131712}}, \"208\": {\"to_node_id\": \"1577002\", \"from_node_id\": \"1576533\", \"b2\": {\"y\": 2846.0, \"x\": 4388.970989302984}, \"b1\": {\"y\": 2846.0, \"x\": 3989.9032976766134}}}, \"genes\": [], \"reversibility\": false, \"metabolites\": [{\"coefficient\": -1.0, \"bigg_id\": \"succ_c\"}, {\"coefficient\": 1.0, \"bigg_id\": \"succ_e\"}, {\"coefficient\": 1.0, \"bigg_id\": \"h_c\"}, {\"coefficient\": -1.0, \"bigg_id\": \"h_e\"}], \"label_x\": 4451.38818359375, \"label_y\": 2819.884765625, \"gene_reaction_rule\": \"\"}, \"1576769\": {\"name\": \"Glyceraldehyde-3-phosphate dehydrogenase\", \"bigg_id\": \"GAPD\", \"segments\": {\"217\": {\"to_node_id\": \"1577008\", \"from_node_id\": \"1577006\", \"b2\": null, \"b1\": null}, \"218\": {\"to_node_id\": \"1577007\", \"from_node_id\": \"1577008\", \"b2\": null, \"b1\": null}, \"219\": {\"to_node_id\": \"1577006\", \"from_node_id\": \"1576575\", \"b2\": {\"y\": 2322.5, \"x\": 1055.0}, \"b1\": {\"y\": 2270.0, \"x\": 1055.0}}, \"224\": {\"to_node_id\": \"1576672\", \"from_node_id\": \"1577007\", \"b2\": {\"y\": 2482.4341649025255, \"x\": 1055.0}, \"b1\": {\"y\": 2449.230249470758, \"x\": 1055.0}}, \"223\": {\"to_node_id\": \"1576671\", \"from_node_id\": \"1577007\", \"b2\": {\"y\": 2495.2079728939616, \"x\": 1055.0}, \"b1\": {\"y\": 2453.0623918681886, \"x\": 1055.0}}, \"222\": {\"to_node_id\": \"1576487\", \"from_node_id\": \"1577007\", \"b2\": {\"y\": 2500.0, \"x\": 1055.0}, \"b1\": {\"y\": 2454.5, \"x\": 1055.0}}, \"221\": {\"to_node_id\": \"1577006\", \"from_node_id\": \"1576670\", \"b2\": {\"y\": 2330.769750529242, \"x\": 1055.0}, \"b1\": {\"y\": 2297.5658350974745, \"x\": 1055.0}}, \"220\": {\"to_node_id\": \"1577006\", \"from_node_id\": \"1576669\", \"b2\": {\"y\": 2326.9376081318114, \"x\": 1055.0}, \"b1\": {\"y\": 2284.7920271060384, \"x\": 1055.0}}}, \"genes\": [{\"bigg_id\": \"b1779\", \"name\": \"gapA\"}], \"reversibility\": true, \"metabolites\": [{\"coefficient\": 1.0, \"bigg_id\": \"13dpg_c\"}, {\"coefficient\": -1.0, \"bigg_id\": \"g3p_c\"}, {\"coefficient\": 1.0, \"bigg_id\": \"nadh_c\"}, {\"coefficient\": 1.0, \"bigg_id\": \"h_c\"}, {\"coefficient\": -1.0, \"bigg_id\": \"nad_c\"}, {\"coefficient\": -1.0, \"bigg_id\": \"pi_c\"}], \"label_x\": 1065.0, \"label_y\": 2385.0, \"gene_reaction_rule\": \"b1779\"}, \"1576768\": {\"name\": \"6-phosphogluconolactonase\", \"bigg_id\": \"PGL\", \"segments\": {\"216\": {\"to_node_id\": \"1576490\", \"from_node_id\": \"1577004\", \"b2\": {\"y\": 1265.0, \"x\": 1742.0}, \"b1\": {\"y\": 1265.0, \"x\": 1682.5}}, \"214\": {\"to_node_id\": \"1577005\", \"from_node_id\": \"1576667\", \"b2\": {\"y\": 1265.0, \"x\": 1600.6197527491188}, \"b1\": {\"y\": 1265.0, \"x\": 1562.3991758303962}}, \"215\": {\"to_node_id\": \"1576668\", \"from_node_id\": \"1577004\", \"b2\": {\"y\": 1265.0, \"x\": 1711.6008241696038}, \"b1\": {\"y\": 1265.0, \"x\": 1673.3802472508812}}, \"212\": {\"to_node_id\": \"1577004\", \"from_node_id\": \"1577003\", \"b2\": null, \"b1\": null}, \"213\": {\"to_node_id\": \"1577005\", \"from_node_id\": \"1576626\", \"b2\": {\"y\": 1265.0, \"x\": 1600.5}, \"b1\": {\"y\": 1265.0, \"x\": 1562.0}}, \"211\": {\"to_node_id\": \"1577003\", \"from_node_id\": \"1577005\", \"b2\": null, \"b1\": null}}, \"genes\": [{\"bigg_id\": \"b0767\", \"name\": \"pgl\"}], \"reversibility\": false, \"metabolites\": [{\"coefficient\": -1.0, \"bigg_id\": \"6pgl_c\"}, {\"coefficient\": 1.0, \"bigg_id\": \"h_c\"}, {\"coefficient\": -1.0, \"bigg_id\": \"h2o_c\"}, {\"coefficient\": 1.0, \"bigg_id\": \"6pgc_c\"}], \"label_x\": 1599.3970947265625, \"label_y\": 1312.1234130859375, \"gene_reaction_rule\": \"b0767\"}, \"1576699\": {\"name\": \"Pyruvate dehydrogenase\", \"bigg_id\": \"PDH\", \"segments\": {\"331\": {\"to_node_id\": \"1576514\", \"from_node_id\": \"1576851\", \"b2\": {\"y\": 3945.0, \"x\": 1635.0}, \"b1\": {\"y\": 3945.0, \"x\": 1579.0}}, \"330\": {\"to_node_id\": \"1576513\", \"from_node_id\": \"1576851\", \"b2\": {\"y\": 3945.0, \"x\": 1606.478150704935}, \"b1\": {\"y\": 3945.0, \"x\": 1570.4434452114806}}, \"332\": {\"to_node_id\": \"1576515\", \"from_node_id\": \"1576851\", \"b2\": {\"y\": 3945.0, \"x\": 1613.309518948453}, \"b1\": {\"y\": 3945.0, \"x\": 1572.492855684536}}, \"326\": {\"to_node_id\": \"1576851\", \"from_node_id\": \"1576850\", \"b2\": null, \"b1\": null}, \"327\": {\"to_node_id\": \"1576849\", \"from_node_id\": \"1576510\", \"b2\": {\"y\": 3945.0, \"x\": 1413.3472975166192}, \"b1\": {\"y\": 3945.0, \"x\": 1374.4909917220637}}, \"325\": {\"to_node_id\": \"1576850\", \"from_node_id\": \"1576849\", \"b2\": null, \"b1\": null}, \"328\": {\"to_node_id\": \"1576849\", \"from_node_id\": \"1576511\", \"b2\": {\"y\": 3945.0, \"x\": 1373.75}, \"b1\": {\"y\": 3945.0, \"x\": 1242.5}}, \"329\": {\"to_node_id\": \"1576849\", \"from_node_id\": \"1576512\", \"b2\": {\"y\": 3945.0, \"x\": 1411.736306507171}, \"b1\": {\"y\": 3945.0, \"x\": 1369.1210216905704}}}, \"genes\": [{\"bigg_id\": \"b0114\", \"name\": \"aceE\"}, {\"bigg_id\": \"b0115\", \"name\": \"aceF\"}, {\"bigg_id\": \"b0116\", \"name\": \"lpd\"}], \"reversibility\": false, \"metabolites\": [{\"coefficient\": 1.0, \"bigg_id\": \"nadh_c\"}, {\"coefficient\": -1.0, \"bigg_id\": \"coa_c\"}, {\"coefficient\": -1.0, \"bigg_id\": \"pyr_c\"}, {\"coefficient\": 1.0, \"bigg_id\": \"accoa_c\"}, {\"coefficient\": -1.0, \"bigg_id\": \"nad_c\"}, {\"coefficient\": 1.0, \"bigg_id\": \"co2_c\"}], \"label_x\": 1417.72802734375, \"label_y\": 3920.71923828125, \"gene_reaction_rule\": \"b0114 and b0115 and b0116\"}, \"1576698\": {\"name\": \"Isocitrate dehydrogenase (NADP)\", \"bigg_id\": \"ICDHyr\", \"segments\": {\"319\": {\"to_node_id\": \"1576848\", \"from_node_id\": \"1576846\", \"b2\": null, \"b1\": null}, \"318\": {\"to_node_id\": \"1576846\", \"from_node_id\": \"1576847\", \"b2\": null, \"b1\": null}, \"322\": {\"to_node_id\": \"1576507\", \"from_node_id\": \"1576848\", \"b2\": {\"y\": 3735.4876397766343, \"x\": 3702.9108389651055}, \"b1\": {\"y\": 3767.3462919329904, \"x\": 3674.9732516895315}}, \"323\": {\"to_node_id\": \"1576508\", \"from_node_id\": \"1576848\", \"b2\": {\"y\": 3749.7955576929353, \"x\": 3690.36389556158}, \"b1\": {\"y\": 3771.6386673078805, \"x\": 3671.209168668474}}, \"320\": {\"to_node_id\": \"1576847\", \"from_node_id\": \"1576505\", \"b2\": {\"y\": 3933.673891941737, \"x\": 3498.9695345126847}, \"b1\": {\"y\": 3958.5796398057905, \"x\": 3468.565115042282}}, \"321\": {\"to_node_id\": \"1576847\", \"from_node_id\": \"1576506\", \"b2\": {\"y\": 3936.593890513596, \"x\": 3495.4048609314546}, \"b1\": {\"y\": 3968.312968378653, \"x\": 3456.6828697715146}}, \"324\": {\"to_node_id\": \"1576509\", \"from_node_id\": \"1576848\", \"b2\": {\"y\": 3715.2337610392046, \"x\": 3720.671932627159}, \"b1\": {\"y\": 3761.2701283117613, \"x\": 3680.3015797881476}}}, \"genes\": [{\"bigg_id\": \"b1136\", \"name\": \"icd\"}], \"reversibility\": true, \"metabolites\": [{\"coefficient\": 1.0, \"bigg_id\": \"nadph_c\"}, {\"coefficient\": 1.0, \"bigg_id\": \"akg_c\"}, {\"coefficient\": 1.0, \"bigg_id\": \"co2_c\"}, {\"coefficient\": -1.0, \"bigg_id\": \"nadp_c\"}, {\"coefficient\": -1.0, \"bigg_id\": \"icit_c\"}], \"label_x\": 3616.0, \"label_y\": 3836.0, \"gene_reaction_rule\": \"b1136\"}, \"1576695\": {\"name\": \"O2 transport  diffusion \", \"bigg_id\": \"O2t\", \"segments\": {\"304\": {\"to_node_id\": \"1576840\", \"from_node_id\": \"1576494\", \"b2\": {\"y\": 1660.0, \"x\": 4755.0}, \"b1\": {\"y\": 1660.0, \"x\": 4821.5}}, \"305\": {\"to_node_id\": \"1576495\", \"from_node_id\": \"1576840\", \"b2\": {\"y\": 1660.0, \"x\": 4495.0}, \"b1\": {\"y\": 1660.0, \"x\": 4610.5}}}, \"genes\": [{\"bigg_id\": \"s0001\", \"name\": \"None\"}], \"reversibility\": true, \"metabolites\": [{\"coefficient\": 1.0, \"bigg_id\": \"o2_c\"}, {\"coefficient\": -1.0, \"bigg_id\": \"o2_e\"}], \"label_x\": 4557.1943359375, \"label_y\": 1635.4964599609375, \"gene_reaction_rule\": \"s0001\"}, \"1576694\": {\"name\": \"Phosphogluconate dehydrogenase\", \"bigg_id\": \"GND\", \"segments\": {\"300\": {\"to_node_id\": \"1576838\", \"from_node_id\": \"1576490\", \"b2\": {\"y\": 1265.0, \"x\": 1920.5}, \"b1\": {\"y\": 1265.0, \"x\": 1882.0}}, \"301\": {\"to_node_id\": \"1576491\", \"from_node_id\": \"1576839\", \"b2\": {\"y\": 1265.0, \"x\": 2029.2015325445527}, \"b1\": {\"y\": 1265.0, \"x\": 1992.660459763366}}, \"302\": {\"to_node_id\": \"1576492\", \"from_node_id\": \"1576839\", \"b2\": {\"y\": 1265.0, \"x\": 2041.0312423743285}, \"b1\": {\"y\": 1265.0, \"x\": 1996.2093727122985}}, \"303\": {\"to_node_id\": \"1576493\", \"from_node_id\": \"1576839\", \"b2\": {\"y\": 1265.0, \"x\": 2066.0}, \"b1\": {\"y\": 1265.0, \"x\": 2003.7}}, \"298\": {\"to_node_id\": \"1576839\", \"from_node_id\": \"1576837\", \"b2\": null, \"b1\": null}, \"299\": {\"to_node_id\": \"1576838\", \"from_node_id\": \"1576489\", \"b2\": {\"y\": 1265.0, \"x\": 1921.339540236634}, \"b1\": {\"y\": 1265.0, \"x\": 1884.7984674554473}}, \"297\": {\"to_node_id\": \"1576837\", \"from_node_id\": \"1576838\", \"b2\": null, \"b1\": null}}, \"genes\": [{\"bigg_id\": \"b2029\", \"name\": \"gnd\"}], \"reversibility\": false, \"metabolites\": [{\"coefficient\": 1.0, \"bigg_id\": \"ru5p__D_c\"}, {\"coefficient\": 1.0, \"bigg_id\": \"nadph_c\"}, {\"coefficient\": 1.0, \"bigg_id\": \"co2_c\"}, {\"coefficient\": -1.0, \"bigg_id\": \"nadp_c\"}, {\"coefficient\": -1.0, \"bigg_id\": \"6pgc_c\"}], \"label_x\": 1930.5045166015625, \"label_y\": 1313.710205078125, \"gene_reaction_rule\": \"b2029\"}, \"1576697\": {\"name\": \"Fumarase\", \"bigg_id\": \"FUM\", \"segments\": {\"317\": {\"to_node_id\": \"1576844\", \"from_node_id\": \"1576503\", \"b2\": {\"y\": 3003.8745504813855, \"x\": 2741.433228320378}, \"b1\": {\"y\": 2961.5818349379524, \"x\": 2775.110761067927}}, \"316\": {\"to_node_id\": \"1576844\", \"from_node_id\": \"1576502\", \"b2\": {\"y\": 3010.0650991921693, \"x\": 2736.5037173099395}, \"b1\": {\"y\": 2982.216997307231, \"x\": 2758.679057699798}}, \"315\": {\"to_node_id\": \"1576504\", \"from_node_id\": \"1576845\", \"b2\": {\"y\": 3134.0, \"x\": 2652.5}, \"b1\": {\"y\": 3093.4, \"x\": 2674.55}}, \"314\": {\"to_node_id\": \"1576845\", \"from_node_id\": \"1576844\", \"b2\": null, \"b1\": null}}, \"genes\": [{\"bigg_id\": \"b4122\", \"name\": \"fumB\"}, {\"bigg_id\": \"b1611\", \"name\": \"fumC\"}, {\"bigg_id\": \"b1612\", \"name\": \"fumA\"}], \"reversibility\": true, \"metabolites\": [{\"coefficient\": -1.0, \"bigg_id\": \"fum_c\"}, {\"coefficient\": -1.0, \"bigg_id\": \"h2o_c\"}, {\"coefficient\": 1.0, \"bigg_id\": \"mal__L_c\"}], \"label_x\": 2759.057373046875, \"label_y\": 3066.0, \"gene_reaction_rule\": \"b1612 or b4122 or b1611\"}, \"1576696\": {\"name\": \"NAD P  transhydrogenase\", \"bigg_id\": \"THD2\", \"segments\": {\"308\": {\"to_node_id\": \"1576842\", \"from_node_id\": \"1576496\", \"b2\": {\"y\": 724.5066228070302, \"x\": 3510.0}, \"b1\": {\"y\": 580.5856339661426, \"x\": 3331.1220703125}}, \"309\": {\"to_node_id\": \"1576842\", \"from_node_id\": \"1576497\", \"b2\": {\"y\": 750.137689584216, \"x\": 3510.0}, \"b1\": {\"y\": 654.7419446101471, \"x\": 3418.143798828125}}, \"313\": {\"to_node_id\": \"1576501\", \"from_node_id\": \"1576843\", \"b2\": {\"y\": 1081.817596989458, \"x\": 3624.41748046875}, \"b1\": {\"y\": 1038.7769502394156, \"x\": 3506.777099609375}}, \"312\": {\"to_node_id\": \"1576500\", \"from_node_id\": \"1576843\", \"b2\": {\"y\": 1078.144282674624, \"x\": 3740.4462890625}, \"b1\": {\"y\": 1061.6865465211372, \"x\": 3508.388671875}}, \"311\": {\"to_node_id\": \"1576499\", \"from_node_id\": \"1576843\", \"b2\": {\"y\": 995.287841796875, \"x\": 3510.0}, \"b1\": {\"y\": 921.2841796875, \"x\": 3510.0}}, \"310\": {\"to_node_id\": \"1576842\", \"from_node_id\": \"1576498\", \"b2\": {\"y\": 777.5, \"x\": 3510.0}, \"b1\": {\"y\": 725.0, \"x\": 3510.0}}, \"306\": {\"to_node_id\": \"1576841\", \"from_node_id\": \"1576842\", \"b2\": null, \"b1\": null}, \"307\": {\"to_node_id\": \"1576843\", \"from_node_id\": \"1576841\", \"b2\": null, \"b1\": null}}, \"genes\": [{\"bigg_id\": \"b1602\", \"name\": \"pntB\"}, {\"bigg_id\": \"b1603\", \"name\": \"pntA\"}], \"reversibility\": false, \"metabolites\": [{\"coefficient\": -2.0, \"bigg_id\": \"h_e\"}, {\"coefficient\": -1.0, \"bigg_id\": \"nadp_c\"}, {\"coefficient\": -1.0, \"bigg_id\": \"nadh_c\"}, {\"coefficient\": 1.0, \"bigg_id\": \"nadph_c\"}, {\"coefficient\": 2.0, \"bigg_id\": \"h_c\"}, {\"coefficient\": 1.0, \"bigg_id\": \"nad_c\"}], \"label_x\": 3532.891845703125, \"label_y\": 872.8489990234375, \"gene_reaction_rule\": \"b1602 and b1603\"}, \"1576693\": {\"name\": \"Phosphoglycerate kinase\", \"bigg_id\": \"PGK\", \"segments\": {\"296\": {\"to_node_id\": \"1576488\", \"from_node_id\": \"1576834\", \"b2\": {\"y\": 2617.5658350974745, \"x\": 1055.0}, \"b1\": {\"y\": 2650.769750529242, \"x\": 1055.0}}, \"294\": {\"to_node_id\": \"1576835\", \"from_node_id\": \"1576486\", \"b2\": {\"y\": 2790.0, \"x\": 1055.0}, \"b1\": {\"y\": 2825.0, \"x\": 1055.0}}, \"295\": {\"to_node_id\": \"1576487\", \"from_node_id\": \"1576834\", \"b2\": {\"y\": 2615.0, \"x\": 1055.0}, \"b1\": {\"y\": 2650.0, \"x\": 1055.0}}, \"292\": {\"to_node_id\": \"1576834\", \"from_node_id\": \"1576836\", \"b2\": null, \"b1\": null}, \"293\": {\"to_node_id\": \"1576835\", \"from_node_id\": \"1576485\", \"b2\": {\"y\": 2789.230249470758, \"x\": 1055.0}, \"b1\": {\"y\": 2822.4341649025255, \"x\": 1055.0}}, \"291\": {\"to_node_id\": \"1576836\", \"from_node_id\": \"1576835\", \"b2\": null, \"b1\": null}}, \"genes\": [{\"bigg_id\": \"b2926\", \"name\": \"pgk\"}], \"reversibility\": true, \"metabolites\": [{\"coefficient\": -1.0, \"bigg_id\": \"3pg_c\"}, {\"coefficient\": 1.0, \"bigg_id\": \"13dpg_c\"}, {\"coefficient\": -1.0, \"bigg_id\": \"atp_c\"}, {\"coefficient\": 1.0, \"bigg_id\": \"adp_c\"}], \"label_x\": 1065.0, \"label_y\": 2715.0, \"gene_reaction_rule\": \"b2926\"}, \"1576776\": {\"name\": \"Malic enzyme (NADP)\", \"bigg_id\": \"ME2\", \"segments\": {\"270\": {\"to_node_id\": \"1576692\", \"from_node_id\": \"1577027\", \"b2\": {\"y\": 3439.4108823397055, \"x\": 2161.178235320589}, \"b1\": {\"y\": 3418.8232647019117, \"x\": 2202.3534705961765}}, \"267\": {\"to_node_id\": \"1577028\", \"from_node_id\": \"1576504\", \"b2\": {\"y\": 3332.720745600581, \"x\": 2355.4654239990323}, \"b1\": {\"y\": 3269.069152001936, \"x\": 2461.551413330107}}, \"266\": {\"to_node_id\": \"1577028\", \"from_node_id\": \"1576690\", \"b2\": {\"y\": 3350.7069760509485, \"x\": 2325.4883732484195}, \"b1\": {\"y\": 3329.0232535031614, \"x\": 2361.6279108280646}}, \"265\": {\"to_node_id\": \"1577027\", \"from_node_id\": \"1577026\", \"b2\": null, \"b1\": null}, \"264\": {\"to_node_id\": \"1577026\", \"from_node_id\": \"1577028\", \"b2\": null, \"b1\": null}, \"269\": {\"to_node_id\": \"1576511\", \"from_node_id\": \"1577027\", \"b2\": {\"y\": 3895.002675936253, \"x\": 1164.309223322806}, \"b1\": {\"y\": 3495.997238327751, \"x\": 2048.005523344498}}, \"268\": {\"to_node_id\": \"1576691\", \"from_node_id\": \"1577027\", \"b2\": {\"y\": 3434.0831891575845, \"x\": 2171.8336216848306}, \"b1\": {\"y\": 3417.2249567472754, \"x\": 2205.550086505449}}}, \"genes\": [{\"bigg_id\": \"b2463\", \"name\": \"maeB\"}], \"reversibility\": false, \"metabolites\": [{\"coefficient\": 1.0, \"bigg_id\": \"pyr_c\"}, {\"coefficient\": -1.0, \"bigg_id\": \"mal__L_c\"}, {\"coefficient\": 1.0, \"bigg_id\": \"co2_c\"}, {\"coefficient\": -1.0, \"bigg_id\": \"nadp_c\"}, {\"coefficient\": 1.0, \"bigg_id\": \"nadph_c\"}], \"label_x\": 2281.107177734375, \"label_y\": 3432.36328125, \"gene_reaction_rule\": \"b2463\"}, \"1576777\": {\"name\": \"Formate exchange\", \"bigg_id\": \"EX_for_e\", \"segments\": {\"271\": {\"to_node_id\": \"1577030\", \"from_node_id\": \"1576666\", \"b2\": {\"y\": 4884.95458984375, \"x\": 1460.0}, \"b1\": {\"y\": 4885.96044921875, \"x\": 1461.5867919921875}}}, \"genes\": [], \"reversibility\": false, \"metabolites\": [{\"coefficient\": -1.0, \"bigg_id\": \"for_e\"}], \"label_x\": 1476.3470458984375, \"label_y\": 4913.4130859375, \"gene_reaction_rule\": \"\"}, \"1576774\": {\"name\": \"Citrate synthase\", \"bigg_id\": \"CS\", \"segments\": {\"252\": {\"to_node_id\": \"1577020\", \"from_node_id\": \"1576514\", \"b2\": {\"y\": 3745.4027250468985, \"x\": 2627.479742988546}, \"b1\": {\"y\": 3679.773731927161, \"x\": 1727.7705707040077}}, \"253\": {\"to_node_id\": \"1577020\", \"from_node_id\": \"1576684\", \"b2\": {\"y\": 3823.2954829227556, \"x\": 2728.8970628128327}, \"b1\": {\"y\": 3791.3182764091857, \"x\": 2693.656876042776}}, \"250\": {\"to_node_id\": \"1577022\", \"from_node_id\": \"1577020\", \"b2\": null, \"b1\": null}, \"251\": {\"to_node_id\": \"1577021\", \"from_node_id\": \"1577022\", \"b2\": null, \"b1\": null}, \"256\": {\"to_node_id\": \"1576686\", \"from_node_id\": \"1577021\", \"b2\": {\"y\": 3971.425553937104, \"x\": 2910.1210395424487}, \"b1\": {\"y\": 3934.0276661811313, \"x\": 2861.0363118627347}}, \"257\": {\"to_node_id\": \"1576687\", \"from_node_id\": \"1577021\", \"b2\": {\"y\": 3980.7262047116856, \"x\": 2922.328143684087}, \"b1\": {\"y\": 3936.817861413506, \"x\": 2864.698443105226}}, \"254\": {\"to_node_id\": \"1577020\", \"from_node_id\": \"1576521\", \"b2\": {\"y\": 3822.7470798256522, \"x\": 2728.292700216025}, \"b1\": {\"y\": 3789.4902660855073, \"x\": 2691.642334053416}}, \"255\": {\"to_node_id\": \"1576685\", \"from_node_id\": \"1577021\", \"b2\": {\"y\": 3962.7252091426644, \"x\": 2898.7018369997472}, \"b1\": {\"y\": 3931.4175627427994, \"x\": 2857.610551099924}}}, \"genes\": [{\"bigg_id\": \"b0720\", \"name\": \"gltA\"}], \"reversibility\": false, \"metabolites\": [{\"coefficient\": 1.0, \"bigg_id\": \"coa_c\"}, {\"coefficient\": -1.0, \"bigg_id\": \"oaa_c\"}, {\"coefficient\": 1.0, \"bigg_id\": \"h_c\"}, {\"coefficient\": 1.0, \"bigg_id\": \"cit_c\"}, {\"coefficient\": -1.0, \"bigg_id\": \"accoa_c\"}, {\"coefficient\": -1.0, \"bigg_id\": \"h2o_c\"}], \"label_x\": 2808.0, \"label_y\": 3876.0, \"gene_reaction_rule\": \"b0720\"}, \"1576775\": {\"name\": \"Pyruvate transport in via proton symport\", \"bigg_id\": \"PYRt2\", \"segments\": {\"260\": {\"to_node_id\": \"1577023\", \"from_node_id\": \"1576688\", \"b2\": {\"y\": 3945.0, \"x\": 359.3395402366342}, \"b1\": {\"y\": 3945.0, \"x\": 322.7984674554473}}, \"261\": {\"to_node_id\": \"1577023\", \"from_node_id\": \"1576557\", \"b2\": {\"y\": 3945.0, \"x\": 360.0}, \"b1\": {\"y\": 3945.0, \"x\": 325.0}}, \"263\": {\"to_node_id\": \"1576689\", \"from_node_id\": \"1577024\", \"b2\": {\"y\": 3945.0, \"x\": 697.2015325445527}, \"b1\": {\"y\": 3945.0, \"x\": 660.6604597633658}}, \"262\": {\"to_node_id\": \"1576511\", \"from_node_id\": \"1577024\", \"b2\": {\"y\": 3945.0, \"x\": 850.0}, \"b1\": {\"y\": 3945.0, \"x\": 706.5}}, \"258\": {\"to_node_id\": \"1577025\", \"from_node_id\": \"1577023\", \"b2\": null, \"b1\": null}, \"259\": {\"to_node_id\": \"1577024\", \"from_node_id\": \"1577025\", \"b2\": null, \"b1\": null}}, \"genes\": [], \"reversibility\": true, \"metabolites\": [{\"coefficient\": 1.0, \"bigg_id\": \"pyr_c\"}, {\"coefficient\": 1.0, \"bigg_id\": \"h_c\"}, {\"coefficient\": -1.0, \"bigg_id\": \"pyr_e\"}, {\"coefficient\": -1.0, \"bigg_id\": \"h_e\"}], \"label_x\": 462.6368408203125, \"label_y\": 3908.02490234375, \"gene_reaction_rule\": \"\"}, \"1576772\": {\"name\": \"Glutamate dehydrogenase (NADP)\", \"bigg_id\": \"GLUDy\", \"segments\": {\"238\": {\"to_node_id\": \"1576677\", \"from_node_id\": \"1577014\", \"b2\": {\"y\": 3632.0, \"x\": 4021.2725815852687}, \"b1\": {\"y\": 3632.0, \"x\": 4060.9817744755806}}, \"240\": {\"to_node_id\": \"1576509\", \"from_node_id\": \"1577014\", \"b2\": {\"y\": 3632.0, \"x\": 3911.98117576612}, \"b1\": {\"y\": 3632.0, \"x\": 4028.194352729836}}, \"241\": {\"to_node_id\": \"1576679\", \"from_node_id\": \"1577014\", \"b2\": {\"y\": 3632.0, \"x\": 4036.853918777118}, \"b1\": {\"y\": 3632.0, \"x\": 4065.6561756331353}}, \"239\": {\"to_node_id\": \"1576678\", \"from_node_id\": \"1577014\", \"b2\": {\"y\": 3632.0, \"x\": 4000.5855310681522}, \"b1\": {\"y\": 3632.0, \"x\": 4054.775659320446}}, \"234\": {\"to_node_id\": \"1577014\", \"from_node_id\": \"1577015\", \"b2\": null, \"b1\": null}, \"235\": {\"to_node_id\": \"1577016\", \"from_node_id\": \"1576675\", \"b2\": {\"y\": 3632.0, \"x\": 4133.6977705423415}, \"b1\": {\"y\": 3632.0, \"x\": 4170.325901807804}}, \"236\": {\"to_node_id\": \"1577016\", \"from_node_id\": \"1576554\", \"b2\": {\"y\": 3632.0, \"x\": 4137.5}, \"b1\": {\"y\": 3632.0, \"x\": 4183.0}}, \"237\": {\"to_node_id\": \"1577016\", \"from_node_id\": \"1576676\", \"b2\": {\"y\": 3632.0, \"x\": 4129.669190203266}, \"b1\": {\"y\": 3632.0, \"x\": 4156.897300677553}}, \"233\": {\"to_node_id\": \"1577015\", \"from_node_id\": \"1577016\", \"b2\": null, \"b1\": null}}, \"genes\": [{\"bigg_id\": \"b1761\", \"name\": \"gdhA\"}], \"reversibility\": true, \"metabolites\": [{\"coefficient\": -1.0, \"bigg_id\": \"glu__L_c\"}, {\"coefficient\": -1.0, \"bigg_id\": \"nadp_c\"}, {\"coefficient\": 1.0, \"bigg_id\": \"nh4_c\"}, {\"coefficient\": 1.0, \"bigg_id\": \"h_c\"}, {\"coefficient\": 1.0, \"bigg_id\": \"nadph_c\"}, {\"coefficient\": 1.0, \"bigg_id\": \"akg_c\"}, {\"coefficient\": -1.0, \"bigg_id\": \"h2o_c\"}], \"label_x\": 4025.81298828125, \"label_y\": 3671.95703125, \"gene_reaction_rule\": \"b1761\"}, \"1576773\": {\"name\": \"ATP synthase (four protons for one ATP)\", \"bigg_id\": \"ATPS4r\", \"segments\": {\"245\": {\"to_node_id\": \"1577017\", \"from_node_id\": \"1576681\", \"b2\": {\"y\": 1150.0, \"x\": 4746.487950057818}, \"b1\": {\"y\": 1332.100830078125, \"x\": 4877.134963734394}}, \"244\": {\"to_node_id\": \"1577017\", \"from_node_id\": \"1576680\", \"b2\": {\"y\": 1150.0, \"x\": 4729.0}, \"b1\": {\"y\": 1150.0, \"x\": 4785.0}}, \"247\": {\"to_node_id\": \"1576682\", \"from_node_id\": \"1577018\", \"b2\": {\"y\": 1150.0, \"x\": 4520.0}, \"b1\": {\"y\": 1148.3885498046875, \"x\": 4558.046875}}, \"246\": {\"to_node_id\": \"1577017\", \"from_node_id\": \"1576536\", \"b2\": {\"y\": 1150.0, \"x\": 4796.204440681362}, \"b1\": {\"y\": 1523.8707275390625, \"x\": 4965.504060083706}}, \"243\": {\"to_node_id\": \"1577018\", \"from_node_id\": \"1577019\", \"b2\": null, \"b1\": null}, \"242\": {\"to_node_id\": \"1577019\", \"from_node_id\": \"1577017\", \"b2\": null, \"b1\": null}, \"249\": {\"to_node_id\": \"1576534\", \"from_node_id\": \"1577018\", \"b2\": {\"y\": 1043.64013671875, \"x\": 4324.116846450839}, \"b1\": {\"y\": 1148.3885498046875, \"x\": 4366.332368388376}}, \"248\": {\"to_node_id\": \"1576683\", \"from_node_id\": \"1577018\", \"b2\": {\"y\": 1150.0, \"x\": 4542.7265625}, \"b1\": {\"y\": 1148.388427734375, \"x\": 4575.66162109375}}}, \"genes\": [{\"bigg_id\": \"b3731\", \"name\": \"atpC\"}, {\"bigg_id\": \"b3738\", \"name\": \"atpB\"}, {\"bigg_id\": \"b3733\", \"name\": \"atpG\"}, {\"bigg_id\": \"b3739\", \"name\": \"atpI\"}, {\"bigg_id\": \"b3734\", \"name\": \"atpA\"}, {\"bigg_id\": \"b3736\", \"name\": \"atpF\"}, {\"bigg_id\": \"b3737\", \"name\": \"atpE\"}, {\"bigg_id\": \"b3735\", \"name\": \"atpH\"}, {\"bigg_id\": \"b3732\", \"name\": \"atpD\"}], \"reversibility\": true, \"metabolites\": [{\"coefficient\": -4.0, \"bigg_id\": \"h_e\"}, {\"coefficient\": 1.0, \"bigg_id\": \"atp_c\"}, {\"coefficient\": 3.0, \"bigg_id\": \"h_c\"}, {\"coefficient\": -1.0, \"bigg_id\": \"adp_c\"}, {\"coefficient\": -1.0, \"bigg_id\": \"pi_c\"}, {\"coefficient\": 1.0, \"bigg_id\": \"h2o_c\"}], \"label_x\": 4558.97119140625, \"label_y\": 1122.273193359375, \"gene_reaction_rule\": \"((b3736 and b3737 and b3738) and (b3731 and b3732 and b3733 and b3734 and b3735)) or ((b3736 and b3737 and b3738) and (b3731 and b3732 and b3733 and b3734 and b3735) and b3739)\"}, \"1576770\": {\"name\": \"Fumarate exchange\", \"bigg_id\": \"EX_fum_e\", \"segments\": {\"225\": {\"to_node_id\": \"1577009\", \"from_node_id\": \"1576657\", \"b2\": {\"y\": 560.0, \"x\": 2840.0}, \"b1\": {\"y\": 623.0, \"x\": 2840.0}}}, \"genes\": [], \"reversibility\": false, \"metabolites\": [{\"coefficient\": -1.0, \"bigg_id\": \"fum_e\"}], \"label_x\": 2915.057373046875, \"label_y\": 529.8175659179688, \"gene_reaction_rule\": \"\"}, \"1576771\": {\"name\": \"Succinate transport via proton symport  2 H \", \"bigg_id\": \"SUCCt2_2\", \"segments\": {\"229\": {\"to_node_id\": \"1577013\", \"from_node_id\": \"1576673\", \"b2\": {\"y\": 3027.0, \"x\": 4806.816653826392}, \"b1\": {\"y\": 3027.0, \"x\": 4832.0555127546395}}, \"228\": {\"to_node_id\": \"1577012\", \"from_node_id\": \"1577011\", \"b2\": null, \"b1\": null}, \"227\": {\"to_node_id\": \"1577011\", \"from_node_id\": \"1577013\", \"b2\": null, \"b1\": null}, \"230\": {\"to_node_id\": \"1577013\", \"from_node_id\": \"1576531\", \"b2\": {\"y\": 3027.0, \"x\": 4826.039349194016}, \"b1\": {\"y\": 3027.0, \"x\": 4896.1311639800515}}, \"231\": {\"to_node_id\": \"1576533\", \"from_node_id\": \"1577012\", \"b2\": {\"y\": 3027.0, \"x\": 3972.294403079054}, \"b1\": {\"y\": 3027.0, \"x\": 4366.8883209237165}}, \"232\": {\"to_node_id\": \"1576674\", \"from_node_id\": \"1577012\", \"b2\": {\"y\": 3027.0, \"x\": 4486.0}, \"b1\": {\"y\": 3027.0, \"x\": 4521.0}}}, \"genes\": [{\"bigg_id\": \"b3528\", \"name\": \"dctA\"}], \"reversibility\": false, \"metabolites\": [{\"coefficient\": 1.0, \"bigg_id\": \"succ_c\"}, {\"coefficient\": -1.0, \"bigg_id\": \"succ_e\"}, {\"coefficient\": 2.0, \"bigg_id\": \"h_c\"}, {\"coefficient\": -2.0, \"bigg_id\": \"h_e\"}], \"label_x\": 4501.95703125, \"label_y\": 2997.661865234375, \"gene_reaction_rule\": \"b3528\"}, \"1576708\": {\"name\": \"L-Glutamine exchange\", \"bigg_id\": \"EX_gln__L_e\", \"segments\": {\"365\": {\"to_node_id\": \"1576868\", \"from_node_id\": \"1576537\", \"b2\": {\"y\": 4158.0, \"x\": 4951.0}, \"b1\": {\"y\": 4158.0, \"x\": 4902.7}}}, \"genes\": [], \"reversibility\": false, \"metabolites\": [{\"coefficient\": -1.0, \"bigg_id\": \"gln__L_e\"}], \"label_x\": 4933.3095703125, \"label_y\": 4131.884765625, \"gene_reaction_rule\": \"\"}, \"1576703\": {\"name\": \"Ammonia reversible transport\", \"bigg_id\": \"NH4t\", \"segments\": {\"347\": {\"to_node_id\": \"1576858\", \"from_node_id\": \"1576526\", \"b2\": {\"y\": 4677.5, \"x\": 3989.0}, \"b1\": {\"y\": 4733.15, \"x\": 3989.0}}, \"348\": {\"to_node_id\": \"1576527\", \"from_node_id\": \"1576858\", \"b2\": {\"y\": 4519.5, \"x\": 3989.0}, \"b1\": {\"y\": 4574.45, \"x\": 3989.0}}}, \"genes\": [{\"bigg_id\": \"b0451\", \"name\": \"amtB\"}, {\"bigg_id\": \"s0001\", \"name\": \"None\"}], \"reversibility\": true, \"metabolites\": [{\"coefficient\": -1.0, \"bigg_id\": \"nh4_e\"}, {\"coefficient\": 1.0, \"bigg_id\": \"nh4_c\"}], \"label_x\": 3999.0, \"label_y\": 4588.0, \"gene_reaction_rule\": \"s0001 or b0451\"}, \"1576702\": {\"name\": \"Glucose-6-phosphate isomerase\", \"bigg_id\": \"PGI\", \"segments\": {\"345\": {\"to_node_id\": \"1576857\", \"from_node_id\": \"1576524\", \"b2\": {\"y\": 1330.0, \"x\": 1055.0}, \"b1\": {\"y\": 1284.5, \"x\": 1055.0}}, \"346\": {\"to_node_id\": \"1576525\", \"from_node_id\": \"1576857\", \"b2\": {\"y\": 1470.0, \"x\": 1055.0}, \"b1\": {\"y\": 1417.5, \"x\": 1055.0}}}, \"genes\": [{\"bigg_id\": \"b4025\", \"name\": \"pgi\"}], \"reversibility\": true, \"metabolites\": [{\"coefficient\": -1.0, \"bigg_id\": \"g6p_c\"}, {\"coefficient\": 1.0, \"bigg_id\": \"f6p_c\"}], \"label_x\": 1065.0, \"label_y\": 1385.0, \"gene_reaction_rule\": \"b4025\"}, \"1576701\": {\"name\": \"Enolase\", \"bigg_id\": \"ENO\", \"segments\": {\"344\": {\"to_node_id\": \"1576523\", \"from_node_id\": \"1576855\", \"b2\": {\"y\": 3319.0832691319597, \"x\": 1055.0}, \"b1\": {\"y\": 3281.224980739588, \"x\": 1055.0}}, \"341\": {\"to_node_id\": \"1576856\", \"from_node_id\": \"1576522\", \"b2\": {\"y\": 3175.0, \"x\": 1055.0}, \"b1\": {\"y\": 3173.322021484375, \"x\": 1055.0}}, \"342\": {\"to_node_id\": \"1576855\", \"from_node_id\": \"1576856\", \"b2\": null, \"b1\": null}, \"343\": {\"to_node_id\": \"1576517\", \"from_node_id\": \"1576855\", \"b2\": {\"y\": 3320.0, \"x\": 1055.0}, \"b1\": {\"y\": 3281.5, \"x\": 1055.0}}}, \"genes\": [{\"bigg_id\": \"b2779\", \"name\": \"eno\"}], \"reversibility\": true, \"metabolites\": [{\"coefficient\": 1.0, \"bigg_id\": \"pep_c\"}, {\"coefficient\": 1.0, \"bigg_id\": \"h2o_c\"}, {\"coefficient\": -1.0, \"bigg_id\": \"2pg_c\"}], \"label_x\": 1065.0, \"label_y\": 3215.0, \"gene_reaction_rule\": \"b2779\"}, \"1576700\": {\"name\": \"Phosphoenolpyruvate carboxylase\", \"bigg_id\": \"PPC\", \"segments\": {\"339\": {\"to_node_id\": \"1576520\", \"from_node_id\": \"1576853\", \"b2\": {\"y\": 3552.157197214914, \"x\": 1572.3763206054002}, \"b1\": {\"y\": 3528.947159164474, \"x\": 1516.81289618162}}, \"338\": {\"to_node_id\": \"1576519\", \"from_node_id\": \"1576853\", \"b2\": {\"y\": 3543.994528732819, \"x\": 1552.8353869664456}, \"b1\": {\"y\": 3526.498358619846, \"x\": 1510.9506160899336}}, \"335\": {\"to_node_id\": \"1576854\", \"from_node_id\": \"1576516\", \"b2\": {\"y\": 3452.2308899862983, \"x\": 1334.4013835391315}, \"b1\": {\"y\": 3438.769633287661, \"x\": 1302.6712784637714}}, \"334\": {\"to_node_id\": \"1576853\", \"from_node_id\": \"1576852\", \"b2\": null, \"b1\": null}, \"337\": {\"to_node_id\": \"1576854\", \"from_node_id\": \"1576518\", \"b2\": {\"y\": 3447.322871456709, \"x\": 1322.8324827193853}, \"b1\": {\"y\": 3422.409571522363, \"x\": 1264.1082757312843}}, \"336\": {\"to_node_id\": \"1576854\", \"from_node_id\": \"1576517\", \"b2\": {\"y\": 3440.1599283734054, \"x\": 1305.9484025944557}, \"b1\": {\"y\": 3398.5330945780183, \"x\": 1207.828008648186}}, \"333\": {\"to_node_id\": \"1576852\", \"from_node_id\": \"1576854\", \"b2\": null, \"b1\": null}, \"340\": {\"to_node_id\": \"1576521\", \"from_node_id\": \"1576853\", \"b2\": {\"y\": 3691.624192938869, \"x\": 2580.289220436279}, \"b1\": {\"y\": 3708.0419942097856, \"x\": 1966.279649431665}}}, \"genes\": [{\"bigg_id\": \"b3956\", \"name\": \"ppc\"}], \"reversibility\": false, \"metabolites\": [{\"coefficient\": -1.0, \"bigg_id\": \"h2o_c\"}, {\"coefficient\": 1.0, \"bigg_id\": \"oaa_c\"}, {\"coefficient\": 1.0, \"bigg_id\": \"h_c\"}, {\"coefficient\": -1.0, \"bigg_id\": \"pep_c\"}, {\"coefficient\": 1.0, \"bigg_id\": \"pi_c\"}, {\"coefficient\": -1.0, \"bigg_id\": \"co2_c\"}], \"label_x\": 1490.0008544921875, \"label_y\": 3479.666748046875, \"gene_reaction_rule\": \"b3956\"}, \"1576707\": {\"name\": \"Adenylate kinase\", \"bigg_id\": \"ADK1\", \"segments\": {\"364\": {\"to_node_id\": \"1576867\", \"from_node_id\": \"1576535\", \"b2\": {\"y\": 1177.1034937162894, \"x\": 4145.0}, \"b1\": {\"y\": 1123.6783123876312, \"x\": 4145.0}}, \"362\": {\"to_node_id\": \"1576536\", \"from_node_id\": \"1576866\", \"b2\": {\"y\": 1441.4029541015625, \"x\": 4146.15869140625}, \"b1\": {\"y\": 1352.2913818359375, \"x\": 4145.83056640625}}, \"363\": {\"to_node_id\": \"1576867\", \"from_node_id\": \"1576534\", \"b2\": {\"y\": 1173.8036262051405, \"x\": 4145.0}, \"b1\": {\"y\": 1112.6787540171351, \"x\": 4145.0}}, \"361\": {\"to_node_id\": \"1576866\", \"from_node_id\": \"1576867\", \"b2\": null, \"b1\": null}}, \"genes\": [{\"bigg_id\": \"b0474\", \"name\": \"adk\"}], \"reversibility\": true, \"metabolites\": [{\"coefficient\": -1.0, \"bigg_id\": \"amp_c\"}, {\"coefficient\": -1.0, \"bigg_id\": \"atp_c\"}, {\"coefficient\": 2.0, \"bigg_id\": \"adp_c\"}], \"label_x\": 3997.07177734375, \"label_y\": 1251.6114501953125, \"gene_reaction_rule\": \"b0474\"}, \"1576706\": {\"name\": \"Isocitrate lyase\", \"bigg_id\": \"ICL\", \"segments\": {\"357\": {\"to_node_id\": \"1576865\", \"from_node_id\": \"1576505\", \"b2\": {\"y\": 3916.5, \"x\": 3415.0}, \"b1\": {\"y\": 3958.15, \"x\": 3413.6}}, \"360\": {\"to_node_id\": \"1576533\", \"from_node_id\": \"1576864\", \"b2\": {\"y\": 3316.4974972260998, \"x\": 3417.0}, \"b1\": {\"y\": 3631.14924916783, \"x\": 3417.0}}, \"359\": {\"to_node_id\": \"1576532\", \"from_node_id\": \"1576864\", \"b2\": {\"y\": 3612.2266277927156, \"x\": 3417.0}, \"b1\": {\"y\": 3719.8679883378145, \"x\": 3417.0}}, \"358\": {\"to_node_id\": \"1576864\", \"from_node_id\": \"1576865\", \"b2\": null, \"b1\": null}}, \"genes\": [{\"bigg_id\": \"b4015\", \"name\": \"aceA\"}], \"reversibility\": false, \"metabolites\": [{\"coefficient\": 1.0, \"bigg_id\": \"succ_c\"}, {\"coefficient\": 1.0, \"bigg_id\": \"glx_c\"}, {\"coefficient\": -1.0, \"bigg_id\": \"icit_c\"}], \"label_x\": 3427.0, \"label_y\": 3847.0, \"gene_reaction_rule\": \"b4015\"}, \"1576705\": {\"name\": \"Succinate exchange\", \"bigg_id\": \"EX_succ_e\", \"segments\": {\"355\": {\"to_node_id\": \"1576863\", \"from_node_id\": \"1576531\", \"b2\": {\"y\": 2880.0, \"x\": 4978.5}, \"b1\": {\"y\": 2880.0, \"x\": 4945.95}}}, \"genes\": [], \"reversibility\": false, \"metabolites\": [{\"coefficient\": -1.0, \"bigg_id\": \"succ_e\"}], \"label_x\": 4968.927734375, \"label_y\": 2845.8271484375, \"gene_reaction_rule\": \"\"}, \"1576704\": {\"name\": \"Fructose-bisphosphatase\", \"bigg_id\": \"FBP\", \"segments\": {\"354\": {\"to_node_id\": \"1576530\", \"from_node_id\": \"1576860\", \"b2\": {\"y\": 1600.9687576256715, \"x\": 835.0}, \"b1\": {\"y\": 1645.7906272877015, \"x\": 835.0}}, \"353\": {\"to_node_id\": \"1576525\", \"from_node_id\": \"1576860\", \"b2\": {\"y\": 1539.7003591385833, \"x\": 835.0}, \"b1\": {\"y\": 1627.410107741575, \"x\": 835.0}}, \"352\": {\"to_node_id\": \"1576861\", \"from_node_id\": \"1576529\", \"b2\": {\"y\": 1805.8044115262064, \"x\": 835.0}, \"b1\": {\"y\": 1901.0147050873545, \"x\": 835.0}}, \"351\": {\"to_node_id\": \"1576861\", \"from_node_id\": \"1576528\", \"b2\": {\"y\": 1782.1026313764871, \"x\": 835.0}, \"b1\": {\"y\": 1822.0087712549569, \"x\": 835.0}}, \"350\": {\"to_node_id\": \"1576860\", \"from_node_id\": \"1576859\", \"b2\": null, \"b1\": null}, \"349\": {\"to_node_id\": \"1576859\", \"from_node_id\": \"1576861\", \"b2\": null, \"b1\": null}}, \"genes\": [{\"bigg_id\": \"b4232\", \"name\": \"fbp\"}, {\"bigg_id\": \"b3925\", \"name\": \"glpX\"}], \"reversibility\": false, \"metabolites\": [{\"coefficient\": -1.0, \"bigg_id\": \"fdp_c\"}, {\"coefficient\": -1.0, \"bigg_id\": \"h2o_c\"}, {\"coefficient\": 1.0, \"bigg_id\": \"pi_c\"}, {\"coefficient\": 1.0, \"bigg_id\": \"f6p_c\"}], \"label_x\": 751.3809814453125, \"label_y\": 1733.561767578125, \"gene_reaction_rule\": \"b3925 or b4232\"}, \"1577548\": {\"name\": \"Aconitase (half-reaction A, Citrate hydro-lyase)\", \"bigg_id\": \"ACONTa\", \"segments\": {\"511\": {\"to_node_id\": \"1576685\", \"from_node_id\": \"1577099\", \"b2\": {\"y\": 4010.3555557486548, \"x\": 3025.1432055426353}, \"b1\": {\"y\": 4012.0956406322803, \"x\": 3025.7810749583687}}, \"507\": {\"to_node_id\": \"1577100\", \"from_node_id\": \"1577099\", \"b2\": null, \"b1\": null}, \"510\": {\"to_node_id\": \"1577103\", \"from_node_id\": \"1577101\", \"b2\": {\"y\": 4045.94073519232, \"x\": 3126.6630443215304}, \"b1\": {\"y\": 4044.2013827305695, \"x\": 3108.646756937047}}, \"508\": {\"to_node_id\": \"1577100\", \"from_node_id\": \"1577101\", \"b2\": null, \"b1\": null}, \"509\": {\"to_node_id\": \"1577102\", \"from_node_id\": \"1577101\", \"b2\": {\"y\": 3993.9154608910203, \"x\": 3112.4765239553985}, \"b1\": {\"y\": 4044.558477078102, \"x\": 3125.4142208172407}}}, \"genes\": [{\"bigg_id\": \"b0118\", \"name\": \"acnB\"}, {\"bigg_id\": \"b1276\", \"name\": \"acnA\"}], \"reversibility\": true, \"metabolites\": [{\"coefficient\": -1.0, \"bigg_id\": \"cit_c\"}, {\"coefficient\": 1.0, \"bigg_id\": \"h2o_c\"}, {\"coefficient\": 1.0, \"bigg_id\": \"acon_C_c\"}], \"label_x\": 2982.991259697708, \"label_y\": 4088.6436288689247, \"gene_reaction_rule\": \"b0118 or b1276\"}, \"1577549\": {\"name\": \"Aconitase (half-reaction B, Isocitrate hydro-lyase)\", \"bigg_id\": \"ACONTb\", \"segments\": {\"513\": {\"to_node_id\": \"1577105\", \"from_node_id\": \"1577106\", \"b2\": null, \"b1\": null}, \"512\": {\"to_node_id\": \"1577105\", \"from_node_id\": \"1577104\", \"b2\": null, \"b1\": null}, \"515\": {\"to_node_id\": \"1576505\", \"from_node_id\": \"1577106\", \"b2\": {\"y\": 4013.1918298584474, \"x\": 3345.4226198631072}, \"b1\": {\"y\": 4014.8024620364417, \"x\": 3344.105236291347}}, \"514\": {\"to_node_id\": \"1577102\", \"from_node_id\": \"1577104\", \"b2\": {\"y\": 3991.5491179659602, \"x\": 3266.0226278968735}, \"b1\": {\"y\": 4044.360816430351, \"x\": 3261.354277099013}}, \"516\": {\"to_node_id\": \"1577103\", \"from_node_id\": \"1577104\", \"b2\": {\"y\": 4046.222560627323, \"x\": 3260.813883986344}, \"b1\": {\"y\": 4046.056264386829, \"x\": 3262.862957011229}}}, \"genes\": [{\"bigg_id\": \"b1276\", \"name\": \"acnA\"}, {\"bigg_id\": \"b0118\", \"name\": \"acnB\"}], \"reversibility\": true, \"metabolites\": [{\"coefficient\": 1.0, \"bigg_id\": \"icit_c\"}, {\"coefficient\": -1.0, \"bigg_id\": \"h2o_c\"}, {\"coefficient\": -1.0, \"bigg_id\": \"acon_C_c\"}], \"label_x\": 3291.833217745038, \"label_y\": 4081.35343547726, \"gene_reaction_rule\": \"b0118 or b1276\"}, \"1577546\": {\"name\": \"D lactate transport via proton symport\", \"bigg_id\": \"D_LACt2\", \"segments\": {\"476\": {\"to_node_id\": \"1577068\", \"from_node_id\": \"1577067\", \"b2\": null, \"b1\": null}, \"477\": {\"to_node_id\": \"1577068\", \"from_node_id\": \"1577069\", \"b2\": null, \"b1\": null}, \"478\": {\"to_node_id\": \"1576556\", \"from_node_id\": \"1577067\", \"b2\": {\"y\": 4736.89501953125, \"x\": 1054.9998779296875}, \"b1\": {\"y\": 4692.98193359375, \"x\": 1055.0}}, \"479\": {\"to_node_id\": \"1577071\", \"from_node_id\": \"1577067\", \"b2\": {\"y\": 4715.98193359375, \"x\": 1076.0}, \"b1\": {\"y\": 4696.98193359375, \"x\": 1055.0}}, \"481\": {\"to_node_id\": \"1577072\", \"from_node_id\": \"1577069\", \"b2\": {\"y\": 4451.7353515625, \"x\": 1074.4132080078125}, \"b1\": {\"y\": 4470.7353515625, \"x\": 1053.4132080078125}}, \"480\": {\"to_node_id\": \"1576584\", \"from_node_id\": \"1577069\", \"b2\": {\"y\": 4413.36767578125, \"x\": 1055.0}, \"b1\": {\"y\": 4474.7353515625, \"x\": 1053.4132080078125}}}, \"genes\": [{\"bigg_id\": \"b3603\", \"name\": \"lldP\"}, {\"bigg_id\": \"b2975\", \"name\": \"glcA\"}], \"reversibility\": true, \"metabolites\": [{\"coefficient\": -1.0, \"bigg_id\": \"lac__D_e\"}, {\"coefficient\": 1.0, \"bigg_id\": \"h_c\"}, {\"coefficient\": 1.0, \"bigg_id\": \"lac__D_c\"}, {\"coefficient\": -1.0, \"bigg_id\": \"h_e\"}], \"label_x\": 1078.65283203125, \"label_y\": 4609.72607421875, \"gene_reaction_rule\": \"b2975 or b3603\"}, \"1576711\": {\"name\": \"Transaldolase\", \"bigg_id\": \"TALA\", \"segments\": {\"369\": {\"to_node_id\": \"1576872\", \"from_node_id\": \"1576873\", \"b2\": null, \"b1\": null}, \"371\": {\"to_node_id\": \"1576873\", \"from_node_id\": \"1576545\", \"b2\": {\"y\": 1856.1727017464573, \"x\": 2173.815906732547}, \"b1\": {\"y\": 1892.1518443631908, \"x\": 2283.184776999114}}, \"370\": {\"to_node_id\": \"1576874\", \"from_node_id\": \"1576872\", \"b2\": null, \"b1\": null}, \"373\": {\"to_node_id\": \"1576547\", \"from_node_id\": \"1576874\", \"b2\": {\"y\": 2171.7496092324754, \"x\": 2178.0}, \"b1\": {\"y\": 2076.976957965055, \"x\": 2178.0}}, \"372\": {\"to_node_id\": \"1576873\", \"from_node_id\": \"1576546\", \"b2\": {\"y\": 1856.1728238167698, \"x\": 2175.402576654422}, \"b1\": {\"y\": 1890.5651744413158, \"x\": 2064.2112662569266}}, \"374\": {\"to_node_id\": \"1576548\", \"from_node_id\": \"1576874\", \"b2\": {\"y\": 2170.2455578331073, \"x\": 2178.000244140625}, \"b1\": {\"y\": 2077.4778177405574, \"x\": 2178.0}}}, \"genes\": [{\"bigg_id\": \"b2464\", \"name\": \"talA\"}, {\"bigg_id\": \"b0008\", \"name\": \"talB\"}], \"reversibility\": true, \"metabolites\": [{\"coefficient\": -1.0, \"bigg_id\": \"s7p_c\"}, {\"coefficient\": -1.0, \"bigg_id\": \"g3p_c\"}, {\"coefficient\": 1.0, \"bigg_id\": \"f6p_c\"}, {\"coefficient\": 1.0, \"bigg_id\": \"e4p_c\"}], \"label_x\": 2197.5205078125, \"label_y\": 2008.8013916015625, \"gene_reaction_rule\": \"b2464 or b0008\"}, \"1576712\": {\"name\": \"Pyruvate kinase\", \"bigg_id\": \"PYK\", \"segments\": {\"380\": {\"to_node_id\": \"1576511\", \"from_node_id\": \"1576877\", \"b2\": {\"y\": 3845.0, \"x\": 1055.0}, \"b1\": {\"y\": 3775.0, \"x\": 1055.0}}, \"381\": {\"to_node_id\": \"1576551\", \"from_node_id\": \"1576877\", \"b2\": {\"y\": 3802.008771254957, \"x\": 1055.0}, \"b1\": {\"y\": 3762.102631376487, \"x\": 1055.0}}, \"379\": {\"to_node_id\": \"1576875\", \"from_node_id\": \"1576517\", \"b2\": {\"y\": 3613.0, \"x\": 1055.0}, \"b1\": {\"y\": 3515.0, \"x\": 1055.0}}, \"378\": {\"to_node_id\": \"1576875\", \"from_node_id\": \"1576550\", \"b2\": {\"y\": 3634.8195639293895, \"x\": 1055.0}, \"b1\": {\"y\": 3587.7318797646312, \"x\": 1055.0}}, \"375\": {\"to_node_id\": \"1576876\", \"from_node_id\": \"1576875\", \"b2\": null, \"b1\": null}, \"377\": {\"to_node_id\": \"1576875\", \"from_node_id\": \"1576549\", \"b2\": {\"y\": 3640.769750529242, \"x\": 1055.0}, \"b1\": {\"y\": 3607.5658350974745, \"x\": 1055.0}}, \"376\": {\"to_node_id\": \"1576877\", \"from_node_id\": \"1576876\", \"b2\": null, \"b1\": null}}, \"genes\": [{\"bigg_id\": \"b1854\", \"name\": \"pykA\"}, {\"bigg_id\": \"b1676\", \"name\": \"pykF\"}], \"reversibility\": false, \"metabolites\": [{\"coefficient\": -1.0, \"bigg_id\": \"pep_c\"}, {\"coefficient\": -1.0, \"bigg_id\": \"adp_c\"}, {\"coefficient\": 1.0, \"bigg_id\": \"pyr_c\"}, {\"coefficient\": 1.0, \"bigg_id\": \"atp_c\"}, {\"coefficient\": -1.0, \"bigg_id\": \"h_c\"}], \"label_x\": 1065.0, \"label_y\": 3695.0, \"gene_reaction_rule\": \"b1854 or b1676\"}, \"1576713\": {\"name\": \"L glutamate transport via proton symport  reversible\", \"bigg_id\": \"GLUt2r\", \"segments\": {\"382\": {\"to_node_id\": \"1576878\", \"from_node_id\": \"1576880\", \"b2\": null, \"b1\": null}, \"383\": {\"to_node_id\": \"1576879\", \"from_node_id\": \"1576878\", \"b2\": null, \"b1\": null}, \"384\": {\"to_node_id\": \"1576880\", \"from_node_id\": \"1576552\", \"b2\": {\"y\": 3635.0, \"x\": 4794.600721137178}, \"b1\": {\"y\": 3635.0, \"x\": 4831.002403790594}}, \"385\": {\"to_node_id\": \"1576880\", \"from_node_id\": \"1576553\", \"b2\": {\"y\": 3635.0, \"x\": 4791.314625451064}, \"b1\": {\"y\": 3635.0, \"x\": 4820.0487515035475}}, \"386\": {\"to_node_id\": \"1576554\", \"from_node_id\": \"1576879\", \"b2\": {\"y\": 3635.0, \"x\": 4394.492321020364}, \"b1\": {\"y\": 3635.0, \"x\": 4497.047696306109}}, \"387\": {\"to_node_id\": \"1576555\", \"from_node_id\": \"1576879\", \"b2\": {\"y\": 3635.0, \"x\": 4499.835695074495}, \"b1\": {\"y\": 3635.0, \"x\": 4528.650708522348}}}, \"genes\": [{\"bigg_id\": \"b4077\", \"name\": \"gltP\"}], \"reversibility\": true, \"metabolites\": [{\"coefficient\": 1.0, \"bigg_id\": \"glu__L_c\"}, {\"coefficient\": 1.0, \"bigg_id\": \"h_c\"}, {\"coefficient\": -1.0, \"bigg_id\": \"glu__L_e\"}, {\"coefficient\": -1.0, \"bigg_id\": \"h_e\"}], \"label_x\": 4655.0, \"label_y\": 3625.0, \"gene_reaction_rule\": \"b4077\"}, \"1576714\": {\"name\": \"D-lactate exchange\", \"bigg_id\": \"EX_lac__D_e\", \"segments\": {\"388\": {\"to_node_id\": \"1576881\", \"from_node_id\": \"1576556\", \"b2\": {\"y\": 4880.0, \"x\": 1055.0}, \"b1\": {\"y\": 4861.19384765625, \"x\": 1055.0}}}, \"genes\": [], \"reversibility\": false, \"metabolites\": [{\"coefficient\": -1.0, \"bigg_id\": \"lac__D_e\"}], \"label_x\": 1065.0, \"label_y\": 4915.0, \"gene_reaction_rule\": \"\"}, \"1576715\": {\"name\": \"Pyruvate exchange\", \"bigg_id\": \"EX_pyr_e\", \"segments\": {\"390\": {\"to_node_id\": \"1576884\", \"from_node_id\": \"1576557\", \"b2\": {\"y\": 3945.0, \"x\": 215.0}, \"b1\": {\"y\": 3945.0, \"x\": 257.0}}}, \"genes\": [], \"reversibility\": false, \"metabolites\": [{\"coefficient\": -1.0, \"bigg_id\": \"pyr_e\"}], \"label_x\": 96.76921081542969, \"label_y\": 3904.851318359375, \"gene_reaction_rule\": \"\"}, \"1576716\": {\"name\": \"Ribulose 5-phosphate 3-epimerase\", \"bigg_id\": \"RPE\", \"segments\": {\"393\": {\"to_node_id\": \"1576558\", \"from_node_id\": \"1576885\", \"b2\": {\"y\": 1485.0, \"x\": 1995.0}, \"b1\": {\"y\": 1436.0, \"x\": 2030.0}}, \"392\": {\"to_node_id\": \"1576885\", \"from_node_id\": \"1576493\", \"b2\": {\"y\": 1340.0, \"x\": 2100.0}, \"b1\": {\"y\": 1287.5, \"x\": 2138.5}}}, \"genes\": [{\"bigg_id\": \"b4301\", \"name\": \"sgcE\"}, {\"bigg_id\": \"b3386\", \"name\": \"rpe\"}], \"reversibility\": true, \"metabolites\": [{\"coefficient\": 1.0, \"bigg_id\": \"xu5p__D_c\"}, {\"coefficient\": -1.0, \"bigg_id\": \"ru5p__D_c\"}], \"label_x\": 1937.57958984375, \"label_y\": 1422.4544677734375, \"gene_reaction_rule\": \"b3386 or b4301\"}, \"1576717\": {\"name\": \"H+ exchange\", \"bigg_id\": \"EX_h_e\", \"segments\": {\"394\": {\"to_node_id\": \"1576887\", \"from_node_id\": \"1576559\", \"b2\": {\"y\": 2229.5, \"x\": 4918.0}, \"b1\": {\"y\": 2229.15, \"x\": 4870.4}}}, \"genes\": [], \"reversibility\": true, \"metabolites\": [{\"coefficient\": -1.0, \"bigg_id\": \"h_e\"}], \"label_x\": 4920.2587890625, \"label_y\": 2195.827392578125, \"gene_reaction_rule\": \"\"}, \"1576761\": {\"name\": \"Glutamate synthase (NADPH)\", \"bigg_id\": \"GLUSy\", \"segments\": {\"184\": {\"to_node_id\": \"1576554\", \"from_node_id\": \"1576987\", \"b2\": {\"y\": 3721.4298613416263, \"x\": 4116.0}, \"b1\": {\"y\": 3810.0289584024877, \"x\": 4116.0}}, \"182\": {\"to_node_id\": \"1576986\", \"from_node_id\": \"1576655\", \"b2\": {\"y\": 3907.2123007471773, \"x\": 4116.0}, \"b1\": {\"y\": 3952.041002490592, \"x\": 4116.0}}, \"183\": {\"to_node_id\": \"1576656\", \"from_node_id\": \"1576987\", \"b2\": {\"y\": 3790.445677833893, \"x\": 4116.0}, \"b1\": {\"y\": 3830.733703350168, \"x\": 4116.0}}, \"180\": {\"to_node_id\": \"1576986\", \"from_node_id\": \"1576654\", \"b2\": {\"y\": 3902.6240384299276, \"x\": 4116.0}, \"b1\": {\"y\": 3936.7467947664254, \"x\": 4116.0}}, \"181\": {\"to_node_id\": \"1576986\", \"from_node_id\": \"1576578\", \"b2\": {\"y\": 3924.538472874492, \"x\": 4116.0}, \"b1\": {\"y\": 4009.7949095816407, \"x\": 4116.0}}, \"179\": {\"to_node_id\": \"1576986\", \"from_node_id\": \"1576509\", \"b2\": {\"y\": 4155.746259618145, \"x\": 4119.22314453125}, \"b1\": {\"y\": 4145.014875810485, \"x\": 3943.568359375}}, \"178\": {\"to_node_id\": \"1576987\", \"from_node_id\": \"1576988\", \"b2\": null, \"b1\": null}, \"177\": {\"to_node_id\": \"1576988\", \"from_node_id\": \"1576986\", \"b2\": null, \"b1\": null}}, \"genes\": [{\"bigg_id\": \"b3212\", \"name\": \"gltB\"}, {\"bigg_id\": \"b3213\", \"name\": \"gltD\"}], \"reversibility\": false, \"metabolites\": [{\"coefficient\": 2.0, \"bigg_id\": \"glu__L_c\"}, {\"coefficient\": 1.0, \"bigg_id\": \"nadp_c\"}, {\"coefficient\": -1.0, \"bigg_id\": \"h_c\"}, {\"coefficient\": -1.0, \"bigg_id\": \"nadph_c\"}, {\"coefficient\": -1.0, \"bigg_id\": \"gln__L_c\"}, {\"coefficient\": -1.0, \"bigg_id\": \"akg_c\"}], \"label_x\": 3984.18701171875, \"label_y\": 3851.553955078125, \"gene_reaction_rule\": \"b3212 and b3213\"}, \"1577490\": {\"name\": \"Acetaldehyde dehydrogenase (acetylating)\", \"bigg_id\": \"ACALD\", \"segments\": {\"280\": {\"to_node_id\": \"1576812\", \"from_node_id\": \"1577033\", \"b2\": {\"y\": 3945.0, \"x\": 1918.1029079843004}, \"b1\": {\"y\": 3945.0, \"x\": 1961.4308723952902}}, \"273\": {\"to_node_id\": \"1577032\", \"from_node_id\": \"1577031\", \"b2\": null, \"b1\": null}, \"274\": {\"to_node_id\": \"1577033\", \"from_node_id\": \"1577032\", \"b2\": null, \"b1\": null}, \"275\": {\"to_node_id\": \"1577031\", \"from_node_id\": \"1576817\", \"b2\": {\"y\": 3945.0, \"x\": 2065.5}, \"b1\": {\"y\": 3945.0, \"x\": 2125.0}}, \"276\": {\"to_node_id\": \"1577031\", \"from_node_id\": \"1576825\", \"b2\": {\"y\": 3945.0, \"x\": 2058.56912760471}, \"b1\": {\"y\": 3945.0, \"x\": 2101.8970920157}}, \"277\": {\"to_node_id\": \"1577031\", \"from_node_id\": \"1576828\", \"b2\": {\"y\": 3945.0, \"x\": 2053.52081728299}, \"b1\": {\"y\": 3945.0, \"x\": 2085.0693909433}}, \"278\": {\"to_node_id\": \"1576514\", \"from_node_id\": \"1577033\", \"b2\": {\"y\": 3945.0, \"x\": 1847.5}, \"b1\": {\"y\": 3945.0, \"x\": 1940.25}}, \"279\": {\"to_node_id\": \"1576832\", \"from_node_id\": \"1577033\", \"b2\": {\"y\": 3945.0, \"x\": 1934.9306090567002}, \"b1\": {\"y\": 3945.0, \"x\": 1966.47918271701}}}, \"genes\": [{\"bigg_id\": \"b1241\", \"name\": \"adhE\"}, {\"bigg_id\": \"b0351\", \"name\": \"mhpF\"}], \"reversibility\": true, \"metabolites\": [{\"coefficient\": 1.0, \"bigg_id\": \"nadh_c\"}, {\"coefficient\": -1.0, \"bigg_id\": \"coa_c\"}, {\"coefficient\": -1.0, \"bigg_id\": \"acald_c\"}, {\"coefficient\": 1.0, \"bigg_id\": \"h_c\"}, {\"coefficient\": -1.0, \"bigg_id\": \"nad_c\"}, {\"coefficient\": 1.0, \"bigg_id\": \"accoa_c\"}], \"label_x\": 1939.0750732421875, \"label_y\": 3998.470458984375, \"gene_reaction_rule\": \"b0351 or b1241\"}, \"1577497\": {\"name\": \"Acetaldehyde reversible transport\", \"bigg_id\": \"ACALDt\", \"segments\": {\"281\": {\"to_node_id\": \"1577034\", \"from_node_id\": \"1576815\", \"b2\": {\"y\": 4707.0, \"x\": 2210.0}, \"b1\": {\"y\": 4796.55283203125, \"x\": 2210.0}}, \"282\": {\"to_node_id\": \"1576817\", \"from_node_id\": \"1577034\", \"b2\": {\"y\": 4257.5, \"x\": 2210.0}, \"b1\": {\"y\": 4476.25, \"x\": 2210.0}}}, \"genes\": [{\"bigg_id\": \"s0001\", \"name\": \"None\"}], \"reversibility\": true, \"metabolites\": [{\"coefficient\": 1.0, \"bigg_id\": \"acald_c\"}, {\"coefficient\": -1.0, \"bigg_id\": \"acald_e\"}], \"label_x\": 2248.561767578125, \"label_y\": 4579.041015625, \"gene_reaction_rule\": \"s0001\"}, \"1577498\": {\"name\": \"Acetaldehyde exchange\", \"bigg_id\": \"EX_acald_e\", \"segments\": {\"283\": {\"to_node_id\": \"1577035\", \"from_node_id\": \"1576815\", \"b2\": {\"y\": 4894.0, \"x\": 2210.5}, \"b1\": {\"y\": 4889.1484375, \"x\": 2210.15}}}, \"genes\": [], \"reversibility\": false, \"metabolites\": [{\"coefficient\": -1.0, \"bigg_id\": \"acald_e\"}], \"label_x\": 2227.346923828125, \"label_y\": 4922.892578125, \"gene_reaction_rule\": \"\"}, \"1576724\": {\"name\": \"Glutamine synthetase\", \"bigg_id\": \"GLNS\", \"segments\": {\"424\": {\"to_node_id\": \"1576578\", \"from_node_id\": \"1576899\", \"b2\": {\"y\": 4007.2677048056653, \"x\": 4364.0}, \"b1\": {\"y\": 3924.4803114416995, \"x\": 4364.0}}, \"421\": {\"to_node_id\": \"1576901\", \"from_node_id\": \"1576554\", \"b2\": {\"y\": 3812.091159595566, \"x\": 4364.0}, \"b1\": {\"y\": 3725.970531985219, \"x\": 4364.0}}, \"420\": {\"to_node_id\": \"1576899\", \"from_node_id\": \"1576900\", \"b2\": null, \"b1\": null}, \"423\": {\"to_node_id\": \"1576901\", \"from_node_id\": \"1576577\", \"b2\": {\"y\": 3835.8273009599397, \"x\": 4364.0}, \"b1\": {\"y\": 3805.0910031997996, \"x\": 4364.0}}, \"422\": {\"to_node_id\": \"1576901\", \"from_node_id\": \"1576576\", \"b2\": {\"y\": 3830.8679841164862, \"x\": 4364.0}, \"b1\": {\"y\": 3788.5599470549537, \"x\": 4364.0}}, \"425\": {\"to_node_id\": \"1576579\", \"from_node_id\": \"1576899\", \"b2\": {\"y\": 3936.762432936357, \"x\": 4364.0}, \"b1\": {\"y\": 3903.3287298809073, \"x\": 4364.0}}, \"419\": {\"to_node_id\": \"1576900\", \"from_node_id\": \"1576901\", \"b2\": null, \"b1\": null}, \"427\": {\"to_node_id\": \"1576581\", \"from_node_id\": \"1576899\", \"b2\": {\"y\": 3978.617241644675, \"x\": 4364.0}, \"b1\": {\"y\": 3915.8851724934025, \"x\": 4364.0}}, \"426\": {\"to_node_id\": \"1576580\", \"from_node_id\": \"1576899\", \"b2\": {\"y\": 3956.314560089181, \"x\": 4364.0}, \"b1\": {\"y\": 3909.1943680267545, \"x\": 4364.0}}}, \"genes\": [{\"bigg_id\": \"b3870\", \"name\": \"glnA\"}, {\"bigg_id\": \"b1297\", \"name\": \"puuA\"}], \"reversibility\": false, \"metabolites\": [{\"coefficient\": -1.0, \"bigg_id\": \"glu__L_c\"}, {\"coefficient\": -1.0, \"bigg_id\": \"atp_c\"}, {\"coefficient\": -1.0, \"bigg_id\": \"nh4_c\"}, {\"coefficient\": 1.0, \"bigg_id\": \"h_c\"}, {\"coefficient\": 1.0, \"bigg_id\": \"adp_c\"}, {\"coefficient\": 1.0, \"bigg_id\": \"pi_c\"}, {\"coefficient\": 1.0, \"bigg_id\": \"gln__L_c\"}], \"label_x\": 4377.22314453125, \"label_y\": 3875.114990234375, \"gene_reaction_rule\": \"b3870 or b1297\"}, \"1576727\": {\"name\": \"2-Oxogluterate dehydrogenase\", \"bigg_id\": \"AKGDH\", \"segments\": {\"443\": {\"to_node_id\": \"1576908\", \"from_node_id\": \"1576585\", \"b2\": {\"y\": 3494.907757737772, \"x\": 3779.4266247023934}, \"b1\": {\"y\": 3529.6925257925727, \"x\": 3778.088749007978}}, \"442\": {\"to_node_id\": \"1576908\", \"from_node_id\": \"1576509\", \"b2\": {\"y\": 3502.6153909632244, \"x\": 3779.130177270645}, \"b1\": {\"y\": 3555.384636544082, \"x\": 3777.1005909021505}}, \"441\": {\"to_node_id\": \"1576910\", \"from_node_id\": \"1576909\", \"b2\": null, \"b1\": null}, \"440\": {\"to_node_id\": \"1576909\", \"from_node_id\": \"1576908\", \"b2\": null, \"b1\": null}, \"447\": {\"to_node_id\": \"1576588\", \"from_node_id\": \"1576910\", \"b2\": {\"y\": 3276.99346892041, \"x\": 3770.846587256151}, \"b1\": {\"y\": 3314.098040676123, \"x\": 3774.453976176845}}, \"446\": {\"to_node_id\": \"1576587\", \"from_node_id\": \"1576910\", \"b2\": {\"y\": 3277.236984619066, \"x\": 3770.8702623935205}, \"b1\": {\"y\": 3314.1710953857196, \"x\": 3774.4610787180563}}, \"445\": {\"to_node_id\": \"1576570\", \"from_node_id\": \"1576910\", \"b2\": {\"y\": 3259.378766045427, \"x\": 3769.134046698861}, \"b1\": {\"y\": 3308.813629813628, \"x\": 3773.940214009658}}, \"444\": {\"to_node_id\": \"1576908\", \"from_node_id\": \"1576586\", \"b2\": {\"y\": 3498.5402671676266, \"x\": 3779.2869128012453}, \"b1\": {\"y\": 3541.8008905587553, \"x\": 3777.623042670817}}}, \"genes\": [{\"bigg_id\": \"b0116\", \"name\": \"lpd\"}, {\"bigg_id\": \"b0726\", \"name\": \"sucA\"}, {\"bigg_id\": \"b0727\", \"name\": \"sucB\"}], \"reversibility\": false, \"metabolites\": [{\"coefficient\": 1.0, \"bigg_id\": \"nadh_c\"}, {\"coefficient\": -1.0, \"bigg_id\": \"coa_c\"}, {\"coefficient\": -1.0, \"bigg_id\": \"nad_c\"}, {\"coefficient\": 1.0, \"bigg_id\": \"co2_c\"}, {\"coefficient\": 1.0, \"bigg_id\": \"succoa_c\"}, {\"coefficient\": -1.0, \"bigg_id\": \"akg_c\"}], \"label_x\": 3793.0, \"label_y\": 3392.0, \"gene_reaction_rule\": \"b0116 and b0726 and b0727\"}, \"1576726\": {\"name\": \"NAD transhydrogenase\", \"bigg_id\": \"NADTRHD\", \"segments\": {\"438\": {\"to_node_id\": \"1576496\", \"from_node_id\": \"1576905\", \"b2\": {\"y\": 1270.0, \"x\": 3400.0}, \"b1\": {\"y\": 1270.0, \"x\": 3449.0}}, \"439\": {\"to_node_id\": \"1576497\", \"from_node_id\": \"1576905\", \"b2\": {\"y\": 1270.0, \"x\": 3418.3388104489154}, \"b1\": {\"y\": 1270.0, \"x\": 3446.2829175487373}}, \"436\": {\"to_node_id\": \"1576906\", \"from_node_id\": \"1576501\", \"b2\": {\"y\": 1270.0, \"x\": 3592.9455878111676}, \"b1\": {\"y\": 1270.0001220703125, \"x\": 3627.146913797642}}, \"437\": {\"to_node_id\": \"1576906\", \"from_node_id\": \"1576500\", \"b2\": {\"y\": 1270.0, \"x\": 3595.5}, \"b1\": {\"y\": 1270.0, \"x\": 3655.0}}, \"434\": {\"to_node_id\": \"1576907\", \"from_node_id\": \"1576906\", \"b2\": null, \"b1\": null}, \"435\": {\"to_node_id\": \"1576905\", \"from_node_id\": \"1576907\", \"b2\": null, \"b1\": null}}, \"genes\": [{\"bigg_id\": \"b1602\", \"name\": \"pntB\"}, {\"bigg_id\": \"b3962\", \"name\": \"sthA\"}, {\"bigg_id\": \"b1603\", \"name\": \"pntA\"}], \"reversibility\": false, \"metabolites\": [{\"coefficient\": 1.0, \"bigg_id\": \"nadh_c\"}, {\"coefficient\": 1.0, \"bigg_id\": \"nadp_c\"}, {\"coefficient\": -1.0, \"bigg_id\": \"nad_c\"}, {\"coefficient\": -1.0, \"bigg_id\": \"nadph_c\"}], \"label_x\": 3478.431396484375, \"label_y\": 1319.6259765625, \"gene_reaction_rule\": \"b3962 or (b1602 and b1603)\"}, \"1576721\": {\"name\": \"Phosphofructokinase\", \"bigg_id\": \"PFK\", \"segments\": {\"407\": {\"to_node_id\": \"1576893\", \"from_node_id\": \"1576572\", \"b2\": {\"y\": 1674.9065411518764, \"x\": 1055.0}, \"b1\": {\"y\": 1639.6884705062548, \"x\": 1055.0}}, \"406\": {\"to_node_id\": \"1576893\", \"from_node_id\": \"1576525\", \"b2\": {\"y\": 1668.25, \"x\": 1055.0}, \"b1\": {\"y\": 1617.5, \"x\": 1055.0}}, \"405\": {\"to_node_id\": \"1576892\", \"from_node_id\": \"1576891\", \"b2\": null, \"b1\": null}, \"404\": {\"to_node_id\": \"1576891\", \"from_node_id\": \"1576893\", \"b2\": null, \"b1\": null}, \"410\": {\"to_node_id\": \"1576574\", \"from_node_id\": \"1576892\", \"b2\": {\"y\": 1835.2079728939614, \"x\": 1055.0}, \"b1\": {\"y\": 1793.0623918681883, \"x\": 1055.0}}, \"409\": {\"to_node_id\": \"1576529\", \"from_node_id\": \"1576892\", \"b2\": {\"y\": 1850.0, \"x\": 1055.0}, \"b1\": {\"y\": 1797.5, \"x\": 1055.0}}, \"408\": {\"to_node_id\": \"1576573\", \"from_node_id\": \"1576892\", \"b2\": {\"y\": 1822.4341649025257, \"x\": 1055.0}, \"b1\": {\"y\": 1789.2302494707578, \"x\": 1055.0}}}, \"genes\": [{\"bigg_id\": \"b1723\", \"name\": \"pfkB\"}, {\"bigg_id\": \"b3916\", \"name\": \"pfkA\"}], \"reversibility\": false, \"metabolites\": [{\"coefficient\": 1.0, \"bigg_id\": \"h_c\"}, {\"coefficient\": 1.0, \"bigg_id\": \"adp_c\"}, {\"coefficient\": -1.0, \"bigg_id\": \"f6p_c\"}, {\"coefficient\": -1.0, \"bigg_id\": \"atp_c\"}, {\"coefficient\": 1.0, \"bigg_id\": \"fdp_c\"}], \"label_x\": 1065.0, \"label_y\": 1725.0, \"gene_reaction_rule\": \"b3916 or b1723\"}, \"1576720\": {\"name\": \"Succinyl-CoA synthetase (ADP-forming)\", \"bigg_id\": \"SUCOAS\", \"segments\": {\"397\": {\"to_node_id\": \"1576890\", \"from_node_id\": \"1576888\", \"b2\": null, \"b1\": null}, \"396\": {\"to_node_id\": \"1576888\", \"from_node_id\": \"1576889\", \"b2\": null, \"b1\": null}, \"401\": {\"to_node_id\": \"1576569\", \"from_node_id\": \"1576890\", \"b2\": {\"y\": 3112.853617863234, \"x\": 3706.5785261677484}, \"b1\": {\"y\": 3077.95608535897, \"x\": 3678.1735578503244}}, \"400\": {\"to_node_id\": \"1576889\", \"from_node_id\": \"1576533\", \"b2\": {\"y\": 2954.5162418879845, \"x\": 3567.004509117803}, \"b1\": {\"y\": 2904.387472959949, \"x\": 3518.015030392677}}, \"403\": {\"to_node_id\": \"1576571\", \"from_node_id\": \"1576890\", \"b2\": {\"y\": 3107.574578569538, \"x\": 3702.2816337193913}, \"b1\": {\"y\": 3076.3723735708613, \"x\": 3676.8844901158172}}, \"399\": {\"to_node_id\": \"1576889\", \"from_node_id\": \"1576568\", \"b2\": {\"y\": 2964.923830429043, \"x\": 3577.1755615556553}, \"b1\": {\"y\": 2939.079434763476, \"x\": 3551.9185385188516}}, \"398\": {\"to_node_id\": \"1576889\", \"from_node_id\": \"1576567\", \"b2\": {\"y\": 2962.1615434463, \"x\": 3574.4760538225205}, \"b1\": {\"y\": 2929.871811487667, \"x\": 3542.920179408402}}, \"402\": {\"to_node_id\": \"1576570\", \"from_node_id\": \"1576890\", \"b2\": {\"y\": 3120.815793594307, \"x\": 3713.059366879087}, \"b1\": {\"y\": 3080.344738078292, \"x\": 3680.117810063726}}}, \"genes\": [{\"bigg_id\": \"b0729\", \"name\": \"sucD\"}, {\"bigg_id\": \"b0728\", \"name\": \"sucC\"}], \"reversibility\": true, \"metabolites\": [{\"coefficient\": -1.0, \"bigg_id\": \"coa_c\"}, {\"coefficient\": 1.0, \"bigg_id\": \"adp_c\"}, {\"coefficient\": -1.0, \"bigg_id\": \"succ_c\"}, {\"coefficient\": -1.0, \"bigg_id\": \"atp_c\"}, {\"coefficient\": 1.0, \"bigg_id\": \"succoa_c\"}, {\"coefficient\": 1.0, \"bigg_id\": \"pi_c\"}], \"label_x\": 3641.0, \"label_y\": 3010.0, \"gene_reaction_rule\": \"b0728 and b0729\"}, \"1576723\": {\"name\": \"Transketolase\", \"bigg_id\": \"TKT2\", \"segments\": {\"414\": {\"to_node_id\": \"1576898\", \"from_node_id\": \"1576896\", \"b2\": null, \"b1\": null}, \"415\": {\"to_node_id\": \"1576897\", \"from_node_id\": \"1576547\", \"b2\": {\"y\": 1735.0, \"x\": 1772.8736958157247}, \"b1\": {\"y\": 1735.0, \"x\": 1954.5789860524153}}, \"416\": {\"to_node_id\": \"1576897\", \"from_node_id\": \"1576558\", \"b2\": {\"y\": 1735.0, \"x\": 1741.208765402248}, \"b1\": {\"y\": 1735.0, \"x\": 1849.0292180074937}}, \"417\": {\"to_node_id\": \"1576525\", \"from_node_id\": \"1576898\", \"b2\": {\"y\": 1587.43115234375, \"x\": 1280.4546812716637}, \"b1\": {\"y\": 1741.3470458984375, \"x\": 1235.776382408843}}, \"413\": {\"to_node_id\": \"1576896\", \"from_node_id\": \"1576897\", \"b2\": null, \"b1\": null}, \"418\": {\"to_node_id\": \"1576575\", \"from_node_id\": \"1576898\", \"b2\": {\"y\": 1735.0, \"x\": 1312.7516245895065}, \"b1\": {\"y\": 1735.0, \"x\": 1318.2979239002893}}}, \"genes\": [{\"bigg_id\": \"b2465\", \"name\": \"tktB\"}, {\"bigg_id\": \"b2935\", \"name\": \"tktA\"}], \"reversibility\": true, \"metabolites\": [{\"coefficient\": -1.0, \"bigg_id\": \"xu5p__D_c\"}, {\"coefficient\": -1.0, \"bigg_id\": \"e4p_c\"}, {\"coefficient\": 1.0, \"bigg_id\": \"g3p_c\"}, {\"coefficient\": 1.0, \"bigg_id\": \"f6p_c\"}], \"label_x\": 1520.71923828125, \"label_y\": 1702.785400390625, \"gene_reaction_rule\": \"b2935 or b2465\"}, \"1576722\": {\"name\": \"L-Glutamate exchange\", \"bigg_id\": \"EX_glu__L_e\", \"segments\": {\"411\": {\"to_node_id\": \"1576895\", \"from_node_id\": \"1576552\", \"b2\": {\"y\": 3635.0, \"x\": 4949.0}, \"b1\": {\"y\": 3634.3, \"x\": 4902.8}}}, \"genes\": [], \"reversibility\": false, \"metabolites\": [{\"coefficient\": -1.0, \"bigg_id\": \"glu__L_e\"}], \"label_x\": 4936.36669921875, \"label_y\": 3680.79150390625, \"gene_reaction_rule\": \"\"}, \"1576729\": {\"name\": \"O2 exchange\", \"bigg_id\": \"EX_o2_e\", \"segments\": {\"454\": {\"to_node_id\": \"1576914\", \"from_node_id\": \"1576494\", \"b2\": {\"y\": 1660.0, \"x\": 4910.0}, \"b1\": {\"y\": 1660.0, \"x\": 4868.0}}}, \"genes\": [], \"reversibility\": true, \"metabolites\": [{\"coefficient\": -1.0, \"bigg_id\": \"o2_e\"}], \"label_x\": 4894.58984375, \"label_y\": 1633.8848876953125, \"gene_reaction_rule\": \"\"}, \"1576728\": {\"name\": \"Pyruvate formate lyase\", \"bigg_id\": \"PFL\", \"segments\": {\"449\": {\"to_node_id\": \"1576913\", \"from_node_id\": \"1576911\", \"b2\": null, \"b1\": null}, \"448\": {\"to_node_id\": \"1576911\", \"from_node_id\": \"1576912\", \"b2\": null, \"b1\": null}, \"450\": {\"to_node_id\": \"1576912\", \"from_node_id\": \"1576589\", \"b2\": {\"y\": 3995.0, \"x\": 1239.5565547885194}, \"b1\": {\"y\": 3995.0, \"x\": 1203.521849295065}}, \"451\": {\"to_node_id\": \"1576912\", \"from_node_id\": \"1576511\", \"b2\": {\"y\": 3995.0, \"x\": 1224.0767078078675}, \"b1\": {\"y\": 3995.0, \"x\": 1151.9223593595584}}, \"452\": {\"to_node_id\": \"1576514\", \"from_node_id\": \"1576913\", \"b2\": {\"y\": 3995.0, \"x\": 1567.0690632574556}, \"b1\": {\"y\": 3995.0, \"x\": 1460.6207189772367}}, \"453\": {\"to_node_id\": \"1576590\", \"from_node_id\": \"1576913\", \"b2\": {\"y\": 3995.0, \"x\": 1469.8292804986534}, \"b1\": {\"y\": 3995.0, \"x\": 1431.4487841495961}}}, \"genes\": [{\"bigg_id\": \"b3114\", \"name\": \"tdcE\"}, {\"bigg_id\": \"b3951\", \"name\": \"pflD\"}, {\"bigg_id\": \"b3952\", \"name\": \"pflC\"}, {\"bigg_id\": \"b0903\", \"name\": \"pflB\"}, {\"bigg_id\": \"b0902\", \"name\": \"pflA\"}, {\"bigg_id\": \"b2579\", \"name\": \"grcA\"}], \"reversibility\": false, \"metabolites\": [{\"coefficient\": -1.0, \"bigg_id\": \"pyr_c\"}, {\"coefficient\": -1.0, \"bigg_id\": \"coa_c\"}, {\"coefficient\": 1.0, \"bigg_id\": \"accoa_c\"}, {\"coefficient\": 1.0, \"bigg_id\": \"for_c\"}], \"label_x\": 1310.09130859375, \"label_y\": 4046.8837890625, \"gene_reaction_rule\": \"((b0902 and b0903) and b2579) or (b0902 and b0903) or (b0902 and b3114) or (b3951 and b3952)\"}, \"1577532\": {\"name\": \"Malate transport via proton symport  2 H \", \"bigg_id\": \"MALt2_2\", \"segments\": {\"33\": {\"to_node_id\": \"1577056\", \"from_node_id\": \"1576831\", \"b2\": {\"y\": 720.0576036932963, \"x\": 2610.0}, \"b1\": {\"y\": 682.8586789776543, \"x\": 2610.0}}, \"32\": {\"to_node_id\": \"1577058\", \"from_node_id\": \"1577057\", \"b2\": null, \"b1\": null}, \"31\": {\"to_node_id\": \"1577057\", \"from_node_id\": \"1577056\", \"b2\": null, \"b1\": null}, \"36\": {\"to_node_id\": \"1576504\", \"from_node_id\": \"1577058\", \"b2\": {\"y\": 2086.013675322326, \"x\": 2610.0}, \"b1\": {\"y\": 1311.8041025966977, \"x\": 2610.0}}, \"35\": {\"to_node_id\": \"1576810\", \"from_node_id\": \"1577058\", \"b2\": {\"y\": 1032.2015325445527, \"x\": 2610.0}, \"b1\": {\"y\": 995.6604597633658, \"x\": 2610.0}}, \"34\": {\"to_node_id\": \"1577056\", \"from_node_id\": \"1576816\", \"b2\": {\"y\": 723.1, \"x\": 2610.0}, \"b1\": {\"y\": 693.0, \"x\": 2610.0}}}, \"genes\": [{\"bigg_id\": \"b3528\", \"name\": \"dctA\"}], \"reversibility\": false, \"metabolites\": [{\"coefficient\": 1.0, \"bigg_id\": \"mal__L_c\"}, {\"coefficient\": 2.0, \"bigg_id\": \"h_c\"}, {\"coefficient\": -1.0, \"bigg_id\": \"mal__L_e\"}, {\"coefficient\": -2.0, \"bigg_id\": \"h_e\"}], \"label_x\": 2623.173583984375, \"label_y\": 844.3793334960938, \"gene_reaction_rule\": \"b3528\"}, \"1577537\": {\"name\": \"L-Malate exchange\", \"bigg_id\": \"EX_mal__L_e\", \"segments\": {\"37\": {\"to_node_id\": \"1577059\", \"from_node_id\": \"1576816\", \"b2\": {\"y\": 560.0, \"x\": 2610.0}, \"b1\": {\"y\": 623.0, \"x\": 2610.0}}}, \"genes\": [], \"reversibility\": false, \"metabolites\": [{\"coefficient\": -1.0, \"bigg_id\": \"mal__L_e\"}], \"label_x\": 2356.597412109375, \"label_y\": 513.949951171875, \"gene_reaction_rule\": \"\"}, \"1576732\": {\"name\": \"2 oxoglutarate reversible transport via symport\", \"bigg_id\": \"AKGt2r\", \"segments\": {\"469\": {\"to_node_id\": \"1576924\", \"from_node_id\": \"1576923\", \"b2\": null, \"b1\": null}, \"472\": {\"to_node_id\": \"1576923\", \"from_node_id\": \"1576599\", \"b2\": {\"y\": 3228.0, \"x\": 4807.306616216525}, \"b1\": {\"y\": 3228.0, \"x\": 4843.0220540550845}}, \"473\": {\"to_node_id\": \"1576509\", \"from_node_id\": \"1576922\", \"b2\": {\"y\": 3228.0, \"x\": 4074.584218822}, \"b1\": {\"y\": 3228.0, \"x\": 4373.7752656466}}, \"470\": {\"to_node_id\": \"1576922\", \"from_node_id\": \"1576924\", \"b2\": null, \"b1\": null}, \"471\": {\"to_node_id\": \"1576923\", \"from_node_id\": \"1576598\", \"b2\": {\"y\": 3228.0, \"x\": 4811.5}, \"b1\": {\"y\": 3228.0, \"x\": 4857.0}}, \"474\": {\"to_node_id\": \"1576600\", \"from_node_id\": \"1576922\", \"b2\": {\"y\": 3228.0, \"x\": 4449.798467455447}, \"b1\": {\"y\": 3228.0, \"x\": 4486.339540236634}}}, \"genes\": [{\"bigg_id\": \"b2587\", \"name\": \"kgtP\"}], \"reversibility\": true, \"metabolites\": [{\"coefficient\": -1.0, \"bigg_id\": \"h_e\"}, {\"coefficient\": 1.0, \"bigg_id\": \"akg_c\"}, {\"coefficient\": -1.0, \"bigg_id\": \"akg_e\"}, {\"coefficient\": 1.0, \"bigg_id\": \"h_c\"}], \"label_x\": 4594.6474609375, \"label_y\": 3197.05029296875, \"gene_reaction_rule\": \"b2587\"}, \"1576733\": {\"name\": \"Fructose-bisphosphate aldolase\", \"bigg_id\": \"FBA\", \"segments\": {\"55\": {\"to_node_id\": \"1576601\", \"from_node_id\": \"1576925\", \"b2\": {\"y\": 2081.141357421875, \"x\": 929.645751953125}, \"b1\": {\"y\": 2082.5, \"x\": 1055.0}}, \"54\": {\"to_node_id\": \"1576575\", \"from_node_id\": \"1576925\", \"b2\": {\"y\": 2120.0, \"x\": 1055.0}, \"b1\": {\"y\": 2067.5, \"x\": 1055.0}}, \"53\": {\"to_node_id\": \"1576925\", \"from_node_id\": \"1576926\", \"b2\": null, \"b1\": null}, \"475\": {\"to_node_id\": \"1576926\", \"from_node_id\": \"1576529\", \"b2\": {\"y\": 1974.28076171875, \"x\": 1055.0}, \"b1\": {\"y\": 1970.4088134765625, \"x\": 1055.0}}}, \"genes\": [{\"bigg_id\": \"b2097\", \"name\": \"fbaB\"}, {\"bigg_id\": \"b2925\", \"name\": \"fbaA\"}, {\"bigg_id\": \"b1773\", \"name\": \"ydjI\"}], \"reversibility\": true, \"metabolites\": [{\"coefficient\": 1.0, \"bigg_id\": \"dhap_c\"}, {\"coefficient\": 1.0, \"bigg_id\": \"g3p_c\"}, {\"coefficient\": -1.0, \"bigg_id\": \"fdp_c\"}], \"label_x\": 969.7942504882812, \"label_y\": 2031.01611328125, \"gene_reaction_rule\": \"b2097 or b1773 or b2925\"}, \"1576730\": {\"name\": \"Phosphoenolpyruvate carboxykinase\", \"bigg_id\": \"PPCK\", \"segments\": {\"458\": {\"to_node_id\": \"1576917\", \"from_node_id\": \"1576591\", \"b2\": {\"y\": 3557.6148705803193, \"x\": 1495.4573041787805}, \"b1\": {\"y\": 3566.049568601064, \"x\": 1519.8576805959353}}, \"459\": {\"to_node_id\": \"1576917\", \"from_node_id\": \"1576521\", \"b2\": {\"y\": 3678.777694102544, \"x\": 1757.8986662821364}, \"b1\": {\"y\": 3758.886258987647, \"x\": 2521.6033016696215}}, \"461\": {\"to_node_id\": \"1576593\", \"from_node_id\": \"1576918\", \"b2\": {\"y\": 3483.931701701515, \"x\": 1277.7951051045454}, \"b1\": {\"y\": 3497.2795105104547, \"x\": 1317.8385315313635}}, \"460\": {\"to_node_id\": \"1576592\", \"from_node_id\": \"1576918\", \"b2\": {\"y\": 3492.675272400688, \"x\": 1304.0258172020633}, \"b1\": {\"y\": 3499.9025817202064, \"x\": 1325.707745160619}}, \"456\": {\"to_node_id\": \"1576916\", \"from_node_id\": \"1576917\", \"b2\": null, \"b1\": null}, \"457\": {\"to_node_id\": \"1576918\", \"from_node_id\": \"1576916\", \"b2\": null, \"b1\": null}, \"462\": {\"to_node_id\": \"1576517\", \"from_node_id\": \"1576918\", \"b2\": {\"y\": 3454.321462634956, \"x\": 1188.9643879048676}, \"b1\": {\"y\": 3488.3964387904866, \"x\": 1291.1893163714603}}}, \"genes\": [{\"bigg_id\": \"b3403\", \"name\": \"pck\"}], \"reversibility\": false, \"metabolites\": [{\"coefficient\": 1.0, \"bigg_id\": \"pep_c\"}, {\"coefficient\": -1.0, \"bigg_id\": \"atp_c\"}, {\"coefficient\": -1.0, \"bigg_id\": \"oaa_c\"}, {\"coefficient\": 1.0, \"bigg_id\": \"co2_c\"}, {\"coefficient\": 1.0, \"bigg_id\": \"adp_c\"}], \"label_x\": 1377.3328857421875, \"label_y\": 3600.33447265625, \"gene_reaction_rule\": \"b3403\"}, \"1576731\": {\"name\": \"Phosphate reversible transport via symport\", \"bigg_id\": \"PIt2r\", \"segments\": {\"468\": {\"to_node_id\": \"1576597\", \"from_node_id\": \"1576919\", \"b2\": {\"y\": 4475.0, \"x\": 2880.0}, \"b1\": {\"y\": 4506.5, \"x\": 2880.0}}, \"465\": {\"to_node_id\": \"1576921\", \"from_node_id\": \"1576594\", \"b2\": {\"y\": 4742.1, \"x\": 2880.0}, \"b1\": {\"y\": 4782.0, \"x\": 2880.0}}, \"464\": {\"to_node_id\": \"1576919\", \"from_node_id\": \"1576920\", \"b2\": null, \"b1\": null}, \"467\": {\"to_node_id\": \"1576596\", \"from_node_id\": \"1576919\", \"b2\": {\"y\": 4464.789040942943, \"x\": 2880.0}, \"b1\": {\"y\": 4503.436712282883, \"x\": 2880.0}}, \"466\": {\"to_node_id\": \"1576921\", \"from_node_id\": \"1576595\", \"b2\": {\"y\": 4740.280870394058, \"x\": 2880.0}, \"b1\": {\"y\": 4775.936234646861, \"x\": 2880.0}}, \"463\": {\"to_node_id\": \"1576920\", \"from_node_id\": \"1576921\", \"b2\": null, \"b1\": null}}, \"genes\": [{\"bigg_id\": \"b3493\", \"name\": \"pitA\"}, {\"bigg_id\": \"b2987\", \"name\": \"pitB\"}], \"reversibility\": true, \"metabolites\": [{\"coefficient\": -1.0, \"bigg_id\": \"h_e\"}, {\"coefficient\": 1.0, \"bigg_id\": \"h_c\"}, {\"coefficient\": 1.0, \"bigg_id\": \"pi_c\"}, {\"coefficient\": -1.0, \"bigg_id\": \"pi_e\"}], \"label_x\": 2916.97509765625, \"label_y\": 4649.33837890625, \"gene_reaction_rule\": \"b2987 or b3493\"}, \"1576736\": {\"name\": \"Ribose-5-phosphate isomerase\", \"bigg_id\": \"RPI\", \"segments\": {\"66\": {\"to_node_id\": \"1576931\", \"from_node_id\": \"1576605\", \"b2\": {\"y\": 1490.0, \"x\": 2362.0}, \"b1\": {\"y\": 1535.5, \"x\": 2401.9}}, \"67\": {\"to_node_id\": \"1576493\", \"from_node_id\": \"1576931\", \"b2\": {\"y\": 1345.0, \"x\": 2230.0}, \"b1\": {\"y\": 1401.0, \"x\": 2282.5}}}, \"genes\": [{\"bigg_id\": \"b2914\", \"name\": \"rpiA\"}, {\"bigg_id\": \"b4090\", \"name\": \"rpiB\"}], \"reversibility\": true, \"metabolites\": [{\"coefficient\": 1.0, \"bigg_id\": \"ru5p__D_c\"}, {\"coefficient\": -1.0, \"bigg_id\": \"r5p_c\"}], \"label_x\": 2315.0, \"label_y\": 1415.0, \"gene_reaction_rule\": \"b2914 or b4090\"}, \"1576737\": {\"name\": \"Malate synthase\", \"bigg_id\": \"MALS\", \"segments\": {\"75\": {\"to_node_id\": \"1576504\", \"from_node_id\": \"1576932\", \"b2\": {\"y\": 3264.9901959981144, \"x\": 2733.0283686781227}, \"b1\": {\"y\": 3318.197058799434, \"x\": 2810.0085106034367}}, \"74\": {\"to_node_id\": \"1576609\", \"from_node_id\": \"1576932\", \"b2\": {\"y\": 3288.6581354094164, \"x\": 2767.2713448476666}, \"b1\": {\"y\": 3325.297440622825, \"x\": 2820.2814034543}}, \"73\": {\"to_node_id\": \"1576608\", \"from_node_id\": \"1576932\", \"b2\": {\"y\": 3305.691868266011, \"x\": 2791.915894512527}, \"b1\": {\"y\": 3330.4075604798036, \"x\": 2827.674768353758}}, \"72\": {\"to_node_id\": \"1576933\", \"from_node_id\": \"1576607\", \"b2\": {\"y\": 3460.23788356471, \"x\": 3016.1884971205427}, \"b1\": {\"y\": 3495.7929452157005, \"x\": 3067.961657068476}}, \"71\": {\"to_node_id\": \"1576933\", \"from_node_id\": \"1576606\", \"b2\": {\"y\": 3455.108224908018, \"x\": 3008.7189941643073}, \"b1\": {\"y\": 3478.694083026728, \"x\": 3043.063313881025}}, \"70\": {\"to_node_id\": \"1576933\", \"from_node_id\": \"1576532\", \"b2\": {\"y\": 3464.029731004742, \"x\": 3021.7099591823435}, \"b1\": {\"y\": 3508.4324366824735, \"x\": 3086.3665306078124}}, \"68\": {\"to_node_id\": \"1576934\", \"from_node_id\": \"1576933\", \"b2\": null, \"b1\": null}, \"69\": {\"to_node_id\": \"1576932\", \"from_node_id\": \"1576934\", \"b2\": null, \"b1\": null}}, \"genes\": [{\"bigg_id\": \"b2976\", \"name\": \"glcB\"}, {\"bigg_id\": \"b4014\", \"name\": \"aceB\"}], \"reversibility\": false, \"metabolites\": [{\"coefficient\": 1.0, \"bigg_id\": \"coa_c\"}, {\"coefficient\": 1.0, \"bigg_id\": \"h_c\"}, {\"coefficient\": 1.0, \"bigg_id\": \"mal__L_c\"}, {\"coefficient\": -1.0, \"bigg_id\": \"accoa_c\"}, {\"coefficient\": -1.0, \"bigg_id\": \"h2o_c\"}, {\"coefficient\": -1.0, \"bigg_id\": \"glx_c\"}], \"label_x\": 2921.0, \"label_y\": 3378.0, \"gene_reaction_rule\": \"b4014 or b2976\"}, \"1576734\": {\"name\": \"Triose-phosphate isomerase\", \"bigg_id\": \"TPI\", \"segments\": {\"57\": {\"to_node_id\": \"1576575\", \"from_node_id\": \"1576927\", \"b2\": {\"y\": 2195.0, \"x\": 1005.0}, \"b1\": {\"y\": 2195.0, \"x\": 970.0}}, \"56\": {\"to_node_id\": \"1576927\", \"from_node_id\": \"1576601\", \"b2\": {\"y\": 2195.0, \"x\": 911.3470458984375}, \"b1\": {\"y\": 2195.0, \"x\": 911.255859375}}}, \"genes\": [{\"bigg_id\": \"b3919\", \"name\": \"tpiA\"}], \"reversibility\": true, \"metabolites\": [{\"coefficient\": -1.0, \"bigg_id\": \"dhap_c\"}, {\"coefficient\": 1.0, \"bigg_id\": \"g3p_c\"}], \"label_x\": 936.438232421875, \"label_y\": 2245.297119140625, \"gene_reaction_rule\": \"b3919\"}, \"1576735\": {\"name\": \"Cytochrome oxidase bd (ubiquinol-8: 2 protons)\", \"bigg_id\": \"CYTBD\", \"segments\": {\"59\": {\"to_node_id\": \"1576929\", \"from_node_id\": \"1576928\", \"b2\": null, \"b1\": null}, \"58\": {\"to_node_id\": \"1576928\", \"from_node_id\": \"1576930\", \"b2\": null, \"b1\": null}, \"60\": {\"to_node_id\": \"1576930\", \"from_node_id\": \"1576602\", \"b2\": {\"y\": 1900.0, \"x\": 4595.5}, \"b1\": {\"y\": 1895.1654052734375, \"x\": 4416.69775390625}}, \"61\": {\"to_node_id\": \"1576930\", \"from_node_id\": \"1576495\", \"b2\": {\"y\": 1900.0, \"x\": 4572.371881863104}, \"b1\": {\"y\": 1900.0, \"x\": 4437.906272877015}}, \"62\": {\"to_node_id\": \"1576930\", \"from_node_id\": \"1576542\", \"b2\": {\"y\": 1900.0, \"x\": 4581.906341374356}, \"b1\": {\"y\": 1890.3310546875, \"x\": 4368.162902237436}}, \"63\": {\"to_node_id\": \"1576539\", \"from_node_id\": \"1576929\", \"b2\": {\"y\": 1903.22314453125, \"x\": 4842.38515985191}, \"b1\": {\"y\": 1900.0, \"x\": 4715.894014752448}}, \"64\": {\"to_node_id\": \"1576603\", \"from_node_id\": \"1576929\", \"b2\": {\"y\": 1900.0, \"x\": 4775.0}, \"b1\": {\"y\": 1900.0, \"x\": 4715.5}}, \"65\": {\"to_node_id\": \"1576604\", \"from_node_id\": \"1576929\", \"b2\": {\"y\": 1758.1868896484375, \"x\": 4884.545828600423}, \"b1\": {\"y\": 1901.611572265625, \"x\": 4821.203885298877}}}, \"genes\": [{\"bigg_id\": \"b0978\", \"name\": \"cbdA\"}, {\"bigg_id\": \"b0734\", \"name\": \"cydB\"}, {\"bigg_id\": \"b0979\", \"name\": \"cbdB\"}, {\"bigg_id\": \"b0733\", \"name\": \"cydA\"}], \"reversibility\": false, \"metabolites\": [{\"coefficient\": -0.5, \"bigg_id\": \"o2_c\"}, {\"coefficient\": 1.0, \"bigg_id\": \"q8_c\"}, {\"coefficient\": 2.0, \"bigg_id\": \"h_e\"}, {\"coefficient\": -1.0, \"bigg_id\": \"q8h2_c\"}, {\"coefficient\": -2.0, \"bigg_id\": \"h_c\"}, {\"coefficient\": 1.0, \"bigg_id\": \"h2o_c\"}], \"label_x\": 4560.4169921875, \"label_y\": 1954.46044921875, \"gene_reaction_rule\": \"(b0978 and b0979) or (b0733 and b0734)\"}, \"1576739\": {\"name\": \"Phosphotransacetylase\", \"bigg_id\": \"PTAr\", \"segments\": {\"77\": {\"to_node_id\": \"1576936\", \"from_node_id\": \"1576937\", \"b2\": null, \"b1\": null}, \"76\": {\"to_node_id\": \"1576937\", \"from_node_id\": \"1576935\", \"b2\": null, \"b1\": null}, \"80\": {\"to_node_id\": \"1576613\", \"from_node_id\": \"1576936\", \"b2\": {\"y\": 4140.0, \"x\": 1715.0}, \"b1\": {\"y\": 4115.5, \"x\": 1715.0}}, \"81\": {\"to_node_id\": \"1576614\", \"from_node_id\": \"1576936\", \"b2\": {\"y\": 4157.201532544553, \"x\": 1715.0}, \"b1\": {\"y\": 4120.660459763366, \"x\": 1715.0}}, \"79\": {\"to_node_id\": \"1576935\", \"from_node_id\": \"1576612\", \"b2\": {\"y\": 4049.339540236634, \"x\": 1715.0}, \"b1\": {\"y\": 4012.7984674554473, \"x\": 1715.0}}, \"78\": {\"to_node_id\": \"1576935\", \"from_node_id\": \"1576514\", \"b2\": {\"y\": 4047.0, \"x\": 1715.0}, \"b1\": {\"y\": 4005.0, \"x\": 1715.0}}}, \"genes\": [{\"bigg_id\": \"b2297\", \"name\": \"pta\"}, {\"bigg_id\": \"b2458\", \"name\": \"eutD\"}], \"reversibility\": true, \"metabolites\": [{\"coefficient\": -1.0, \"bigg_id\": \"accoa_c\"}, {\"coefficient\": 1.0, \"bigg_id\": \"actp_c\"}, {\"coefficient\": -1.0, \"bigg_id\": \"pi_c\"}, {\"coefficient\": 1.0, \"bigg_id\": \"coa_c\"}], \"label_x\": 1725.0, \"label_y\": 4075.0, \"gene_reaction_rule\": \"b2297 or b2458\"}, \"1577529\": {\"name\": \"D-Fructose exchange\", \"bigg_id\": \"EX_fru_e\", \"segments\": {\"29\": {\"to_node_id\": \"1577054\", \"from_node_id\": \"1576826\", \"b2\": {\"y\": 1360.0, \"x\": 241.0}, \"b1\": {\"y\": 1360.0, \"x\": 282.3}}}, \"genes\": [], \"reversibility\": false, \"metabolites\": [{\"coefficient\": -1.0, \"bigg_id\": \"fru_e\"}], \"label_x\": 125.35597229003906, \"label_y\": 1321.438232421875, \"gene_reaction_rule\": \"\"}, \"1577520\": {\"name\": \"Fumarate reductase\", \"bigg_id\": \"FRD7\", \"segments\": {\"20\": {\"to_node_id\": \"1577048\", \"from_node_id\": \"1576830\", \"b2\": {\"y\": 2600.0, \"x\": 3057.152680682408}, \"b1\": {\"y\": 2600.0, \"x\": 3003.842268941361}}, \"21\": {\"to_node_id\": \"1576814\", \"from_node_id\": \"1577050\", \"b2\": {\"y\": 2600.0, \"x\": 3213.824115301167}, \"b1\": {\"y\": 2600.0, \"x\": 3162.14723459035}}, \"22\": {\"to_node_id\": \"1576533\", \"from_node_id\": \"1577050\", \"b2\": {\"y\": 2600.0, \"x\": 3333.4483135103533}, \"b1\": {\"y\": 2600.0, \"x\": 3198.034494053106}}, \"19\": {\"to_node_id\": \"1577048\", \"from_node_id\": \"1576503\", \"b2\": {\"y\": 2600.0, \"x\": 3020.2689151278832}, \"b1\": {\"y\": 2600.0, \"x\": 2880.896383759611}}, \"18\": {\"to_node_id\": \"1577050\", \"from_node_id\": \"1577049\", \"b2\": null, \"b1\": null}, \"17\": {\"to_node_id\": \"1577049\", \"from_node_id\": \"1577048\", \"b2\": null, \"b1\": null}}, \"genes\": [{\"bigg_id\": \"b4152\", \"name\": \"frdC\"}, {\"bigg_id\": \"b4151\", \"name\": \"frdD\"}, {\"bigg_id\": \"b4154\", \"name\": \"frdA\"}, {\"bigg_id\": \"b4153\", \"name\": \"frdB\"}], \"reversibility\": false, \"metabolites\": [{\"coefficient\": 1.0, \"bigg_id\": \"succ_c\"}, {\"coefficient\": -1.0, \"bigg_id\": \"fum_c\"}, {\"coefficient\": 1.0, \"bigg_id\": \"q8_c\"}, {\"coefficient\": -1.0, \"bigg_id\": \"q8h2_c\"}], \"label_x\": 3078.744384765625, \"label_y\": 2572.54541015625, \"gene_reaction_rule\": \"b4151 and b4152 and b4153 and b4154\"}, \"1577524\": {\"name\": \"Fructose transport via PEPPyr PTS  f6p generating \", \"bigg_id\": \"FRUpts2\", \"segments\": {\"24\": {\"to_node_id\": \"1577053\", \"from_node_id\": \"1577052\", \"b2\": null, \"b1\": null}, \"25\": {\"to_node_id\": \"1577051\", \"from_node_id\": \"1576826\", \"b2\": {\"y\": 1361.5867919921875, \"x\": 526.550048828125}, \"b1\": {\"y\": 1360.0, \"x\": 465.0}}, \"26\": {\"to_node_id\": \"1577051\", \"from_node_id\": \"1576819\", \"b2\": {\"y\": 1360.0, \"x\": 396.1378949970459}, \"b1\": {\"y\": 1452.0322265625, \"x\": 400.008457770101}}, \"27\": {\"to_node_id\": \"1576525\", \"from_node_id\": \"1577053\", \"b2\": {\"y\": 1361.586669921875, \"x\": 917.1118252292455}, \"b1\": {\"y\": 1363.1734619140625, \"x\": 860.370260215258}}, \"23\": {\"to_node_id\": \"1577052\", \"from_node_id\": \"1577051\", \"b2\": null, \"b1\": null}, \"28\": {\"to_node_id\": \"1576821\", \"from_node_id\": \"1577053\", \"b2\": {\"y\": 1240.992919921875, \"x\": 861.106575008484}, \"b1\": {\"y\": 1364.76025390625, \"x\": 861.4990623462952}}}, \"genes\": [{\"bigg_id\": \"b1819\", \"name\": \"manZ\"}, {\"bigg_id\": \"b1817\", \"name\": \"manX\"}, {\"bigg_id\": \"b2415\", \"name\": \"ptsH\"}, {\"bigg_id\": \"b2416\", \"name\": \"ptsI\"}, {\"bigg_id\": \"b1818\", \"name\": \"manY\"}], \"reversibility\": false, \"metabolites\": [{\"coefficient\": -1.0, \"bigg_id\": \"pep_c\"}, {\"coefficient\": 1.0, \"bigg_id\": \"f6p_c\"}, {\"coefficient\": -1.0, \"bigg_id\": \"fru_e\"}, {\"coefficient\": 1.0, \"bigg_id\": \"pyr_c\"}], \"label_x\": 456.41497802734375, \"label_y\": 1327.7852783203125, \"gene_reaction_rule\": \"b1817 and b1818 and b1819 and b2415 and b2416\"}}, \"nodes\": {\"1576509\": {\"node_is_primary\": true, \"name\": \"2-Oxoglutarate\", \"label_x\": 3669.712158203125, \"node_type\": \"metabolite\", \"y\": 3627.0, \"x\": 3746.0, \"bigg_id\": \"akg_c\", \"label_y\": 3611.942626953125}, \"1576508\": {\"node_is_primary\": false, \"name\": \"CO2\", \"label_x\": 3539.820068359375, \"node_type\": \"metabolite\", \"y\": 3710.0, \"x\": 3620.0, \"bigg_id\": \"co2_c\", \"label_y\": 3711.611572265625}, \"1576501\": {\"node_is_primary\": true, \"name\": \"Nicotinamide adenine dinucleotide\", \"label_x\": 3556.820068359375, \"node_type\": \"metabolite\", \"y\": 1147.3958740234375, \"x\": 3625.7841796875, \"bigg_id\": \"nad_c\", \"label_y\": 1187.06494140625}, \"1576500\": {\"node_is_primary\": true, \"name\": \"Nicotinamide adenine dinucleotide phosphate - reduced\", \"label_x\": 3740.0, \"node_type\": \"metabolite\", \"y\": 1270.0, \"x\": 3740.0, \"bigg_id\": \"nadph_c\", \"label_y\": 1310.0}, \"1576503\": {\"node_is_primary\": true, \"name\": \"Fumarate\", \"label_x\": 2867.189453125, \"node_type\": \"metabolite\", \"y\": 2920.0, \"x\": 2843.0, \"bigg_id\": \"fum_c\", \"label_y\": 2939.602783203125}, \"1576502\": {\"node_is_primary\": false, \"name\": \"H2O\", \"label_x\": 2693.4130859375, \"node_type\": \"metabolite\", \"y\": 2921.0, \"x\": 2715.0, \"bigg_id\": \"h2o_c\", \"label_y\": 2896.71923828125}, \"1576505\": {\"node_is_primary\": true, \"name\": \"Isocitrate\", \"label_x\": 3344.32373046875, \"node_type\": \"metabolite\", \"y\": 3976.0, \"x\": 3413.0, \"bigg_id\": \"icit_c\", \"label_y\": 3949.222900390625}, \"1576504\": {\"node_is_primary\": true, \"name\": \"L-Malate\", \"label_x\": 2506.83544921875, \"node_type\": \"metabolite\", \"y\": 3192.0, \"x\": 2621.0, \"bigg_id\": \"mal__L_c\", \"label_y\": 3174.826416015625}, \"1576507\": {\"node_is_primary\": false, \"name\": \"Nicotinamide adenine dinucleotide phosphate - reduced\", \"label_x\": 3557.6474609375, \"node_type\": \"metabolite\", \"y\": 3660.0, \"x\": 3659.0, \"bigg_id\": \"nadph_c\", \"label_y\": 3655.388427734375}, \"1576506\": {\"node_is_primary\": false, \"name\": \"Nicotinamide adenine dinucleotide phosphate\", \"label_x\": 3495.0, \"node_type\": \"metabolite\", \"y\": 4065.0, \"x\": 3495.0, \"bigg_id\": \"nadp_c\", \"label_y\": 4098.0}, \"1576992\": {\"y\": 980.0, \"x\": 2840.0, \"node_type\": \"multimarker\"}, \"1576868\": {\"y\": 4158.0, \"x\": 5020.0, \"node_type\": \"midmarker\"}, \"1576993\": {\"y\": 840.0, \"x\": 2840.0, \"node_type\": \"midmarker\"}, \"1576863\": {\"y\": 2880.0, \"x\": 5025.0, \"node_type\": \"midmarker\"}, \"1576860\": {\"y\": 1665.0, \"x\": 835.0, \"node_type\": \"multimarker\"}, \"1576861\": {\"y\": 1765.0, \"x\": 835.0, \"node_type\": \"multimarker\"}, \"1576866\": {\"y\": 1260.0, \"x\": 4145.0, \"node_type\": \"midmarker\"}, \"1576867\": {\"y\": 1200.0, \"x\": 4145.0, \"node_type\": \"multimarker\"}, \"1576864\": {\"y\": 3766.0, \"x\": 3417.0, \"node_type\": \"multimarker\"}, \"1576865\": {\"y\": 3857.0, \"x\": 3417.0, \"node_type\": \"midmarker\"}, \"1576490\": {\"node_is_primary\": true, \"name\": \"6-Phospho-D-gluconate\", \"label_x\": 1800.0250244140625, \"node_type\": \"metabolite\", \"y\": 1265.0, \"x\": 1827.0, \"bigg_id\": \"6pgc_c\", \"label_y\": 1235.0}, \"1576996\": {\"y\": 4501.49560546875, \"x\": 1715.0, \"node_type\": \"multimarker\"}, \"1576997\": {\"y\": 1008.8675537109375, \"x\": 1056.5865478515625, \"node_type\": \"midmarker\"}, \"1576994\": {\"y\": 4745.0, \"x\": 1715.0, \"node_type\": \"multimarker\"}, \"1576995\": {\"y\": 4585.0, \"x\": 1715.0, \"node_type\": \"midmarker\"}, \"1576615\": {\"node_is_primary\": false, \"name\": \"ATP\", \"label_x\": 4552.7265625, \"node_type\": \"metabolite\", \"y\": 4258.0, \"x\": 4535.0, \"bigg_id\": \"atp_c\", \"label_y\": 4269.94287109375}, \"1576614\": {\"node_is_primary\": false, \"name\": \"Coenzyme A\", \"label_x\": 1835.0, \"node_type\": \"metabolite\", \"y\": 4135.0, \"x\": 1815.0, \"bigg_id\": \"coa_c\", \"label_y\": 4135.0}, \"1576617\": {\"node_is_primary\": false, \"name\": \"Phosphate\", \"label_x\": 4268.884765625, \"node_type\": \"metabolite\", \"y\": 4258.0, \"x\": 4285.0, \"bigg_id\": \"pi_c\", \"label_y\": 4287.6689453125}, \"1576616\": {\"node_is_primary\": false, \"name\": \"H2O\", \"label_x\": 4481.77685546875, \"node_type\": \"metabolite\", \"y\": 4258.0, \"x\": 4485.0, \"bigg_id\": \"h2o_c\", \"label_y\": 4287.6689453125}, \"1576613\": {\"node_is_primary\": true, \"name\": \"Acetyl phosphate\", \"label_x\": 1745.0, \"node_type\": \"metabolite\", \"y\": 4175.0, \"x\": 1715.0, \"bigg_id\": \"actp_c\", \"label_y\": 4175.0}, \"1576612\": {\"node_is_primary\": false, \"name\": \"Phosphate\", \"label_x\": 1835.0, \"node_type\": \"metabolite\", \"y\": 4035.0, \"x\": 1815.0, \"bigg_id\": \"pi_c\", \"label_y\": 4035.0}, \"1576619\": {\"node_is_primary\": false, \"name\": \"H+\", \"label_x\": 4331.77734375, \"node_type\": \"metabolite\", \"y\": 4258.0, \"x\": 4335.0, \"bigg_id\": \"h_c\", \"label_y\": 4286.0576171875}, \"1576618\": {\"node_is_primary\": false, \"name\": \"ADP\", \"label_x\": 4381.77685546875, \"node_type\": \"metabolite\", \"y\": 4258.0, \"x\": 4385.0, \"bigg_id\": \"adp_c\", \"label_y\": 4290.89208984375}, \"1576598\": {\"node_is_primary\": true, \"name\": \"2-Oxoglutarate\", \"label_x\": 4922.0, \"node_type\": \"metabolite\", \"y\": 3228.0, \"x\": 4922.0, \"bigg_id\": \"akg_e\", \"label_y\": 3268.0}, \"1576599\": {\"node_is_primary\": false, \"name\": \"H+\", \"label_x\": 4861.39599609375, \"node_type\": \"metabolite\", \"y\": 3321.0, \"x\": 4834.0, \"bigg_id\": \"h_e\", \"label_y\": 3334.553955078125}, \"1576596\": {\"node_is_primary\": false, \"name\": \"H+\", \"label_x\": 2754.13232421875, \"node_type\": \"metabolite\", \"y\": 4452.0, \"x\": 2793.0, \"bigg_id\": \"h_c\", \"label_y\": 4426.61181640625}, \"1576597\": {\"node_is_primary\": true, \"name\": \"Phosphate\", \"label_x\": 2921.0, \"node_type\": \"metabolite\", \"y\": 4430.0, \"x\": 2880.0, \"bigg_id\": \"pi_c\", \"label_y\": 4428.0}, \"1576594\": {\"node_is_primary\": true, \"name\": \"Phosphate\", \"label_x\": 2910.0, \"node_type\": \"metabolite\", \"y\": 4839.0, \"x\": 2880.0, \"bigg_id\": \"pi_e\", \"label_y\": 4839.0}, \"1576595\": {\"node_is_primary\": false, \"name\": \"H+\", \"label_x\": 2733.83544921875, \"node_type\": \"metabolite\", \"y\": 4778.0, \"x\": 2793.0, \"bigg_id\": \"h_e\", \"label_y\": 4763.8515625}, \"1576592\": {\"node_is_primary\": false, \"name\": \"ADP\", \"label_x\": 1285.0, \"node_type\": \"metabolite\", \"y\": 3545.0, \"x\": 1285.0, \"bigg_id\": \"adp_c\", \"label_y\": 3575.0}, \"1576593\": {\"node_is_primary\": false, \"name\": \"CO2\", \"label_x\": 1215.0, \"node_type\": \"metabolite\", \"y\": 3515.0, \"x\": 1215.0, \"bigg_id\": \"co2_c\", \"label_y\": 3535.0}, \"1576590\": {\"node_is_primary\": true, \"name\": \"Formate\", \"label_x\": 1495.230712890625, \"node_type\": \"metabolite\", \"y\": 4095.0, \"x\": 1460.0, \"bigg_id\": \"for_c\", \"label_y\": 4083.958984375}, \"1576591\": {\"node_is_primary\": false, \"name\": \"ATP\", \"label_x\": 1525.0, \"node_type\": \"metabolite\", \"y\": 3625.0, \"x\": 1505.0, \"bigg_id\": \"atp_c\", \"label_y\": 3625.0}, \"1576819\": {\"node_is_primary\": false, \"name\": \"Phosphoenolpyruvate\", \"label_x\": 554.497314453125, \"node_type\": \"metabolite\", \"y\": 1448.4132080078125, \"x\": 565.6046142578125, \"bigg_id\": \"pep_c\", \"label_y\": 1479.5206298828125}, \"1576817\": {\"node_is_primary\": true, \"name\": \"Acetaldehyde\", \"label_x\": 2210.0, \"node_type\": \"metabolite\", \"y\": 3945.0, \"x\": 2210.0, \"bigg_id\": \"acald_c\", \"label_y\": 3905.0}, \"1576816\": {\"node_is_primary\": true, \"name\": \"L-Malate\", \"label_x\": 2640.0, \"node_type\": \"metabolite\", \"y\": 650.0, \"x\": 2610.0, \"bigg_id\": \"mal__L_e\", \"label_y\": 630.0}, \"1576815\": {\"node_is_primary\": true, \"name\": \"Acetaldehyde\", \"label_x\": 2240.0, \"node_type\": \"metabolite\", \"y\": 4837.65283203125, \"x\": 2210.0, \"bigg_id\": \"acald_e\", \"label_y\": 4837.65283203125}, \"1576814\": {\"node_is_primary\": false, \"name\": \"Ubiquinone-8\", \"label_x\": 3228.082275390625, \"node_type\": \"metabolite\", \"y\": 2730.0, \"x\": 3210.0, \"bigg_id\": \"q8_c\", \"label_y\": 2736.34716796875}, \"1576813\": {\"node_is_primary\": false, \"name\": \"H+\", \"label_x\": 2406.0, \"node_type\": \"metabolite\", \"y\": 3980.0, \"x\": 2392.0, \"bigg_id\": \"h_c\", \"label_y\": 3965.0}, \"1576812\": {\"node_is_primary\": false, \"name\": \"Nicotinamide adenine dinucleotide - reduced\", \"label_x\": 1868.892578125, \"node_type\": \"metabolite\", \"y\": 3860.0, \"x\": 1890.0, \"bigg_id\": \"nadh_c\", \"label_y\": 3840.810302734375}, \"1576811\": {\"node_is_primary\": false, \"name\": \"H+\", \"label_x\": 1245.23974609375, \"node_type\": \"metabolite\", \"y\": 4440.0, \"x\": 1270.0, \"bigg_id\": \"h_c\", \"label_y\": 4424.13232421875}, \"1576810\": {\"node_is_primary\": false, \"name\": \"H+\", \"label_x\": 2473.50439453125, \"node_type\": \"metabolite\", \"y\": 1010.0, \"x\": 2510.0, \"bigg_id\": \"h_c\", \"label_y\": 1043.1734619140625}, \"1576692\": {\"node_is_primary\": false, \"name\": \"Nicotinamide adenine dinucleotide phosphate - reduced\", \"label_x\": 2220.0, \"node_type\": \"metabolite\", \"y\": 3540.0, \"x\": 2200.0, \"bigg_id\": \"nadph_c\", \"label_y\": 3550.0}, \"1577106\": {\"y\": 4020.0757924471372, \"x\": 3331.3033751186185, \"node_type\": \"multimarker\"}, \"1577104\": {\"y\": 4035.7165277261324, \"x\": 3294.488060371458, \"node_type\": \"multimarker\"}, \"1577105\": {\"y\": 4027.896160086635, \"x\": 3312.895717745038, \"node_type\": \"midmarker\"}, \"1577069\": {\"y\": 4506.7353515625, \"x\": 1053.4132080078125, \"node_type\": \"multimarker\"}, \"1577068\": {\"y\": 4583.8583984375, \"x\": 1055.0, \"node_type\": \"midmarker\"}, \"1577100\": {\"y\": 4030.8645761345497, \"x\": 3074.275683525833, \"node_type\": \"midmarker\"}, \"1577101\": {\"y\": 4038.0833974815746, \"x\": 3092.9274560517806, \"node_type\": \"multimarker\"}, \"1577065\": {\"y\": 2819.0, \"x\": 3129.0, \"node_type\": \"midmarker\"}, \"1577064\": {\"y\": 2817.0, \"x\": 3180.0, \"node_type\": \"multimarker\"}, \"1577067\": {\"y\": 4660.98193359375, \"x\": 1055.0, \"node_type\": \"multimarker\"}, \"1577066\": {\"y\": 2826.0, \"x\": 3078.0, \"node_type\": \"multimarker\"}, \"1577061\": {\"y\": 2570.0, \"x\": 4630.0, \"node_type\": \"multimarker\"}, \"1577063\": {\"y\": 2570.0, \"x\": 4710.0, \"node_type\": \"multimarker\"}, \"1577062\": {\"y\": 2570.0, \"x\": 4670.0, \"node_type\": \"midmarker\"}, \"1576884\": {\"y\": 3945.0, \"x\": 155.0, \"node_type\": \"midmarker\"}, \"1576885\": {\"y\": 1415.0, \"x\": 2045.0, \"node_type\": \"midmarker\"}, \"1576929\": {\"y\": 1900.0, \"x\": 4690.0, \"node_type\": \"multimarker\"}, \"1576887\": {\"y\": 2230.0, \"x\": 4986.0, \"node_type\": \"midmarker\"}, \"1576880\": {\"y\": 3635.0, \"x\": 4779.0, \"node_type\": \"multimarker\"}, \"1576881\": {\"y\": 4925.0, \"x\": 1055.0, \"node_type\": \"midmarker\"}, \"1576923\": {\"y\": 3228.0, \"x\": 4792.0, \"node_type\": \"multimarker\"}, \"1576922\": {\"y\": 3228.0, \"x\": 4502.0, \"node_type\": \"multimarker\"}, \"1576921\": {\"y\": 4725.0, \"x\": 2880.0, \"node_type\": \"multimarker\"}, \"1576920\": {\"y\": 4580.0, \"x\": 2880.0, \"node_type\": \"midmarker\"}, \"1576927\": {\"y\": 2195.0, \"x\": 955.0, \"node_type\": \"midmarker\"}, \"1576926\": {\"y\": 1995.0, \"x\": 1055.0, \"node_type\": \"midmarker\"}, \"1576925\": {\"y\": 2045.0, \"x\": 1055.0, \"node_type\": \"multimarker\"}, \"1576924\": {\"y\": 3228.0, \"x\": 4662.0, \"node_type\": \"midmarker\"}, \"1576491\": {\"node_is_primary\": false, \"name\": \"CO2\", \"label_x\": 2007.0, \"node_type\": \"metabolite\", \"y\": 1165.0, \"x\": 2007.0, \"bigg_id\": \"co2_c\", \"label_y\": 1145.0}, \"1577087\": {\"node_is_primary\": false, \"name\": \"Coenzyme A\", \"label_x\": 5175.48828125, \"node_type\": \"metabolite\", \"y\": 4931.947265625, \"x\": 5208.85205078125, \"bigg_id\": \"coa_c\", \"label_y\": 4975.3330078125}, \"1577086\": {\"node_is_primary\": false, \"name\": \"Nicotinamide adenine dinucleotide\", \"label_x\": 4860.95166015625, \"node_type\": \"metabolite\", \"y\": 4529.25048828125, \"x\": 4893.27099609375, \"bigg_id\": \"nad_c\", \"label_y\": 4501.22509765625}, \"1577085\": {\"node_is_primary\": false, \"name\": \"Pyruvate\", \"label_x\": 4962.07666015625, \"node_type\": \"metabolite\", \"y\": 4509.18115234375, \"x\": 4988.05859375, \"bigg_id\": \"pyr_c\", \"label_y\": 4488.5498046875}, \"1577084\": {\"node_is_primary\": false, \"name\": \"D-Fructose 6-phosphate\", \"label_x\": 5052.6396484375, \"node_type\": \"metabolite\", \"y\": 4498.61865234375, \"x\": 5087.0712890625, \"bigg_id\": \"f6p_c\", \"label_y\": 4477.9873046875}, \"1577083\": {\"node_is_primary\": false, \"name\": \"ATP\", \"label_x\": 5152.708984375, \"node_type\": \"metabolite\", \"y\": 4488.05615234375, \"x\": 5183.9716796875, \"bigg_id\": \"atp_c\", \"label_y\": 4461.08740234375}, \"1577082\": {\"node_is_primary\": false, \"name\": \"Alpha-D-Ribose 5-phosphate\", \"label_x\": 5390.7685546875, \"node_type\": \"metabolite\", \"y\": 4418.7158203125, \"x\": 5403.0185546875, \"bigg_id\": \"r5p_c\", \"label_y\": 4391.7470703125}, \"1577081\": {\"node_is_primary\": false, \"name\": \"H+\", \"label_x\": 5204.56640625, \"node_type\": \"metabolite\", \"y\": 4994.3544921875, \"x\": 5262.95361328125, \"bigg_id\": \"h_c\", \"label_y\": 5025.4677734375}, \"1577080\": {\"node_is_primary\": false, \"name\": \"D-Erythrose 4-phosphate\", \"label_x\": 5442.19677734375, \"node_type\": \"metabolite\", \"y\": 4466.33544921875, \"x\": 5437.546875, \"bigg_id\": \"e4p_c\", \"label_y\": 4450.9853515625}, \"1576851\": {\"y\": 3945.0, \"x\": 1555.0, \"node_type\": \"multimarker\"}, \"1577089\": {\"node_is_primary\": false, \"name\": \"D-Glucose 6-phosphate\", \"label_x\": 4679.8271484375, \"node_type\": \"metabolite\", \"y\": 4559.88134765625, \"x\": 4700.52734375, \"bigg_id\": \"g6p_c\", \"label_y\": 4537.1376953125}, \"1577088\": {\"node_is_primary\": false, \"name\": \"Oxaloacetate\", \"label_x\": 4770.38916015625, \"node_type\": \"metabolite\", \"y\": 4544.03759765625, \"x\": 4783.69580078125, \"bigg_id\": \"oaa_c\", \"label_y\": 4522.349609375}, \"1576850\": {\"y\": 3945.0, \"x\": 1495.0, \"node_type\": \"midmarker\"}, \"1576853\": {\"y\": 3519.0, \"x\": 1493.0, \"node_type\": \"multimarker\"}, \"1576852\": {\"y\": 3486.0, \"x\": 1414.0, \"node_type\": \"midmarker\"}, \"1576998\": {\"y\": 976.1735229492188, \"x\": 1057.0, \"node_type\": \"multimarker\"}, \"1576498\": {\"node_is_primary\": false, \"name\": \"H+\", \"label_x\": 3529.338134765625, \"node_type\": \"metabolite\", \"y\": 650.0, \"x\": 3510.0, \"bigg_id\": \"h_e\", \"label_y\": 639.6690673828125}, \"1576857\": {\"y\": 1395.0, \"x\": 1055.0, \"node_type\": \"midmarker\"}, \"1576856\": {\"y\": 3225.0, \"x\": 1055.0, \"node_type\": \"midmarker\"}, \"1576855\": {\"y\": 3265.0, \"x\": 1055.0, \"node_type\": \"multimarker\"}, \"1576854\": {\"y\": 3458.0, \"x\": 1348.0, \"node_type\": \"multimarker\"}, \"1576493\": {\"node_is_primary\": true, \"name\": \"D-Ribulose 5-phosphate\", \"label_x\": 2155.0, \"node_type\": \"metabolite\", \"y\": 1265.0, \"x\": 2155.0, \"bigg_id\": \"ru5p__D_c\", \"label_y\": 1235.0}, \"1576492\": {\"node_is_primary\": false, \"name\": \"Nicotinamide adenine dinucleotide phosphate - reduced\", \"label_x\": 2080.0, \"node_type\": \"metabolite\", \"y\": 1165.0, \"x\": 2057.0, \"bigg_id\": \"nadph_c\", \"label_y\": 1140.0}, \"1576859\": {\"y\": 1715.0, \"x\": 835.0, \"node_type\": \"midmarker\"}, \"1576858\": {\"y\": 4598.0, \"x\": 3989.0, \"node_type\": \"midmarker\"}, \"1576497\": {\"node_is_primary\": true, \"name\": \"Nicotinamide adenine dinucleotide - reduced\", \"label_x\": 3450.0, \"node_type\": \"metabolite\", \"y\": 1120.0, \"x\": 3420.0, \"bigg_id\": \"nadh_c\", \"label_y\": 1150.0}, \"1576496\": {\"node_is_primary\": true, \"name\": \"Nicotinamide adenine dinucleotide phosphate\", \"label_x\": 3330.0, \"node_type\": \"metabolite\", \"y\": 1270.0, \"x\": 3330.0, \"bigg_id\": \"nadp_c\", \"label_y\": 1310.0}, \"1576495\": {\"node_is_primary\": true, \"name\": \"O2\", \"label_x\": 4259.09326171875, \"node_type\": \"metabolite\", \"y\": 1660.0, \"x\": 4330.0, \"bigg_id\": \"o2_c\", \"label_y\": 1677.4388427734375}, \"1576494\": {\"node_is_primary\": true, \"name\": \"O2\", \"label_x\": 4840.3310546875, \"node_type\": \"metabolite\", \"y\": 1660.0, \"x\": 4850.0, \"bigg_id\": \"o2_e\", \"label_y\": 1702.89208984375}, \"1576549\": {\"node_is_primary\": false, \"name\": \"H+\", \"label_x\": 911.677978515625, \"node_type\": \"metabolite\", \"y\": 3625.0, \"x\": 965.0, \"bigg_id\": \"h_c\", \"label_y\": 3612.305908203125}, \"1576548\": {\"node_is_primary\": true, \"name\": \"D-Fructose 6-phosphate\", \"label_x\": 2367.636962890625, \"node_type\": \"metabolite\", \"y\": 2186.826416015625, \"x\": 2362.636962890625, \"bigg_id\": \"f6p_c\", \"label_y\": 2216.826416015625}, \"1576545\": {\"node_is_primary\": true, \"name\": \"Glyceraldehyde 3-phosphate\", \"label_x\": 2375.091552734375, \"node_type\": \"metabolite\", \"y\": 1865.0, \"x\": 2358.984130859375, \"bigg_id\": \"g3p_c\", \"label_y\": 1898.4132080078125}, \"1576544\": {\"node_is_primary\": true, \"name\": \"CO2\", \"label_x\": 3651.0, \"node_type\": \"metabolite\", \"y\": 4754.0, \"x\": 3621.0, \"bigg_id\": \"co2_e\", \"label_y\": 4754.0}, \"1576547\": {\"node_is_primary\": true, \"name\": \"D-Erythrose 4-phosphate\", \"label_x\": 1922.7852783203125, \"node_type\": \"metabolite\", \"y\": 2190.0, \"x\": 1945.0, \"bigg_id\": \"e4p_c\", \"label_y\": 2242.214599609375}, \"1576546\": {\"node_is_primary\": true, \"name\": \"Sedoheptulose 7-phosphate\", \"label_x\": 1955.8675537109375, \"node_type\": \"metabolite\", \"y\": 1865.0, \"x\": 1983.082275390625, \"bigg_id\": \"s7p_c\", \"label_y\": 1814.314697265625}, \"1576542\": {\"node_is_primary\": true, \"name\": \"Ubiquinol-8\", \"label_x\": 4411.00048828125, \"node_type\": \"metabolite\", \"y\": 2210.3310546875, \"x\": 4508.47509765625, \"bigg_id\": \"q8h2_c\", \"label_y\": 2217.395751953125}, \"1577102\": {\"node_is_primary\": false, \"name\": \"H2O\", \"label_x\": 3189.1795476587818, \"node_type\": \"metabolite\", \"y\": 3976.144484067998, \"x\": 3188.1170476587818, \"bigg_id\": \"h2o_c\", \"label_y\": 3930.712355161748}, \"1576648\": {\"node_is_primary\": false, \"name\": \"H+\", \"label_x\": 2620.0, \"node_type\": \"metabolite\", \"y\": 4760.0, \"x\": 2600.0, \"bigg_id\": \"h_e\", \"label_y\": 4760.0}, \"1576649\": {\"node_is_primary\": true, \"name\": \"Ethanol\", \"label_x\": 2530.0, \"node_type\": \"metabolite\", \"y\": 4830.0, \"x\": 2500.0, \"bigg_id\": \"etoh_e\", \"label_y\": 4830.0}, \"1576646\": {\"node_is_primary\": false, \"name\": \"Phosphate\", \"label_x\": 684.8515014648438, \"node_type\": \"metabolite\", \"y\": 3425.0, \"x\": 735.0, \"bigg_id\": \"pi_c\", \"label_y\": 3409.13232421875}, \"1576647\": {\"node_is_primary\": true, \"name\": \"D-Glucose\", \"label_x\": 1085.066162109375, \"node_type\": \"metabolite\", \"y\": 705.0, \"x\": 1055.066162109375, \"bigg_id\": \"glc__D_e\", \"label_y\": 705.0}, \"1576644\": {\"node_is_primary\": false, \"name\": \"H+\", \"label_x\": 672.1574096679688, \"node_type\": \"metabolite\", \"y\": 3475.0, \"x\": 735.0, \"bigg_id\": \"h_c\", \"label_y\": 3478.173583984375}, \"1576645\": {\"node_is_primary\": false, \"name\": \"AMP\", \"label_x\": 640.4221801757812, \"node_type\": \"metabolite\", \"y\": 3525.0, \"x\": 735.0, \"bigg_id\": \"amp_c\", \"label_y\": 3545.6279296875}, \"1576642\": {\"node_is_primary\": false, \"name\": \"ATP\", \"label_x\": 670.5706176757812, \"node_type\": \"metabolite\", \"y\": 3855.0, \"x\": 735.0, \"bigg_id\": \"atp_c\", \"label_y\": 3840.71923828125}, \"1576643\": {\"node_is_primary\": false, \"name\": \"H2O\", \"label_x\": 681.677978515625, \"node_type\": \"metabolite\", \"y\": 3805.0, \"x\": 735.0, \"bigg_id\": \"h2o_c\", \"label_y\": 3787.545654296875}, \"1576640\": {\"node_is_primary\": true, \"name\": \"H2O\", \"label_x\": 3287.0, \"node_type\": \"metabolite\", \"y\": 4434.0, \"x\": 3257.0, \"bigg_id\": \"h2o_c\", \"label_y\": 4434.0}, \"1576641\": {\"node_is_primary\": true, \"name\": \"CO2\", \"label_x\": 3651.0, \"node_type\": \"metabolite\", \"y\": 4434.0, \"x\": 3621.0, \"bigg_id\": \"co2_c\", \"label_y\": 4434.0}, \"1577103\": {\"node_is_primary\": true, \"name\": \"Cis-Aconitate\", \"label_x\": 3156.1556150985407, \"node_type\": \"metabolite\", \"y\": 4053.2845721909744, \"x\": 3197.4642088485407, \"bigg_id\": \"acon_C_c\", \"label_y\": 4098.026271409724}, \"1576991\": {\"y\": 730.0, \"x\": 2840.0, \"node_type\": \"multimarker\"}, \"1577034\": {\"y\": 4570.0, \"x\": 2210.0, \"node_type\": \"midmarker\"}, \"1577035\": {\"y\": 4944.0, \"x\": 2211.0, \"node_type\": \"midmarker\"}, \"1577032\": {\"y\": 3945.0, \"x\": 2010.0, \"node_type\": \"midmarker\"}, \"1577033\": {\"y\": 3945.0, \"x\": 1980.0, \"node_type\": \"multimarker\"}, \"1577030\": {\"y\": 4925.0, \"x\": 1460.0, \"node_type\": \"midmarker\"}, \"1577031\": {\"y\": 3945.0, \"x\": 2040.0, \"node_type\": \"multimarker\"}, \"1576974\": {\"y\": 543.4132690429688, \"x\": 1056.6529541015625, \"node_type\": \"midmarker\"}, \"1576975\": {\"y\": 4430.0, \"x\": 2500.0, \"node_type\": \"multimarker\"}, \"1576976\": {\"y\": 4550.0, \"x\": 2500.0, \"node_type\": \"midmarker\"}, \"1576977\": {\"y\": 4730.0, \"x\": 2500.0, \"node_type\": \"multimarker\"}, \"1576970\": {\"y\": 3805.0, \"x\": 835.0, \"node_type\": \"multimarker\"}, \"1576971\": {\"y\": 3525.0, \"x\": 835.0, \"node_type\": \"multimarker\"}, \"1576972\": {\"y\": 3645.0, \"x\": 835.0, \"node_type\": \"midmarker\"}, \"1576978\": {\"y\": 2995.0, \"x\": 1055.0, \"node_type\": \"midmarker\"}, \"1576989\": {\"y\": 4925.107421875, \"x\": 2880.0, \"node_type\": \"midmarker\"}, \"1576602\": {\"node_is_primary\": false, \"name\": \"H+\", \"label_x\": 4234.01416015625, \"node_type\": \"metabolite\", \"y\": 1895.1654052734375, \"x\": 4301.69775390625, \"bigg_id\": \"h_c\", \"label_y\": 1903.8848876953125}, \"1576603\": {\"node_is_primary\": false, \"name\": \"H+\", \"label_x\": 4858.38818359375, \"node_type\": \"metabolite\", \"y\": 1900.0, \"x\": 4860.0, \"bigg_id\": \"h_e\", \"label_y\": 1950.6187744140625}, \"1576600\": {\"node_is_primary\": false, \"name\": \"H+\", \"label_x\": 4490.337890625, \"node_type\": \"metabolite\", \"y\": 3328.0, \"x\": 4472.0, \"bigg_id\": \"h_c\", \"label_y\": 3342.330810546875}, \"1576601\": {\"node_is_primary\": true, \"name\": \"Dihydroxyacetone phosphate\", \"label_x\": 739.3148193359375, \"node_type\": \"metabolite\", \"y\": 2195.0, \"x\": 855.0, \"bigg_id\": \"dhap_c\", \"label_y\": 2179.132568359375}, \"1576606\": {\"node_is_primary\": false, \"name\": \"Acetyl-CoA\", \"label_x\": 3125.0, \"node_type\": \"metabolite\", \"y\": 3402.0, \"x\": 3105.0, \"bigg_id\": \"accoa_c\", \"label_y\": 3402.0}, \"1576607\": {\"node_is_primary\": false, \"name\": \"H2O\", \"label_x\": 3190.0, \"node_type\": \"metabolite\", \"y\": 3480.0, \"x\": 3170.0, \"bigg_id\": \"h2o_c\", \"label_y\": 3480.0}, \"1576604\": {\"node_is_primary\": false, \"name\": \"H2O\", \"label_x\": 4452.77001953125, \"node_type\": \"metabolite\", \"y\": 1760.9495849609375, \"x\": 4439.09375, \"bigg_id\": \"h2o_c\", \"label_y\": 1736.77685546875}, \"1576605\": {\"node_is_primary\": true, \"name\": \"Alpha-D-Ribose 5-phosphate\", \"label_x\": 2418.413330078125, \"node_type\": \"metabolite\", \"y\": 1555.0, \"x\": 2419.0, \"bigg_id\": \"r5p_c\", \"label_y\": 1601.1072998046875}, \"1576608\": {\"node_is_primary\": false, \"name\": \"H+\", \"label_x\": 2891.0, \"node_type\": \"metabolite\", \"y\": 3220.0, \"x\": 2871.0, \"bigg_id\": \"h_c\", \"label_y\": 3220.0}, \"1576609\": {\"node_is_primary\": false, \"name\": \"Coenzyme A\", \"label_x\": 2800.0, \"node_type\": \"metabolite\", \"y\": 3168.0, \"x\": 2780.0, \"bigg_id\": \"coa_c\", \"label_y\": 3168.0}, \"1576808\": {\"node_is_primary\": false, \"name\": \"H+\", \"label_x\": 4874.1728515625, \"node_type\": \"metabolite\", \"y\": 2570.0, \"x\": 4850.0, \"bigg_id\": \"h_e\", \"label_y\": 2601.280517578125}, \"1576809\": {\"node_is_primary\": true, \"name\": \"Nicotinamide adenine dinucleotide\", \"label_x\": 4356.72412109375, \"node_type\": \"metabolite\", \"y\": 2646.77685546875, \"x\": 4449.00732421875, \"bigg_id\": \"nad_c\", \"label_y\": 2646.95849609375}, \"1576516\": {\"node_is_primary\": false, \"name\": \"H2O\", \"label_x\": 1315.0, \"node_type\": \"metabolite\", \"y\": 3375.0, \"x\": 1295.0, \"bigg_id\": \"h2o_c\", \"label_y\": 3375.0}, \"1576517\": {\"node_is_primary\": true, \"name\": \"Phosphoenolpyruvate\", \"label_x\": 1085.0, \"node_type\": \"metabolite\", \"y\": 3375.0, \"x\": 1055.0, \"bigg_id\": \"pep_c\", \"label_y\": 3355.0}, \"1576514\": {\"node_is_primary\": true, \"name\": \"Acetyl-CoA\", \"label_x\": 1695.0, \"node_type\": \"metabolite\", \"y\": 3945.0, \"x\": 1715.0, \"bigg_id\": \"accoa_c\", \"label_y\": 3965.0}, \"1576515\": {\"node_is_primary\": false, \"name\": \"Nicotinamide adenine dinucleotide - reduced\", \"label_x\": 1647.545654296875, \"node_type\": \"metabolite\", \"y\": 3885.0, \"x\": 1655.0, \"bigg_id\": \"nadh_c\", \"label_y\": 3855.4794921875}, \"1576512\": {\"node_is_primary\": false, \"name\": \"Coenzyme A\", \"label_x\": 1287.066162109375, \"node_type\": \"metabolite\", \"y\": 3905.0, \"x\": 1315.0, \"bigg_id\": \"coa_c\", \"label_y\": 3887.545654296875}, \"1576513\": {\"node_is_primary\": false, \"name\": \"CO2\", \"label_x\": 1595.0, \"node_type\": \"metabolite\", \"y\": 3855.0, \"x\": 1605.0, \"bigg_id\": \"co2_c\", \"label_y\": 3835.0}, \"1576510\": {\"node_is_primary\": false, \"name\": \"Nicotinamide adenine dinucleotide\", \"label_x\": 1394.189697265625, \"node_type\": \"metabolite\", \"y\": 3855.0, \"x\": 1365.0, \"bigg_id\": \"nad_c\", \"label_y\": 3851.826416015625}, \"1576511\": {\"node_is_primary\": true, \"name\": \"Pyruvate\", \"label_x\": 1025.0, \"node_type\": \"metabolite\", \"y\": 3945.0, \"x\": 1055.0, \"bigg_id\": \"pyr_c\", \"label_y\": 3965.0}, \"1576982\": {\"y\": 4275.0, \"x\": 1715.0, \"node_type\": \"midmarker\"}, \"1576691\": {\"node_is_primary\": false, \"name\": \"CO2\", \"label_x\": 2280.0, \"node_type\": \"metabolite\", \"y\": 3510.0, \"x\": 2260.0, \"bigg_id\": \"co2_c\", \"label_y\": 3510.0}, \"1576690\": {\"node_is_primary\": false, \"name\": \"Nicotinamide adenine dinucleotide phosphate\", \"label_x\": 2450.0, \"node_type\": \"metabolite\", \"y\": 3370.0, \"x\": 2430.0, \"bigg_id\": \"nadp_c\", \"label_y\": 3370.0}, \"1576518\": {\"node_is_primary\": false, \"name\": \"CO2\", \"label_x\": 1215.0, \"node_type\": \"metabolite\", \"y\": 3345.0, \"x\": 1205.0, \"bigg_id\": \"co2_c\", \"label_y\": 3325.0}, \"1576519\": {\"node_is_primary\": false, \"name\": \"H+\", \"label_x\": 1635.0, \"node_type\": \"metabolite\", \"y\": 3475.0, \"x\": 1615.0, \"bigg_id\": \"h_c\", \"label_y\": 3475.0}, \"1577078\": {\"node_is_primary\": false, \"name\": \"L-Glutamate\", \"label_x\": 5555.015625, \"node_type\": \"metabolite\", \"y\": 4651.92236328125, \"x\": 5534.521484375, \"bigg_id\": \"glu__L_c\", \"label_y\": 4645.02197265625}, \"1577079\": {\"node_is_primary\": false, \"name\": \"Glyceraldehyde 3-phosphate\", \"label_x\": 5534.87109375, \"node_type\": \"metabolite\", \"y\": 4517.58447265625, \"x\": 5512.26513671875, \"bigg_id\": \"g3p_c\", \"label_y\": 4508.57177734375}, \"1577072\": {\"node_is_primary\": false, \"name\": \"H+\", \"label_x\": 1123.4132080078125, \"node_type\": \"metabolite\", \"y\": 4416.7353515625, \"x\": 1093.4132080078125, \"bigg_id\": \"h_c\", \"label_y\": 4426.7353515625}, \"1577073\": {\"node_is_primary\": false, \"name\": \"H2O\", \"label_x\": 5539.50146484375, \"node_type\": \"metabolite\", \"y\": 4574.02490234375, \"x\": 5527.4580078125, \"bigg_id\": \"h2o_c\", \"label_y\": 4562.89990234375}, \"1577071\": {\"node_is_primary\": false, \"name\": \"H+\", \"label_x\": 1125.0, \"node_type\": \"metabolite\", \"y\": 4750.98193359375, \"x\": 1095.0, \"bigg_id\": \"h_e\", \"label_y\": 4760.98193359375}, \"1577076\": {\"y\": 4757.48193359375, \"x\": 5334.0517578125, \"node_type\": \"multimarker\"}, \"1577077\": {\"node_is_primary\": false, \"name\": \"ADP\", \"label_x\": 5529.1103515625, \"node_type\": \"metabolite\", \"y\": 4924.5068359375, \"x\": 5503.33544921875, \"bigg_id\": \"adp_c\", \"label_y\": 4931.337890625}, \"1577074\": {\"y\": 4717.48193359375, \"x\": 5334.0517578125, \"node_type\": \"multimarker\"}, \"1577075\": {\"y\": 4737.48193359375, \"x\": 5334.0517578125, \"node_type\": \"midmarker\"}, \"1576677\": {\"node_is_primary\": false, \"name\": \"Nicotinamide adenine dinucleotide phosphate - reduced\", \"label_x\": 3935.431640625, \"node_type\": \"metabolite\", \"y\": 3558.0, \"x\": 3992.0, \"bigg_id\": \"nadph_c\", \"label_y\": 3532.22314453125}, \"1576676\": {\"node_is_primary\": false, \"name\": \"Nicotinamide adenine dinucleotide phosphate\", \"label_x\": 4142.0, \"node_type\": \"metabolite\", \"y\": 3558.0, \"x\": 4142.0, \"bigg_id\": \"nadp_c\", \"label_y\": 3528.0}, \"1576675\": {\"node_is_primary\": false, \"name\": \"H2O\", \"label_x\": 4210.0, \"node_type\": \"metabolite\", \"y\": 3558.0, \"x\": 4192.0, \"bigg_id\": \"h2o_c\", \"label_y\": 3530.0}, \"1576674\": {\"node_is_primary\": false, \"name\": \"H+\", \"label_x\": 4456.0, \"node_type\": \"metabolite\", \"y\": 3087.0, \"x\": 4456.0, \"bigg_id\": \"h_c\", \"label_y\": 3109.0}, \"1576673\": {\"node_is_primary\": false, \"name\": \"H+\", \"label_x\": 4836.0, \"node_type\": \"metabolite\", \"y\": 3087.0, \"x\": 4836.0, \"bigg_id\": \"h_e\", \"label_y\": 3115.0}, \"1576672\": {\"node_is_primary\": false, \"name\": \"H+\", \"label_x\": 1169.0, \"node_type\": \"metabolite\", \"y\": 2465.0, \"x\": 1145.0, \"bigg_id\": \"h_c\", \"label_y\": 2465.0}, \"1576671\": {\"node_is_primary\": false, \"name\": \"Nicotinamide adenine dinucleotide - reduced\", \"label_x\": 1165.0, \"node_type\": \"metabolite\", \"y\": 2515.0, \"x\": 1145.0, \"bigg_id\": \"nadh_c\", \"label_y\": 2515.0}, \"1576670\": {\"node_is_primary\": false, \"name\": \"Phosphate\", \"label_x\": 1165.0, \"node_type\": \"metabolite\", \"y\": 2315.0, \"x\": 1145.0, \"bigg_id\": \"pi_c\", \"label_y\": 2315.0}, \"1576679\": {\"node_is_primary\": false, \"name\": \"H+\", \"label_x\": 4050.0, \"node_type\": \"metabolite\", \"y\": 3558.0, \"x\": 4042.0, \"bigg_id\": \"h_c\", \"label_y\": 3530.0}, \"1576678\": {\"node_is_primary\": false, \"name\": \"Ammonium\", \"label_x\": 3856.820068359375, \"node_type\": \"metabolite\", \"y\": 3558.0, \"x\": 3942.0, \"bigg_id\": \"nh4_c\", \"label_y\": 3573.222900390625}, \"1576938\": {\"y\": 4158.0, \"x\": 4415.0, \"node_type\": \"multimarker\"}, \"1576939\": {\"y\": 4158.0, \"x\": 4435.0, \"node_type\": \"midmarker\"}, \"1576930\": {\"y\": 1900.0, \"x\": 4630.0, \"node_type\": \"multimarker\"}, \"1576931\": {\"y\": 1425.0, \"x\": 2305.0, \"node_type\": \"midmarker\"}, \"1576932\": {\"y\": 3341.0, \"x\": 2843.0, \"node_type\": \"multimarker\"}, \"1576933\": {\"y\": 3445.0, \"x\": 2994.0, \"node_type\": \"multimarker\"}, \"1576934\": {\"y\": 3388.0, \"x\": 2911.0, \"node_type\": \"midmarker\"}, \"1576935\": {\"y\": 4065.0, \"x\": 1715.0, \"node_type\": \"multimarker\"}, \"1576936\": {\"y\": 4105.0, \"x\": 1715.0, \"node_type\": \"multimarker\"}, \"1576937\": {\"y\": 4085.0, \"x\": 1715.0, \"node_type\": \"midmarker\"}, \"1577009\": {\"y\": 470.0, \"x\": 2840.0, \"node_type\": \"midmarker\"}, \"1577008\": {\"y\": 2395.0, \"x\": 1055.0, \"node_type\": \"midmarker\"}, \"1577007\": {\"y\": 2435.0, \"x\": 1055.0, \"node_type\": \"multimarker\"}, \"1577006\": {\"y\": 2345.0, \"x\": 1055.0, \"node_type\": \"multimarker\"}, \"1577005\": {\"y\": 1265.0, \"x\": 1617.0, \"node_type\": \"multimarker\"}, \"1577004\": {\"y\": 1265.0, \"x\": 1657.0, \"node_type\": \"multimarker\"}, \"1577003\": {\"y\": 1265.0, \"x\": 1637.0, \"node_type\": \"midmarker\"}, \"1577002\": {\"y\": 2846.0, \"x\": 4560.0, \"node_type\": \"multimarker\"}, \"1577001\": {\"y\": 2846.0, \"x\": 4770.0, \"node_type\": \"multimarker\"}, \"1577000\": {\"y\": 2846.0, \"x\": 4667.0, \"node_type\": \"midmarker\"}, \"1577094\": {\"node_is_primary\": false, \"name\": \"Phosphoenolpyruvate\", \"label_x\": 4379.6201171875, \"node_type\": \"metabolite\", \"y\": 4629.59423828125, \"x\": 4414.0517578125, \"bigg_id\": \"pep_c\", \"label_y\": 4607.90673828125}, \"1577095\": {\"node_is_primary\": false, \"name\": \"L-Glutamine\", \"label_x\": 4253.14453125, \"node_type\": \"metabolite\", \"y\": 4650.7197265625, \"x\": 4332.9951171875, \"bigg_id\": \"gln__L_c\", \"label_y\": 4627.97607421875}, \"1577096\": {\"node_is_primary\": false, \"name\": \"Nicotinamide adenine dinucleotide phosphate\", \"label_x\": 4968.08447265625, \"node_type\": \"metabolite\", \"y\": 4864.818359375, \"x\": 5028.71435546875, \"bigg_id\": \"nadp_c\", \"label_y\": 4902.36181640625}, \"1577097\": {\"node_is_primary\": false, \"name\": \"Nicotinamide adenine dinucleotide phosphate - reduced\", \"label_x\": 4203.775390625, \"node_type\": \"metabolite\", \"y\": 4682.4072265625, \"x\": 4267.78271484375, \"bigg_id\": \"nadph_c\", \"label_y\": 4664.94482421875}, \"1577090\": {\"node_is_primary\": false, \"name\": \"Nicotinamide adenine dinucleotide - reduced\", \"label_x\": 5078.88623046875, \"node_type\": \"metabolite\", \"y\": 4897.1259765625, \"x\": 5134.0517578125, \"bigg_id\": \"nadh_c\", \"label_y\": 4936.322265625}, \"1577091\": {\"node_is_primary\": false, \"name\": \"2-Oxoglutarate\", \"label_x\": 5497.31591796875, \"node_type\": \"metabolite\", \"y\": 4979.51025390625, \"x\": 5481.046875, \"bigg_id\": \"akg_c\", \"label_y\": 5004.2978515625}, \"1577092\": {\"node_is_primary\": false, \"name\": \"Acetyl-CoA\", \"label_x\": 4556.52001953125, \"node_type\": \"metabolite\", \"y\": 4576.78173828125, \"x\": 4601.51416015625, \"bigg_id\": \"accoa_c\", \"label_y\": 4549.81298828125}, \"1577093\": {\"node_is_primary\": false, \"name\": \"3-Phospho-D-glycerate\", \"label_x\": 4459.6201171875, \"node_type\": \"metabolite\", \"y\": 4602.1318359375, \"x\": 4508.83935546875, \"bigg_id\": \"3pg_c\", \"label_y\": 4576.21923828125}, \"1577098\": {\"node_is_primary\": false, \"name\": \"Phosphate\", \"label_x\": 4884.8583984375, \"node_type\": \"metabolite\", \"y\": 4831.37548828125, \"x\": 4933.43505859375, \"bigg_id\": \"pi_c\", \"label_y\": 4859.1142578125}, \"1577099\": {\"y\": 4023.6457547875243, \"x\": 3055.6239109998846, \"node_type\": \"multimarker\"}, \"1576529\": {\"node_is_primary\": true, \"name\": \"D-Fructose 1,6-bisphosphate\", \"label_x\": 1096.404296875, \"node_type\": \"metabolite\", \"y\": 1925.0, \"x\": 1055.0, \"bigg_id\": \"fdp_c\", \"label_y\": 1928.173583984375}, \"1576528\": {\"node_is_primary\": false, \"name\": \"H2O\", \"label_x\": 672.9427490234375, \"node_type\": \"metabolite\", \"y\": 1855.0, \"x\": 765.0, \"bigg_id\": \"h2o_c\", \"label_y\": 1861.3470458984375}, \"1576527\": {\"node_is_primary\": true, \"name\": \"Ammonium\", \"label_x\": 4019.0, \"node_type\": \"metabolite\", \"y\": 4441.0, \"x\": 3989.0, \"bigg_id\": \"nh4_c\", \"label_y\": 4441.0}, \"1576526\": {\"node_is_primary\": true, \"name\": \"Ammonium\", \"label_x\": 4019.0, \"node_type\": \"metabolite\", \"y\": 4757.0, \"x\": 3989.0, \"bigg_id\": \"nh4_e\", \"label_y\": 4757.0}, \"1576525\": {\"node_is_primary\": true, \"name\": \"D-Fructose 6-phosphate\", \"label_x\": 1075.0, \"node_type\": \"metabolite\", \"y\": 1545.0, \"x\": 1055.0, \"bigg_id\": \"f6p_c\", \"label_y\": 1525.0}, \"1576524\": {\"node_is_primary\": true, \"name\": \"D-Glucose 6-phosphate\", \"label_x\": 1075.0, \"node_type\": \"metabolite\", \"y\": 1265.0, \"x\": 1055.0, \"bigg_id\": \"g6p_c\", \"label_y\": 1245.0}, \"1576523\": {\"node_is_primary\": false, \"name\": \"H2O\", \"label_x\": 886.289794921875, \"node_type\": \"metabolite\", \"y\": 3325.0, \"x\": 965.0, \"bigg_id\": \"h2o_c\", \"label_y\": 3307.958740234375}, \"1576522\": {\"node_is_primary\": true, \"name\": \"D-Glycerate 2-phosphate\", \"label_x\": 1093.0, \"node_type\": \"metabolite\", \"y\": 3125.0, \"x\": 1055.0, \"bigg_id\": \"2pg_c\", \"label_y\": 3125.0}, \"1576521\": {\"node_is_primary\": true, \"name\": \"Oxaloacetate\", \"label_x\": 2692.0, \"node_type\": \"metabolite\", \"y\": 3724.0, \"x\": 2659.0, \"bigg_id\": \"oaa_c\", \"label_y\": 3724.0}, \"1576520\": {\"node_is_primary\": false, \"name\": \"Phosphate\", \"label_x\": 1685.0, \"node_type\": \"metabolite\", \"y\": 3515.0, \"x\": 1665.0, \"bigg_id\": \"pi_c\", \"label_y\": 3515.0}, \"1576488\": {\"node_is_primary\": false, \"name\": \"ADP\", \"label_x\": 1165.0, \"node_type\": \"metabolite\", \"y\": 2635.0, \"x\": 1145.0, \"bigg_id\": \"adp_c\", \"label_y\": 2635.0}, \"1576841\": {\"y\": 820.0, \"x\": 3510.0, \"node_type\": \"midmarker\"}, \"1576842\": {\"y\": 800.0, \"x\": 3510.0, \"node_type\": \"multimarker\"}, \"1576843\": {\"y\": 870.0, \"x\": 3510.0, \"node_type\": \"multimarker\"}, \"1576844\": {\"y\": 3022.0, \"x\": 2727.0, \"node_type\": \"multimarker\"}, \"1576845\": {\"y\": 3076.0, \"x\": 2684.0, \"node_type\": \"midmarker\"}, \"1576846\": {\"y\": 3846.0, \"x\": 3606.0, \"node_type\": \"midmarker\"}, \"1576847\": {\"y\": 3923.0, \"x\": 3512.0, \"node_type\": \"multimarker\"}, \"1576848\": {\"y\": 3781.0, \"x\": 3663.0, \"node_type\": \"multimarker\"}, \"1576849\": {\"y\": 3945.0, \"x\": 1430.0, \"node_type\": \"multimarker\"}, \"1576485\": {\"node_is_primary\": false, \"name\": \"ATP\", \"label_x\": 1165.0, \"node_type\": \"metabolite\", \"y\": 2805.0, \"x\": 1145.0, \"bigg_id\": \"atp_c\", \"label_y\": 2805.0}, \"1576486\": {\"node_is_primary\": true, \"name\": \"3-Phospho-D-glycerate\", \"label_x\": 1085.0, \"node_type\": \"metabolite\", \"y\": 2875.0, \"x\": 1055.0, \"bigg_id\": \"3pg_c\", \"label_y\": 2875.0}, \"1576487\": {\"node_is_primary\": true, \"name\": \"3-Phospho-D-glyceroyl phosphate\", \"label_x\": 1085.0, \"node_type\": \"metabolite\", \"y\": 2565.0, \"x\": 1055.0, \"bigg_id\": \"13dpg_c\", \"label_y\": 2565.0}, \"1576558\": {\"node_is_primary\": true, \"name\": \"D-Xylulose 5-phosphate\", \"label_x\": 1944.76025390625, \"node_type\": \"metabolite\", \"y\": 1555.0, \"x\": 1945.0, \"bigg_id\": \"xu5p__D_c\", \"label_y\": 1599.5205078125}, \"1576559\": {\"node_is_primary\": true, \"name\": \"H+\", \"label_x\": 4867.7265625, \"node_type\": \"metabolite\", \"y\": 2229.0, \"x\": 4850.0, \"bigg_id\": \"h_e\", \"label_y\": 2273.503662109375}, \"1576552\": {\"node_is_primary\": true, \"name\": \"L-Glutamate\", \"label_x\": 4883.0, \"node_type\": \"metabolite\", \"y\": 3634.0, \"x\": 4883.0, \"bigg_id\": \"glu__L_e\", \"label_y\": 3604.0}, \"1576553\": {\"node_is_primary\": false, \"name\": \"H+\", \"label_x\": 4857.23046875, \"node_type\": \"metabolite\", \"y\": 3703.0, \"x\": 4825.0, \"bigg_id\": \"h_e\", \"label_y\": 3723.0}, \"1576550\": {\"node_is_primary\": false, \"name\": \"ADP\", \"label_x\": 903.744140625, \"node_type\": \"metabolite\", \"y\": 3555.0, \"x\": 965.0, \"bigg_id\": \"adp_c\", \"label_y\": 3528.02490234375}, \"1576551\": {\"node_is_primary\": false, \"name\": \"ATP\", \"label_x\": 929.1323852539062, \"node_type\": \"metabolite\", \"y\": 3815.0, \"x\": 965.0, \"bigg_id\": \"atp_c\", \"label_y\": 3794.372314453125}, \"1576556\": {\"node_is_primary\": true, \"name\": \"D-Lactate\", \"label_x\": 1088.470458984375, \"node_type\": \"metabolite\", \"y\": 4835.0, \"x\": 1055.0, \"bigg_id\": \"lac__D_e\", \"label_y\": 4857.21484375}, \"1576557\": {\"node_is_primary\": true, \"name\": \"Pyruvate\", \"label_x\": 249.61181640625, \"node_type\": \"metabolite\", \"y\": 3945.0, \"x\": 275.0, \"bigg_id\": \"pyr_e\", \"label_y\": 3994.041015625}, \"1576554\": {\"node_is_primary\": true, \"name\": \"L-Glutamate\", \"label_x\": 4221.2158203125, \"node_type\": \"metabolite\", \"y\": 3632.0, \"x\": 4248.0, \"bigg_id\": \"glu__L_c\", \"label_y\": 3601.0}, \"1576555\": {\"node_is_primary\": false, \"name\": \"H+\", \"label_x\": 4503.1796875, \"node_type\": \"metabolite\", \"y\": 3688.0, \"x\": 4478.0, \"bigg_id\": \"h_c\", \"label_y\": 3696.834716796875}, \"1576639\": {\"node_is_primary\": true, \"name\": \"H2O\", \"label_x\": 3287.0, \"node_type\": \"metabolite\", \"y\": 4754.0, \"x\": 3257.0, \"bigg_id\": \"h2o_e\", \"label_y\": 4754.0}, \"1576638\": {\"node_is_primary\": false, \"name\": \"H+\", \"label_x\": 2692.0, \"node_type\": \"metabolite\", \"y\": 3510.0, \"x\": 2660.0, \"bigg_id\": \"h_c\", \"label_y\": 3510.0}, \"1576633\": {\"node_is_primary\": false, \"name\": \"Nicotinamide adenine dinucleotide\", \"label_x\": 935.0, \"node_type\": \"metabolite\", \"y\": 4255.0, \"x\": 955.0, \"bigg_id\": \"nad_c\", \"label_y\": 4255.0}, \"1576632\": {\"node_is_primary\": false, \"name\": \"H+\", \"label_x\": 4305.0, \"node_type\": \"metabolite\", \"y\": 1380.0, \"x\": 4285.0, \"bigg_id\": \"h_c\", \"label_y\": 1380.0}, \"1576631\": {\"node_is_primary\": false, \"name\": \"Phosphate\", \"label_x\": 4305.0, \"node_type\": \"metabolite\", \"y\": 1450.0, \"x\": 4285.0, \"bigg_id\": \"pi_c\", \"label_y\": 1450.0}, \"1576630\": {\"node_is_primary\": false, \"name\": \"H2O\", \"label_x\": 4295.0, \"node_type\": \"metabolite\", \"y\": 1140.0, \"x\": 4275.0, \"bigg_id\": \"h2o_c\", \"label_y\": 1140.0}, \"1576637\": {\"node_is_primary\": false, \"name\": \"Nicotinamide adenine dinucleotide - reduced\", \"label_x\": 2710.0, \"node_type\": \"metabolite\", \"y\": 3585.0, \"x\": 2680.0, \"bigg_id\": \"nadh_c\", \"label_y\": 3590.0}, \"1576636\": {\"node_is_primary\": false, \"name\": \"Nicotinamide adenine dinucleotide\", \"label_x\": 2690.0, \"node_type\": \"metabolite\", \"y\": 3310.0, \"x\": 2670.0, \"bigg_id\": \"nad_c\", \"label_y\": 3320.0}, \"1576635\": {\"node_is_primary\": false, \"name\": \"H+\", \"label_x\": 935.0, \"node_type\": \"metabolite\", \"y\": 4095.0, \"x\": 955.0, \"bigg_id\": \"h_c\", \"label_y\": 4095.0}, \"1576634\": {\"node_is_primary\": false, \"name\": \"Nicotinamide adenine dinucleotide - reduced\", \"label_x\": 935.0, \"node_type\": \"metabolite\", \"y\": 4045.0, \"x\": 955.0, \"bigg_id\": \"nadh_c\", \"label_y\": 4045.0}, \"1577043\": {\"y\": 4071.0, \"x\": 2342.0, \"node_type\": \"multimarker\"}, \"1577042\": {\"y\": 4086.0, \"x\": 2356.0, \"node_type\": \"midmarker\"}, \"1577041\": {\"y\": 4100.0, \"x\": 2371.0, \"node_type\": \"multimarker\"}, \"1577047\": {\"y\": 4432.0, \"x\": 1460.0, \"node_type\": \"midmarker\"}, \"1577046\": {\"y\": 4470.0, \"x\": 1360.0, \"node_type\": \"multimarker\"}, \"1577045\": {\"y\": 4600.0, \"x\": 1360.0, \"node_type\": \"midmarker\"}, \"1577044\": {\"y\": 4730.0, \"x\": 1360.0, \"node_type\": \"multimarker\"}, \"1577049\": {\"y\": 2600.0, \"x\": 3110.0, \"node_type\": \"midmarker\"}, \"1577048\": {\"y\": 2600.0, \"x\": 3080.0, \"node_type\": \"multimarker\"}, \"1576941\": {\"y\": 3330.0, \"x\": 2310.0, \"node_type\": \"multimarker\"}, \"1576940\": {\"y\": 4158.0, \"x\": 4455.0, \"node_type\": \"multimarker\"}, \"1576943\": {\"y\": 3390.0, \"x\": 2190.0, \"node_type\": \"multimarker\"}, \"1576942\": {\"y\": 3360.0, \"x\": 2250.0, \"node_type\": \"midmarker\"}, \"1576945\": {\"y\": 1265.0, \"x\": 1307.0, \"node_type\": \"midmarker\"}, \"1576944\": {\"y\": 1265.0, \"x\": 1327.0, \"node_type\": \"multimarker\"}, \"1576947\": {\"y\": 4935.0, \"x\": 1715.0, \"node_type\": \"midmarker\"}, \"1576946\": {\"y\": 1265.0, \"x\": 1287.0, \"node_type\": \"multimarker\"}, \"1576949\": {\"y\": 3815.0, \"x\": 4247.0, \"node_type\": \"multimarker\"}, \"1576628\": {\"node_is_primary\": false, \"name\": \"H2O\", \"label_x\": 4175.82763671875, \"node_type\": \"metabolite\", \"y\": 3940.0, \"x\": 4201.0, \"bigg_id\": \"h2o_c\", \"label_y\": 3972.89208984375}, \"1576629\": {\"node_is_primary\": false, \"name\": \"Ammonium\", \"label_x\": 4160.99267578125, \"node_type\": \"metabolite\", \"y\": 3762.0, \"x\": 4193.0, \"bigg_id\": \"nh4_c\", \"label_y\": 3793.22314453125}, \"1576888\": {\"y\": 3020.0, \"x\": 3631.0, \"node_type\": \"midmarker\"}, \"1576889\": {\"y\": 2976.0, \"x\": 3588.0, \"node_type\": \"multimarker\"}, \"1576983\": {\"y\": 4255.0, \"x\": 1715.0, \"node_type\": \"multimarker\"}, \"1576620\": {\"node_is_primary\": false, \"name\": \"Nicotinamide adenine dinucleotide\", \"label_x\": 2380.0, \"node_type\": \"metabolite\", \"y\": 3220.0, \"x\": 2360.0, \"bigg_id\": \"nad_c\", \"label_y\": 3220.0}, \"1576621\": {\"node_is_primary\": false, \"name\": \"CO2\", \"label_x\": 1979.703125, \"node_type\": \"metabolite\", \"y\": 3420.0, \"x\": 2060.0, \"bigg_id\": \"co2_c\", \"label_y\": 3415.23974609375}, \"1576839\": {\"y\": 1265.0, \"x\": 1977.0, \"node_type\": \"multimarker\"}, \"1576838\": {\"y\": 1265.0, \"x\": 1937.0, \"node_type\": \"multimarker\"}, \"1576831\": {\"node_is_primary\": false, \"name\": \"H+\", \"label_x\": 2460.1826171875, \"node_type\": \"metabolite\", \"y\": 700.0, \"x\": 2510.0, \"bigg_id\": \"h_e\", \"label_y\": 722.5455932617188}, \"1576830\": {\"node_is_primary\": false, \"name\": \"Ubiquinol-8\", \"label_x\": 3041.5869140625, \"node_type\": \"metabolite\", \"y\": 2740.0, \"x\": 3020.0, \"bigg_id\": \"q8h2_c\", \"label_y\": 2740.0}, \"1576833\": {\"node_is_primary\": false, \"name\": \"H+\", \"label_x\": 1228.8927001953125, \"node_type\": \"metabolite\", \"y\": 4770.0, \"x\": 1270.0, \"bigg_id\": \"h_e\", \"label_y\": 4750.95849609375}, \"1576832\": {\"node_is_primary\": false, \"name\": \"H+\", \"label_x\": 1950.0, \"node_type\": \"metabolite\", \"y\": 3860.0, \"x\": 1950.0, \"bigg_id\": \"h_c\", \"label_y\": 3840.0}, \"1576835\": {\"y\": 2775.0, \"x\": 1055.0, \"node_type\": \"multimarker\"}, \"1576834\": {\"y\": 2665.0, \"x\": 1055.0, \"node_type\": \"multimarker\"}, \"1576837\": {\"y\": 1265.0, \"x\": 1957.0, \"node_type\": \"midmarker\"}, \"1576836\": {\"y\": 2725.0, \"x\": 1055.0, \"node_type\": \"midmarker\"}, \"1576688\": {\"node_is_primary\": false, \"name\": \"H+\", \"label_x\": 351.3470764160156, \"node_type\": \"metabolite\", \"y\": 4045.0, \"x\": 345.0, \"bigg_id\": \"h_e\", \"label_y\": 4072.933837890625}, \"1576689\": {\"node_is_primary\": false, \"name\": \"H+\", \"label_x\": 675.0, \"node_type\": \"metabolite\", \"y\": 4045.0, \"x\": 675.0, \"bigg_id\": \"h_c\", \"label_y\": 4077.694091796875}, \"1576567\": {\"node_is_primary\": false, \"name\": \"Coenzyme A\", \"label_x\": 3448.892578125, \"node_type\": \"metabolite\", \"y\": 2960.0, \"x\": 3460.0, \"bigg_id\": \"coa_c\", \"label_y\": 2991.107421875}, \"1576682\": {\"node_is_primary\": false, \"name\": \"H+\", \"label_x\": 4398.884765625, \"node_type\": \"metabolite\", \"y\": 1150.0, \"x\": 4415.0, \"bigg_id\": \"h_c\", \"label_y\": 1187.7266845703125}, \"1576683\": {\"node_is_primary\": false, \"name\": \"H2O\", \"label_x\": 4482.7265625, \"node_type\": \"metabolite\", \"y\": 1030.0, \"x\": 4482.7265625, \"bigg_id\": \"h2o_c\", \"label_y\": 1010.0}, \"1576680\": {\"node_is_primary\": false, \"name\": \"H+\", \"label_x\": 4865.0, \"node_type\": \"metabolite\", \"y\": 1150.0, \"x\": 4865.0, \"bigg_id\": \"h_e\", \"label_y\": 1180.0}, \"1576568\": {\"node_is_primary\": false, \"name\": \"ATP\", \"label_x\": 3496.826416015625, \"node_type\": \"metabolite\", \"y\": 3030.0, \"x\": 3500.0, \"bigg_id\": \"atp_c\", \"label_y\": 3062.694091796875}, \"1576686\": {\"node_is_primary\": false, \"name\": \"Coenzyme A\", \"label_x\": 2786.826416015625, \"node_type\": \"metabolite\", \"y\": 4091.0, \"x\": 2806.0, \"bigg_id\": \"coa_c\", \"label_y\": 4132.21484375}, \"1576687\": {\"node_is_primary\": false, \"name\": \"H+\", \"label_x\": 2899.041015625, \"node_type\": \"metabolite\", \"y\": 4117.0, \"x\": 2897.0, \"bigg_id\": \"h_c\", \"label_y\": 4155.8671875}, \"1576684\": {\"node_is_primary\": false, \"name\": \"H2O\", \"label_x\": 2599.520751953125, \"node_type\": \"metabolite\", \"y\": 3860.0, \"x\": 2610.0, \"bigg_id\": \"h2o_c\", \"label_y\": 3890.1484375}, \"1576685\": {\"node_is_primary\": true, \"name\": \"Citrate\", \"label_x\": 2972.653076171875, \"node_type\": \"metabolite\", \"y\": 3986.0, \"x\": 2971.0, \"bigg_id\": \"cit_c\", \"label_y\": 3943.1826171875}, \"1576664\": {\"node_is_primary\": false, \"name\": \"H+\", \"label_x\": 4818.7197265625, \"node_type\": \"metabolite\", \"y\": 2921.942138671875, \"x\": 4791.7197265625, \"bigg_id\": \"h_e\", \"label_y\": 2921.942138671875}, \"1576665\": {\"node_is_primary\": false, \"name\": \"H+\", \"label_x\": 4389.423828125, \"node_type\": \"metabolite\", \"y\": 2763.553955078125, \"x\": 4461.380859375, \"bigg_id\": \"h_c\", \"label_y\": 2763.9423828125}, \"1576666\": {\"node_is_primary\": true, \"name\": \"Formate\", \"label_x\": 1500.0, \"node_type\": \"metabolite\", \"y\": 4843.322265625, \"x\": 1460.0, \"bigg_id\": \"for_e\", \"label_y\": 4843.322265625}, \"1576667\": {\"node_is_primary\": false, \"name\": \"H2O\", \"label_x\": 1587.0, \"node_type\": \"metabolite\", \"y\": 1160.0, \"x\": 1587.0, \"bigg_id\": \"h2o_c\", \"label_y\": 1140.0}, \"1576660\": {\"node_is_primary\": false, \"name\": \"H+\", \"label_x\": 1835.0, \"node_type\": \"metabolite\", \"y\": 4775.0, \"x\": 1815.0, \"bigg_id\": \"h_e\", \"label_y\": 4775.0}, \"1576661\": {\"node_is_primary\": false, \"name\": \"H+\", \"label_x\": 1839.76025390625, \"node_type\": \"metabolite\", \"y\": 4452.45458984375, \"x\": 1819.76025390625, \"bigg_id\": \"h_c\", \"label_y\": 4452.45458984375}, \"1576662\": {\"node_is_primary\": false, \"name\": \"Phosphoenolpyruvate\", \"label_x\": 877.8765258789062, \"node_type\": \"metabolite\", \"y\": 974.4060668945312, \"x\": 957.694091796875, \"bigg_id\": \"pep_c\", \"label_y\": 976.9517211914062}, \"1576663\": {\"node_is_primary\": false, \"name\": \"Pyruvate\", \"label_x\": 1193.082275390625, \"node_type\": \"metabolite\", \"y\": 972.8192138671875, \"x\": 1161.3470458984375, \"bigg_id\": \"pyr_c\", \"label_y\": 986.47216796875}, \"1576668\": {\"node_is_primary\": false, \"name\": \"H+\", \"label_x\": 1687.0, \"node_type\": \"metabolite\", \"y\": 1160.0, \"x\": 1687.0, \"bigg_id\": \"h_c\", \"label_y\": 1140.0}, \"1576669\": {\"node_is_primary\": false, \"name\": \"Nicotinamide adenine dinucleotide\", \"label_x\": 1165.0, \"node_type\": \"metabolite\", \"y\": 2265.0, \"x\": 1145.0, \"bigg_id\": \"nad_c\", \"label_y\": 2265.0}, \"1576905\": {\"y\": 1270.0, \"x\": 3470.0, \"node_type\": \"multimarker\"}, \"1576907\": {\"y\": 1270.0, \"x\": 3520.0, \"node_type\": \"midmarker\"}, \"1576906\": {\"y\": 1270.0, \"x\": 3570.0, \"node_type\": \"multimarker\"}, \"1576901\": {\"y\": 3849.0, \"x\": 4364.0, \"node_type\": \"multimarker\"}, \"1576900\": {\"y\": 3869.0, \"x\": 4364.0, \"node_type\": \"midmarker\"}, \"1576909\": {\"y\": 3402.0, \"x\": 3783.0, \"node_type\": \"midmarker\"}, \"1576908\": {\"y\": 3480.0, \"x\": 3780.0, \"node_type\": \"multimarker\"}, \"1577018\": {\"y\": 1150.0, \"x\": 4625.0, \"node_type\": \"multimarker\"}, \"1577019\": {\"y\": 1150.0, \"x\": 4665.0, \"node_type\": \"midmarker\"}, \"1577014\": {\"y\": 3632.0, \"x\": 4078.0, \"node_type\": \"multimarker\"}, \"1577015\": {\"y\": 3632.0, \"x\": 4098.0, \"node_type\": \"midmarker\"}, \"1577016\": {\"y\": 3632.0, \"x\": 4118.0, \"node_type\": \"multimarker\"}, \"1577017\": {\"y\": 1150.0, \"x\": 4705.0, \"node_type\": \"multimarker\"}, \"1577011\": {\"y\": 3027.0, \"x\": 4666.0, \"node_type\": \"midmarker\"}, \"1577012\": {\"y\": 3027.0, \"x\": 4536.0, \"node_type\": \"multimarker\"}, \"1577013\": {\"y\": 3027.0, \"x\": 4796.0, \"node_type\": \"multimarker\"}, \"1576840\": {\"y\": 1660.0, \"x\": 4660.0, \"node_type\": \"midmarker\"}, \"1576489\": {\"node_is_primary\": false, \"name\": \"Nicotinamide adenine dinucleotide phosphate\", \"label_x\": 1907.0, \"node_type\": \"metabolite\", \"y\": 1165.0, \"x\": 1907.0, \"bigg_id\": \"nadp_c\", \"label_y\": 1145.0}, \"1576539\": {\"node_is_primary\": true, \"name\": \"Ubiquinone-8\", \"label_x\": 4686.61181640625, \"node_type\": \"metabolite\", \"y\": 2215.0361328125, \"x\": 4758.67626953125, \"bigg_id\": \"q8_c\", \"label_y\": 2192.47509765625}, \"1576534\": {\"node_is_primary\": true, \"name\": \"ATP\", \"label_x\": 4215.0, \"node_type\": \"metabolite\", \"y\": 1040.0, \"x\": 4215.0, \"bigg_id\": \"atp_c\", \"label_y\": 1010.0}, \"1576535\": {\"node_is_primary\": true, \"name\": \"AMP\", \"label_x\": 4033.388427734375, \"node_type\": \"metabolite\", \"y\": 1070.0, \"x\": 4065.0, \"bigg_id\": \"amp_c\", \"label_y\": 1030.661865234375}, \"1576536\": {\"node_is_primary\": true, \"name\": \"ADP\", \"label_x\": 4196.611328125, \"node_type\": \"metabolite\", \"y\": 1510.0, \"x\": 4215.0, \"bigg_id\": \"adp_c\", \"label_y\": 1556.1151123046875}, \"1576537\": {\"node_is_primary\": true, \"name\": \"L-Glutamine\", \"label_x\": 4851.38134765625, \"node_type\": \"metabolite\", \"y\": 4158.0, \"x\": 4882.0, \"bigg_id\": \"gln__L_e\", \"label_y\": 4199.2802734375}, \"1576530\": {\"node_is_primary\": false, \"name\": \"Phosphate\", \"label_x\": 686.744140625, \"node_type\": \"metabolite\", \"y\": 1565.0, \"x\": 755.0, \"bigg_id\": \"pi_c\", \"label_y\": 1563.4132080078125}, \"1576531\": {\"node_is_primary\": true, \"name\": \"Succinate\", \"label_x\": 4950.4462890625, \"node_type\": \"metabolite\", \"y\": 2880.0, \"x\": 4932.0, \"bigg_id\": \"succ_e\", \"label_y\": 2915.280517578125}, \"1576532\": {\"node_is_primary\": true, \"name\": \"Glyoxylate\", \"label_x\": 3211.3271484375, \"node_type\": \"metabolite\", \"y\": 3570.0, \"x\": 3180.0, \"bigg_id\": \"glx_c\", \"label_y\": 3543.267578125}, \"1576533\": {\"node_is_primary\": true, \"name\": \"Succinate\", \"label_x\": 3439.01611328125, \"node_type\": \"metabolite\", \"y\": 2867.0, \"x\": 3420.0, \"bigg_id\": \"succ_c\", \"label_y\": 2838.810302734375}, \"1576879\": {\"y\": 3635.0, \"x\": 4541.0, \"node_type\": \"multimarker\"}, \"1576878\": {\"y\": 3635.0, \"x\": 4645.0, \"node_type\": \"midmarker\"}, \"1576875\": {\"y\": 3655.0, \"x\": 1055.0, \"node_type\": \"multimarker\"}, \"1576874\": {\"y\": 2035.0, \"x\": 2178.0, \"node_type\": \"multimarker\"}, \"1576877\": {\"y\": 3745.0, \"x\": 1055.0, \"node_type\": \"multimarker\"}, \"1576876\": {\"y\": 3705.0, \"x\": 1055.0, \"node_type\": \"midmarker\"}, \"1576871\": {\"y\": 4914.0, \"x\": 3621.0, \"node_type\": \"midmarker\"}, \"1576569\": {\"node_is_primary\": false, \"name\": \"Phosphate\", \"label_x\": 3814.0, \"node_type\": \"metabolite\", \"y\": 3051.0, \"x\": 3794.0, \"bigg_id\": \"pi_c\", \"label_y\": 3051.0}, \"1576873\": {\"y\": 1955.0, \"x\": 2175.0, \"node_type\": \"multimarker\"}, \"1576872\": {\"y\": 1995.0, \"x\": 2178.0, \"node_type\": \"midmarker\"}, \"1576681\": {\"node_is_primary\": false, \"name\": \"Phosphate\", \"label_x\": 4459.546875, \"node_type\": \"metabolite\", \"y\": 1330.0, \"x\": 4495.0, \"bigg_id\": \"pi_c\", \"label_y\": 1293.5970458984375}, \"1576581\": {\"node_is_primary\": false, \"name\": \"Phosphate\", \"label_x\": 4454.0, \"node_type\": \"metabolite\", \"y\": 4054.0, \"x\": 4434.0, \"bigg_id\": \"pi_c\", \"label_y\": 4054.0}, \"1576580\": {\"node_is_primary\": false, \"name\": \"H+\", \"label_x\": 4454.0, \"node_type\": \"metabolite\", \"y\": 4004.0, \"x\": 4434.0, \"bigg_id\": \"h_c\", \"label_y\": 4004.0}, \"1576585\": {\"node_is_primary\": false, \"name\": \"Coenzyme A\", \"label_x\": 3628.99267578125, \"node_type\": \"metabolite\", \"y\": 3506.0, \"x\": 3684.0, \"bigg_id\": \"coa_c\", \"label_y\": 3483.05029296875}, \"1576584\": {\"node_is_primary\": true, \"name\": \"D-Lactate\", \"label_x\": 1089.0, \"node_type\": \"metabolite\", \"y\": 4345.0, \"x\": 1055.0, \"bigg_id\": \"lac__D_c\", \"label_y\": 4349.0}, \"1576587\": {\"node_is_primary\": false, \"name\": \"CO2\", \"label_x\": 3898.0, \"node_type\": \"metabolite\", \"y\": 3285.0, \"x\": 3872.0, \"bigg_id\": \"co2_c\", \"label_y\": 3285.0}, \"1576586\": {\"node_is_primary\": false, \"name\": \"Nicotinamide adenine dinucleotide\", \"label_x\": 3606.208740234375, \"node_type\": \"metabolite\", \"y\": 3558.0, \"x\": 3684.0, \"bigg_id\": \"nad_c\", \"label_y\": 3539.885009765625}, \"1576589\": {\"node_is_primary\": false, \"name\": \"Coenzyme A\", \"label_x\": 1165.0, \"node_type\": \"metabolite\", \"y\": 4045.0, \"x\": 1165.0, \"bigg_id\": \"coa_c\", \"label_y\": 4065.0}, \"1576588\": {\"node_is_primary\": false, \"name\": \"Nicotinamide adenine dinucleotide - reduced\", \"label_x\": 3846.0, \"node_type\": \"metabolite\", \"y\": 3233.0, \"x\": 3820.0, \"bigg_id\": \"nadh_c\", \"label_y\": 3233.0}, \"1576622\": {\"node_is_primary\": false, \"name\": \"Nicotinamide adenine dinucleotide - reduced\", \"label_x\": 1994.9427490234375, \"node_type\": \"metabolite\", \"y\": 3370.0, \"x\": 2080.0, \"bigg_id\": \"nadh_c\", \"label_y\": 3350.958740234375}, \"1576623\": {\"node_is_primary\": false, \"name\": \"Nicotinamide adenine dinucleotide phosphate\", \"label_x\": 1257.0, \"node_type\": \"metabolite\", \"y\": 1160.0, \"x\": 1257.0, \"bigg_id\": \"nadp_c\", \"label_y\": 1140.0}, \"1576624\": {\"node_is_primary\": false, \"name\": \"Nicotinamide adenine dinucleotide phosphate - reduced\", \"label_x\": 1430.0, \"node_type\": \"metabolite\", \"y\": 1160.0, \"x\": 1407.0, \"bigg_id\": \"nadph_c\", \"label_y\": 1140.0}, \"1576625\": {\"node_is_primary\": false, \"name\": \"H+\", \"label_x\": 1357.0, \"node_type\": \"metabolite\", \"y\": 1160.0, \"x\": 1357.0, \"bigg_id\": \"h_c\", \"label_y\": 1140.0}, \"1576626\": {\"node_is_primary\": true, \"name\": \"6-phospho-D-glucono-1,5-lactone\", \"label_x\": 1507.0, \"node_type\": \"metabolite\", \"y\": 1265.0, \"x\": 1507.0, \"bigg_id\": \"6pgl_c\", \"label_y\": 1235.0}, \"1576627\": {\"node_is_primary\": true, \"name\": \"Acetate\", \"label_x\": 1759.0985107421875, \"node_type\": \"metabolite\", \"y\": 4845.0, \"x\": 1715.0, \"bigg_id\": \"ac_e\", \"label_y\": 4848.173828125}, \"1577050\": {\"y\": 2600.0, \"x\": 3140.0, \"node_type\": \"multimarker\"}, \"1577051\": {\"y\": 1361.5867919921875, \"x\": 576.050048828125, \"node_type\": \"multimarker\"}, \"1577052\": {\"y\": 1361.586669921875, \"x\": 640.0, \"node_type\": \"midmarker\"}, \"1577053\": {\"y\": 1361.586669921875, \"x\": 704.5778198242188, \"node_type\": \"multimarker\"}, \"1577054\": {\"y\": 1360.0, \"x\": 182.0, \"node_type\": \"midmarker\"}, \"1577056\": {\"y\": 736.0, \"x\": 2610.0, \"node_type\": \"multimarker\"}, \"1577057\": {\"y\": 756.0, \"x\": 2610.0, \"node_type\": \"midmarker\"}, \"1577058\": {\"y\": 980.0, \"x\": 2610.0, \"node_type\": \"multimarker\"}, \"1577059\": {\"y\": 470.0, \"x\": 2610.0, \"node_type\": \"midmarker\"}, \"1576897\": {\"y\": 1735.0, \"x\": 1695.0, \"node_type\": \"multimarker\"}, \"1576896\": {\"y\": 1735.0, \"x\": 1525.0, \"node_type\": \"midmarker\"}, \"1576895\": {\"y\": 3636.0, \"x\": 5015.0, \"node_type\": \"midmarker\"}, \"1576893\": {\"y\": 1690.0, \"x\": 1055.0, \"node_type\": \"multimarker\"}, \"1576892\": {\"y\": 1775.0, \"x\": 1055.0, \"node_type\": \"multimarker\"}, \"1576891\": {\"y\": 1735.0, \"x\": 1055.0, \"node_type\": \"midmarker\"}, \"1576890\": {\"y\": 3063.0, \"x\": 3666.0, \"node_type\": \"multimarker\"}, \"1576956\": {\"y\": 4225.0, \"x\": 1055.0, \"node_type\": \"multimarker\"}, \"1576957\": {\"y\": 4175.0, \"x\": 1055.0, \"node_type\": \"midmarker\"}, \"1576954\": {\"y\": 1350.0, \"x\": 4215.0, \"node_type\": \"multimarker\"}, \"1576955\": {\"y\": 4125.0, \"x\": 1055.0, \"node_type\": \"multimarker\"}, \"1576952\": {\"y\": 1200.0, \"x\": 4215.0, \"node_type\": \"multimarker\"}, \"1576953\": {\"y\": 1260.0, \"x\": 4215.0, \"node_type\": \"midmarker\"}, \"1576899\": {\"y\": 3889.0, \"x\": 4364.0, \"node_type\": \"multimarker\"}, \"1576898\": {\"y\": 1735.0, \"x\": 1405.0, \"node_type\": \"multimarker\"}, \"1576958\": {\"y\": 3456.0, \"x\": 2578.0, \"node_type\": \"multimarker\"}, \"1576959\": {\"y\": 3404.0, \"x\": 2577.0, \"node_type\": \"midmarker\"}, \"1576950\": {\"y\": 3877.0, \"x\": 4247.0, \"node_type\": \"multimarker\"}, \"1576951\": {\"y\": 3857.0, \"x\": 4247.0, \"node_type\": \"midmarker\"}, \"1576826\": {\"node_is_primary\": true, \"name\": \"D-Fructose\", \"label_x\": 284.1323547363281, \"node_type\": \"metabolite\", \"y\": 1360.0, \"x\": 300.0, \"bigg_id\": \"fru_e\", \"label_y\": 1405.8675537109375}, \"1576827\": {\"node_is_primary\": true, \"name\": \"Nicotinamide adenine dinucleotide - reduced\", \"label_x\": 4322.0859375, \"node_type\": \"metabolite\", \"y\": 2478.91357421875, \"x\": 4417.8271484375, \"bigg_id\": \"nadh_c\", \"label_y\": 2462.79833984375}, \"1576824\": {\"node_is_primary\": false, \"name\": \"Nicotinamide adenine dinucleotide - reduced\", \"label_x\": 2347.0, \"node_type\": \"metabolite\", \"y\": 3935.0, \"x\": 2333.0, \"bigg_id\": \"nadh_c\", \"label_y\": 3921.0}, \"1576825\": {\"node_is_primary\": false, \"name\": \"Coenzyme A\", \"label_x\": 2140.0, \"node_type\": \"metabolite\", \"y\": 3860.0, \"x\": 2130.0, \"bigg_id\": \"coa_c\", \"label_y\": 3840.0}, \"1576822\": {\"node_is_primary\": false, \"name\": \"Nicotinamide adenine dinucleotide\", \"label_x\": 2496.0, \"node_type\": \"metabolite\", \"y\": 4065.0, \"x\": 2482.0, \"bigg_id\": \"nad_c\", \"label_y\": 4051.0}, \"1576988\": {\"y\": 3868.0, \"x\": 4116.0, \"node_type\": \"midmarker\"}, \"1576820\": {\"node_is_primary\": false, \"name\": \"H+\", \"label_x\": 4273.546875, \"node_type\": \"metabolite\", \"y\": 2570.0, \"x\": 4310.0, \"bigg_id\": \"h_c\", \"label_y\": 2604.6689453125}, \"1576821\": {\"node_is_primary\": false, \"name\": \"Pyruvate\", \"label_x\": 692.5455932617188, \"node_type\": \"metabolite\", \"y\": 1237.785400390625, \"x\": 714.76025390625, \"bigg_id\": \"pyr_c\", \"label_y\": 1207.785400390625}, \"1576985\": {\"y\": 4918.0, \"x\": 3991.0, \"node_type\": \"midmarker\"}, \"1576987\": {\"y\": 3848.0, \"x\": 4116.0, \"node_type\": \"multimarker\"}, \"1576986\": {\"y\": 3888.0, \"x\": 4116.0, \"node_type\": \"multimarker\"}, \"1576981\": {\"y\": 4305.0, \"x\": 1715.0, \"node_type\": \"multimarker\"}, \"1576980\": {\"y\": 4937.93359375, \"x\": 2500.0, \"node_type\": \"midmarker\"}, \"1576828\": {\"node_is_primary\": false, \"name\": \"Nicotinamide adenine dinucleotide\", \"label_x\": 2070.0, \"node_type\": \"metabolite\", \"y\": 3860.0, \"x\": 2070.0, \"bigg_id\": \"nad_c\", \"label_y\": 3840.0}, \"1576829\": {\"node_is_primary\": true, \"name\": \"Ethanol\", \"label_x\": 2522.0, \"node_type\": \"metabolite\", \"y\": 4228.0, \"x\": 2501.0, \"bigg_id\": \"etoh_c\", \"label_y\": 4206.0}, \"1576570\": {\"node_is_primary\": true, \"name\": \"Succinyl-CoA\", \"label_x\": 3772.230712890625, \"node_type\": \"metabolite\", \"y\": 3193.0, \"x\": 3739.0, \"bigg_id\": \"succoa_c\", \"label_y\": 3193.479248046875}, \"1576571\": {\"node_is_primary\": false, \"name\": \"ADP\", \"label_x\": 3788.0, \"node_type\": \"metabolite\", \"y\": 3116.0, \"x\": 3768.0, \"bigg_id\": \"adp_c\", \"label_y\": 3126.0}, \"1576572\": {\"node_is_primary\": false, \"name\": \"ATP\", \"label_x\": 1165.0, \"node_type\": \"metabolite\", \"y\": 1645.0, \"x\": 1145.0, \"bigg_id\": \"atp_c\", \"label_y\": 1645.0}, \"1576573\": {\"node_is_primary\": false, \"name\": \"ADP\", \"label_x\": 1165.0, \"node_type\": \"metabolite\", \"y\": 1805.0, \"x\": 1145.0, \"bigg_id\": \"adp_c\", \"label_y\": 1805.0}, \"1576574\": {\"node_is_primary\": false, \"name\": \"H+\", \"label_x\": 1165.0, \"node_type\": \"metabolite\", \"y\": 1855.0, \"x\": 1145.0, \"bigg_id\": \"h_c\", \"label_y\": 1855.0}, \"1576575\": {\"node_is_primary\": true, \"name\": \"Glyceraldehyde 3-phosphate\", \"label_x\": 1085.0, \"node_type\": \"metabolite\", \"y\": 2195.0, \"x\": 1055.0, \"bigg_id\": \"g3p_c\", \"label_y\": 2195.0}, \"1576576\": {\"node_is_primary\": false, \"name\": \"ATP\", \"label_x\": 4474.0, \"node_type\": \"metabolite\", \"y\": 3755.0, \"x\": 4440.0, \"bigg_id\": \"atp_c\", \"label_y\": 3753.0}, \"1576577\": {\"node_is_primary\": false, \"name\": \"Ammonium\", \"label_x\": 4477.0, \"node_type\": \"metabolite\", \"y\": 3805.0, \"x\": 4440.0, \"bigg_id\": \"nh4_c\", \"label_y\": 3811.0}, \"1576578\": {\"node_is_primary\": true, \"name\": \"L-Glutamine\", \"label_x\": 4245.0, \"node_type\": \"metabolite\", \"y\": 4094.0, \"x\": 4246.0, \"bigg_id\": \"gln__L_c\", \"label_y\": 4130.0}, \"1576579\": {\"node_is_primary\": false, \"name\": \"ADP\", \"label_x\": 4454.0, \"node_type\": \"metabolite\", \"y\": 3954.0, \"x\": 4434.0, \"bigg_id\": \"adp_c\", \"label_y\": 3954.0}, \"1576928\": {\"y\": 1900.0, \"x\": 4660.0, \"node_type\": \"midmarker\"}, \"1576651\": {\"node_is_primary\": false, \"name\": \"ATP\", \"label_x\": 1835.0, \"node_type\": \"metabolite\", \"y\": 4335.0, \"x\": 1815.0, \"bigg_id\": \"atp_c\", \"label_y\": 4335.0}, \"1576650\": {\"node_is_primary\": false, \"name\": \"H+\", \"label_x\": 2620.0, \"node_type\": \"metabolite\", \"y\": 4400.0, \"x\": 2600.0, \"bigg_id\": \"h_c\", \"label_y\": 4400.0}, \"1576653\": {\"node_is_primary\": false, \"name\": \"ADP\", \"label_x\": 1835.0, \"node_type\": \"metabolite\", \"y\": 4225.0, \"x\": 1815.0, \"bigg_id\": \"adp_c\", \"label_y\": 4225.0}, \"1576652\": {\"node_is_primary\": true, \"name\": \"Acetate\", \"label_x\": 1745.0, \"node_type\": \"metabolite\", \"y\": 4385.0, \"x\": 1715.0, \"bigg_id\": \"ac_c\", \"label_y\": 4385.0}, \"1576655\": {\"node_is_primary\": false, \"name\": \"H+\", \"label_x\": 4002.0, \"node_type\": \"metabolite\", \"y\": 3982.0, \"x\": 4029.0, \"bigg_id\": \"h_c\", \"label_y\": 3986.0}, \"1576654\": {\"node_is_primary\": false, \"name\": \"Nicotinamide adenine dinucleotide phosphate - reduced\", \"label_x\": 3993.9423828125, \"node_type\": \"metabolite\", \"y\": 3932.0, \"x\": 4029.0, \"bigg_id\": \"nadph_c\", \"label_y\": 3909.05029296875}, \"1576657\": {\"node_is_primary\": true, \"name\": \"Fumarate\", \"label_x\": 2879.817626953125, \"node_type\": \"metabolite\", \"y\": 650.0, \"x\": 2840.0, \"bigg_id\": \"fum_e\", \"label_y\": 635.0911865234375}, \"1576656\": {\"node_is_primary\": false, \"name\": \"Nicotinamide adenine dinucleotide phosphate\", \"label_x\": 3957.985595703125, \"node_type\": \"metabolite\", \"y\": 3759.0, \"x\": 4043.0, \"bigg_id\": \"nadp_c\", \"label_y\": 3736.215576171875}, \"1576659\": {\"node_is_primary\": false, \"name\": \"H+\", \"label_x\": 2954.28076171875, \"node_type\": \"metabolite\", \"y\": 1010.0, \"x\": 2940.0, \"bigg_id\": \"h_c\", \"label_y\": 1038.4132080078125}, \"1576658\": {\"node_is_primary\": false, \"name\": \"H+\", \"label_x\": 2962.214599609375, \"node_type\": \"metabolite\", \"y\": 700.0, \"x\": 2940.0, \"bigg_id\": \"h_e\", \"label_y\": 718.4132080078125}, \"1576912\": {\"y\": 3995.0, \"x\": 1255.0, \"node_type\": \"multimarker\"}, \"1576913\": {\"y\": 3995.0, \"x\": 1415.0, \"node_type\": \"multimarker\"}, \"1576910\": {\"y\": 3330.0, \"x\": 3776.0, \"node_type\": \"multimarker\"}, \"1576911\": {\"y\": 3995.0, \"x\": 1335.0, \"node_type\": \"midmarker\"}, \"1576916\": {\"y\": 3526.0, \"x\": 1404.0, \"node_type\": \"midmarker\"}, \"1576917\": {\"y\": 3554.0, \"x\": 1485.0, \"node_type\": \"multimarker\"}, \"1576914\": {\"y\": 1660.0, \"x\": 4970.0, \"node_type\": \"midmarker\"}, \"1576918\": {\"y\": 3503.0, \"x\": 1335.0, \"node_type\": \"multimarker\"}, \"1576919\": {\"y\": 4520.0, \"x\": 2880.0, \"node_type\": \"multimarker\"}, \"1577028\": {\"y\": 3360.0, \"x\": 2310.0, \"node_type\": \"multimarker\"}, \"1577021\": {\"y\": 3918.0, \"x\": 2840.0, \"node_type\": \"multimarker\"}, \"1577020\": {\"y\": 3837.0, \"x\": 2744.0, \"node_type\": \"multimarker\"}, \"1577023\": {\"y\": 3945.0, \"x\": 375.0, \"node_type\": \"multimarker\"}, \"1577022\": {\"y\": 3886.0, \"x\": 2798.0, \"node_type\": \"midmarker\"}, \"1577025\": {\"y\": 3945.0, \"x\": 505.0, \"node_type\": \"midmarker\"}, \"1577024\": {\"y\": 3945.0, \"x\": 645.0, \"node_type\": \"multimarker\"}, \"1577027\": {\"y\": 3410.0, \"x\": 2220.0, \"node_type\": \"multimarker\"}, \"1577026\": {\"y\": 3390.0, \"x\": 2260.0, \"node_type\": \"midmarker\"}, \"1576967\": {\"y\": 4604.0, \"x\": 3621.0, \"node_type\": \"midmarker\"}, \"1576966\": {\"y\": 1735.0, \"x\": 2175.0, \"node_type\": \"multimarker\"}, \"1576965\": {\"y\": 1695.0, \"x\": 2175.0, \"node_type\": \"midmarker\"}, \"1576964\": {\"y\": 1645.0, \"x\": 2175.0, \"node_type\": \"multimarker\"}, \"1576962\": {\"y\": 4924.0, \"x\": 3257.0, \"node_type\": \"midmarker\"}, \"1576961\": {\"y\": 4614.0, \"x\": 3257.0, \"node_type\": \"midmarker\"}, \"1576960\": {\"y\": 3341.0, \"x\": 2582.0, \"node_type\": \"multimarker\"}, \"1576969\": {\"y\": 3228.0, \"x\": 5032.0, \"node_type\": \"midmarker\"}, \"1576499\": {\"node_is_primary\": false, \"name\": \"H+\", \"label_x\": 3522.892333984375, \"node_type\": \"metabolite\", \"y\": 1080.287841796875, \"x\": 3510.0, \"bigg_id\": \"h_c\", \"label_y\": 1099.0072021484375}, \"1576999\": {\"y\": 1041.710205078125, \"x\": 1056.5867919921875, \"node_type\": \"multimarker\"}}, \"canvas\": {\"y\": 314.36893920898433, \"x\": 7.857062530517567, \"height\": 4860.457037353515, \"width\": 5894.515691375733}, \"text_labels\": {}}]'),\n",
       "               model_data: JSON.parse('null'),\n",
       "               static_site_index: JSON.parse('null'),\n",
       "           };\n",
       "       }\n",
       "   })();\n",
       "  </script>\n"
      ],
      "text/plain": [
       "<IPython.core.display.HTML object>"
      ]
     },
     "execution_count": 131,
     "metadata": {},
     "output_type": "execute_result"
    }
   ],
   "source": [
    "escher.Builder('e_coli_core.Core metabolism').display_in_notebook()"
   ]
  },
  {
   "cell_type": "markdown",
   "metadata": {},
   "source": [
    "Ok, now to the data visualization part. Escher can visualization gene, reaction, and metabolite-centric  data. Here an example of visualizing one flux and one metabolite concentration (Escher expect Python dictionaries as data input mapping data values to gene/reaction/metabolite identifiers)."
   ]
  },
  {
   "cell_type": "code",
   "execution_count": 43,
   "metadata": {},
   "outputs": [
    {
     "data": {
      "text/html": [
       "\n",
       "\n",
       "\n",
       "  \n",
       "  \n",
       "\n",
       "  \n",
       "  \n",
       "    <link rel=\"stylesheet\" href=\"//unpkg.com/escher-vis@1.6.0/css/dist/builder.min.css\"/>\n",
       "  \n",
       "\n",
       "\n",
       "\n",
       "  <div style=\"height: 500px; width: 100%;\" id=\"nixglojqul\"></div>\n",
       "\n",
       "  <script>\n",
       "   /* Closure to make sure data only applies to this map. */\n",
       "   (function() {\n",
       "       /* data from python */\n",
       "       var data = get_data();\n",
       "\n",
       "       function load_lib(url, callback) {\n",
       "           /** Dynamically load a JavaScript file */\n",
       "           var s = document.createElement('script');\n",
       "           s.src = url;\n",
       "           s.async = true;\n",
       "           s.onreadystatechange = s.onload = callback;\n",
       "           s.onerror = function() {\n",
       "               console.warn('Failed to load library ' + url);\n",
       "           };\n",
       "           document.getElementsByTagName('head')[0].appendChild(s);\n",
       "       }\n",
       "\n",
       "       function check_global_and_load(name, url, callback) {\n",
       "           /** Look for the name in the global scope. If it isn't present, then\n",
       "              load the library at url. Returns the object. */\n",
       "           if (window[name] !== undefined) {\n",
       "               callback(window[name]);\n",
       "           } else {\n",
       "               load_lib(url, function() {\n",
       "                   callback(window[name]);\n",
       "               });\n",
       "           }\n",
       "       }\n",
       "\n",
       "       function draw_escher(escher) {\n",
       "           /** Get data and draw */\n",
       "           var load = function(t_map_data, t_model_data, t_options) {\n",
       "               escher.Builder(t_map_data, t_model_data, data.builder_embed_css,\n",
       "                              escher.libs.d3_select('#' + data.id), t_options);\n",
       "           }\n",
       "\n",
       "           // for the static site, use the url attributes for the map and model\n",
       "           // information\n",
       "           if (data.static_site_index !== null) {\n",
       "               escher.static.load_map_model_from_url(data.map_download_url, data.model_download_url,\n",
       "                                                     data.static_site_index, data.options, load);\n",
       "           } else {\n",
       "               load(data.map_data, data.model_data, data.options);\n",
       "           }\n",
       "       }\n",
       "\n",
       "       // Load dependencies and draw\n",
       "       if (typeof define === 'function' && define.amd) {\n",
       "           // require.js is available: use it to load escher\n",
       "           require.config({\n",
       "             paths: {\n",
       "               escher: '//unpkg.com/escher-vis@1.6.0/js/dist/escher.min',\n",
       "             },\n",
       "             // Override urlArgs that adds ?v= to the end of the escher URL and\n",
       "             // messes up unpkg links. Honestly, I'm not sure if this will lead\n",
       "             // to downstream bugs in the notebook, but they really shouldn't be\n",
       "             // doing this cache-busting anyway.\n",
       "             urlArgs: null,\n",
       "           })\n",
       "           require([ 'escher' ], function(escher) {\n",
       "               draw_escher(escher);\n",
       "           })\n",
       "       } else {\n",
       "           // require.js not available: dynamically load escher\n",
       "           check_global_and_load('escher', '//unpkg.com/escher-vis@1.6.0/js/dist/escher.min.js', function(escher) {\n",
       "               draw_escher(escher);\n",
       "           })\n",
       "       }\n",
       "\n",
       "       // Put this at the end so Chrome doesn't cut off the code above.\n",
       "       function get_data() {\n",
       "           /** Return the data passed in by the Python module. */\n",
       "           return {\n",
       "               id: JSON.parse('\"nixglojqul\"'),\n",
       "               map_download_url: JSON.parse('\"//escher.github.io/1-0-0/5/maps/\"'),\n",
       "               model_download_url: JSON.parse('\"//escher.github.io/1-0-0/5/models/\"'),\n",
       "               options: JSON.parse('{\"menu\": \"zoom\", \"enable_keys\": false, \"enable_editing\": false, \"scroll_behavior\": \"none\", \"fill_screen\": false, \"ignore_bootstrap\": true, \"never_ask_before_quit\": true, \"reaction_data\": {\"PGK\": 100}, \"metabolite_data\": {\"ATP\": 20}, \"gene_data\": null}'),\n",
       "               builder_embed_css: JSON.parse('null'),\n",
       "               map_data: JSON.parse('[{\"map_name\": \"e_coli_core.Core metabolism\", \"map_id\": \"0df3827fde8464e80f455a773a52c274\", \"map_description\": \"E. coli core metabolic network\\\\nLast Modified Fri Dec 05 2014 16:39:44 GMT-0800 (PST)\", \"homepage\": \"https://escher.github.io\", \"schema\": \"https://escher.github.io/escher/jsonschema/1-0-0#\"}, {\"reactions\": {\"1577514\": {\"name\": \"Formate transport in via proton symport\", \"bigg_id\": \"FORt2\", \"segments\": {\"11\": {\"to_node_id\": \"1577044\", \"from_node_id\": \"1576666\", \"b2\": {\"y\": 4749.209372712298, \"x\": 1360.0}, \"b1\": {\"y\": 4827.353507999329, \"x\": 1360.0}}, \"10\": {\"to_node_id\": \"1577046\", \"from_node_id\": \"1577045\", \"b2\": null, \"b1\": null}, \"13\": {\"to_node_id\": \"1576590\", \"from_node_id\": \"1577046\", \"b2\": {\"y\": 4275.94781629675, \"x\": 1360.0}, \"b1\": {\"y\": 4411.784344889025, \"x\": 1360.0}}, \"12\": {\"to_node_id\": \"1577044\", \"from_node_id\": \"1576833\", \"b2\": {\"y\": 4744.773286702694, \"x\": 1360.0}, \"b1\": {\"y\": 4779.244289008981, \"x\": 1360.0}}, \"14\": {\"to_node_id\": \"1576811\", \"from_node_id\": \"1577046\", \"b2\": {\"y\": 4422.5658350974745, \"x\": 1360.0}, \"b1\": {\"y\": 4455.769750529243, \"x\": 1360.0}}, \"9\": {\"to_node_id\": \"1577045\", \"from_node_id\": \"1577044\", \"b2\": null, \"b1\": null}}, \"genes\": [{\"bigg_id\": \"b2492\", \"name\": \"focB\"}, {\"bigg_id\": \"b0904\", \"name\": \"focA\"}], \"reversibility\": false, \"metabolites\": [{\"coefficient\": -1.0, \"bigg_id\": \"for_e\"}, {\"coefficient\": 1.0, \"bigg_id\": \"h_c\"}, {\"coefficient\": 1.0, \"bigg_id\": \"for_c\"}, {\"coefficient\": -1.0, \"bigg_id\": \"h_e\"}], \"label_x\": 1255.7530517578125, \"label_y\": 4574.13232421875, \"gene_reaction_rule\": \"b0904 or b2492\"}, \"1577518\": {\"name\": \"Formate transport via diffusion\", \"bigg_id\": \"FORti\", \"segments\": {\"15\": {\"to_node_id\": \"1577047\", \"from_node_id\": \"1576590\", \"b2\": {\"y\": 4263.5, \"x\": 1460.0}, \"b1\": {\"y\": 4145.55, \"x\": 1460.0}}, \"16\": {\"to_node_id\": \"1576666\", \"from_node_id\": \"1577047\", \"b2\": {\"y\": 4654.322265625, \"x\": 1460.0}, \"b1\": {\"y\": 4488.7, \"x\": 1460.0}}}, \"genes\": [{\"bigg_id\": \"b2492\", \"name\": \"focB\"}, {\"bigg_id\": \"b0904\", \"name\": \"focA\"}], \"reversibility\": false, \"metabolites\": [{\"coefficient\": 1.0, \"bigg_id\": \"for_e\"}, {\"coefficient\": -1.0, \"bigg_id\": \"for_c\"}], \"label_x\": 1479.5206298828125, \"label_y\": 4509.27197265625, \"gene_reaction_rule\": \"b0904 or b2492\"}, \"1576747\": {\"name\": \"D-lactate dehydrogenase\", \"bigg_id\": \"LDH_D\", \"segments\": {\"120\": {\"to_node_id\": \"1576957\", \"from_node_id\": \"1576956\", \"b2\": null, \"b1\": null}, \"121\": {\"to_node_id\": \"1576955\", \"from_node_id\": \"1576957\", \"b2\": null, \"b1\": null}, \"122\": {\"to_node_id\": \"1576956\", \"from_node_id\": \"1576633\", \"b2\": {\"y\": 4240.660459763366, \"x\": 1055.0}, \"b1\": {\"y\": 4277.201532544553, \"x\": 1055.0}}, \"123\": {\"to_node_id\": \"1576956\", \"from_node_id\": \"1576584\", \"b2\": {\"y\": 4243.0, \"x\": 1055.0}, \"b1\": {\"y\": 4285.0, \"x\": 1055.0}}, \"124\": {\"to_node_id\": \"1576634\", \"from_node_id\": \"1576955\", \"b2\": {\"y\": 4060.9687576256715, \"x\": 1055.0}, \"b1\": {\"y\": 4105.790627287702, \"x\": 1055.0}}, \"125\": {\"to_node_id\": \"1576511\", \"from_node_id\": \"1576955\", \"b2\": {\"y\": 4035.0, \"x\": 1055.0}, \"b1\": {\"y\": 4098.0, \"x\": 1055.0}}, \"126\": {\"to_node_id\": \"1576635\", \"from_node_id\": \"1576955\", \"b2\": {\"y\": 4072.7984674554473, \"x\": 1055.0}, \"b1\": {\"y\": 4109.339540236634, \"x\": 1055.0}}}, \"genes\": [{\"bigg_id\": \"b1380\", \"name\": \"ldhA\"}, {\"bigg_id\": \"b2133\", \"name\": \"dld\"}], \"reversibility\": true, \"metabolites\": [{\"coefficient\": 1.0, \"bigg_id\": \"pyr_c\"}, {\"coefficient\": 1.0, \"bigg_id\": \"h_c\"}, {\"coefficient\": -1.0, \"bigg_id\": \"lac__D_c\"}, {\"coefficient\": -1.0, \"bigg_id\": \"nad_c\"}, {\"coefficient\": 1.0, \"bigg_id\": \"nadh_c\"}], \"label_x\": 1065.0, \"label_y\": 4165.0, \"gene_reaction_rule\": \"b2133 or b1380\"}, \"1576746\": {\"name\": \"ATP maintenance requirement\", \"bigg_id\": \"ATPM\", \"segments\": {\"115\": {\"to_node_id\": \"1576952\", \"from_node_id\": \"1576534\", \"b2\": {\"y\": 1176.0, \"x\": 4215.0}, \"b1\": {\"y\": 1120.0, \"x\": 4215.0}}, \"114\": {\"to_node_id\": \"1576954\", \"from_node_id\": \"1576953\", \"b2\": null, \"b1\": null}, \"117\": {\"to_node_id\": \"1576631\", \"from_node_id\": \"1576954\", \"b2\": {\"y\": 1411.0327780786686, \"x\": 4215.0}, \"b1\": {\"y\": 1368.3098334236006, \"x\": 4215.0}}, \"116\": {\"to_node_id\": \"1576952\", \"from_node_id\": \"1576630\", \"b2\": {\"y\": 1187.2720779386423, \"x\": 4215.0}, \"b1\": {\"y\": 1157.5735931288073, \"x\": 4215.0}}, \"113\": {\"to_node_id\": \"1576953\", \"from_node_id\": \"1576952\", \"b2\": null, \"b1\": null}, \"119\": {\"to_node_id\": \"1576536\", \"from_node_id\": \"1576954\", \"b2\": {\"y\": 1430.0, \"x\": 4215.0}, \"b1\": {\"y\": 1374.0, \"x\": 4215.0}}, \"118\": {\"to_node_id\": \"1576632\", \"from_node_id\": \"1576954\", \"b2\": {\"y\": 1388.0788655293195, \"x\": 4215.0}, \"b1\": {\"y\": 1361.423659658796, \"x\": 4215.0}}}, \"genes\": [], \"reversibility\": false, \"metabolites\": [{\"coefficient\": 1.0, \"bigg_id\": \"adp_c\"}, {\"coefficient\": 1.0, \"bigg_id\": \"h_c\"}, {\"coefficient\": -1.0, \"bigg_id\": \"atp_c\"}, {\"coefficient\": -1.0, \"bigg_id\": \"h2o_c\"}, {\"coefficient\": 1.0, \"bigg_id\": \"pi_c\"}], \"label_x\": 4241.11474609375, \"label_y\": 1266.1151123046875, \"gene_reaction_rule\": \"\"}, \"1576745\": {\"name\": \"Glutaminase\", \"bigg_id\": \"GLUN\", \"segments\": {\"108\": {\"to_node_id\": \"1576949\", \"from_node_id\": \"1576951\", \"b2\": null, \"b1\": null}, \"109\": {\"to_node_id\": \"1576950\", \"from_node_id\": \"1576628\", \"b2\": {\"y\": 3888.700961498954, \"x\": 4247.0}, \"b1\": {\"y\": 3916.003204996513, \"x\": 4247.0}}, \"111\": {\"to_node_id\": \"1576629\", \"from_node_id\": \"1576949\", \"b2\": {\"y\": 3777.1681351239463, \"x\": 4247.0}, \"b1\": {\"y\": 3803.650440537184, \"x\": 4247.0}}, \"110\": {\"to_node_id\": \"1576950\", \"from_node_id\": \"1576578\", \"b2\": {\"y\": 3909.550345620285, \"x\": 4247.0}, \"b1\": {\"y\": 3985.501152067616, \"x\": 4247.0}}, \"112\": {\"to_node_id\": \"1576554\", \"from_node_id\": \"1576949\", \"b2\": {\"y\": 3723.4986338899794, \"x\": 4247.0}, \"b1\": {\"y\": 3787.5495901669938, \"x\": 4247.0}}, \"107\": {\"to_node_id\": \"1576951\", \"from_node_id\": \"1576950\", \"b2\": null, \"b1\": null}}, \"genes\": [{\"bigg_id\": \"b1524\", \"name\": \"glsB\"}, {\"bigg_id\": \"b0485\", \"name\": \"glsA\"}, {\"bigg_id\": \"b1812\", \"name\": \"pabB\"}], \"reversibility\": false, \"metabolites\": [{\"coefficient\": 1.0, \"bigg_id\": \"glu__L_c\"}, {\"coefficient\": -1.0, \"bigg_id\": \"gln__L_c\"}, {\"coefficient\": 1.0, \"bigg_id\": \"nh4_c\"}, {\"coefficient\": -1.0, \"bigg_id\": \"h2o_c\"}], \"label_x\": 4253.77685546875, \"label_y\": 3866.338134765625, \"gene_reaction_rule\": \"b1812 or b0485 or b1524\"}, \"1576744\": {\"name\": \"Acetate exchange\", \"bigg_id\": \"EX_ac_e\", \"segments\": {\"105\": {\"to_node_id\": \"1576947\", \"from_node_id\": \"1576627\", \"b2\": {\"y\": 4890.0, \"x\": 1715.0}, \"b1\": {\"y\": 4888.64794921875, \"x\": 1715.0}}}, \"genes\": [], \"reversibility\": false, \"metabolites\": [{\"coefficient\": -1.0, \"bigg_id\": \"ac_e\"}], \"label_x\": 1742.4544677734375, \"label_y\": 4917.06640625, \"gene_reaction_rule\": \"\"}, \"1576743\": {\"name\": \"Glucose 6-phosphate dehydrogenase\", \"bigg_id\": \"G6PDH2r\", \"segments\": {\"99\": {\"to_node_id\": \"1576944\", \"from_node_id\": \"1576945\", \"b2\": null, \"b1\": null}, \"98\": {\"to_node_id\": \"1576945\", \"from_node_id\": \"1576946\", \"b2\": null, \"b1\": null}, \"102\": {\"to_node_id\": \"1576624\", \"from_node_id\": \"1576944\", \"b2\": {\"y\": 1265.0, \"x\": 1393.0018939122203}, \"b1\": {\"y\": 1265.0, \"x\": 1346.800568173666}}, \"103\": {\"to_node_id\": \"1576625\", \"from_node_id\": \"1576944\", \"b2\": {\"y\": 1265.0, \"x\": 1381.6008241696038}, \"b1\": {\"y\": 1265.0, \"x\": 1343.3802472508812}}, \"100\": {\"to_node_id\": \"1576946\", \"from_node_id\": \"1576623\", \"b2\": {\"y\": 1265.0, \"x\": 1270.6197527491188}, \"b1\": {\"y\": 1265.0, \"x\": 1232.3991758303962}}, \"101\": {\"to_node_id\": \"1576946\", \"from_node_id\": \"1576524\", \"b2\": {\"y\": 1265.0, \"x\": 1252.2}, \"b1\": {\"y\": 1265.0, \"x\": 1171.0}}, \"104\": {\"to_node_id\": \"1576626\", \"from_node_id\": \"1576944\", \"b2\": {\"y\": 1265.0, \"x\": 1417.0}, \"b1\": {\"y\": 1265.0, \"x\": 1354.0}}}, \"genes\": [{\"bigg_id\": \"b1852\", \"name\": \"zwf\"}], \"reversibility\": true, \"metabolites\": [{\"coefficient\": -1.0, \"bigg_id\": \"g6p_c\"}, {\"coefficient\": 1.0, \"bigg_id\": \"h_c\"}, {\"coefficient\": -1.0, \"bigg_id\": \"nadp_c\"}, {\"coefficient\": 1.0, \"bigg_id\": \"nadph_c\"}, {\"coefficient\": 1.0, \"bigg_id\": \"6pgl_c\"}], \"label_x\": 1261.46337890625, \"label_y\": 1320.0572509765625, \"gene_reaction_rule\": \"b1852\"}, \"1576742\": {\"name\": \"Malic enzyme (NAD)\", \"bigg_id\": \"ME1\", \"segments\": {\"91\": {\"to_node_id\": \"1576942\", \"from_node_id\": \"1576941\", \"b2\": null, \"b1\": null}, \"93\": {\"to_node_id\": \"1576941\", \"from_node_id\": \"1576504\", \"b2\": {\"y\": 3307.175835174097, \"x\": 2355.6483296518063}, \"b1\": {\"y\": 3253.9194505803225, \"x\": 2462.161098839355}}, \"92\": {\"to_node_id\": \"1576943\", \"from_node_id\": \"1576942\", \"b2\": null, \"b1\": null}, \"95\": {\"to_node_id\": \"1576511\", \"from_node_id\": \"1576943\", \"b2\": {\"y\": 3870.856276574083, \"x\": 1117.2138384533964}, \"b1\": {\"y\": 3474.7533185191, \"x\": 2020.4933629618001}}, \"94\": {\"to_node_id\": \"1576941\", \"from_node_id\": \"1576620\", \"b2\": {\"y\": 3321.8944463483363, \"x\": 2326.2111073033275}, \"b1\": {\"y\": 3302.9814878277875, \"x\": 2364.0370243444254}}, \"97\": {\"to_node_id\": \"1576622\", \"from_node_id\": \"1576943\", \"b2\": {\"y\": 3415.0, \"x\": 2140.0}, \"b1\": {\"y\": 3397.5, \"x\": 2175.0}}, \"96\": {\"to_node_id\": \"1576621\", \"from_node_id\": \"1576943\", \"b2\": {\"y\": 3419.8328677803524, \"x\": 2130.3342644392947}, \"b1\": {\"y\": 3398.949860334106, \"x\": 2172.1002793317884}}}, \"genes\": [{\"bigg_id\": \"b1479\", \"name\": \"maeA\"}], \"reversibility\": false, \"metabolites\": [{\"coefficient\": -1.0, \"bigg_id\": \"mal__L_c\"}, {\"coefficient\": 1.0, \"bigg_id\": \"pyr_c\"}, {\"coefficient\": 1.0, \"bigg_id\": \"co2_c\"}, {\"coefficient\": -1.0, \"bigg_id\": \"nad_c\"}, {\"coefficient\": 1.0, \"bigg_id\": \"nadh_c\"}], \"label_x\": 2188.595703125, \"label_y\": 3321.438232421875, \"gene_reaction_rule\": \"b1479\"}, \"1576741\": {\"name\": \"GLNabc\", \"bigg_id\": \"GLNabc\", \"segments\": {\"88\": {\"to_node_id\": \"1576617\", \"from_node_id\": \"1576938\", \"b2\": {\"y\": 4158.0, \"x\": 4332.993902665717}, \"b1\": {\"y\": 4158.0, \"x\": 4390.398170799715}}, \"89\": {\"to_node_id\": \"1576618\", \"from_node_id\": \"1576938\", \"b2\": {\"y\": 4158.0, \"x\": 4362.798467455447}, \"b1\": {\"y\": 4158.0, \"x\": 4399.339540236634}}, \"90\": {\"to_node_id\": \"1576619\", \"from_node_id\": \"1576938\", \"b2\": {\"y\": 4158.0, \"x\": 4350.968757625671}, \"b1\": {\"y\": 4158.0, \"x\": 4395.790627287702}}, \"82\": {\"to_node_id\": \"1576939\", \"from_node_id\": \"1576940\", \"b2\": null, \"b1\": null}, \"83\": {\"to_node_id\": \"1576938\", \"from_node_id\": \"1576939\", \"b2\": null, \"b1\": null}, \"86\": {\"to_node_id\": \"1576940\", \"from_node_id\": \"1576616\", \"b2\": {\"y\": 4158.0, \"x\": 4470.660459763366}, \"b1\": {\"y\": 4158.0, \"x\": 4507.201532544553}}, \"87\": {\"to_node_id\": \"1576578\", \"from_node_id\": \"1576938\", \"b2\": {\"y\": 4158.0, \"x\": 4324.643760591755}, \"b1\": {\"y\": 4158.0, \"x\": 4387.893128177527}}, \"84\": {\"to_node_id\": \"1576940\", \"from_node_id\": \"1576537\", \"b2\": {\"y\": 4158.0, \"x\": 4519.05}, \"b1\": {\"y\": 4158.0, \"x\": 4668.5}}, \"85\": {\"to_node_id\": \"1576940\", \"from_node_id\": \"1576615\", \"b2\": {\"y\": 4158.0, \"x\": 4474.209372712298}, \"b1\": {\"y\": 4158.0, \"x\": 4519.031242374329}}}, \"genes\": [{\"bigg_id\": \"b0811\", \"name\": \"glnH\"}, {\"bigg_id\": \"b0810\", \"name\": \"glnP\"}, {\"bigg_id\": \"b0809\", \"name\": \"glnQ\"}], \"reversibility\": false, \"metabolites\": [{\"coefficient\": -1.0, \"bigg_id\": \"h2o_c\"}, {\"coefficient\": -1.0, \"bigg_id\": \"atp_c\"}, {\"coefficient\": -1.0, \"bigg_id\": \"gln__L_e\"}, {\"coefficient\": 1.0, \"bigg_id\": \"adp_c\"}, {\"coefficient\": 1.0, \"bigg_id\": \"h_c\"}, {\"coefficient\": 1.0, \"bigg_id\": \"pi_c\"}, {\"coefficient\": 1.0, \"bigg_id\": \"gln__L_c\"}], \"label_x\": 4535.24462890625, \"label_y\": 4133.49658203125, \"gene_reaction_rule\": \"b0811 and b0810 and b0809\"}, \"1577547\": {\"name\": \"Biomass Objective Function with GAM\", \"bigg_id\": \"BIOMASS_Ecoli_core_w_GAM\", \"segments\": {\"498\": {\"to_node_id\": \"1577090\", \"from_node_id\": \"1577076\", \"b2\": {\"y\": 4899.2412109375, \"x\": 5215.0458984375}, \"b1\": {\"y\": 4793.48193359375, \"x\": 5334.0517578125}}, \"499\": {\"to_node_id\": \"1577091\", \"from_node_id\": \"1577076\", \"b2\": {\"y\": 4977.43115234375, \"x\": 5353.5947265625}, \"b1\": {\"y\": 4789.48193359375, \"x\": 5334.0517578125}}, \"494\": {\"to_node_id\": \"1577086\", \"from_node_id\": \"1577074\", \"b2\": {\"y\": 4564.25048828125, \"x\": 5140.27099609375}, \"b1\": {\"y\": 4681.48193359375, \"x\": 5334.0517578125}}, \"495\": {\"to_node_id\": \"1577087\", \"from_node_id\": \"1577076\", \"b2\": {\"y\": 4938.26416015625, \"x\": 5273.55517578125}, \"b1\": {\"y\": 4793.48193359375, \"x\": 5334.0517578125}}, \"496\": {\"to_node_id\": \"1577088\", \"from_node_id\": \"1577074\", \"b2\": {\"y\": 4579.03759765625, \"x\": 5068.69580078125}, \"b1\": {\"y\": 4681.48193359375, \"x\": 5334.0517578125}}, \"497\": {\"to_node_id\": \"1577089\", \"from_node_id\": \"1577074\", \"b2\": {\"y\": 4594.88134765625, \"x\": 5023.52734375}, \"b1\": {\"y\": 4681.48193359375, \"x\": 5334.0517578125}}, \"490\": {\"to_node_id\": \"1577082\", \"from_node_id\": \"1577074\", \"b2\": {\"y\": 4413.09912109375, \"x\": 5307.541015625}, \"b1\": {\"y\": 4681.48193359375, \"x\": 5334.0517578125}}, \"491\": {\"to_node_id\": \"1577083\", \"from_node_id\": \"1577074\", \"b2\": {\"y\": 4523.05615234375, \"x\": 5316.9716796875}, \"b1\": {\"y\": 4681.48193359375, \"x\": 5334.0517578125}}, \"492\": {\"to_node_id\": \"1577084\", \"from_node_id\": \"1577074\", \"b2\": {\"y\": 4533.61865234375, \"x\": 5258.0712890625}, \"b1\": {\"y\": 4681.48193359375, \"x\": 5334.0517578125}}, \"493\": {\"to_node_id\": \"1577085\", \"from_node_id\": \"1577074\", \"b2\": {\"y\": 4544.18115234375, \"x\": 5197.05859375}, \"b1\": {\"y\": 4681.48193359375, \"x\": 5334.0517578125}}, \"506\": {\"to_node_id\": \"1577098\", \"from_node_id\": \"1577076\", \"b2\": {\"y\": 4820.185546875, \"x\": 5099.533203125}, \"b1\": {\"y\": 4793.48193359375, \"x\": 5334.0517578125}}, \"504\": {\"to_node_id\": \"1577096\", \"from_node_id\": \"1577076\", \"b2\": {\"y\": 4868.333984375, \"x\": 5114.79541015625}, \"b1\": {\"y\": 4793.48193359375, \"x\": 5334.0517578125}}, \"505\": {\"to_node_id\": \"1577097\", \"from_node_id\": \"1577074\", \"b2\": {\"y\": 4717.4072265625, \"x\": 4780.78271484375}, \"b1\": {\"y\": 4681.48193359375, \"x\": 5334.0517578125}}, \"502\": {\"to_node_id\": \"1577094\", \"from_node_id\": \"1577074\", \"b2\": {\"y\": 4664.59423828125, \"x\": 4851.0517578125}, \"b1\": {\"y\": 4681.48193359375, \"x\": 5334.0517578125}}, \"503\": {\"to_node_id\": \"1577095\", \"from_node_id\": \"1577074\", \"b2\": {\"y\": 4685.7197265625, \"x\": 4807.9951171875}, \"b1\": {\"y\": 4681.48193359375, \"x\": 5334.0517578125}}, \"500\": {\"to_node_id\": \"1577092\", \"from_node_id\": \"1577074\", \"b2\": {\"y\": 4611.78173828125, \"x\": 4962.51416015625}, \"b1\": {\"y\": 4681.48193359375, \"x\": 5334.0517578125}}, \"501\": {\"to_node_id\": \"1577093\", \"from_node_id\": \"1577074\", \"b2\": {\"y\": 4637.1318359375, \"x\": 4907.83935546875}, \"b1\": {\"y\": 4681.48193359375, \"x\": 5334.0517578125}}, \"489\": {\"to_node_id\": \"1577081\", \"from_node_id\": \"1577076\", \"b2\": {\"y\": 5001.37158203125, \"x\": 5337.27587890625}, \"b1\": {\"y\": 4793.48193359375, \"x\": 5334.0517578125}}, \"488\": {\"to_node_id\": \"1577080\", \"from_node_id\": \"1577074\", \"b2\": {\"y\": 4453.01611328125, \"x\": 5350.98828125}, \"b1\": {\"y\": 4681.48193359375, \"x\": 5334.0517578125}}, \"487\": {\"to_node_id\": \"1577079\", \"from_node_id\": \"1577074\", \"b2\": {\"y\": 4516.16943359375, \"x\": 5423.4208984375}, \"b1\": {\"y\": 4681.48193359375, \"x\": 5334.0517578125}}, \"486\": {\"to_node_id\": \"1577078\", \"from_node_id\": \"1577074\", \"b2\": {\"y\": 4630.19921875, \"x\": 5427.28515625}, \"b1\": {\"y\": 4681.48193359375, \"x\": 5334.0517578125}}, \"485\": {\"to_node_id\": \"1577077\", \"from_node_id\": \"1577076\", \"b2\": {\"y\": 4926.6220703125, \"x\": 5391.197265625}, \"b1\": {\"y\": 4793.48193359375, \"x\": 5334.0517578125}}, \"484\": {\"to_node_id\": \"1577073\", \"from_node_id\": \"1577074\", \"b2\": {\"y\": 4573.30322265625, \"x\": 5455.328125}, \"b1\": {\"y\": 4685.48193359375, \"x\": 5334.0517578125}}, \"483\": {\"to_node_id\": \"1577075\", \"from_node_id\": \"1577076\", \"b2\": null, \"b1\": null}, \"482\": {\"to_node_id\": \"1577075\", \"from_node_id\": \"1577074\", \"b2\": null, \"b1\": null}}, \"genes\": [], \"reversibility\": false, \"metabolites\": [{\"coefficient\": 3.7478, \"bigg_id\": \"coa_c\"}, {\"coefficient\": -0.8977, \"bigg_id\": \"r5p_c\"}, {\"coefficient\": -1.496, \"bigg_id\": \"3pg_c\"}, {\"coefficient\": -0.361, \"bigg_id\": \"e4p_c\"}, {\"coefficient\": -0.2557, \"bigg_id\": \"gln__L_c\"}, {\"coefficient\": 3.547, \"bigg_id\": \"nadh_c\"}, {\"coefficient\": -2.8328, \"bigg_id\": \"pyr_c\"}, {\"coefficient\": -0.0709, \"bigg_id\": \"f6p_c\"}, {\"coefficient\": -13.0279, \"bigg_id\": \"nadph_c\"}, {\"coefficient\": -3.7478, \"bigg_id\": \"accoa_c\"}, {\"coefficient\": -1.7867, \"bigg_id\": \"oaa_c\"}, {\"coefficient\": -0.129, \"bigg_id\": \"g3p_c\"}, {\"coefficient\": -3.547, \"bigg_id\": \"nad_c\"}, {\"coefficient\": 59.81, \"bigg_id\": \"pi_c\"}, {\"coefficient\": -0.205, \"bigg_id\": \"g6p_c\"}, {\"coefficient\": 4.1182, \"bigg_id\": \"akg_c\"}, {\"coefficient\": -0.5191, \"bigg_id\": \"pep_c\"}, {\"coefficient\": -4.9414, \"bigg_id\": \"glu__L_c\"}, {\"coefficient\": -59.81, \"bigg_id\": \"atp_c\"}, {\"coefficient\": 59.81, \"bigg_id\": \"adp_c\"}, {\"coefficient\": 59.81, \"bigg_id\": \"h_c\"}, {\"coefficient\": -59.81, \"bigg_id\": \"h2o_c\"}, {\"coefficient\": 13.0279, \"bigg_id\": \"nadp_c\"}], \"label_x\": 5392.94580078125, \"label_y\": 4746.6962890625, \"gene_reaction_rule\": \"\"}, \"1576749\": {\"name\": \"H2O transport via diffusion\", \"bigg_id\": \"H2Ot\", \"segments\": {\"135\": {\"to_node_id\": \"1576640\", \"from_node_id\": \"1576961\", \"b2\": {\"y\": 4524.0, \"x\": 3257.0}, \"b1\": {\"y\": 4587.0, \"x\": 3257.0}}, \"134\": {\"to_node_id\": \"1576961\", \"from_node_id\": \"1576639\", \"b2\": {\"y\": 4684.0, \"x\": 3257.0}, \"b1\": {\"y\": 4733.0, \"x\": 3257.0}}}, \"genes\": [{\"bigg_id\": \"s0001\", \"name\": \"None\"}, {\"bigg_id\": \"b0875\", \"name\": \"aqpZ\"}], \"reversibility\": true, \"metabolites\": [{\"coefficient\": 1.0, \"bigg_id\": \"h2o_c\"}, {\"coefficient\": -1.0, \"bigg_id\": \"h2o_e\"}], \"label_x\": 3267.0, \"label_y\": 4604.0, \"gene_reaction_rule\": \"b0875 or s0001\"}, \"1576748\": {\"name\": \"Malate dehydrogenase\", \"bigg_id\": \"MDH\", \"segments\": {\"133\": {\"to_node_id\": \"1576521\", \"from_node_id\": \"1576958\", \"b2\": {\"y\": 3595.960728582294, \"x\": 2580.6915524727365}, \"b1\": {\"y\": 3497.9882185746883, \"x\": 2578.807465741821}}, \"132\": {\"to_node_id\": \"1576638\", \"from_node_id\": \"1576958\", \"b2\": {\"y\": 3505.0826757349405, \"x\": 2578.9438976102874}, \"b1\": {\"y\": 3470.7248027204823, \"x\": 2578.2831692830864}}, \"131\": {\"to_node_id\": \"1576637\", \"from_node_id\": \"1576958\", \"b2\": {\"y\": 3538.2116199944217, \"x\": 2579.5809926922}, \"b1\": {\"y\": 3480.6634859983265, \"x\": 2578.47429780766}}, \"130\": {\"to_node_id\": \"1576960\", \"from_node_id\": \"1576636\", \"b2\": {\"y\": 3327.0487806839114, \"x\": 2583.107239628261}, \"b1\": {\"y\": 3294.4959356130375, \"x\": 2585.69079876087}}, \"127\": {\"to_node_id\": \"1576959\", \"from_node_id\": \"1576960\", \"b2\": null, \"b1\": null}, \"128\": {\"to_node_id\": \"1576958\", \"from_node_id\": \"1576959\", \"b2\": null, \"b1\": null}, \"129\": {\"to_node_id\": \"1576960\", \"from_node_id\": \"1576504\", \"b2\": {\"y\": 3317.969496697346, \"x\": 2583.827817722433}, \"b1\": {\"y\": 3264.23165565782, \"x\": 2588.092725741443}}}, \"genes\": [{\"bigg_id\": \"b3236\", \"name\": \"mdh\"}], \"reversibility\": true, \"metabolites\": [{\"coefficient\": -1.0, \"bigg_id\": \"mal__L_c\"}, {\"coefficient\": 1.0, \"bigg_id\": \"h_c\"}, {\"coefficient\": 1.0, \"bigg_id\": \"oaa_c\"}, {\"coefficient\": -1.0, \"bigg_id\": \"nad_c\"}, {\"coefficient\": 1.0, \"bigg_id\": \"nadh_c\"}], \"label_x\": 2587.0, \"label_y\": 3394.0, \"gene_reaction_rule\": \"b3236\"}, \"1577545\": {\"name\": \"Succinate dehydrogenase (irreversible)\", \"bigg_id\": \"SUCDi\", \"segments\": {\"48\": {\"to_node_id\": \"1577066\", \"from_node_id\": \"1577065\", \"b2\": null, \"b1\": null}, \"49\": {\"to_node_id\": \"1577064\", \"from_node_id\": \"1576814\", \"b2\": {\"y\": 2816.4590794794085, \"x\": 3193.7934732750823}, \"b1\": {\"y\": 2815.1969315980286, \"x\": 3225.9782442502737}}, \"47\": {\"to_node_id\": \"1577065\", \"from_node_id\": \"1577064\", \"b2\": null, \"b1\": null}, \"51\": {\"to_node_id\": \"1576503\", \"from_node_id\": \"1577066\", \"b2\": {\"y\": 2843.2084583195547, \"x\": 2952.624089386102}, \"b1\": {\"y\": 2831.162537495866, \"x\": 3040.3872268158307}}, \"50\": {\"to_node_id\": \"1577064\", \"from_node_id\": \"1576533\", \"b2\": {\"y\": 2815.5590310361767, \"x\": 3216.7447085774984}, \"b1\": {\"y\": 2812.1967701205886, \"x\": 3302.482361924995}}, \"52\": {\"to_node_id\": \"1576830\", \"from_node_id\": \"1577066\", \"b2\": {\"y\": 2833.0526323200284, \"x\": 3026.6165359540787}, \"b1\": {\"y\": 2828.1157896960085, \"x\": 3062.5849607862237}}}, \"genes\": [{\"bigg_id\": \"b0724\", \"name\": \"sdhB\"}, {\"bigg_id\": \"b0721\", \"name\": \"sdhC\"}, {\"bigg_id\": \"b0722\", \"name\": \"sdhD\"}, {\"bigg_id\": \"b0723\", \"name\": \"sdhA\"}], \"reversibility\": false, \"metabolites\": [{\"coefficient\": -1.0, \"bigg_id\": \"succ_c\"}, {\"coefficient\": 1.0, \"bigg_id\": \"fum_c\"}, {\"coefficient\": -1.0, \"bigg_id\": \"q8_c\"}, {\"coefficient\": 1.0, \"bigg_id\": \"q8h2_c\"}], \"label_x\": 3108.851318359375, \"label_y\": 2862.949951171875, \"gene_reaction_rule\": \"b0721 and b0722 and b0723 and b0724\"}, \"1577540\": {\"name\": \"NADH dehydrogenase (ubiquinone-8 & 3 protons)\", \"bigg_id\": \"NADH16\", \"segments\": {\"39\": {\"to_node_id\": \"1577062\", \"from_node_id\": \"1577061\", \"b2\": null, \"b1\": null}, \"46\": {\"to_node_id\": \"1576542\", \"from_node_id\": \"1577063\", \"b2\": {\"y\": 2507.151123046875, \"x\": 4630.938294107013}, \"b1\": {\"y\": 2571.611572265625, \"x\": 4800.053949169604}}, \"44\": {\"to_node_id\": \"1576808\", \"from_node_id\": \"1577063\", \"b2\": {\"y\": 2570.0, \"x\": 4780.0}, \"b1\": {\"y\": 2568.388427734375, \"x\": 4766.45361328125}}, \"45\": {\"to_node_id\": \"1576809\", \"from_node_id\": \"1577063\", \"b2\": {\"y\": 2655.409912109375, \"x\": 4928.099683314913}, \"b1\": {\"y\": 2570.000244140625, \"x\": 4798.6355690569735}}, \"42\": {\"to_node_id\": \"1577061\", \"from_node_id\": \"1576827\", \"b2\": {\"y\": 2570.0, \"x\": 4595.729021023612}, \"b1\": {\"y\": 2567.302001953125, \"x\": 4458.799047943291}}, \"43\": {\"to_node_id\": \"1577061\", \"from_node_id\": \"1576539\", \"b2\": {\"y\": 2570.0, \"x\": 4542.513923505967}, \"b1\": {\"y\": 2375.007080078125, \"x\": 4706.342147363639}}, \"40\": {\"to_node_id\": \"1577063\", \"from_node_id\": \"1577062\", \"b2\": null, \"b1\": null}, \"41\": {\"to_node_id\": \"1577061\", \"from_node_id\": \"1576820\", \"b2\": {\"y\": 2570.0, \"x\": 4582.0}, \"b1\": {\"y\": 2570.0, \"x\": 4470.0}}}, \"genes\": [{\"bigg_id\": \"b2284\", \"name\": \"nuoF\"}, {\"bigg_id\": \"b2279\", \"name\": \"nuoK\"}, {\"bigg_id\": \"b2287\", \"name\": \"nuoB\"}, {\"bigg_id\": \"b2286\", \"name\": \"nuoC\"}, {\"bigg_id\": \"b2288\", \"name\": \"nuoA\"}, {\"bigg_id\": \"b2283\", \"name\": \"nuoG\"}, {\"bigg_id\": \"b2277\", \"name\": \"nuoM\"}, {\"bigg_id\": \"b2281\", \"name\": \"nuoI\"}, {\"bigg_id\": \"b2280\", \"name\": \"nuoJ\"}, {\"bigg_id\": \"b2276\", \"name\": \"nuoN\"}, {\"bigg_id\": \"b2282\", \"name\": \"nuoH\"}, {\"bigg_id\": \"b2278\", \"name\": \"nuoL\"}, {\"bigg_id\": \"b2285\", \"name\": \"nuoE\"}], \"reversibility\": false, \"metabolites\": [{\"coefficient\": 3.0, \"bigg_id\": \"h_e\"}, {\"coefficient\": -1.0, \"bigg_id\": \"q8_c\"}, {\"coefficient\": -1.0, \"bigg_id\": \"nadh_c\"}, {\"coefficient\": 1.0, \"bigg_id\": \"q8h2_c\"}, {\"coefficient\": -4.0, \"bigg_id\": \"h_c\"}, {\"coefficient\": 1.0, \"bigg_id\": \"nad_c\"}], \"label_x\": 4589.75537109375, \"label_y\": 2624.46044921875, \"gene_reaction_rule\": \"b2276 and b2277 and b2278 and b2279 and b2280 and b2281 and b2282 and b2283 and b2284 and b2285 and b2286 and b2287 and b2288\"}, \"1577507\": {\"name\": \"Alcohol dehydrogenase (ethanol)\", \"bigg_id\": \"ALCD2x\", \"segments\": {\"3\": {\"to_node_id\": \"1577043\", \"from_node_id\": \"1577042\", \"b2\": null, \"b1\": null}, \"2\": {\"to_node_id\": \"1577042\", \"from_node_id\": \"1577041\", \"b2\": null, \"b1\": null}, \"5\": {\"to_node_id\": \"1577041\", \"from_node_id\": \"1576822\", \"b2\": {\"y\": 4111.911975251582, \"x\": 2383.7628306266947}, \"b1\": {\"y\": 4139.7065841719395, \"x\": 2413.5427687556494}}, \"4\": {\"to_node_id\": \"1577041\", \"from_node_id\": \"1576829\", \"b2\": {\"y\": 4118.6722220553565, \"x\": 2391.0059522021684}, \"b1\": {\"y\": 4162.240740184523, \"x\": 2437.6865073405606}}, \"7\": {\"to_node_id\": \"1576813\", \"from_node_id\": \"1577043\", \"b2\": {\"y\": 4033.046682944248, \"x\": 2306.576904081298}, \"b1\": {\"y\": 4059.6140048832744, \"x\": 2331.3730712243896}}, \"6\": {\"to_node_id\": \"1576817\", \"from_node_id\": \"1577043\", \"b2\": {\"y\": 4004.2974661013272, \"x\": 2279.744301694572}, \"b1\": {\"y\": 4050.989239830398, \"x\": 2323.3232905083714}}, \"8\": {\"to_node_id\": \"1576824\", \"from_node_id\": \"1577043\", \"b2\": {\"y\": 4021.1795086945217, \"x\": 2295.5008747815536}, \"b1\": {\"y\": 4056.0538526083565, \"x\": 2328.0502624344663}}}, \"genes\": [{\"bigg_id\": \"b1241\", \"name\": \"adhE\"}, {\"bigg_id\": \"b0356\", \"name\": \"frmA\"}, {\"bigg_id\": \"b1478\", \"name\": \"adhP\"}], \"reversibility\": true, \"metabolites\": [{\"coefficient\": 1.0, \"bigg_id\": \"acald_c\"}, {\"coefficient\": 1.0, \"bigg_id\": \"h_c\"}, {\"coefficient\": -1.0, \"bigg_id\": \"nad_c\"}, {\"coefficient\": 1.0, \"bigg_id\": \"nadh_c\"}, {\"coefficient\": -1.0, \"bigg_id\": \"etoh_c\"}], \"label_x\": 2356.4794921875, \"label_y\": 4047.4384765625, \"gene_reaction_rule\": \"b0356 or b1478 or b1241\"}, \"1576754\": {\"name\": \"Phosphoenolpyruvate synthase\", \"bigg_id\": \"PPS\", \"segments\": {\"151\": {\"to_node_id\": \"1576970\", \"from_node_id\": \"1576511\", \"b2\": {\"y\": 3844.115214431216, \"x\": 835.0}, \"b1\": {\"y\": 3935.384048104053, \"x\": 835.0}}, \"150\": {\"to_node_id\": \"1576970\", \"from_node_id\": \"1576642\", \"b2\": {\"y\": 3821.7705098312485, \"x\": 835.0}, \"b1\": {\"y\": 3860.9016994374947, \"x\": 835.0}}, \"153\": {\"to_node_id\": \"1576517\", \"from_node_id\": \"1576971\", \"b2\": {\"y\": 3391.8647304430565, \"x\": 835.0}, \"b1\": {\"y\": 3485.059419132917, \"x\": 835.0}}, \"152\": {\"to_node_id\": \"1576970\", \"from_node_id\": \"1576643\", \"b2\": {\"y\": 3820.0, \"x\": 835.0}, \"b1\": {\"y\": 3855.0, \"x\": 835.0}}, \"155\": {\"to_node_id\": \"1576645\", \"from_node_id\": \"1576971\", \"b2\": {\"y\": 3475.0, \"x\": 835.0}, \"b1\": {\"y\": 3510.0, \"x\": 835.0}}, \"154\": {\"to_node_id\": \"1576644\", \"from_node_id\": \"1576971\", \"b2\": {\"y\": 3469.0983005625053, \"x\": 835.0}, \"b1\": {\"y\": 3508.2294901687515, \"x\": 835.0}}, \"156\": {\"to_node_id\": \"1576646\", \"from_node_id\": \"1576971\", \"b2\": {\"y\": 3454.289321881345, \"x\": 835.0}, \"b1\": {\"y\": 3503.7867965644036, \"x\": 835.0}}, \"148\": {\"to_node_id\": \"1576972\", \"from_node_id\": \"1576970\", \"b2\": null, \"b1\": null}, \"149\": {\"to_node_id\": \"1576971\", \"from_node_id\": \"1576972\", \"b2\": null, \"b1\": null}}, \"genes\": [{\"bigg_id\": \"b1702\", \"name\": \"ppsA\"}], \"reversibility\": false, \"metabolites\": [{\"coefficient\": -1.0, \"bigg_id\": \"pyr_c\"}, {\"coefficient\": -1.0, \"bigg_id\": \"atp_c\"}, {\"coefficient\": 1.0, \"bigg_id\": \"amp_c\"}, {\"coefficient\": 1.0, \"bigg_id\": \"pep_c\"}, {\"coefficient\": 2.0, \"bigg_id\": \"h_c\"}, {\"coefficient\": 1.0, \"bigg_id\": \"pi_c\"}, {\"coefficient\": -1.0, \"bigg_id\": \"h2o_c\"}], \"label_x\": 741.8604125976562, \"label_y\": 3669.90869140625, \"gene_reaction_rule\": \"b1702\"}, \"1576755\": {\"name\": \"D-Glucose exchange\", \"bigg_id\": \"EX_glc__D_e\", \"segments\": {\"157\": {\"to_node_id\": \"1576974\", \"from_node_id\": \"1576647\", \"b2\": {\"y\": 623.4132690429688, \"x\": 1056.6529541015625}, \"b1\": {\"y\": 625.4632568359375, \"x\": 1055.066162109375}}}, \"genes\": [], \"reversibility\": true, \"metabolites\": [{\"coefficient\": -1.0, \"bigg_id\": \"glc__D_e\"}], \"label_x\": 1082.5206298828125, \"label_y\": 598.4705200195312, \"gene_reaction_rule\": \"\"}, \"1576756\": {\"name\": \"ETOHt2r\", \"bigg_id\": \"ETOHt2r\", \"segments\": {\"159\": {\"to_node_id\": \"1576976\", \"from_node_id\": \"1576977\", \"b2\": null, \"b1\": null}, \"164\": {\"to_node_id\": \"1576829\", \"from_node_id\": \"1576975\", \"b2\": {\"y\": 4328.998762383821, \"x\": 2500.0}, \"b1\": {\"y\": 4399.699628715146, \"x\": 2500.0}}, \"160\": {\"to_node_id\": \"1576975\", \"from_node_id\": \"1576976\", \"b2\": null, \"b1\": null}, \"161\": {\"to_node_id\": \"1576977\", \"from_node_id\": \"1576648\", \"b2\": {\"y\": 4745.660459763366, \"x\": 2500.0}, \"b1\": {\"y\": 4782.201532544553, \"x\": 2500.0}}, \"162\": {\"to_node_id\": \"1576977\", \"from_node_id\": \"1576649\", \"b2\": {\"y\": 4745.0, \"x\": 2500.0}, \"b1\": {\"y\": 4780.0, \"x\": 2500.0}}, \"163\": {\"to_node_id\": \"1576650\", \"from_node_id\": \"1576975\", \"b2\": {\"y\": 4377.798467455447, \"x\": 2500.0}, \"b1\": {\"y\": 4414.339540236634, \"x\": 2500.0}}}, \"genes\": [], \"reversibility\": true, \"metabolites\": [{\"coefficient\": -1.0, \"bigg_id\": \"h_e\"}, {\"coefficient\": 1.0, \"bigg_id\": \"etoh_c\"}, {\"coefficient\": -1.0, \"bigg_id\": \"etoh_e\"}, {\"coefficient\": 1.0, \"bigg_id\": \"h_c\"}], \"label_x\": 2530.6279296875, \"label_y\": 4611.404296875, \"gene_reaction_rule\": \"\"}, \"1576757\": {\"name\": \"Phosphoglycerate mutase\", \"bigg_id\": \"PGM\", \"segments\": {\"165\": {\"to_node_id\": \"1576978\", \"from_node_id\": \"1576522\", \"b2\": {\"y\": 3060.0, \"x\": 1055.0}, \"b1\": {\"y\": 3105.5, \"x\": 1055.0}}, \"166\": {\"to_node_id\": \"1576486\", \"from_node_id\": \"1576978\", \"b2\": {\"y\": 2935.0, \"x\": 1055.0}, \"b1\": {\"y\": 2977.0, \"x\": 1055.0}}}, \"genes\": [{\"bigg_id\": \"b3612\", \"name\": \"gpmM\"}, {\"bigg_id\": \"b4395\", \"name\": \"ytjC\"}, {\"bigg_id\": \"b0755\", \"name\": \"gpmA\"}], \"reversibility\": true, \"metabolites\": [{\"coefficient\": 1.0, \"bigg_id\": \"3pg_c\"}, {\"coefficient\": -1.0, \"bigg_id\": \"2pg_c\"}], \"label_x\": 1065.0, \"label_y\": 2985.0, \"gene_reaction_rule\": \"b3612 or b4395 or b0755\"}, \"1576750\": {\"name\": \"H2O exchange\", \"bigg_id\": \"EX_h2o_e\", \"segments\": {\"136\": {\"to_node_id\": \"1576962\", \"from_node_id\": \"1576639\", \"b2\": {\"y\": 4839.0, \"x\": 3257.0}, \"b1\": {\"y\": 4779.5, \"x\": 3257.0}}}, \"genes\": [], \"reversibility\": true, \"metabolites\": [{\"coefficient\": -1.0, \"bigg_id\": \"h2o_e\"}], \"label_x\": 3267.0, \"label_y\": 4914.0, \"gene_reaction_rule\": \"\"}, \"1576751\": {\"name\": \"Transketolase\", \"bigg_id\": \"TKT1\", \"segments\": {\"142\": {\"to_node_id\": \"1576546\", \"from_node_id\": \"1576966\", \"b2\": {\"y\": 1816.322080948729, \"x\": 2070.2734375}, \"b1\": {\"y\": 1823.819109636181, \"x\": 2173.413330078125}}, \"143\": {\"to_node_id\": \"1576545\", \"from_node_id\": \"1576966\", \"b2\": {\"y\": 1821.0824569252916, \"x\": 2297.1806640625}, \"b1\": {\"y\": 1822.232439714306, \"x\": 2175.0}}, \"140\": {\"to_node_id\": \"1576964\", \"from_node_id\": \"1576605\", \"b2\": {\"y\": 1605.9896167668144, \"x\": 2175.0}, \"b1\": {\"y\": 1557.80791851959, \"x\": 2171.826416015625}}, \"141\": {\"to_node_id\": \"1576964\", \"from_node_id\": \"1576558\", \"b2\": {\"y\": 1607.9527328943145, \"x\": 2175.0}, \"b1\": {\"y\": 1558.0047151164654, \"x\": 2171.82666015625}}, \"139\": {\"to_node_id\": \"1576966\", \"from_node_id\": \"1576965\", \"b2\": null, \"b1\": null}, \"138\": {\"to_node_id\": \"1576965\", \"from_node_id\": \"1576964\", \"b2\": null, \"b1\": null}}, \"genes\": [{\"bigg_id\": \"b2465\", \"name\": \"tktB\"}, {\"bigg_id\": \"b2935\", \"name\": \"tktA\"}], \"reversibility\": true, \"metabolites\": [{\"coefficient\": -1.0, \"bigg_id\": \"xu5p__D_c\"}, {\"coefficient\": -1.0, \"bigg_id\": \"r5p_c\"}, {\"coefficient\": 1.0, \"bigg_id\": \"g3p_c\"}, {\"coefficient\": 1.0, \"bigg_id\": \"s7p_c\"}], \"label_x\": 2185.0, \"label_y\": 1685.0, \"gene_reaction_rule\": \"b2935 or b2465\"}, \"1576752\": {\"name\": \"CO2 transporter via diffusion\", \"bigg_id\": \"CO2t\", \"segments\": {\"144\": {\"to_node_id\": \"1576967\", \"from_node_id\": \"1576544\", \"b2\": {\"y\": 4679.0, \"x\": 3621.0}, \"b1\": {\"y\": 4731.5, \"x\": 3621.0}}, \"145\": {\"to_node_id\": \"1576641\", \"from_node_id\": \"1576967\", \"b2\": {\"y\": 4519.0, \"x\": 3621.0}, \"b1\": {\"y\": 4578.5, \"x\": 3621.0}}}, \"genes\": [{\"bigg_id\": \"s0001\", \"name\": \"None\"}], \"reversibility\": true, \"metabolites\": [{\"coefficient\": -1.0, \"bigg_id\": \"co2_e\"}, {\"coefficient\": 1.0, \"bigg_id\": \"co2_c\"}], \"label_x\": 3631.0, \"label_y\": 4594.0, \"gene_reaction_rule\": \"s0001\"}, \"1576753\": {\"name\": \"2-Oxoglutarate exchange\", \"bigg_id\": \"EX_akg_e\", \"segments\": {\"146\": {\"to_node_id\": \"1576969\", \"from_node_id\": \"1576598\", \"b2\": {\"y\": 3228.0, \"x\": 4977.0}, \"b1\": {\"y\": 3228.0, \"x\": 4938.5}}}, \"genes\": [], \"reversibility\": false, \"metabolites\": [{\"coefficient\": -1.0, \"bigg_id\": \"akg_e\"}], \"label_x\": 5042.0, \"label_y\": 3218.0, \"gene_reaction_rule\": \"\"}, \"1576758\": {\"name\": \"Ethanol exchange\", \"bigg_id\": \"EX_etoh_e\", \"segments\": {\"167\": {\"to_node_id\": \"1576980\", \"from_node_id\": \"1576649\", \"b2\": {\"y\": 4887.93359375, \"x\": 2500.0}, \"b1\": {\"y\": 4875.1484375, \"x\": 2500.0}}}, \"genes\": [], \"reversibility\": false, \"metabolites\": [{\"coefficient\": -1.0, \"bigg_id\": \"etoh_e\"}], \"label_x\": 2519.520751953125, \"label_y\": 4934.28076171875, \"gene_reaction_rule\": \"\"}, \"1576759\": {\"name\": \"Acetate kinase\", \"bigg_id\": \"ACKr\", \"segments\": {\"169\": {\"to_node_id\": \"1576982\", \"from_node_id\": \"1576981\", \"b2\": null, \"b1\": null}, \"174\": {\"to_node_id\": \"1576613\", \"from_node_id\": \"1576983\", \"b2\": {\"y\": 4215.0, \"x\": 1715.0}, \"b1\": {\"y\": 4243.0, \"x\": 1715.0}}, \"173\": {\"to_node_id\": \"1576653\", \"from_node_id\": \"1576983\", \"b2\": {\"y\": 4202.798467455447, \"x\": 1715.0}, \"b1\": {\"y\": 4239.339540236634, \"x\": 1715.0}}, \"172\": {\"to_node_id\": \"1576981\", \"from_node_id\": \"1576652\", \"b2\": {\"y\": 4317.0, \"x\": 1715.0}, \"b1\": {\"y\": 4345.0, \"x\": 1715.0}}, \"171\": {\"to_node_id\": \"1576981\", \"from_node_id\": \"1576651\", \"b2\": {\"y\": 4320.660459763366, \"x\": 1715.0}, \"b1\": {\"y\": 4357.201532544553, \"x\": 1715.0}}, \"170\": {\"to_node_id\": \"1576983\", \"from_node_id\": \"1576982\", \"b2\": null, \"b1\": null}}, \"genes\": [{\"bigg_id\": \"b2296\", \"name\": \"ackA\"}, {\"bigg_id\": \"b3115\", \"name\": \"tdcD\"}, {\"bigg_id\": \"b1849\", \"name\": \"purT\"}], \"reversibility\": true, \"metabolites\": [{\"coefficient\": 1.0, \"bigg_id\": \"adp_c\"}, {\"coefficient\": -1.0, \"bigg_id\": \"ac_c\"}, {\"coefficient\": 1.0, \"bigg_id\": \"actp_c\"}, {\"coefficient\": -1.0, \"bigg_id\": \"atp_c\"}], \"label_x\": 1737.694091796875, \"label_y\": 4293.5615234375, \"gene_reaction_rule\": \"b3115 or b2296 or b1849\"}, \"1576710\": {\"name\": \"CO2 exchange\", \"bigg_id\": \"EX_co2_e\", \"segments\": {\"367\": {\"to_node_id\": \"1576871\", \"from_node_id\": \"1576544\", \"b2\": {\"y\": 4834.0, \"x\": 3621.0}, \"b1\": {\"y\": 4778.0, \"x\": 3621.0}}}, \"genes\": [], \"reversibility\": true, \"metabolites\": [{\"coefficient\": -1.0, \"bigg_id\": \"co2_e\"}], \"label_x\": 3631.0, \"label_y\": 4904.0, \"gene_reaction_rule\": \"\"}, \"1576760\": {\"name\": \"Ammonia exchange\", \"bigg_id\": \"EX_nh4_e\", \"segments\": {\"175\": {\"to_node_id\": \"1576985\", \"from_node_id\": \"1576526\", \"b2\": {\"y\": 4837.5, \"x\": 3990.0}, \"b1\": {\"y\": 4781.15, \"x\": 3989.3}}}, \"genes\": [], \"reversibility\": true, \"metabolites\": [{\"coefficient\": -1.0, \"bigg_id\": \"nh4_e\"}], \"label_x\": 4001.0, \"label_y\": 4908.0, \"gene_reaction_rule\": \"\"}, \"1576763\": {\"name\": \"Fumarate transport via proton symport  2 H \", \"bigg_id\": \"FUMt2_2\", \"segments\": {\"191\": {\"to_node_id\": \"1576659\", \"from_node_id\": \"1576992\", \"b2\": {\"y\": 1032.2015325445527, \"x\": 2840.0}, \"b1\": {\"y\": 995.6604597633658, \"x\": 2840.0}}, \"190\": {\"to_node_id\": \"1576991\", \"from_node_id\": \"1576658\", \"b2\": {\"y\": 714.3395402366342, \"x\": 2840.0}, \"b1\": {\"y\": 677.7984674554473, \"x\": 2840.0}}, \"192\": {\"to_node_id\": \"1576503\", \"from_node_id\": \"1576992\", \"b2\": {\"y\": 1950.0011597931211, \"x\": 2840.0}, \"b1\": {\"y\": 1271.0003479379363, \"x\": 2840.0}}, \"187\": {\"to_node_id\": \"1576993\", \"from_node_id\": \"1576991\", \"b2\": null, \"b1\": null}, \"188\": {\"to_node_id\": \"1576992\", \"from_node_id\": \"1576993\", \"b2\": null, \"b1\": null}, \"189\": {\"to_node_id\": \"1576991\", \"from_node_id\": \"1576657\", \"b2\": {\"y\": 718.0, \"x\": 2840.0}, \"b1\": {\"y\": 690.0, \"x\": 2840.0}}}, \"genes\": [{\"bigg_id\": \"b3528\", \"name\": \"dctA\"}], \"reversibility\": false, \"metabolites\": [{\"coefficient\": 1.0, \"bigg_id\": \"fum_c\"}, {\"coefficient\": 2.0, \"bigg_id\": \"h_c\"}, {\"coefficient\": -1.0, \"bigg_id\": \"fum_e\"}, {\"coefficient\": -2.0, \"bigg_id\": \"h_e\"}], \"label_x\": 2851.586669921875, \"label_y\": 845.8676147460938, \"gene_reaction_rule\": \"b3528\"}, \"1576762\": {\"name\": \"Phosphate exchange\", \"bigg_id\": \"EX_pi_e\", \"segments\": {\"185\": {\"to_node_id\": \"1576989\", \"from_node_id\": \"1576594\", \"b2\": {\"y\": 4909.82177734375, \"x\": 2880.0}, \"b1\": {\"y\": 4896.2666015625, \"x\": 2879.999755859375}}}, \"genes\": [], \"reversibility\": true, \"metabolites\": [{\"coefficient\": -1.0, \"bigg_id\": \"pi_e\"}], \"label_x\": 2902.694091796875, \"label_y\": 4926.21484375, \"gene_reaction_rule\": \"\"}, \"1576765\": {\"name\": \"D-glucose transport via PEP:Pyr PTS\", \"bigg_id\": \"GLCpts\", \"segments\": {\"201\": {\"to_node_id\": \"1576998\", \"from_node_id\": \"1576662\", \"b2\": {\"y\": 830.8607140720374, \"x\": 1056.2982974892807}, \"b1\": {\"y\": 817.6128620109578, \"x\": 962.100078544998}}, \"200\": {\"to_node_id\": \"1576999\", \"from_node_id\": \"1576997\", \"b2\": null, \"b1\": null}, \"203\": {\"to_node_id\": \"1576663\", \"from_node_id\": \"1576999\", \"b2\": {\"y\": 1091.99109457335, \"x\": 1162.89990234375}, \"b1\": {\"y\": 1155.6497636747395, \"x\": 1056.5867919921875}}, \"202\": {\"to_node_id\": \"1576998\", \"from_node_id\": \"1576647\", \"b2\": {\"y\": 852.0646158583277, \"x\": 1054.6540059434642}, \"b1\": {\"y\": 841.218336226978, \"x\": 1054.4691636917553}}, \"199\": {\"to_node_id\": \"1576997\", \"from_node_id\": \"1576998\", \"b2\": null, \"b1\": null}, \"204\": {\"to_node_id\": \"1576524\", \"from_node_id\": \"1576999\", \"b2\": {\"y\": 1159.3526000976562, \"x\": 1055.0}, \"b1\": {\"y\": 1156.4998046875, \"x\": 1056.5867919921875}}}, \"genes\": [{\"bigg_id\": \"b1621\", \"name\": \"malX\"}, {\"bigg_id\": \"b2416\", \"name\": \"ptsI\"}, {\"bigg_id\": \"b1817\", \"name\": \"manX\"}, {\"bigg_id\": \"b1101\", \"name\": \"ptsG\"}, {\"bigg_id\": \"b1818\", \"name\": \"manY\"}, {\"bigg_id\": \"b1819\", \"name\": \"manZ\"}, {\"bigg_id\": \"b2415\", \"name\": \"ptsH\"}, {\"bigg_id\": \"b2417\", \"name\": \"crr\"}], \"reversibility\": false, \"metabolites\": [{\"coefficient\": -1.0, \"bigg_id\": \"pep_c\"}, {\"coefficient\": 1.0, \"bigg_id\": \"pyr_c\"}, {\"coefficient\": -1.0, \"bigg_id\": \"glc__D_e\"}, {\"coefficient\": 1.0, \"bigg_id\": \"g6p_c\"}], \"label_x\": 1074.520263671875, \"label_y\": 929.0499877929688, \"gene_reaction_rule\": \"(b2417 and b1101 and b2415 and b2416) or (b1817 and b1818 and b1819 and b2415 and b2416) or (b2417 and b1621 and b2415 and b2416)\"}, \"1576764\": {\"name\": \"Acetate reversible transport via proton symport\", \"bigg_id\": \"ACt2r\", \"segments\": {\"198\": {\"to_node_id\": \"1576661\", \"from_node_id\": \"1576996\", \"b2\": {\"y\": 4430.253057299197, \"x\": 1719.76025390625}, \"b1\": {\"y\": 4485.835145705384, \"x\": 1715.0}}, \"195\": {\"to_node_id\": \"1576994\", \"from_node_id\": \"1576627\", \"b2\": {\"y\": 4760.0, \"x\": 1715.0}, \"b1\": {\"y\": 4779.13232421875, \"x\": 1716.5867919921875}}, \"194\": {\"to_node_id\": \"1576996\", \"from_node_id\": \"1576995\", \"b2\": null, \"b1\": null}, \"197\": {\"to_node_id\": \"1576652\", \"from_node_id\": \"1576996\", \"b2\": {\"y\": 4450.38818359375, \"x\": 1715.0}, \"b1\": {\"y\": 4489.49560546875, \"x\": 1715.0}}, \"196\": {\"to_node_id\": \"1576994\", \"from_node_id\": \"1576660\", \"b2\": {\"y\": 4760.660459763366, \"x\": 1715.0}, \"b1\": {\"y\": 4787.680536450803, \"x\": 1715.0}}, \"193\": {\"to_node_id\": \"1576995\", \"from_node_id\": \"1576994\", \"b2\": null, \"b1\": null}}, \"genes\": [], \"reversibility\": true, \"metabolites\": [{\"coefficient\": -1.0, \"bigg_id\": \"h_e\"}, {\"coefficient\": 1.0, \"bigg_id\": \"h_c\"}, {\"coefficient\": -1.0, \"bigg_id\": \"ac_e\"}, {\"coefficient\": 1.0, \"bigg_id\": \"ac_c\"}], \"label_x\": 1740.8675537109375, \"label_y\": 4638.470703125, \"gene_reaction_rule\": \"\"}, \"1576766\": {\"name\": \"Succinate transport out via proton antiport\", \"bigg_id\": \"SUCCt3\", \"segments\": {\"205\": {\"to_node_id\": \"1577000\", \"from_node_id\": \"1577002\", \"b2\": null, \"b1\": null}, \"207\": {\"to_node_id\": \"1577002\", \"from_node_id\": \"1576664\", \"b2\": {\"y\": 2844.388427734375, \"x\": 4392.512762612581}, \"b1\": {\"y\": 2928.186767578125, \"x\": 4395.992900114855}}, \"210\": {\"to_node_id\": \"1576665\", \"from_node_id\": \"1577001\", \"b2\": {\"y\": 2757.366943359375, \"x\": 4896.373608481642}, \"b1\": {\"y\": 2844.388427734375, \"x\": 4895.4172094976175}}, \"206\": {\"to_node_id\": \"1577001\", \"from_node_id\": \"1577000\", \"b2\": null, \"b1\": null}, \"209\": {\"to_node_id\": \"1576531\", \"from_node_id\": \"1577001\", \"b2\": {\"y\": 2846.0, \"x\": 4852.764726786234}, \"b1\": {\"y\": 2844.388427734375, \"x\": 4830.28303131712}}, \"208\": {\"to_node_id\": \"1577002\", \"from_node_id\": \"1576533\", \"b2\": {\"y\": 2846.0, \"x\": 4388.970989302984}, \"b1\": {\"y\": 2846.0, \"x\": 3989.9032976766134}}}, \"genes\": [], \"reversibility\": false, \"metabolites\": [{\"coefficient\": -1.0, \"bigg_id\": \"succ_c\"}, {\"coefficient\": 1.0, \"bigg_id\": \"succ_e\"}, {\"coefficient\": 1.0, \"bigg_id\": \"h_c\"}, {\"coefficient\": -1.0, \"bigg_id\": \"h_e\"}], \"label_x\": 4451.38818359375, \"label_y\": 2819.884765625, \"gene_reaction_rule\": \"\"}, \"1576769\": {\"name\": \"Glyceraldehyde-3-phosphate dehydrogenase\", \"bigg_id\": \"GAPD\", \"segments\": {\"217\": {\"to_node_id\": \"1577008\", \"from_node_id\": \"1577006\", \"b2\": null, \"b1\": null}, \"218\": {\"to_node_id\": \"1577007\", \"from_node_id\": \"1577008\", \"b2\": null, \"b1\": null}, \"219\": {\"to_node_id\": \"1577006\", \"from_node_id\": \"1576575\", \"b2\": {\"y\": 2322.5, \"x\": 1055.0}, \"b1\": {\"y\": 2270.0, \"x\": 1055.0}}, \"224\": {\"to_node_id\": \"1576672\", \"from_node_id\": \"1577007\", \"b2\": {\"y\": 2482.4341649025255, \"x\": 1055.0}, \"b1\": {\"y\": 2449.230249470758, \"x\": 1055.0}}, \"223\": {\"to_node_id\": \"1576671\", \"from_node_id\": \"1577007\", \"b2\": {\"y\": 2495.2079728939616, \"x\": 1055.0}, \"b1\": {\"y\": 2453.0623918681886, \"x\": 1055.0}}, \"222\": {\"to_node_id\": \"1576487\", \"from_node_id\": \"1577007\", \"b2\": {\"y\": 2500.0, \"x\": 1055.0}, \"b1\": {\"y\": 2454.5, \"x\": 1055.0}}, \"221\": {\"to_node_id\": \"1577006\", \"from_node_id\": \"1576670\", \"b2\": {\"y\": 2330.769750529242, \"x\": 1055.0}, \"b1\": {\"y\": 2297.5658350974745, \"x\": 1055.0}}, \"220\": {\"to_node_id\": \"1577006\", \"from_node_id\": \"1576669\", \"b2\": {\"y\": 2326.9376081318114, \"x\": 1055.0}, \"b1\": {\"y\": 2284.7920271060384, \"x\": 1055.0}}}, \"genes\": [{\"bigg_id\": \"b1779\", \"name\": \"gapA\"}], \"reversibility\": true, \"metabolites\": [{\"coefficient\": 1.0, \"bigg_id\": \"13dpg_c\"}, {\"coefficient\": -1.0, \"bigg_id\": \"g3p_c\"}, {\"coefficient\": 1.0, \"bigg_id\": \"nadh_c\"}, {\"coefficient\": 1.0, \"bigg_id\": \"h_c\"}, {\"coefficient\": -1.0, \"bigg_id\": \"nad_c\"}, {\"coefficient\": -1.0, \"bigg_id\": \"pi_c\"}], \"label_x\": 1065.0, \"label_y\": 2385.0, \"gene_reaction_rule\": \"b1779\"}, \"1576768\": {\"name\": \"6-phosphogluconolactonase\", \"bigg_id\": \"PGL\", \"segments\": {\"216\": {\"to_node_id\": \"1576490\", \"from_node_id\": \"1577004\", \"b2\": {\"y\": 1265.0, \"x\": 1742.0}, \"b1\": {\"y\": 1265.0, \"x\": 1682.5}}, \"214\": {\"to_node_id\": \"1577005\", \"from_node_id\": \"1576667\", \"b2\": {\"y\": 1265.0, \"x\": 1600.6197527491188}, \"b1\": {\"y\": 1265.0, \"x\": 1562.3991758303962}}, \"215\": {\"to_node_id\": \"1576668\", \"from_node_id\": \"1577004\", \"b2\": {\"y\": 1265.0, \"x\": 1711.6008241696038}, \"b1\": {\"y\": 1265.0, \"x\": 1673.3802472508812}}, \"212\": {\"to_node_id\": \"1577004\", \"from_node_id\": \"1577003\", \"b2\": null, \"b1\": null}, \"213\": {\"to_node_id\": \"1577005\", \"from_node_id\": \"1576626\", \"b2\": {\"y\": 1265.0, \"x\": 1600.5}, \"b1\": {\"y\": 1265.0, \"x\": 1562.0}}, \"211\": {\"to_node_id\": \"1577003\", \"from_node_id\": \"1577005\", \"b2\": null, \"b1\": null}}, \"genes\": [{\"bigg_id\": \"b0767\", \"name\": \"pgl\"}], \"reversibility\": false, \"metabolites\": [{\"coefficient\": -1.0, \"bigg_id\": \"6pgl_c\"}, {\"coefficient\": 1.0, \"bigg_id\": \"h_c\"}, {\"coefficient\": -1.0, \"bigg_id\": \"h2o_c\"}, {\"coefficient\": 1.0, \"bigg_id\": \"6pgc_c\"}], \"label_x\": 1599.3970947265625, \"label_y\": 1312.1234130859375, \"gene_reaction_rule\": \"b0767\"}, \"1576699\": {\"name\": \"Pyruvate dehydrogenase\", \"bigg_id\": \"PDH\", \"segments\": {\"331\": {\"to_node_id\": \"1576514\", \"from_node_id\": \"1576851\", \"b2\": {\"y\": 3945.0, \"x\": 1635.0}, \"b1\": {\"y\": 3945.0, \"x\": 1579.0}}, \"330\": {\"to_node_id\": \"1576513\", \"from_node_id\": \"1576851\", \"b2\": {\"y\": 3945.0, \"x\": 1606.478150704935}, \"b1\": {\"y\": 3945.0, \"x\": 1570.4434452114806}}, \"332\": {\"to_node_id\": \"1576515\", \"from_node_id\": \"1576851\", \"b2\": {\"y\": 3945.0, \"x\": 1613.309518948453}, \"b1\": {\"y\": 3945.0, \"x\": 1572.492855684536}}, \"326\": {\"to_node_id\": \"1576851\", \"from_node_id\": \"1576850\", \"b2\": null, \"b1\": null}, \"327\": {\"to_node_id\": \"1576849\", \"from_node_id\": \"1576510\", \"b2\": {\"y\": 3945.0, \"x\": 1413.3472975166192}, \"b1\": {\"y\": 3945.0, \"x\": 1374.4909917220637}}, \"325\": {\"to_node_id\": \"1576850\", \"from_node_id\": \"1576849\", \"b2\": null, \"b1\": null}, \"328\": {\"to_node_id\": \"1576849\", \"from_node_id\": \"1576511\", \"b2\": {\"y\": 3945.0, \"x\": 1373.75}, \"b1\": {\"y\": 3945.0, \"x\": 1242.5}}, \"329\": {\"to_node_id\": \"1576849\", \"from_node_id\": \"1576512\", \"b2\": {\"y\": 3945.0, \"x\": 1411.736306507171}, \"b1\": {\"y\": 3945.0, \"x\": 1369.1210216905704}}}, \"genes\": [{\"bigg_id\": \"b0114\", \"name\": \"aceE\"}, {\"bigg_id\": \"b0115\", \"name\": \"aceF\"}, {\"bigg_id\": \"b0116\", \"name\": \"lpd\"}], \"reversibility\": false, \"metabolites\": [{\"coefficient\": 1.0, \"bigg_id\": \"nadh_c\"}, {\"coefficient\": -1.0, \"bigg_id\": \"coa_c\"}, {\"coefficient\": -1.0, \"bigg_id\": \"pyr_c\"}, {\"coefficient\": 1.0, \"bigg_id\": \"accoa_c\"}, {\"coefficient\": -1.0, \"bigg_id\": \"nad_c\"}, {\"coefficient\": 1.0, \"bigg_id\": \"co2_c\"}], \"label_x\": 1417.72802734375, \"label_y\": 3920.71923828125, \"gene_reaction_rule\": \"b0114 and b0115 and b0116\"}, \"1576698\": {\"name\": \"Isocitrate dehydrogenase (NADP)\", \"bigg_id\": \"ICDHyr\", \"segments\": {\"319\": {\"to_node_id\": \"1576848\", \"from_node_id\": \"1576846\", \"b2\": null, \"b1\": null}, \"318\": {\"to_node_id\": \"1576846\", \"from_node_id\": \"1576847\", \"b2\": null, \"b1\": null}, \"322\": {\"to_node_id\": \"1576507\", \"from_node_id\": \"1576848\", \"b2\": {\"y\": 3735.4876397766343, \"x\": 3702.9108389651055}, \"b1\": {\"y\": 3767.3462919329904, \"x\": 3674.9732516895315}}, \"323\": {\"to_node_id\": \"1576508\", \"from_node_id\": \"1576848\", \"b2\": {\"y\": 3749.7955576929353, \"x\": 3690.36389556158}, \"b1\": {\"y\": 3771.6386673078805, \"x\": 3671.209168668474}}, \"320\": {\"to_node_id\": \"1576847\", \"from_node_id\": \"1576505\", \"b2\": {\"y\": 3933.673891941737, \"x\": 3498.9695345126847}, \"b1\": {\"y\": 3958.5796398057905, \"x\": 3468.565115042282}}, \"321\": {\"to_node_id\": \"1576847\", \"from_node_id\": \"1576506\", \"b2\": {\"y\": 3936.593890513596, \"x\": 3495.4048609314546}, \"b1\": {\"y\": 3968.312968378653, \"x\": 3456.6828697715146}}, \"324\": {\"to_node_id\": \"1576509\", \"from_node_id\": \"1576848\", \"b2\": {\"y\": 3715.2337610392046, \"x\": 3720.671932627159}, \"b1\": {\"y\": 3761.2701283117613, \"x\": 3680.3015797881476}}}, \"genes\": [{\"bigg_id\": \"b1136\", \"name\": \"icd\"}], \"reversibility\": true, \"metabolites\": [{\"coefficient\": 1.0, \"bigg_id\": \"nadph_c\"}, {\"coefficient\": 1.0, \"bigg_id\": \"akg_c\"}, {\"coefficient\": 1.0, \"bigg_id\": \"co2_c\"}, {\"coefficient\": -1.0, \"bigg_id\": \"nadp_c\"}, {\"coefficient\": -1.0, \"bigg_id\": \"icit_c\"}], \"label_x\": 3616.0, \"label_y\": 3836.0, \"gene_reaction_rule\": \"b1136\"}, \"1576695\": {\"name\": \"O2 transport  diffusion \", \"bigg_id\": \"O2t\", \"segments\": {\"304\": {\"to_node_id\": \"1576840\", \"from_node_id\": \"1576494\", \"b2\": {\"y\": 1660.0, \"x\": 4755.0}, \"b1\": {\"y\": 1660.0, \"x\": 4821.5}}, \"305\": {\"to_node_id\": \"1576495\", \"from_node_id\": \"1576840\", \"b2\": {\"y\": 1660.0, \"x\": 4495.0}, \"b1\": {\"y\": 1660.0, \"x\": 4610.5}}}, \"genes\": [{\"bigg_id\": \"s0001\", \"name\": \"None\"}], \"reversibility\": true, \"metabolites\": [{\"coefficient\": 1.0, \"bigg_id\": \"o2_c\"}, {\"coefficient\": -1.0, \"bigg_id\": \"o2_e\"}], \"label_x\": 4557.1943359375, \"label_y\": 1635.4964599609375, \"gene_reaction_rule\": \"s0001\"}, \"1576694\": {\"name\": \"Phosphogluconate dehydrogenase\", \"bigg_id\": \"GND\", \"segments\": {\"300\": {\"to_node_id\": \"1576838\", \"from_node_id\": \"1576490\", \"b2\": {\"y\": 1265.0, \"x\": 1920.5}, \"b1\": {\"y\": 1265.0, \"x\": 1882.0}}, \"301\": {\"to_node_id\": \"1576491\", \"from_node_id\": \"1576839\", \"b2\": {\"y\": 1265.0, \"x\": 2029.2015325445527}, \"b1\": {\"y\": 1265.0, \"x\": 1992.660459763366}}, \"302\": {\"to_node_id\": \"1576492\", \"from_node_id\": \"1576839\", \"b2\": {\"y\": 1265.0, \"x\": 2041.0312423743285}, \"b1\": {\"y\": 1265.0, \"x\": 1996.2093727122985}}, \"303\": {\"to_node_id\": \"1576493\", \"from_node_id\": \"1576839\", \"b2\": {\"y\": 1265.0, \"x\": 2066.0}, \"b1\": {\"y\": 1265.0, \"x\": 2003.7}}, \"298\": {\"to_node_id\": \"1576839\", \"from_node_id\": \"1576837\", \"b2\": null, \"b1\": null}, \"299\": {\"to_node_id\": \"1576838\", \"from_node_id\": \"1576489\", \"b2\": {\"y\": 1265.0, \"x\": 1921.339540236634}, \"b1\": {\"y\": 1265.0, \"x\": 1884.7984674554473}}, \"297\": {\"to_node_id\": \"1576837\", \"from_node_id\": \"1576838\", \"b2\": null, \"b1\": null}}, \"genes\": [{\"bigg_id\": \"b2029\", \"name\": \"gnd\"}], \"reversibility\": false, \"metabolites\": [{\"coefficient\": 1.0, \"bigg_id\": \"ru5p__D_c\"}, {\"coefficient\": 1.0, \"bigg_id\": \"nadph_c\"}, {\"coefficient\": 1.0, \"bigg_id\": \"co2_c\"}, {\"coefficient\": -1.0, \"bigg_id\": \"nadp_c\"}, {\"coefficient\": -1.0, \"bigg_id\": \"6pgc_c\"}], \"label_x\": 1930.5045166015625, \"label_y\": 1313.710205078125, \"gene_reaction_rule\": \"b2029\"}, \"1576697\": {\"name\": \"Fumarase\", \"bigg_id\": \"FUM\", \"segments\": {\"317\": {\"to_node_id\": \"1576844\", \"from_node_id\": \"1576503\", \"b2\": {\"y\": 3003.8745504813855, \"x\": 2741.433228320378}, \"b1\": {\"y\": 2961.5818349379524, \"x\": 2775.110761067927}}, \"316\": {\"to_node_id\": \"1576844\", \"from_node_id\": \"1576502\", \"b2\": {\"y\": 3010.0650991921693, \"x\": 2736.5037173099395}, \"b1\": {\"y\": 2982.216997307231, \"x\": 2758.679057699798}}, \"315\": {\"to_node_id\": \"1576504\", \"from_node_id\": \"1576845\", \"b2\": {\"y\": 3134.0, \"x\": 2652.5}, \"b1\": {\"y\": 3093.4, \"x\": 2674.55}}, \"314\": {\"to_node_id\": \"1576845\", \"from_node_id\": \"1576844\", \"b2\": null, \"b1\": null}}, \"genes\": [{\"bigg_id\": \"b4122\", \"name\": \"fumB\"}, {\"bigg_id\": \"b1611\", \"name\": \"fumC\"}, {\"bigg_id\": \"b1612\", \"name\": \"fumA\"}], \"reversibility\": true, \"metabolites\": [{\"coefficient\": -1.0, \"bigg_id\": \"fum_c\"}, {\"coefficient\": -1.0, \"bigg_id\": \"h2o_c\"}, {\"coefficient\": 1.0, \"bigg_id\": \"mal__L_c\"}], \"label_x\": 2759.057373046875, \"label_y\": 3066.0, \"gene_reaction_rule\": \"b1612 or b4122 or b1611\"}, \"1576696\": {\"name\": \"NAD P  transhydrogenase\", \"bigg_id\": \"THD2\", \"segments\": {\"308\": {\"to_node_id\": \"1576842\", \"from_node_id\": \"1576496\", \"b2\": {\"y\": 724.5066228070302, \"x\": 3510.0}, \"b1\": {\"y\": 580.5856339661426, \"x\": 3331.1220703125}}, \"309\": {\"to_node_id\": \"1576842\", \"from_node_id\": \"1576497\", \"b2\": {\"y\": 750.137689584216, \"x\": 3510.0}, \"b1\": {\"y\": 654.7419446101471, \"x\": 3418.143798828125}}, \"313\": {\"to_node_id\": \"1576501\", \"from_node_id\": \"1576843\", \"b2\": {\"y\": 1081.817596989458, \"x\": 3624.41748046875}, \"b1\": {\"y\": 1038.7769502394156, \"x\": 3506.777099609375}}, \"312\": {\"to_node_id\": \"1576500\", \"from_node_id\": \"1576843\", \"b2\": {\"y\": 1078.144282674624, \"x\": 3740.4462890625}, \"b1\": {\"y\": 1061.6865465211372, \"x\": 3508.388671875}}, \"311\": {\"to_node_id\": \"1576499\", \"from_node_id\": \"1576843\", \"b2\": {\"y\": 995.287841796875, \"x\": 3510.0}, \"b1\": {\"y\": 921.2841796875, \"x\": 3510.0}}, \"310\": {\"to_node_id\": \"1576842\", \"from_node_id\": \"1576498\", \"b2\": {\"y\": 777.5, \"x\": 3510.0}, \"b1\": {\"y\": 725.0, \"x\": 3510.0}}, \"306\": {\"to_node_id\": \"1576841\", \"from_node_id\": \"1576842\", \"b2\": null, \"b1\": null}, \"307\": {\"to_node_id\": \"1576843\", \"from_node_id\": \"1576841\", \"b2\": null, \"b1\": null}}, \"genes\": [{\"bigg_id\": \"b1602\", \"name\": \"pntB\"}, {\"bigg_id\": \"b1603\", \"name\": \"pntA\"}], \"reversibility\": false, \"metabolites\": [{\"coefficient\": -2.0, \"bigg_id\": \"h_e\"}, {\"coefficient\": -1.0, \"bigg_id\": \"nadp_c\"}, {\"coefficient\": -1.0, \"bigg_id\": \"nadh_c\"}, {\"coefficient\": 1.0, \"bigg_id\": \"nadph_c\"}, {\"coefficient\": 2.0, \"bigg_id\": \"h_c\"}, {\"coefficient\": 1.0, \"bigg_id\": \"nad_c\"}], \"label_x\": 3532.891845703125, \"label_y\": 872.8489990234375, \"gene_reaction_rule\": \"b1602 and b1603\"}, \"1576693\": {\"name\": \"Phosphoglycerate kinase\", \"bigg_id\": \"PGK\", \"segments\": {\"296\": {\"to_node_id\": \"1576488\", \"from_node_id\": \"1576834\", \"b2\": {\"y\": 2617.5658350974745, \"x\": 1055.0}, \"b1\": {\"y\": 2650.769750529242, \"x\": 1055.0}}, \"294\": {\"to_node_id\": \"1576835\", \"from_node_id\": \"1576486\", \"b2\": {\"y\": 2790.0, \"x\": 1055.0}, \"b1\": {\"y\": 2825.0, \"x\": 1055.0}}, \"295\": {\"to_node_id\": \"1576487\", \"from_node_id\": \"1576834\", \"b2\": {\"y\": 2615.0, \"x\": 1055.0}, \"b1\": {\"y\": 2650.0, \"x\": 1055.0}}, \"292\": {\"to_node_id\": \"1576834\", \"from_node_id\": \"1576836\", \"b2\": null, \"b1\": null}, \"293\": {\"to_node_id\": \"1576835\", \"from_node_id\": \"1576485\", \"b2\": {\"y\": 2789.230249470758, \"x\": 1055.0}, \"b1\": {\"y\": 2822.4341649025255, \"x\": 1055.0}}, \"291\": {\"to_node_id\": \"1576836\", \"from_node_id\": \"1576835\", \"b2\": null, \"b1\": null}}, \"genes\": [{\"bigg_id\": \"b2926\", \"name\": \"pgk\"}], \"reversibility\": true, \"metabolites\": [{\"coefficient\": -1.0, \"bigg_id\": \"3pg_c\"}, {\"coefficient\": 1.0, \"bigg_id\": \"13dpg_c\"}, {\"coefficient\": -1.0, \"bigg_id\": \"atp_c\"}, {\"coefficient\": 1.0, \"bigg_id\": \"adp_c\"}], \"label_x\": 1065.0, \"label_y\": 2715.0, \"gene_reaction_rule\": \"b2926\"}, \"1576776\": {\"name\": \"Malic enzyme (NADP)\", \"bigg_id\": \"ME2\", \"segments\": {\"270\": {\"to_node_id\": \"1576692\", \"from_node_id\": \"1577027\", \"b2\": {\"y\": 3439.4108823397055, \"x\": 2161.178235320589}, \"b1\": {\"y\": 3418.8232647019117, \"x\": 2202.3534705961765}}, \"267\": {\"to_node_id\": \"1577028\", \"from_node_id\": \"1576504\", \"b2\": {\"y\": 3332.720745600581, \"x\": 2355.4654239990323}, \"b1\": {\"y\": 3269.069152001936, \"x\": 2461.551413330107}}, \"266\": {\"to_node_id\": \"1577028\", \"from_node_id\": \"1576690\", \"b2\": {\"y\": 3350.7069760509485, \"x\": 2325.4883732484195}, \"b1\": {\"y\": 3329.0232535031614, \"x\": 2361.6279108280646}}, \"265\": {\"to_node_id\": \"1577027\", \"from_node_id\": \"1577026\", \"b2\": null, \"b1\": null}, \"264\": {\"to_node_id\": \"1577026\", \"from_node_id\": \"1577028\", \"b2\": null, \"b1\": null}, \"269\": {\"to_node_id\": \"1576511\", \"from_node_id\": \"1577027\", \"b2\": {\"y\": 3895.002675936253, \"x\": 1164.309223322806}, \"b1\": {\"y\": 3495.997238327751, \"x\": 2048.005523344498}}, \"268\": {\"to_node_id\": \"1576691\", \"from_node_id\": \"1577027\", \"b2\": {\"y\": 3434.0831891575845, \"x\": 2171.8336216848306}, \"b1\": {\"y\": 3417.2249567472754, \"x\": 2205.550086505449}}}, \"genes\": [{\"bigg_id\": \"b2463\", \"name\": \"maeB\"}], \"reversibility\": false, \"metabolites\": [{\"coefficient\": 1.0, \"bigg_id\": \"pyr_c\"}, {\"coefficient\": -1.0, \"bigg_id\": \"mal__L_c\"}, {\"coefficient\": 1.0, \"bigg_id\": \"co2_c\"}, {\"coefficient\": -1.0, \"bigg_id\": \"nadp_c\"}, {\"coefficient\": 1.0, \"bigg_id\": \"nadph_c\"}], \"label_x\": 2281.107177734375, \"label_y\": 3432.36328125, \"gene_reaction_rule\": \"b2463\"}, \"1576777\": {\"name\": \"Formate exchange\", \"bigg_id\": \"EX_for_e\", \"segments\": {\"271\": {\"to_node_id\": \"1577030\", \"from_node_id\": \"1576666\", \"b2\": {\"y\": 4884.95458984375, \"x\": 1460.0}, \"b1\": {\"y\": 4885.96044921875, \"x\": 1461.5867919921875}}}, \"genes\": [], \"reversibility\": false, \"metabolites\": [{\"coefficient\": -1.0, \"bigg_id\": \"for_e\"}], \"label_x\": 1476.3470458984375, \"label_y\": 4913.4130859375, \"gene_reaction_rule\": \"\"}, \"1576774\": {\"name\": \"Citrate synthase\", \"bigg_id\": \"CS\", \"segments\": {\"252\": {\"to_node_id\": \"1577020\", \"from_node_id\": \"1576514\", \"b2\": {\"y\": 3745.4027250468985, \"x\": 2627.479742988546}, \"b1\": {\"y\": 3679.773731927161, \"x\": 1727.7705707040077}}, \"253\": {\"to_node_id\": \"1577020\", \"from_node_id\": \"1576684\", \"b2\": {\"y\": 3823.2954829227556, \"x\": 2728.8970628128327}, \"b1\": {\"y\": 3791.3182764091857, \"x\": 2693.656876042776}}, \"250\": {\"to_node_id\": \"1577022\", \"from_node_id\": \"1577020\", \"b2\": null, \"b1\": null}, \"251\": {\"to_node_id\": \"1577021\", \"from_node_id\": \"1577022\", \"b2\": null, \"b1\": null}, \"256\": {\"to_node_id\": \"1576686\", \"from_node_id\": \"1577021\", \"b2\": {\"y\": 3971.425553937104, \"x\": 2910.1210395424487}, \"b1\": {\"y\": 3934.0276661811313, \"x\": 2861.0363118627347}}, \"257\": {\"to_node_id\": \"1576687\", \"from_node_id\": \"1577021\", \"b2\": {\"y\": 3980.7262047116856, \"x\": 2922.328143684087}, \"b1\": {\"y\": 3936.817861413506, \"x\": 2864.698443105226}}, \"254\": {\"to_node_id\": \"1577020\", \"from_node_id\": \"1576521\", \"b2\": {\"y\": 3822.7470798256522, \"x\": 2728.292700216025}, \"b1\": {\"y\": 3789.4902660855073, \"x\": 2691.642334053416}}, \"255\": {\"to_node_id\": \"1576685\", \"from_node_id\": \"1577021\", \"b2\": {\"y\": 3962.7252091426644, \"x\": 2898.7018369997472}, \"b1\": {\"y\": 3931.4175627427994, \"x\": 2857.610551099924}}}, \"genes\": [{\"bigg_id\": \"b0720\", \"name\": \"gltA\"}], \"reversibility\": false, \"metabolites\": [{\"coefficient\": 1.0, \"bigg_id\": \"coa_c\"}, {\"coefficient\": -1.0, \"bigg_id\": \"oaa_c\"}, {\"coefficient\": 1.0, \"bigg_id\": \"h_c\"}, {\"coefficient\": 1.0, \"bigg_id\": \"cit_c\"}, {\"coefficient\": -1.0, \"bigg_id\": \"accoa_c\"}, {\"coefficient\": -1.0, \"bigg_id\": \"h2o_c\"}], \"label_x\": 2808.0, \"label_y\": 3876.0, \"gene_reaction_rule\": \"b0720\"}, \"1576775\": {\"name\": \"Pyruvate transport in via proton symport\", \"bigg_id\": \"PYRt2\", \"segments\": {\"260\": {\"to_node_id\": \"1577023\", \"from_node_id\": \"1576688\", \"b2\": {\"y\": 3945.0, \"x\": 359.3395402366342}, \"b1\": {\"y\": 3945.0, \"x\": 322.7984674554473}}, \"261\": {\"to_node_id\": \"1577023\", \"from_node_id\": \"1576557\", \"b2\": {\"y\": 3945.0, \"x\": 360.0}, \"b1\": {\"y\": 3945.0, \"x\": 325.0}}, \"263\": {\"to_node_id\": \"1576689\", \"from_node_id\": \"1577024\", \"b2\": {\"y\": 3945.0, \"x\": 697.2015325445527}, \"b1\": {\"y\": 3945.0, \"x\": 660.6604597633658}}, \"262\": {\"to_node_id\": \"1576511\", \"from_node_id\": \"1577024\", \"b2\": {\"y\": 3945.0, \"x\": 850.0}, \"b1\": {\"y\": 3945.0, \"x\": 706.5}}, \"258\": {\"to_node_id\": \"1577025\", \"from_node_id\": \"1577023\", \"b2\": null, \"b1\": null}, \"259\": {\"to_node_id\": \"1577024\", \"from_node_id\": \"1577025\", \"b2\": null, \"b1\": null}}, \"genes\": [], \"reversibility\": true, \"metabolites\": [{\"coefficient\": 1.0, \"bigg_id\": \"pyr_c\"}, {\"coefficient\": 1.0, \"bigg_id\": \"h_c\"}, {\"coefficient\": -1.0, \"bigg_id\": \"pyr_e\"}, {\"coefficient\": -1.0, \"bigg_id\": \"h_e\"}], \"label_x\": 462.6368408203125, \"label_y\": 3908.02490234375, \"gene_reaction_rule\": \"\"}, \"1576772\": {\"name\": \"Glutamate dehydrogenase (NADP)\", \"bigg_id\": \"GLUDy\", \"segments\": {\"238\": {\"to_node_id\": \"1576677\", \"from_node_id\": \"1577014\", \"b2\": {\"y\": 3632.0, \"x\": 4021.2725815852687}, \"b1\": {\"y\": 3632.0, \"x\": 4060.9817744755806}}, \"240\": {\"to_node_id\": \"1576509\", \"from_node_id\": \"1577014\", \"b2\": {\"y\": 3632.0, \"x\": 3911.98117576612}, \"b1\": {\"y\": 3632.0, \"x\": 4028.194352729836}}, \"241\": {\"to_node_id\": \"1576679\", \"from_node_id\": \"1577014\", \"b2\": {\"y\": 3632.0, \"x\": 4036.853918777118}, \"b1\": {\"y\": 3632.0, \"x\": 4065.6561756331353}}, \"239\": {\"to_node_id\": \"1576678\", \"from_node_id\": \"1577014\", \"b2\": {\"y\": 3632.0, \"x\": 4000.5855310681522}, \"b1\": {\"y\": 3632.0, \"x\": 4054.775659320446}}, \"234\": {\"to_node_id\": \"1577014\", \"from_node_id\": \"1577015\", \"b2\": null, \"b1\": null}, \"235\": {\"to_node_id\": \"1577016\", \"from_node_id\": \"1576675\", \"b2\": {\"y\": 3632.0, \"x\": 4133.6977705423415}, \"b1\": {\"y\": 3632.0, \"x\": 4170.325901807804}}, \"236\": {\"to_node_id\": \"1577016\", \"from_node_id\": \"1576554\", \"b2\": {\"y\": 3632.0, \"x\": 4137.5}, \"b1\": {\"y\": 3632.0, \"x\": 4183.0}}, \"237\": {\"to_node_id\": \"1577016\", \"from_node_id\": \"1576676\", \"b2\": {\"y\": 3632.0, \"x\": 4129.669190203266}, \"b1\": {\"y\": 3632.0, \"x\": 4156.897300677553}}, \"233\": {\"to_node_id\": \"1577015\", \"from_node_id\": \"1577016\", \"b2\": null, \"b1\": null}}, \"genes\": [{\"bigg_id\": \"b1761\", \"name\": \"gdhA\"}], \"reversibility\": true, \"metabolites\": [{\"coefficient\": -1.0, \"bigg_id\": \"glu__L_c\"}, {\"coefficient\": -1.0, \"bigg_id\": \"nadp_c\"}, {\"coefficient\": 1.0, \"bigg_id\": \"nh4_c\"}, {\"coefficient\": 1.0, \"bigg_id\": \"h_c\"}, {\"coefficient\": 1.0, \"bigg_id\": \"nadph_c\"}, {\"coefficient\": 1.0, \"bigg_id\": \"akg_c\"}, {\"coefficient\": -1.0, \"bigg_id\": \"h2o_c\"}], \"label_x\": 4025.81298828125, \"label_y\": 3671.95703125, \"gene_reaction_rule\": \"b1761\"}, \"1576773\": {\"name\": \"ATP synthase (four protons for one ATP)\", \"bigg_id\": \"ATPS4r\", \"segments\": {\"245\": {\"to_node_id\": \"1577017\", \"from_node_id\": \"1576681\", \"b2\": {\"y\": 1150.0, \"x\": 4746.487950057818}, \"b1\": {\"y\": 1332.100830078125, \"x\": 4877.134963734394}}, \"244\": {\"to_node_id\": \"1577017\", \"from_node_id\": \"1576680\", \"b2\": {\"y\": 1150.0, \"x\": 4729.0}, \"b1\": {\"y\": 1150.0, \"x\": 4785.0}}, \"247\": {\"to_node_id\": \"1576682\", \"from_node_id\": \"1577018\", \"b2\": {\"y\": 1150.0, \"x\": 4520.0}, \"b1\": {\"y\": 1148.3885498046875, \"x\": 4558.046875}}, \"246\": {\"to_node_id\": \"1577017\", \"from_node_id\": \"1576536\", \"b2\": {\"y\": 1150.0, \"x\": 4796.204440681362}, \"b1\": {\"y\": 1523.8707275390625, \"x\": 4965.504060083706}}, \"243\": {\"to_node_id\": \"1577018\", \"from_node_id\": \"1577019\", \"b2\": null, \"b1\": null}, \"242\": {\"to_node_id\": \"1577019\", \"from_node_id\": \"1577017\", \"b2\": null, \"b1\": null}, \"249\": {\"to_node_id\": \"1576534\", \"from_node_id\": \"1577018\", \"b2\": {\"y\": 1043.64013671875, \"x\": 4324.116846450839}, \"b1\": {\"y\": 1148.3885498046875, \"x\": 4366.332368388376}}, \"248\": {\"to_node_id\": \"1576683\", \"from_node_id\": \"1577018\", \"b2\": {\"y\": 1150.0, \"x\": 4542.7265625}, \"b1\": {\"y\": 1148.388427734375, \"x\": 4575.66162109375}}}, \"genes\": [{\"bigg_id\": \"b3731\", \"name\": \"atpC\"}, {\"bigg_id\": \"b3738\", \"name\": \"atpB\"}, {\"bigg_id\": \"b3733\", \"name\": \"atpG\"}, {\"bigg_id\": \"b3739\", \"name\": \"atpI\"}, {\"bigg_id\": \"b3734\", \"name\": \"atpA\"}, {\"bigg_id\": \"b3736\", \"name\": \"atpF\"}, {\"bigg_id\": \"b3737\", \"name\": \"atpE\"}, {\"bigg_id\": \"b3735\", \"name\": \"atpH\"}, {\"bigg_id\": \"b3732\", \"name\": \"atpD\"}], \"reversibility\": true, \"metabolites\": [{\"coefficient\": -4.0, \"bigg_id\": \"h_e\"}, {\"coefficient\": 1.0, \"bigg_id\": \"atp_c\"}, {\"coefficient\": 3.0, \"bigg_id\": \"h_c\"}, {\"coefficient\": -1.0, \"bigg_id\": \"adp_c\"}, {\"coefficient\": -1.0, \"bigg_id\": \"pi_c\"}, {\"coefficient\": 1.0, \"bigg_id\": \"h2o_c\"}], \"label_x\": 4558.97119140625, \"label_y\": 1122.273193359375, \"gene_reaction_rule\": \"((b3736 and b3737 and b3738) and (b3731 and b3732 and b3733 and b3734 and b3735)) or ((b3736 and b3737 and b3738) and (b3731 and b3732 and b3733 and b3734 and b3735) and b3739)\"}, \"1576770\": {\"name\": \"Fumarate exchange\", \"bigg_id\": \"EX_fum_e\", \"segments\": {\"225\": {\"to_node_id\": \"1577009\", \"from_node_id\": \"1576657\", \"b2\": {\"y\": 560.0, \"x\": 2840.0}, \"b1\": {\"y\": 623.0, \"x\": 2840.0}}}, \"genes\": [], \"reversibility\": false, \"metabolites\": [{\"coefficient\": -1.0, \"bigg_id\": \"fum_e\"}], \"label_x\": 2915.057373046875, \"label_y\": 529.8175659179688, \"gene_reaction_rule\": \"\"}, \"1576771\": {\"name\": \"Succinate transport via proton symport  2 H \", \"bigg_id\": \"SUCCt2_2\", \"segments\": {\"229\": {\"to_node_id\": \"1577013\", \"from_node_id\": \"1576673\", \"b2\": {\"y\": 3027.0, \"x\": 4806.816653826392}, \"b1\": {\"y\": 3027.0, \"x\": 4832.0555127546395}}, \"228\": {\"to_node_id\": \"1577012\", \"from_node_id\": \"1577011\", \"b2\": null, \"b1\": null}, \"227\": {\"to_node_id\": \"1577011\", \"from_node_id\": \"1577013\", \"b2\": null, \"b1\": null}, \"230\": {\"to_node_id\": \"1577013\", \"from_node_id\": \"1576531\", \"b2\": {\"y\": 3027.0, \"x\": 4826.039349194016}, \"b1\": {\"y\": 3027.0, \"x\": 4896.1311639800515}}, \"231\": {\"to_node_id\": \"1576533\", \"from_node_id\": \"1577012\", \"b2\": {\"y\": 3027.0, \"x\": 3972.294403079054}, \"b1\": {\"y\": 3027.0, \"x\": 4366.8883209237165}}, \"232\": {\"to_node_id\": \"1576674\", \"from_node_id\": \"1577012\", \"b2\": {\"y\": 3027.0, \"x\": 4486.0}, \"b1\": {\"y\": 3027.0, \"x\": 4521.0}}}, \"genes\": [{\"bigg_id\": \"b3528\", \"name\": \"dctA\"}], \"reversibility\": false, \"metabolites\": [{\"coefficient\": 1.0, \"bigg_id\": \"succ_c\"}, {\"coefficient\": -1.0, \"bigg_id\": \"succ_e\"}, {\"coefficient\": 2.0, \"bigg_id\": \"h_c\"}, {\"coefficient\": -2.0, \"bigg_id\": \"h_e\"}], \"label_x\": 4501.95703125, \"label_y\": 2997.661865234375, \"gene_reaction_rule\": \"b3528\"}, \"1576708\": {\"name\": \"L-Glutamine exchange\", \"bigg_id\": \"EX_gln__L_e\", \"segments\": {\"365\": {\"to_node_id\": \"1576868\", \"from_node_id\": \"1576537\", \"b2\": {\"y\": 4158.0, \"x\": 4951.0}, \"b1\": {\"y\": 4158.0, \"x\": 4902.7}}}, \"genes\": [], \"reversibility\": false, \"metabolites\": [{\"coefficient\": -1.0, \"bigg_id\": \"gln__L_e\"}], \"label_x\": 4933.3095703125, \"label_y\": 4131.884765625, \"gene_reaction_rule\": \"\"}, \"1576703\": {\"name\": \"Ammonia reversible transport\", \"bigg_id\": \"NH4t\", \"segments\": {\"347\": {\"to_node_id\": \"1576858\", \"from_node_id\": \"1576526\", \"b2\": {\"y\": 4677.5, \"x\": 3989.0}, \"b1\": {\"y\": 4733.15, \"x\": 3989.0}}, \"348\": {\"to_node_id\": \"1576527\", \"from_node_id\": \"1576858\", \"b2\": {\"y\": 4519.5, \"x\": 3989.0}, \"b1\": {\"y\": 4574.45, \"x\": 3989.0}}}, \"genes\": [{\"bigg_id\": \"b0451\", \"name\": \"amtB\"}, {\"bigg_id\": \"s0001\", \"name\": \"None\"}], \"reversibility\": true, \"metabolites\": [{\"coefficient\": -1.0, \"bigg_id\": \"nh4_e\"}, {\"coefficient\": 1.0, \"bigg_id\": \"nh4_c\"}], \"label_x\": 3999.0, \"label_y\": 4588.0, \"gene_reaction_rule\": \"s0001 or b0451\"}, \"1576702\": {\"name\": \"Glucose-6-phosphate isomerase\", \"bigg_id\": \"PGI\", \"segments\": {\"345\": {\"to_node_id\": \"1576857\", \"from_node_id\": \"1576524\", \"b2\": {\"y\": 1330.0, \"x\": 1055.0}, \"b1\": {\"y\": 1284.5, \"x\": 1055.0}}, \"346\": {\"to_node_id\": \"1576525\", \"from_node_id\": \"1576857\", \"b2\": {\"y\": 1470.0, \"x\": 1055.0}, \"b1\": {\"y\": 1417.5, \"x\": 1055.0}}}, \"genes\": [{\"bigg_id\": \"b4025\", \"name\": \"pgi\"}], \"reversibility\": true, \"metabolites\": [{\"coefficient\": -1.0, \"bigg_id\": \"g6p_c\"}, {\"coefficient\": 1.0, \"bigg_id\": \"f6p_c\"}], \"label_x\": 1065.0, \"label_y\": 1385.0, \"gene_reaction_rule\": \"b4025\"}, \"1576701\": {\"name\": \"Enolase\", \"bigg_id\": \"ENO\", \"segments\": {\"344\": {\"to_node_id\": \"1576523\", \"from_node_id\": \"1576855\", \"b2\": {\"y\": 3319.0832691319597, \"x\": 1055.0}, \"b1\": {\"y\": 3281.224980739588, \"x\": 1055.0}}, \"341\": {\"to_node_id\": \"1576856\", \"from_node_id\": \"1576522\", \"b2\": {\"y\": 3175.0, \"x\": 1055.0}, \"b1\": {\"y\": 3173.322021484375, \"x\": 1055.0}}, \"342\": {\"to_node_id\": \"1576855\", \"from_node_id\": \"1576856\", \"b2\": null, \"b1\": null}, \"343\": {\"to_node_id\": \"1576517\", \"from_node_id\": \"1576855\", \"b2\": {\"y\": 3320.0, \"x\": 1055.0}, \"b1\": {\"y\": 3281.5, \"x\": 1055.0}}}, \"genes\": [{\"bigg_id\": \"b2779\", \"name\": \"eno\"}], \"reversibility\": true, \"metabolites\": [{\"coefficient\": 1.0, \"bigg_id\": \"pep_c\"}, {\"coefficient\": 1.0, \"bigg_id\": \"h2o_c\"}, {\"coefficient\": -1.0, \"bigg_id\": \"2pg_c\"}], \"label_x\": 1065.0, \"label_y\": 3215.0, \"gene_reaction_rule\": \"b2779\"}, \"1576700\": {\"name\": \"Phosphoenolpyruvate carboxylase\", \"bigg_id\": \"PPC\", \"segments\": {\"339\": {\"to_node_id\": \"1576520\", \"from_node_id\": \"1576853\", \"b2\": {\"y\": 3552.157197214914, \"x\": 1572.3763206054002}, \"b1\": {\"y\": 3528.947159164474, \"x\": 1516.81289618162}}, \"338\": {\"to_node_id\": \"1576519\", \"from_node_id\": \"1576853\", \"b2\": {\"y\": 3543.994528732819, \"x\": 1552.8353869664456}, \"b1\": {\"y\": 3526.498358619846, \"x\": 1510.9506160899336}}, \"335\": {\"to_node_id\": \"1576854\", \"from_node_id\": \"1576516\", \"b2\": {\"y\": 3452.2308899862983, \"x\": 1334.4013835391315}, \"b1\": {\"y\": 3438.769633287661, \"x\": 1302.6712784637714}}, \"334\": {\"to_node_id\": \"1576853\", \"from_node_id\": \"1576852\", \"b2\": null, \"b1\": null}, \"337\": {\"to_node_id\": \"1576854\", \"from_node_id\": \"1576518\", \"b2\": {\"y\": 3447.322871456709, \"x\": 1322.8324827193853}, \"b1\": {\"y\": 3422.409571522363, \"x\": 1264.1082757312843}}, \"336\": {\"to_node_id\": \"1576854\", \"from_node_id\": \"1576517\", \"b2\": {\"y\": 3440.1599283734054, \"x\": 1305.9484025944557}, \"b1\": {\"y\": 3398.5330945780183, \"x\": 1207.828008648186}}, \"333\": {\"to_node_id\": \"1576852\", \"from_node_id\": \"1576854\", \"b2\": null, \"b1\": null}, \"340\": {\"to_node_id\": \"1576521\", \"from_node_id\": \"1576853\", \"b2\": {\"y\": 3691.624192938869, \"x\": 2580.289220436279}, \"b1\": {\"y\": 3708.0419942097856, \"x\": 1966.279649431665}}}, \"genes\": [{\"bigg_id\": \"b3956\", \"name\": \"ppc\"}], \"reversibility\": false, \"metabolites\": [{\"coefficient\": -1.0, \"bigg_id\": \"h2o_c\"}, {\"coefficient\": 1.0, \"bigg_id\": \"oaa_c\"}, {\"coefficient\": 1.0, \"bigg_id\": \"h_c\"}, {\"coefficient\": -1.0, \"bigg_id\": \"pep_c\"}, {\"coefficient\": 1.0, \"bigg_id\": \"pi_c\"}, {\"coefficient\": -1.0, \"bigg_id\": \"co2_c\"}], \"label_x\": 1490.0008544921875, \"label_y\": 3479.666748046875, \"gene_reaction_rule\": \"b3956\"}, \"1576707\": {\"name\": \"Adenylate kinase\", \"bigg_id\": \"ADK1\", \"segments\": {\"364\": {\"to_node_id\": \"1576867\", \"from_node_id\": \"1576535\", \"b2\": {\"y\": 1177.1034937162894, \"x\": 4145.0}, \"b1\": {\"y\": 1123.6783123876312, \"x\": 4145.0}}, \"362\": {\"to_node_id\": \"1576536\", \"from_node_id\": \"1576866\", \"b2\": {\"y\": 1441.4029541015625, \"x\": 4146.15869140625}, \"b1\": {\"y\": 1352.2913818359375, \"x\": 4145.83056640625}}, \"363\": {\"to_node_id\": \"1576867\", \"from_node_id\": \"1576534\", \"b2\": {\"y\": 1173.8036262051405, \"x\": 4145.0}, \"b1\": {\"y\": 1112.6787540171351, \"x\": 4145.0}}, \"361\": {\"to_node_id\": \"1576866\", \"from_node_id\": \"1576867\", \"b2\": null, \"b1\": null}}, \"genes\": [{\"bigg_id\": \"b0474\", \"name\": \"adk\"}], \"reversibility\": true, \"metabolites\": [{\"coefficient\": -1.0, \"bigg_id\": \"amp_c\"}, {\"coefficient\": -1.0, \"bigg_id\": \"atp_c\"}, {\"coefficient\": 2.0, \"bigg_id\": \"adp_c\"}], \"label_x\": 3997.07177734375, \"label_y\": 1251.6114501953125, \"gene_reaction_rule\": \"b0474\"}, \"1576706\": {\"name\": \"Isocitrate lyase\", \"bigg_id\": \"ICL\", \"segments\": {\"357\": {\"to_node_id\": \"1576865\", \"from_node_id\": \"1576505\", \"b2\": {\"y\": 3916.5, \"x\": 3415.0}, \"b1\": {\"y\": 3958.15, \"x\": 3413.6}}, \"360\": {\"to_node_id\": \"1576533\", \"from_node_id\": \"1576864\", \"b2\": {\"y\": 3316.4974972260998, \"x\": 3417.0}, \"b1\": {\"y\": 3631.14924916783, \"x\": 3417.0}}, \"359\": {\"to_node_id\": \"1576532\", \"from_node_id\": \"1576864\", \"b2\": {\"y\": 3612.2266277927156, \"x\": 3417.0}, \"b1\": {\"y\": 3719.8679883378145, \"x\": 3417.0}}, \"358\": {\"to_node_id\": \"1576864\", \"from_node_id\": \"1576865\", \"b2\": null, \"b1\": null}}, \"genes\": [{\"bigg_id\": \"b4015\", \"name\": \"aceA\"}], \"reversibility\": false, \"metabolites\": [{\"coefficient\": 1.0, \"bigg_id\": \"succ_c\"}, {\"coefficient\": 1.0, \"bigg_id\": \"glx_c\"}, {\"coefficient\": -1.0, \"bigg_id\": \"icit_c\"}], \"label_x\": 3427.0, \"label_y\": 3847.0, \"gene_reaction_rule\": \"b4015\"}, \"1576705\": {\"name\": \"Succinate exchange\", \"bigg_id\": \"EX_succ_e\", \"segments\": {\"355\": {\"to_node_id\": \"1576863\", \"from_node_id\": \"1576531\", \"b2\": {\"y\": 2880.0, \"x\": 4978.5}, \"b1\": {\"y\": 2880.0, \"x\": 4945.95}}}, \"genes\": [], \"reversibility\": false, \"metabolites\": [{\"coefficient\": -1.0, \"bigg_id\": \"succ_e\"}], \"label_x\": 4968.927734375, \"label_y\": 2845.8271484375, \"gene_reaction_rule\": \"\"}, \"1576704\": {\"name\": \"Fructose-bisphosphatase\", \"bigg_id\": \"FBP\", \"segments\": {\"354\": {\"to_node_id\": \"1576530\", \"from_node_id\": \"1576860\", \"b2\": {\"y\": 1600.9687576256715, \"x\": 835.0}, \"b1\": {\"y\": 1645.7906272877015, \"x\": 835.0}}, \"353\": {\"to_node_id\": \"1576525\", \"from_node_id\": \"1576860\", \"b2\": {\"y\": 1539.7003591385833, \"x\": 835.0}, \"b1\": {\"y\": 1627.410107741575, \"x\": 835.0}}, \"352\": {\"to_node_id\": \"1576861\", \"from_node_id\": \"1576529\", \"b2\": {\"y\": 1805.8044115262064, \"x\": 835.0}, \"b1\": {\"y\": 1901.0147050873545, \"x\": 835.0}}, \"351\": {\"to_node_id\": \"1576861\", \"from_node_id\": \"1576528\", \"b2\": {\"y\": 1782.1026313764871, \"x\": 835.0}, \"b1\": {\"y\": 1822.0087712549569, \"x\": 835.0}}, \"350\": {\"to_node_id\": \"1576860\", \"from_node_id\": \"1576859\", \"b2\": null, \"b1\": null}, \"349\": {\"to_node_id\": \"1576859\", \"from_node_id\": \"1576861\", \"b2\": null, \"b1\": null}}, \"genes\": [{\"bigg_id\": \"b4232\", \"name\": \"fbp\"}, {\"bigg_id\": \"b3925\", \"name\": \"glpX\"}], \"reversibility\": false, \"metabolites\": [{\"coefficient\": -1.0, \"bigg_id\": \"fdp_c\"}, {\"coefficient\": -1.0, \"bigg_id\": \"h2o_c\"}, {\"coefficient\": 1.0, \"bigg_id\": \"pi_c\"}, {\"coefficient\": 1.0, \"bigg_id\": \"f6p_c\"}], \"label_x\": 751.3809814453125, \"label_y\": 1733.561767578125, \"gene_reaction_rule\": \"b3925 or b4232\"}, \"1577548\": {\"name\": \"Aconitase (half-reaction A, Citrate hydro-lyase)\", \"bigg_id\": \"ACONTa\", \"segments\": {\"511\": {\"to_node_id\": \"1576685\", \"from_node_id\": \"1577099\", \"b2\": {\"y\": 4010.3555557486548, \"x\": 3025.1432055426353}, \"b1\": {\"y\": 4012.0956406322803, \"x\": 3025.7810749583687}}, \"507\": {\"to_node_id\": \"1577100\", \"from_node_id\": \"1577099\", \"b2\": null, \"b1\": null}, \"510\": {\"to_node_id\": \"1577103\", \"from_node_id\": \"1577101\", \"b2\": {\"y\": 4045.94073519232, \"x\": 3126.6630443215304}, \"b1\": {\"y\": 4044.2013827305695, \"x\": 3108.646756937047}}, \"508\": {\"to_node_id\": \"1577100\", \"from_node_id\": \"1577101\", \"b2\": null, \"b1\": null}, \"509\": {\"to_node_id\": \"1577102\", \"from_node_id\": \"1577101\", \"b2\": {\"y\": 3993.9154608910203, \"x\": 3112.4765239553985}, \"b1\": {\"y\": 4044.558477078102, \"x\": 3125.4142208172407}}}, \"genes\": [{\"bigg_id\": \"b0118\", \"name\": \"acnB\"}, {\"bigg_id\": \"b1276\", \"name\": \"acnA\"}], \"reversibility\": true, \"metabolites\": [{\"coefficient\": -1.0, \"bigg_id\": \"cit_c\"}, {\"coefficient\": 1.0, \"bigg_id\": \"h2o_c\"}, {\"coefficient\": 1.0, \"bigg_id\": \"acon_C_c\"}], \"label_x\": 2982.991259697708, \"label_y\": 4088.6436288689247, \"gene_reaction_rule\": \"b0118 or b1276\"}, \"1577549\": {\"name\": \"Aconitase (half-reaction B, Isocitrate hydro-lyase)\", \"bigg_id\": \"ACONTb\", \"segments\": {\"513\": {\"to_node_id\": \"1577105\", \"from_node_id\": \"1577106\", \"b2\": null, \"b1\": null}, \"512\": {\"to_node_id\": \"1577105\", \"from_node_id\": \"1577104\", \"b2\": null, \"b1\": null}, \"515\": {\"to_node_id\": \"1576505\", \"from_node_id\": \"1577106\", \"b2\": {\"y\": 4013.1918298584474, \"x\": 3345.4226198631072}, \"b1\": {\"y\": 4014.8024620364417, \"x\": 3344.105236291347}}, \"514\": {\"to_node_id\": \"1577102\", \"from_node_id\": \"1577104\", \"b2\": {\"y\": 3991.5491179659602, \"x\": 3266.0226278968735}, \"b1\": {\"y\": 4044.360816430351, \"x\": 3261.354277099013}}, \"516\": {\"to_node_id\": \"1577103\", \"from_node_id\": \"1577104\", \"b2\": {\"y\": 4046.222560627323, \"x\": 3260.813883986344}, \"b1\": {\"y\": 4046.056264386829, \"x\": 3262.862957011229}}}, \"genes\": [{\"bigg_id\": \"b1276\", \"name\": \"acnA\"}, {\"bigg_id\": \"b0118\", \"name\": \"acnB\"}], \"reversibility\": true, \"metabolites\": [{\"coefficient\": 1.0, \"bigg_id\": \"icit_c\"}, {\"coefficient\": -1.0, \"bigg_id\": \"h2o_c\"}, {\"coefficient\": -1.0, \"bigg_id\": \"acon_C_c\"}], \"label_x\": 3291.833217745038, \"label_y\": 4081.35343547726, \"gene_reaction_rule\": \"b0118 or b1276\"}, \"1577546\": {\"name\": \"D lactate transport via proton symport\", \"bigg_id\": \"D_LACt2\", \"segments\": {\"476\": {\"to_node_id\": \"1577068\", \"from_node_id\": \"1577067\", \"b2\": null, \"b1\": null}, \"477\": {\"to_node_id\": \"1577068\", \"from_node_id\": \"1577069\", \"b2\": null, \"b1\": null}, \"478\": {\"to_node_id\": \"1576556\", \"from_node_id\": \"1577067\", \"b2\": {\"y\": 4736.89501953125, \"x\": 1054.9998779296875}, \"b1\": {\"y\": 4692.98193359375, \"x\": 1055.0}}, \"479\": {\"to_node_id\": \"1577071\", \"from_node_id\": \"1577067\", \"b2\": {\"y\": 4715.98193359375, \"x\": 1076.0}, \"b1\": {\"y\": 4696.98193359375, \"x\": 1055.0}}, \"481\": {\"to_node_id\": \"1577072\", \"from_node_id\": \"1577069\", \"b2\": {\"y\": 4451.7353515625, \"x\": 1074.4132080078125}, \"b1\": {\"y\": 4470.7353515625, \"x\": 1053.4132080078125}}, \"480\": {\"to_node_id\": \"1576584\", \"from_node_id\": \"1577069\", \"b2\": {\"y\": 4413.36767578125, \"x\": 1055.0}, \"b1\": {\"y\": 4474.7353515625, \"x\": 1053.4132080078125}}}, \"genes\": [{\"bigg_id\": \"b3603\", \"name\": \"lldP\"}, {\"bigg_id\": \"b2975\", \"name\": \"glcA\"}], \"reversibility\": true, \"metabolites\": [{\"coefficient\": -1.0, \"bigg_id\": \"lac__D_e\"}, {\"coefficient\": 1.0, \"bigg_id\": \"h_c\"}, {\"coefficient\": 1.0, \"bigg_id\": \"lac__D_c\"}, {\"coefficient\": -1.0, \"bigg_id\": \"h_e\"}], \"label_x\": 1078.65283203125, \"label_y\": 4609.72607421875, \"gene_reaction_rule\": \"b2975 or b3603\"}, \"1576711\": {\"name\": \"Transaldolase\", \"bigg_id\": \"TALA\", \"segments\": {\"369\": {\"to_node_id\": \"1576872\", \"from_node_id\": \"1576873\", \"b2\": null, \"b1\": null}, \"371\": {\"to_node_id\": \"1576873\", \"from_node_id\": \"1576545\", \"b2\": {\"y\": 1856.1727017464573, \"x\": 2173.815906732547}, \"b1\": {\"y\": 1892.1518443631908, \"x\": 2283.184776999114}}, \"370\": {\"to_node_id\": \"1576874\", \"from_node_id\": \"1576872\", \"b2\": null, \"b1\": null}, \"373\": {\"to_node_id\": \"1576547\", \"from_node_id\": \"1576874\", \"b2\": {\"y\": 2171.7496092324754, \"x\": 2178.0}, \"b1\": {\"y\": 2076.976957965055, \"x\": 2178.0}}, \"372\": {\"to_node_id\": \"1576873\", \"from_node_id\": \"1576546\", \"b2\": {\"y\": 1856.1728238167698, \"x\": 2175.402576654422}, \"b1\": {\"y\": 1890.5651744413158, \"x\": 2064.2112662569266}}, \"374\": {\"to_node_id\": \"1576548\", \"from_node_id\": \"1576874\", \"b2\": {\"y\": 2170.2455578331073, \"x\": 2178.000244140625}, \"b1\": {\"y\": 2077.4778177405574, \"x\": 2178.0}}}, \"genes\": [{\"bigg_id\": \"b2464\", \"name\": \"talA\"}, {\"bigg_id\": \"b0008\", \"name\": \"talB\"}], \"reversibility\": true, \"metabolites\": [{\"coefficient\": -1.0, \"bigg_id\": \"s7p_c\"}, {\"coefficient\": -1.0, \"bigg_id\": \"g3p_c\"}, {\"coefficient\": 1.0, \"bigg_id\": \"f6p_c\"}, {\"coefficient\": 1.0, \"bigg_id\": \"e4p_c\"}], \"label_x\": 2197.5205078125, \"label_y\": 2008.8013916015625, \"gene_reaction_rule\": \"b2464 or b0008\"}, \"1576712\": {\"name\": \"Pyruvate kinase\", \"bigg_id\": \"PYK\", \"segments\": {\"380\": {\"to_node_id\": \"1576511\", \"from_node_id\": \"1576877\", \"b2\": {\"y\": 3845.0, \"x\": 1055.0}, \"b1\": {\"y\": 3775.0, \"x\": 1055.0}}, \"381\": {\"to_node_id\": \"1576551\", \"from_node_id\": \"1576877\", \"b2\": {\"y\": 3802.008771254957, \"x\": 1055.0}, \"b1\": {\"y\": 3762.102631376487, \"x\": 1055.0}}, \"379\": {\"to_node_id\": \"1576875\", \"from_node_id\": \"1576517\", \"b2\": {\"y\": 3613.0, \"x\": 1055.0}, \"b1\": {\"y\": 3515.0, \"x\": 1055.0}}, \"378\": {\"to_node_id\": \"1576875\", \"from_node_id\": \"1576550\", \"b2\": {\"y\": 3634.8195639293895, \"x\": 1055.0}, \"b1\": {\"y\": 3587.7318797646312, \"x\": 1055.0}}, \"375\": {\"to_node_id\": \"1576876\", \"from_node_id\": \"1576875\", \"b2\": null, \"b1\": null}, \"377\": {\"to_node_id\": \"1576875\", \"from_node_id\": \"1576549\", \"b2\": {\"y\": 3640.769750529242, \"x\": 1055.0}, \"b1\": {\"y\": 3607.5658350974745, \"x\": 1055.0}}, \"376\": {\"to_node_id\": \"1576877\", \"from_node_id\": \"1576876\", \"b2\": null, \"b1\": null}}, \"genes\": [{\"bigg_id\": \"b1854\", \"name\": \"pykA\"}, {\"bigg_id\": \"b1676\", \"name\": \"pykF\"}], \"reversibility\": false, \"metabolites\": [{\"coefficient\": -1.0, \"bigg_id\": \"pep_c\"}, {\"coefficient\": -1.0, \"bigg_id\": \"adp_c\"}, {\"coefficient\": 1.0, \"bigg_id\": \"pyr_c\"}, {\"coefficient\": 1.0, \"bigg_id\": \"atp_c\"}, {\"coefficient\": -1.0, \"bigg_id\": \"h_c\"}], \"label_x\": 1065.0, \"label_y\": 3695.0, \"gene_reaction_rule\": \"b1854 or b1676\"}, \"1576713\": {\"name\": \"L glutamate transport via proton symport  reversible\", \"bigg_id\": \"GLUt2r\", \"segments\": {\"382\": {\"to_node_id\": \"1576878\", \"from_node_id\": \"1576880\", \"b2\": null, \"b1\": null}, \"383\": {\"to_node_id\": \"1576879\", \"from_node_id\": \"1576878\", \"b2\": null, \"b1\": null}, \"384\": {\"to_node_id\": \"1576880\", \"from_node_id\": \"1576552\", \"b2\": {\"y\": 3635.0, \"x\": 4794.600721137178}, \"b1\": {\"y\": 3635.0, \"x\": 4831.002403790594}}, \"385\": {\"to_node_id\": \"1576880\", \"from_node_id\": \"1576553\", \"b2\": {\"y\": 3635.0, \"x\": 4791.314625451064}, \"b1\": {\"y\": 3635.0, \"x\": 4820.0487515035475}}, \"386\": {\"to_node_id\": \"1576554\", \"from_node_id\": \"1576879\", \"b2\": {\"y\": 3635.0, \"x\": 4394.492321020364}, \"b1\": {\"y\": 3635.0, \"x\": 4497.047696306109}}, \"387\": {\"to_node_id\": \"1576555\", \"from_node_id\": \"1576879\", \"b2\": {\"y\": 3635.0, \"x\": 4499.835695074495}, \"b1\": {\"y\": 3635.0, \"x\": 4528.650708522348}}}, \"genes\": [{\"bigg_id\": \"b4077\", \"name\": \"gltP\"}], \"reversibility\": true, \"metabolites\": [{\"coefficient\": 1.0, \"bigg_id\": \"glu__L_c\"}, {\"coefficient\": 1.0, \"bigg_id\": \"h_c\"}, {\"coefficient\": -1.0, \"bigg_id\": \"glu__L_e\"}, {\"coefficient\": -1.0, \"bigg_id\": \"h_e\"}], \"label_x\": 4655.0, \"label_y\": 3625.0, \"gene_reaction_rule\": \"b4077\"}, \"1576714\": {\"name\": \"D-lactate exchange\", \"bigg_id\": \"EX_lac__D_e\", \"segments\": {\"388\": {\"to_node_id\": \"1576881\", \"from_node_id\": \"1576556\", \"b2\": {\"y\": 4880.0, \"x\": 1055.0}, \"b1\": {\"y\": 4861.19384765625, \"x\": 1055.0}}}, \"genes\": [], \"reversibility\": false, \"metabolites\": [{\"coefficient\": -1.0, \"bigg_id\": \"lac__D_e\"}], \"label_x\": 1065.0, \"label_y\": 4915.0, \"gene_reaction_rule\": \"\"}, \"1576715\": {\"name\": \"Pyruvate exchange\", \"bigg_id\": \"EX_pyr_e\", \"segments\": {\"390\": {\"to_node_id\": \"1576884\", \"from_node_id\": \"1576557\", \"b2\": {\"y\": 3945.0, \"x\": 215.0}, \"b1\": {\"y\": 3945.0, \"x\": 257.0}}}, \"genes\": [], \"reversibility\": false, \"metabolites\": [{\"coefficient\": -1.0, \"bigg_id\": \"pyr_e\"}], \"label_x\": 96.76921081542969, \"label_y\": 3904.851318359375, \"gene_reaction_rule\": \"\"}, \"1576716\": {\"name\": \"Ribulose 5-phosphate 3-epimerase\", \"bigg_id\": \"RPE\", \"segments\": {\"393\": {\"to_node_id\": \"1576558\", \"from_node_id\": \"1576885\", \"b2\": {\"y\": 1485.0, \"x\": 1995.0}, \"b1\": {\"y\": 1436.0, \"x\": 2030.0}}, \"392\": {\"to_node_id\": \"1576885\", \"from_node_id\": \"1576493\", \"b2\": {\"y\": 1340.0, \"x\": 2100.0}, \"b1\": {\"y\": 1287.5, \"x\": 2138.5}}}, \"genes\": [{\"bigg_id\": \"b4301\", \"name\": \"sgcE\"}, {\"bigg_id\": \"b3386\", \"name\": \"rpe\"}], \"reversibility\": true, \"metabolites\": [{\"coefficient\": 1.0, \"bigg_id\": \"xu5p__D_c\"}, {\"coefficient\": -1.0, \"bigg_id\": \"ru5p__D_c\"}], \"label_x\": 1937.57958984375, \"label_y\": 1422.4544677734375, \"gene_reaction_rule\": \"b3386 or b4301\"}, \"1576717\": {\"name\": \"H+ exchange\", \"bigg_id\": \"EX_h_e\", \"segments\": {\"394\": {\"to_node_id\": \"1576887\", \"from_node_id\": \"1576559\", \"b2\": {\"y\": 2229.5, \"x\": 4918.0}, \"b1\": {\"y\": 2229.15, \"x\": 4870.4}}}, \"genes\": [], \"reversibility\": true, \"metabolites\": [{\"coefficient\": -1.0, \"bigg_id\": \"h_e\"}], \"label_x\": 4920.2587890625, \"label_y\": 2195.827392578125, \"gene_reaction_rule\": \"\"}, \"1576761\": {\"name\": \"Glutamate synthase (NADPH)\", \"bigg_id\": \"GLUSy\", \"segments\": {\"184\": {\"to_node_id\": \"1576554\", \"from_node_id\": \"1576987\", \"b2\": {\"y\": 3721.4298613416263, \"x\": 4116.0}, \"b1\": {\"y\": 3810.0289584024877, \"x\": 4116.0}}, \"182\": {\"to_node_id\": \"1576986\", \"from_node_id\": \"1576655\", \"b2\": {\"y\": 3907.2123007471773, \"x\": 4116.0}, \"b1\": {\"y\": 3952.041002490592, \"x\": 4116.0}}, \"183\": {\"to_node_id\": \"1576656\", \"from_node_id\": \"1576987\", \"b2\": {\"y\": 3790.445677833893, \"x\": 4116.0}, \"b1\": {\"y\": 3830.733703350168, \"x\": 4116.0}}, \"180\": {\"to_node_id\": \"1576986\", \"from_node_id\": \"1576654\", \"b2\": {\"y\": 3902.6240384299276, \"x\": 4116.0}, \"b1\": {\"y\": 3936.7467947664254, \"x\": 4116.0}}, \"181\": {\"to_node_id\": \"1576986\", \"from_node_id\": \"1576578\", \"b2\": {\"y\": 3924.538472874492, \"x\": 4116.0}, \"b1\": {\"y\": 4009.7949095816407, \"x\": 4116.0}}, \"179\": {\"to_node_id\": \"1576986\", \"from_node_id\": \"1576509\", \"b2\": {\"y\": 4155.746259618145, \"x\": 4119.22314453125}, \"b1\": {\"y\": 4145.014875810485, \"x\": 3943.568359375}}, \"178\": {\"to_node_id\": \"1576987\", \"from_node_id\": \"1576988\", \"b2\": null, \"b1\": null}, \"177\": {\"to_node_id\": \"1576988\", \"from_node_id\": \"1576986\", \"b2\": null, \"b1\": null}}, \"genes\": [{\"bigg_id\": \"b3212\", \"name\": \"gltB\"}, {\"bigg_id\": \"b3213\", \"name\": \"gltD\"}], \"reversibility\": false, \"metabolites\": [{\"coefficient\": 2.0, \"bigg_id\": \"glu__L_c\"}, {\"coefficient\": 1.0, \"bigg_id\": \"nadp_c\"}, {\"coefficient\": -1.0, \"bigg_id\": \"h_c\"}, {\"coefficient\": -1.0, \"bigg_id\": \"nadph_c\"}, {\"coefficient\": -1.0, \"bigg_id\": \"gln__L_c\"}, {\"coefficient\": -1.0, \"bigg_id\": \"akg_c\"}], \"label_x\": 3984.18701171875, \"label_y\": 3851.553955078125, \"gene_reaction_rule\": \"b3212 and b3213\"}, \"1577490\": {\"name\": \"Acetaldehyde dehydrogenase (acetylating)\", \"bigg_id\": \"ACALD\", \"segments\": {\"280\": {\"to_node_id\": \"1576812\", \"from_node_id\": \"1577033\", \"b2\": {\"y\": 3945.0, \"x\": 1918.1029079843004}, \"b1\": {\"y\": 3945.0, \"x\": 1961.4308723952902}}, \"273\": {\"to_node_id\": \"1577032\", \"from_node_id\": \"1577031\", \"b2\": null, \"b1\": null}, \"274\": {\"to_node_id\": \"1577033\", \"from_node_id\": \"1577032\", \"b2\": null, \"b1\": null}, \"275\": {\"to_node_id\": \"1577031\", \"from_node_id\": \"1576817\", \"b2\": {\"y\": 3945.0, \"x\": 2065.5}, \"b1\": {\"y\": 3945.0, \"x\": 2125.0}}, \"276\": {\"to_node_id\": \"1577031\", \"from_node_id\": \"1576825\", \"b2\": {\"y\": 3945.0, \"x\": 2058.56912760471}, \"b1\": {\"y\": 3945.0, \"x\": 2101.8970920157}}, \"277\": {\"to_node_id\": \"1577031\", \"from_node_id\": \"1576828\", \"b2\": {\"y\": 3945.0, \"x\": 2053.52081728299}, \"b1\": {\"y\": 3945.0, \"x\": 2085.0693909433}}, \"278\": {\"to_node_id\": \"1576514\", \"from_node_id\": \"1577033\", \"b2\": {\"y\": 3945.0, \"x\": 1847.5}, \"b1\": {\"y\": 3945.0, \"x\": 1940.25}}, \"279\": {\"to_node_id\": \"1576832\", \"from_node_id\": \"1577033\", \"b2\": {\"y\": 3945.0, \"x\": 1934.9306090567002}, \"b1\": {\"y\": 3945.0, \"x\": 1966.47918271701}}}, \"genes\": [{\"bigg_id\": \"b1241\", \"name\": \"adhE\"}, {\"bigg_id\": \"b0351\", \"name\": \"mhpF\"}], \"reversibility\": true, \"metabolites\": [{\"coefficient\": 1.0, \"bigg_id\": \"nadh_c\"}, {\"coefficient\": -1.0, \"bigg_id\": \"coa_c\"}, {\"coefficient\": -1.0, \"bigg_id\": \"acald_c\"}, {\"coefficient\": 1.0, \"bigg_id\": \"h_c\"}, {\"coefficient\": -1.0, \"bigg_id\": \"nad_c\"}, {\"coefficient\": 1.0, \"bigg_id\": \"accoa_c\"}], \"label_x\": 1939.0750732421875, \"label_y\": 3998.470458984375, \"gene_reaction_rule\": \"b0351 or b1241\"}, \"1577497\": {\"name\": \"Acetaldehyde reversible transport\", \"bigg_id\": \"ACALDt\", \"segments\": {\"281\": {\"to_node_id\": \"1577034\", \"from_node_id\": \"1576815\", \"b2\": {\"y\": 4707.0, \"x\": 2210.0}, \"b1\": {\"y\": 4796.55283203125, \"x\": 2210.0}}, \"282\": {\"to_node_id\": \"1576817\", \"from_node_id\": \"1577034\", \"b2\": {\"y\": 4257.5, \"x\": 2210.0}, \"b1\": {\"y\": 4476.25, \"x\": 2210.0}}}, \"genes\": [{\"bigg_id\": \"s0001\", \"name\": \"None\"}], \"reversibility\": true, \"metabolites\": [{\"coefficient\": 1.0, \"bigg_id\": \"acald_c\"}, {\"coefficient\": -1.0, \"bigg_id\": \"acald_e\"}], \"label_x\": 2248.561767578125, \"label_y\": 4579.041015625, \"gene_reaction_rule\": \"s0001\"}, \"1577498\": {\"name\": \"Acetaldehyde exchange\", \"bigg_id\": \"EX_acald_e\", \"segments\": {\"283\": {\"to_node_id\": \"1577035\", \"from_node_id\": \"1576815\", \"b2\": {\"y\": 4894.0, \"x\": 2210.5}, \"b1\": {\"y\": 4889.1484375, \"x\": 2210.15}}}, \"genes\": [], \"reversibility\": false, \"metabolites\": [{\"coefficient\": -1.0, \"bigg_id\": \"acald_e\"}], \"label_x\": 2227.346923828125, \"label_y\": 4922.892578125, \"gene_reaction_rule\": \"\"}, \"1576724\": {\"name\": \"Glutamine synthetase\", \"bigg_id\": \"GLNS\", \"segments\": {\"424\": {\"to_node_id\": \"1576578\", \"from_node_id\": \"1576899\", \"b2\": {\"y\": 4007.2677048056653, \"x\": 4364.0}, \"b1\": {\"y\": 3924.4803114416995, \"x\": 4364.0}}, \"421\": {\"to_node_id\": \"1576901\", \"from_node_id\": \"1576554\", \"b2\": {\"y\": 3812.091159595566, \"x\": 4364.0}, \"b1\": {\"y\": 3725.970531985219, \"x\": 4364.0}}, \"420\": {\"to_node_id\": \"1576899\", \"from_node_id\": \"1576900\", \"b2\": null, \"b1\": null}, \"423\": {\"to_node_id\": \"1576901\", \"from_node_id\": \"1576577\", \"b2\": {\"y\": 3835.8273009599397, \"x\": 4364.0}, \"b1\": {\"y\": 3805.0910031997996, \"x\": 4364.0}}, \"422\": {\"to_node_id\": \"1576901\", \"from_node_id\": \"1576576\", \"b2\": {\"y\": 3830.8679841164862, \"x\": 4364.0}, \"b1\": {\"y\": 3788.5599470549537, \"x\": 4364.0}}, \"425\": {\"to_node_id\": \"1576579\", \"from_node_id\": \"1576899\", \"b2\": {\"y\": 3936.762432936357, \"x\": 4364.0}, \"b1\": {\"y\": 3903.3287298809073, \"x\": 4364.0}}, \"419\": {\"to_node_id\": \"1576900\", \"from_node_id\": \"1576901\", \"b2\": null, \"b1\": null}, \"427\": {\"to_node_id\": \"1576581\", \"from_node_id\": \"1576899\", \"b2\": {\"y\": 3978.617241644675, \"x\": 4364.0}, \"b1\": {\"y\": 3915.8851724934025, \"x\": 4364.0}}, \"426\": {\"to_node_id\": \"1576580\", \"from_node_id\": \"1576899\", \"b2\": {\"y\": 3956.314560089181, \"x\": 4364.0}, \"b1\": {\"y\": 3909.1943680267545, \"x\": 4364.0}}}, \"genes\": [{\"bigg_id\": \"b3870\", \"name\": \"glnA\"}, {\"bigg_id\": \"b1297\", \"name\": \"puuA\"}], \"reversibility\": false, \"metabolites\": [{\"coefficient\": -1.0, \"bigg_id\": \"glu__L_c\"}, {\"coefficient\": -1.0, \"bigg_id\": \"atp_c\"}, {\"coefficient\": -1.0, \"bigg_id\": \"nh4_c\"}, {\"coefficient\": 1.0, \"bigg_id\": \"h_c\"}, {\"coefficient\": 1.0, \"bigg_id\": \"adp_c\"}, {\"coefficient\": 1.0, \"bigg_id\": \"pi_c\"}, {\"coefficient\": 1.0, \"bigg_id\": \"gln__L_c\"}], \"label_x\": 4377.22314453125, \"label_y\": 3875.114990234375, \"gene_reaction_rule\": \"b3870 or b1297\"}, \"1576727\": {\"name\": \"2-Oxogluterate dehydrogenase\", \"bigg_id\": \"AKGDH\", \"segments\": {\"443\": {\"to_node_id\": \"1576908\", \"from_node_id\": \"1576585\", \"b2\": {\"y\": 3494.907757737772, \"x\": 3779.4266247023934}, \"b1\": {\"y\": 3529.6925257925727, \"x\": 3778.088749007978}}, \"442\": {\"to_node_id\": \"1576908\", \"from_node_id\": \"1576509\", \"b2\": {\"y\": 3502.6153909632244, \"x\": 3779.130177270645}, \"b1\": {\"y\": 3555.384636544082, \"x\": 3777.1005909021505}}, \"441\": {\"to_node_id\": \"1576910\", \"from_node_id\": \"1576909\", \"b2\": null, \"b1\": null}, \"440\": {\"to_node_id\": \"1576909\", \"from_node_id\": \"1576908\", \"b2\": null, \"b1\": null}, \"447\": {\"to_node_id\": \"1576588\", \"from_node_id\": \"1576910\", \"b2\": {\"y\": 3276.99346892041, \"x\": 3770.846587256151}, \"b1\": {\"y\": 3314.098040676123, \"x\": 3774.453976176845}}, \"446\": {\"to_node_id\": \"1576587\", \"from_node_id\": \"1576910\", \"b2\": {\"y\": 3277.236984619066, \"x\": 3770.8702623935205}, \"b1\": {\"y\": 3314.1710953857196, \"x\": 3774.4610787180563}}, \"445\": {\"to_node_id\": \"1576570\", \"from_node_id\": \"1576910\", \"b2\": {\"y\": 3259.378766045427, \"x\": 3769.134046698861}, \"b1\": {\"y\": 3308.813629813628, \"x\": 3773.940214009658}}, \"444\": {\"to_node_id\": \"1576908\", \"from_node_id\": \"1576586\", \"b2\": {\"y\": 3498.5402671676266, \"x\": 3779.2869128012453}, \"b1\": {\"y\": 3541.8008905587553, \"x\": 3777.623042670817}}}, \"genes\": [{\"bigg_id\": \"b0116\", \"name\": \"lpd\"}, {\"bigg_id\": \"b0726\", \"name\": \"sucA\"}, {\"bigg_id\": \"b0727\", \"name\": \"sucB\"}], \"reversibility\": false, \"metabolites\": [{\"coefficient\": 1.0, \"bigg_id\": \"nadh_c\"}, {\"coefficient\": -1.0, \"bigg_id\": \"coa_c\"}, {\"coefficient\": -1.0, \"bigg_id\": \"nad_c\"}, {\"coefficient\": 1.0, \"bigg_id\": \"co2_c\"}, {\"coefficient\": 1.0, \"bigg_id\": \"succoa_c\"}, {\"coefficient\": -1.0, \"bigg_id\": \"akg_c\"}], \"label_x\": 3793.0, \"label_y\": 3392.0, \"gene_reaction_rule\": \"b0116 and b0726 and b0727\"}, \"1576726\": {\"name\": \"NAD transhydrogenase\", \"bigg_id\": \"NADTRHD\", \"segments\": {\"438\": {\"to_node_id\": \"1576496\", \"from_node_id\": \"1576905\", \"b2\": {\"y\": 1270.0, \"x\": 3400.0}, \"b1\": {\"y\": 1270.0, \"x\": 3449.0}}, \"439\": {\"to_node_id\": \"1576497\", \"from_node_id\": \"1576905\", \"b2\": {\"y\": 1270.0, \"x\": 3418.3388104489154}, \"b1\": {\"y\": 1270.0, \"x\": 3446.2829175487373}}, \"436\": {\"to_node_id\": \"1576906\", \"from_node_id\": \"1576501\", \"b2\": {\"y\": 1270.0, \"x\": 3592.9455878111676}, \"b1\": {\"y\": 1270.0001220703125, \"x\": 3627.146913797642}}, \"437\": {\"to_node_id\": \"1576906\", \"from_node_id\": \"1576500\", \"b2\": {\"y\": 1270.0, \"x\": 3595.5}, \"b1\": {\"y\": 1270.0, \"x\": 3655.0}}, \"434\": {\"to_node_id\": \"1576907\", \"from_node_id\": \"1576906\", \"b2\": null, \"b1\": null}, \"435\": {\"to_node_id\": \"1576905\", \"from_node_id\": \"1576907\", \"b2\": null, \"b1\": null}}, \"genes\": [{\"bigg_id\": \"b1602\", \"name\": \"pntB\"}, {\"bigg_id\": \"b3962\", \"name\": \"sthA\"}, {\"bigg_id\": \"b1603\", \"name\": \"pntA\"}], \"reversibility\": false, \"metabolites\": [{\"coefficient\": 1.0, \"bigg_id\": \"nadh_c\"}, {\"coefficient\": 1.0, \"bigg_id\": \"nadp_c\"}, {\"coefficient\": -1.0, \"bigg_id\": \"nad_c\"}, {\"coefficient\": -1.0, \"bigg_id\": \"nadph_c\"}], \"label_x\": 3478.431396484375, \"label_y\": 1319.6259765625, \"gene_reaction_rule\": \"b3962 or (b1602 and b1603)\"}, \"1576721\": {\"name\": \"Phosphofructokinase\", \"bigg_id\": \"PFK\", \"segments\": {\"407\": {\"to_node_id\": \"1576893\", \"from_node_id\": \"1576572\", \"b2\": {\"y\": 1674.9065411518764, \"x\": 1055.0}, \"b1\": {\"y\": 1639.6884705062548, \"x\": 1055.0}}, \"406\": {\"to_node_id\": \"1576893\", \"from_node_id\": \"1576525\", \"b2\": {\"y\": 1668.25, \"x\": 1055.0}, \"b1\": {\"y\": 1617.5, \"x\": 1055.0}}, \"405\": {\"to_node_id\": \"1576892\", \"from_node_id\": \"1576891\", \"b2\": null, \"b1\": null}, \"404\": {\"to_node_id\": \"1576891\", \"from_node_id\": \"1576893\", \"b2\": null, \"b1\": null}, \"410\": {\"to_node_id\": \"1576574\", \"from_node_id\": \"1576892\", \"b2\": {\"y\": 1835.2079728939614, \"x\": 1055.0}, \"b1\": {\"y\": 1793.0623918681883, \"x\": 1055.0}}, \"409\": {\"to_node_id\": \"1576529\", \"from_node_id\": \"1576892\", \"b2\": {\"y\": 1850.0, \"x\": 1055.0}, \"b1\": {\"y\": 1797.5, \"x\": 1055.0}}, \"408\": {\"to_node_id\": \"1576573\", \"from_node_id\": \"1576892\", \"b2\": {\"y\": 1822.4341649025257, \"x\": 1055.0}, \"b1\": {\"y\": 1789.2302494707578, \"x\": 1055.0}}}, \"genes\": [{\"bigg_id\": \"b1723\", \"name\": \"pfkB\"}, {\"bigg_id\": \"b3916\", \"name\": \"pfkA\"}], \"reversibility\": false, \"metabolites\": [{\"coefficient\": 1.0, \"bigg_id\": \"h_c\"}, {\"coefficient\": 1.0, \"bigg_id\": \"adp_c\"}, {\"coefficient\": -1.0, \"bigg_id\": \"f6p_c\"}, {\"coefficient\": -1.0, \"bigg_id\": \"atp_c\"}, {\"coefficient\": 1.0, \"bigg_id\": \"fdp_c\"}], \"label_x\": 1065.0, \"label_y\": 1725.0, \"gene_reaction_rule\": \"b3916 or b1723\"}, \"1576720\": {\"name\": \"Succinyl-CoA synthetase (ADP-forming)\", \"bigg_id\": \"SUCOAS\", \"segments\": {\"397\": {\"to_node_id\": \"1576890\", \"from_node_id\": \"1576888\", \"b2\": null, \"b1\": null}, \"396\": {\"to_node_id\": \"1576888\", \"from_node_id\": \"1576889\", \"b2\": null, \"b1\": null}, \"401\": {\"to_node_id\": \"1576569\", \"from_node_id\": \"1576890\", \"b2\": {\"y\": 3112.853617863234, \"x\": 3706.5785261677484}, \"b1\": {\"y\": 3077.95608535897, \"x\": 3678.1735578503244}}, \"400\": {\"to_node_id\": \"1576889\", \"from_node_id\": \"1576533\", \"b2\": {\"y\": 2954.5162418879845, \"x\": 3567.004509117803}, \"b1\": {\"y\": 2904.387472959949, \"x\": 3518.015030392677}}, \"403\": {\"to_node_id\": \"1576571\", \"from_node_id\": \"1576890\", \"b2\": {\"y\": 3107.574578569538, \"x\": 3702.2816337193913}, \"b1\": {\"y\": 3076.3723735708613, \"x\": 3676.8844901158172}}, \"399\": {\"to_node_id\": \"1576889\", \"from_node_id\": \"1576568\", \"b2\": {\"y\": 2964.923830429043, \"x\": 3577.1755615556553}, \"b1\": {\"y\": 2939.079434763476, \"x\": 3551.9185385188516}}, \"398\": {\"to_node_id\": \"1576889\", \"from_node_id\": \"1576567\", \"b2\": {\"y\": 2962.1615434463, \"x\": 3574.4760538225205}, \"b1\": {\"y\": 2929.871811487667, \"x\": 3542.920179408402}}, \"402\": {\"to_node_id\": \"1576570\", \"from_node_id\": \"1576890\", \"b2\": {\"y\": 3120.815793594307, \"x\": 3713.059366879087}, \"b1\": {\"y\": 3080.344738078292, \"x\": 3680.117810063726}}}, \"genes\": [{\"bigg_id\": \"b0729\", \"name\": \"sucD\"}, {\"bigg_id\": \"b0728\", \"name\": \"sucC\"}], \"reversibility\": true, \"metabolites\": [{\"coefficient\": -1.0, \"bigg_id\": \"coa_c\"}, {\"coefficient\": 1.0, \"bigg_id\": \"adp_c\"}, {\"coefficient\": -1.0, \"bigg_id\": \"succ_c\"}, {\"coefficient\": -1.0, \"bigg_id\": \"atp_c\"}, {\"coefficient\": 1.0, \"bigg_id\": \"succoa_c\"}, {\"coefficient\": 1.0, \"bigg_id\": \"pi_c\"}], \"label_x\": 3641.0, \"label_y\": 3010.0, \"gene_reaction_rule\": \"b0728 and b0729\"}, \"1576723\": {\"name\": \"Transketolase\", \"bigg_id\": \"TKT2\", \"segments\": {\"414\": {\"to_node_id\": \"1576898\", \"from_node_id\": \"1576896\", \"b2\": null, \"b1\": null}, \"415\": {\"to_node_id\": \"1576897\", \"from_node_id\": \"1576547\", \"b2\": {\"y\": 1735.0, \"x\": 1772.8736958157247}, \"b1\": {\"y\": 1735.0, \"x\": 1954.5789860524153}}, \"416\": {\"to_node_id\": \"1576897\", \"from_node_id\": \"1576558\", \"b2\": {\"y\": 1735.0, \"x\": 1741.208765402248}, \"b1\": {\"y\": 1735.0, \"x\": 1849.0292180074937}}, \"417\": {\"to_node_id\": \"1576525\", \"from_node_id\": \"1576898\", \"b2\": {\"y\": 1587.43115234375, \"x\": 1280.4546812716637}, \"b1\": {\"y\": 1741.3470458984375, \"x\": 1235.776382408843}}, \"413\": {\"to_node_id\": \"1576896\", \"from_node_id\": \"1576897\", \"b2\": null, \"b1\": null}, \"418\": {\"to_node_id\": \"1576575\", \"from_node_id\": \"1576898\", \"b2\": {\"y\": 1735.0, \"x\": 1312.7516245895065}, \"b1\": {\"y\": 1735.0, \"x\": 1318.2979239002893}}}, \"genes\": [{\"bigg_id\": \"b2465\", \"name\": \"tktB\"}, {\"bigg_id\": \"b2935\", \"name\": \"tktA\"}], \"reversibility\": true, \"metabolites\": [{\"coefficient\": -1.0, \"bigg_id\": \"xu5p__D_c\"}, {\"coefficient\": -1.0, \"bigg_id\": \"e4p_c\"}, {\"coefficient\": 1.0, \"bigg_id\": \"g3p_c\"}, {\"coefficient\": 1.0, \"bigg_id\": \"f6p_c\"}], \"label_x\": 1520.71923828125, \"label_y\": 1702.785400390625, \"gene_reaction_rule\": \"b2935 or b2465\"}, \"1576722\": {\"name\": \"L-Glutamate exchange\", \"bigg_id\": \"EX_glu__L_e\", \"segments\": {\"411\": {\"to_node_id\": \"1576895\", \"from_node_id\": \"1576552\", \"b2\": {\"y\": 3635.0, \"x\": 4949.0}, \"b1\": {\"y\": 3634.3, \"x\": 4902.8}}}, \"genes\": [], \"reversibility\": false, \"metabolites\": [{\"coefficient\": -1.0, \"bigg_id\": \"glu__L_e\"}], \"label_x\": 4936.36669921875, \"label_y\": 3680.79150390625, \"gene_reaction_rule\": \"\"}, \"1576729\": {\"name\": \"O2 exchange\", \"bigg_id\": \"EX_o2_e\", \"segments\": {\"454\": {\"to_node_id\": \"1576914\", \"from_node_id\": \"1576494\", \"b2\": {\"y\": 1660.0, \"x\": 4910.0}, \"b1\": {\"y\": 1660.0, \"x\": 4868.0}}}, \"genes\": [], \"reversibility\": true, \"metabolites\": [{\"coefficient\": -1.0, \"bigg_id\": \"o2_e\"}], \"label_x\": 4894.58984375, \"label_y\": 1633.8848876953125, \"gene_reaction_rule\": \"\"}, \"1576728\": {\"name\": \"Pyruvate formate lyase\", \"bigg_id\": \"PFL\", \"segments\": {\"449\": {\"to_node_id\": \"1576913\", \"from_node_id\": \"1576911\", \"b2\": null, \"b1\": null}, \"448\": {\"to_node_id\": \"1576911\", \"from_node_id\": \"1576912\", \"b2\": null, \"b1\": null}, \"450\": {\"to_node_id\": \"1576912\", \"from_node_id\": \"1576589\", \"b2\": {\"y\": 3995.0, \"x\": 1239.5565547885194}, \"b1\": {\"y\": 3995.0, \"x\": 1203.521849295065}}, \"451\": {\"to_node_id\": \"1576912\", \"from_node_id\": \"1576511\", \"b2\": {\"y\": 3995.0, \"x\": 1224.0767078078675}, \"b1\": {\"y\": 3995.0, \"x\": 1151.9223593595584}}, \"452\": {\"to_node_id\": \"1576514\", \"from_node_id\": \"1576913\", \"b2\": {\"y\": 3995.0, \"x\": 1567.0690632574556}, \"b1\": {\"y\": 3995.0, \"x\": 1460.6207189772367}}, \"453\": {\"to_node_id\": \"1576590\", \"from_node_id\": \"1576913\", \"b2\": {\"y\": 3995.0, \"x\": 1469.8292804986534}, \"b1\": {\"y\": 3995.0, \"x\": 1431.4487841495961}}}, \"genes\": [{\"bigg_id\": \"b3114\", \"name\": \"tdcE\"}, {\"bigg_id\": \"b3951\", \"name\": \"pflD\"}, {\"bigg_id\": \"b3952\", \"name\": \"pflC\"}, {\"bigg_id\": \"b0903\", \"name\": \"pflB\"}, {\"bigg_id\": \"b0902\", \"name\": \"pflA\"}, {\"bigg_id\": \"b2579\", \"name\": \"grcA\"}], \"reversibility\": false, \"metabolites\": [{\"coefficient\": -1.0, \"bigg_id\": \"pyr_c\"}, {\"coefficient\": -1.0, \"bigg_id\": \"coa_c\"}, {\"coefficient\": 1.0, \"bigg_id\": \"accoa_c\"}, {\"coefficient\": 1.0, \"bigg_id\": \"for_c\"}], \"label_x\": 1310.09130859375, \"label_y\": 4046.8837890625, \"gene_reaction_rule\": \"((b0902 and b0903) and b2579) or (b0902 and b0903) or (b0902 and b3114) or (b3951 and b3952)\"}, \"1577532\": {\"name\": \"Malate transport via proton symport  2 H \", \"bigg_id\": \"MALt2_2\", \"segments\": {\"33\": {\"to_node_id\": \"1577056\", \"from_node_id\": \"1576831\", \"b2\": {\"y\": 720.0576036932963, \"x\": 2610.0}, \"b1\": {\"y\": 682.8586789776543, \"x\": 2610.0}}, \"32\": {\"to_node_id\": \"1577058\", \"from_node_id\": \"1577057\", \"b2\": null, \"b1\": null}, \"31\": {\"to_node_id\": \"1577057\", \"from_node_id\": \"1577056\", \"b2\": null, \"b1\": null}, \"36\": {\"to_node_id\": \"1576504\", \"from_node_id\": \"1577058\", \"b2\": {\"y\": 2086.013675322326, \"x\": 2610.0}, \"b1\": {\"y\": 1311.8041025966977, \"x\": 2610.0}}, \"35\": {\"to_node_id\": \"1576810\", \"from_node_id\": \"1577058\", \"b2\": {\"y\": 1032.2015325445527, \"x\": 2610.0}, \"b1\": {\"y\": 995.6604597633658, \"x\": 2610.0}}, \"34\": {\"to_node_id\": \"1577056\", \"from_node_id\": \"1576816\", \"b2\": {\"y\": 723.1, \"x\": 2610.0}, \"b1\": {\"y\": 693.0, \"x\": 2610.0}}}, \"genes\": [{\"bigg_id\": \"b3528\", \"name\": \"dctA\"}], \"reversibility\": false, \"metabolites\": [{\"coefficient\": 1.0, \"bigg_id\": \"mal__L_c\"}, {\"coefficient\": 2.0, \"bigg_id\": \"h_c\"}, {\"coefficient\": -1.0, \"bigg_id\": \"mal__L_e\"}, {\"coefficient\": -2.0, \"bigg_id\": \"h_e\"}], \"label_x\": 2623.173583984375, \"label_y\": 844.3793334960938, \"gene_reaction_rule\": \"b3528\"}, \"1577537\": {\"name\": \"L-Malate exchange\", \"bigg_id\": \"EX_mal__L_e\", \"segments\": {\"37\": {\"to_node_id\": \"1577059\", \"from_node_id\": \"1576816\", \"b2\": {\"y\": 560.0, \"x\": 2610.0}, \"b1\": {\"y\": 623.0, \"x\": 2610.0}}}, \"genes\": [], \"reversibility\": false, \"metabolites\": [{\"coefficient\": -1.0, \"bigg_id\": \"mal__L_e\"}], \"label_x\": 2356.597412109375, \"label_y\": 513.949951171875, \"gene_reaction_rule\": \"\"}, \"1576732\": {\"name\": \"2 oxoglutarate reversible transport via symport\", \"bigg_id\": \"AKGt2r\", \"segments\": {\"469\": {\"to_node_id\": \"1576924\", \"from_node_id\": \"1576923\", \"b2\": null, \"b1\": null}, \"472\": {\"to_node_id\": \"1576923\", \"from_node_id\": \"1576599\", \"b2\": {\"y\": 3228.0, \"x\": 4807.306616216525}, \"b1\": {\"y\": 3228.0, \"x\": 4843.0220540550845}}, \"473\": {\"to_node_id\": \"1576509\", \"from_node_id\": \"1576922\", \"b2\": {\"y\": 3228.0, \"x\": 4074.584218822}, \"b1\": {\"y\": 3228.0, \"x\": 4373.7752656466}}, \"470\": {\"to_node_id\": \"1576922\", \"from_node_id\": \"1576924\", \"b2\": null, \"b1\": null}, \"471\": {\"to_node_id\": \"1576923\", \"from_node_id\": \"1576598\", \"b2\": {\"y\": 3228.0, \"x\": 4811.5}, \"b1\": {\"y\": 3228.0, \"x\": 4857.0}}, \"474\": {\"to_node_id\": \"1576600\", \"from_node_id\": \"1576922\", \"b2\": {\"y\": 3228.0, \"x\": 4449.798467455447}, \"b1\": {\"y\": 3228.0, \"x\": 4486.339540236634}}}, \"genes\": [{\"bigg_id\": \"b2587\", \"name\": \"kgtP\"}], \"reversibility\": true, \"metabolites\": [{\"coefficient\": -1.0, \"bigg_id\": \"h_e\"}, {\"coefficient\": 1.0, \"bigg_id\": \"akg_c\"}, {\"coefficient\": -1.0, \"bigg_id\": \"akg_e\"}, {\"coefficient\": 1.0, \"bigg_id\": \"h_c\"}], \"label_x\": 4594.6474609375, \"label_y\": 3197.05029296875, \"gene_reaction_rule\": \"b2587\"}, \"1576733\": {\"name\": \"Fructose-bisphosphate aldolase\", \"bigg_id\": \"FBA\", \"segments\": {\"55\": {\"to_node_id\": \"1576601\", \"from_node_id\": \"1576925\", \"b2\": {\"y\": 2081.141357421875, \"x\": 929.645751953125}, \"b1\": {\"y\": 2082.5, \"x\": 1055.0}}, \"54\": {\"to_node_id\": \"1576575\", \"from_node_id\": \"1576925\", \"b2\": {\"y\": 2120.0, \"x\": 1055.0}, \"b1\": {\"y\": 2067.5, \"x\": 1055.0}}, \"53\": {\"to_node_id\": \"1576925\", \"from_node_id\": \"1576926\", \"b2\": null, \"b1\": null}, \"475\": {\"to_node_id\": \"1576926\", \"from_node_id\": \"1576529\", \"b2\": {\"y\": 1974.28076171875, \"x\": 1055.0}, \"b1\": {\"y\": 1970.4088134765625, \"x\": 1055.0}}}, \"genes\": [{\"bigg_id\": \"b2097\", \"name\": \"fbaB\"}, {\"bigg_id\": \"b2925\", \"name\": \"fbaA\"}, {\"bigg_id\": \"b1773\", \"name\": \"ydjI\"}], \"reversibility\": true, \"metabolites\": [{\"coefficient\": 1.0, \"bigg_id\": \"dhap_c\"}, {\"coefficient\": 1.0, \"bigg_id\": \"g3p_c\"}, {\"coefficient\": -1.0, \"bigg_id\": \"fdp_c\"}], \"label_x\": 969.7942504882812, \"label_y\": 2031.01611328125, \"gene_reaction_rule\": \"b2097 or b1773 or b2925\"}, \"1576730\": {\"name\": \"Phosphoenolpyruvate carboxykinase\", \"bigg_id\": \"PPCK\", \"segments\": {\"458\": {\"to_node_id\": \"1576917\", \"from_node_id\": \"1576591\", \"b2\": {\"y\": 3557.6148705803193, \"x\": 1495.4573041787805}, \"b1\": {\"y\": 3566.049568601064, \"x\": 1519.8576805959353}}, \"459\": {\"to_node_id\": \"1576917\", \"from_node_id\": \"1576521\", \"b2\": {\"y\": 3678.777694102544, \"x\": 1757.8986662821364}, \"b1\": {\"y\": 3758.886258987647, \"x\": 2521.6033016696215}}, \"461\": {\"to_node_id\": \"1576593\", \"from_node_id\": \"1576918\", \"b2\": {\"y\": 3483.931701701515, \"x\": 1277.7951051045454}, \"b1\": {\"y\": 3497.2795105104547, \"x\": 1317.8385315313635}}, \"460\": {\"to_node_id\": \"1576592\", \"from_node_id\": \"1576918\", \"b2\": {\"y\": 3492.675272400688, \"x\": 1304.0258172020633}, \"b1\": {\"y\": 3499.9025817202064, \"x\": 1325.707745160619}}, \"456\": {\"to_node_id\": \"1576916\", \"from_node_id\": \"1576917\", \"b2\": null, \"b1\": null}, \"457\": {\"to_node_id\": \"1576918\", \"from_node_id\": \"1576916\", \"b2\": null, \"b1\": null}, \"462\": {\"to_node_id\": \"1576517\", \"from_node_id\": \"1576918\", \"b2\": {\"y\": 3454.321462634956, \"x\": 1188.9643879048676}, \"b1\": {\"y\": 3488.3964387904866, \"x\": 1291.1893163714603}}}, \"genes\": [{\"bigg_id\": \"b3403\", \"name\": \"pck\"}], \"reversibility\": false, \"metabolites\": [{\"coefficient\": 1.0, \"bigg_id\": \"pep_c\"}, {\"coefficient\": -1.0, \"bigg_id\": \"atp_c\"}, {\"coefficient\": -1.0, \"bigg_id\": \"oaa_c\"}, {\"coefficient\": 1.0, \"bigg_id\": \"co2_c\"}, {\"coefficient\": 1.0, \"bigg_id\": \"adp_c\"}], \"label_x\": 1377.3328857421875, \"label_y\": 3600.33447265625, \"gene_reaction_rule\": \"b3403\"}, \"1576731\": {\"name\": \"Phosphate reversible transport via symport\", \"bigg_id\": \"PIt2r\", \"segments\": {\"468\": {\"to_node_id\": \"1576597\", \"from_node_id\": \"1576919\", \"b2\": {\"y\": 4475.0, \"x\": 2880.0}, \"b1\": {\"y\": 4506.5, \"x\": 2880.0}}, \"465\": {\"to_node_id\": \"1576921\", \"from_node_id\": \"1576594\", \"b2\": {\"y\": 4742.1, \"x\": 2880.0}, \"b1\": {\"y\": 4782.0, \"x\": 2880.0}}, \"464\": {\"to_node_id\": \"1576919\", \"from_node_id\": \"1576920\", \"b2\": null, \"b1\": null}, \"467\": {\"to_node_id\": \"1576596\", \"from_node_id\": \"1576919\", \"b2\": {\"y\": 4464.789040942943, \"x\": 2880.0}, \"b1\": {\"y\": 4503.436712282883, \"x\": 2880.0}}, \"466\": {\"to_node_id\": \"1576921\", \"from_node_id\": \"1576595\", \"b2\": {\"y\": 4740.280870394058, \"x\": 2880.0}, \"b1\": {\"y\": 4775.936234646861, \"x\": 2880.0}}, \"463\": {\"to_node_id\": \"1576920\", \"from_node_id\": \"1576921\", \"b2\": null, \"b1\": null}}, \"genes\": [{\"bigg_id\": \"b3493\", \"name\": \"pitA\"}, {\"bigg_id\": \"b2987\", \"name\": \"pitB\"}], \"reversibility\": true, \"metabolites\": [{\"coefficient\": -1.0, \"bigg_id\": \"h_e\"}, {\"coefficient\": 1.0, \"bigg_id\": \"h_c\"}, {\"coefficient\": 1.0, \"bigg_id\": \"pi_c\"}, {\"coefficient\": -1.0, \"bigg_id\": \"pi_e\"}], \"label_x\": 2916.97509765625, \"label_y\": 4649.33837890625, \"gene_reaction_rule\": \"b2987 or b3493\"}, \"1576736\": {\"name\": \"Ribose-5-phosphate isomerase\", \"bigg_id\": \"RPI\", \"segments\": {\"66\": {\"to_node_id\": \"1576931\", \"from_node_id\": \"1576605\", \"b2\": {\"y\": 1490.0, \"x\": 2362.0}, \"b1\": {\"y\": 1535.5, \"x\": 2401.9}}, \"67\": {\"to_node_id\": \"1576493\", \"from_node_id\": \"1576931\", \"b2\": {\"y\": 1345.0, \"x\": 2230.0}, \"b1\": {\"y\": 1401.0, \"x\": 2282.5}}}, \"genes\": [{\"bigg_id\": \"b2914\", \"name\": \"rpiA\"}, {\"bigg_id\": \"b4090\", \"name\": \"rpiB\"}], \"reversibility\": true, \"metabolites\": [{\"coefficient\": 1.0, \"bigg_id\": \"ru5p__D_c\"}, {\"coefficient\": -1.0, \"bigg_id\": \"r5p_c\"}], \"label_x\": 2315.0, \"label_y\": 1415.0, \"gene_reaction_rule\": \"b2914 or b4090\"}, \"1576737\": {\"name\": \"Malate synthase\", \"bigg_id\": \"MALS\", \"segments\": {\"75\": {\"to_node_id\": \"1576504\", \"from_node_id\": \"1576932\", \"b2\": {\"y\": 3264.9901959981144, \"x\": 2733.0283686781227}, \"b1\": {\"y\": 3318.197058799434, \"x\": 2810.0085106034367}}, \"74\": {\"to_node_id\": \"1576609\", \"from_node_id\": \"1576932\", \"b2\": {\"y\": 3288.6581354094164, \"x\": 2767.2713448476666}, \"b1\": {\"y\": 3325.297440622825, \"x\": 2820.2814034543}}, \"73\": {\"to_node_id\": \"1576608\", \"from_node_id\": \"1576932\", \"b2\": {\"y\": 3305.691868266011, \"x\": 2791.915894512527}, \"b1\": {\"y\": 3330.4075604798036, \"x\": 2827.674768353758}}, \"72\": {\"to_node_id\": \"1576933\", \"from_node_id\": \"1576607\", \"b2\": {\"y\": 3460.23788356471, \"x\": 3016.1884971205427}, \"b1\": {\"y\": 3495.7929452157005, \"x\": 3067.961657068476}}, \"71\": {\"to_node_id\": \"1576933\", \"from_node_id\": \"1576606\", \"b2\": {\"y\": 3455.108224908018, \"x\": 3008.7189941643073}, \"b1\": {\"y\": 3478.694083026728, \"x\": 3043.063313881025}}, \"70\": {\"to_node_id\": \"1576933\", \"from_node_id\": \"1576532\", \"b2\": {\"y\": 3464.029731004742, \"x\": 3021.7099591823435}, \"b1\": {\"y\": 3508.4324366824735, \"x\": 3086.3665306078124}}, \"68\": {\"to_node_id\": \"1576934\", \"from_node_id\": \"1576933\", \"b2\": null, \"b1\": null}, \"69\": {\"to_node_id\": \"1576932\", \"from_node_id\": \"1576934\", \"b2\": null, \"b1\": null}}, \"genes\": [{\"bigg_id\": \"b2976\", \"name\": \"glcB\"}, {\"bigg_id\": \"b4014\", \"name\": \"aceB\"}], \"reversibility\": false, \"metabolites\": [{\"coefficient\": 1.0, \"bigg_id\": \"coa_c\"}, {\"coefficient\": 1.0, \"bigg_id\": \"h_c\"}, {\"coefficient\": 1.0, \"bigg_id\": \"mal__L_c\"}, {\"coefficient\": -1.0, \"bigg_id\": \"accoa_c\"}, {\"coefficient\": -1.0, \"bigg_id\": \"h2o_c\"}, {\"coefficient\": -1.0, \"bigg_id\": \"glx_c\"}], \"label_x\": 2921.0, \"label_y\": 3378.0, \"gene_reaction_rule\": \"b4014 or b2976\"}, \"1576734\": {\"name\": \"Triose-phosphate isomerase\", \"bigg_id\": \"TPI\", \"segments\": {\"57\": {\"to_node_id\": \"1576575\", \"from_node_id\": \"1576927\", \"b2\": {\"y\": 2195.0, \"x\": 1005.0}, \"b1\": {\"y\": 2195.0, \"x\": 970.0}}, \"56\": {\"to_node_id\": \"1576927\", \"from_node_id\": \"1576601\", \"b2\": {\"y\": 2195.0, \"x\": 911.3470458984375}, \"b1\": {\"y\": 2195.0, \"x\": 911.255859375}}}, \"genes\": [{\"bigg_id\": \"b3919\", \"name\": \"tpiA\"}], \"reversibility\": true, \"metabolites\": [{\"coefficient\": -1.0, \"bigg_id\": \"dhap_c\"}, {\"coefficient\": 1.0, \"bigg_id\": \"g3p_c\"}], \"label_x\": 936.438232421875, \"label_y\": 2245.297119140625, \"gene_reaction_rule\": \"b3919\"}, \"1576735\": {\"name\": \"Cytochrome oxidase bd (ubiquinol-8: 2 protons)\", \"bigg_id\": \"CYTBD\", \"segments\": {\"59\": {\"to_node_id\": \"1576929\", \"from_node_id\": \"1576928\", \"b2\": null, \"b1\": null}, \"58\": {\"to_node_id\": \"1576928\", \"from_node_id\": \"1576930\", \"b2\": null, \"b1\": null}, \"60\": {\"to_node_id\": \"1576930\", \"from_node_id\": \"1576602\", \"b2\": {\"y\": 1900.0, \"x\": 4595.5}, \"b1\": {\"y\": 1895.1654052734375, \"x\": 4416.69775390625}}, \"61\": {\"to_node_id\": \"1576930\", \"from_node_id\": \"1576495\", \"b2\": {\"y\": 1900.0, \"x\": 4572.371881863104}, \"b1\": {\"y\": 1900.0, \"x\": 4437.906272877015}}, \"62\": {\"to_node_id\": \"1576930\", \"from_node_id\": \"1576542\", \"b2\": {\"y\": 1900.0, \"x\": 4581.906341374356}, \"b1\": {\"y\": 1890.3310546875, \"x\": 4368.162902237436}}, \"63\": {\"to_node_id\": \"1576539\", \"from_node_id\": \"1576929\", \"b2\": {\"y\": 1903.22314453125, \"x\": 4842.38515985191}, \"b1\": {\"y\": 1900.0, \"x\": 4715.894014752448}}, \"64\": {\"to_node_id\": \"1576603\", \"from_node_id\": \"1576929\", \"b2\": {\"y\": 1900.0, \"x\": 4775.0}, \"b1\": {\"y\": 1900.0, \"x\": 4715.5}}, \"65\": {\"to_node_id\": \"1576604\", \"from_node_id\": \"1576929\", \"b2\": {\"y\": 1758.1868896484375, \"x\": 4884.545828600423}, \"b1\": {\"y\": 1901.611572265625, \"x\": 4821.203885298877}}}, \"genes\": [{\"bigg_id\": \"b0978\", \"name\": \"cbdA\"}, {\"bigg_id\": \"b0734\", \"name\": \"cydB\"}, {\"bigg_id\": \"b0979\", \"name\": \"cbdB\"}, {\"bigg_id\": \"b0733\", \"name\": \"cydA\"}], \"reversibility\": false, \"metabolites\": [{\"coefficient\": -0.5, \"bigg_id\": \"o2_c\"}, {\"coefficient\": 1.0, \"bigg_id\": \"q8_c\"}, {\"coefficient\": 2.0, \"bigg_id\": \"h_e\"}, {\"coefficient\": -1.0, \"bigg_id\": \"q8h2_c\"}, {\"coefficient\": -2.0, \"bigg_id\": \"h_c\"}, {\"coefficient\": 1.0, \"bigg_id\": \"h2o_c\"}], \"label_x\": 4560.4169921875, \"label_y\": 1954.46044921875, \"gene_reaction_rule\": \"(b0978 and b0979) or (b0733 and b0734)\"}, \"1576739\": {\"name\": \"Phosphotransacetylase\", \"bigg_id\": \"PTAr\", \"segments\": {\"77\": {\"to_node_id\": \"1576936\", \"from_node_id\": \"1576937\", \"b2\": null, \"b1\": null}, \"76\": {\"to_node_id\": \"1576937\", \"from_node_id\": \"1576935\", \"b2\": null, \"b1\": null}, \"80\": {\"to_node_id\": \"1576613\", \"from_node_id\": \"1576936\", \"b2\": {\"y\": 4140.0, \"x\": 1715.0}, \"b1\": {\"y\": 4115.5, \"x\": 1715.0}}, \"81\": {\"to_node_id\": \"1576614\", \"from_node_id\": \"1576936\", \"b2\": {\"y\": 4157.201532544553, \"x\": 1715.0}, \"b1\": {\"y\": 4120.660459763366, \"x\": 1715.0}}, \"79\": {\"to_node_id\": \"1576935\", \"from_node_id\": \"1576612\", \"b2\": {\"y\": 4049.339540236634, \"x\": 1715.0}, \"b1\": {\"y\": 4012.7984674554473, \"x\": 1715.0}}, \"78\": {\"to_node_id\": \"1576935\", \"from_node_id\": \"1576514\", \"b2\": {\"y\": 4047.0, \"x\": 1715.0}, \"b1\": {\"y\": 4005.0, \"x\": 1715.0}}}, \"genes\": [{\"bigg_id\": \"b2297\", \"name\": \"pta\"}, {\"bigg_id\": \"b2458\", \"name\": \"eutD\"}], \"reversibility\": true, \"metabolites\": [{\"coefficient\": -1.0, \"bigg_id\": \"accoa_c\"}, {\"coefficient\": 1.0, \"bigg_id\": \"actp_c\"}, {\"coefficient\": -1.0, \"bigg_id\": \"pi_c\"}, {\"coefficient\": 1.0, \"bigg_id\": \"coa_c\"}], \"label_x\": 1725.0, \"label_y\": 4075.0, \"gene_reaction_rule\": \"b2297 or b2458\"}, \"1577529\": {\"name\": \"D-Fructose exchange\", \"bigg_id\": \"EX_fru_e\", \"segments\": {\"29\": {\"to_node_id\": \"1577054\", \"from_node_id\": \"1576826\", \"b2\": {\"y\": 1360.0, \"x\": 241.0}, \"b1\": {\"y\": 1360.0, \"x\": 282.3}}}, \"genes\": [], \"reversibility\": false, \"metabolites\": [{\"coefficient\": -1.0, \"bigg_id\": \"fru_e\"}], \"label_x\": 125.35597229003906, \"label_y\": 1321.438232421875, \"gene_reaction_rule\": \"\"}, \"1577520\": {\"name\": \"Fumarate reductase\", \"bigg_id\": \"FRD7\", \"segments\": {\"20\": {\"to_node_id\": \"1577048\", \"from_node_id\": \"1576830\", \"b2\": {\"y\": 2600.0, \"x\": 3057.152680682408}, \"b1\": {\"y\": 2600.0, \"x\": 3003.842268941361}}, \"21\": {\"to_node_id\": \"1576814\", \"from_node_id\": \"1577050\", \"b2\": {\"y\": 2600.0, \"x\": 3213.824115301167}, \"b1\": {\"y\": 2600.0, \"x\": 3162.14723459035}}, \"22\": {\"to_node_id\": \"1576533\", \"from_node_id\": \"1577050\", \"b2\": {\"y\": 2600.0, \"x\": 3333.4483135103533}, \"b1\": {\"y\": 2600.0, \"x\": 3198.034494053106}}, \"19\": {\"to_node_id\": \"1577048\", \"from_node_id\": \"1576503\", \"b2\": {\"y\": 2600.0, \"x\": 3020.2689151278832}, \"b1\": {\"y\": 2600.0, \"x\": 2880.896383759611}}, \"18\": {\"to_node_id\": \"1577050\", \"from_node_id\": \"1577049\", \"b2\": null, \"b1\": null}, \"17\": {\"to_node_id\": \"1577049\", \"from_node_id\": \"1577048\", \"b2\": null, \"b1\": null}}, \"genes\": [{\"bigg_id\": \"b4152\", \"name\": \"frdC\"}, {\"bigg_id\": \"b4151\", \"name\": \"frdD\"}, {\"bigg_id\": \"b4154\", \"name\": \"frdA\"}, {\"bigg_id\": \"b4153\", \"name\": \"frdB\"}], \"reversibility\": false, \"metabolites\": [{\"coefficient\": 1.0, \"bigg_id\": \"succ_c\"}, {\"coefficient\": -1.0, \"bigg_id\": \"fum_c\"}, {\"coefficient\": 1.0, \"bigg_id\": \"q8_c\"}, {\"coefficient\": -1.0, \"bigg_id\": \"q8h2_c\"}], \"label_x\": 3078.744384765625, \"label_y\": 2572.54541015625, \"gene_reaction_rule\": \"b4151 and b4152 and b4153 and b4154\"}, \"1577524\": {\"name\": \"Fructose transport via PEPPyr PTS  f6p generating \", \"bigg_id\": \"FRUpts2\", \"segments\": {\"24\": {\"to_node_id\": \"1577053\", \"from_node_id\": \"1577052\", \"b2\": null, \"b1\": null}, \"25\": {\"to_node_id\": \"1577051\", \"from_node_id\": \"1576826\", \"b2\": {\"y\": 1361.5867919921875, \"x\": 526.550048828125}, \"b1\": {\"y\": 1360.0, \"x\": 465.0}}, \"26\": {\"to_node_id\": \"1577051\", \"from_node_id\": \"1576819\", \"b2\": {\"y\": 1360.0, \"x\": 396.1378949970459}, \"b1\": {\"y\": 1452.0322265625, \"x\": 400.008457770101}}, \"27\": {\"to_node_id\": \"1576525\", \"from_node_id\": \"1577053\", \"b2\": {\"y\": 1361.586669921875, \"x\": 917.1118252292455}, \"b1\": {\"y\": 1363.1734619140625, \"x\": 860.370260215258}}, \"23\": {\"to_node_id\": \"1577052\", \"from_node_id\": \"1577051\", \"b2\": null, \"b1\": null}, \"28\": {\"to_node_id\": \"1576821\", \"from_node_id\": \"1577053\", \"b2\": {\"y\": 1240.992919921875, \"x\": 861.106575008484}, \"b1\": {\"y\": 1364.76025390625, \"x\": 861.4990623462952}}}, \"genes\": [{\"bigg_id\": \"b1819\", \"name\": \"manZ\"}, {\"bigg_id\": \"b1817\", \"name\": \"manX\"}, {\"bigg_id\": \"b2415\", \"name\": \"ptsH\"}, {\"bigg_id\": \"b2416\", \"name\": \"ptsI\"}, {\"bigg_id\": \"b1818\", \"name\": \"manY\"}], \"reversibility\": false, \"metabolites\": [{\"coefficient\": -1.0, \"bigg_id\": \"pep_c\"}, {\"coefficient\": 1.0, \"bigg_id\": \"f6p_c\"}, {\"coefficient\": -1.0, \"bigg_id\": \"fru_e\"}, {\"coefficient\": 1.0, \"bigg_id\": \"pyr_c\"}], \"label_x\": 456.41497802734375, \"label_y\": 1327.7852783203125, \"gene_reaction_rule\": \"b1817 and b1818 and b1819 and b2415 and b2416\"}}, \"nodes\": {\"1576509\": {\"node_is_primary\": true, \"name\": \"2-Oxoglutarate\", \"label_x\": 3669.712158203125, \"node_type\": \"metabolite\", \"y\": 3627.0, \"x\": 3746.0, \"bigg_id\": \"akg_c\", \"label_y\": 3611.942626953125}, \"1576508\": {\"node_is_primary\": false, \"name\": \"CO2\", \"label_x\": 3539.820068359375, \"node_type\": \"metabolite\", \"y\": 3710.0, \"x\": 3620.0, \"bigg_id\": \"co2_c\", \"label_y\": 3711.611572265625}, \"1576501\": {\"node_is_primary\": true, \"name\": \"Nicotinamide adenine dinucleotide\", \"label_x\": 3556.820068359375, \"node_type\": \"metabolite\", \"y\": 1147.3958740234375, \"x\": 3625.7841796875, \"bigg_id\": \"nad_c\", \"label_y\": 1187.06494140625}, \"1576500\": {\"node_is_primary\": true, \"name\": \"Nicotinamide adenine dinucleotide phosphate - reduced\", \"label_x\": 3740.0, \"node_type\": \"metabolite\", \"y\": 1270.0, \"x\": 3740.0, \"bigg_id\": \"nadph_c\", \"label_y\": 1310.0}, \"1576503\": {\"node_is_primary\": true, \"name\": \"Fumarate\", \"label_x\": 2867.189453125, \"node_type\": \"metabolite\", \"y\": 2920.0, \"x\": 2843.0, \"bigg_id\": \"fum_c\", \"label_y\": 2939.602783203125}, \"1576502\": {\"node_is_primary\": false, \"name\": \"H2O\", \"label_x\": 2693.4130859375, \"node_type\": \"metabolite\", \"y\": 2921.0, \"x\": 2715.0, \"bigg_id\": \"h2o_c\", \"label_y\": 2896.71923828125}, \"1576505\": {\"node_is_primary\": true, \"name\": \"Isocitrate\", \"label_x\": 3344.32373046875, \"node_type\": \"metabolite\", \"y\": 3976.0, \"x\": 3413.0, \"bigg_id\": \"icit_c\", \"label_y\": 3949.222900390625}, \"1576504\": {\"node_is_primary\": true, \"name\": \"L-Malate\", \"label_x\": 2506.83544921875, \"node_type\": \"metabolite\", \"y\": 3192.0, \"x\": 2621.0, \"bigg_id\": \"mal__L_c\", \"label_y\": 3174.826416015625}, \"1576507\": {\"node_is_primary\": false, \"name\": \"Nicotinamide adenine dinucleotide phosphate - reduced\", \"label_x\": 3557.6474609375, \"node_type\": \"metabolite\", \"y\": 3660.0, \"x\": 3659.0, \"bigg_id\": \"nadph_c\", \"label_y\": 3655.388427734375}, \"1576506\": {\"node_is_primary\": false, \"name\": \"Nicotinamide adenine dinucleotide phosphate\", \"label_x\": 3495.0, \"node_type\": \"metabolite\", \"y\": 4065.0, \"x\": 3495.0, \"bigg_id\": \"nadp_c\", \"label_y\": 4098.0}, \"1576992\": {\"y\": 980.0, \"x\": 2840.0, \"node_type\": \"multimarker\"}, \"1576868\": {\"y\": 4158.0, \"x\": 5020.0, \"node_type\": \"midmarker\"}, \"1576993\": {\"y\": 840.0, \"x\": 2840.0, \"node_type\": \"midmarker\"}, \"1576863\": {\"y\": 2880.0, \"x\": 5025.0, \"node_type\": \"midmarker\"}, \"1576860\": {\"y\": 1665.0, \"x\": 835.0, \"node_type\": \"multimarker\"}, \"1576861\": {\"y\": 1765.0, \"x\": 835.0, \"node_type\": \"multimarker\"}, \"1576866\": {\"y\": 1260.0, \"x\": 4145.0, \"node_type\": \"midmarker\"}, \"1576867\": {\"y\": 1200.0, \"x\": 4145.0, \"node_type\": \"multimarker\"}, \"1576864\": {\"y\": 3766.0, \"x\": 3417.0, \"node_type\": \"multimarker\"}, \"1576865\": {\"y\": 3857.0, \"x\": 3417.0, \"node_type\": \"midmarker\"}, \"1576490\": {\"node_is_primary\": true, \"name\": \"6-Phospho-D-gluconate\", \"label_x\": 1800.0250244140625, \"node_type\": \"metabolite\", \"y\": 1265.0, \"x\": 1827.0, \"bigg_id\": \"6pgc_c\", \"label_y\": 1235.0}, \"1576996\": {\"y\": 4501.49560546875, \"x\": 1715.0, \"node_type\": \"multimarker\"}, \"1576997\": {\"y\": 1008.8675537109375, \"x\": 1056.5865478515625, \"node_type\": \"midmarker\"}, \"1576994\": {\"y\": 4745.0, \"x\": 1715.0, \"node_type\": \"multimarker\"}, \"1576995\": {\"y\": 4585.0, \"x\": 1715.0, \"node_type\": \"midmarker\"}, \"1576615\": {\"node_is_primary\": false, \"name\": \"ATP\", \"label_x\": 4552.7265625, \"node_type\": \"metabolite\", \"y\": 4258.0, \"x\": 4535.0, \"bigg_id\": \"atp_c\", \"label_y\": 4269.94287109375}, \"1576614\": {\"node_is_primary\": false, \"name\": \"Coenzyme A\", \"label_x\": 1835.0, \"node_type\": \"metabolite\", \"y\": 4135.0, \"x\": 1815.0, \"bigg_id\": \"coa_c\", \"label_y\": 4135.0}, \"1576617\": {\"node_is_primary\": false, \"name\": \"Phosphate\", \"label_x\": 4268.884765625, \"node_type\": \"metabolite\", \"y\": 4258.0, \"x\": 4285.0, \"bigg_id\": \"pi_c\", \"label_y\": 4287.6689453125}, \"1576616\": {\"node_is_primary\": false, \"name\": \"H2O\", \"label_x\": 4481.77685546875, \"node_type\": \"metabolite\", \"y\": 4258.0, \"x\": 4485.0, \"bigg_id\": \"h2o_c\", \"label_y\": 4287.6689453125}, \"1576613\": {\"node_is_primary\": true, \"name\": \"Acetyl phosphate\", \"label_x\": 1745.0, \"node_type\": \"metabolite\", \"y\": 4175.0, \"x\": 1715.0, \"bigg_id\": \"actp_c\", \"label_y\": 4175.0}, \"1576612\": {\"node_is_primary\": false, \"name\": \"Phosphate\", \"label_x\": 1835.0, \"node_type\": \"metabolite\", \"y\": 4035.0, \"x\": 1815.0, \"bigg_id\": \"pi_c\", \"label_y\": 4035.0}, \"1576619\": {\"node_is_primary\": false, \"name\": \"H+\", \"label_x\": 4331.77734375, \"node_type\": \"metabolite\", \"y\": 4258.0, \"x\": 4335.0, \"bigg_id\": \"h_c\", \"label_y\": 4286.0576171875}, \"1576618\": {\"node_is_primary\": false, \"name\": \"ADP\", \"label_x\": 4381.77685546875, \"node_type\": \"metabolite\", \"y\": 4258.0, \"x\": 4385.0, \"bigg_id\": \"adp_c\", \"label_y\": 4290.89208984375}, \"1576598\": {\"node_is_primary\": true, \"name\": \"2-Oxoglutarate\", \"label_x\": 4922.0, \"node_type\": \"metabolite\", \"y\": 3228.0, \"x\": 4922.0, \"bigg_id\": \"akg_e\", \"label_y\": 3268.0}, \"1576599\": {\"node_is_primary\": false, \"name\": \"H+\", \"label_x\": 4861.39599609375, \"node_type\": \"metabolite\", \"y\": 3321.0, \"x\": 4834.0, \"bigg_id\": \"h_e\", \"label_y\": 3334.553955078125}, \"1576596\": {\"node_is_primary\": false, \"name\": \"H+\", \"label_x\": 2754.13232421875, \"node_type\": \"metabolite\", \"y\": 4452.0, \"x\": 2793.0, \"bigg_id\": \"h_c\", \"label_y\": 4426.61181640625}, \"1576597\": {\"node_is_primary\": true, \"name\": \"Phosphate\", \"label_x\": 2921.0, \"node_type\": \"metabolite\", \"y\": 4430.0, \"x\": 2880.0, \"bigg_id\": \"pi_c\", \"label_y\": 4428.0}, \"1576594\": {\"node_is_primary\": true, \"name\": \"Phosphate\", \"label_x\": 2910.0, \"node_type\": \"metabolite\", \"y\": 4839.0, \"x\": 2880.0, \"bigg_id\": \"pi_e\", \"label_y\": 4839.0}, \"1576595\": {\"node_is_primary\": false, \"name\": \"H+\", \"label_x\": 2733.83544921875, \"node_type\": \"metabolite\", \"y\": 4778.0, \"x\": 2793.0, \"bigg_id\": \"h_e\", \"label_y\": 4763.8515625}, \"1576592\": {\"node_is_primary\": false, \"name\": \"ADP\", \"label_x\": 1285.0, \"node_type\": \"metabolite\", \"y\": 3545.0, \"x\": 1285.0, \"bigg_id\": \"adp_c\", \"label_y\": 3575.0}, \"1576593\": {\"node_is_primary\": false, \"name\": \"CO2\", \"label_x\": 1215.0, \"node_type\": \"metabolite\", \"y\": 3515.0, \"x\": 1215.0, \"bigg_id\": \"co2_c\", \"label_y\": 3535.0}, \"1576590\": {\"node_is_primary\": true, \"name\": \"Formate\", \"label_x\": 1495.230712890625, \"node_type\": \"metabolite\", \"y\": 4095.0, \"x\": 1460.0, \"bigg_id\": \"for_c\", \"label_y\": 4083.958984375}, \"1576591\": {\"node_is_primary\": false, \"name\": \"ATP\", \"label_x\": 1525.0, \"node_type\": \"metabolite\", \"y\": 3625.0, \"x\": 1505.0, \"bigg_id\": \"atp_c\", \"label_y\": 3625.0}, \"1576819\": {\"node_is_primary\": false, \"name\": \"Phosphoenolpyruvate\", \"label_x\": 554.497314453125, \"node_type\": \"metabolite\", \"y\": 1448.4132080078125, \"x\": 565.6046142578125, \"bigg_id\": \"pep_c\", \"label_y\": 1479.5206298828125}, \"1576817\": {\"node_is_primary\": true, \"name\": \"Acetaldehyde\", \"label_x\": 2210.0, \"node_type\": \"metabolite\", \"y\": 3945.0, \"x\": 2210.0, \"bigg_id\": \"acald_c\", \"label_y\": 3905.0}, \"1576816\": {\"node_is_primary\": true, \"name\": \"L-Malate\", \"label_x\": 2640.0, \"node_type\": \"metabolite\", \"y\": 650.0, \"x\": 2610.0, \"bigg_id\": \"mal__L_e\", \"label_y\": 630.0}, \"1576815\": {\"node_is_primary\": true, \"name\": \"Acetaldehyde\", \"label_x\": 2240.0, \"node_type\": \"metabolite\", \"y\": 4837.65283203125, \"x\": 2210.0, \"bigg_id\": \"acald_e\", \"label_y\": 4837.65283203125}, \"1576814\": {\"node_is_primary\": false, \"name\": \"Ubiquinone-8\", \"label_x\": 3228.082275390625, \"node_type\": \"metabolite\", \"y\": 2730.0, \"x\": 3210.0, \"bigg_id\": \"q8_c\", \"label_y\": 2736.34716796875}, \"1576813\": {\"node_is_primary\": false, \"name\": \"H+\", \"label_x\": 2406.0, \"node_type\": \"metabolite\", \"y\": 3980.0, \"x\": 2392.0, \"bigg_id\": \"h_c\", \"label_y\": 3965.0}, \"1576812\": {\"node_is_primary\": false, \"name\": \"Nicotinamide adenine dinucleotide - reduced\", \"label_x\": 1868.892578125, \"node_type\": \"metabolite\", \"y\": 3860.0, \"x\": 1890.0, \"bigg_id\": \"nadh_c\", \"label_y\": 3840.810302734375}, \"1576811\": {\"node_is_primary\": false, \"name\": \"H+\", \"label_x\": 1245.23974609375, \"node_type\": \"metabolite\", \"y\": 4440.0, \"x\": 1270.0, \"bigg_id\": \"h_c\", \"label_y\": 4424.13232421875}, \"1576810\": {\"node_is_primary\": false, \"name\": \"H+\", \"label_x\": 2473.50439453125, \"node_type\": \"metabolite\", \"y\": 1010.0, \"x\": 2510.0, \"bigg_id\": \"h_c\", \"label_y\": 1043.1734619140625}, \"1576692\": {\"node_is_primary\": false, \"name\": \"Nicotinamide adenine dinucleotide phosphate - reduced\", \"label_x\": 2220.0, \"node_type\": \"metabolite\", \"y\": 3540.0, \"x\": 2200.0, \"bigg_id\": \"nadph_c\", \"label_y\": 3550.0}, \"1577106\": {\"y\": 4020.0757924471372, \"x\": 3331.3033751186185, \"node_type\": \"multimarker\"}, \"1577104\": {\"y\": 4035.7165277261324, \"x\": 3294.488060371458, \"node_type\": \"multimarker\"}, \"1577105\": {\"y\": 4027.896160086635, \"x\": 3312.895717745038, \"node_type\": \"midmarker\"}, \"1577069\": {\"y\": 4506.7353515625, \"x\": 1053.4132080078125, \"node_type\": \"multimarker\"}, \"1577068\": {\"y\": 4583.8583984375, \"x\": 1055.0, \"node_type\": \"midmarker\"}, \"1577100\": {\"y\": 4030.8645761345497, \"x\": 3074.275683525833, \"node_type\": \"midmarker\"}, \"1577101\": {\"y\": 4038.0833974815746, \"x\": 3092.9274560517806, \"node_type\": \"multimarker\"}, \"1577065\": {\"y\": 2819.0, \"x\": 3129.0, \"node_type\": \"midmarker\"}, \"1577064\": {\"y\": 2817.0, \"x\": 3180.0, \"node_type\": \"multimarker\"}, \"1577067\": {\"y\": 4660.98193359375, \"x\": 1055.0, \"node_type\": \"multimarker\"}, \"1577066\": {\"y\": 2826.0, \"x\": 3078.0, \"node_type\": \"multimarker\"}, \"1577061\": {\"y\": 2570.0, \"x\": 4630.0, \"node_type\": \"multimarker\"}, \"1577063\": {\"y\": 2570.0, \"x\": 4710.0, \"node_type\": \"multimarker\"}, \"1577062\": {\"y\": 2570.0, \"x\": 4670.0, \"node_type\": \"midmarker\"}, \"1576884\": {\"y\": 3945.0, \"x\": 155.0, \"node_type\": \"midmarker\"}, \"1576885\": {\"y\": 1415.0, \"x\": 2045.0, \"node_type\": \"midmarker\"}, \"1576929\": {\"y\": 1900.0, \"x\": 4690.0, \"node_type\": \"multimarker\"}, \"1576887\": {\"y\": 2230.0, \"x\": 4986.0, \"node_type\": \"midmarker\"}, \"1576880\": {\"y\": 3635.0, \"x\": 4779.0, \"node_type\": \"multimarker\"}, \"1576881\": {\"y\": 4925.0, \"x\": 1055.0, \"node_type\": \"midmarker\"}, \"1576923\": {\"y\": 3228.0, \"x\": 4792.0, \"node_type\": \"multimarker\"}, \"1576922\": {\"y\": 3228.0, \"x\": 4502.0, \"node_type\": \"multimarker\"}, \"1576921\": {\"y\": 4725.0, \"x\": 2880.0, \"node_type\": \"multimarker\"}, \"1576920\": {\"y\": 4580.0, \"x\": 2880.0, \"node_type\": \"midmarker\"}, \"1576927\": {\"y\": 2195.0, \"x\": 955.0, \"node_type\": \"midmarker\"}, \"1576926\": {\"y\": 1995.0, \"x\": 1055.0, \"node_type\": \"midmarker\"}, \"1576925\": {\"y\": 2045.0, \"x\": 1055.0, \"node_type\": \"multimarker\"}, \"1576924\": {\"y\": 3228.0, \"x\": 4662.0, \"node_type\": \"midmarker\"}, \"1576491\": {\"node_is_primary\": false, \"name\": \"CO2\", \"label_x\": 2007.0, \"node_type\": \"metabolite\", \"y\": 1165.0, \"x\": 2007.0, \"bigg_id\": \"co2_c\", \"label_y\": 1145.0}, \"1577087\": {\"node_is_primary\": false, \"name\": \"Coenzyme A\", \"label_x\": 5175.48828125, \"node_type\": \"metabolite\", \"y\": 4931.947265625, \"x\": 5208.85205078125, \"bigg_id\": \"coa_c\", \"label_y\": 4975.3330078125}, \"1577086\": {\"node_is_primary\": false, \"name\": \"Nicotinamide adenine dinucleotide\", \"label_x\": 4860.95166015625, \"node_type\": \"metabolite\", \"y\": 4529.25048828125, \"x\": 4893.27099609375, \"bigg_id\": \"nad_c\", \"label_y\": 4501.22509765625}, \"1577085\": {\"node_is_primary\": false, \"name\": \"Pyruvate\", \"label_x\": 4962.07666015625, \"node_type\": \"metabolite\", \"y\": 4509.18115234375, \"x\": 4988.05859375, \"bigg_id\": \"pyr_c\", \"label_y\": 4488.5498046875}, \"1577084\": {\"node_is_primary\": false, \"name\": \"D-Fructose 6-phosphate\", \"label_x\": 5052.6396484375, \"node_type\": \"metabolite\", \"y\": 4498.61865234375, \"x\": 5087.0712890625, \"bigg_id\": \"f6p_c\", \"label_y\": 4477.9873046875}, \"1577083\": {\"node_is_primary\": false, \"name\": \"ATP\", \"label_x\": 5152.708984375, \"node_type\": \"metabolite\", \"y\": 4488.05615234375, \"x\": 5183.9716796875, \"bigg_id\": \"atp_c\", \"label_y\": 4461.08740234375}, \"1577082\": {\"node_is_primary\": false, \"name\": \"Alpha-D-Ribose 5-phosphate\", \"label_x\": 5390.7685546875, \"node_type\": \"metabolite\", \"y\": 4418.7158203125, \"x\": 5403.0185546875, \"bigg_id\": \"r5p_c\", \"label_y\": 4391.7470703125}, \"1577081\": {\"node_is_primary\": false, \"name\": \"H+\", \"label_x\": 5204.56640625, \"node_type\": \"metabolite\", \"y\": 4994.3544921875, \"x\": 5262.95361328125, \"bigg_id\": \"h_c\", \"label_y\": 5025.4677734375}, \"1577080\": {\"node_is_primary\": false, \"name\": \"D-Erythrose 4-phosphate\", \"label_x\": 5442.19677734375, \"node_type\": \"metabolite\", \"y\": 4466.33544921875, \"x\": 5437.546875, \"bigg_id\": \"e4p_c\", \"label_y\": 4450.9853515625}, \"1576851\": {\"y\": 3945.0, \"x\": 1555.0, \"node_type\": \"multimarker\"}, \"1577089\": {\"node_is_primary\": false, \"name\": \"D-Glucose 6-phosphate\", \"label_x\": 4679.8271484375, \"node_type\": \"metabolite\", \"y\": 4559.88134765625, \"x\": 4700.52734375, \"bigg_id\": \"g6p_c\", \"label_y\": 4537.1376953125}, \"1577088\": {\"node_is_primary\": false, \"name\": \"Oxaloacetate\", \"label_x\": 4770.38916015625, \"node_type\": \"metabolite\", \"y\": 4544.03759765625, \"x\": 4783.69580078125, \"bigg_id\": \"oaa_c\", \"label_y\": 4522.349609375}, \"1576850\": {\"y\": 3945.0, \"x\": 1495.0, \"node_type\": \"midmarker\"}, \"1576853\": {\"y\": 3519.0, \"x\": 1493.0, \"node_type\": \"multimarker\"}, \"1576852\": {\"y\": 3486.0, \"x\": 1414.0, \"node_type\": \"midmarker\"}, \"1576998\": {\"y\": 976.1735229492188, \"x\": 1057.0, \"node_type\": \"multimarker\"}, \"1576498\": {\"node_is_primary\": false, \"name\": \"H+\", \"label_x\": 3529.338134765625, \"node_type\": \"metabolite\", \"y\": 650.0, \"x\": 3510.0, \"bigg_id\": \"h_e\", \"label_y\": 639.6690673828125}, \"1576857\": {\"y\": 1395.0, \"x\": 1055.0, \"node_type\": \"midmarker\"}, \"1576856\": {\"y\": 3225.0, \"x\": 1055.0, \"node_type\": \"midmarker\"}, \"1576855\": {\"y\": 3265.0, \"x\": 1055.0, \"node_type\": \"multimarker\"}, \"1576854\": {\"y\": 3458.0, \"x\": 1348.0, \"node_type\": \"multimarker\"}, \"1576493\": {\"node_is_primary\": true, \"name\": \"D-Ribulose 5-phosphate\", \"label_x\": 2155.0, \"node_type\": \"metabolite\", \"y\": 1265.0, \"x\": 2155.0, \"bigg_id\": \"ru5p__D_c\", \"label_y\": 1235.0}, \"1576492\": {\"node_is_primary\": false, \"name\": \"Nicotinamide adenine dinucleotide phosphate - reduced\", \"label_x\": 2080.0, \"node_type\": \"metabolite\", \"y\": 1165.0, \"x\": 2057.0, \"bigg_id\": \"nadph_c\", \"label_y\": 1140.0}, \"1576859\": {\"y\": 1715.0, \"x\": 835.0, \"node_type\": \"midmarker\"}, \"1576858\": {\"y\": 4598.0, \"x\": 3989.0, \"node_type\": \"midmarker\"}, \"1576497\": {\"node_is_primary\": true, \"name\": \"Nicotinamide adenine dinucleotide - reduced\", \"label_x\": 3450.0, \"node_type\": \"metabolite\", \"y\": 1120.0, \"x\": 3420.0, \"bigg_id\": \"nadh_c\", \"label_y\": 1150.0}, \"1576496\": {\"node_is_primary\": true, \"name\": \"Nicotinamide adenine dinucleotide phosphate\", \"label_x\": 3330.0, \"node_type\": \"metabolite\", \"y\": 1270.0, \"x\": 3330.0, \"bigg_id\": \"nadp_c\", \"label_y\": 1310.0}, \"1576495\": {\"node_is_primary\": true, \"name\": \"O2\", \"label_x\": 4259.09326171875, \"node_type\": \"metabolite\", \"y\": 1660.0, \"x\": 4330.0, \"bigg_id\": \"o2_c\", \"label_y\": 1677.4388427734375}, \"1576494\": {\"node_is_primary\": true, \"name\": \"O2\", \"label_x\": 4840.3310546875, \"node_type\": \"metabolite\", \"y\": 1660.0, \"x\": 4850.0, \"bigg_id\": \"o2_e\", \"label_y\": 1702.89208984375}, \"1576549\": {\"node_is_primary\": false, \"name\": \"H+\", \"label_x\": 911.677978515625, \"node_type\": \"metabolite\", \"y\": 3625.0, \"x\": 965.0, \"bigg_id\": \"h_c\", \"label_y\": 3612.305908203125}, \"1576548\": {\"node_is_primary\": true, \"name\": \"D-Fructose 6-phosphate\", \"label_x\": 2367.636962890625, \"node_type\": \"metabolite\", \"y\": 2186.826416015625, \"x\": 2362.636962890625, \"bigg_id\": \"f6p_c\", \"label_y\": 2216.826416015625}, \"1576545\": {\"node_is_primary\": true, \"name\": \"Glyceraldehyde 3-phosphate\", \"label_x\": 2375.091552734375, \"node_type\": \"metabolite\", \"y\": 1865.0, \"x\": 2358.984130859375, \"bigg_id\": \"g3p_c\", \"label_y\": 1898.4132080078125}, \"1576544\": {\"node_is_primary\": true, \"name\": \"CO2\", \"label_x\": 3651.0, \"node_type\": \"metabolite\", \"y\": 4754.0, \"x\": 3621.0, \"bigg_id\": \"co2_e\", \"label_y\": 4754.0}, \"1576547\": {\"node_is_primary\": true, \"name\": \"D-Erythrose 4-phosphate\", \"label_x\": 1922.7852783203125, \"node_type\": \"metabolite\", \"y\": 2190.0, \"x\": 1945.0, \"bigg_id\": \"e4p_c\", \"label_y\": 2242.214599609375}, \"1576546\": {\"node_is_primary\": true, \"name\": \"Sedoheptulose 7-phosphate\", \"label_x\": 1955.8675537109375, \"node_type\": \"metabolite\", \"y\": 1865.0, \"x\": 1983.082275390625, \"bigg_id\": \"s7p_c\", \"label_y\": 1814.314697265625}, \"1576542\": {\"node_is_primary\": true, \"name\": \"Ubiquinol-8\", \"label_x\": 4411.00048828125, \"node_type\": \"metabolite\", \"y\": 2210.3310546875, \"x\": 4508.47509765625, \"bigg_id\": \"q8h2_c\", \"label_y\": 2217.395751953125}, \"1577102\": {\"node_is_primary\": false, \"name\": \"H2O\", \"label_x\": 3189.1795476587818, \"node_type\": \"metabolite\", \"y\": 3976.144484067998, \"x\": 3188.1170476587818, \"bigg_id\": \"h2o_c\", \"label_y\": 3930.712355161748}, \"1576648\": {\"node_is_primary\": false, \"name\": \"H+\", \"label_x\": 2620.0, \"node_type\": \"metabolite\", \"y\": 4760.0, \"x\": 2600.0, \"bigg_id\": \"h_e\", \"label_y\": 4760.0}, \"1576649\": {\"node_is_primary\": true, \"name\": \"Ethanol\", \"label_x\": 2530.0, \"node_type\": \"metabolite\", \"y\": 4830.0, \"x\": 2500.0, \"bigg_id\": \"etoh_e\", \"label_y\": 4830.0}, \"1576646\": {\"node_is_primary\": false, \"name\": \"Phosphate\", \"label_x\": 684.8515014648438, \"node_type\": \"metabolite\", \"y\": 3425.0, \"x\": 735.0, \"bigg_id\": \"pi_c\", \"label_y\": 3409.13232421875}, \"1576647\": {\"node_is_primary\": true, \"name\": \"D-Glucose\", \"label_x\": 1085.066162109375, \"node_type\": \"metabolite\", \"y\": 705.0, \"x\": 1055.066162109375, \"bigg_id\": \"glc__D_e\", \"label_y\": 705.0}, \"1576644\": {\"node_is_primary\": false, \"name\": \"H+\", \"label_x\": 672.1574096679688, \"node_type\": \"metabolite\", \"y\": 3475.0, \"x\": 735.0, \"bigg_id\": \"h_c\", \"label_y\": 3478.173583984375}, \"1576645\": {\"node_is_primary\": false, \"name\": \"AMP\", \"label_x\": 640.4221801757812, \"node_type\": \"metabolite\", \"y\": 3525.0, \"x\": 735.0, \"bigg_id\": \"amp_c\", \"label_y\": 3545.6279296875}, \"1576642\": {\"node_is_primary\": false, \"name\": \"ATP\", \"label_x\": 670.5706176757812, \"node_type\": \"metabolite\", \"y\": 3855.0, \"x\": 735.0, \"bigg_id\": \"atp_c\", \"label_y\": 3840.71923828125}, \"1576643\": {\"node_is_primary\": false, \"name\": \"H2O\", \"label_x\": 681.677978515625, \"node_type\": \"metabolite\", \"y\": 3805.0, \"x\": 735.0, \"bigg_id\": \"h2o_c\", \"label_y\": 3787.545654296875}, \"1576640\": {\"node_is_primary\": true, \"name\": \"H2O\", \"label_x\": 3287.0, \"node_type\": \"metabolite\", \"y\": 4434.0, \"x\": 3257.0, \"bigg_id\": \"h2o_c\", \"label_y\": 4434.0}, \"1576641\": {\"node_is_primary\": true, \"name\": \"CO2\", \"label_x\": 3651.0, \"node_type\": \"metabolite\", \"y\": 4434.0, \"x\": 3621.0, \"bigg_id\": \"co2_c\", \"label_y\": 4434.0}, \"1577103\": {\"node_is_primary\": true, \"name\": \"Cis-Aconitate\", \"label_x\": 3156.1556150985407, \"node_type\": \"metabolite\", \"y\": 4053.2845721909744, \"x\": 3197.4642088485407, \"bigg_id\": \"acon_C_c\", \"label_y\": 4098.026271409724}, \"1576991\": {\"y\": 730.0, \"x\": 2840.0, \"node_type\": \"multimarker\"}, \"1577034\": {\"y\": 4570.0, \"x\": 2210.0, \"node_type\": \"midmarker\"}, \"1577035\": {\"y\": 4944.0, \"x\": 2211.0, \"node_type\": \"midmarker\"}, \"1577032\": {\"y\": 3945.0, \"x\": 2010.0, \"node_type\": \"midmarker\"}, \"1577033\": {\"y\": 3945.0, \"x\": 1980.0, \"node_type\": \"multimarker\"}, \"1577030\": {\"y\": 4925.0, \"x\": 1460.0, \"node_type\": \"midmarker\"}, \"1577031\": {\"y\": 3945.0, \"x\": 2040.0, \"node_type\": \"multimarker\"}, \"1576974\": {\"y\": 543.4132690429688, \"x\": 1056.6529541015625, \"node_type\": \"midmarker\"}, \"1576975\": {\"y\": 4430.0, \"x\": 2500.0, \"node_type\": \"multimarker\"}, \"1576976\": {\"y\": 4550.0, \"x\": 2500.0, \"node_type\": \"midmarker\"}, \"1576977\": {\"y\": 4730.0, \"x\": 2500.0, \"node_type\": \"multimarker\"}, \"1576970\": {\"y\": 3805.0, \"x\": 835.0, \"node_type\": \"multimarker\"}, \"1576971\": {\"y\": 3525.0, \"x\": 835.0, \"node_type\": \"multimarker\"}, \"1576972\": {\"y\": 3645.0, \"x\": 835.0, \"node_type\": \"midmarker\"}, \"1576978\": {\"y\": 2995.0, \"x\": 1055.0, \"node_type\": \"midmarker\"}, \"1576989\": {\"y\": 4925.107421875, \"x\": 2880.0, \"node_type\": \"midmarker\"}, \"1576602\": {\"node_is_primary\": false, \"name\": \"H+\", \"label_x\": 4234.01416015625, \"node_type\": \"metabolite\", \"y\": 1895.1654052734375, \"x\": 4301.69775390625, \"bigg_id\": \"h_c\", \"label_y\": 1903.8848876953125}, \"1576603\": {\"node_is_primary\": false, \"name\": \"H+\", \"label_x\": 4858.38818359375, \"node_type\": \"metabolite\", \"y\": 1900.0, \"x\": 4860.0, \"bigg_id\": \"h_e\", \"label_y\": 1950.6187744140625}, \"1576600\": {\"node_is_primary\": false, \"name\": \"H+\", \"label_x\": 4490.337890625, \"node_type\": \"metabolite\", \"y\": 3328.0, \"x\": 4472.0, \"bigg_id\": \"h_c\", \"label_y\": 3342.330810546875}, \"1576601\": {\"node_is_primary\": true, \"name\": \"Dihydroxyacetone phosphate\", \"label_x\": 739.3148193359375, \"node_type\": \"metabolite\", \"y\": 2195.0, \"x\": 855.0, \"bigg_id\": \"dhap_c\", \"label_y\": 2179.132568359375}, \"1576606\": {\"node_is_primary\": false, \"name\": \"Acetyl-CoA\", \"label_x\": 3125.0, \"node_type\": \"metabolite\", \"y\": 3402.0, \"x\": 3105.0, \"bigg_id\": \"accoa_c\", \"label_y\": 3402.0}, \"1576607\": {\"node_is_primary\": false, \"name\": \"H2O\", \"label_x\": 3190.0, \"node_type\": \"metabolite\", \"y\": 3480.0, \"x\": 3170.0, \"bigg_id\": \"h2o_c\", \"label_y\": 3480.0}, \"1576604\": {\"node_is_primary\": false, \"name\": \"H2O\", \"label_x\": 4452.77001953125, \"node_type\": \"metabolite\", \"y\": 1760.9495849609375, \"x\": 4439.09375, \"bigg_id\": \"h2o_c\", \"label_y\": 1736.77685546875}, \"1576605\": {\"node_is_primary\": true, \"name\": \"Alpha-D-Ribose 5-phosphate\", \"label_x\": 2418.413330078125, \"node_type\": \"metabolite\", \"y\": 1555.0, \"x\": 2419.0, \"bigg_id\": \"r5p_c\", \"label_y\": 1601.1072998046875}, \"1576608\": {\"node_is_primary\": false, \"name\": \"H+\", \"label_x\": 2891.0, \"node_type\": \"metabolite\", \"y\": 3220.0, \"x\": 2871.0, \"bigg_id\": \"h_c\", \"label_y\": 3220.0}, \"1576609\": {\"node_is_primary\": false, \"name\": \"Coenzyme A\", \"label_x\": 2800.0, \"node_type\": \"metabolite\", \"y\": 3168.0, \"x\": 2780.0, \"bigg_id\": \"coa_c\", \"label_y\": 3168.0}, \"1576808\": {\"node_is_primary\": false, \"name\": \"H+\", \"label_x\": 4874.1728515625, \"node_type\": \"metabolite\", \"y\": 2570.0, \"x\": 4850.0, \"bigg_id\": \"h_e\", \"label_y\": 2601.280517578125}, \"1576809\": {\"node_is_primary\": true, \"name\": \"Nicotinamide adenine dinucleotide\", \"label_x\": 4356.72412109375, \"node_type\": \"metabolite\", \"y\": 2646.77685546875, \"x\": 4449.00732421875, \"bigg_id\": \"nad_c\", \"label_y\": 2646.95849609375}, \"1576516\": {\"node_is_primary\": false, \"name\": \"H2O\", \"label_x\": 1315.0, \"node_type\": \"metabolite\", \"y\": 3375.0, \"x\": 1295.0, \"bigg_id\": \"h2o_c\", \"label_y\": 3375.0}, \"1576517\": {\"node_is_primary\": true, \"name\": \"Phosphoenolpyruvate\", \"label_x\": 1085.0, \"node_type\": \"metabolite\", \"y\": 3375.0, \"x\": 1055.0, \"bigg_id\": \"pep_c\", \"label_y\": 3355.0}, \"1576514\": {\"node_is_primary\": true, \"name\": \"Acetyl-CoA\", \"label_x\": 1695.0, \"node_type\": \"metabolite\", \"y\": 3945.0, \"x\": 1715.0, \"bigg_id\": \"accoa_c\", \"label_y\": 3965.0}, \"1576515\": {\"node_is_primary\": false, \"name\": \"Nicotinamide adenine dinucleotide - reduced\", \"label_x\": 1647.545654296875, \"node_type\": \"metabolite\", \"y\": 3885.0, \"x\": 1655.0, \"bigg_id\": \"nadh_c\", \"label_y\": 3855.4794921875}, \"1576512\": {\"node_is_primary\": false, \"name\": \"Coenzyme A\", \"label_x\": 1287.066162109375, \"node_type\": \"metabolite\", \"y\": 3905.0, \"x\": 1315.0, \"bigg_id\": \"coa_c\", \"label_y\": 3887.545654296875}, \"1576513\": {\"node_is_primary\": false, \"name\": \"CO2\", \"label_x\": 1595.0, \"node_type\": \"metabolite\", \"y\": 3855.0, \"x\": 1605.0, \"bigg_id\": \"co2_c\", \"label_y\": 3835.0}, \"1576510\": {\"node_is_primary\": false, \"name\": \"Nicotinamide adenine dinucleotide\", \"label_x\": 1394.189697265625, \"node_type\": \"metabolite\", \"y\": 3855.0, \"x\": 1365.0, \"bigg_id\": \"nad_c\", \"label_y\": 3851.826416015625}, \"1576511\": {\"node_is_primary\": true, \"name\": \"Pyruvate\", \"label_x\": 1025.0, \"node_type\": \"metabolite\", \"y\": 3945.0, \"x\": 1055.0, \"bigg_id\": \"pyr_c\", \"label_y\": 3965.0}, \"1576982\": {\"y\": 4275.0, \"x\": 1715.0, \"node_type\": \"midmarker\"}, \"1576691\": {\"node_is_primary\": false, \"name\": \"CO2\", \"label_x\": 2280.0, \"node_type\": \"metabolite\", \"y\": 3510.0, \"x\": 2260.0, \"bigg_id\": \"co2_c\", \"label_y\": 3510.0}, \"1576690\": {\"node_is_primary\": false, \"name\": \"Nicotinamide adenine dinucleotide phosphate\", \"label_x\": 2450.0, \"node_type\": \"metabolite\", \"y\": 3370.0, \"x\": 2430.0, \"bigg_id\": \"nadp_c\", \"label_y\": 3370.0}, \"1576518\": {\"node_is_primary\": false, \"name\": \"CO2\", \"label_x\": 1215.0, \"node_type\": \"metabolite\", \"y\": 3345.0, \"x\": 1205.0, \"bigg_id\": \"co2_c\", \"label_y\": 3325.0}, \"1576519\": {\"node_is_primary\": false, \"name\": \"H+\", \"label_x\": 1635.0, \"node_type\": \"metabolite\", \"y\": 3475.0, \"x\": 1615.0, \"bigg_id\": \"h_c\", \"label_y\": 3475.0}, \"1577078\": {\"node_is_primary\": false, \"name\": \"L-Glutamate\", \"label_x\": 5555.015625, \"node_type\": \"metabolite\", \"y\": 4651.92236328125, \"x\": 5534.521484375, \"bigg_id\": \"glu__L_c\", \"label_y\": 4645.02197265625}, \"1577079\": {\"node_is_primary\": false, \"name\": \"Glyceraldehyde 3-phosphate\", \"label_x\": 5534.87109375, \"node_type\": \"metabolite\", \"y\": 4517.58447265625, \"x\": 5512.26513671875, \"bigg_id\": \"g3p_c\", \"label_y\": 4508.57177734375}, \"1577072\": {\"node_is_primary\": false, \"name\": \"H+\", \"label_x\": 1123.4132080078125, \"node_type\": \"metabolite\", \"y\": 4416.7353515625, \"x\": 1093.4132080078125, \"bigg_id\": \"h_c\", \"label_y\": 4426.7353515625}, \"1577073\": {\"node_is_primary\": false, \"name\": \"H2O\", \"label_x\": 5539.50146484375, \"node_type\": \"metabolite\", \"y\": 4574.02490234375, \"x\": 5527.4580078125, \"bigg_id\": \"h2o_c\", \"label_y\": 4562.89990234375}, \"1577071\": {\"node_is_primary\": false, \"name\": \"H+\", \"label_x\": 1125.0, \"node_type\": \"metabolite\", \"y\": 4750.98193359375, \"x\": 1095.0, \"bigg_id\": \"h_e\", \"label_y\": 4760.98193359375}, \"1577076\": {\"y\": 4757.48193359375, \"x\": 5334.0517578125, \"node_type\": \"multimarker\"}, \"1577077\": {\"node_is_primary\": false, \"name\": \"ADP\", \"label_x\": 5529.1103515625, \"node_type\": \"metabolite\", \"y\": 4924.5068359375, \"x\": 5503.33544921875, \"bigg_id\": \"adp_c\", \"label_y\": 4931.337890625}, \"1577074\": {\"y\": 4717.48193359375, \"x\": 5334.0517578125, \"node_type\": \"multimarker\"}, \"1577075\": {\"y\": 4737.48193359375, \"x\": 5334.0517578125, \"node_type\": \"midmarker\"}, \"1576677\": {\"node_is_primary\": false, \"name\": \"Nicotinamide adenine dinucleotide phosphate - reduced\", \"label_x\": 3935.431640625, \"node_type\": \"metabolite\", \"y\": 3558.0, \"x\": 3992.0, \"bigg_id\": \"nadph_c\", \"label_y\": 3532.22314453125}, \"1576676\": {\"node_is_primary\": false, \"name\": \"Nicotinamide adenine dinucleotide phosphate\", \"label_x\": 4142.0, \"node_type\": \"metabolite\", \"y\": 3558.0, \"x\": 4142.0, \"bigg_id\": \"nadp_c\", \"label_y\": 3528.0}, \"1576675\": {\"node_is_primary\": false, \"name\": \"H2O\", \"label_x\": 4210.0, \"node_type\": \"metabolite\", \"y\": 3558.0, \"x\": 4192.0, \"bigg_id\": \"h2o_c\", \"label_y\": 3530.0}, \"1576674\": {\"node_is_primary\": false, \"name\": \"H+\", \"label_x\": 4456.0, \"node_type\": \"metabolite\", \"y\": 3087.0, \"x\": 4456.0, \"bigg_id\": \"h_c\", \"label_y\": 3109.0}, \"1576673\": {\"node_is_primary\": false, \"name\": \"H+\", \"label_x\": 4836.0, \"node_type\": \"metabolite\", \"y\": 3087.0, \"x\": 4836.0, \"bigg_id\": \"h_e\", \"label_y\": 3115.0}, \"1576672\": {\"node_is_primary\": false, \"name\": \"H+\", \"label_x\": 1169.0, \"node_type\": \"metabolite\", \"y\": 2465.0, \"x\": 1145.0, \"bigg_id\": \"h_c\", \"label_y\": 2465.0}, \"1576671\": {\"node_is_primary\": false, \"name\": \"Nicotinamide adenine dinucleotide - reduced\", \"label_x\": 1165.0, \"node_type\": \"metabolite\", \"y\": 2515.0, \"x\": 1145.0, \"bigg_id\": \"nadh_c\", \"label_y\": 2515.0}, \"1576670\": {\"node_is_primary\": false, \"name\": \"Phosphate\", \"label_x\": 1165.0, \"node_type\": \"metabolite\", \"y\": 2315.0, \"x\": 1145.0, \"bigg_id\": \"pi_c\", \"label_y\": 2315.0}, \"1576679\": {\"node_is_primary\": false, \"name\": \"H+\", \"label_x\": 4050.0, \"node_type\": \"metabolite\", \"y\": 3558.0, \"x\": 4042.0, \"bigg_id\": \"h_c\", \"label_y\": 3530.0}, \"1576678\": {\"node_is_primary\": false, \"name\": \"Ammonium\", \"label_x\": 3856.820068359375, \"node_type\": \"metabolite\", \"y\": 3558.0, \"x\": 3942.0, \"bigg_id\": \"nh4_c\", \"label_y\": 3573.222900390625}, \"1576938\": {\"y\": 4158.0, \"x\": 4415.0, \"node_type\": \"multimarker\"}, \"1576939\": {\"y\": 4158.0, \"x\": 4435.0, \"node_type\": \"midmarker\"}, \"1576930\": {\"y\": 1900.0, \"x\": 4630.0, \"node_type\": \"multimarker\"}, \"1576931\": {\"y\": 1425.0, \"x\": 2305.0, \"node_type\": \"midmarker\"}, \"1576932\": {\"y\": 3341.0, \"x\": 2843.0, \"node_type\": \"multimarker\"}, \"1576933\": {\"y\": 3445.0, \"x\": 2994.0, \"node_type\": \"multimarker\"}, \"1576934\": {\"y\": 3388.0, \"x\": 2911.0, \"node_type\": \"midmarker\"}, \"1576935\": {\"y\": 4065.0, \"x\": 1715.0, \"node_type\": \"multimarker\"}, \"1576936\": {\"y\": 4105.0, \"x\": 1715.0, \"node_type\": \"multimarker\"}, \"1576937\": {\"y\": 4085.0, \"x\": 1715.0, \"node_type\": \"midmarker\"}, \"1577009\": {\"y\": 470.0, \"x\": 2840.0, \"node_type\": \"midmarker\"}, \"1577008\": {\"y\": 2395.0, \"x\": 1055.0, \"node_type\": \"midmarker\"}, \"1577007\": {\"y\": 2435.0, \"x\": 1055.0, \"node_type\": \"multimarker\"}, \"1577006\": {\"y\": 2345.0, \"x\": 1055.0, \"node_type\": \"multimarker\"}, \"1577005\": {\"y\": 1265.0, \"x\": 1617.0, \"node_type\": \"multimarker\"}, \"1577004\": {\"y\": 1265.0, \"x\": 1657.0, \"node_type\": \"multimarker\"}, \"1577003\": {\"y\": 1265.0, \"x\": 1637.0, \"node_type\": \"midmarker\"}, \"1577002\": {\"y\": 2846.0, \"x\": 4560.0, \"node_type\": \"multimarker\"}, \"1577001\": {\"y\": 2846.0, \"x\": 4770.0, \"node_type\": \"multimarker\"}, \"1577000\": {\"y\": 2846.0, \"x\": 4667.0, \"node_type\": \"midmarker\"}, \"1577094\": {\"node_is_primary\": false, \"name\": \"Phosphoenolpyruvate\", \"label_x\": 4379.6201171875, \"node_type\": \"metabolite\", \"y\": 4629.59423828125, \"x\": 4414.0517578125, \"bigg_id\": \"pep_c\", \"label_y\": 4607.90673828125}, \"1577095\": {\"node_is_primary\": false, \"name\": \"L-Glutamine\", \"label_x\": 4253.14453125, \"node_type\": \"metabolite\", \"y\": 4650.7197265625, \"x\": 4332.9951171875, \"bigg_id\": \"gln__L_c\", \"label_y\": 4627.97607421875}, \"1577096\": {\"node_is_primary\": false, \"name\": \"Nicotinamide adenine dinucleotide phosphate\", \"label_x\": 4968.08447265625, \"node_type\": \"metabolite\", \"y\": 4864.818359375, \"x\": 5028.71435546875, \"bigg_id\": \"nadp_c\", \"label_y\": 4902.36181640625}, \"1577097\": {\"node_is_primary\": false, \"name\": \"Nicotinamide adenine dinucleotide phosphate - reduced\", \"label_x\": 4203.775390625, \"node_type\": \"metabolite\", \"y\": 4682.4072265625, \"x\": 4267.78271484375, \"bigg_id\": \"nadph_c\", \"label_y\": 4664.94482421875}, \"1577090\": {\"node_is_primary\": false, \"name\": \"Nicotinamide adenine dinucleotide - reduced\", \"label_x\": 5078.88623046875, \"node_type\": \"metabolite\", \"y\": 4897.1259765625, \"x\": 5134.0517578125, \"bigg_id\": \"nadh_c\", \"label_y\": 4936.322265625}, \"1577091\": {\"node_is_primary\": false, \"name\": \"2-Oxoglutarate\", \"label_x\": 5497.31591796875, \"node_type\": \"metabolite\", \"y\": 4979.51025390625, \"x\": 5481.046875, \"bigg_id\": \"akg_c\", \"label_y\": 5004.2978515625}, \"1577092\": {\"node_is_primary\": false, \"name\": \"Acetyl-CoA\", \"label_x\": 4556.52001953125, \"node_type\": \"metabolite\", \"y\": 4576.78173828125, \"x\": 4601.51416015625, \"bigg_id\": \"accoa_c\", \"label_y\": 4549.81298828125}, \"1577093\": {\"node_is_primary\": false, \"name\": \"3-Phospho-D-glycerate\", \"label_x\": 4459.6201171875, \"node_type\": \"metabolite\", \"y\": 4602.1318359375, \"x\": 4508.83935546875, \"bigg_id\": \"3pg_c\", \"label_y\": 4576.21923828125}, \"1577098\": {\"node_is_primary\": false, \"name\": \"Phosphate\", \"label_x\": 4884.8583984375, \"node_type\": \"metabolite\", \"y\": 4831.37548828125, \"x\": 4933.43505859375, \"bigg_id\": \"pi_c\", \"label_y\": 4859.1142578125}, \"1577099\": {\"y\": 4023.6457547875243, \"x\": 3055.6239109998846, \"node_type\": \"multimarker\"}, \"1576529\": {\"node_is_primary\": true, \"name\": \"D-Fructose 1,6-bisphosphate\", \"label_x\": 1096.404296875, \"node_type\": \"metabolite\", \"y\": 1925.0, \"x\": 1055.0, \"bigg_id\": \"fdp_c\", \"label_y\": 1928.173583984375}, \"1576528\": {\"node_is_primary\": false, \"name\": \"H2O\", \"label_x\": 672.9427490234375, \"node_type\": \"metabolite\", \"y\": 1855.0, \"x\": 765.0, \"bigg_id\": \"h2o_c\", \"label_y\": 1861.3470458984375}, \"1576527\": {\"node_is_primary\": true, \"name\": \"Ammonium\", \"label_x\": 4019.0, \"node_type\": \"metabolite\", \"y\": 4441.0, \"x\": 3989.0, \"bigg_id\": \"nh4_c\", \"label_y\": 4441.0}, \"1576526\": {\"node_is_primary\": true, \"name\": \"Ammonium\", \"label_x\": 4019.0, \"node_type\": \"metabolite\", \"y\": 4757.0, \"x\": 3989.0, \"bigg_id\": \"nh4_e\", \"label_y\": 4757.0}, \"1576525\": {\"node_is_primary\": true, \"name\": \"D-Fructose 6-phosphate\", \"label_x\": 1075.0, \"node_type\": \"metabolite\", \"y\": 1545.0, \"x\": 1055.0, \"bigg_id\": \"f6p_c\", \"label_y\": 1525.0}, \"1576524\": {\"node_is_primary\": true, \"name\": \"D-Glucose 6-phosphate\", \"label_x\": 1075.0, \"node_type\": \"metabolite\", \"y\": 1265.0, \"x\": 1055.0, \"bigg_id\": \"g6p_c\", \"label_y\": 1245.0}, \"1576523\": {\"node_is_primary\": false, \"name\": \"H2O\", \"label_x\": 886.289794921875, \"node_type\": \"metabolite\", \"y\": 3325.0, \"x\": 965.0, \"bigg_id\": \"h2o_c\", \"label_y\": 3307.958740234375}, \"1576522\": {\"node_is_primary\": true, \"name\": \"D-Glycerate 2-phosphate\", \"label_x\": 1093.0, \"node_type\": \"metabolite\", \"y\": 3125.0, \"x\": 1055.0, \"bigg_id\": \"2pg_c\", \"label_y\": 3125.0}, \"1576521\": {\"node_is_primary\": true, \"name\": \"Oxaloacetate\", \"label_x\": 2692.0, \"node_type\": \"metabolite\", \"y\": 3724.0, \"x\": 2659.0, \"bigg_id\": \"oaa_c\", \"label_y\": 3724.0}, \"1576520\": {\"node_is_primary\": false, \"name\": \"Phosphate\", \"label_x\": 1685.0, \"node_type\": \"metabolite\", \"y\": 3515.0, \"x\": 1665.0, \"bigg_id\": \"pi_c\", \"label_y\": 3515.0}, \"1576488\": {\"node_is_primary\": false, \"name\": \"ADP\", \"label_x\": 1165.0, \"node_type\": \"metabolite\", \"y\": 2635.0, \"x\": 1145.0, \"bigg_id\": \"adp_c\", \"label_y\": 2635.0}, \"1576841\": {\"y\": 820.0, \"x\": 3510.0, \"node_type\": \"midmarker\"}, \"1576842\": {\"y\": 800.0, \"x\": 3510.0, \"node_type\": \"multimarker\"}, \"1576843\": {\"y\": 870.0, \"x\": 3510.0, \"node_type\": \"multimarker\"}, \"1576844\": {\"y\": 3022.0, \"x\": 2727.0, \"node_type\": \"multimarker\"}, \"1576845\": {\"y\": 3076.0, \"x\": 2684.0, \"node_type\": \"midmarker\"}, \"1576846\": {\"y\": 3846.0, \"x\": 3606.0, \"node_type\": \"midmarker\"}, \"1576847\": {\"y\": 3923.0, \"x\": 3512.0, \"node_type\": \"multimarker\"}, \"1576848\": {\"y\": 3781.0, \"x\": 3663.0, \"node_type\": \"multimarker\"}, \"1576849\": {\"y\": 3945.0, \"x\": 1430.0, \"node_type\": \"multimarker\"}, \"1576485\": {\"node_is_primary\": false, \"name\": \"ATP\", \"label_x\": 1165.0, \"node_type\": \"metabolite\", \"y\": 2805.0, \"x\": 1145.0, \"bigg_id\": \"atp_c\", \"label_y\": 2805.0}, \"1576486\": {\"node_is_primary\": true, \"name\": \"3-Phospho-D-glycerate\", \"label_x\": 1085.0, \"node_type\": \"metabolite\", \"y\": 2875.0, \"x\": 1055.0, \"bigg_id\": \"3pg_c\", \"label_y\": 2875.0}, \"1576487\": {\"node_is_primary\": true, \"name\": \"3-Phospho-D-glyceroyl phosphate\", \"label_x\": 1085.0, \"node_type\": \"metabolite\", \"y\": 2565.0, \"x\": 1055.0, \"bigg_id\": \"13dpg_c\", \"label_y\": 2565.0}, \"1576558\": {\"node_is_primary\": true, \"name\": \"D-Xylulose 5-phosphate\", \"label_x\": 1944.76025390625, \"node_type\": \"metabolite\", \"y\": 1555.0, \"x\": 1945.0, \"bigg_id\": \"xu5p__D_c\", \"label_y\": 1599.5205078125}, \"1576559\": {\"node_is_primary\": true, \"name\": \"H+\", \"label_x\": 4867.7265625, \"node_type\": \"metabolite\", \"y\": 2229.0, \"x\": 4850.0, \"bigg_id\": \"h_e\", \"label_y\": 2273.503662109375}, \"1576552\": {\"node_is_primary\": true, \"name\": \"L-Glutamate\", \"label_x\": 4883.0, \"node_type\": \"metabolite\", \"y\": 3634.0, \"x\": 4883.0, \"bigg_id\": \"glu__L_e\", \"label_y\": 3604.0}, \"1576553\": {\"node_is_primary\": false, \"name\": \"H+\", \"label_x\": 4857.23046875, \"node_type\": \"metabolite\", \"y\": 3703.0, \"x\": 4825.0, \"bigg_id\": \"h_e\", \"label_y\": 3723.0}, \"1576550\": {\"node_is_primary\": false, \"name\": \"ADP\", \"label_x\": 903.744140625, \"node_type\": \"metabolite\", \"y\": 3555.0, \"x\": 965.0, \"bigg_id\": \"adp_c\", \"label_y\": 3528.02490234375}, \"1576551\": {\"node_is_primary\": false, \"name\": \"ATP\", \"label_x\": 929.1323852539062, \"node_type\": \"metabolite\", \"y\": 3815.0, \"x\": 965.0, \"bigg_id\": \"atp_c\", \"label_y\": 3794.372314453125}, \"1576556\": {\"node_is_primary\": true, \"name\": \"D-Lactate\", \"label_x\": 1088.470458984375, \"node_type\": \"metabolite\", \"y\": 4835.0, \"x\": 1055.0, \"bigg_id\": \"lac__D_e\", \"label_y\": 4857.21484375}, \"1576557\": {\"node_is_primary\": true, \"name\": \"Pyruvate\", \"label_x\": 249.61181640625, \"node_type\": \"metabolite\", \"y\": 3945.0, \"x\": 275.0, \"bigg_id\": \"pyr_e\", \"label_y\": 3994.041015625}, \"1576554\": {\"node_is_primary\": true, \"name\": \"L-Glutamate\", \"label_x\": 4221.2158203125, \"node_type\": \"metabolite\", \"y\": 3632.0, \"x\": 4248.0, \"bigg_id\": \"glu__L_c\", \"label_y\": 3601.0}, \"1576555\": {\"node_is_primary\": false, \"name\": \"H+\", \"label_x\": 4503.1796875, \"node_type\": \"metabolite\", \"y\": 3688.0, \"x\": 4478.0, \"bigg_id\": \"h_c\", \"label_y\": 3696.834716796875}, \"1576639\": {\"node_is_primary\": true, \"name\": \"H2O\", \"label_x\": 3287.0, \"node_type\": \"metabolite\", \"y\": 4754.0, \"x\": 3257.0, \"bigg_id\": \"h2o_e\", \"label_y\": 4754.0}, \"1576638\": {\"node_is_primary\": false, \"name\": \"H+\", \"label_x\": 2692.0, \"node_type\": \"metabolite\", \"y\": 3510.0, \"x\": 2660.0, \"bigg_id\": \"h_c\", \"label_y\": 3510.0}, \"1576633\": {\"node_is_primary\": false, \"name\": \"Nicotinamide adenine dinucleotide\", \"label_x\": 935.0, \"node_type\": \"metabolite\", \"y\": 4255.0, \"x\": 955.0, \"bigg_id\": \"nad_c\", \"label_y\": 4255.0}, \"1576632\": {\"node_is_primary\": false, \"name\": \"H+\", \"label_x\": 4305.0, \"node_type\": \"metabolite\", \"y\": 1380.0, \"x\": 4285.0, \"bigg_id\": \"h_c\", \"label_y\": 1380.0}, \"1576631\": {\"node_is_primary\": false, \"name\": \"Phosphate\", \"label_x\": 4305.0, \"node_type\": \"metabolite\", \"y\": 1450.0, \"x\": 4285.0, \"bigg_id\": \"pi_c\", \"label_y\": 1450.0}, \"1576630\": {\"node_is_primary\": false, \"name\": \"H2O\", \"label_x\": 4295.0, \"node_type\": \"metabolite\", \"y\": 1140.0, \"x\": 4275.0, \"bigg_id\": \"h2o_c\", \"label_y\": 1140.0}, \"1576637\": {\"node_is_primary\": false, \"name\": \"Nicotinamide adenine dinucleotide - reduced\", \"label_x\": 2710.0, \"node_type\": \"metabolite\", \"y\": 3585.0, \"x\": 2680.0, \"bigg_id\": \"nadh_c\", \"label_y\": 3590.0}, \"1576636\": {\"node_is_primary\": false, \"name\": \"Nicotinamide adenine dinucleotide\", \"label_x\": 2690.0, \"node_type\": \"metabolite\", \"y\": 3310.0, \"x\": 2670.0, \"bigg_id\": \"nad_c\", \"label_y\": 3320.0}, \"1576635\": {\"node_is_primary\": false, \"name\": \"H+\", \"label_x\": 935.0, \"node_type\": \"metabolite\", \"y\": 4095.0, \"x\": 955.0, \"bigg_id\": \"h_c\", \"label_y\": 4095.0}, \"1576634\": {\"node_is_primary\": false, \"name\": \"Nicotinamide adenine dinucleotide - reduced\", \"label_x\": 935.0, \"node_type\": \"metabolite\", \"y\": 4045.0, \"x\": 955.0, \"bigg_id\": \"nadh_c\", \"label_y\": 4045.0}, \"1577043\": {\"y\": 4071.0, \"x\": 2342.0, \"node_type\": \"multimarker\"}, \"1577042\": {\"y\": 4086.0, \"x\": 2356.0, \"node_type\": \"midmarker\"}, \"1577041\": {\"y\": 4100.0, \"x\": 2371.0, \"node_type\": \"multimarker\"}, \"1577047\": {\"y\": 4432.0, \"x\": 1460.0, \"node_type\": \"midmarker\"}, \"1577046\": {\"y\": 4470.0, \"x\": 1360.0, \"node_type\": \"multimarker\"}, \"1577045\": {\"y\": 4600.0, \"x\": 1360.0, \"node_type\": \"midmarker\"}, \"1577044\": {\"y\": 4730.0, \"x\": 1360.0, \"node_type\": \"multimarker\"}, \"1577049\": {\"y\": 2600.0, \"x\": 3110.0, \"node_type\": \"midmarker\"}, \"1577048\": {\"y\": 2600.0, \"x\": 3080.0, \"node_type\": \"multimarker\"}, \"1576941\": {\"y\": 3330.0, \"x\": 2310.0, \"node_type\": \"multimarker\"}, \"1576940\": {\"y\": 4158.0, \"x\": 4455.0, \"node_type\": \"multimarker\"}, \"1576943\": {\"y\": 3390.0, \"x\": 2190.0, \"node_type\": \"multimarker\"}, \"1576942\": {\"y\": 3360.0, \"x\": 2250.0, \"node_type\": \"midmarker\"}, \"1576945\": {\"y\": 1265.0, \"x\": 1307.0, \"node_type\": \"midmarker\"}, \"1576944\": {\"y\": 1265.0, \"x\": 1327.0, \"node_type\": \"multimarker\"}, \"1576947\": {\"y\": 4935.0, \"x\": 1715.0, \"node_type\": \"midmarker\"}, \"1576946\": {\"y\": 1265.0, \"x\": 1287.0, \"node_type\": \"multimarker\"}, \"1576949\": {\"y\": 3815.0, \"x\": 4247.0, \"node_type\": \"multimarker\"}, \"1576628\": {\"node_is_primary\": false, \"name\": \"H2O\", \"label_x\": 4175.82763671875, \"node_type\": \"metabolite\", \"y\": 3940.0, \"x\": 4201.0, \"bigg_id\": \"h2o_c\", \"label_y\": 3972.89208984375}, \"1576629\": {\"node_is_primary\": false, \"name\": \"Ammonium\", \"label_x\": 4160.99267578125, \"node_type\": \"metabolite\", \"y\": 3762.0, \"x\": 4193.0, \"bigg_id\": \"nh4_c\", \"label_y\": 3793.22314453125}, \"1576888\": {\"y\": 3020.0, \"x\": 3631.0, \"node_type\": \"midmarker\"}, \"1576889\": {\"y\": 2976.0, \"x\": 3588.0, \"node_type\": \"multimarker\"}, \"1576983\": {\"y\": 4255.0, \"x\": 1715.0, \"node_type\": \"multimarker\"}, \"1576620\": {\"node_is_primary\": false, \"name\": \"Nicotinamide adenine dinucleotide\", \"label_x\": 2380.0, \"node_type\": \"metabolite\", \"y\": 3220.0, \"x\": 2360.0, \"bigg_id\": \"nad_c\", \"label_y\": 3220.0}, \"1576621\": {\"node_is_primary\": false, \"name\": \"CO2\", \"label_x\": 1979.703125, \"node_type\": \"metabolite\", \"y\": 3420.0, \"x\": 2060.0, \"bigg_id\": \"co2_c\", \"label_y\": 3415.23974609375}, \"1576839\": {\"y\": 1265.0, \"x\": 1977.0, \"node_type\": \"multimarker\"}, \"1576838\": {\"y\": 1265.0, \"x\": 1937.0, \"node_type\": \"multimarker\"}, \"1576831\": {\"node_is_primary\": false, \"name\": \"H+\", \"label_x\": 2460.1826171875, \"node_type\": \"metabolite\", \"y\": 700.0, \"x\": 2510.0, \"bigg_id\": \"h_e\", \"label_y\": 722.5455932617188}, \"1576830\": {\"node_is_primary\": false, \"name\": \"Ubiquinol-8\", \"label_x\": 3041.5869140625, \"node_type\": \"metabolite\", \"y\": 2740.0, \"x\": 3020.0, \"bigg_id\": \"q8h2_c\", \"label_y\": 2740.0}, \"1576833\": {\"node_is_primary\": false, \"name\": \"H+\", \"label_x\": 1228.8927001953125, \"node_type\": \"metabolite\", \"y\": 4770.0, \"x\": 1270.0, \"bigg_id\": \"h_e\", \"label_y\": 4750.95849609375}, \"1576832\": {\"node_is_primary\": false, \"name\": \"H+\", \"label_x\": 1950.0, \"node_type\": \"metabolite\", \"y\": 3860.0, \"x\": 1950.0, \"bigg_id\": \"h_c\", \"label_y\": 3840.0}, \"1576835\": {\"y\": 2775.0, \"x\": 1055.0, \"node_type\": \"multimarker\"}, \"1576834\": {\"y\": 2665.0, \"x\": 1055.0, \"node_type\": \"multimarker\"}, \"1576837\": {\"y\": 1265.0, \"x\": 1957.0, \"node_type\": \"midmarker\"}, \"1576836\": {\"y\": 2725.0, \"x\": 1055.0, \"node_type\": \"midmarker\"}, \"1576688\": {\"node_is_primary\": false, \"name\": \"H+\", \"label_x\": 351.3470764160156, \"node_type\": \"metabolite\", \"y\": 4045.0, \"x\": 345.0, \"bigg_id\": \"h_e\", \"label_y\": 4072.933837890625}, \"1576689\": {\"node_is_primary\": false, \"name\": \"H+\", \"label_x\": 675.0, \"node_type\": \"metabolite\", \"y\": 4045.0, \"x\": 675.0, \"bigg_id\": \"h_c\", \"label_y\": 4077.694091796875}, \"1576567\": {\"node_is_primary\": false, \"name\": \"Coenzyme A\", \"label_x\": 3448.892578125, \"node_type\": \"metabolite\", \"y\": 2960.0, \"x\": 3460.0, \"bigg_id\": \"coa_c\", \"label_y\": 2991.107421875}, \"1576682\": {\"node_is_primary\": false, \"name\": \"H+\", \"label_x\": 4398.884765625, \"node_type\": \"metabolite\", \"y\": 1150.0, \"x\": 4415.0, \"bigg_id\": \"h_c\", \"label_y\": 1187.7266845703125}, \"1576683\": {\"node_is_primary\": false, \"name\": \"H2O\", \"label_x\": 4482.7265625, \"node_type\": \"metabolite\", \"y\": 1030.0, \"x\": 4482.7265625, \"bigg_id\": \"h2o_c\", \"label_y\": 1010.0}, \"1576680\": {\"node_is_primary\": false, \"name\": \"H+\", \"label_x\": 4865.0, \"node_type\": \"metabolite\", \"y\": 1150.0, \"x\": 4865.0, \"bigg_id\": \"h_e\", \"label_y\": 1180.0}, \"1576568\": {\"node_is_primary\": false, \"name\": \"ATP\", \"label_x\": 3496.826416015625, \"node_type\": \"metabolite\", \"y\": 3030.0, \"x\": 3500.0, \"bigg_id\": \"atp_c\", \"label_y\": 3062.694091796875}, \"1576686\": {\"node_is_primary\": false, \"name\": \"Coenzyme A\", \"label_x\": 2786.826416015625, \"node_type\": \"metabolite\", \"y\": 4091.0, \"x\": 2806.0, \"bigg_id\": \"coa_c\", \"label_y\": 4132.21484375}, \"1576687\": {\"node_is_primary\": false, \"name\": \"H+\", \"label_x\": 2899.041015625, \"node_type\": \"metabolite\", \"y\": 4117.0, \"x\": 2897.0, \"bigg_id\": \"h_c\", \"label_y\": 4155.8671875}, \"1576684\": {\"node_is_primary\": false, \"name\": \"H2O\", \"label_x\": 2599.520751953125, \"node_type\": \"metabolite\", \"y\": 3860.0, \"x\": 2610.0, \"bigg_id\": \"h2o_c\", \"label_y\": 3890.1484375}, \"1576685\": {\"node_is_primary\": true, \"name\": \"Citrate\", \"label_x\": 2972.653076171875, \"node_type\": \"metabolite\", \"y\": 3986.0, \"x\": 2971.0, \"bigg_id\": \"cit_c\", \"label_y\": 3943.1826171875}, \"1576664\": {\"node_is_primary\": false, \"name\": \"H+\", \"label_x\": 4818.7197265625, \"node_type\": \"metabolite\", \"y\": 2921.942138671875, \"x\": 4791.7197265625, \"bigg_id\": \"h_e\", \"label_y\": 2921.942138671875}, \"1576665\": {\"node_is_primary\": false, \"name\": \"H+\", \"label_x\": 4389.423828125, \"node_type\": \"metabolite\", \"y\": 2763.553955078125, \"x\": 4461.380859375, \"bigg_id\": \"h_c\", \"label_y\": 2763.9423828125}, \"1576666\": {\"node_is_primary\": true, \"name\": \"Formate\", \"label_x\": 1500.0, \"node_type\": \"metabolite\", \"y\": 4843.322265625, \"x\": 1460.0, \"bigg_id\": \"for_e\", \"label_y\": 4843.322265625}, \"1576667\": {\"node_is_primary\": false, \"name\": \"H2O\", \"label_x\": 1587.0, \"node_type\": \"metabolite\", \"y\": 1160.0, \"x\": 1587.0, \"bigg_id\": \"h2o_c\", \"label_y\": 1140.0}, \"1576660\": {\"node_is_primary\": false, \"name\": \"H+\", \"label_x\": 1835.0, \"node_type\": \"metabolite\", \"y\": 4775.0, \"x\": 1815.0, \"bigg_id\": \"h_e\", \"label_y\": 4775.0}, \"1576661\": {\"node_is_primary\": false, \"name\": \"H+\", \"label_x\": 1839.76025390625, \"node_type\": \"metabolite\", \"y\": 4452.45458984375, \"x\": 1819.76025390625, \"bigg_id\": \"h_c\", \"label_y\": 4452.45458984375}, \"1576662\": {\"node_is_primary\": false, \"name\": \"Phosphoenolpyruvate\", \"label_x\": 877.8765258789062, \"node_type\": \"metabolite\", \"y\": 974.4060668945312, \"x\": 957.694091796875, \"bigg_id\": \"pep_c\", \"label_y\": 976.9517211914062}, \"1576663\": {\"node_is_primary\": false, \"name\": \"Pyruvate\", \"label_x\": 1193.082275390625, \"node_type\": \"metabolite\", \"y\": 972.8192138671875, \"x\": 1161.3470458984375, \"bigg_id\": \"pyr_c\", \"label_y\": 986.47216796875}, \"1576668\": {\"node_is_primary\": false, \"name\": \"H+\", \"label_x\": 1687.0, \"node_type\": \"metabolite\", \"y\": 1160.0, \"x\": 1687.0, \"bigg_id\": \"h_c\", \"label_y\": 1140.0}, \"1576669\": {\"node_is_primary\": false, \"name\": \"Nicotinamide adenine dinucleotide\", \"label_x\": 1165.0, \"node_type\": \"metabolite\", \"y\": 2265.0, \"x\": 1145.0, \"bigg_id\": \"nad_c\", \"label_y\": 2265.0}, \"1576905\": {\"y\": 1270.0, \"x\": 3470.0, \"node_type\": \"multimarker\"}, \"1576907\": {\"y\": 1270.0, \"x\": 3520.0, \"node_type\": \"midmarker\"}, \"1576906\": {\"y\": 1270.0, \"x\": 3570.0, \"node_type\": \"multimarker\"}, \"1576901\": {\"y\": 3849.0, \"x\": 4364.0, \"node_type\": \"multimarker\"}, \"1576900\": {\"y\": 3869.0, \"x\": 4364.0, \"node_type\": \"midmarker\"}, \"1576909\": {\"y\": 3402.0, \"x\": 3783.0, \"node_type\": \"midmarker\"}, \"1576908\": {\"y\": 3480.0, \"x\": 3780.0, \"node_type\": \"multimarker\"}, \"1577018\": {\"y\": 1150.0, \"x\": 4625.0, \"node_type\": \"multimarker\"}, \"1577019\": {\"y\": 1150.0, \"x\": 4665.0, \"node_type\": \"midmarker\"}, \"1577014\": {\"y\": 3632.0, \"x\": 4078.0, \"node_type\": \"multimarker\"}, \"1577015\": {\"y\": 3632.0, \"x\": 4098.0, \"node_type\": \"midmarker\"}, \"1577016\": {\"y\": 3632.0, \"x\": 4118.0, \"node_type\": \"multimarker\"}, \"1577017\": {\"y\": 1150.0, \"x\": 4705.0, \"node_type\": \"multimarker\"}, \"1577011\": {\"y\": 3027.0, \"x\": 4666.0, \"node_type\": \"midmarker\"}, \"1577012\": {\"y\": 3027.0, \"x\": 4536.0, \"node_type\": \"multimarker\"}, \"1577013\": {\"y\": 3027.0, \"x\": 4796.0, \"node_type\": \"multimarker\"}, \"1576840\": {\"y\": 1660.0, \"x\": 4660.0, \"node_type\": \"midmarker\"}, \"1576489\": {\"node_is_primary\": false, \"name\": \"Nicotinamide adenine dinucleotide phosphate\", \"label_x\": 1907.0, \"node_type\": \"metabolite\", \"y\": 1165.0, \"x\": 1907.0, \"bigg_id\": \"nadp_c\", \"label_y\": 1145.0}, \"1576539\": {\"node_is_primary\": true, \"name\": \"Ubiquinone-8\", \"label_x\": 4686.61181640625, \"node_type\": \"metabolite\", \"y\": 2215.0361328125, \"x\": 4758.67626953125, \"bigg_id\": \"q8_c\", \"label_y\": 2192.47509765625}, \"1576534\": {\"node_is_primary\": true, \"name\": \"ATP\", \"label_x\": 4215.0, \"node_type\": \"metabolite\", \"y\": 1040.0, \"x\": 4215.0, \"bigg_id\": \"atp_c\", \"label_y\": 1010.0}, \"1576535\": {\"node_is_primary\": true, \"name\": \"AMP\", \"label_x\": 4033.388427734375, \"node_type\": \"metabolite\", \"y\": 1070.0, \"x\": 4065.0, \"bigg_id\": \"amp_c\", \"label_y\": 1030.661865234375}, \"1576536\": {\"node_is_primary\": true, \"name\": \"ADP\", \"label_x\": 4196.611328125, \"node_type\": \"metabolite\", \"y\": 1510.0, \"x\": 4215.0, \"bigg_id\": \"adp_c\", \"label_y\": 1556.1151123046875}, \"1576537\": {\"node_is_primary\": true, \"name\": \"L-Glutamine\", \"label_x\": 4851.38134765625, \"node_type\": \"metabolite\", \"y\": 4158.0, \"x\": 4882.0, \"bigg_id\": \"gln__L_e\", \"label_y\": 4199.2802734375}, \"1576530\": {\"node_is_primary\": false, \"name\": \"Phosphate\", \"label_x\": 686.744140625, \"node_type\": \"metabolite\", \"y\": 1565.0, \"x\": 755.0, \"bigg_id\": \"pi_c\", \"label_y\": 1563.4132080078125}, \"1576531\": {\"node_is_primary\": true, \"name\": \"Succinate\", \"label_x\": 4950.4462890625, \"node_type\": \"metabolite\", \"y\": 2880.0, \"x\": 4932.0, \"bigg_id\": \"succ_e\", \"label_y\": 2915.280517578125}, \"1576532\": {\"node_is_primary\": true, \"name\": \"Glyoxylate\", \"label_x\": 3211.3271484375, \"node_type\": \"metabolite\", \"y\": 3570.0, \"x\": 3180.0, \"bigg_id\": \"glx_c\", \"label_y\": 3543.267578125}, \"1576533\": {\"node_is_primary\": true, \"name\": \"Succinate\", \"label_x\": 3439.01611328125, \"node_type\": \"metabolite\", \"y\": 2867.0, \"x\": 3420.0, \"bigg_id\": \"succ_c\", \"label_y\": 2838.810302734375}, \"1576879\": {\"y\": 3635.0, \"x\": 4541.0, \"node_type\": \"multimarker\"}, \"1576878\": {\"y\": 3635.0, \"x\": 4645.0, \"node_type\": \"midmarker\"}, \"1576875\": {\"y\": 3655.0, \"x\": 1055.0, \"node_type\": \"multimarker\"}, \"1576874\": {\"y\": 2035.0, \"x\": 2178.0, \"node_type\": \"multimarker\"}, \"1576877\": {\"y\": 3745.0, \"x\": 1055.0, \"node_type\": \"multimarker\"}, \"1576876\": {\"y\": 3705.0, \"x\": 1055.0, \"node_type\": \"midmarker\"}, \"1576871\": {\"y\": 4914.0, \"x\": 3621.0, \"node_type\": \"midmarker\"}, \"1576569\": {\"node_is_primary\": false, \"name\": \"Phosphate\", \"label_x\": 3814.0, \"node_type\": \"metabolite\", \"y\": 3051.0, \"x\": 3794.0, \"bigg_id\": \"pi_c\", \"label_y\": 3051.0}, \"1576873\": {\"y\": 1955.0, \"x\": 2175.0, \"node_type\": \"multimarker\"}, \"1576872\": {\"y\": 1995.0, \"x\": 2178.0, \"node_type\": \"midmarker\"}, \"1576681\": {\"node_is_primary\": false, \"name\": \"Phosphate\", \"label_x\": 4459.546875, \"node_type\": \"metabolite\", \"y\": 1330.0, \"x\": 4495.0, \"bigg_id\": \"pi_c\", \"label_y\": 1293.5970458984375}, \"1576581\": {\"node_is_primary\": false, \"name\": \"Phosphate\", \"label_x\": 4454.0, \"node_type\": \"metabolite\", \"y\": 4054.0, \"x\": 4434.0, \"bigg_id\": \"pi_c\", \"label_y\": 4054.0}, \"1576580\": {\"node_is_primary\": false, \"name\": \"H+\", \"label_x\": 4454.0, \"node_type\": \"metabolite\", \"y\": 4004.0, \"x\": 4434.0, \"bigg_id\": \"h_c\", \"label_y\": 4004.0}, \"1576585\": {\"node_is_primary\": false, \"name\": \"Coenzyme A\", \"label_x\": 3628.99267578125, \"node_type\": \"metabolite\", \"y\": 3506.0, \"x\": 3684.0, \"bigg_id\": \"coa_c\", \"label_y\": 3483.05029296875}, \"1576584\": {\"node_is_primary\": true, \"name\": \"D-Lactate\", \"label_x\": 1089.0, \"node_type\": \"metabolite\", \"y\": 4345.0, \"x\": 1055.0, \"bigg_id\": \"lac__D_c\", \"label_y\": 4349.0}, \"1576587\": {\"node_is_primary\": false, \"name\": \"CO2\", \"label_x\": 3898.0, \"node_type\": \"metabolite\", \"y\": 3285.0, \"x\": 3872.0, \"bigg_id\": \"co2_c\", \"label_y\": 3285.0}, \"1576586\": {\"node_is_primary\": false, \"name\": \"Nicotinamide adenine dinucleotide\", \"label_x\": 3606.208740234375, \"node_type\": \"metabolite\", \"y\": 3558.0, \"x\": 3684.0, \"bigg_id\": \"nad_c\", \"label_y\": 3539.885009765625}, \"1576589\": {\"node_is_primary\": false, \"name\": \"Coenzyme A\", \"label_x\": 1165.0, \"node_type\": \"metabolite\", \"y\": 4045.0, \"x\": 1165.0, \"bigg_id\": \"coa_c\", \"label_y\": 4065.0}, \"1576588\": {\"node_is_primary\": false, \"name\": \"Nicotinamide adenine dinucleotide - reduced\", \"label_x\": 3846.0, \"node_type\": \"metabolite\", \"y\": 3233.0, \"x\": 3820.0, \"bigg_id\": \"nadh_c\", \"label_y\": 3233.0}, \"1576622\": {\"node_is_primary\": false, \"name\": \"Nicotinamide adenine dinucleotide - reduced\", \"label_x\": 1994.9427490234375, \"node_type\": \"metabolite\", \"y\": 3370.0, \"x\": 2080.0, \"bigg_id\": \"nadh_c\", \"label_y\": 3350.958740234375}, \"1576623\": {\"node_is_primary\": false, \"name\": \"Nicotinamide adenine dinucleotide phosphate\", \"label_x\": 1257.0, \"node_type\": \"metabolite\", \"y\": 1160.0, \"x\": 1257.0, \"bigg_id\": \"nadp_c\", \"label_y\": 1140.0}, \"1576624\": {\"node_is_primary\": false, \"name\": \"Nicotinamide adenine dinucleotide phosphate - reduced\", \"label_x\": 1430.0, \"node_type\": \"metabolite\", \"y\": 1160.0, \"x\": 1407.0, \"bigg_id\": \"nadph_c\", \"label_y\": 1140.0}, \"1576625\": {\"node_is_primary\": false, \"name\": \"H+\", \"label_x\": 1357.0, \"node_type\": \"metabolite\", \"y\": 1160.0, \"x\": 1357.0, \"bigg_id\": \"h_c\", \"label_y\": 1140.0}, \"1576626\": {\"node_is_primary\": true, \"name\": \"6-phospho-D-glucono-1,5-lactone\", \"label_x\": 1507.0, \"node_type\": \"metabolite\", \"y\": 1265.0, \"x\": 1507.0, \"bigg_id\": \"6pgl_c\", \"label_y\": 1235.0}, \"1576627\": {\"node_is_primary\": true, \"name\": \"Acetate\", \"label_x\": 1759.0985107421875, \"node_type\": \"metabolite\", \"y\": 4845.0, \"x\": 1715.0, \"bigg_id\": \"ac_e\", \"label_y\": 4848.173828125}, \"1577050\": {\"y\": 2600.0, \"x\": 3140.0, \"node_type\": \"multimarker\"}, \"1577051\": {\"y\": 1361.5867919921875, \"x\": 576.050048828125, \"node_type\": \"multimarker\"}, \"1577052\": {\"y\": 1361.586669921875, \"x\": 640.0, \"node_type\": \"midmarker\"}, \"1577053\": {\"y\": 1361.586669921875, \"x\": 704.5778198242188, \"node_type\": \"multimarker\"}, \"1577054\": {\"y\": 1360.0, \"x\": 182.0, \"node_type\": \"midmarker\"}, \"1577056\": {\"y\": 736.0, \"x\": 2610.0, \"node_type\": \"multimarker\"}, \"1577057\": {\"y\": 756.0, \"x\": 2610.0, \"node_type\": \"midmarker\"}, \"1577058\": {\"y\": 980.0, \"x\": 2610.0, \"node_type\": \"multimarker\"}, \"1577059\": {\"y\": 470.0, \"x\": 2610.0, \"node_type\": \"midmarker\"}, \"1576897\": {\"y\": 1735.0, \"x\": 1695.0, \"node_type\": \"multimarker\"}, \"1576896\": {\"y\": 1735.0, \"x\": 1525.0, \"node_type\": \"midmarker\"}, \"1576895\": {\"y\": 3636.0, \"x\": 5015.0, \"node_type\": \"midmarker\"}, \"1576893\": {\"y\": 1690.0, \"x\": 1055.0, \"node_type\": \"multimarker\"}, \"1576892\": {\"y\": 1775.0, \"x\": 1055.0, \"node_type\": \"multimarker\"}, \"1576891\": {\"y\": 1735.0, \"x\": 1055.0, \"node_type\": \"midmarker\"}, \"1576890\": {\"y\": 3063.0, \"x\": 3666.0, \"node_type\": \"multimarker\"}, \"1576956\": {\"y\": 4225.0, \"x\": 1055.0, \"node_type\": \"multimarker\"}, \"1576957\": {\"y\": 4175.0, \"x\": 1055.0, \"node_type\": \"midmarker\"}, \"1576954\": {\"y\": 1350.0, \"x\": 4215.0, \"node_type\": \"multimarker\"}, \"1576955\": {\"y\": 4125.0, \"x\": 1055.0, \"node_type\": \"multimarker\"}, \"1576952\": {\"y\": 1200.0, \"x\": 4215.0, \"node_type\": \"multimarker\"}, \"1576953\": {\"y\": 1260.0, \"x\": 4215.0, \"node_type\": \"midmarker\"}, \"1576899\": {\"y\": 3889.0, \"x\": 4364.0, \"node_type\": \"multimarker\"}, \"1576898\": {\"y\": 1735.0, \"x\": 1405.0, \"node_type\": \"multimarker\"}, \"1576958\": {\"y\": 3456.0, \"x\": 2578.0, \"node_type\": \"multimarker\"}, \"1576959\": {\"y\": 3404.0, \"x\": 2577.0, \"node_type\": \"midmarker\"}, \"1576950\": {\"y\": 3877.0, \"x\": 4247.0, \"node_type\": \"multimarker\"}, \"1576951\": {\"y\": 3857.0, \"x\": 4247.0, \"node_type\": \"midmarker\"}, \"1576826\": {\"node_is_primary\": true, \"name\": \"D-Fructose\", \"label_x\": 284.1323547363281, \"node_type\": \"metabolite\", \"y\": 1360.0, \"x\": 300.0, \"bigg_id\": \"fru_e\", \"label_y\": 1405.8675537109375}, \"1576827\": {\"node_is_primary\": true, \"name\": \"Nicotinamide adenine dinucleotide - reduced\", \"label_x\": 4322.0859375, \"node_type\": \"metabolite\", \"y\": 2478.91357421875, \"x\": 4417.8271484375, \"bigg_id\": \"nadh_c\", \"label_y\": 2462.79833984375}, \"1576824\": {\"node_is_primary\": false, \"name\": \"Nicotinamide adenine dinucleotide - reduced\", \"label_x\": 2347.0, \"node_type\": \"metabolite\", \"y\": 3935.0, \"x\": 2333.0, \"bigg_id\": \"nadh_c\", \"label_y\": 3921.0}, \"1576825\": {\"node_is_primary\": false, \"name\": \"Coenzyme A\", \"label_x\": 2140.0, \"node_type\": \"metabolite\", \"y\": 3860.0, \"x\": 2130.0, \"bigg_id\": \"coa_c\", \"label_y\": 3840.0}, \"1576822\": {\"node_is_primary\": false, \"name\": \"Nicotinamide adenine dinucleotide\", \"label_x\": 2496.0, \"node_type\": \"metabolite\", \"y\": 4065.0, \"x\": 2482.0, \"bigg_id\": \"nad_c\", \"label_y\": 4051.0}, \"1576988\": {\"y\": 3868.0, \"x\": 4116.0, \"node_type\": \"midmarker\"}, \"1576820\": {\"node_is_primary\": false, \"name\": \"H+\", \"label_x\": 4273.546875, \"node_type\": \"metabolite\", \"y\": 2570.0, \"x\": 4310.0, \"bigg_id\": \"h_c\", \"label_y\": 2604.6689453125}, \"1576821\": {\"node_is_primary\": false, \"name\": \"Pyruvate\", \"label_x\": 692.5455932617188, \"node_type\": \"metabolite\", \"y\": 1237.785400390625, \"x\": 714.76025390625, \"bigg_id\": \"pyr_c\", \"label_y\": 1207.785400390625}, \"1576985\": {\"y\": 4918.0, \"x\": 3991.0, \"node_type\": \"midmarker\"}, \"1576987\": {\"y\": 3848.0, \"x\": 4116.0, \"node_type\": \"multimarker\"}, \"1576986\": {\"y\": 3888.0, \"x\": 4116.0, \"node_type\": \"multimarker\"}, \"1576981\": {\"y\": 4305.0, \"x\": 1715.0, \"node_type\": \"multimarker\"}, \"1576980\": {\"y\": 4937.93359375, \"x\": 2500.0, \"node_type\": \"midmarker\"}, \"1576828\": {\"node_is_primary\": false, \"name\": \"Nicotinamide adenine dinucleotide\", \"label_x\": 2070.0, \"node_type\": \"metabolite\", \"y\": 3860.0, \"x\": 2070.0, \"bigg_id\": \"nad_c\", \"label_y\": 3840.0}, \"1576829\": {\"node_is_primary\": true, \"name\": \"Ethanol\", \"label_x\": 2522.0, \"node_type\": \"metabolite\", \"y\": 4228.0, \"x\": 2501.0, \"bigg_id\": \"etoh_c\", \"label_y\": 4206.0}, \"1576570\": {\"node_is_primary\": true, \"name\": \"Succinyl-CoA\", \"label_x\": 3772.230712890625, \"node_type\": \"metabolite\", \"y\": 3193.0, \"x\": 3739.0, \"bigg_id\": \"succoa_c\", \"label_y\": 3193.479248046875}, \"1576571\": {\"node_is_primary\": false, \"name\": \"ADP\", \"label_x\": 3788.0, \"node_type\": \"metabolite\", \"y\": 3116.0, \"x\": 3768.0, \"bigg_id\": \"adp_c\", \"label_y\": 3126.0}, \"1576572\": {\"node_is_primary\": false, \"name\": \"ATP\", \"label_x\": 1165.0, \"node_type\": \"metabolite\", \"y\": 1645.0, \"x\": 1145.0, \"bigg_id\": \"atp_c\", \"label_y\": 1645.0}, \"1576573\": {\"node_is_primary\": false, \"name\": \"ADP\", \"label_x\": 1165.0, \"node_type\": \"metabolite\", \"y\": 1805.0, \"x\": 1145.0, \"bigg_id\": \"adp_c\", \"label_y\": 1805.0}, \"1576574\": {\"node_is_primary\": false, \"name\": \"H+\", \"label_x\": 1165.0, \"node_type\": \"metabolite\", \"y\": 1855.0, \"x\": 1145.0, \"bigg_id\": \"h_c\", \"label_y\": 1855.0}, \"1576575\": {\"node_is_primary\": true, \"name\": \"Glyceraldehyde 3-phosphate\", \"label_x\": 1085.0, \"node_type\": \"metabolite\", \"y\": 2195.0, \"x\": 1055.0, \"bigg_id\": \"g3p_c\", \"label_y\": 2195.0}, \"1576576\": {\"node_is_primary\": false, \"name\": \"ATP\", \"label_x\": 4474.0, \"node_type\": \"metabolite\", \"y\": 3755.0, \"x\": 4440.0, \"bigg_id\": \"atp_c\", \"label_y\": 3753.0}, \"1576577\": {\"node_is_primary\": false, \"name\": \"Ammonium\", \"label_x\": 4477.0, \"node_type\": \"metabolite\", \"y\": 3805.0, \"x\": 4440.0, \"bigg_id\": \"nh4_c\", \"label_y\": 3811.0}, \"1576578\": {\"node_is_primary\": true, \"name\": \"L-Glutamine\", \"label_x\": 4245.0, \"node_type\": \"metabolite\", \"y\": 4094.0, \"x\": 4246.0, \"bigg_id\": \"gln__L_c\", \"label_y\": 4130.0}, \"1576579\": {\"node_is_primary\": false, \"name\": \"ADP\", \"label_x\": 4454.0, \"node_type\": \"metabolite\", \"y\": 3954.0, \"x\": 4434.0, \"bigg_id\": \"adp_c\", \"label_y\": 3954.0}, \"1576928\": {\"y\": 1900.0, \"x\": 4660.0, \"node_type\": \"midmarker\"}, \"1576651\": {\"node_is_primary\": false, \"name\": \"ATP\", \"label_x\": 1835.0, \"node_type\": \"metabolite\", \"y\": 4335.0, \"x\": 1815.0, \"bigg_id\": \"atp_c\", \"label_y\": 4335.0}, \"1576650\": {\"node_is_primary\": false, \"name\": \"H+\", \"label_x\": 2620.0, \"node_type\": \"metabolite\", \"y\": 4400.0, \"x\": 2600.0, \"bigg_id\": \"h_c\", \"label_y\": 4400.0}, \"1576653\": {\"node_is_primary\": false, \"name\": \"ADP\", \"label_x\": 1835.0, \"node_type\": \"metabolite\", \"y\": 4225.0, \"x\": 1815.0, \"bigg_id\": \"adp_c\", \"label_y\": 4225.0}, \"1576652\": {\"node_is_primary\": true, \"name\": \"Acetate\", \"label_x\": 1745.0, \"node_type\": \"metabolite\", \"y\": 4385.0, \"x\": 1715.0, \"bigg_id\": \"ac_c\", \"label_y\": 4385.0}, \"1576655\": {\"node_is_primary\": false, \"name\": \"H+\", \"label_x\": 4002.0, \"node_type\": \"metabolite\", \"y\": 3982.0, \"x\": 4029.0, \"bigg_id\": \"h_c\", \"label_y\": 3986.0}, \"1576654\": {\"node_is_primary\": false, \"name\": \"Nicotinamide adenine dinucleotide phosphate - reduced\", \"label_x\": 3993.9423828125, \"node_type\": \"metabolite\", \"y\": 3932.0, \"x\": 4029.0, \"bigg_id\": \"nadph_c\", \"label_y\": 3909.05029296875}, \"1576657\": {\"node_is_primary\": true, \"name\": \"Fumarate\", \"label_x\": 2879.817626953125, \"node_type\": \"metabolite\", \"y\": 650.0, \"x\": 2840.0, \"bigg_id\": \"fum_e\", \"label_y\": 635.0911865234375}, \"1576656\": {\"node_is_primary\": false, \"name\": \"Nicotinamide adenine dinucleotide phosphate\", \"label_x\": 3957.985595703125, \"node_type\": \"metabolite\", \"y\": 3759.0, \"x\": 4043.0, \"bigg_id\": \"nadp_c\", \"label_y\": 3736.215576171875}, \"1576659\": {\"node_is_primary\": false, \"name\": \"H+\", \"label_x\": 2954.28076171875, \"node_type\": \"metabolite\", \"y\": 1010.0, \"x\": 2940.0, \"bigg_id\": \"h_c\", \"label_y\": 1038.4132080078125}, \"1576658\": {\"node_is_primary\": false, \"name\": \"H+\", \"label_x\": 2962.214599609375, \"node_type\": \"metabolite\", \"y\": 700.0, \"x\": 2940.0, \"bigg_id\": \"h_e\", \"label_y\": 718.4132080078125}, \"1576912\": {\"y\": 3995.0, \"x\": 1255.0, \"node_type\": \"multimarker\"}, \"1576913\": {\"y\": 3995.0, \"x\": 1415.0, \"node_type\": \"multimarker\"}, \"1576910\": {\"y\": 3330.0, \"x\": 3776.0, \"node_type\": \"multimarker\"}, \"1576911\": {\"y\": 3995.0, \"x\": 1335.0, \"node_type\": \"midmarker\"}, \"1576916\": {\"y\": 3526.0, \"x\": 1404.0, \"node_type\": \"midmarker\"}, \"1576917\": {\"y\": 3554.0, \"x\": 1485.0, \"node_type\": \"multimarker\"}, \"1576914\": {\"y\": 1660.0, \"x\": 4970.0, \"node_type\": \"midmarker\"}, \"1576918\": {\"y\": 3503.0, \"x\": 1335.0, \"node_type\": \"multimarker\"}, \"1576919\": {\"y\": 4520.0, \"x\": 2880.0, \"node_type\": \"multimarker\"}, \"1577028\": {\"y\": 3360.0, \"x\": 2310.0, \"node_type\": \"multimarker\"}, \"1577021\": {\"y\": 3918.0, \"x\": 2840.0, \"node_type\": \"multimarker\"}, \"1577020\": {\"y\": 3837.0, \"x\": 2744.0, \"node_type\": \"multimarker\"}, \"1577023\": {\"y\": 3945.0, \"x\": 375.0, \"node_type\": \"multimarker\"}, \"1577022\": {\"y\": 3886.0, \"x\": 2798.0, \"node_type\": \"midmarker\"}, \"1577025\": {\"y\": 3945.0, \"x\": 505.0, \"node_type\": \"midmarker\"}, \"1577024\": {\"y\": 3945.0, \"x\": 645.0, \"node_type\": \"multimarker\"}, \"1577027\": {\"y\": 3410.0, \"x\": 2220.0, \"node_type\": \"multimarker\"}, \"1577026\": {\"y\": 3390.0, \"x\": 2260.0, \"node_type\": \"midmarker\"}, \"1576967\": {\"y\": 4604.0, \"x\": 3621.0, \"node_type\": \"midmarker\"}, \"1576966\": {\"y\": 1735.0, \"x\": 2175.0, \"node_type\": \"multimarker\"}, \"1576965\": {\"y\": 1695.0, \"x\": 2175.0, \"node_type\": \"midmarker\"}, \"1576964\": {\"y\": 1645.0, \"x\": 2175.0, \"node_type\": \"multimarker\"}, \"1576962\": {\"y\": 4924.0, \"x\": 3257.0, \"node_type\": \"midmarker\"}, \"1576961\": {\"y\": 4614.0, \"x\": 3257.0, \"node_type\": \"midmarker\"}, \"1576960\": {\"y\": 3341.0, \"x\": 2582.0, \"node_type\": \"multimarker\"}, \"1576969\": {\"y\": 3228.0, \"x\": 5032.0, \"node_type\": \"midmarker\"}, \"1576499\": {\"node_is_primary\": false, \"name\": \"H+\", \"label_x\": 3522.892333984375, \"node_type\": \"metabolite\", \"y\": 1080.287841796875, \"x\": 3510.0, \"bigg_id\": \"h_c\", \"label_y\": 1099.0072021484375}, \"1576999\": {\"y\": 1041.710205078125, \"x\": 1056.5867919921875, \"node_type\": \"multimarker\"}}, \"canvas\": {\"y\": 314.36893920898433, \"x\": 7.857062530517567, \"height\": 4860.457037353515, \"width\": 5894.515691375733}, \"text_labels\": {}}]'),\n",
       "               model_data: JSON.parse('null'),\n",
       "               static_site_index: JSON.parse('null'),\n",
       "           };\n",
       "       }\n",
       "   })();\n",
       "  </script>\n"
      ],
      "text/plain": [
       "<IPython.core.display.HTML object>"
      ]
     },
     "execution_count": 43,
     "metadata": {},
     "output_type": "execute_result"
    }
   ],
   "source": [
    "escher.Builder('e_coli_core.Core metabolism',\n",
    "               reaction_data={'PGK': 100},\n",
    "               metabolite_data={'ATP': 20}).display_in_notebook()"
   ]
  },
  {
   "cell_type": "markdown",
   "metadata": {},
   "source": [
    "***\n",
    "**A.**\n",
    "\n",
    "* Visualize the computed fluxes (see above `solution.fluxes`) on the central carbon metabolism map.\n",
    "\n",
    "Hints:\n",
    "* You can convert a pandas Series into a dictionary using the `.to_dict()` method."
   ]
  },
  {
   "cell_type": "code",
   "execution_count": 82,
   "metadata": {},
   "outputs": [
    {
     "data": {
      "text/plain": [
       "ACONTa                       6.007250\n",
       "ACONTb                       6.007250\n",
       "AKGDH                        5.064376\n",
       "ATPM                         8.390000\n",
       "ATPS4r                      45.514010\n",
       "BIOMASS_Ecoli_core_w_GAM     0.873922\n",
       "CO2t                       -22.809833\n",
       "CS                           6.007250\n",
       "CYTBD                       43.598985\n",
       "ENO                         14.716140\n",
       "EX_co2_e                    22.809833\n",
       "EX_glc__D_e                -10.000000\n",
       "EX_h_e                      17.530865\n",
       "EX_h2o_e                    29.175827\n",
       "EX_nh4_e                    -4.765319\n",
       "EX_o2_e                    -21.799493\n",
       "EX_pi_e                     -3.214895\n",
       "FBA                          7.477382\n",
       "FUM                          5.064376\n",
       "G6PDH2r                      4.959985\n",
       "GAPD                        16.023526\n",
       "GLCpts                      10.000000\n",
       "GLNS                         0.223462\n",
       "GLUDy                       -4.541857\n",
       "GND                          4.959985\n",
       "H2Ot                       -29.175827\n",
       "ICDHyr                       6.007250\n",
       "MDH                          5.064376\n",
       "NADH16                      38.534610\n",
       "NH4t                         4.765319\n",
       "O2t                         21.799493\n",
       "PDH                          9.282533\n",
       "PFK                          7.477382\n",
       "PGI                          4.860861\n",
       "PGK                        -16.023526\n",
       "PGL                          4.959985\n",
       "PGM                        -14.716140\n",
       "PIt2r                        3.214895\n",
       "PPC                          2.504309\n",
       "PYK                          1.758177\n",
       "RPE                          2.678482\n",
       "RPI                         -2.281503\n",
       "SUCDi                        5.064376\n",
       "SUCOAS                      -5.064376\n",
       "TALA                         1.496984\n",
       "TKT1                         1.496984\n",
       "TKT2                         1.181498\n",
       "TPI                          7.477382\n",
       "Name: fluxes, dtype: float64"
      ]
     },
     "execution_count": 82,
     "metadata": {},
     "output_type": "execute_result"
    }
   ],
   "source": [
    "solution.fluxes[solution.fluxes != 0.]"
   ]
  },
  {
   "cell_type": "code",
   "execution_count": 86,
   "metadata": {},
   "outputs": [
    {
     "data": {
      "text/html": [
       "\n",
       "\n",
       "\n",
       "  \n",
       "  \n",
       "\n",
       "  \n",
       "  \n",
       "    <link rel=\"stylesheet\" href=\"//unpkg.com/escher-vis@1.6.0/css/dist/builder.min.css\"/>\n",
       "  \n",
       "\n",
       "\n",
       "\n",
       "  <div style=\"height: 500px; width: 100%;\" id=\"etdufghxor\"></div>\n",
       "\n",
       "  <script>\n",
       "   /* Closure to make sure data only applies to this map. */\n",
       "   (function() {\n",
       "       /* data from python */\n",
       "       var data = get_data();\n",
       "\n",
       "       function load_lib(url, callback) {\n",
       "           /** Dynamically load a JavaScript file */\n",
       "           var s = document.createElement('script');\n",
       "           s.src = url;\n",
       "           s.async = true;\n",
       "           s.onreadystatechange = s.onload = callback;\n",
       "           s.onerror = function() {\n",
       "               console.warn('Failed to load library ' + url);\n",
       "           };\n",
       "           document.getElementsByTagName('head')[0].appendChild(s);\n",
       "       }\n",
       "\n",
       "       function check_global_and_load(name, url, callback) {\n",
       "           /** Look for the name in the global scope. If it isn't present, then\n",
       "              load the library at url. Returns the object. */\n",
       "           if (window[name] !== undefined) {\n",
       "               callback(window[name]);\n",
       "           } else {\n",
       "               load_lib(url, function() {\n",
       "                   callback(window[name]);\n",
       "               });\n",
       "           }\n",
       "       }\n",
       "\n",
       "       function draw_escher(escher) {\n",
       "           /** Get data and draw */\n",
       "           var load = function(t_map_data, t_model_data, t_options) {\n",
       "               escher.Builder(t_map_data, t_model_data, data.builder_embed_css,\n",
       "                              escher.libs.d3_select('#' + data.id), t_options);\n",
       "           }\n",
       "\n",
       "           // for the static site, use the url attributes for the map and model\n",
       "           // information\n",
       "           if (data.static_site_index !== null) {\n",
       "               escher.static.load_map_model_from_url(data.map_download_url, data.model_download_url,\n",
       "                                                     data.static_site_index, data.options, load);\n",
       "           } else {\n",
       "               load(data.map_data, data.model_data, data.options);\n",
       "           }\n",
       "       }\n",
       "\n",
       "       // Load dependencies and draw\n",
       "       if (typeof define === 'function' && define.amd) {\n",
       "           // require.js is available: use it to load escher\n",
       "           require.config({\n",
       "             paths: {\n",
       "               escher: '//unpkg.com/escher-vis@1.6.0/js/dist/escher.min',\n",
       "             },\n",
       "             // Override urlArgs that adds ?v= to the end of the escher URL and\n",
       "             // messes up unpkg links. Honestly, I'm not sure if this will lead\n",
       "             // to downstream bugs in the notebook, but they really shouldn't be\n",
       "             // doing this cache-busting anyway.\n",
       "             urlArgs: null,\n",
       "           })\n",
       "           require([ 'escher' ], function(escher) {\n",
       "               draw_escher(escher);\n",
       "           })\n",
       "       } else {\n",
       "           // require.js not available: dynamically load escher\n",
       "           check_global_and_load('escher', '//unpkg.com/escher-vis@1.6.0/js/dist/escher.min.js', function(escher) {\n",
       "               draw_escher(escher);\n",
       "           })\n",
       "       }\n",
       "\n",
       "       // Put this at the end so Chrome doesn't cut off the code above.\n",
       "       function get_data() {\n",
       "           /** Return the data passed in by the Python module. */\n",
       "           return {\n",
       "               id: JSON.parse('\"etdufghxor\"'),\n",
       "               map_download_url: JSON.parse('\"//escher.github.io/1-0-0/5/maps/\"'),\n",
       "               model_download_url: JSON.parse('\"//escher.github.io/1-0-0/5/models/\"'),\n",
       "               options: JSON.parse('{\"menu\": \"zoom\", \"enable_keys\": false, \"enable_editing\": false, \"scroll_behavior\": \"none\", \"fill_screen\": false, \"ignore_bootstrap\": true, \"never_ask_before_quit\": true, \"reaction_data\": {\"ACALD\": 0.0, \"ACALDt\": 0.0, \"ACKr\": 0.0, \"ACONTa\": 6.007249575350329, \"ACONTb\": 6.007249575350329, \"ACt2r\": 0.0, \"ADK1\": 0.0, \"AKGDH\": 5.064375661482089, \"AKGt2r\": 0.0, \"ALCD2x\": 0.0, \"ATPM\": 8.39, \"ATPS4r\": 45.514009774517454, \"BIOMASS_Ecoli_core_w_GAM\": 0.8739215069684304, \"CO2t\": -22.80983331020495, \"CS\": 6.007249575350329, \"CYTBD\": 43.59898531199751, \"D_LACt2\": 0.0, \"ENO\": 14.716139568742832, \"ETOHt2r\": 0.0, \"EX_ac_e\": 0.0, \"EX_acald_e\": 0.0, \"EX_akg_e\": 0.0, \"EX_co2_e\": 22.80983331020495, \"EX_etoh_e\": 0.0, \"EX_for_e\": -0.0, \"EX_fru_e\": 0.0, \"EX_fum_e\": 0.0, \"EX_glc__D_e\": -10.0, \"EX_gln__L_e\": 0.0, \"EX_glu__L_e\": 0.0, \"EX_h_e\": 17.5308654297867, \"EX_h2o_e\": 29.175827135565783, \"EX_lac__D_e\": 0.0, \"EX_mal__L_e\": 0.0, \"EX_nh4_e\": -4.765319193197457, \"EX_o2_e\": -21.799492655998755, \"EX_pi_e\": -3.214895047684765, \"EX_pyr_e\": 0.0, \"EX_succ_e\": 0.0, \"FBA\": 7.477381962160282, \"FBP\": 0.0, \"FORt2\": 0.0, \"FORti\": 0.0, \"FRD7\": 0.0, \"FRUpts2\": 0.0, \"FUM\": 5.064375661482089, \"FUMt2_2\": 0.0, \"G6PDH2r\": 4.959984944574658, \"GAPD\": 16.023526143167604, \"GLCpts\": 10.0, \"GLNS\": 0.22346172933182765, \"GLNabc\": 0.0, \"GLUDy\": -4.54185746386563, \"GLUN\": 0.0, \"GLUSy\": 0.0, \"GLUt2r\": 0.0, \"GND\": 4.959984944574658, \"H2Ot\": -29.175827135565783, \"ICDHyr\": 6.007249575350329, \"ICL\": 0.0, \"LDH_D\": 0.0, \"MALS\": 0.0, \"MALt2_2\": 0.0, \"MDH\": 5.064375661482089, \"ME1\": 0.0, \"ME2\": 0.0, \"NADH16\": 38.53460965051542, \"NADTRHD\": 0.0, \"NH4t\": 4.765319193197457, \"O2t\": 21.799492655998755, \"PDH\": 9.282532599166613, \"PFK\": 7.477381962160282, \"PFL\": 0.0, \"PGI\": 4.860861146496814, \"PGK\": -16.023526143167604, \"PGL\": 4.959984944574658, \"PGM\": -14.716139568742832, \"PIt2r\": 3.214895047684765, \"PPC\": 2.504309470368737, \"PPCK\": 0.0, \"PPS\": 0.0, \"PTAr\": 0.0, \"PYK\": 1.7581774441067828, \"PYRt2\": 0.0, \"RPE\": 2.6784818505075307, \"RPI\": -2.2815030940671273, \"SUCCt2_2\": 0.0, \"SUCCt3\": 0.0, \"SUCDi\": 5.064375661482089, \"SUCOAS\": -5.064375661482089, \"TALA\": 1.4969837572615672, \"THD2\": 0.0, \"TKT1\": 1.4969837572615672, \"TKT2\": 1.1814980932459638, \"TPI\": 7.477381962160282}, \"metabolite_data\": null, \"gene_data\": null}'),\n",
       "               builder_embed_css: JSON.parse('null'),\n",
       "               map_data: JSON.parse('[{\"map_name\": \"e_coli_core.Core metabolism\", \"map_id\": \"0df3827fde8464e80f455a773a52c274\", \"map_description\": \"E. coli core metabolic network\\\\nLast Modified Fri Dec 05 2014 16:39:44 GMT-0800 (PST)\", \"homepage\": \"https://escher.github.io\", \"schema\": \"https://escher.github.io/escher/jsonschema/1-0-0#\"}, {\"reactions\": {\"1577514\": {\"name\": \"Formate transport in via proton symport\", \"bigg_id\": \"FORt2\", \"segments\": {\"11\": {\"to_node_id\": \"1577044\", \"from_node_id\": \"1576666\", \"b2\": {\"y\": 4749.209372712298, \"x\": 1360.0}, \"b1\": {\"y\": 4827.353507999329, \"x\": 1360.0}}, \"10\": {\"to_node_id\": \"1577046\", \"from_node_id\": \"1577045\", \"b2\": null, \"b1\": null}, \"13\": {\"to_node_id\": \"1576590\", \"from_node_id\": \"1577046\", \"b2\": {\"y\": 4275.94781629675, \"x\": 1360.0}, \"b1\": {\"y\": 4411.784344889025, \"x\": 1360.0}}, \"12\": {\"to_node_id\": \"1577044\", \"from_node_id\": \"1576833\", \"b2\": {\"y\": 4744.773286702694, \"x\": 1360.0}, \"b1\": {\"y\": 4779.244289008981, \"x\": 1360.0}}, \"14\": {\"to_node_id\": \"1576811\", \"from_node_id\": \"1577046\", \"b2\": {\"y\": 4422.5658350974745, \"x\": 1360.0}, \"b1\": {\"y\": 4455.769750529243, \"x\": 1360.0}}, \"9\": {\"to_node_id\": \"1577045\", \"from_node_id\": \"1577044\", \"b2\": null, \"b1\": null}}, \"genes\": [{\"bigg_id\": \"b2492\", \"name\": \"focB\"}, {\"bigg_id\": \"b0904\", \"name\": \"focA\"}], \"reversibility\": false, \"metabolites\": [{\"coefficient\": -1.0, \"bigg_id\": \"for_e\"}, {\"coefficient\": 1.0, \"bigg_id\": \"h_c\"}, {\"coefficient\": 1.0, \"bigg_id\": \"for_c\"}, {\"coefficient\": -1.0, \"bigg_id\": \"h_e\"}], \"label_x\": 1255.7530517578125, \"label_y\": 4574.13232421875, \"gene_reaction_rule\": \"b0904 or b2492\"}, \"1577518\": {\"name\": \"Formate transport via diffusion\", \"bigg_id\": \"FORti\", \"segments\": {\"15\": {\"to_node_id\": \"1577047\", \"from_node_id\": \"1576590\", \"b2\": {\"y\": 4263.5, \"x\": 1460.0}, \"b1\": {\"y\": 4145.55, \"x\": 1460.0}}, \"16\": {\"to_node_id\": \"1576666\", \"from_node_id\": \"1577047\", \"b2\": {\"y\": 4654.322265625, \"x\": 1460.0}, \"b1\": {\"y\": 4488.7, \"x\": 1460.0}}}, \"genes\": [{\"bigg_id\": \"b2492\", \"name\": \"focB\"}, {\"bigg_id\": \"b0904\", \"name\": \"focA\"}], \"reversibility\": false, \"metabolites\": [{\"coefficient\": 1.0, \"bigg_id\": \"for_e\"}, {\"coefficient\": -1.0, \"bigg_id\": \"for_c\"}], \"label_x\": 1479.5206298828125, \"label_y\": 4509.27197265625, \"gene_reaction_rule\": \"b0904 or b2492\"}, \"1576747\": {\"name\": \"D-lactate dehydrogenase\", \"bigg_id\": \"LDH_D\", \"segments\": {\"120\": {\"to_node_id\": \"1576957\", \"from_node_id\": \"1576956\", \"b2\": null, \"b1\": null}, \"121\": {\"to_node_id\": \"1576955\", \"from_node_id\": \"1576957\", \"b2\": null, \"b1\": null}, \"122\": {\"to_node_id\": \"1576956\", \"from_node_id\": \"1576633\", \"b2\": {\"y\": 4240.660459763366, \"x\": 1055.0}, \"b1\": {\"y\": 4277.201532544553, \"x\": 1055.0}}, \"123\": {\"to_node_id\": \"1576956\", \"from_node_id\": \"1576584\", \"b2\": {\"y\": 4243.0, \"x\": 1055.0}, \"b1\": {\"y\": 4285.0, \"x\": 1055.0}}, \"124\": {\"to_node_id\": \"1576634\", \"from_node_id\": \"1576955\", \"b2\": {\"y\": 4060.9687576256715, \"x\": 1055.0}, \"b1\": {\"y\": 4105.790627287702, \"x\": 1055.0}}, \"125\": {\"to_node_id\": \"1576511\", \"from_node_id\": \"1576955\", \"b2\": {\"y\": 4035.0, \"x\": 1055.0}, \"b1\": {\"y\": 4098.0, \"x\": 1055.0}}, \"126\": {\"to_node_id\": \"1576635\", \"from_node_id\": \"1576955\", \"b2\": {\"y\": 4072.7984674554473, \"x\": 1055.0}, \"b1\": {\"y\": 4109.339540236634, \"x\": 1055.0}}}, \"genes\": [{\"bigg_id\": \"b1380\", \"name\": \"ldhA\"}, {\"bigg_id\": \"b2133\", \"name\": \"dld\"}], \"reversibility\": true, \"metabolites\": [{\"coefficient\": 1.0, \"bigg_id\": \"pyr_c\"}, {\"coefficient\": 1.0, \"bigg_id\": \"h_c\"}, {\"coefficient\": -1.0, \"bigg_id\": \"lac__D_c\"}, {\"coefficient\": -1.0, \"bigg_id\": \"nad_c\"}, {\"coefficient\": 1.0, \"bigg_id\": \"nadh_c\"}], \"label_x\": 1065.0, \"label_y\": 4165.0, \"gene_reaction_rule\": \"b2133 or b1380\"}, \"1576746\": {\"name\": \"ATP maintenance requirement\", \"bigg_id\": \"ATPM\", \"segments\": {\"115\": {\"to_node_id\": \"1576952\", \"from_node_id\": \"1576534\", \"b2\": {\"y\": 1176.0, \"x\": 4215.0}, \"b1\": {\"y\": 1120.0, \"x\": 4215.0}}, \"114\": {\"to_node_id\": \"1576954\", \"from_node_id\": \"1576953\", \"b2\": null, \"b1\": null}, \"117\": {\"to_node_id\": \"1576631\", \"from_node_id\": \"1576954\", \"b2\": {\"y\": 1411.0327780786686, \"x\": 4215.0}, \"b1\": {\"y\": 1368.3098334236006, \"x\": 4215.0}}, \"116\": {\"to_node_id\": \"1576952\", \"from_node_id\": \"1576630\", \"b2\": {\"y\": 1187.2720779386423, \"x\": 4215.0}, \"b1\": {\"y\": 1157.5735931288073, \"x\": 4215.0}}, \"113\": {\"to_node_id\": \"1576953\", \"from_node_id\": \"1576952\", \"b2\": null, \"b1\": null}, \"119\": {\"to_node_id\": \"1576536\", \"from_node_id\": \"1576954\", \"b2\": {\"y\": 1430.0, \"x\": 4215.0}, \"b1\": {\"y\": 1374.0, \"x\": 4215.0}}, \"118\": {\"to_node_id\": \"1576632\", \"from_node_id\": \"1576954\", \"b2\": {\"y\": 1388.0788655293195, \"x\": 4215.0}, \"b1\": {\"y\": 1361.423659658796, \"x\": 4215.0}}}, \"genes\": [], \"reversibility\": false, \"metabolites\": [{\"coefficient\": 1.0, \"bigg_id\": \"adp_c\"}, {\"coefficient\": 1.0, \"bigg_id\": \"h_c\"}, {\"coefficient\": -1.0, \"bigg_id\": \"atp_c\"}, {\"coefficient\": -1.0, \"bigg_id\": \"h2o_c\"}, {\"coefficient\": 1.0, \"bigg_id\": \"pi_c\"}], \"label_x\": 4241.11474609375, \"label_y\": 1266.1151123046875, \"gene_reaction_rule\": \"\"}, \"1576745\": {\"name\": \"Glutaminase\", \"bigg_id\": \"GLUN\", \"segments\": {\"108\": {\"to_node_id\": \"1576949\", \"from_node_id\": \"1576951\", \"b2\": null, \"b1\": null}, \"109\": {\"to_node_id\": \"1576950\", \"from_node_id\": \"1576628\", \"b2\": {\"y\": 3888.700961498954, \"x\": 4247.0}, \"b1\": {\"y\": 3916.003204996513, \"x\": 4247.0}}, \"111\": {\"to_node_id\": \"1576629\", \"from_node_id\": \"1576949\", \"b2\": {\"y\": 3777.1681351239463, \"x\": 4247.0}, \"b1\": {\"y\": 3803.650440537184, \"x\": 4247.0}}, \"110\": {\"to_node_id\": \"1576950\", \"from_node_id\": \"1576578\", \"b2\": {\"y\": 3909.550345620285, \"x\": 4247.0}, \"b1\": {\"y\": 3985.501152067616, \"x\": 4247.0}}, \"112\": {\"to_node_id\": \"1576554\", \"from_node_id\": \"1576949\", \"b2\": {\"y\": 3723.4986338899794, \"x\": 4247.0}, \"b1\": {\"y\": 3787.5495901669938, \"x\": 4247.0}}, \"107\": {\"to_node_id\": \"1576951\", \"from_node_id\": \"1576950\", \"b2\": null, \"b1\": null}}, \"genes\": [{\"bigg_id\": \"b1524\", \"name\": \"glsB\"}, {\"bigg_id\": \"b0485\", \"name\": \"glsA\"}, {\"bigg_id\": \"b1812\", \"name\": \"pabB\"}], \"reversibility\": false, \"metabolites\": [{\"coefficient\": 1.0, \"bigg_id\": \"glu__L_c\"}, {\"coefficient\": -1.0, \"bigg_id\": \"gln__L_c\"}, {\"coefficient\": 1.0, \"bigg_id\": \"nh4_c\"}, {\"coefficient\": -1.0, \"bigg_id\": \"h2o_c\"}], \"label_x\": 4253.77685546875, \"label_y\": 3866.338134765625, \"gene_reaction_rule\": \"b1812 or b0485 or b1524\"}, \"1576744\": {\"name\": \"Acetate exchange\", \"bigg_id\": \"EX_ac_e\", \"segments\": {\"105\": {\"to_node_id\": \"1576947\", \"from_node_id\": \"1576627\", \"b2\": {\"y\": 4890.0, \"x\": 1715.0}, \"b1\": {\"y\": 4888.64794921875, \"x\": 1715.0}}}, \"genes\": [], \"reversibility\": false, \"metabolites\": [{\"coefficient\": -1.0, \"bigg_id\": \"ac_e\"}], \"label_x\": 1742.4544677734375, \"label_y\": 4917.06640625, \"gene_reaction_rule\": \"\"}, \"1576743\": {\"name\": \"Glucose 6-phosphate dehydrogenase\", \"bigg_id\": \"G6PDH2r\", \"segments\": {\"99\": {\"to_node_id\": \"1576944\", \"from_node_id\": \"1576945\", \"b2\": null, \"b1\": null}, \"98\": {\"to_node_id\": \"1576945\", \"from_node_id\": \"1576946\", \"b2\": null, \"b1\": null}, \"102\": {\"to_node_id\": \"1576624\", \"from_node_id\": \"1576944\", \"b2\": {\"y\": 1265.0, \"x\": 1393.0018939122203}, \"b1\": {\"y\": 1265.0, \"x\": 1346.800568173666}}, \"103\": {\"to_node_id\": \"1576625\", \"from_node_id\": \"1576944\", \"b2\": {\"y\": 1265.0, \"x\": 1381.6008241696038}, \"b1\": {\"y\": 1265.0, \"x\": 1343.3802472508812}}, \"100\": {\"to_node_id\": \"1576946\", \"from_node_id\": \"1576623\", \"b2\": {\"y\": 1265.0, \"x\": 1270.6197527491188}, \"b1\": {\"y\": 1265.0, \"x\": 1232.3991758303962}}, \"101\": {\"to_node_id\": \"1576946\", \"from_node_id\": \"1576524\", \"b2\": {\"y\": 1265.0, \"x\": 1252.2}, \"b1\": {\"y\": 1265.0, \"x\": 1171.0}}, \"104\": {\"to_node_id\": \"1576626\", \"from_node_id\": \"1576944\", \"b2\": {\"y\": 1265.0, \"x\": 1417.0}, \"b1\": {\"y\": 1265.0, \"x\": 1354.0}}}, \"genes\": [{\"bigg_id\": \"b1852\", \"name\": \"zwf\"}], \"reversibility\": true, \"metabolites\": [{\"coefficient\": -1.0, \"bigg_id\": \"g6p_c\"}, {\"coefficient\": 1.0, \"bigg_id\": \"h_c\"}, {\"coefficient\": -1.0, \"bigg_id\": \"nadp_c\"}, {\"coefficient\": 1.0, \"bigg_id\": \"nadph_c\"}, {\"coefficient\": 1.0, \"bigg_id\": \"6pgl_c\"}], \"label_x\": 1261.46337890625, \"label_y\": 1320.0572509765625, \"gene_reaction_rule\": \"b1852\"}, \"1576742\": {\"name\": \"Malic enzyme (NAD)\", \"bigg_id\": \"ME1\", \"segments\": {\"91\": {\"to_node_id\": \"1576942\", \"from_node_id\": \"1576941\", \"b2\": null, \"b1\": null}, \"93\": {\"to_node_id\": \"1576941\", \"from_node_id\": \"1576504\", \"b2\": {\"y\": 3307.175835174097, \"x\": 2355.6483296518063}, \"b1\": {\"y\": 3253.9194505803225, \"x\": 2462.161098839355}}, \"92\": {\"to_node_id\": \"1576943\", \"from_node_id\": \"1576942\", \"b2\": null, \"b1\": null}, \"95\": {\"to_node_id\": \"1576511\", \"from_node_id\": \"1576943\", \"b2\": {\"y\": 3870.856276574083, \"x\": 1117.2138384533964}, \"b1\": {\"y\": 3474.7533185191, \"x\": 2020.4933629618001}}, \"94\": {\"to_node_id\": \"1576941\", \"from_node_id\": \"1576620\", \"b2\": {\"y\": 3321.8944463483363, \"x\": 2326.2111073033275}, \"b1\": {\"y\": 3302.9814878277875, \"x\": 2364.0370243444254}}, \"97\": {\"to_node_id\": \"1576622\", \"from_node_id\": \"1576943\", \"b2\": {\"y\": 3415.0, \"x\": 2140.0}, \"b1\": {\"y\": 3397.5, \"x\": 2175.0}}, \"96\": {\"to_node_id\": \"1576621\", \"from_node_id\": \"1576943\", \"b2\": {\"y\": 3419.8328677803524, \"x\": 2130.3342644392947}, \"b1\": {\"y\": 3398.949860334106, \"x\": 2172.1002793317884}}}, \"genes\": [{\"bigg_id\": \"b1479\", \"name\": \"maeA\"}], \"reversibility\": false, \"metabolites\": [{\"coefficient\": -1.0, \"bigg_id\": \"mal__L_c\"}, {\"coefficient\": 1.0, \"bigg_id\": \"pyr_c\"}, {\"coefficient\": 1.0, \"bigg_id\": \"co2_c\"}, {\"coefficient\": -1.0, \"bigg_id\": \"nad_c\"}, {\"coefficient\": 1.0, \"bigg_id\": \"nadh_c\"}], \"label_x\": 2188.595703125, \"label_y\": 3321.438232421875, \"gene_reaction_rule\": \"b1479\"}, \"1576741\": {\"name\": \"GLNabc\", \"bigg_id\": \"GLNabc\", \"segments\": {\"88\": {\"to_node_id\": \"1576617\", \"from_node_id\": \"1576938\", \"b2\": {\"y\": 4158.0, \"x\": 4332.993902665717}, \"b1\": {\"y\": 4158.0, \"x\": 4390.398170799715}}, \"89\": {\"to_node_id\": \"1576618\", \"from_node_id\": \"1576938\", \"b2\": {\"y\": 4158.0, \"x\": 4362.798467455447}, \"b1\": {\"y\": 4158.0, \"x\": 4399.339540236634}}, \"90\": {\"to_node_id\": \"1576619\", \"from_node_id\": \"1576938\", \"b2\": {\"y\": 4158.0, \"x\": 4350.968757625671}, \"b1\": {\"y\": 4158.0, \"x\": 4395.790627287702}}, \"82\": {\"to_node_id\": \"1576939\", \"from_node_id\": \"1576940\", \"b2\": null, \"b1\": null}, \"83\": {\"to_node_id\": \"1576938\", \"from_node_id\": \"1576939\", \"b2\": null, \"b1\": null}, \"86\": {\"to_node_id\": \"1576940\", \"from_node_id\": \"1576616\", \"b2\": {\"y\": 4158.0, \"x\": 4470.660459763366}, \"b1\": {\"y\": 4158.0, \"x\": 4507.201532544553}}, \"87\": {\"to_node_id\": \"1576578\", \"from_node_id\": \"1576938\", \"b2\": {\"y\": 4158.0, \"x\": 4324.643760591755}, \"b1\": {\"y\": 4158.0, \"x\": 4387.893128177527}}, \"84\": {\"to_node_id\": \"1576940\", \"from_node_id\": \"1576537\", \"b2\": {\"y\": 4158.0, \"x\": 4519.05}, \"b1\": {\"y\": 4158.0, \"x\": 4668.5}}, \"85\": {\"to_node_id\": \"1576940\", \"from_node_id\": \"1576615\", \"b2\": {\"y\": 4158.0, \"x\": 4474.209372712298}, \"b1\": {\"y\": 4158.0, \"x\": 4519.031242374329}}}, \"genes\": [{\"bigg_id\": \"b0811\", \"name\": \"glnH\"}, {\"bigg_id\": \"b0810\", \"name\": \"glnP\"}, {\"bigg_id\": \"b0809\", \"name\": \"glnQ\"}], \"reversibility\": false, \"metabolites\": [{\"coefficient\": -1.0, \"bigg_id\": \"h2o_c\"}, {\"coefficient\": -1.0, \"bigg_id\": \"atp_c\"}, {\"coefficient\": -1.0, \"bigg_id\": \"gln__L_e\"}, {\"coefficient\": 1.0, \"bigg_id\": \"adp_c\"}, {\"coefficient\": 1.0, \"bigg_id\": \"h_c\"}, {\"coefficient\": 1.0, \"bigg_id\": \"pi_c\"}, {\"coefficient\": 1.0, \"bigg_id\": \"gln__L_c\"}], \"label_x\": 4535.24462890625, \"label_y\": 4133.49658203125, \"gene_reaction_rule\": \"b0811 and b0810 and b0809\"}, \"1577547\": {\"name\": \"Biomass Objective Function with GAM\", \"bigg_id\": \"BIOMASS_Ecoli_core_w_GAM\", \"segments\": {\"498\": {\"to_node_id\": \"1577090\", \"from_node_id\": \"1577076\", \"b2\": {\"y\": 4899.2412109375, \"x\": 5215.0458984375}, \"b1\": {\"y\": 4793.48193359375, \"x\": 5334.0517578125}}, \"499\": {\"to_node_id\": \"1577091\", \"from_node_id\": \"1577076\", \"b2\": {\"y\": 4977.43115234375, \"x\": 5353.5947265625}, \"b1\": {\"y\": 4789.48193359375, \"x\": 5334.0517578125}}, \"494\": {\"to_node_id\": \"1577086\", \"from_node_id\": \"1577074\", \"b2\": {\"y\": 4564.25048828125, \"x\": 5140.27099609375}, \"b1\": {\"y\": 4681.48193359375, \"x\": 5334.0517578125}}, \"495\": {\"to_node_id\": \"1577087\", \"from_node_id\": \"1577076\", \"b2\": {\"y\": 4938.26416015625, \"x\": 5273.55517578125}, \"b1\": {\"y\": 4793.48193359375, \"x\": 5334.0517578125}}, \"496\": {\"to_node_id\": \"1577088\", \"from_node_id\": \"1577074\", \"b2\": {\"y\": 4579.03759765625, \"x\": 5068.69580078125}, \"b1\": {\"y\": 4681.48193359375, \"x\": 5334.0517578125}}, \"497\": {\"to_node_id\": \"1577089\", \"from_node_id\": \"1577074\", \"b2\": {\"y\": 4594.88134765625, \"x\": 5023.52734375}, \"b1\": {\"y\": 4681.48193359375, \"x\": 5334.0517578125}}, \"490\": {\"to_node_id\": \"1577082\", \"from_node_id\": \"1577074\", \"b2\": {\"y\": 4413.09912109375, \"x\": 5307.541015625}, \"b1\": {\"y\": 4681.48193359375, \"x\": 5334.0517578125}}, \"491\": {\"to_node_id\": \"1577083\", \"from_node_id\": \"1577074\", \"b2\": {\"y\": 4523.05615234375, \"x\": 5316.9716796875}, \"b1\": {\"y\": 4681.48193359375, \"x\": 5334.0517578125}}, \"492\": {\"to_node_id\": \"1577084\", \"from_node_id\": \"1577074\", \"b2\": {\"y\": 4533.61865234375, \"x\": 5258.0712890625}, \"b1\": {\"y\": 4681.48193359375, \"x\": 5334.0517578125}}, \"493\": {\"to_node_id\": \"1577085\", \"from_node_id\": \"1577074\", \"b2\": {\"y\": 4544.18115234375, \"x\": 5197.05859375}, \"b1\": {\"y\": 4681.48193359375, \"x\": 5334.0517578125}}, \"506\": {\"to_node_id\": \"1577098\", \"from_node_id\": \"1577076\", \"b2\": {\"y\": 4820.185546875, \"x\": 5099.533203125}, \"b1\": {\"y\": 4793.48193359375, \"x\": 5334.0517578125}}, \"504\": {\"to_node_id\": \"1577096\", \"from_node_id\": \"1577076\", \"b2\": {\"y\": 4868.333984375, \"x\": 5114.79541015625}, \"b1\": {\"y\": 4793.48193359375, \"x\": 5334.0517578125}}, \"505\": {\"to_node_id\": \"1577097\", \"from_node_id\": \"1577074\", \"b2\": {\"y\": 4717.4072265625, \"x\": 4780.78271484375}, \"b1\": {\"y\": 4681.48193359375, \"x\": 5334.0517578125}}, \"502\": {\"to_node_id\": \"1577094\", \"from_node_id\": \"1577074\", \"b2\": {\"y\": 4664.59423828125, \"x\": 4851.0517578125}, \"b1\": {\"y\": 4681.48193359375, \"x\": 5334.0517578125}}, \"503\": {\"to_node_id\": \"1577095\", \"from_node_id\": \"1577074\", \"b2\": {\"y\": 4685.7197265625, \"x\": 4807.9951171875}, \"b1\": {\"y\": 4681.48193359375, \"x\": 5334.0517578125}}, \"500\": {\"to_node_id\": \"1577092\", \"from_node_id\": \"1577074\", \"b2\": {\"y\": 4611.78173828125, \"x\": 4962.51416015625}, \"b1\": {\"y\": 4681.48193359375, \"x\": 5334.0517578125}}, \"501\": {\"to_node_id\": \"1577093\", \"from_node_id\": \"1577074\", \"b2\": {\"y\": 4637.1318359375, \"x\": 4907.83935546875}, \"b1\": {\"y\": 4681.48193359375, \"x\": 5334.0517578125}}, \"489\": {\"to_node_id\": \"1577081\", \"from_node_id\": \"1577076\", \"b2\": {\"y\": 5001.37158203125, \"x\": 5337.27587890625}, \"b1\": {\"y\": 4793.48193359375, \"x\": 5334.0517578125}}, \"488\": {\"to_node_id\": \"1577080\", \"from_node_id\": \"1577074\", \"b2\": {\"y\": 4453.01611328125, \"x\": 5350.98828125}, \"b1\": {\"y\": 4681.48193359375, \"x\": 5334.0517578125}}, \"487\": {\"to_node_id\": \"1577079\", \"from_node_id\": \"1577074\", \"b2\": {\"y\": 4516.16943359375, \"x\": 5423.4208984375}, \"b1\": {\"y\": 4681.48193359375, \"x\": 5334.0517578125}}, \"486\": {\"to_node_id\": \"1577078\", \"from_node_id\": \"1577074\", \"b2\": {\"y\": 4630.19921875, \"x\": 5427.28515625}, \"b1\": {\"y\": 4681.48193359375, \"x\": 5334.0517578125}}, \"485\": {\"to_node_id\": \"1577077\", \"from_node_id\": \"1577076\", \"b2\": {\"y\": 4926.6220703125, \"x\": 5391.197265625}, \"b1\": {\"y\": 4793.48193359375, \"x\": 5334.0517578125}}, \"484\": {\"to_node_id\": \"1577073\", \"from_node_id\": \"1577074\", \"b2\": {\"y\": 4573.30322265625, \"x\": 5455.328125}, \"b1\": {\"y\": 4685.48193359375, \"x\": 5334.0517578125}}, \"483\": {\"to_node_id\": \"1577075\", \"from_node_id\": \"1577076\", \"b2\": null, \"b1\": null}, \"482\": {\"to_node_id\": \"1577075\", \"from_node_id\": \"1577074\", \"b2\": null, \"b1\": null}}, \"genes\": [], \"reversibility\": false, \"metabolites\": [{\"coefficient\": 3.7478, \"bigg_id\": \"coa_c\"}, {\"coefficient\": -0.8977, \"bigg_id\": \"r5p_c\"}, {\"coefficient\": -1.496, \"bigg_id\": \"3pg_c\"}, {\"coefficient\": -0.361, \"bigg_id\": \"e4p_c\"}, {\"coefficient\": -0.2557, \"bigg_id\": \"gln__L_c\"}, {\"coefficient\": 3.547, \"bigg_id\": \"nadh_c\"}, {\"coefficient\": -2.8328, \"bigg_id\": \"pyr_c\"}, {\"coefficient\": -0.0709, \"bigg_id\": \"f6p_c\"}, {\"coefficient\": -13.0279, \"bigg_id\": \"nadph_c\"}, {\"coefficient\": -3.7478, \"bigg_id\": \"accoa_c\"}, {\"coefficient\": -1.7867, \"bigg_id\": \"oaa_c\"}, {\"coefficient\": -0.129, \"bigg_id\": \"g3p_c\"}, {\"coefficient\": -3.547, \"bigg_id\": \"nad_c\"}, {\"coefficient\": 59.81, \"bigg_id\": \"pi_c\"}, {\"coefficient\": -0.205, \"bigg_id\": \"g6p_c\"}, {\"coefficient\": 4.1182, \"bigg_id\": \"akg_c\"}, {\"coefficient\": -0.5191, \"bigg_id\": \"pep_c\"}, {\"coefficient\": -4.9414, \"bigg_id\": \"glu__L_c\"}, {\"coefficient\": -59.81, \"bigg_id\": \"atp_c\"}, {\"coefficient\": 59.81, \"bigg_id\": \"adp_c\"}, {\"coefficient\": 59.81, \"bigg_id\": \"h_c\"}, {\"coefficient\": -59.81, \"bigg_id\": \"h2o_c\"}, {\"coefficient\": 13.0279, \"bigg_id\": \"nadp_c\"}], \"label_x\": 5392.94580078125, \"label_y\": 4746.6962890625, \"gene_reaction_rule\": \"\"}, \"1576749\": {\"name\": \"H2O transport via diffusion\", \"bigg_id\": \"H2Ot\", \"segments\": {\"135\": {\"to_node_id\": \"1576640\", \"from_node_id\": \"1576961\", \"b2\": {\"y\": 4524.0, \"x\": 3257.0}, \"b1\": {\"y\": 4587.0, \"x\": 3257.0}}, \"134\": {\"to_node_id\": \"1576961\", \"from_node_id\": \"1576639\", \"b2\": {\"y\": 4684.0, \"x\": 3257.0}, \"b1\": {\"y\": 4733.0, \"x\": 3257.0}}}, \"genes\": [{\"bigg_id\": \"s0001\", \"name\": \"None\"}, {\"bigg_id\": \"b0875\", \"name\": \"aqpZ\"}], \"reversibility\": true, \"metabolites\": [{\"coefficient\": 1.0, \"bigg_id\": \"h2o_c\"}, {\"coefficient\": -1.0, \"bigg_id\": \"h2o_e\"}], \"label_x\": 3267.0, \"label_y\": 4604.0, \"gene_reaction_rule\": \"b0875 or s0001\"}, \"1576748\": {\"name\": \"Malate dehydrogenase\", \"bigg_id\": \"MDH\", \"segments\": {\"133\": {\"to_node_id\": \"1576521\", \"from_node_id\": \"1576958\", \"b2\": {\"y\": 3595.960728582294, \"x\": 2580.6915524727365}, \"b1\": {\"y\": 3497.9882185746883, \"x\": 2578.807465741821}}, \"132\": {\"to_node_id\": \"1576638\", \"from_node_id\": \"1576958\", \"b2\": {\"y\": 3505.0826757349405, \"x\": 2578.9438976102874}, \"b1\": {\"y\": 3470.7248027204823, \"x\": 2578.2831692830864}}, \"131\": {\"to_node_id\": \"1576637\", \"from_node_id\": \"1576958\", \"b2\": {\"y\": 3538.2116199944217, \"x\": 2579.5809926922}, \"b1\": {\"y\": 3480.6634859983265, \"x\": 2578.47429780766}}, \"130\": {\"to_node_id\": \"1576960\", \"from_node_id\": \"1576636\", \"b2\": {\"y\": 3327.0487806839114, \"x\": 2583.107239628261}, \"b1\": {\"y\": 3294.4959356130375, \"x\": 2585.69079876087}}, \"127\": {\"to_node_id\": \"1576959\", \"from_node_id\": \"1576960\", \"b2\": null, \"b1\": null}, \"128\": {\"to_node_id\": \"1576958\", \"from_node_id\": \"1576959\", \"b2\": null, \"b1\": null}, \"129\": {\"to_node_id\": \"1576960\", \"from_node_id\": \"1576504\", \"b2\": {\"y\": 3317.969496697346, \"x\": 2583.827817722433}, \"b1\": {\"y\": 3264.23165565782, \"x\": 2588.092725741443}}}, \"genes\": [{\"bigg_id\": \"b3236\", \"name\": \"mdh\"}], \"reversibility\": true, \"metabolites\": [{\"coefficient\": -1.0, \"bigg_id\": \"mal__L_c\"}, {\"coefficient\": 1.0, \"bigg_id\": \"h_c\"}, {\"coefficient\": 1.0, \"bigg_id\": \"oaa_c\"}, {\"coefficient\": -1.0, \"bigg_id\": \"nad_c\"}, {\"coefficient\": 1.0, \"bigg_id\": \"nadh_c\"}], \"label_x\": 2587.0, \"label_y\": 3394.0, \"gene_reaction_rule\": \"b3236\"}, \"1577545\": {\"name\": \"Succinate dehydrogenase (irreversible)\", \"bigg_id\": \"SUCDi\", \"segments\": {\"48\": {\"to_node_id\": \"1577066\", \"from_node_id\": \"1577065\", \"b2\": null, \"b1\": null}, \"49\": {\"to_node_id\": \"1577064\", \"from_node_id\": \"1576814\", \"b2\": {\"y\": 2816.4590794794085, \"x\": 3193.7934732750823}, \"b1\": {\"y\": 2815.1969315980286, \"x\": 3225.9782442502737}}, \"47\": {\"to_node_id\": \"1577065\", \"from_node_id\": \"1577064\", \"b2\": null, \"b1\": null}, \"51\": {\"to_node_id\": \"1576503\", \"from_node_id\": \"1577066\", \"b2\": {\"y\": 2843.2084583195547, \"x\": 2952.624089386102}, \"b1\": {\"y\": 2831.162537495866, \"x\": 3040.3872268158307}}, \"50\": {\"to_node_id\": \"1577064\", \"from_node_id\": \"1576533\", \"b2\": {\"y\": 2815.5590310361767, \"x\": 3216.7447085774984}, \"b1\": {\"y\": 2812.1967701205886, \"x\": 3302.482361924995}}, \"52\": {\"to_node_id\": \"1576830\", \"from_node_id\": \"1577066\", \"b2\": {\"y\": 2833.0526323200284, \"x\": 3026.6165359540787}, \"b1\": {\"y\": 2828.1157896960085, \"x\": 3062.5849607862237}}}, \"genes\": [{\"bigg_id\": \"b0724\", \"name\": \"sdhB\"}, {\"bigg_id\": \"b0721\", \"name\": \"sdhC\"}, {\"bigg_id\": \"b0722\", \"name\": \"sdhD\"}, {\"bigg_id\": \"b0723\", \"name\": \"sdhA\"}], \"reversibility\": false, \"metabolites\": [{\"coefficient\": -1.0, \"bigg_id\": \"succ_c\"}, {\"coefficient\": 1.0, \"bigg_id\": \"fum_c\"}, {\"coefficient\": -1.0, \"bigg_id\": \"q8_c\"}, {\"coefficient\": 1.0, \"bigg_id\": \"q8h2_c\"}], \"label_x\": 3108.851318359375, \"label_y\": 2862.949951171875, \"gene_reaction_rule\": \"b0721 and b0722 and b0723 and b0724\"}, \"1577540\": {\"name\": \"NADH dehydrogenase (ubiquinone-8 & 3 protons)\", \"bigg_id\": \"NADH16\", \"segments\": {\"39\": {\"to_node_id\": \"1577062\", \"from_node_id\": \"1577061\", \"b2\": null, \"b1\": null}, \"46\": {\"to_node_id\": \"1576542\", \"from_node_id\": \"1577063\", \"b2\": {\"y\": 2507.151123046875, \"x\": 4630.938294107013}, \"b1\": {\"y\": 2571.611572265625, \"x\": 4800.053949169604}}, \"44\": {\"to_node_id\": \"1576808\", \"from_node_id\": \"1577063\", \"b2\": {\"y\": 2570.0, \"x\": 4780.0}, \"b1\": {\"y\": 2568.388427734375, \"x\": 4766.45361328125}}, \"45\": {\"to_node_id\": \"1576809\", \"from_node_id\": \"1577063\", \"b2\": {\"y\": 2655.409912109375, \"x\": 4928.099683314913}, \"b1\": {\"y\": 2570.000244140625, \"x\": 4798.6355690569735}}, \"42\": {\"to_node_id\": \"1577061\", \"from_node_id\": \"1576827\", \"b2\": {\"y\": 2570.0, \"x\": 4595.729021023612}, \"b1\": {\"y\": 2567.302001953125, \"x\": 4458.799047943291}}, \"43\": {\"to_node_id\": \"1577061\", \"from_node_id\": \"1576539\", \"b2\": {\"y\": 2570.0, \"x\": 4542.513923505967}, \"b1\": {\"y\": 2375.007080078125, \"x\": 4706.342147363639}}, \"40\": {\"to_node_id\": \"1577063\", \"from_node_id\": \"1577062\", \"b2\": null, \"b1\": null}, \"41\": {\"to_node_id\": \"1577061\", \"from_node_id\": \"1576820\", \"b2\": {\"y\": 2570.0, \"x\": 4582.0}, \"b1\": {\"y\": 2570.0, \"x\": 4470.0}}}, \"genes\": [{\"bigg_id\": \"b2284\", \"name\": \"nuoF\"}, {\"bigg_id\": \"b2279\", \"name\": \"nuoK\"}, {\"bigg_id\": \"b2287\", \"name\": \"nuoB\"}, {\"bigg_id\": \"b2286\", \"name\": \"nuoC\"}, {\"bigg_id\": \"b2288\", \"name\": \"nuoA\"}, {\"bigg_id\": \"b2283\", \"name\": \"nuoG\"}, {\"bigg_id\": \"b2277\", \"name\": \"nuoM\"}, {\"bigg_id\": \"b2281\", \"name\": \"nuoI\"}, {\"bigg_id\": \"b2280\", \"name\": \"nuoJ\"}, {\"bigg_id\": \"b2276\", \"name\": \"nuoN\"}, {\"bigg_id\": \"b2282\", \"name\": \"nuoH\"}, {\"bigg_id\": \"b2278\", \"name\": \"nuoL\"}, {\"bigg_id\": \"b2285\", \"name\": \"nuoE\"}], \"reversibility\": false, \"metabolites\": [{\"coefficient\": 3.0, \"bigg_id\": \"h_e\"}, {\"coefficient\": -1.0, \"bigg_id\": \"q8_c\"}, {\"coefficient\": -1.0, \"bigg_id\": \"nadh_c\"}, {\"coefficient\": 1.0, \"bigg_id\": \"q8h2_c\"}, {\"coefficient\": -4.0, \"bigg_id\": \"h_c\"}, {\"coefficient\": 1.0, \"bigg_id\": \"nad_c\"}], \"label_x\": 4589.75537109375, \"label_y\": 2624.46044921875, \"gene_reaction_rule\": \"b2276 and b2277 and b2278 and b2279 and b2280 and b2281 and b2282 and b2283 and b2284 and b2285 and b2286 and b2287 and b2288\"}, \"1577507\": {\"name\": \"Alcohol dehydrogenase (ethanol)\", \"bigg_id\": \"ALCD2x\", \"segments\": {\"3\": {\"to_node_id\": \"1577043\", \"from_node_id\": \"1577042\", \"b2\": null, \"b1\": null}, \"2\": {\"to_node_id\": \"1577042\", \"from_node_id\": \"1577041\", \"b2\": null, \"b1\": null}, \"5\": {\"to_node_id\": \"1577041\", \"from_node_id\": \"1576822\", \"b2\": {\"y\": 4111.911975251582, \"x\": 2383.7628306266947}, \"b1\": {\"y\": 4139.7065841719395, \"x\": 2413.5427687556494}}, \"4\": {\"to_node_id\": \"1577041\", \"from_node_id\": \"1576829\", \"b2\": {\"y\": 4118.6722220553565, \"x\": 2391.0059522021684}, \"b1\": {\"y\": 4162.240740184523, \"x\": 2437.6865073405606}}, \"7\": {\"to_node_id\": \"1576813\", \"from_node_id\": \"1577043\", \"b2\": {\"y\": 4033.046682944248, \"x\": 2306.576904081298}, \"b1\": {\"y\": 4059.6140048832744, \"x\": 2331.3730712243896}}, \"6\": {\"to_node_id\": \"1576817\", \"from_node_id\": \"1577043\", \"b2\": {\"y\": 4004.2974661013272, \"x\": 2279.744301694572}, \"b1\": {\"y\": 4050.989239830398, \"x\": 2323.3232905083714}}, \"8\": {\"to_node_id\": \"1576824\", \"from_node_id\": \"1577043\", \"b2\": {\"y\": 4021.1795086945217, \"x\": 2295.5008747815536}, \"b1\": {\"y\": 4056.0538526083565, \"x\": 2328.0502624344663}}}, \"genes\": [{\"bigg_id\": \"b1241\", \"name\": \"adhE\"}, {\"bigg_id\": \"b0356\", \"name\": \"frmA\"}, {\"bigg_id\": \"b1478\", \"name\": \"adhP\"}], \"reversibility\": true, \"metabolites\": [{\"coefficient\": 1.0, \"bigg_id\": \"acald_c\"}, {\"coefficient\": 1.0, \"bigg_id\": \"h_c\"}, {\"coefficient\": -1.0, \"bigg_id\": \"nad_c\"}, {\"coefficient\": 1.0, \"bigg_id\": \"nadh_c\"}, {\"coefficient\": -1.0, \"bigg_id\": \"etoh_c\"}], \"label_x\": 2356.4794921875, \"label_y\": 4047.4384765625, \"gene_reaction_rule\": \"b0356 or b1478 or b1241\"}, \"1576754\": {\"name\": \"Phosphoenolpyruvate synthase\", \"bigg_id\": \"PPS\", \"segments\": {\"151\": {\"to_node_id\": \"1576970\", \"from_node_id\": \"1576511\", \"b2\": {\"y\": 3844.115214431216, \"x\": 835.0}, \"b1\": {\"y\": 3935.384048104053, \"x\": 835.0}}, \"150\": {\"to_node_id\": \"1576970\", \"from_node_id\": \"1576642\", \"b2\": {\"y\": 3821.7705098312485, \"x\": 835.0}, \"b1\": {\"y\": 3860.9016994374947, \"x\": 835.0}}, \"153\": {\"to_node_id\": \"1576517\", \"from_node_id\": \"1576971\", \"b2\": {\"y\": 3391.8647304430565, \"x\": 835.0}, \"b1\": {\"y\": 3485.059419132917, \"x\": 835.0}}, \"152\": {\"to_node_id\": \"1576970\", \"from_node_id\": \"1576643\", \"b2\": {\"y\": 3820.0, \"x\": 835.0}, \"b1\": {\"y\": 3855.0, \"x\": 835.0}}, \"155\": {\"to_node_id\": \"1576645\", \"from_node_id\": \"1576971\", \"b2\": {\"y\": 3475.0, \"x\": 835.0}, \"b1\": {\"y\": 3510.0, \"x\": 835.0}}, \"154\": {\"to_node_id\": \"1576644\", \"from_node_id\": \"1576971\", \"b2\": {\"y\": 3469.0983005625053, \"x\": 835.0}, \"b1\": {\"y\": 3508.2294901687515, \"x\": 835.0}}, \"156\": {\"to_node_id\": \"1576646\", \"from_node_id\": \"1576971\", \"b2\": {\"y\": 3454.289321881345, \"x\": 835.0}, \"b1\": {\"y\": 3503.7867965644036, \"x\": 835.0}}, \"148\": {\"to_node_id\": \"1576972\", \"from_node_id\": \"1576970\", \"b2\": null, \"b1\": null}, \"149\": {\"to_node_id\": \"1576971\", \"from_node_id\": \"1576972\", \"b2\": null, \"b1\": null}}, \"genes\": [{\"bigg_id\": \"b1702\", \"name\": \"ppsA\"}], \"reversibility\": false, \"metabolites\": [{\"coefficient\": -1.0, \"bigg_id\": \"pyr_c\"}, {\"coefficient\": -1.0, \"bigg_id\": \"atp_c\"}, {\"coefficient\": 1.0, \"bigg_id\": \"amp_c\"}, {\"coefficient\": 1.0, \"bigg_id\": \"pep_c\"}, {\"coefficient\": 2.0, \"bigg_id\": \"h_c\"}, {\"coefficient\": 1.0, \"bigg_id\": \"pi_c\"}, {\"coefficient\": -1.0, \"bigg_id\": \"h2o_c\"}], \"label_x\": 741.8604125976562, \"label_y\": 3669.90869140625, \"gene_reaction_rule\": \"b1702\"}, \"1576755\": {\"name\": \"D-Glucose exchange\", \"bigg_id\": \"EX_glc__D_e\", \"segments\": {\"157\": {\"to_node_id\": \"1576974\", \"from_node_id\": \"1576647\", \"b2\": {\"y\": 623.4132690429688, \"x\": 1056.6529541015625}, \"b1\": {\"y\": 625.4632568359375, \"x\": 1055.066162109375}}}, \"genes\": [], \"reversibility\": true, \"metabolites\": [{\"coefficient\": -1.0, \"bigg_id\": \"glc__D_e\"}], \"label_x\": 1082.5206298828125, \"label_y\": 598.4705200195312, \"gene_reaction_rule\": \"\"}, \"1576756\": {\"name\": \"ETOHt2r\", \"bigg_id\": \"ETOHt2r\", \"segments\": {\"159\": {\"to_node_id\": \"1576976\", \"from_node_id\": \"1576977\", \"b2\": null, \"b1\": null}, \"164\": {\"to_node_id\": \"1576829\", \"from_node_id\": \"1576975\", \"b2\": {\"y\": 4328.998762383821, \"x\": 2500.0}, \"b1\": {\"y\": 4399.699628715146, \"x\": 2500.0}}, \"160\": {\"to_node_id\": \"1576975\", \"from_node_id\": \"1576976\", \"b2\": null, \"b1\": null}, \"161\": {\"to_node_id\": \"1576977\", \"from_node_id\": \"1576648\", \"b2\": {\"y\": 4745.660459763366, \"x\": 2500.0}, \"b1\": {\"y\": 4782.201532544553, \"x\": 2500.0}}, \"162\": {\"to_node_id\": \"1576977\", \"from_node_id\": \"1576649\", \"b2\": {\"y\": 4745.0, \"x\": 2500.0}, \"b1\": {\"y\": 4780.0, \"x\": 2500.0}}, \"163\": {\"to_node_id\": \"1576650\", \"from_node_id\": \"1576975\", \"b2\": {\"y\": 4377.798467455447, \"x\": 2500.0}, \"b1\": {\"y\": 4414.339540236634, \"x\": 2500.0}}}, \"genes\": [], \"reversibility\": true, \"metabolites\": [{\"coefficient\": -1.0, \"bigg_id\": \"h_e\"}, {\"coefficient\": 1.0, \"bigg_id\": \"etoh_c\"}, {\"coefficient\": -1.0, \"bigg_id\": \"etoh_e\"}, {\"coefficient\": 1.0, \"bigg_id\": \"h_c\"}], \"label_x\": 2530.6279296875, \"label_y\": 4611.404296875, \"gene_reaction_rule\": \"\"}, \"1576757\": {\"name\": \"Phosphoglycerate mutase\", \"bigg_id\": \"PGM\", \"segments\": {\"165\": {\"to_node_id\": \"1576978\", \"from_node_id\": \"1576522\", \"b2\": {\"y\": 3060.0, \"x\": 1055.0}, \"b1\": {\"y\": 3105.5, \"x\": 1055.0}}, \"166\": {\"to_node_id\": \"1576486\", \"from_node_id\": \"1576978\", \"b2\": {\"y\": 2935.0, \"x\": 1055.0}, \"b1\": {\"y\": 2977.0, \"x\": 1055.0}}}, \"genes\": [{\"bigg_id\": \"b3612\", \"name\": \"gpmM\"}, {\"bigg_id\": \"b4395\", \"name\": \"ytjC\"}, {\"bigg_id\": \"b0755\", \"name\": \"gpmA\"}], \"reversibility\": true, \"metabolites\": [{\"coefficient\": 1.0, \"bigg_id\": \"3pg_c\"}, {\"coefficient\": -1.0, \"bigg_id\": \"2pg_c\"}], \"label_x\": 1065.0, \"label_y\": 2985.0, \"gene_reaction_rule\": \"b3612 or b4395 or b0755\"}, \"1576750\": {\"name\": \"H2O exchange\", \"bigg_id\": \"EX_h2o_e\", \"segments\": {\"136\": {\"to_node_id\": \"1576962\", \"from_node_id\": \"1576639\", \"b2\": {\"y\": 4839.0, \"x\": 3257.0}, \"b1\": {\"y\": 4779.5, \"x\": 3257.0}}}, \"genes\": [], \"reversibility\": true, \"metabolites\": [{\"coefficient\": -1.0, \"bigg_id\": \"h2o_e\"}], \"label_x\": 3267.0, \"label_y\": 4914.0, \"gene_reaction_rule\": \"\"}, \"1576751\": {\"name\": \"Transketolase\", \"bigg_id\": \"TKT1\", \"segments\": {\"142\": {\"to_node_id\": \"1576546\", \"from_node_id\": \"1576966\", \"b2\": {\"y\": 1816.322080948729, \"x\": 2070.2734375}, \"b1\": {\"y\": 1823.819109636181, \"x\": 2173.413330078125}}, \"143\": {\"to_node_id\": \"1576545\", \"from_node_id\": \"1576966\", \"b2\": {\"y\": 1821.0824569252916, \"x\": 2297.1806640625}, \"b1\": {\"y\": 1822.232439714306, \"x\": 2175.0}}, \"140\": {\"to_node_id\": \"1576964\", \"from_node_id\": \"1576605\", \"b2\": {\"y\": 1605.9896167668144, \"x\": 2175.0}, \"b1\": {\"y\": 1557.80791851959, \"x\": 2171.826416015625}}, \"141\": {\"to_node_id\": \"1576964\", \"from_node_id\": \"1576558\", \"b2\": {\"y\": 1607.9527328943145, \"x\": 2175.0}, \"b1\": {\"y\": 1558.0047151164654, \"x\": 2171.82666015625}}, \"139\": {\"to_node_id\": \"1576966\", \"from_node_id\": \"1576965\", \"b2\": null, \"b1\": null}, \"138\": {\"to_node_id\": \"1576965\", \"from_node_id\": \"1576964\", \"b2\": null, \"b1\": null}}, \"genes\": [{\"bigg_id\": \"b2465\", \"name\": \"tktB\"}, {\"bigg_id\": \"b2935\", \"name\": \"tktA\"}], \"reversibility\": true, \"metabolites\": [{\"coefficient\": -1.0, \"bigg_id\": \"xu5p__D_c\"}, {\"coefficient\": -1.0, \"bigg_id\": \"r5p_c\"}, {\"coefficient\": 1.0, \"bigg_id\": \"g3p_c\"}, {\"coefficient\": 1.0, \"bigg_id\": \"s7p_c\"}], \"label_x\": 2185.0, \"label_y\": 1685.0, \"gene_reaction_rule\": \"b2935 or b2465\"}, \"1576752\": {\"name\": \"CO2 transporter via diffusion\", \"bigg_id\": \"CO2t\", \"segments\": {\"144\": {\"to_node_id\": \"1576967\", \"from_node_id\": \"1576544\", \"b2\": {\"y\": 4679.0, \"x\": 3621.0}, \"b1\": {\"y\": 4731.5, \"x\": 3621.0}}, \"145\": {\"to_node_id\": \"1576641\", \"from_node_id\": \"1576967\", \"b2\": {\"y\": 4519.0, \"x\": 3621.0}, \"b1\": {\"y\": 4578.5, \"x\": 3621.0}}}, \"genes\": [{\"bigg_id\": \"s0001\", \"name\": \"None\"}], \"reversibility\": true, \"metabolites\": [{\"coefficient\": -1.0, \"bigg_id\": \"co2_e\"}, {\"coefficient\": 1.0, \"bigg_id\": \"co2_c\"}], \"label_x\": 3631.0, \"label_y\": 4594.0, \"gene_reaction_rule\": \"s0001\"}, \"1576753\": {\"name\": \"2-Oxoglutarate exchange\", \"bigg_id\": \"EX_akg_e\", \"segments\": {\"146\": {\"to_node_id\": \"1576969\", \"from_node_id\": \"1576598\", \"b2\": {\"y\": 3228.0, \"x\": 4977.0}, \"b1\": {\"y\": 3228.0, \"x\": 4938.5}}}, \"genes\": [], \"reversibility\": false, \"metabolites\": [{\"coefficient\": -1.0, \"bigg_id\": \"akg_e\"}], \"label_x\": 5042.0, \"label_y\": 3218.0, \"gene_reaction_rule\": \"\"}, \"1576758\": {\"name\": \"Ethanol exchange\", \"bigg_id\": \"EX_etoh_e\", \"segments\": {\"167\": {\"to_node_id\": \"1576980\", \"from_node_id\": \"1576649\", \"b2\": {\"y\": 4887.93359375, \"x\": 2500.0}, \"b1\": {\"y\": 4875.1484375, \"x\": 2500.0}}}, \"genes\": [], \"reversibility\": false, \"metabolites\": [{\"coefficient\": -1.0, \"bigg_id\": \"etoh_e\"}], \"label_x\": 2519.520751953125, \"label_y\": 4934.28076171875, \"gene_reaction_rule\": \"\"}, \"1576759\": {\"name\": \"Acetate kinase\", \"bigg_id\": \"ACKr\", \"segments\": {\"169\": {\"to_node_id\": \"1576982\", \"from_node_id\": \"1576981\", \"b2\": null, \"b1\": null}, \"174\": {\"to_node_id\": \"1576613\", \"from_node_id\": \"1576983\", \"b2\": {\"y\": 4215.0, \"x\": 1715.0}, \"b1\": {\"y\": 4243.0, \"x\": 1715.0}}, \"173\": {\"to_node_id\": \"1576653\", \"from_node_id\": \"1576983\", \"b2\": {\"y\": 4202.798467455447, \"x\": 1715.0}, \"b1\": {\"y\": 4239.339540236634, \"x\": 1715.0}}, \"172\": {\"to_node_id\": \"1576981\", \"from_node_id\": \"1576652\", \"b2\": {\"y\": 4317.0, \"x\": 1715.0}, \"b1\": {\"y\": 4345.0, \"x\": 1715.0}}, \"171\": {\"to_node_id\": \"1576981\", \"from_node_id\": \"1576651\", \"b2\": {\"y\": 4320.660459763366, \"x\": 1715.0}, \"b1\": {\"y\": 4357.201532544553, \"x\": 1715.0}}, \"170\": {\"to_node_id\": \"1576983\", \"from_node_id\": \"1576982\", \"b2\": null, \"b1\": null}}, \"genes\": [{\"bigg_id\": \"b2296\", \"name\": \"ackA\"}, {\"bigg_id\": \"b3115\", \"name\": \"tdcD\"}, {\"bigg_id\": \"b1849\", \"name\": \"purT\"}], \"reversibility\": true, \"metabolites\": [{\"coefficient\": 1.0, \"bigg_id\": \"adp_c\"}, {\"coefficient\": -1.0, \"bigg_id\": \"ac_c\"}, {\"coefficient\": 1.0, \"bigg_id\": \"actp_c\"}, {\"coefficient\": -1.0, \"bigg_id\": \"atp_c\"}], \"label_x\": 1737.694091796875, \"label_y\": 4293.5615234375, \"gene_reaction_rule\": \"b3115 or b2296 or b1849\"}, \"1576710\": {\"name\": \"CO2 exchange\", \"bigg_id\": \"EX_co2_e\", \"segments\": {\"367\": {\"to_node_id\": \"1576871\", \"from_node_id\": \"1576544\", \"b2\": {\"y\": 4834.0, \"x\": 3621.0}, \"b1\": {\"y\": 4778.0, \"x\": 3621.0}}}, \"genes\": [], \"reversibility\": true, \"metabolites\": [{\"coefficient\": -1.0, \"bigg_id\": \"co2_e\"}], \"label_x\": 3631.0, \"label_y\": 4904.0, \"gene_reaction_rule\": \"\"}, \"1576760\": {\"name\": \"Ammonia exchange\", \"bigg_id\": \"EX_nh4_e\", \"segments\": {\"175\": {\"to_node_id\": \"1576985\", \"from_node_id\": \"1576526\", \"b2\": {\"y\": 4837.5, \"x\": 3990.0}, \"b1\": {\"y\": 4781.15, \"x\": 3989.3}}}, \"genes\": [], \"reversibility\": true, \"metabolites\": [{\"coefficient\": -1.0, \"bigg_id\": \"nh4_e\"}], \"label_x\": 4001.0, \"label_y\": 4908.0, \"gene_reaction_rule\": \"\"}, \"1576763\": {\"name\": \"Fumarate transport via proton symport  2 H \", \"bigg_id\": \"FUMt2_2\", \"segments\": {\"191\": {\"to_node_id\": \"1576659\", \"from_node_id\": \"1576992\", \"b2\": {\"y\": 1032.2015325445527, \"x\": 2840.0}, \"b1\": {\"y\": 995.6604597633658, \"x\": 2840.0}}, \"190\": {\"to_node_id\": \"1576991\", \"from_node_id\": \"1576658\", \"b2\": {\"y\": 714.3395402366342, \"x\": 2840.0}, \"b1\": {\"y\": 677.7984674554473, \"x\": 2840.0}}, \"192\": {\"to_node_id\": \"1576503\", \"from_node_id\": \"1576992\", \"b2\": {\"y\": 1950.0011597931211, \"x\": 2840.0}, \"b1\": {\"y\": 1271.0003479379363, \"x\": 2840.0}}, \"187\": {\"to_node_id\": \"1576993\", \"from_node_id\": \"1576991\", \"b2\": null, \"b1\": null}, \"188\": {\"to_node_id\": \"1576992\", \"from_node_id\": \"1576993\", \"b2\": null, \"b1\": null}, \"189\": {\"to_node_id\": \"1576991\", \"from_node_id\": \"1576657\", \"b2\": {\"y\": 718.0, \"x\": 2840.0}, \"b1\": {\"y\": 690.0, \"x\": 2840.0}}}, \"genes\": [{\"bigg_id\": \"b3528\", \"name\": \"dctA\"}], \"reversibility\": false, \"metabolites\": [{\"coefficient\": 1.0, \"bigg_id\": \"fum_c\"}, {\"coefficient\": 2.0, \"bigg_id\": \"h_c\"}, {\"coefficient\": -1.0, \"bigg_id\": \"fum_e\"}, {\"coefficient\": -2.0, \"bigg_id\": \"h_e\"}], \"label_x\": 2851.586669921875, \"label_y\": 845.8676147460938, \"gene_reaction_rule\": \"b3528\"}, \"1576762\": {\"name\": \"Phosphate exchange\", \"bigg_id\": \"EX_pi_e\", \"segments\": {\"185\": {\"to_node_id\": \"1576989\", \"from_node_id\": \"1576594\", \"b2\": {\"y\": 4909.82177734375, \"x\": 2880.0}, \"b1\": {\"y\": 4896.2666015625, \"x\": 2879.999755859375}}}, \"genes\": [], \"reversibility\": true, \"metabolites\": [{\"coefficient\": -1.0, \"bigg_id\": \"pi_e\"}], \"label_x\": 2902.694091796875, \"label_y\": 4926.21484375, \"gene_reaction_rule\": \"\"}, \"1576765\": {\"name\": \"D-glucose transport via PEP:Pyr PTS\", \"bigg_id\": \"GLCpts\", \"segments\": {\"201\": {\"to_node_id\": \"1576998\", \"from_node_id\": \"1576662\", \"b2\": {\"y\": 830.8607140720374, \"x\": 1056.2982974892807}, \"b1\": {\"y\": 817.6128620109578, \"x\": 962.100078544998}}, \"200\": {\"to_node_id\": \"1576999\", \"from_node_id\": \"1576997\", \"b2\": null, \"b1\": null}, \"203\": {\"to_node_id\": \"1576663\", \"from_node_id\": \"1576999\", \"b2\": {\"y\": 1091.99109457335, \"x\": 1162.89990234375}, \"b1\": {\"y\": 1155.6497636747395, \"x\": 1056.5867919921875}}, \"202\": {\"to_node_id\": \"1576998\", \"from_node_id\": \"1576647\", \"b2\": {\"y\": 852.0646158583277, \"x\": 1054.6540059434642}, \"b1\": {\"y\": 841.218336226978, \"x\": 1054.4691636917553}}, \"199\": {\"to_node_id\": \"1576997\", \"from_node_id\": \"1576998\", \"b2\": null, \"b1\": null}, \"204\": {\"to_node_id\": \"1576524\", \"from_node_id\": \"1576999\", \"b2\": {\"y\": 1159.3526000976562, \"x\": 1055.0}, \"b1\": {\"y\": 1156.4998046875, \"x\": 1056.5867919921875}}}, \"genes\": [{\"bigg_id\": \"b1621\", \"name\": \"malX\"}, {\"bigg_id\": \"b2416\", \"name\": \"ptsI\"}, {\"bigg_id\": \"b1817\", \"name\": \"manX\"}, {\"bigg_id\": \"b1101\", \"name\": \"ptsG\"}, {\"bigg_id\": \"b1818\", \"name\": \"manY\"}, {\"bigg_id\": \"b1819\", \"name\": \"manZ\"}, {\"bigg_id\": \"b2415\", \"name\": \"ptsH\"}, {\"bigg_id\": \"b2417\", \"name\": \"crr\"}], \"reversibility\": false, \"metabolites\": [{\"coefficient\": -1.0, \"bigg_id\": \"pep_c\"}, {\"coefficient\": 1.0, \"bigg_id\": \"pyr_c\"}, {\"coefficient\": -1.0, \"bigg_id\": \"glc__D_e\"}, {\"coefficient\": 1.0, \"bigg_id\": \"g6p_c\"}], \"label_x\": 1074.520263671875, \"label_y\": 929.0499877929688, \"gene_reaction_rule\": \"(b2417 and b1101 and b2415 and b2416) or (b1817 and b1818 and b1819 and b2415 and b2416) or (b2417 and b1621 and b2415 and b2416)\"}, \"1576764\": {\"name\": \"Acetate reversible transport via proton symport\", \"bigg_id\": \"ACt2r\", \"segments\": {\"198\": {\"to_node_id\": \"1576661\", \"from_node_id\": \"1576996\", \"b2\": {\"y\": 4430.253057299197, \"x\": 1719.76025390625}, \"b1\": {\"y\": 4485.835145705384, \"x\": 1715.0}}, \"195\": {\"to_node_id\": \"1576994\", \"from_node_id\": \"1576627\", \"b2\": {\"y\": 4760.0, \"x\": 1715.0}, \"b1\": {\"y\": 4779.13232421875, \"x\": 1716.5867919921875}}, \"194\": {\"to_node_id\": \"1576996\", \"from_node_id\": \"1576995\", \"b2\": null, \"b1\": null}, \"197\": {\"to_node_id\": \"1576652\", \"from_node_id\": \"1576996\", \"b2\": {\"y\": 4450.38818359375, \"x\": 1715.0}, \"b1\": {\"y\": 4489.49560546875, \"x\": 1715.0}}, \"196\": {\"to_node_id\": \"1576994\", \"from_node_id\": \"1576660\", \"b2\": {\"y\": 4760.660459763366, \"x\": 1715.0}, \"b1\": {\"y\": 4787.680536450803, \"x\": 1715.0}}, \"193\": {\"to_node_id\": \"1576995\", \"from_node_id\": \"1576994\", \"b2\": null, \"b1\": null}}, \"genes\": [], \"reversibility\": true, \"metabolites\": [{\"coefficient\": -1.0, \"bigg_id\": \"h_e\"}, {\"coefficient\": 1.0, \"bigg_id\": \"h_c\"}, {\"coefficient\": -1.0, \"bigg_id\": \"ac_e\"}, {\"coefficient\": 1.0, \"bigg_id\": \"ac_c\"}], \"label_x\": 1740.8675537109375, \"label_y\": 4638.470703125, \"gene_reaction_rule\": \"\"}, \"1576766\": {\"name\": \"Succinate transport out via proton antiport\", \"bigg_id\": \"SUCCt3\", \"segments\": {\"205\": {\"to_node_id\": \"1577000\", \"from_node_id\": \"1577002\", \"b2\": null, \"b1\": null}, \"207\": {\"to_node_id\": \"1577002\", \"from_node_id\": \"1576664\", \"b2\": {\"y\": 2844.388427734375, \"x\": 4392.512762612581}, \"b1\": {\"y\": 2928.186767578125, \"x\": 4395.992900114855}}, \"210\": {\"to_node_id\": \"1576665\", \"from_node_id\": \"1577001\", \"b2\": {\"y\": 2757.366943359375, \"x\": 4896.373608481642}, \"b1\": {\"y\": 2844.388427734375, \"x\": 4895.4172094976175}}, \"206\": {\"to_node_id\": \"1577001\", \"from_node_id\": \"1577000\", \"b2\": null, \"b1\": null}, \"209\": {\"to_node_id\": \"1576531\", \"from_node_id\": \"1577001\", \"b2\": {\"y\": 2846.0, \"x\": 4852.764726786234}, \"b1\": {\"y\": 2844.388427734375, \"x\": 4830.28303131712}}, \"208\": {\"to_node_id\": \"1577002\", \"from_node_id\": \"1576533\", \"b2\": {\"y\": 2846.0, \"x\": 4388.970989302984}, \"b1\": {\"y\": 2846.0, \"x\": 3989.9032976766134}}}, \"genes\": [], \"reversibility\": false, \"metabolites\": [{\"coefficient\": -1.0, \"bigg_id\": \"succ_c\"}, {\"coefficient\": 1.0, \"bigg_id\": \"succ_e\"}, {\"coefficient\": 1.0, \"bigg_id\": \"h_c\"}, {\"coefficient\": -1.0, \"bigg_id\": \"h_e\"}], \"label_x\": 4451.38818359375, \"label_y\": 2819.884765625, \"gene_reaction_rule\": \"\"}, \"1576769\": {\"name\": \"Glyceraldehyde-3-phosphate dehydrogenase\", \"bigg_id\": \"GAPD\", \"segments\": {\"217\": {\"to_node_id\": \"1577008\", \"from_node_id\": \"1577006\", \"b2\": null, \"b1\": null}, \"218\": {\"to_node_id\": \"1577007\", \"from_node_id\": \"1577008\", \"b2\": null, \"b1\": null}, \"219\": {\"to_node_id\": \"1577006\", \"from_node_id\": \"1576575\", \"b2\": {\"y\": 2322.5, \"x\": 1055.0}, \"b1\": {\"y\": 2270.0, \"x\": 1055.0}}, \"224\": {\"to_node_id\": \"1576672\", \"from_node_id\": \"1577007\", \"b2\": {\"y\": 2482.4341649025255, \"x\": 1055.0}, \"b1\": {\"y\": 2449.230249470758, \"x\": 1055.0}}, \"223\": {\"to_node_id\": \"1576671\", \"from_node_id\": \"1577007\", \"b2\": {\"y\": 2495.2079728939616, \"x\": 1055.0}, \"b1\": {\"y\": 2453.0623918681886, \"x\": 1055.0}}, \"222\": {\"to_node_id\": \"1576487\", \"from_node_id\": \"1577007\", \"b2\": {\"y\": 2500.0, \"x\": 1055.0}, \"b1\": {\"y\": 2454.5, \"x\": 1055.0}}, \"221\": {\"to_node_id\": \"1577006\", \"from_node_id\": \"1576670\", \"b2\": {\"y\": 2330.769750529242, \"x\": 1055.0}, \"b1\": {\"y\": 2297.5658350974745, \"x\": 1055.0}}, \"220\": {\"to_node_id\": \"1577006\", \"from_node_id\": \"1576669\", \"b2\": {\"y\": 2326.9376081318114, \"x\": 1055.0}, \"b1\": {\"y\": 2284.7920271060384, \"x\": 1055.0}}}, \"genes\": [{\"bigg_id\": \"b1779\", \"name\": \"gapA\"}], \"reversibility\": true, \"metabolites\": [{\"coefficient\": 1.0, \"bigg_id\": \"13dpg_c\"}, {\"coefficient\": -1.0, \"bigg_id\": \"g3p_c\"}, {\"coefficient\": 1.0, \"bigg_id\": \"nadh_c\"}, {\"coefficient\": 1.0, \"bigg_id\": \"h_c\"}, {\"coefficient\": -1.0, \"bigg_id\": \"nad_c\"}, {\"coefficient\": -1.0, \"bigg_id\": \"pi_c\"}], \"label_x\": 1065.0, \"label_y\": 2385.0, \"gene_reaction_rule\": \"b1779\"}, \"1576768\": {\"name\": \"6-phosphogluconolactonase\", \"bigg_id\": \"PGL\", \"segments\": {\"216\": {\"to_node_id\": \"1576490\", \"from_node_id\": \"1577004\", \"b2\": {\"y\": 1265.0, \"x\": 1742.0}, \"b1\": {\"y\": 1265.0, \"x\": 1682.5}}, \"214\": {\"to_node_id\": \"1577005\", \"from_node_id\": \"1576667\", \"b2\": {\"y\": 1265.0, \"x\": 1600.6197527491188}, \"b1\": {\"y\": 1265.0, \"x\": 1562.3991758303962}}, \"215\": {\"to_node_id\": \"1576668\", \"from_node_id\": \"1577004\", \"b2\": {\"y\": 1265.0, \"x\": 1711.6008241696038}, \"b1\": {\"y\": 1265.0, \"x\": 1673.3802472508812}}, \"212\": {\"to_node_id\": \"1577004\", \"from_node_id\": \"1577003\", \"b2\": null, \"b1\": null}, \"213\": {\"to_node_id\": \"1577005\", \"from_node_id\": \"1576626\", \"b2\": {\"y\": 1265.0, \"x\": 1600.5}, \"b1\": {\"y\": 1265.0, \"x\": 1562.0}}, \"211\": {\"to_node_id\": \"1577003\", \"from_node_id\": \"1577005\", \"b2\": null, \"b1\": null}}, \"genes\": [{\"bigg_id\": \"b0767\", \"name\": \"pgl\"}], \"reversibility\": false, \"metabolites\": [{\"coefficient\": -1.0, \"bigg_id\": \"6pgl_c\"}, {\"coefficient\": 1.0, \"bigg_id\": \"h_c\"}, {\"coefficient\": -1.0, \"bigg_id\": \"h2o_c\"}, {\"coefficient\": 1.0, \"bigg_id\": \"6pgc_c\"}], \"label_x\": 1599.3970947265625, \"label_y\": 1312.1234130859375, \"gene_reaction_rule\": \"b0767\"}, \"1576699\": {\"name\": \"Pyruvate dehydrogenase\", \"bigg_id\": \"PDH\", \"segments\": {\"331\": {\"to_node_id\": \"1576514\", \"from_node_id\": \"1576851\", \"b2\": {\"y\": 3945.0, \"x\": 1635.0}, \"b1\": {\"y\": 3945.0, \"x\": 1579.0}}, \"330\": {\"to_node_id\": \"1576513\", \"from_node_id\": \"1576851\", \"b2\": {\"y\": 3945.0, \"x\": 1606.478150704935}, \"b1\": {\"y\": 3945.0, \"x\": 1570.4434452114806}}, \"332\": {\"to_node_id\": \"1576515\", \"from_node_id\": \"1576851\", \"b2\": {\"y\": 3945.0, \"x\": 1613.309518948453}, \"b1\": {\"y\": 3945.0, \"x\": 1572.492855684536}}, \"326\": {\"to_node_id\": \"1576851\", \"from_node_id\": \"1576850\", \"b2\": null, \"b1\": null}, \"327\": {\"to_node_id\": \"1576849\", \"from_node_id\": \"1576510\", \"b2\": {\"y\": 3945.0, \"x\": 1413.3472975166192}, \"b1\": {\"y\": 3945.0, \"x\": 1374.4909917220637}}, \"325\": {\"to_node_id\": \"1576850\", \"from_node_id\": \"1576849\", \"b2\": null, \"b1\": null}, \"328\": {\"to_node_id\": \"1576849\", \"from_node_id\": \"1576511\", \"b2\": {\"y\": 3945.0, \"x\": 1373.75}, \"b1\": {\"y\": 3945.0, \"x\": 1242.5}}, \"329\": {\"to_node_id\": \"1576849\", \"from_node_id\": \"1576512\", \"b2\": {\"y\": 3945.0, \"x\": 1411.736306507171}, \"b1\": {\"y\": 3945.0, \"x\": 1369.1210216905704}}}, \"genes\": [{\"bigg_id\": \"b0114\", \"name\": \"aceE\"}, {\"bigg_id\": \"b0115\", \"name\": \"aceF\"}, {\"bigg_id\": \"b0116\", \"name\": \"lpd\"}], \"reversibility\": false, \"metabolites\": [{\"coefficient\": 1.0, \"bigg_id\": \"nadh_c\"}, {\"coefficient\": -1.0, \"bigg_id\": \"coa_c\"}, {\"coefficient\": -1.0, \"bigg_id\": \"pyr_c\"}, {\"coefficient\": 1.0, \"bigg_id\": \"accoa_c\"}, {\"coefficient\": -1.0, \"bigg_id\": \"nad_c\"}, {\"coefficient\": 1.0, \"bigg_id\": \"co2_c\"}], \"label_x\": 1417.72802734375, \"label_y\": 3920.71923828125, \"gene_reaction_rule\": \"b0114 and b0115 and b0116\"}, \"1576698\": {\"name\": \"Isocitrate dehydrogenase (NADP)\", \"bigg_id\": \"ICDHyr\", \"segments\": {\"319\": {\"to_node_id\": \"1576848\", \"from_node_id\": \"1576846\", \"b2\": null, \"b1\": null}, \"318\": {\"to_node_id\": \"1576846\", \"from_node_id\": \"1576847\", \"b2\": null, \"b1\": null}, \"322\": {\"to_node_id\": \"1576507\", \"from_node_id\": \"1576848\", \"b2\": {\"y\": 3735.4876397766343, \"x\": 3702.9108389651055}, \"b1\": {\"y\": 3767.3462919329904, \"x\": 3674.9732516895315}}, \"323\": {\"to_node_id\": \"1576508\", \"from_node_id\": \"1576848\", \"b2\": {\"y\": 3749.7955576929353, \"x\": 3690.36389556158}, \"b1\": {\"y\": 3771.6386673078805, \"x\": 3671.209168668474}}, \"320\": {\"to_node_id\": \"1576847\", \"from_node_id\": \"1576505\", \"b2\": {\"y\": 3933.673891941737, \"x\": 3498.9695345126847}, \"b1\": {\"y\": 3958.5796398057905, \"x\": 3468.565115042282}}, \"321\": {\"to_node_id\": \"1576847\", \"from_node_id\": \"1576506\", \"b2\": {\"y\": 3936.593890513596, \"x\": 3495.4048609314546}, \"b1\": {\"y\": 3968.312968378653, \"x\": 3456.6828697715146}}, \"324\": {\"to_node_id\": \"1576509\", \"from_node_id\": \"1576848\", \"b2\": {\"y\": 3715.2337610392046, \"x\": 3720.671932627159}, \"b1\": {\"y\": 3761.2701283117613, \"x\": 3680.3015797881476}}}, \"genes\": [{\"bigg_id\": \"b1136\", \"name\": \"icd\"}], \"reversibility\": true, \"metabolites\": [{\"coefficient\": 1.0, \"bigg_id\": \"nadph_c\"}, {\"coefficient\": 1.0, \"bigg_id\": \"akg_c\"}, {\"coefficient\": 1.0, \"bigg_id\": \"co2_c\"}, {\"coefficient\": -1.0, \"bigg_id\": \"nadp_c\"}, {\"coefficient\": -1.0, \"bigg_id\": \"icit_c\"}], \"label_x\": 3616.0, \"label_y\": 3836.0, \"gene_reaction_rule\": \"b1136\"}, \"1576695\": {\"name\": \"O2 transport  diffusion \", \"bigg_id\": \"O2t\", \"segments\": {\"304\": {\"to_node_id\": \"1576840\", \"from_node_id\": \"1576494\", \"b2\": {\"y\": 1660.0, \"x\": 4755.0}, \"b1\": {\"y\": 1660.0, \"x\": 4821.5}}, \"305\": {\"to_node_id\": \"1576495\", \"from_node_id\": \"1576840\", \"b2\": {\"y\": 1660.0, \"x\": 4495.0}, \"b1\": {\"y\": 1660.0, \"x\": 4610.5}}}, \"genes\": [{\"bigg_id\": \"s0001\", \"name\": \"None\"}], \"reversibility\": true, \"metabolites\": [{\"coefficient\": 1.0, \"bigg_id\": \"o2_c\"}, {\"coefficient\": -1.0, \"bigg_id\": \"o2_e\"}], \"label_x\": 4557.1943359375, \"label_y\": 1635.4964599609375, \"gene_reaction_rule\": \"s0001\"}, \"1576694\": {\"name\": \"Phosphogluconate dehydrogenase\", \"bigg_id\": \"GND\", \"segments\": {\"300\": {\"to_node_id\": \"1576838\", \"from_node_id\": \"1576490\", \"b2\": {\"y\": 1265.0, \"x\": 1920.5}, \"b1\": {\"y\": 1265.0, \"x\": 1882.0}}, \"301\": {\"to_node_id\": \"1576491\", \"from_node_id\": \"1576839\", \"b2\": {\"y\": 1265.0, \"x\": 2029.2015325445527}, \"b1\": {\"y\": 1265.0, \"x\": 1992.660459763366}}, \"302\": {\"to_node_id\": \"1576492\", \"from_node_id\": \"1576839\", \"b2\": {\"y\": 1265.0, \"x\": 2041.0312423743285}, \"b1\": {\"y\": 1265.0, \"x\": 1996.2093727122985}}, \"303\": {\"to_node_id\": \"1576493\", \"from_node_id\": \"1576839\", \"b2\": {\"y\": 1265.0, \"x\": 2066.0}, \"b1\": {\"y\": 1265.0, \"x\": 2003.7}}, \"298\": {\"to_node_id\": \"1576839\", \"from_node_id\": \"1576837\", \"b2\": null, \"b1\": null}, \"299\": {\"to_node_id\": \"1576838\", \"from_node_id\": \"1576489\", \"b2\": {\"y\": 1265.0, \"x\": 1921.339540236634}, \"b1\": {\"y\": 1265.0, \"x\": 1884.7984674554473}}, \"297\": {\"to_node_id\": \"1576837\", \"from_node_id\": \"1576838\", \"b2\": null, \"b1\": null}}, \"genes\": [{\"bigg_id\": \"b2029\", \"name\": \"gnd\"}], \"reversibility\": false, \"metabolites\": [{\"coefficient\": 1.0, \"bigg_id\": \"ru5p__D_c\"}, {\"coefficient\": 1.0, \"bigg_id\": \"nadph_c\"}, {\"coefficient\": 1.0, \"bigg_id\": \"co2_c\"}, {\"coefficient\": -1.0, \"bigg_id\": \"nadp_c\"}, {\"coefficient\": -1.0, \"bigg_id\": \"6pgc_c\"}], \"label_x\": 1930.5045166015625, \"label_y\": 1313.710205078125, \"gene_reaction_rule\": \"b2029\"}, \"1576697\": {\"name\": \"Fumarase\", \"bigg_id\": \"FUM\", \"segments\": {\"317\": {\"to_node_id\": \"1576844\", \"from_node_id\": \"1576503\", \"b2\": {\"y\": 3003.8745504813855, \"x\": 2741.433228320378}, \"b1\": {\"y\": 2961.5818349379524, \"x\": 2775.110761067927}}, \"316\": {\"to_node_id\": \"1576844\", \"from_node_id\": \"1576502\", \"b2\": {\"y\": 3010.0650991921693, \"x\": 2736.5037173099395}, \"b1\": {\"y\": 2982.216997307231, \"x\": 2758.679057699798}}, \"315\": {\"to_node_id\": \"1576504\", \"from_node_id\": \"1576845\", \"b2\": {\"y\": 3134.0, \"x\": 2652.5}, \"b1\": {\"y\": 3093.4, \"x\": 2674.55}}, \"314\": {\"to_node_id\": \"1576845\", \"from_node_id\": \"1576844\", \"b2\": null, \"b1\": null}}, \"genes\": [{\"bigg_id\": \"b4122\", \"name\": \"fumB\"}, {\"bigg_id\": \"b1611\", \"name\": \"fumC\"}, {\"bigg_id\": \"b1612\", \"name\": \"fumA\"}], \"reversibility\": true, \"metabolites\": [{\"coefficient\": -1.0, \"bigg_id\": \"fum_c\"}, {\"coefficient\": -1.0, \"bigg_id\": \"h2o_c\"}, {\"coefficient\": 1.0, \"bigg_id\": \"mal__L_c\"}], \"label_x\": 2759.057373046875, \"label_y\": 3066.0, \"gene_reaction_rule\": \"b1612 or b4122 or b1611\"}, \"1576696\": {\"name\": \"NAD P  transhydrogenase\", \"bigg_id\": \"THD2\", \"segments\": {\"308\": {\"to_node_id\": \"1576842\", \"from_node_id\": \"1576496\", \"b2\": {\"y\": 724.5066228070302, \"x\": 3510.0}, \"b1\": {\"y\": 580.5856339661426, \"x\": 3331.1220703125}}, \"309\": {\"to_node_id\": \"1576842\", \"from_node_id\": \"1576497\", \"b2\": {\"y\": 750.137689584216, \"x\": 3510.0}, \"b1\": {\"y\": 654.7419446101471, \"x\": 3418.143798828125}}, \"313\": {\"to_node_id\": \"1576501\", \"from_node_id\": \"1576843\", \"b2\": {\"y\": 1081.817596989458, \"x\": 3624.41748046875}, \"b1\": {\"y\": 1038.7769502394156, \"x\": 3506.777099609375}}, \"312\": {\"to_node_id\": \"1576500\", \"from_node_id\": \"1576843\", \"b2\": {\"y\": 1078.144282674624, \"x\": 3740.4462890625}, \"b1\": {\"y\": 1061.6865465211372, \"x\": 3508.388671875}}, \"311\": {\"to_node_id\": \"1576499\", \"from_node_id\": \"1576843\", \"b2\": {\"y\": 995.287841796875, \"x\": 3510.0}, \"b1\": {\"y\": 921.2841796875, \"x\": 3510.0}}, \"310\": {\"to_node_id\": \"1576842\", \"from_node_id\": \"1576498\", \"b2\": {\"y\": 777.5, \"x\": 3510.0}, \"b1\": {\"y\": 725.0, \"x\": 3510.0}}, \"306\": {\"to_node_id\": \"1576841\", \"from_node_id\": \"1576842\", \"b2\": null, \"b1\": null}, \"307\": {\"to_node_id\": \"1576843\", \"from_node_id\": \"1576841\", \"b2\": null, \"b1\": null}}, \"genes\": [{\"bigg_id\": \"b1602\", \"name\": \"pntB\"}, {\"bigg_id\": \"b1603\", \"name\": \"pntA\"}], \"reversibility\": false, \"metabolites\": [{\"coefficient\": -2.0, \"bigg_id\": \"h_e\"}, {\"coefficient\": -1.0, \"bigg_id\": \"nadp_c\"}, {\"coefficient\": -1.0, \"bigg_id\": \"nadh_c\"}, {\"coefficient\": 1.0, \"bigg_id\": \"nadph_c\"}, {\"coefficient\": 2.0, \"bigg_id\": \"h_c\"}, {\"coefficient\": 1.0, \"bigg_id\": \"nad_c\"}], \"label_x\": 3532.891845703125, \"label_y\": 872.8489990234375, \"gene_reaction_rule\": \"b1602 and b1603\"}, \"1576693\": {\"name\": \"Phosphoglycerate kinase\", \"bigg_id\": \"PGK\", \"segments\": {\"296\": {\"to_node_id\": \"1576488\", \"from_node_id\": \"1576834\", \"b2\": {\"y\": 2617.5658350974745, \"x\": 1055.0}, \"b1\": {\"y\": 2650.769750529242, \"x\": 1055.0}}, \"294\": {\"to_node_id\": \"1576835\", \"from_node_id\": \"1576486\", \"b2\": {\"y\": 2790.0, \"x\": 1055.0}, \"b1\": {\"y\": 2825.0, \"x\": 1055.0}}, \"295\": {\"to_node_id\": \"1576487\", \"from_node_id\": \"1576834\", \"b2\": {\"y\": 2615.0, \"x\": 1055.0}, \"b1\": {\"y\": 2650.0, \"x\": 1055.0}}, \"292\": {\"to_node_id\": \"1576834\", \"from_node_id\": \"1576836\", \"b2\": null, \"b1\": null}, \"293\": {\"to_node_id\": \"1576835\", \"from_node_id\": \"1576485\", \"b2\": {\"y\": 2789.230249470758, \"x\": 1055.0}, \"b1\": {\"y\": 2822.4341649025255, \"x\": 1055.0}}, \"291\": {\"to_node_id\": \"1576836\", \"from_node_id\": \"1576835\", \"b2\": null, \"b1\": null}}, \"genes\": [{\"bigg_id\": \"b2926\", \"name\": \"pgk\"}], \"reversibility\": true, \"metabolites\": [{\"coefficient\": -1.0, \"bigg_id\": \"3pg_c\"}, {\"coefficient\": 1.0, \"bigg_id\": \"13dpg_c\"}, {\"coefficient\": -1.0, \"bigg_id\": \"atp_c\"}, {\"coefficient\": 1.0, \"bigg_id\": \"adp_c\"}], \"label_x\": 1065.0, \"label_y\": 2715.0, \"gene_reaction_rule\": \"b2926\"}, \"1576776\": {\"name\": \"Malic enzyme (NADP)\", \"bigg_id\": \"ME2\", \"segments\": {\"270\": {\"to_node_id\": \"1576692\", \"from_node_id\": \"1577027\", \"b2\": {\"y\": 3439.4108823397055, \"x\": 2161.178235320589}, \"b1\": {\"y\": 3418.8232647019117, \"x\": 2202.3534705961765}}, \"267\": {\"to_node_id\": \"1577028\", \"from_node_id\": \"1576504\", \"b2\": {\"y\": 3332.720745600581, \"x\": 2355.4654239990323}, \"b1\": {\"y\": 3269.069152001936, \"x\": 2461.551413330107}}, \"266\": {\"to_node_id\": \"1577028\", \"from_node_id\": \"1576690\", \"b2\": {\"y\": 3350.7069760509485, \"x\": 2325.4883732484195}, \"b1\": {\"y\": 3329.0232535031614, \"x\": 2361.6279108280646}}, \"265\": {\"to_node_id\": \"1577027\", \"from_node_id\": \"1577026\", \"b2\": null, \"b1\": null}, \"264\": {\"to_node_id\": \"1577026\", \"from_node_id\": \"1577028\", \"b2\": null, \"b1\": null}, \"269\": {\"to_node_id\": \"1576511\", \"from_node_id\": \"1577027\", \"b2\": {\"y\": 3895.002675936253, \"x\": 1164.309223322806}, \"b1\": {\"y\": 3495.997238327751, \"x\": 2048.005523344498}}, \"268\": {\"to_node_id\": \"1576691\", \"from_node_id\": \"1577027\", \"b2\": {\"y\": 3434.0831891575845, \"x\": 2171.8336216848306}, \"b1\": {\"y\": 3417.2249567472754, \"x\": 2205.550086505449}}}, \"genes\": [{\"bigg_id\": \"b2463\", \"name\": \"maeB\"}], \"reversibility\": false, \"metabolites\": [{\"coefficient\": 1.0, \"bigg_id\": \"pyr_c\"}, {\"coefficient\": -1.0, \"bigg_id\": \"mal__L_c\"}, {\"coefficient\": 1.0, \"bigg_id\": \"co2_c\"}, {\"coefficient\": -1.0, \"bigg_id\": \"nadp_c\"}, {\"coefficient\": 1.0, \"bigg_id\": \"nadph_c\"}], \"label_x\": 2281.107177734375, \"label_y\": 3432.36328125, \"gene_reaction_rule\": \"b2463\"}, \"1576777\": {\"name\": \"Formate exchange\", \"bigg_id\": \"EX_for_e\", \"segments\": {\"271\": {\"to_node_id\": \"1577030\", \"from_node_id\": \"1576666\", \"b2\": {\"y\": 4884.95458984375, \"x\": 1460.0}, \"b1\": {\"y\": 4885.96044921875, \"x\": 1461.5867919921875}}}, \"genes\": [], \"reversibility\": false, \"metabolites\": [{\"coefficient\": -1.0, \"bigg_id\": \"for_e\"}], \"label_x\": 1476.3470458984375, \"label_y\": 4913.4130859375, \"gene_reaction_rule\": \"\"}, \"1576774\": {\"name\": \"Citrate synthase\", \"bigg_id\": \"CS\", \"segments\": {\"252\": {\"to_node_id\": \"1577020\", \"from_node_id\": \"1576514\", \"b2\": {\"y\": 3745.4027250468985, \"x\": 2627.479742988546}, \"b1\": {\"y\": 3679.773731927161, \"x\": 1727.7705707040077}}, \"253\": {\"to_node_id\": \"1577020\", \"from_node_id\": \"1576684\", \"b2\": {\"y\": 3823.2954829227556, \"x\": 2728.8970628128327}, \"b1\": {\"y\": 3791.3182764091857, \"x\": 2693.656876042776}}, \"250\": {\"to_node_id\": \"1577022\", \"from_node_id\": \"1577020\", \"b2\": null, \"b1\": null}, \"251\": {\"to_node_id\": \"1577021\", \"from_node_id\": \"1577022\", \"b2\": null, \"b1\": null}, \"256\": {\"to_node_id\": \"1576686\", \"from_node_id\": \"1577021\", \"b2\": {\"y\": 3971.425553937104, \"x\": 2910.1210395424487}, \"b1\": {\"y\": 3934.0276661811313, \"x\": 2861.0363118627347}}, \"257\": {\"to_node_id\": \"1576687\", \"from_node_id\": \"1577021\", \"b2\": {\"y\": 3980.7262047116856, \"x\": 2922.328143684087}, \"b1\": {\"y\": 3936.817861413506, \"x\": 2864.698443105226}}, \"254\": {\"to_node_id\": \"1577020\", \"from_node_id\": \"1576521\", \"b2\": {\"y\": 3822.7470798256522, \"x\": 2728.292700216025}, \"b1\": {\"y\": 3789.4902660855073, \"x\": 2691.642334053416}}, \"255\": {\"to_node_id\": \"1576685\", \"from_node_id\": \"1577021\", \"b2\": {\"y\": 3962.7252091426644, \"x\": 2898.7018369997472}, \"b1\": {\"y\": 3931.4175627427994, \"x\": 2857.610551099924}}}, \"genes\": [{\"bigg_id\": \"b0720\", \"name\": \"gltA\"}], \"reversibility\": false, \"metabolites\": [{\"coefficient\": 1.0, \"bigg_id\": \"coa_c\"}, {\"coefficient\": -1.0, \"bigg_id\": \"oaa_c\"}, {\"coefficient\": 1.0, \"bigg_id\": \"h_c\"}, {\"coefficient\": 1.0, \"bigg_id\": \"cit_c\"}, {\"coefficient\": -1.0, \"bigg_id\": \"accoa_c\"}, {\"coefficient\": -1.0, \"bigg_id\": \"h2o_c\"}], \"label_x\": 2808.0, \"label_y\": 3876.0, \"gene_reaction_rule\": \"b0720\"}, \"1576775\": {\"name\": \"Pyruvate transport in via proton symport\", \"bigg_id\": \"PYRt2\", \"segments\": {\"260\": {\"to_node_id\": \"1577023\", \"from_node_id\": \"1576688\", \"b2\": {\"y\": 3945.0, \"x\": 359.3395402366342}, \"b1\": {\"y\": 3945.0, \"x\": 322.7984674554473}}, \"261\": {\"to_node_id\": \"1577023\", \"from_node_id\": \"1576557\", \"b2\": {\"y\": 3945.0, \"x\": 360.0}, \"b1\": {\"y\": 3945.0, \"x\": 325.0}}, \"263\": {\"to_node_id\": \"1576689\", \"from_node_id\": \"1577024\", \"b2\": {\"y\": 3945.0, \"x\": 697.2015325445527}, \"b1\": {\"y\": 3945.0, \"x\": 660.6604597633658}}, \"262\": {\"to_node_id\": \"1576511\", \"from_node_id\": \"1577024\", \"b2\": {\"y\": 3945.0, \"x\": 850.0}, \"b1\": {\"y\": 3945.0, \"x\": 706.5}}, \"258\": {\"to_node_id\": \"1577025\", \"from_node_id\": \"1577023\", \"b2\": null, \"b1\": null}, \"259\": {\"to_node_id\": \"1577024\", \"from_node_id\": \"1577025\", \"b2\": null, \"b1\": null}}, \"genes\": [], \"reversibility\": true, \"metabolites\": [{\"coefficient\": 1.0, \"bigg_id\": \"pyr_c\"}, {\"coefficient\": 1.0, \"bigg_id\": \"h_c\"}, {\"coefficient\": -1.0, \"bigg_id\": \"pyr_e\"}, {\"coefficient\": -1.0, \"bigg_id\": \"h_e\"}], \"label_x\": 462.6368408203125, \"label_y\": 3908.02490234375, \"gene_reaction_rule\": \"\"}, \"1576772\": {\"name\": \"Glutamate dehydrogenase (NADP)\", \"bigg_id\": \"GLUDy\", \"segments\": {\"238\": {\"to_node_id\": \"1576677\", \"from_node_id\": \"1577014\", \"b2\": {\"y\": 3632.0, \"x\": 4021.2725815852687}, \"b1\": {\"y\": 3632.0, \"x\": 4060.9817744755806}}, \"240\": {\"to_node_id\": \"1576509\", \"from_node_id\": \"1577014\", \"b2\": {\"y\": 3632.0, \"x\": 3911.98117576612}, \"b1\": {\"y\": 3632.0, \"x\": 4028.194352729836}}, \"241\": {\"to_node_id\": \"1576679\", \"from_node_id\": \"1577014\", \"b2\": {\"y\": 3632.0, \"x\": 4036.853918777118}, \"b1\": {\"y\": 3632.0, \"x\": 4065.6561756331353}}, \"239\": {\"to_node_id\": \"1576678\", \"from_node_id\": \"1577014\", \"b2\": {\"y\": 3632.0, \"x\": 4000.5855310681522}, \"b1\": {\"y\": 3632.0, \"x\": 4054.775659320446}}, \"234\": {\"to_node_id\": \"1577014\", \"from_node_id\": \"1577015\", \"b2\": null, \"b1\": null}, \"235\": {\"to_node_id\": \"1577016\", \"from_node_id\": \"1576675\", \"b2\": {\"y\": 3632.0, \"x\": 4133.6977705423415}, \"b1\": {\"y\": 3632.0, \"x\": 4170.325901807804}}, \"236\": {\"to_node_id\": \"1577016\", \"from_node_id\": \"1576554\", \"b2\": {\"y\": 3632.0, \"x\": 4137.5}, \"b1\": {\"y\": 3632.0, \"x\": 4183.0}}, \"237\": {\"to_node_id\": \"1577016\", \"from_node_id\": \"1576676\", \"b2\": {\"y\": 3632.0, \"x\": 4129.669190203266}, \"b1\": {\"y\": 3632.0, \"x\": 4156.897300677553}}, \"233\": {\"to_node_id\": \"1577015\", \"from_node_id\": \"1577016\", \"b2\": null, \"b1\": null}}, \"genes\": [{\"bigg_id\": \"b1761\", \"name\": \"gdhA\"}], \"reversibility\": true, \"metabolites\": [{\"coefficient\": -1.0, \"bigg_id\": \"glu__L_c\"}, {\"coefficient\": -1.0, \"bigg_id\": \"nadp_c\"}, {\"coefficient\": 1.0, \"bigg_id\": \"nh4_c\"}, {\"coefficient\": 1.0, \"bigg_id\": \"h_c\"}, {\"coefficient\": 1.0, \"bigg_id\": \"nadph_c\"}, {\"coefficient\": 1.0, \"bigg_id\": \"akg_c\"}, {\"coefficient\": -1.0, \"bigg_id\": \"h2o_c\"}], \"label_x\": 4025.81298828125, \"label_y\": 3671.95703125, \"gene_reaction_rule\": \"b1761\"}, \"1576773\": {\"name\": \"ATP synthase (four protons for one ATP)\", \"bigg_id\": \"ATPS4r\", \"segments\": {\"245\": {\"to_node_id\": \"1577017\", \"from_node_id\": \"1576681\", \"b2\": {\"y\": 1150.0, \"x\": 4746.487950057818}, \"b1\": {\"y\": 1332.100830078125, \"x\": 4877.134963734394}}, \"244\": {\"to_node_id\": \"1577017\", \"from_node_id\": \"1576680\", \"b2\": {\"y\": 1150.0, \"x\": 4729.0}, \"b1\": {\"y\": 1150.0, \"x\": 4785.0}}, \"247\": {\"to_node_id\": \"1576682\", \"from_node_id\": \"1577018\", \"b2\": {\"y\": 1150.0, \"x\": 4520.0}, \"b1\": {\"y\": 1148.3885498046875, \"x\": 4558.046875}}, \"246\": {\"to_node_id\": \"1577017\", \"from_node_id\": \"1576536\", \"b2\": {\"y\": 1150.0, \"x\": 4796.204440681362}, \"b1\": {\"y\": 1523.8707275390625, \"x\": 4965.504060083706}}, \"243\": {\"to_node_id\": \"1577018\", \"from_node_id\": \"1577019\", \"b2\": null, \"b1\": null}, \"242\": {\"to_node_id\": \"1577019\", \"from_node_id\": \"1577017\", \"b2\": null, \"b1\": null}, \"249\": {\"to_node_id\": \"1576534\", \"from_node_id\": \"1577018\", \"b2\": {\"y\": 1043.64013671875, \"x\": 4324.116846450839}, \"b1\": {\"y\": 1148.3885498046875, \"x\": 4366.332368388376}}, \"248\": {\"to_node_id\": \"1576683\", \"from_node_id\": \"1577018\", \"b2\": {\"y\": 1150.0, \"x\": 4542.7265625}, \"b1\": {\"y\": 1148.388427734375, \"x\": 4575.66162109375}}}, \"genes\": [{\"bigg_id\": \"b3731\", \"name\": \"atpC\"}, {\"bigg_id\": \"b3738\", \"name\": \"atpB\"}, {\"bigg_id\": \"b3733\", \"name\": \"atpG\"}, {\"bigg_id\": \"b3739\", \"name\": \"atpI\"}, {\"bigg_id\": \"b3734\", \"name\": \"atpA\"}, {\"bigg_id\": \"b3736\", \"name\": \"atpF\"}, {\"bigg_id\": \"b3737\", \"name\": \"atpE\"}, {\"bigg_id\": \"b3735\", \"name\": \"atpH\"}, {\"bigg_id\": \"b3732\", \"name\": \"atpD\"}], \"reversibility\": true, \"metabolites\": [{\"coefficient\": -4.0, \"bigg_id\": \"h_e\"}, {\"coefficient\": 1.0, \"bigg_id\": \"atp_c\"}, {\"coefficient\": 3.0, \"bigg_id\": \"h_c\"}, {\"coefficient\": -1.0, \"bigg_id\": \"adp_c\"}, {\"coefficient\": -1.0, \"bigg_id\": \"pi_c\"}, {\"coefficient\": 1.0, \"bigg_id\": \"h2o_c\"}], \"label_x\": 4558.97119140625, \"label_y\": 1122.273193359375, \"gene_reaction_rule\": \"((b3736 and b3737 and b3738) and (b3731 and b3732 and b3733 and b3734 and b3735)) or ((b3736 and b3737 and b3738) and (b3731 and b3732 and b3733 and b3734 and b3735) and b3739)\"}, \"1576770\": {\"name\": \"Fumarate exchange\", \"bigg_id\": \"EX_fum_e\", \"segments\": {\"225\": {\"to_node_id\": \"1577009\", \"from_node_id\": \"1576657\", \"b2\": {\"y\": 560.0, \"x\": 2840.0}, \"b1\": {\"y\": 623.0, \"x\": 2840.0}}}, \"genes\": [], \"reversibility\": false, \"metabolites\": [{\"coefficient\": -1.0, \"bigg_id\": \"fum_e\"}], \"label_x\": 2915.057373046875, \"label_y\": 529.8175659179688, \"gene_reaction_rule\": \"\"}, \"1576771\": {\"name\": \"Succinate transport via proton symport  2 H \", \"bigg_id\": \"SUCCt2_2\", \"segments\": {\"229\": {\"to_node_id\": \"1577013\", \"from_node_id\": \"1576673\", \"b2\": {\"y\": 3027.0, \"x\": 4806.816653826392}, \"b1\": {\"y\": 3027.0, \"x\": 4832.0555127546395}}, \"228\": {\"to_node_id\": \"1577012\", \"from_node_id\": \"1577011\", \"b2\": null, \"b1\": null}, \"227\": {\"to_node_id\": \"1577011\", \"from_node_id\": \"1577013\", \"b2\": null, \"b1\": null}, \"230\": {\"to_node_id\": \"1577013\", \"from_node_id\": \"1576531\", \"b2\": {\"y\": 3027.0, \"x\": 4826.039349194016}, \"b1\": {\"y\": 3027.0, \"x\": 4896.1311639800515}}, \"231\": {\"to_node_id\": \"1576533\", \"from_node_id\": \"1577012\", \"b2\": {\"y\": 3027.0, \"x\": 3972.294403079054}, \"b1\": {\"y\": 3027.0, \"x\": 4366.8883209237165}}, \"232\": {\"to_node_id\": \"1576674\", \"from_node_id\": \"1577012\", \"b2\": {\"y\": 3027.0, \"x\": 4486.0}, \"b1\": {\"y\": 3027.0, \"x\": 4521.0}}}, \"genes\": [{\"bigg_id\": \"b3528\", \"name\": \"dctA\"}], \"reversibility\": false, \"metabolites\": [{\"coefficient\": 1.0, \"bigg_id\": \"succ_c\"}, {\"coefficient\": -1.0, \"bigg_id\": \"succ_e\"}, {\"coefficient\": 2.0, \"bigg_id\": \"h_c\"}, {\"coefficient\": -2.0, \"bigg_id\": \"h_e\"}], \"label_x\": 4501.95703125, \"label_y\": 2997.661865234375, \"gene_reaction_rule\": \"b3528\"}, \"1576708\": {\"name\": \"L-Glutamine exchange\", \"bigg_id\": \"EX_gln__L_e\", \"segments\": {\"365\": {\"to_node_id\": \"1576868\", \"from_node_id\": \"1576537\", \"b2\": {\"y\": 4158.0, \"x\": 4951.0}, \"b1\": {\"y\": 4158.0, \"x\": 4902.7}}}, \"genes\": [], \"reversibility\": false, \"metabolites\": [{\"coefficient\": -1.0, \"bigg_id\": \"gln__L_e\"}], \"label_x\": 4933.3095703125, \"label_y\": 4131.884765625, \"gene_reaction_rule\": \"\"}, \"1576703\": {\"name\": \"Ammonia reversible transport\", \"bigg_id\": \"NH4t\", \"segments\": {\"347\": {\"to_node_id\": \"1576858\", \"from_node_id\": \"1576526\", \"b2\": {\"y\": 4677.5, \"x\": 3989.0}, \"b1\": {\"y\": 4733.15, \"x\": 3989.0}}, \"348\": {\"to_node_id\": \"1576527\", \"from_node_id\": \"1576858\", \"b2\": {\"y\": 4519.5, \"x\": 3989.0}, \"b1\": {\"y\": 4574.45, \"x\": 3989.0}}}, \"genes\": [{\"bigg_id\": \"b0451\", \"name\": \"amtB\"}, {\"bigg_id\": \"s0001\", \"name\": \"None\"}], \"reversibility\": true, \"metabolites\": [{\"coefficient\": -1.0, \"bigg_id\": \"nh4_e\"}, {\"coefficient\": 1.0, \"bigg_id\": \"nh4_c\"}], \"label_x\": 3999.0, \"label_y\": 4588.0, \"gene_reaction_rule\": \"s0001 or b0451\"}, \"1576702\": {\"name\": \"Glucose-6-phosphate isomerase\", \"bigg_id\": \"PGI\", \"segments\": {\"345\": {\"to_node_id\": \"1576857\", \"from_node_id\": \"1576524\", \"b2\": {\"y\": 1330.0, \"x\": 1055.0}, \"b1\": {\"y\": 1284.5, \"x\": 1055.0}}, \"346\": {\"to_node_id\": \"1576525\", \"from_node_id\": \"1576857\", \"b2\": {\"y\": 1470.0, \"x\": 1055.0}, \"b1\": {\"y\": 1417.5, \"x\": 1055.0}}}, \"genes\": [{\"bigg_id\": \"b4025\", \"name\": \"pgi\"}], \"reversibility\": true, \"metabolites\": [{\"coefficient\": -1.0, \"bigg_id\": \"g6p_c\"}, {\"coefficient\": 1.0, \"bigg_id\": \"f6p_c\"}], \"label_x\": 1065.0, \"label_y\": 1385.0, \"gene_reaction_rule\": \"b4025\"}, \"1576701\": {\"name\": \"Enolase\", \"bigg_id\": \"ENO\", \"segments\": {\"344\": {\"to_node_id\": \"1576523\", \"from_node_id\": \"1576855\", \"b2\": {\"y\": 3319.0832691319597, \"x\": 1055.0}, \"b1\": {\"y\": 3281.224980739588, \"x\": 1055.0}}, \"341\": {\"to_node_id\": \"1576856\", \"from_node_id\": \"1576522\", \"b2\": {\"y\": 3175.0, \"x\": 1055.0}, \"b1\": {\"y\": 3173.322021484375, \"x\": 1055.0}}, \"342\": {\"to_node_id\": \"1576855\", \"from_node_id\": \"1576856\", \"b2\": null, \"b1\": null}, \"343\": {\"to_node_id\": \"1576517\", \"from_node_id\": \"1576855\", \"b2\": {\"y\": 3320.0, \"x\": 1055.0}, \"b1\": {\"y\": 3281.5, \"x\": 1055.0}}}, \"genes\": [{\"bigg_id\": \"b2779\", \"name\": \"eno\"}], \"reversibility\": true, \"metabolites\": [{\"coefficient\": 1.0, \"bigg_id\": \"pep_c\"}, {\"coefficient\": 1.0, \"bigg_id\": \"h2o_c\"}, {\"coefficient\": -1.0, \"bigg_id\": \"2pg_c\"}], \"label_x\": 1065.0, \"label_y\": 3215.0, \"gene_reaction_rule\": \"b2779\"}, \"1576700\": {\"name\": \"Phosphoenolpyruvate carboxylase\", \"bigg_id\": \"PPC\", \"segments\": {\"339\": {\"to_node_id\": \"1576520\", \"from_node_id\": \"1576853\", \"b2\": {\"y\": 3552.157197214914, \"x\": 1572.3763206054002}, \"b1\": {\"y\": 3528.947159164474, \"x\": 1516.81289618162}}, \"338\": {\"to_node_id\": \"1576519\", \"from_node_id\": \"1576853\", \"b2\": {\"y\": 3543.994528732819, \"x\": 1552.8353869664456}, \"b1\": {\"y\": 3526.498358619846, \"x\": 1510.9506160899336}}, \"335\": {\"to_node_id\": \"1576854\", \"from_node_id\": \"1576516\", \"b2\": {\"y\": 3452.2308899862983, \"x\": 1334.4013835391315}, \"b1\": {\"y\": 3438.769633287661, \"x\": 1302.6712784637714}}, \"334\": {\"to_node_id\": \"1576853\", \"from_node_id\": \"1576852\", \"b2\": null, \"b1\": null}, \"337\": {\"to_node_id\": \"1576854\", \"from_node_id\": \"1576518\", \"b2\": {\"y\": 3447.322871456709, \"x\": 1322.8324827193853}, \"b1\": {\"y\": 3422.409571522363, \"x\": 1264.1082757312843}}, \"336\": {\"to_node_id\": \"1576854\", \"from_node_id\": \"1576517\", \"b2\": {\"y\": 3440.1599283734054, \"x\": 1305.9484025944557}, \"b1\": {\"y\": 3398.5330945780183, \"x\": 1207.828008648186}}, \"333\": {\"to_node_id\": \"1576852\", \"from_node_id\": \"1576854\", \"b2\": null, \"b1\": null}, \"340\": {\"to_node_id\": \"1576521\", \"from_node_id\": \"1576853\", \"b2\": {\"y\": 3691.624192938869, \"x\": 2580.289220436279}, \"b1\": {\"y\": 3708.0419942097856, \"x\": 1966.279649431665}}}, \"genes\": [{\"bigg_id\": \"b3956\", \"name\": \"ppc\"}], \"reversibility\": false, \"metabolites\": [{\"coefficient\": -1.0, \"bigg_id\": \"h2o_c\"}, {\"coefficient\": 1.0, \"bigg_id\": \"oaa_c\"}, {\"coefficient\": 1.0, \"bigg_id\": \"h_c\"}, {\"coefficient\": -1.0, \"bigg_id\": \"pep_c\"}, {\"coefficient\": 1.0, \"bigg_id\": \"pi_c\"}, {\"coefficient\": -1.0, \"bigg_id\": \"co2_c\"}], \"label_x\": 1490.0008544921875, \"label_y\": 3479.666748046875, \"gene_reaction_rule\": \"b3956\"}, \"1576707\": {\"name\": \"Adenylate kinase\", \"bigg_id\": \"ADK1\", \"segments\": {\"364\": {\"to_node_id\": \"1576867\", \"from_node_id\": \"1576535\", \"b2\": {\"y\": 1177.1034937162894, \"x\": 4145.0}, \"b1\": {\"y\": 1123.6783123876312, \"x\": 4145.0}}, \"362\": {\"to_node_id\": \"1576536\", \"from_node_id\": \"1576866\", \"b2\": {\"y\": 1441.4029541015625, \"x\": 4146.15869140625}, \"b1\": {\"y\": 1352.2913818359375, \"x\": 4145.83056640625}}, \"363\": {\"to_node_id\": \"1576867\", \"from_node_id\": \"1576534\", \"b2\": {\"y\": 1173.8036262051405, \"x\": 4145.0}, \"b1\": {\"y\": 1112.6787540171351, \"x\": 4145.0}}, \"361\": {\"to_node_id\": \"1576866\", \"from_node_id\": \"1576867\", \"b2\": null, \"b1\": null}}, \"genes\": [{\"bigg_id\": \"b0474\", \"name\": \"adk\"}], \"reversibility\": true, \"metabolites\": [{\"coefficient\": -1.0, \"bigg_id\": \"amp_c\"}, {\"coefficient\": -1.0, \"bigg_id\": \"atp_c\"}, {\"coefficient\": 2.0, \"bigg_id\": \"adp_c\"}], \"label_x\": 3997.07177734375, \"label_y\": 1251.6114501953125, \"gene_reaction_rule\": \"b0474\"}, \"1576706\": {\"name\": \"Isocitrate lyase\", \"bigg_id\": \"ICL\", \"segments\": {\"357\": {\"to_node_id\": \"1576865\", \"from_node_id\": \"1576505\", \"b2\": {\"y\": 3916.5, \"x\": 3415.0}, \"b1\": {\"y\": 3958.15, \"x\": 3413.6}}, \"360\": {\"to_node_id\": \"1576533\", \"from_node_id\": \"1576864\", \"b2\": {\"y\": 3316.4974972260998, \"x\": 3417.0}, \"b1\": {\"y\": 3631.14924916783, \"x\": 3417.0}}, \"359\": {\"to_node_id\": \"1576532\", \"from_node_id\": \"1576864\", \"b2\": {\"y\": 3612.2266277927156, \"x\": 3417.0}, \"b1\": {\"y\": 3719.8679883378145, \"x\": 3417.0}}, \"358\": {\"to_node_id\": \"1576864\", \"from_node_id\": \"1576865\", \"b2\": null, \"b1\": null}}, \"genes\": [{\"bigg_id\": \"b4015\", \"name\": \"aceA\"}], \"reversibility\": false, \"metabolites\": [{\"coefficient\": 1.0, \"bigg_id\": \"succ_c\"}, {\"coefficient\": 1.0, \"bigg_id\": \"glx_c\"}, {\"coefficient\": -1.0, \"bigg_id\": \"icit_c\"}], \"label_x\": 3427.0, \"label_y\": 3847.0, \"gene_reaction_rule\": \"b4015\"}, \"1576705\": {\"name\": \"Succinate exchange\", \"bigg_id\": \"EX_succ_e\", \"segments\": {\"355\": {\"to_node_id\": \"1576863\", \"from_node_id\": \"1576531\", \"b2\": {\"y\": 2880.0, \"x\": 4978.5}, \"b1\": {\"y\": 2880.0, \"x\": 4945.95}}}, \"genes\": [], \"reversibility\": false, \"metabolites\": [{\"coefficient\": -1.0, \"bigg_id\": \"succ_e\"}], \"label_x\": 4968.927734375, \"label_y\": 2845.8271484375, \"gene_reaction_rule\": \"\"}, \"1576704\": {\"name\": \"Fructose-bisphosphatase\", \"bigg_id\": \"FBP\", \"segments\": {\"354\": {\"to_node_id\": \"1576530\", \"from_node_id\": \"1576860\", \"b2\": {\"y\": 1600.9687576256715, \"x\": 835.0}, \"b1\": {\"y\": 1645.7906272877015, \"x\": 835.0}}, \"353\": {\"to_node_id\": \"1576525\", \"from_node_id\": \"1576860\", \"b2\": {\"y\": 1539.7003591385833, \"x\": 835.0}, \"b1\": {\"y\": 1627.410107741575, \"x\": 835.0}}, \"352\": {\"to_node_id\": \"1576861\", \"from_node_id\": \"1576529\", \"b2\": {\"y\": 1805.8044115262064, \"x\": 835.0}, \"b1\": {\"y\": 1901.0147050873545, \"x\": 835.0}}, \"351\": {\"to_node_id\": \"1576861\", \"from_node_id\": \"1576528\", \"b2\": {\"y\": 1782.1026313764871, \"x\": 835.0}, \"b1\": {\"y\": 1822.0087712549569, \"x\": 835.0}}, \"350\": {\"to_node_id\": \"1576860\", \"from_node_id\": \"1576859\", \"b2\": null, \"b1\": null}, \"349\": {\"to_node_id\": \"1576859\", \"from_node_id\": \"1576861\", \"b2\": null, \"b1\": null}}, \"genes\": [{\"bigg_id\": \"b4232\", \"name\": \"fbp\"}, {\"bigg_id\": \"b3925\", \"name\": \"glpX\"}], \"reversibility\": false, \"metabolites\": [{\"coefficient\": -1.0, \"bigg_id\": \"fdp_c\"}, {\"coefficient\": -1.0, \"bigg_id\": \"h2o_c\"}, {\"coefficient\": 1.0, \"bigg_id\": \"pi_c\"}, {\"coefficient\": 1.0, \"bigg_id\": \"f6p_c\"}], \"label_x\": 751.3809814453125, \"label_y\": 1733.561767578125, \"gene_reaction_rule\": \"b3925 or b4232\"}, \"1577548\": {\"name\": \"Aconitase (half-reaction A, Citrate hydro-lyase)\", \"bigg_id\": \"ACONTa\", \"segments\": {\"511\": {\"to_node_id\": \"1576685\", \"from_node_id\": \"1577099\", \"b2\": {\"y\": 4010.3555557486548, \"x\": 3025.1432055426353}, \"b1\": {\"y\": 4012.0956406322803, \"x\": 3025.7810749583687}}, \"507\": {\"to_node_id\": \"1577100\", \"from_node_id\": \"1577099\", \"b2\": null, \"b1\": null}, \"510\": {\"to_node_id\": \"1577103\", \"from_node_id\": \"1577101\", \"b2\": {\"y\": 4045.94073519232, \"x\": 3126.6630443215304}, \"b1\": {\"y\": 4044.2013827305695, \"x\": 3108.646756937047}}, \"508\": {\"to_node_id\": \"1577100\", \"from_node_id\": \"1577101\", \"b2\": null, \"b1\": null}, \"509\": {\"to_node_id\": \"1577102\", \"from_node_id\": \"1577101\", \"b2\": {\"y\": 3993.9154608910203, \"x\": 3112.4765239553985}, \"b1\": {\"y\": 4044.558477078102, \"x\": 3125.4142208172407}}}, \"genes\": [{\"bigg_id\": \"b0118\", \"name\": \"acnB\"}, {\"bigg_id\": \"b1276\", \"name\": \"acnA\"}], \"reversibility\": true, \"metabolites\": [{\"coefficient\": -1.0, \"bigg_id\": \"cit_c\"}, {\"coefficient\": 1.0, \"bigg_id\": \"h2o_c\"}, {\"coefficient\": 1.0, \"bigg_id\": \"acon_C_c\"}], \"label_x\": 2982.991259697708, \"label_y\": 4088.6436288689247, \"gene_reaction_rule\": \"b0118 or b1276\"}, \"1577549\": {\"name\": \"Aconitase (half-reaction B, Isocitrate hydro-lyase)\", \"bigg_id\": \"ACONTb\", \"segments\": {\"513\": {\"to_node_id\": \"1577105\", \"from_node_id\": \"1577106\", \"b2\": null, \"b1\": null}, \"512\": {\"to_node_id\": \"1577105\", \"from_node_id\": \"1577104\", \"b2\": null, \"b1\": null}, \"515\": {\"to_node_id\": \"1576505\", \"from_node_id\": \"1577106\", \"b2\": {\"y\": 4013.1918298584474, \"x\": 3345.4226198631072}, \"b1\": {\"y\": 4014.8024620364417, \"x\": 3344.105236291347}}, \"514\": {\"to_node_id\": \"1577102\", \"from_node_id\": \"1577104\", \"b2\": {\"y\": 3991.5491179659602, \"x\": 3266.0226278968735}, \"b1\": {\"y\": 4044.360816430351, \"x\": 3261.354277099013}}, \"516\": {\"to_node_id\": \"1577103\", \"from_node_id\": \"1577104\", \"b2\": {\"y\": 4046.222560627323, \"x\": 3260.813883986344}, \"b1\": {\"y\": 4046.056264386829, \"x\": 3262.862957011229}}}, \"genes\": [{\"bigg_id\": \"b1276\", \"name\": \"acnA\"}, {\"bigg_id\": \"b0118\", \"name\": \"acnB\"}], \"reversibility\": true, \"metabolites\": [{\"coefficient\": 1.0, \"bigg_id\": \"icit_c\"}, {\"coefficient\": -1.0, \"bigg_id\": \"h2o_c\"}, {\"coefficient\": -1.0, \"bigg_id\": \"acon_C_c\"}], \"label_x\": 3291.833217745038, \"label_y\": 4081.35343547726, \"gene_reaction_rule\": \"b0118 or b1276\"}, \"1577546\": {\"name\": \"D lactate transport via proton symport\", \"bigg_id\": \"D_LACt2\", \"segments\": {\"476\": {\"to_node_id\": \"1577068\", \"from_node_id\": \"1577067\", \"b2\": null, \"b1\": null}, \"477\": {\"to_node_id\": \"1577068\", \"from_node_id\": \"1577069\", \"b2\": null, \"b1\": null}, \"478\": {\"to_node_id\": \"1576556\", \"from_node_id\": \"1577067\", \"b2\": {\"y\": 4736.89501953125, \"x\": 1054.9998779296875}, \"b1\": {\"y\": 4692.98193359375, \"x\": 1055.0}}, \"479\": {\"to_node_id\": \"1577071\", \"from_node_id\": \"1577067\", \"b2\": {\"y\": 4715.98193359375, \"x\": 1076.0}, \"b1\": {\"y\": 4696.98193359375, \"x\": 1055.0}}, \"481\": {\"to_node_id\": \"1577072\", \"from_node_id\": \"1577069\", \"b2\": {\"y\": 4451.7353515625, \"x\": 1074.4132080078125}, \"b1\": {\"y\": 4470.7353515625, \"x\": 1053.4132080078125}}, \"480\": {\"to_node_id\": \"1576584\", \"from_node_id\": \"1577069\", \"b2\": {\"y\": 4413.36767578125, \"x\": 1055.0}, \"b1\": {\"y\": 4474.7353515625, \"x\": 1053.4132080078125}}}, \"genes\": [{\"bigg_id\": \"b3603\", \"name\": \"lldP\"}, {\"bigg_id\": \"b2975\", \"name\": \"glcA\"}], \"reversibility\": true, \"metabolites\": [{\"coefficient\": -1.0, \"bigg_id\": \"lac__D_e\"}, {\"coefficient\": 1.0, \"bigg_id\": \"h_c\"}, {\"coefficient\": 1.0, \"bigg_id\": \"lac__D_c\"}, {\"coefficient\": -1.0, \"bigg_id\": \"h_e\"}], \"label_x\": 1078.65283203125, \"label_y\": 4609.72607421875, \"gene_reaction_rule\": \"b2975 or b3603\"}, \"1576711\": {\"name\": \"Transaldolase\", \"bigg_id\": \"TALA\", \"segments\": {\"369\": {\"to_node_id\": \"1576872\", \"from_node_id\": \"1576873\", \"b2\": null, \"b1\": null}, \"371\": {\"to_node_id\": \"1576873\", \"from_node_id\": \"1576545\", \"b2\": {\"y\": 1856.1727017464573, \"x\": 2173.815906732547}, \"b1\": {\"y\": 1892.1518443631908, \"x\": 2283.184776999114}}, \"370\": {\"to_node_id\": \"1576874\", \"from_node_id\": \"1576872\", \"b2\": null, \"b1\": null}, \"373\": {\"to_node_id\": \"1576547\", \"from_node_id\": \"1576874\", \"b2\": {\"y\": 2171.7496092324754, \"x\": 2178.0}, \"b1\": {\"y\": 2076.976957965055, \"x\": 2178.0}}, \"372\": {\"to_node_id\": \"1576873\", \"from_node_id\": \"1576546\", \"b2\": {\"y\": 1856.1728238167698, \"x\": 2175.402576654422}, \"b1\": {\"y\": 1890.5651744413158, \"x\": 2064.2112662569266}}, \"374\": {\"to_node_id\": \"1576548\", \"from_node_id\": \"1576874\", \"b2\": {\"y\": 2170.2455578331073, \"x\": 2178.000244140625}, \"b1\": {\"y\": 2077.4778177405574, \"x\": 2178.0}}}, \"genes\": [{\"bigg_id\": \"b2464\", \"name\": \"talA\"}, {\"bigg_id\": \"b0008\", \"name\": \"talB\"}], \"reversibility\": true, \"metabolites\": [{\"coefficient\": -1.0, \"bigg_id\": \"s7p_c\"}, {\"coefficient\": -1.0, \"bigg_id\": \"g3p_c\"}, {\"coefficient\": 1.0, \"bigg_id\": \"f6p_c\"}, {\"coefficient\": 1.0, \"bigg_id\": \"e4p_c\"}], \"label_x\": 2197.5205078125, \"label_y\": 2008.8013916015625, \"gene_reaction_rule\": \"b2464 or b0008\"}, \"1576712\": {\"name\": \"Pyruvate kinase\", \"bigg_id\": \"PYK\", \"segments\": {\"380\": {\"to_node_id\": \"1576511\", \"from_node_id\": \"1576877\", \"b2\": {\"y\": 3845.0, \"x\": 1055.0}, \"b1\": {\"y\": 3775.0, \"x\": 1055.0}}, \"381\": {\"to_node_id\": \"1576551\", \"from_node_id\": \"1576877\", \"b2\": {\"y\": 3802.008771254957, \"x\": 1055.0}, \"b1\": {\"y\": 3762.102631376487, \"x\": 1055.0}}, \"379\": {\"to_node_id\": \"1576875\", \"from_node_id\": \"1576517\", \"b2\": {\"y\": 3613.0, \"x\": 1055.0}, \"b1\": {\"y\": 3515.0, \"x\": 1055.0}}, \"378\": {\"to_node_id\": \"1576875\", \"from_node_id\": \"1576550\", \"b2\": {\"y\": 3634.8195639293895, \"x\": 1055.0}, \"b1\": {\"y\": 3587.7318797646312, \"x\": 1055.0}}, \"375\": {\"to_node_id\": \"1576876\", \"from_node_id\": \"1576875\", \"b2\": null, \"b1\": null}, \"377\": {\"to_node_id\": \"1576875\", \"from_node_id\": \"1576549\", \"b2\": {\"y\": 3640.769750529242, \"x\": 1055.0}, \"b1\": {\"y\": 3607.5658350974745, \"x\": 1055.0}}, \"376\": {\"to_node_id\": \"1576877\", \"from_node_id\": \"1576876\", \"b2\": null, \"b1\": null}}, \"genes\": [{\"bigg_id\": \"b1854\", \"name\": \"pykA\"}, {\"bigg_id\": \"b1676\", \"name\": \"pykF\"}], \"reversibility\": false, \"metabolites\": [{\"coefficient\": -1.0, \"bigg_id\": \"pep_c\"}, {\"coefficient\": -1.0, \"bigg_id\": \"adp_c\"}, {\"coefficient\": 1.0, \"bigg_id\": \"pyr_c\"}, {\"coefficient\": 1.0, \"bigg_id\": \"atp_c\"}, {\"coefficient\": -1.0, \"bigg_id\": \"h_c\"}], \"label_x\": 1065.0, \"label_y\": 3695.0, \"gene_reaction_rule\": \"b1854 or b1676\"}, \"1576713\": {\"name\": \"L glutamate transport via proton symport  reversible\", \"bigg_id\": \"GLUt2r\", \"segments\": {\"382\": {\"to_node_id\": \"1576878\", \"from_node_id\": \"1576880\", \"b2\": null, \"b1\": null}, \"383\": {\"to_node_id\": \"1576879\", \"from_node_id\": \"1576878\", \"b2\": null, \"b1\": null}, \"384\": {\"to_node_id\": \"1576880\", \"from_node_id\": \"1576552\", \"b2\": {\"y\": 3635.0, \"x\": 4794.600721137178}, \"b1\": {\"y\": 3635.0, \"x\": 4831.002403790594}}, \"385\": {\"to_node_id\": \"1576880\", \"from_node_id\": \"1576553\", \"b2\": {\"y\": 3635.0, \"x\": 4791.314625451064}, \"b1\": {\"y\": 3635.0, \"x\": 4820.0487515035475}}, \"386\": {\"to_node_id\": \"1576554\", \"from_node_id\": \"1576879\", \"b2\": {\"y\": 3635.0, \"x\": 4394.492321020364}, \"b1\": {\"y\": 3635.0, \"x\": 4497.047696306109}}, \"387\": {\"to_node_id\": \"1576555\", \"from_node_id\": \"1576879\", \"b2\": {\"y\": 3635.0, \"x\": 4499.835695074495}, \"b1\": {\"y\": 3635.0, \"x\": 4528.650708522348}}}, \"genes\": [{\"bigg_id\": \"b4077\", \"name\": \"gltP\"}], \"reversibility\": true, \"metabolites\": [{\"coefficient\": 1.0, \"bigg_id\": \"glu__L_c\"}, {\"coefficient\": 1.0, \"bigg_id\": \"h_c\"}, {\"coefficient\": -1.0, \"bigg_id\": \"glu__L_e\"}, {\"coefficient\": -1.0, \"bigg_id\": \"h_e\"}], \"label_x\": 4655.0, \"label_y\": 3625.0, \"gene_reaction_rule\": \"b4077\"}, \"1576714\": {\"name\": \"D-lactate exchange\", \"bigg_id\": \"EX_lac__D_e\", \"segments\": {\"388\": {\"to_node_id\": \"1576881\", \"from_node_id\": \"1576556\", \"b2\": {\"y\": 4880.0, \"x\": 1055.0}, \"b1\": {\"y\": 4861.19384765625, \"x\": 1055.0}}}, \"genes\": [], \"reversibility\": false, \"metabolites\": [{\"coefficient\": -1.0, \"bigg_id\": \"lac__D_e\"}], \"label_x\": 1065.0, \"label_y\": 4915.0, \"gene_reaction_rule\": \"\"}, \"1576715\": {\"name\": \"Pyruvate exchange\", \"bigg_id\": \"EX_pyr_e\", \"segments\": {\"390\": {\"to_node_id\": \"1576884\", \"from_node_id\": \"1576557\", \"b2\": {\"y\": 3945.0, \"x\": 215.0}, \"b1\": {\"y\": 3945.0, \"x\": 257.0}}}, \"genes\": [], \"reversibility\": false, \"metabolites\": [{\"coefficient\": -1.0, \"bigg_id\": \"pyr_e\"}], \"label_x\": 96.76921081542969, \"label_y\": 3904.851318359375, \"gene_reaction_rule\": \"\"}, \"1576716\": {\"name\": \"Ribulose 5-phosphate 3-epimerase\", \"bigg_id\": \"RPE\", \"segments\": {\"393\": {\"to_node_id\": \"1576558\", \"from_node_id\": \"1576885\", \"b2\": {\"y\": 1485.0, \"x\": 1995.0}, \"b1\": {\"y\": 1436.0, \"x\": 2030.0}}, \"392\": {\"to_node_id\": \"1576885\", \"from_node_id\": \"1576493\", \"b2\": {\"y\": 1340.0, \"x\": 2100.0}, \"b1\": {\"y\": 1287.5, \"x\": 2138.5}}}, \"genes\": [{\"bigg_id\": \"b4301\", \"name\": \"sgcE\"}, {\"bigg_id\": \"b3386\", \"name\": \"rpe\"}], \"reversibility\": true, \"metabolites\": [{\"coefficient\": 1.0, \"bigg_id\": \"xu5p__D_c\"}, {\"coefficient\": -1.0, \"bigg_id\": \"ru5p__D_c\"}], \"label_x\": 1937.57958984375, \"label_y\": 1422.4544677734375, \"gene_reaction_rule\": \"b3386 or b4301\"}, \"1576717\": {\"name\": \"H+ exchange\", \"bigg_id\": \"EX_h_e\", \"segments\": {\"394\": {\"to_node_id\": \"1576887\", \"from_node_id\": \"1576559\", \"b2\": {\"y\": 2229.5, \"x\": 4918.0}, \"b1\": {\"y\": 2229.15, \"x\": 4870.4}}}, \"genes\": [], \"reversibility\": true, \"metabolites\": [{\"coefficient\": -1.0, \"bigg_id\": \"h_e\"}], \"label_x\": 4920.2587890625, \"label_y\": 2195.827392578125, \"gene_reaction_rule\": \"\"}, \"1576761\": {\"name\": \"Glutamate synthase (NADPH)\", \"bigg_id\": \"GLUSy\", \"segments\": {\"184\": {\"to_node_id\": \"1576554\", \"from_node_id\": \"1576987\", \"b2\": {\"y\": 3721.4298613416263, \"x\": 4116.0}, \"b1\": {\"y\": 3810.0289584024877, \"x\": 4116.0}}, \"182\": {\"to_node_id\": \"1576986\", \"from_node_id\": \"1576655\", \"b2\": {\"y\": 3907.2123007471773, \"x\": 4116.0}, \"b1\": {\"y\": 3952.041002490592, \"x\": 4116.0}}, \"183\": {\"to_node_id\": \"1576656\", \"from_node_id\": \"1576987\", \"b2\": {\"y\": 3790.445677833893, \"x\": 4116.0}, \"b1\": {\"y\": 3830.733703350168, \"x\": 4116.0}}, \"180\": {\"to_node_id\": \"1576986\", \"from_node_id\": \"1576654\", \"b2\": {\"y\": 3902.6240384299276, \"x\": 4116.0}, \"b1\": {\"y\": 3936.7467947664254, \"x\": 4116.0}}, \"181\": {\"to_node_id\": \"1576986\", \"from_node_id\": \"1576578\", \"b2\": {\"y\": 3924.538472874492, \"x\": 4116.0}, \"b1\": {\"y\": 4009.7949095816407, \"x\": 4116.0}}, \"179\": {\"to_node_id\": \"1576986\", \"from_node_id\": \"1576509\", \"b2\": {\"y\": 4155.746259618145, \"x\": 4119.22314453125}, \"b1\": {\"y\": 4145.014875810485, \"x\": 3943.568359375}}, \"178\": {\"to_node_id\": \"1576987\", \"from_node_id\": \"1576988\", \"b2\": null, \"b1\": null}, \"177\": {\"to_node_id\": \"1576988\", \"from_node_id\": \"1576986\", \"b2\": null, \"b1\": null}}, \"genes\": [{\"bigg_id\": \"b3212\", \"name\": \"gltB\"}, {\"bigg_id\": \"b3213\", \"name\": \"gltD\"}], \"reversibility\": false, \"metabolites\": [{\"coefficient\": 2.0, \"bigg_id\": \"glu__L_c\"}, {\"coefficient\": 1.0, \"bigg_id\": \"nadp_c\"}, {\"coefficient\": -1.0, \"bigg_id\": \"h_c\"}, {\"coefficient\": -1.0, \"bigg_id\": \"nadph_c\"}, {\"coefficient\": -1.0, \"bigg_id\": \"gln__L_c\"}, {\"coefficient\": -1.0, \"bigg_id\": \"akg_c\"}], \"label_x\": 3984.18701171875, \"label_y\": 3851.553955078125, \"gene_reaction_rule\": \"b3212 and b3213\"}, \"1577490\": {\"name\": \"Acetaldehyde dehydrogenase (acetylating)\", \"bigg_id\": \"ACALD\", \"segments\": {\"280\": {\"to_node_id\": \"1576812\", \"from_node_id\": \"1577033\", \"b2\": {\"y\": 3945.0, \"x\": 1918.1029079843004}, \"b1\": {\"y\": 3945.0, \"x\": 1961.4308723952902}}, \"273\": {\"to_node_id\": \"1577032\", \"from_node_id\": \"1577031\", \"b2\": null, \"b1\": null}, \"274\": {\"to_node_id\": \"1577033\", \"from_node_id\": \"1577032\", \"b2\": null, \"b1\": null}, \"275\": {\"to_node_id\": \"1577031\", \"from_node_id\": \"1576817\", \"b2\": {\"y\": 3945.0, \"x\": 2065.5}, \"b1\": {\"y\": 3945.0, \"x\": 2125.0}}, \"276\": {\"to_node_id\": \"1577031\", \"from_node_id\": \"1576825\", \"b2\": {\"y\": 3945.0, \"x\": 2058.56912760471}, \"b1\": {\"y\": 3945.0, \"x\": 2101.8970920157}}, \"277\": {\"to_node_id\": \"1577031\", \"from_node_id\": \"1576828\", \"b2\": {\"y\": 3945.0, \"x\": 2053.52081728299}, \"b1\": {\"y\": 3945.0, \"x\": 2085.0693909433}}, \"278\": {\"to_node_id\": \"1576514\", \"from_node_id\": \"1577033\", \"b2\": {\"y\": 3945.0, \"x\": 1847.5}, \"b1\": {\"y\": 3945.0, \"x\": 1940.25}}, \"279\": {\"to_node_id\": \"1576832\", \"from_node_id\": \"1577033\", \"b2\": {\"y\": 3945.0, \"x\": 1934.9306090567002}, \"b1\": {\"y\": 3945.0, \"x\": 1966.47918271701}}}, \"genes\": [{\"bigg_id\": \"b1241\", \"name\": \"adhE\"}, {\"bigg_id\": \"b0351\", \"name\": \"mhpF\"}], \"reversibility\": true, \"metabolites\": [{\"coefficient\": 1.0, \"bigg_id\": \"nadh_c\"}, {\"coefficient\": -1.0, \"bigg_id\": \"coa_c\"}, {\"coefficient\": -1.0, \"bigg_id\": \"acald_c\"}, {\"coefficient\": 1.0, \"bigg_id\": \"h_c\"}, {\"coefficient\": -1.0, \"bigg_id\": \"nad_c\"}, {\"coefficient\": 1.0, \"bigg_id\": \"accoa_c\"}], \"label_x\": 1939.0750732421875, \"label_y\": 3998.470458984375, \"gene_reaction_rule\": \"b0351 or b1241\"}, \"1577497\": {\"name\": \"Acetaldehyde reversible transport\", \"bigg_id\": \"ACALDt\", \"segments\": {\"281\": {\"to_node_id\": \"1577034\", \"from_node_id\": \"1576815\", \"b2\": {\"y\": 4707.0, \"x\": 2210.0}, \"b1\": {\"y\": 4796.55283203125, \"x\": 2210.0}}, \"282\": {\"to_node_id\": \"1576817\", \"from_node_id\": \"1577034\", \"b2\": {\"y\": 4257.5, \"x\": 2210.0}, \"b1\": {\"y\": 4476.25, \"x\": 2210.0}}}, \"genes\": [{\"bigg_id\": \"s0001\", \"name\": \"None\"}], \"reversibility\": true, \"metabolites\": [{\"coefficient\": 1.0, \"bigg_id\": \"acald_c\"}, {\"coefficient\": -1.0, \"bigg_id\": \"acald_e\"}], \"label_x\": 2248.561767578125, \"label_y\": 4579.041015625, \"gene_reaction_rule\": \"s0001\"}, \"1577498\": {\"name\": \"Acetaldehyde exchange\", \"bigg_id\": \"EX_acald_e\", \"segments\": {\"283\": {\"to_node_id\": \"1577035\", \"from_node_id\": \"1576815\", \"b2\": {\"y\": 4894.0, \"x\": 2210.5}, \"b1\": {\"y\": 4889.1484375, \"x\": 2210.15}}}, \"genes\": [], \"reversibility\": false, \"metabolites\": [{\"coefficient\": -1.0, \"bigg_id\": \"acald_e\"}], \"label_x\": 2227.346923828125, \"label_y\": 4922.892578125, \"gene_reaction_rule\": \"\"}, \"1576724\": {\"name\": \"Glutamine synthetase\", \"bigg_id\": \"GLNS\", \"segments\": {\"424\": {\"to_node_id\": \"1576578\", \"from_node_id\": \"1576899\", \"b2\": {\"y\": 4007.2677048056653, \"x\": 4364.0}, \"b1\": {\"y\": 3924.4803114416995, \"x\": 4364.0}}, \"421\": {\"to_node_id\": \"1576901\", \"from_node_id\": \"1576554\", \"b2\": {\"y\": 3812.091159595566, \"x\": 4364.0}, \"b1\": {\"y\": 3725.970531985219, \"x\": 4364.0}}, \"420\": {\"to_node_id\": \"1576899\", \"from_node_id\": \"1576900\", \"b2\": null, \"b1\": null}, \"423\": {\"to_node_id\": \"1576901\", \"from_node_id\": \"1576577\", \"b2\": {\"y\": 3835.8273009599397, \"x\": 4364.0}, \"b1\": {\"y\": 3805.0910031997996, \"x\": 4364.0}}, \"422\": {\"to_node_id\": \"1576901\", \"from_node_id\": \"1576576\", \"b2\": {\"y\": 3830.8679841164862, \"x\": 4364.0}, \"b1\": {\"y\": 3788.5599470549537, \"x\": 4364.0}}, \"425\": {\"to_node_id\": \"1576579\", \"from_node_id\": \"1576899\", \"b2\": {\"y\": 3936.762432936357, \"x\": 4364.0}, \"b1\": {\"y\": 3903.3287298809073, \"x\": 4364.0}}, \"419\": {\"to_node_id\": \"1576900\", \"from_node_id\": \"1576901\", \"b2\": null, \"b1\": null}, \"427\": {\"to_node_id\": \"1576581\", \"from_node_id\": \"1576899\", \"b2\": {\"y\": 3978.617241644675, \"x\": 4364.0}, \"b1\": {\"y\": 3915.8851724934025, \"x\": 4364.0}}, \"426\": {\"to_node_id\": \"1576580\", \"from_node_id\": \"1576899\", \"b2\": {\"y\": 3956.314560089181, \"x\": 4364.0}, \"b1\": {\"y\": 3909.1943680267545, \"x\": 4364.0}}}, \"genes\": [{\"bigg_id\": \"b3870\", \"name\": \"glnA\"}, {\"bigg_id\": \"b1297\", \"name\": \"puuA\"}], \"reversibility\": false, \"metabolites\": [{\"coefficient\": -1.0, \"bigg_id\": \"glu__L_c\"}, {\"coefficient\": -1.0, \"bigg_id\": \"atp_c\"}, {\"coefficient\": -1.0, \"bigg_id\": \"nh4_c\"}, {\"coefficient\": 1.0, \"bigg_id\": \"h_c\"}, {\"coefficient\": 1.0, \"bigg_id\": \"adp_c\"}, {\"coefficient\": 1.0, \"bigg_id\": \"pi_c\"}, {\"coefficient\": 1.0, \"bigg_id\": \"gln__L_c\"}], \"label_x\": 4377.22314453125, \"label_y\": 3875.114990234375, \"gene_reaction_rule\": \"b3870 or b1297\"}, \"1576727\": {\"name\": \"2-Oxogluterate dehydrogenase\", \"bigg_id\": \"AKGDH\", \"segments\": {\"443\": {\"to_node_id\": \"1576908\", \"from_node_id\": \"1576585\", \"b2\": {\"y\": 3494.907757737772, \"x\": 3779.4266247023934}, \"b1\": {\"y\": 3529.6925257925727, \"x\": 3778.088749007978}}, \"442\": {\"to_node_id\": \"1576908\", \"from_node_id\": \"1576509\", \"b2\": {\"y\": 3502.6153909632244, \"x\": 3779.130177270645}, \"b1\": {\"y\": 3555.384636544082, \"x\": 3777.1005909021505}}, \"441\": {\"to_node_id\": \"1576910\", \"from_node_id\": \"1576909\", \"b2\": null, \"b1\": null}, \"440\": {\"to_node_id\": \"1576909\", \"from_node_id\": \"1576908\", \"b2\": null, \"b1\": null}, \"447\": {\"to_node_id\": \"1576588\", \"from_node_id\": \"1576910\", \"b2\": {\"y\": 3276.99346892041, \"x\": 3770.846587256151}, \"b1\": {\"y\": 3314.098040676123, \"x\": 3774.453976176845}}, \"446\": {\"to_node_id\": \"1576587\", \"from_node_id\": \"1576910\", \"b2\": {\"y\": 3277.236984619066, \"x\": 3770.8702623935205}, \"b1\": {\"y\": 3314.1710953857196, \"x\": 3774.4610787180563}}, \"445\": {\"to_node_id\": \"1576570\", \"from_node_id\": \"1576910\", \"b2\": {\"y\": 3259.378766045427, \"x\": 3769.134046698861}, \"b1\": {\"y\": 3308.813629813628, \"x\": 3773.940214009658}}, \"444\": {\"to_node_id\": \"1576908\", \"from_node_id\": \"1576586\", \"b2\": {\"y\": 3498.5402671676266, \"x\": 3779.2869128012453}, \"b1\": {\"y\": 3541.8008905587553, \"x\": 3777.623042670817}}}, \"genes\": [{\"bigg_id\": \"b0116\", \"name\": \"lpd\"}, {\"bigg_id\": \"b0726\", \"name\": \"sucA\"}, {\"bigg_id\": \"b0727\", \"name\": \"sucB\"}], \"reversibility\": false, \"metabolites\": [{\"coefficient\": 1.0, \"bigg_id\": \"nadh_c\"}, {\"coefficient\": -1.0, \"bigg_id\": \"coa_c\"}, {\"coefficient\": -1.0, \"bigg_id\": \"nad_c\"}, {\"coefficient\": 1.0, \"bigg_id\": \"co2_c\"}, {\"coefficient\": 1.0, \"bigg_id\": \"succoa_c\"}, {\"coefficient\": -1.0, \"bigg_id\": \"akg_c\"}], \"label_x\": 3793.0, \"label_y\": 3392.0, \"gene_reaction_rule\": \"b0116 and b0726 and b0727\"}, \"1576726\": {\"name\": \"NAD transhydrogenase\", \"bigg_id\": \"NADTRHD\", \"segments\": {\"438\": {\"to_node_id\": \"1576496\", \"from_node_id\": \"1576905\", \"b2\": {\"y\": 1270.0, \"x\": 3400.0}, \"b1\": {\"y\": 1270.0, \"x\": 3449.0}}, \"439\": {\"to_node_id\": \"1576497\", \"from_node_id\": \"1576905\", \"b2\": {\"y\": 1270.0, \"x\": 3418.3388104489154}, \"b1\": {\"y\": 1270.0, \"x\": 3446.2829175487373}}, \"436\": {\"to_node_id\": \"1576906\", \"from_node_id\": \"1576501\", \"b2\": {\"y\": 1270.0, \"x\": 3592.9455878111676}, \"b1\": {\"y\": 1270.0001220703125, \"x\": 3627.146913797642}}, \"437\": {\"to_node_id\": \"1576906\", \"from_node_id\": \"1576500\", \"b2\": {\"y\": 1270.0, \"x\": 3595.5}, \"b1\": {\"y\": 1270.0, \"x\": 3655.0}}, \"434\": {\"to_node_id\": \"1576907\", \"from_node_id\": \"1576906\", \"b2\": null, \"b1\": null}, \"435\": {\"to_node_id\": \"1576905\", \"from_node_id\": \"1576907\", \"b2\": null, \"b1\": null}}, \"genes\": [{\"bigg_id\": \"b1602\", \"name\": \"pntB\"}, {\"bigg_id\": \"b3962\", \"name\": \"sthA\"}, {\"bigg_id\": \"b1603\", \"name\": \"pntA\"}], \"reversibility\": false, \"metabolites\": [{\"coefficient\": 1.0, \"bigg_id\": \"nadh_c\"}, {\"coefficient\": 1.0, \"bigg_id\": \"nadp_c\"}, {\"coefficient\": -1.0, \"bigg_id\": \"nad_c\"}, {\"coefficient\": -1.0, \"bigg_id\": \"nadph_c\"}], \"label_x\": 3478.431396484375, \"label_y\": 1319.6259765625, \"gene_reaction_rule\": \"b3962 or (b1602 and b1603)\"}, \"1576721\": {\"name\": \"Phosphofructokinase\", \"bigg_id\": \"PFK\", \"segments\": {\"407\": {\"to_node_id\": \"1576893\", \"from_node_id\": \"1576572\", \"b2\": {\"y\": 1674.9065411518764, \"x\": 1055.0}, \"b1\": {\"y\": 1639.6884705062548, \"x\": 1055.0}}, \"406\": {\"to_node_id\": \"1576893\", \"from_node_id\": \"1576525\", \"b2\": {\"y\": 1668.25, \"x\": 1055.0}, \"b1\": {\"y\": 1617.5, \"x\": 1055.0}}, \"405\": {\"to_node_id\": \"1576892\", \"from_node_id\": \"1576891\", \"b2\": null, \"b1\": null}, \"404\": {\"to_node_id\": \"1576891\", \"from_node_id\": \"1576893\", \"b2\": null, \"b1\": null}, \"410\": {\"to_node_id\": \"1576574\", \"from_node_id\": \"1576892\", \"b2\": {\"y\": 1835.2079728939614, \"x\": 1055.0}, \"b1\": {\"y\": 1793.0623918681883, \"x\": 1055.0}}, \"409\": {\"to_node_id\": \"1576529\", \"from_node_id\": \"1576892\", \"b2\": {\"y\": 1850.0, \"x\": 1055.0}, \"b1\": {\"y\": 1797.5, \"x\": 1055.0}}, \"408\": {\"to_node_id\": \"1576573\", \"from_node_id\": \"1576892\", \"b2\": {\"y\": 1822.4341649025257, \"x\": 1055.0}, \"b1\": {\"y\": 1789.2302494707578, \"x\": 1055.0}}}, \"genes\": [{\"bigg_id\": \"b1723\", \"name\": \"pfkB\"}, {\"bigg_id\": \"b3916\", \"name\": \"pfkA\"}], \"reversibility\": false, \"metabolites\": [{\"coefficient\": 1.0, \"bigg_id\": \"h_c\"}, {\"coefficient\": 1.0, \"bigg_id\": \"adp_c\"}, {\"coefficient\": -1.0, \"bigg_id\": \"f6p_c\"}, {\"coefficient\": -1.0, \"bigg_id\": \"atp_c\"}, {\"coefficient\": 1.0, \"bigg_id\": \"fdp_c\"}], \"label_x\": 1065.0, \"label_y\": 1725.0, \"gene_reaction_rule\": \"b3916 or b1723\"}, \"1576720\": {\"name\": \"Succinyl-CoA synthetase (ADP-forming)\", \"bigg_id\": \"SUCOAS\", \"segments\": {\"397\": {\"to_node_id\": \"1576890\", \"from_node_id\": \"1576888\", \"b2\": null, \"b1\": null}, \"396\": {\"to_node_id\": \"1576888\", \"from_node_id\": \"1576889\", \"b2\": null, \"b1\": null}, \"401\": {\"to_node_id\": \"1576569\", \"from_node_id\": \"1576890\", \"b2\": {\"y\": 3112.853617863234, \"x\": 3706.5785261677484}, \"b1\": {\"y\": 3077.95608535897, \"x\": 3678.1735578503244}}, \"400\": {\"to_node_id\": \"1576889\", \"from_node_id\": \"1576533\", \"b2\": {\"y\": 2954.5162418879845, \"x\": 3567.004509117803}, \"b1\": {\"y\": 2904.387472959949, \"x\": 3518.015030392677}}, \"403\": {\"to_node_id\": \"1576571\", \"from_node_id\": \"1576890\", \"b2\": {\"y\": 3107.574578569538, \"x\": 3702.2816337193913}, \"b1\": {\"y\": 3076.3723735708613, \"x\": 3676.8844901158172}}, \"399\": {\"to_node_id\": \"1576889\", \"from_node_id\": \"1576568\", \"b2\": {\"y\": 2964.923830429043, \"x\": 3577.1755615556553}, \"b1\": {\"y\": 2939.079434763476, \"x\": 3551.9185385188516}}, \"398\": {\"to_node_id\": \"1576889\", \"from_node_id\": \"1576567\", \"b2\": {\"y\": 2962.1615434463, \"x\": 3574.4760538225205}, \"b1\": {\"y\": 2929.871811487667, \"x\": 3542.920179408402}}, \"402\": {\"to_node_id\": \"1576570\", \"from_node_id\": \"1576890\", \"b2\": {\"y\": 3120.815793594307, \"x\": 3713.059366879087}, \"b1\": {\"y\": 3080.344738078292, \"x\": 3680.117810063726}}}, \"genes\": [{\"bigg_id\": \"b0729\", \"name\": \"sucD\"}, {\"bigg_id\": \"b0728\", \"name\": \"sucC\"}], \"reversibility\": true, \"metabolites\": [{\"coefficient\": -1.0, \"bigg_id\": \"coa_c\"}, {\"coefficient\": 1.0, \"bigg_id\": \"adp_c\"}, {\"coefficient\": -1.0, \"bigg_id\": \"succ_c\"}, {\"coefficient\": -1.0, \"bigg_id\": \"atp_c\"}, {\"coefficient\": 1.0, \"bigg_id\": \"succoa_c\"}, {\"coefficient\": 1.0, \"bigg_id\": \"pi_c\"}], \"label_x\": 3641.0, \"label_y\": 3010.0, \"gene_reaction_rule\": \"b0728 and b0729\"}, \"1576723\": {\"name\": \"Transketolase\", \"bigg_id\": \"TKT2\", \"segments\": {\"414\": {\"to_node_id\": \"1576898\", \"from_node_id\": \"1576896\", \"b2\": null, \"b1\": null}, \"415\": {\"to_node_id\": \"1576897\", \"from_node_id\": \"1576547\", \"b2\": {\"y\": 1735.0, \"x\": 1772.8736958157247}, \"b1\": {\"y\": 1735.0, \"x\": 1954.5789860524153}}, \"416\": {\"to_node_id\": \"1576897\", \"from_node_id\": \"1576558\", \"b2\": {\"y\": 1735.0, \"x\": 1741.208765402248}, \"b1\": {\"y\": 1735.0, \"x\": 1849.0292180074937}}, \"417\": {\"to_node_id\": \"1576525\", \"from_node_id\": \"1576898\", \"b2\": {\"y\": 1587.43115234375, \"x\": 1280.4546812716637}, \"b1\": {\"y\": 1741.3470458984375, \"x\": 1235.776382408843}}, \"413\": {\"to_node_id\": \"1576896\", \"from_node_id\": \"1576897\", \"b2\": null, \"b1\": null}, \"418\": {\"to_node_id\": \"1576575\", \"from_node_id\": \"1576898\", \"b2\": {\"y\": 1735.0, \"x\": 1312.7516245895065}, \"b1\": {\"y\": 1735.0, \"x\": 1318.2979239002893}}}, \"genes\": [{\"bigg_id\": \"b2465\", \"name\": \"tktB\"}, {\"bigg_id\": \"b2935\", \"name\": \"tktA\"}], \"reversibility\": true, \"metabolites\": [{\"coefficient\": -1.0, \"bigg_id\": \"xu5p__D_c\"}, {\"coefficient\": -1.0, \"bigg_id\": \"e4p_c\"}, {\"coefficient\": 1.0, \"bigg_id\": \"g3p_c\"}, {\"coefficient\": 1.0, \"bigg_id\": \"f6p_c\"}], \"label_x\": 1520.71923828125, \"label_y\": 1702.785400390625, \"gene_reaction_rule\": \"b2935 or b2465\"}, \"1576722\": {\"name\": \"L-Glutamate exchange\", \"bigg_id\": \"EX_glu__L_e\", \"segments\": {\"411\": {\"to_node_id\": \"1576895\", \"from_node_id\": \"1576552\", \"b2\": {\"y\": 3635.0, \"x\": 4949.0}, \"b1\": {\"y\": 3634.3, \"x\": 4902.8}}}, \"genes\": [], \"reversibility\": false, \"metabolites\": [{\"coefficient\": -1.0, \"bigg_id\": \"glu__L_e\"}], \"label_x\": 4936.36669921875, \"label_y\": 3680.79150390625, \"gene_reaction_rule\": \"\"}, \"1576729\": {\"name\": \"O2 exchange\", \"bigg_id\": \"EX_o2_e\", \"segments\": {\"454\": {\"to_node_id\": \"1576914\", \"from_node_id\": \"1576494\", \"b2\": {\"y\": 1660.0, \"x\": 4910.0}, \"b1\": {\"y\": 1660.0, \"x\": 4868.0}}}, \"genes\": [], \"reversibility\": true, \"metabolites\": [{\"coefficient\": -1.0, \"bigg_id\": \"o2_e\"}], \"label_x\": 4894.58984375, \"label_y\": 1633.8848876953125, \"gene_reaction_rule\": \"\"}, \"1576728\": {\"name\": \"Pyruvate formate lyase\", \"bigg_id\": \"PFL\", \"segments\": {\"449\": {\"to_node_id\": \"1576913\", \"from_node_id\": \"1576911\", \"b2\": null, \"b1\": null}, \"448\": {\"to_node_id\": \"1576911\", \"from_node_id\": \"1576912\", \"b2\": null, \"b1\": null}, \"450\": {\"to_node_id\": \"1576912\", \"from_node_id\": \"1576589\", \"b2\": {\"y\": 3995.0, \"x\": 1239.5565547885194}, \"b1\": {\"y\": 3995.0, \"x\": 1203.521849295065}}, \"451\": {\"to_node_id\": \"1576912\", \"from_node_id\": \"1576511\", \"b2\": {\"y\": 3995.0, \"x\": 1224.0767078078675}, \"b1\": {\"y\": 3995.0, \"x\": 1151.9223593595584}}, \"452\": {\"to_node_id\": \"1576514\", \"from_node_id\": \"1576913\", \"b2\": {\"y\": 3995.0, \"x\": 1567.0690632574556}, \"b1\": {\"y\": 3995.0, \"x\": 1460.6207189772367}}, \"453\": {\"to_node_id\": \"1576590\", \"from_node_id\": \"1576913\", \"b2\": {\"y\": 3995.0, \"x\": 1469.8292804986534}, \"b1\": {\"y\": 3995.0, \"x\": 1431.4487841495961}}}, \"genes\": [{\"bigg_id\": \"b3114\", \"name\": \"tdcE\"}, {\"bigg_id\": \"b3951\", \"name\": \"pflD\"}, {\"bigg_id\": \"b3952\", \"name\": \"pflC\"}, {\"bigg_id\": \"b0903\", \"name\": \"pflB\"}, {\"bigg_id\": \"b0902\", \"name\": \"pflA\"}, {\"bigg_id\": \"b2579\", \"name\": \"grcA\"}], \"reversibility\": false, \"metabolites\": [{\"coefficient\": -1.0, \"bigg_id\": \"pyr_c\"}, {\"coefficient\": -1.0, \"bigg_id\": \"coa_c\"}, {\"coefficient\": 1.0, \"bigg_id\": \"accoa_c\"}, {\"coefficient\": 1.0, \"bigg_id\": \"for_c\"}], \"label_x\": 1310.09130859375, \"label_y\": 4046.8837890625, \"gene_reaction_rule\": \"((b0902 and b0903) and b2579) or (b0902 and b0903) or (b0902 and b3114) or (b3951 and b3952)\"}, \"1577532\": {\"name\": \"Malate transport via proton symport  2 H \", \"bigg_id\": \"MALt2_2\", \"segments\": {\"33\": {\"to_node_id\": \"1577056\", \"from_node_id\": \"1576831\", \"b2\": {\"y\": 720.0576036932963, \"x\": 2610.0}, \"b1\": {\"y\": 682.8586789776543, \"x\": 2610.0}}, \"32\": {\"to_node_id\": \"1577058\", \"from_node_id\": \"1577057\", \"b2\": null, \"b1\": null}, \"31\": {\"to_node_id\": \"1577057\", \"from_node_id\": \"1577056\", \"b2\": null, \"b1\": null}, \"36\": {\"to_node_id\": \"1576504\", \"from_node_id\": \"1577058\", \"b2\": {\"y\": 2086.013675322326, \"x\": 2610.0}, \"b1\": {\"y\": 1311.8041025966977, \"x\": 2610.0}}, \"35\": {\"to_node_id\": \"1576810\", \"from_node_id\": \"1577058\", \"b2\": {\"y\": 1032.2015325445527, \"x\": 2610.0}, \"b1\": {\"y\": 995.6604597633658, \"x\": 2610.0}}, \"34\": {\"to_node_id\": \"1577056\", \"from_node_id\": \"1576816\", \"b2\": {\"y\": 723.1, \"x\": 2610.0}, \"b1\": {\"y\": 693.0, \"x\": 2610.0}}}, \"genes\": [{\"bigg_id\": \"b3528\", \"name\": \"dctA\"}], \"reversibility\": false, \"metabolites\": [{\"coefficient\": 1.0, \"bigg_id\": \"mal__L_c\"}, {\"coefficient\": 2.0, \"bigg_id\": \"h_c\"}, {\"coefficient\": -1.0, \"bigg_id\": \"mal__L_e\"}, {\"coefficient\": -2.0, \"bigg_id\": \"h_e\"}], \"label_x\": 2623.173583984375, \"label_y\": 844.3793334960938, \"gene_reaction_rule\": \"b3528\"}, \"1577537\": {\"name\": \"L-Malate exchange\", \"bigg_id\": \"EX_mal__L_e\", \"segments\": {\"37\": {\"to_node_id\": \"1577059\", \"from_node_id\": \"1576816\", \"b2\": {\"y\": 560.0, \"x\": 2610.0}, \"b1\": {\"y\": 623.0, \"x\": 2610.0}}}, \"genes\": [], \"reversibility\": false, \"metabolites\": [{\"coefficient\": -1.0, \"bigg_id\": \"mal__L_e\"}], \"label_x\": 2356.597412109375, \"label_y\": 513.949951171875, \"gene_reaction_rule\": \"\"}, \"1576732\": {\"name\": \"2 oxoglutarate reversible transport via symport\", \"bigg_id\": \"AKGt2r\", \"segments\": {\"469\": {\"to_node_id\": \"1576924\", \"from_node_id\": \"1576923\", \"b2\": null, \"b1\": null}, \"472\": {\"to_node_id\": \"1576923\", \"from_node_id\": \"1576599\", \"b2\": {\"y\": 3228.0, \"x\": 4807.306616216525}, \"b1\": {\"y\": 3228.0, \"x\": 4843.0220540550845}}, \"473\": {\"to_node_id\": \"1576509\", \"from_node_id\": \"1576922\", \"b2\": {\"y\": 3228.0, \"x\": 4074.584218822}, \"b1\": {\"y\": 3228.0, \"x\": 4373.7752656466}}, \"470\": {\"to_node_id\": \"1576922\", \"from_node_id\": \"1576924\", \"b2\": null, \"b1\": null}, \"471\": {\"to_node_id\": \"1576923\", \"from_node_id\": \"1576598\", \"b2\": {\"y\": 3228.0, \"x\": 4811.5}, \"b1\": {\"y\": 3228.0, \"x\": 4857.0}}, \"474\": {\"to_node_id\": \"1576600\", \"from_node_id\": \"1576922\", \"b2\": {\"y\": 3228.0, \"x\": 4449.798467455447}, \"b1\": {\"y\": 3228.0, \"x\": 4486.339540236634}}}, \"genes\": [{\"bigg_id\": \"b2587\", \"name\": \"kgtP\"}], \"reversibility\": true, \"metabolites\": [{\"coefficient\": -1.0, \"bigg_id\": \"h_e\"}, {\"coefficient\": 1.0, \"bigg_id\": \"akg_c\"}, {\"coefficient\": -1.0, \"bigg_id\": \"akg_e\"}, {\"coefficient\": 1.0, \"bigg_id\": \"h_c\"}], \"label_x\": 4594.6474609375, \"label_y\": 3197.05029296875, \"gene_reaction_rule\": \"b2587\"}, \"1576733\": {\"name\": \"Fructose-bisphosphate aldolase\", \"bigg_id\": \"FBA\", \"segments\": {\"55\": {\"to_node_id\": \"1576601\", \"from_node_id\": \"1576925\", \"b2\": {\"y\": 2081.141357421875, \"x\": 929.645751953125}, \"b1\": {\"y\": 2082.5, \"x\": 1055.0}}, \"54\": {\"to_node_id\": \"1576575\", \"from_node_id\": \"1576925\", \"b2\": {\"y\": 2120.0, \"x\": 1055.0}, \"b1\": {\"y\": 2067.5, \"x\": 1055.0}}, \"53\": {\"to_node_id\": \"1576925\", \"from_node_id\": \"1576926\", \"b2\": null, \"b1\": null}, \"475\": {\"to_node_id\": \"1576926\", \"from_node_id\": \"1576529\", \"b2\": {\"y\": 1974.28076171875, \"x\": 1055.0}, \"b1\": {\"y\": 1970.4088134765625, \"x\": 1055.0}}}, \"genes\": [{\"bigg_id\": \"b2097\", \"name\": \"fbaB\"}, {\"bigg_id\": \"b2925\", \"name\": \"fbaA\"}, {\"bigg_id\": \"b1773\", \"name\": \"ydjI\"}], \"reversibility\": true, \"metabolites\": [{\"coefficient\": 1.0, \"bigg_id\": \"dhap_c\"}, {\"coefficient\": 1.0, \"bigg_id\": \"g3p_c\"}, {\"coefficient\": -1.0, \"bigg_id\": \"fdp_c\"}], \"label_x\": 969.7942504882812, \"label_y\": 2031.01611328125, \"gene_reaction_rule\": \"b2097 or b1773 or b2925\"}, \"1576730\": {\"name\": \"Phosphoenolpyruvate carboxykinase\", \"bigg_id\": \"PPCK\", \"segments\": {\"458\": {\"to_node_id\": \"1576917\", \"from_node_id\": \"1576591\", \"b2\": {\"y\": 3557.6148705803193, \"x\": 1495.4573041787805}, \"b1\": {\"y\": 3566.049568601064, \"x\": 1519.8576805959353}}, \"459\": {\"to_node_id\": \"1576917\", \"from_node_id\": \"1576521\", \"b2\": {\"y\": 3678.777694102544, \"x\": 1757.8986662821364}, \"b1\": {\"y\": 3758.886258987647, \"x\": 2521.6033016696215}}, \"461\": {\"to_node_id\": \"1576593\", \"from_node_id\": \"1576918\", \"b2\": {\"y\": 3483.931701701515, \"x\": 1277.7951051045454}, \"b1\": {\"y\": 3497.2795105104547, \"x\": 1317.8385315313635}}, \"460\": {\"to_node_id\": \"1576592\", \"from_node_id\": \"1576918\", \"b2\": {\"y\": 3492.675272400688, \"x\": 1304.0258172020633}, \"b1\": {\"y\": 3499.9025817202064, \"x\": 1325.707745160619}}, \"456\": {\"to_node_id\": \"1576916\", \"from_node_id\": \"1576917\", \"b2\": null, \"b1\": null}, \"457\": {\"to_node_id\": \"1576918\", \"from_node_id\": \"1576916\", \"b2\": null, \"b1\": null}, \"462\": {\"to_node_id\": \"1576517\", \"from_node_id\": \"1576918\", \"b2\": {\"y\": 3454.321462634956, \"x\": 1188.9643879048676}, \"b1\": {\"y\": 3488.3964387904866, \"x\": 1291.1893163714603}}}, \"genes\": [{\"bigg_id\": \"b3403\", \"name\": \"pck\"}], \"reversibility\": false, \"metabolites\": [{\"coefficient\": 1.0, \"bigg_id\": \"pep_c\"}, {\"coefficient\": -1.0, \"bigg_id\": \"atp_c\"}, {\"coefficient\": -1.0, \"bigg_id\": \"oaa_c\"}, {\"coefficient\": 1.0, \"bigg_id\": \"co2_c\"}, {\"coefficient\": 1.0, \"bigg_id\": \"adp_c\"}], \"label_x\": 1377.3328857421875, \"label_y\": 3600.33447265625, \"gene_reaction_rule\": \"b3403\"}, \"1576731\": {\"name\": \"Phosphate reversible transport via symport\", \"bigg_id\": \"PIt2r\", \"segments\": {\"468\": {\"to_node_id\": \"1576597\", \"from_node_id\": \"1576919\", \"b2\": {\"y\": 4475.0, \"x\": 2880.0}, \"b1\": {\"y\": 4506.5, \"x\": 2880.0}}, \"465\": {\"to_node_id\": \"1576921\", \"from_node_id\": \"1576594\", \"b2\": {\"y\": 4742.1, \"x\": 2880.0}, \"b1\": {\"y\": 4782.0, \"x\": 2880.0}}, \"464\": {\"to_node_id\": \"1576919\", \"from_node_id\": \"1576920\", \"b2\": null, \"b1\": null}, \"467\": {\"to_node_id\": \"1576596\", \"from_node_id\": \"1576919\", \"b2\": {\"y\": 4464.789040942943, \"x\": 2880.0}, \"b1\": {\"y\": 4503.436712282883, \"x\": 2880.0}}, \"466\": {\"to_node_id\": \"1576921\", \"from_node_id\": \"1576595\", \"b2\": {\"y\": 4740.280870394058, \"x\": 2880.0}, \"b1\": {\"y\": 4775.936234646861, \"x\": 2880.0}}, \"463\": {\"to_node_id\": \"1576920\", \"from_node_id\": \"1576921\", \"b2\": null, \"b1\": null}}, \"genes\": [{\"bigg_id\": \"b3493\", \"name\": \"pitA\"}, {\"bigg_id\": \"b2987\", \"name\": \"pitB\"}], \"reversibility\": true, \"metabolites\": [{\"coefficient\": -1.0, \"bigg_id\": \"h_e\"}, {\"coefficient\": 1.0, \"bigg_id\": \"h_c\"}, {\"coefficient\": 1.0, \"bigg_id\": \"pi_c\"}, {\"coefficient\": -1.0, \"bigg_id\": \"pi_e\"}], \"label_x\": 2916.97509765625, \"label_y\": 4649.33837890625, \"gene_reaction_rule\": \"b2987 or b3493\"}, \"1576736\": {\"name\": \"Ribose-5-phosphate isomerase\", \"bigg_id\": \"RPI\", \"segments\": {\"66\": {\"to_node_id\": \"1576931\", \"from_node_id\": \"1576605\", \"b2\": {\"y\": 1490.0, \"x\": 2362.0}, \"b1\": {\"y\": 1535.5, \"x\": 2401.9}}, \"67\": {\"to_node_id\": \"1576493\", \"from_node_id\": \"1576931\", \"b2\": {\"y\": 1345.0, \"x\": 2230.0}, \"b1\": {\"y\": 1401.0, \"x\": 2282.5}}}, \"genes\": [{\"bigg_id\": \"b2914\", \"name\": \"rpiA\"}, {\"bigg_id\": \"b4090\", \"name\": \"rpiB\"}], \"reversibility\": true, \"metabolites\": [{\"coefficient\": 1.0, \"bigg_id\": \"ru5p__D_c\"}, {\"coefficient\": -1.0, \"bigg_id\": \"r5p_c\"}], \"label_x\": 2315.0, \"label_y\": 1415.0, \"gene_reaction_rule\": \"b2914 or b4090\"}, \"1576737\": {\"name\": \"Malate synthase\", \"bigg_id\": \"MALS\", \"segments\": {\"75\": {\"to_node_id\": \"1576504\", \"from_node_id\": \"1576932\", \"b2\": {\"y\": 3264.9901959981144, \"x\": 2733.0283686781227}, \"b1\": {\"y\": 3318.197058799434, \"x\": 2810.0085106034367}}, \"74\": {\"to_node_id\": \"1576609\", \"from_node_id\": \"1576932\", \"b2\": {\"y\": 3288.6581354094164, \"x\": 2767.2713448476666}, \"b1\": {\"y\": 3325.297440622825, \"x\": 2820.2814034543}}, \"73\": {\"to_node_id\": \"1576608\", \"from_node_id\": \"1576932\", \"b2\": {\"y\": 3305.691868266011, \"x\": 2791.915894512527}, \"b1\": {\"y\": 3330.4075604798036, \"x\": 2827.674768353758}}, \"72\": {\"to_node_id\": \"1576933\", \"from_node_id\": \"1576607\", \"b2\": {\"y\": 3460.23788356471, \"x\": 3016.1884971205427}, \"b1\": {\"y\": 3495.7929452157005, \"x\": 3067.961657068476}}, \"71\": {\"to_node_id\": \"1576933\", \"from_node_id\": \"1576606\", \"b2\": {\"y\": 3455.108224908018, \"x\": 3008.7189941643073}, \"b1\": {\"y\": 3478.694083026728, \"x\": 3043.063313881025}}, \"70\": {\"to_node_id\": \"1576933\", \"from_node_id\": \"1576532\", \"b2\": {\"y\": 3464.029731004742, \"x\": 3021.7099591823435}, \"b1\": {\"y\": 3508.4324366824735, \"x\": 3086.3665306078124}}, \"68\": {\"to_node_id\": \"1576934\", \"from_node_id\": \"1576933\", \"b2\": null, \"b1\": null}, \"69\": {\"to_node_id\": \"1576932\", \"from_node_id\": \"1576934\", \"b2\": null, \"b1\": null}}, \"genes\": [{\"bigg_id\": \"b2976\", \"name\": \"glcB\"}, {\"bigg_id\": \"b4014\", \"name\": \"aceB\"}], \"reversibility\": false, \"metabolites\": [{\"coefficient\": 1.0, \"bigg_id\": \"coa_c\"}, {\"coefficient\": 1.0, \"bigg_id\": \"h_c\"}, {\"coefficient\": 1.0, \"bigg_id\": \"mal__L_c\"}, {\"coefficient\": -1.0, \"bigg_id\": \"accoa_c\"}, {\"coefficient\": -1.0, \"bigg_id\": \"h2o_c\"}, {\"coefficient\": -1.0, \"bigg_id\": \"glx_c\"}], \"label_x\": 2921.0, \"label_y\": 3378.0, \"gene_reaction_rule\": \"b4014 or b2976\"}, \"1576734\": {\"name\": \"Triose-phosphate isomerase\", \"bigg_id\": \"TPI\", \"segments\": {\"57\": {\"to_node_id\": \"1576575\", \"from_node_id\": \"1576927\", \"b2\": {\"y\": 2195.0, \"x\": 1005.0}, \"b1\": {\"y\": 2195.0, \"x\": 970.0}}, \"56\": {\"to_node_id\": \"1576927\", \"from_node_id\": \"1576601\", \"b2\": {\"y\": 2195.0, \"x\": 911.3470458984375}, \"b1\": {\"y\": 2195.0, \"x\": 911.255859375}}}, \"genes\": [{\"bigg_id\": \"b3919\", \"name\": \"tpiA\"}], \"reversibility\": true, \"metabolites\": [{\"coefficient\": -1.0, \"bigg_id\": \"dhap_c\"}, {\"coefficient\": 1.0, \"bigg_id\": \"g3p_c\"}], \"label_x\": 936.438232421875, \"label_y\": 2245.297119140625, \"gene_reaction_rule\": \"b3919\"}, \"1576735\": {\"name\": \"Cytochrome oxidase bd (ubiquinol-8: 2 protons)\", \"bigg_id\": \"CYTBD\", \"segments\": {\"59\": {\"to_node_id\": \"1576929\", \"from_node_id\": \"1576928\", \"b2\": null, \"b1\": null}, \"58\": {\"to_node_id\": \"1576928\", \"from_node_id\": \"1576930\", \"b2\": null, \"b1\": null}, \"60\": {\"to_node_id\": \"1576930\", \"from_node_id\": \"1576602\", \"b2\": {\"y\": 1900.0, \"x\": 4595.5}, \"b1\": {\"y\": 1895.1654052734375, \"x\": 4416.69775390625}}, \"61\": {\"to_node_id\": \"1576930\", \"from_node_id\": \"1576495\", \"b2\": {\"y\": 1900.0, \"x\": 4572.371881863104}, \"b1\": {\"y\": 1900.0, \"x\": 4437.906272877015}}, \"62\": {\"to_node_id\": \"1576930\", \"from_node_id\": \"1576542\", \"b2\": {\"y\": 1900.0, \"x\": 4581.906341374356}, \"b1\": {\"y\": 1890.3310546875, \"x\": 4368.162902237436}}, \"63\": {\"to_node_id\": \"1576539\", \"from_node_id\": \"1576929\", \"b2\": {\"y\": 1903.22314453125, \"x\": 4842.38515985191}, \"b1\": {\"y\": 1900.0, \"x\": 4715.894014752448}}, \"64\": {\"to_node_id\": \"1576603\", \"from_node_id\": \"1576929\", \"b2\": {\"y\": 1900.0, \"x\": 4775.0}, \"b1\": {\"y\": 1900.0, \"x\": 4715.5}}, \"65\": {\"to_node_id\": \"1576604\", \"from_node_id\": \"1576929\", \"b2\": {\"y\": 1758.1868896484375, \"x\": 4884.545828600423}, \"b1\": {\"y\": 1901.611572265625, \"x\": 4821.203885298877}}}, \"genes\": [{\"bigg_id\": \"b0978\", \"name\": \"cbdA\"}, {\"bigg_id\": \"b0734\", \"name\": \"cydB\"}, {\"bigg_id\": \"b0979\", \"name\": \"cbdB\"}, {\"bigg_id\": \"b0733\", \"name\": \"cydA\"}], \"reversibility\": false, \"metabolites\": [{\"coefficient\": -0.5, \"bigg_id\": \"o2_c\"}, {\"coefficient\": 1.0, \"bigg_id\": \"q8_c\"}, {\"coefficient\": 2.0, \"bigg_id\": \"h_e\"}, {\"coefficient\": -1.0, \"bigg_id\": \"q8h2_c\"}, {\"coefficient\": -2.0, \"bigg_id\": \"h_c\"}, {\"coefficient\": 1.0, \"bigg_id\": \"h2o_c\"}], \"label_x\": 4560.4169921875, \"label_y\": 1954.46044921875, \"gene_reaction_rule\": \"(b0978 and b0979) or (b0733 and b0734)\"}, \"1576739\": {\"name\": \"Phosphotransacetylase\", \"bigg_id\": \"PTAr\", \"segments\": {\"77\": {\"to_node_id\": \"1576936\", \"from_node_id\": \"1576937\", \"b2\": null, \"b1\": null}, \"76\": {\"to_node_id\": \"1576937\", \"from_node_id\": \"1576935\", \"b2\": null, \"b1\": null}, \"80\": {\"to_node_id\": \"1576613\", \"from_node_id\": \"1576936\", \"b2\": {\"y\": 4140.0, \"x\": 1715.0}, \"b1\": {\"y\": 4115.5, \"x\": 1715.0}}, \"81\": {\"to_node_id\": \"1576614\", \"from_node_id\": \"1576936\", \"b2\": {\"y\": 4157.201532544553, \"x\": 1715.0}, \"b1\": {\"y\": 4120.660459763366, \"x\": 1715.0}}, \"79\": {\"to_node_id\": \"1576935\", \"from_node_id\": \"1576612\", \"b2\": {\"y\": 4049.339540236634, \"x\": 1715.0}, \"b1\": {\"y\": 4012.7984674554473, \"x\": 1715.0}}, \"78\": {\"to_node_id\": \"1576935\", \"from_node_id\": \"1576514\", \"b2\": {\"y\": 4047.0, \"x\": 1715.0}, \"b1\": {\"y\": 4005.0, \"x\": 1715.0}}}, \"genes\": [{\"bigg_id\": \"b2297\", \"name\": \"pta\"}, {\"bigg_id\": \"b2458\", \"name\": \"eutD\"}], \"reversibility\": true, \"metabolites\": [{\"coefficient\": -1.0, \"bigg_id\": \"accoa_c\"}, {\"coefficient\": 1.0, \"bigg_id\": \"actp_c\"}, {\"coefficient\": -1.0, \"bigg_id\": \"pi_c\"}, {\"coefficient\": 1.0, \"bigg_id\": \"coa_c\"}], \"label_x\": 1725.0, \"label_y\": 4075.0, \"gene_reaction_rule\": \"b2297 or b2458\"}, \"1577529\": {\"name\": \"D-Fructose exchange\", \"bigg_id\": \"EX_fru_e\", \"segments\": {\"29\": {\"to_node_id\": \"1577054\", \"from_node_id\": \"1576826\", \"b2\": {\"y\": 1360.0, \"x\": 241.0}, \"b1\": {\"y\": 1360.0, \"x\": 282.3}}}, \"genes\": [], \"reversibility\": false, \"metabolites\": [{\"coefficient\": -1.0, \"bigg_id\": \"fru_e\"}], \"label_x\": 125.35597229003906, \"label_y\": 1321.438232421875, \"gene_reaction_rule\": \"\"}, \"1577520\": {\"name\": \"Fumarate reductase\", \"bigg_id\": \"FRD7\", \"segments\": {\"20\": {\"to_node_id\": \"1577048\", \"from_node_id\": \"1576830\", \"b2\": {\"y\": 2600.0, \"x\": 3057.152680682408}, \"b1\": {\"y\": 2600.0, \"x\": 3003.842268941361}}, \"21\": {\"to_node_id\": \"1576814\", \"from_node_id\": \"1577050\", \"b2\": {\"y\": 2600.0, \"x\": 3213.824115301167}, \"b1\": {\"y\": 2600.0, \"x\": 3162.14723459035}}, \"22\": {\"to_node_id\": \"1576533\", \"from_node_id\": \"1577050\", \"b2\": {\"y\": 2600.0, \"x\": 3333.4483135103533}, \"b1\": {\"y\": 2600.0, \"x\": 3198.034494053106}}, \"19\": {\"to_node_id\": \"1577048\", \"from_node_id\": \"1576503\", \"b2\": {\"y\": 2600.0, \"x\": 3020.2689151278832}, \"b1\": {\"y\": 2600.0, \"x\": 2880.896383759611}}, \"18\": {\"to_node_id\": \"1577050\", \"from_node_id\": \"1577049\", \"b2\": null, \"b1\": null}, \"17\": {\"to_node_id\": \"1577049\", \"from_node_id\": \"1577048\", \"b2\": null, \"b1\": null}}, \"genes\": [{\"bigg_id\": \"b4152\", \"name\": \"frdC\"}, {\"bigg_id\": \"b4151\", \"name\": \"frdD\"}, {\"bigg_id\": \"b4154\", \"name\": \"frdA\"}, {\"bigg_id\": \"b4153\", \"name\": \"frdB\"}], \"reversibility\": false, \"metabolites\": [{\"coefficient\": 1.0, \"bigg_id\": \"succ_c\"}, {\"coefficient\": -1.0, \"bigg_id\": \"fum_c\"}, {\"coefficient\": 1.0, \"bigg_id\": \"q8_c\"}, {\"coefficient\": -1.0, \"bigg_id\": \"q8h2_c\"}], \"label_x\": 3078.744384765625, \"label_y\": 2572.54541015625, \"gene_reaction_rule\": \"b4151 and b4152 and b4153 and b4154\"}, \"1577524\": {\"name\": \"Fructose transport via PEPPyr PTS  f6p generating \", \"bigg_id\": \"FRUpts2\", \"segments\": {\"24\": {\"to_node_id\": \"1577053\", \"from_node_id\": \"1577052\", \"b2\": null, \"b1\": null}, \"25\": {\"to_node_id\": \"1577051\", \"from_node_id\": \"1576826\", \"b2\": {\"y\": 1361.5867919921875, \"x\": 526.550048828125}, \"b1\": {\"y\": 1360.0, \"x\": 465.0}}, \"26\": {\"to_node_id\": \"1577051\", \"from_node_id\": \"1576819\", \"b2\": {\"y\": 1360.0, \"x\": 396.1378949970459}, \"b1\": {\"y\": 1452.0322265625, \"x\": 400.008457770101}}, \"27\": {\"to_node_id\": \"1576525\", \"from_node_id\": \"1577053\", \"b2\": {\"y\": 1361.586669921875, \"x\": 917.1118252292455}, \"b1\": {\"y\": 1363.1734619140625, \"x\": 860.370260215258}}, \"23\": {\"to_node_id\": \"1577052\", \"from_node_id\": \"1577051\", \"b2\": null, \"b1\": null}, \"28\": {\"to_node_id\": \"1576821\", \"from_node_id\": \"1577053\", \"b2\": {\"y\": 1240.992919921875, \"x\": 861.106575008484}, \"b1\": {\"y\": 1364.76025390625, \"x\": 861.4990623462952}}}, \"genes\": [{\"bigg_id\": \"b1819\", \"name\": \"manZ\"}, {\"bigg_id\": \"b1817\", \"name\": \"manX\"}, {\"bigg_id\": \"b2415\", \"name\": \"ptsH\"}, {\"bigg_id\": \"b2416\", \"name\": \"ptsI\"}, {\"bigg_id\": \"b1818\", \"name\": \"manY\"}], \"reversibility\": false, \"metabolites\": [{\"coefficient\": -1.0, \"bigg_id\": \"pep_c\"}, {\"coefficient\": 1.0, \"bigg_id\": \"f6p_c\"}, {\"coefficient\": -1.0, \"bigg_id\": \"fru_e\"}, {\"coefficient\": 1.0, \"bigg_id\": \"pyr_c\"}], \"label_x\": 456.41497802734375, \"label_y\": 1327.7852783203125, \"gene_reaction_rule\": \"b1817 and b1818 and b1819 and b2415 and b2416\"}}, \"nodes\": {\"1576509\": {\"node_is_primary\": true, \"name\": \"2-Oxoglutarate\", \"label_x\": 3669.712158203125, \"node_type\": \"metabolite\", \"y\": 3627.0, \"x\": 3746.0, \"bigg_id\": \"akg_c\", \"label_y\": 3611.942626953125}, \"1576508\": {\"node_is_primary\": false, \"name\": \"CO2\", \"label_x\": 3539.820068359375, \"node_type\": \"metabolite\", \"y\": 3710.0, \"x\": 3620.0, \"bigg_id\": \"co2_c\", \"label_y\": 3711.611572265625}, \"1576501\": {\"node_is_primary\": true, \"name\": \"Nicotinamide adenine dinucleotide\", \"label_x\": 3556.820068359375, \"node_type\": \"metabolite\", \"y\": 1147.3958740234375, \"x\": 3625.7841796875, \"bigg_id\": \"nad_c\", \"label_y\": 1187.06494140625}, \"1576500\": {\"node_is_primary\": true, \"name\": \"Nicotinamide adenine dinucleotide phosphate - reduced\", \"label_x\": 3740.0, \"node_type\": \"metabolite\", \"y\": 1270.0, \"x\": 3740.0, \"bigg_id\": \"nadph_c\", \"label_y\": 1310.0}, \"1576503\": {\"node_is_primary\": true, \"name\": \"Fumarate\", \"label_x\": 2867.189453125, \"node_type\": \"metabolite\", \"y\": 2920.0, \"x\": 2843.0, \"bigg_id\": \"fum_c\", \"label_y\": 2939.602783203125}, \"1576502\": {\"node_is_primary\": false, \"name\": \"H2O\", \"label_x\": 2693.4130859375, \"node_type\": \"metabolite\", \"y\": 2921.0, \"x\": 2715.0, \"bigg_id\": \"h2o_c\", \"label_y\": 2896.71923828125}, \"1576505\": {\"node_is_primary\": true, \"name\": \"Isocitrate\", \"label_x\": 3344.32373046875, \"node_type\": \"metabolite\", \"y\": 3976.0, \"x\": 3413.0, \"bigg_id\": \"icit_c\", \"label_y\": 3949.222900390625}, \"1576504\": {\"node_is_primary\": true, \"name\": \"L-Malate\", \"label_x\": 2506.83544921875, \"node_type\": \"metabolite\", \"y\": 3192.0, \"x\": 2621.0, \"bigg_id\": \"mal__L_c\", \"label_y\": 3174.826416015625}, \"1576507\": {\"node_is_primary\": false, \"name\": \"Nicotinamide adenine dinucleotide phosphate - reduced\", \"label_x\": 3557.6474609375, \"node_type\": \"metabolite\", \"y\": 3660.0, \"x\": 3659.0, \"bigg_id\": \"nadph_c\", \"label_y\": 3655.388427734375}, \"1576506\": {\"node_is_primary\": false, \"name\": \"Nicotinamide adenine dinucleotide phosphate\", \"label_x\": 3495.0, \"node_type\": \"metabolite\", \"y\": 4065.0, \"x\": 3495.0, \"bigg_id\": \"nadp_c\", \"label_y\": 4098.0}, \"1576992\": {\"y\": 980.0, \"x\": 2840.0, \"node_type\": \"multimarker\"}, \"1576868\": {\"y\": 4158.0, \"x\": 5020.0, \"node_type\": \"midmarker\"}, \"1576993\": {\"y\": 840.0, \"x\": 2840.0, \"node_type\": \"midmarker\"}, \"1576863\": {\"y\": 2880.0, \"x\": 5025.0, \"node_type\": \"midmarker\"}, \"1576860\": {\"y\": 1665.0, \"x\": 835.0, \"node_type\": \"multimarker\"}, \"1576861\": {\"y\": 1765.0, \"x\": 835.0, \"node_type\": \"multimarker\"}, \"1576866\": {\"y\": 1260.0, \"x\": 4145.0, \"node_type\": \"midmarker\"}, \"1576867\": {\"y\": 1200.0, \"x\": 4145.0, \"node_type\": \"multimarker\"}, \"1576864\": {\"y\": 3766.0, \"x\": 3417.0, \"node_type\": \"multimarker\"}, \"1576865\": {\"y\": 3857.0, \"x\": 3417.0, \"node_type\": \"midmarker\"}, \"1576490\": {\"node_is_primary\": true, \"name\": \"6-Phospho-D-gluconate\", \"label_x\": 1800.0250244140625, \"node_type\": \"metabolite\", \"y\": 1265.0, \"x\": 1827.0, \"bigg_id\": \"6pgc_c\", \"label_y\": 1235.0}, \"1576996\": {\"y\": 4501.49560546875, \"x\": 1715.0, \"node_type\": \"multimarker\"}, \"1576997\": {\"y\": 1008.8675537109375, \"x\": 1056.5865478515625, \"node_type\": \"midmarker\"}, \"1576994\": {\"y\": 4745.0, \"x\": 1715.0, \"node_type\": \"multimarker\"}, \"1576995\": {\"y\": 4585.0, \"x\": 1715.0, \"node_type\": \"midmarker\"}, \"1576615\": {\"node_is_primary\": false, \"name\": \"ATP\", \"label_x\": 4552.7265625, \"node_type\": \"metabolite\", \"y\": 4258.0, \"x\": 4535.0, \"bigg_id\": \"atp_c\", \"label_y\": 4269.94287109375}, \"1576614\": {\"node_is_primary\": false, \"name\": \"Coenzyme A\", \"label_x\": 1835.0, \"node_type\": \"metabolite\", \"y\": 4135.0, \"x\": 1815.0, \"bigg_id\": \"coa_c\", \"label_y\": 4135.0}, \"1576617\": {\"node_is_primary\": false, \"name\": \"Phosphate\", \"label_x\": 4268.884765625, \"node_type\": \"metabolite\", \"y\": 4258.0, \"x\": 4285.0, \"bigg_id\": \"pi_c\", \"label_y\": 4287.6689453125}, \"1576616\": {\"node_is_primary\": false, \"name\": \"H2O\", \"label_x\": 4481.77685546875, \"node_type\": \"metabolite\", \"y\": 4258.0, \"x\": 4485.0, \"bigg_id\": \"h2o_c\", \"label_y\": 4287.6689453125}, \"1576613\": {\"node_is_primary\": true, \"name\": \"Acetyl phosphate\", \"label_x\": 1745.0, \"node_type\": \"metabolite\", \"y\": 4175.0, \"x\": 1715.0, \"bigg_id\": \"actp_c\", \"label_y\": 4175.0}, \"1576612\": {\"node_is_primary\": false, \"name\": \"Phosphate\", \"label_x\": 1835.0, \"node_type\": \"metabolite\", \"y\": 4035.0, \"x\": 1815.0, \"bigg_id\": \"pi_c\", \"label_y\": 4035.0}, \"1576619\": {\"node_is_primary\": false, \"name\": \"H+\", \"label_x\": 4331.77734375, \"node_type\": \"metabolite\", \"y\": 4258.0, \"x\": 4335.0, \"bigg_id\": \"h_c\", \"label_y\": 4286.0576171875}, \"1576618\": {\"node_is_primary\": false, \"name\": \"ADP\", \"label_x\": 4381.77685546875, \"node_type\": \"metabolite\", \"y\": 4258.0, \"x\": 4385.0, \"bigg_id\": \"adp_c\", \"label_y\": 4290.89208984375}, \"1576598\": {\"node_is_primary\": true, \"name\": \"2-Oxoglutarate\", \"label_x\": 4922.0, \"node_type\": \"metabolite\", \"y\": 3228.0, \"x\": 4922.0, \"bigg_id\": \"akg_e\", \"label_y\": 3268.0}, \"1576599\": {\"node_is_primary\": false, \"name\": \"H+\", \"label_x\": 4861.39599609375, \"node_type\": \"metabolite\", \"y\": 3321.0, \"x\": 4834.0, \"bigg_id\": \"h_e\", \"label_y\": 3334.553955078125}, \"1576596\": {\"node_is_primary\": false, \"name\": \"H+\", \"label_x\": 2754.13232421875, \"node_type\": \"metabolite\", \"y\": 4452.0, \"x\": 2793.0, \"bigg_id\": \"h_c\", \"label_y\": 4426.61181640625}, \"1576597\": {\"node_is_primary\": true, \"name\": \"Phosphate\", \"label_x\": 2921.0, \"node_type\": \"metabolite\", \"y\": 4430.0, \"x\": 2880.0, \"bigg_id\": \"pi_c\", \"label_y\": 4428.0}, \"1576594\": {\"node_is_primary\": true, \"name\": \"Phosphate\", \"label_x\": 2910.0, \"node_type\": \"metabolite\", \"y\": 4839.0, \"x\": 2880.0, \"bigg_id\": \"pi_e\", \"label_y\": 4839.0}, \"1576595\": {\"node_is_primary\": false, \"name\": \"H+\", \"label_x\": 2733.83544921875, \"node_type\": \"metabolite\", \"y\": 4778.0, \"x\": 2793.0, \"bigg_id\": \"h_e\", \"label_y\": 4763.8515625}, \"1576592\": {\"node_is_primary\": false, \"name\": \"ADP\", \"label_x\": 1285.0, \"node_type\": \"metabolite\", \"y\": 3545.0, \"x\": 1285.0, \"bigg_id\": \"adp_c\", \"label_y\": 3575.0}, \"1576593\": {\"node_is_primary\": false, \"name\": \"CO2\", \"label_x\": 1215.0, \"node_type\": \"metabolite\", \"y\": 3515.0, \"x\": 1215.0, \"bigg_id\": \"co2_c\", \"label_y\": 3535.0}, \"1576590\": {\"node_is_primary\": true, \"name\": \"Formate\", \"label_x\": 1495.230712890625, \"node_type\": \"metabolite\", \"y\": 4095.0, \"x\": 1460.0, \"bigg_id\": \"for_c\", \"label_y\": 4083.958984375}, \"1576591\": {\"node_is_primary\": false, \"name\": \"ATP\", \"label_x\": 1525.0, \"node_type\": \"metabolite\", \"y\": 3625.0, \"x\": 1505.0, \"bigg_id\": \"atp_c\", \"label_y\": 3625.0}, \"1576819\": {\"node_is_primary\": false, \"name\": \"Phosphoenolpyruvate\", \"label_x\": 554.497314453125, \"node_type\": \"metabolite\", \"y\": 1448.4132080078125, \"x\": 565.6046142578125, \"bigg_id\": \"pep_c\", \"label_y\": 1479.5206298828125}, \"1576817\": {\"node_is_primary\": true, \"name\": \"Acetaldehyde\", \"label_x\": 2210.0, \"node_type\": \"metabolite\", \"y\": 3945.0, \"x\": 2210.0, \"bigg_id\": \"acald_c\", \"label_y\": 3905.0}, \"1576816\": {\"node_is_primary\": true, \"name\": \"L-Malate\", \"label_x\": 2640.0, \"node_type\": \"metabolite\", \"y\": 650.0, \"x\": 2610.0, \"bigg_id\": \"mal__L_e\", \"label_y\": 630.0}, \"1576815\": {\"node_is_primary\": true, \"name\": \"Acetaldehyde\", \"label_x\": 2240.0, \"node_type\": \"metabolite\", \"y\": 4837.65283203125, \"x\": 2210.0, \"bigg_id\": \"acald_e\", \"label_y\": 4837.65283203125}, \"1576814\": {\"node_is_primary\": false, \"name\": \"Ubiquinone-8\", \"label_x\": 3228.082275390625, \"node_type\": \"metabolite\", \"y\": 2730.0, \"x\": 3210.0, \"bigg_id\": \"q8_c\", \"label_y\": 2736.34716796875}, \"1576813\": {\"node_is_primary\": false, \"name\": \"H+\", \"label_x\": 2406.0, \"node_type\": \"metabolite\", \"y\": 3980.0, \"x\": 2392.0, \"bigg_id\": \"h_c\", \"label_y\": 3965.0}, \"1576812\": {\"node_is_primary\": false, \"name\": \"Nicotinamide adenine dinucleotide - reduced\", \"label_x\": 1868.892578125, \"node_type\": \"metabolite\", \"y\": 3860.0, \"x\": 1890.0, \"bigg_id\": \"nadh_c\", \"label_y\": 3840.810302734375}, \"1576811\": {\"node_is_primary\": false, \"name\": \"H+\", \"label_x\": 1245.23974609375, \"node_type\": \"metabolite\", \"y\": 4440.0, \"x\": 1270.0, \"bigg_id\": \"h_c\", \"label_y\": 4424.13232421875}, \"1576810\": {\"node_is_primary\": false, \"name\": \"H+\", \"label_x\": 2473.50439453125, \"node_type\": \"metabolite\", \"y\": 1010.0, \"x\": 2510.0, \"bigg_id\": \"h_c\", \"label_y\": 1043.1734619140625}, \"1576692\": {\"node_is_primary\": false, \"name\": \"Nicotinamide adenine dinucleotide phosphate - reduced\", \"label_x\": 2220.0, \"node_type\": \"metabolite\", \"y\": 3540.0, \"x\": 2200.0, \"bigg_id\": \"nadph_c\", \"label_y\": 3550.0}, \"1577106\": {\"y\": 4020.0757924471372, \"x\": 3331.3033751186185, \"node_type\": \"multimarker\"}, \"1577104\": {\"y\": 4035.7165277261324, \"x\": 3294.488060371458, \"node_type\": \"multimarker\"}, \"1577105\": {\"y\": 4027.896160086635, \"x\": 3312.895717745038, \"node_type\": \"midmarker\"}, \"1577069\": {\"y\": 4506.7353515625, \"x\": 1053.4132080078125, \"node_type\": \"multimarker\"}, \"1577068\": {\"y\": 4583.8583984375, \"x\": 1055.0, \"node_type\": \"midmarker\"}, \"1577100\": {\"y\": 4030.8645761345497, \"x\": 3074.275683525833, \"node_type\": \"midmarker\"}, \"1577101\": {\"y\": 4038.0833974815746, \"x\": 3092.9274560517806, \"node_type\": \"multimarker\"}, \"1577065\": {\"y\": 2819.0, \"x\": 3129.0, \"node_type\": \"midmarker\"}, \"1577064\": {\"y\": 2817.0, \"x\": 3180.0, \"node_type\": \"multimarker\"}, \"1577067\": {\"y\": 4660.98193359375, \"x\": 1055.0, \"node_type\": \"multimarker\"}, \"1577066\": {\"y\": 2826.0, \"x\": 3078.0, \"node_type\": \"multimarker\"}, \"1577061\": {\"y\": 2570.0, \"x\": 4630.0, \"node_type\": \"multimarker\"}, \"1577063\": {\"y\": 2570.0, \"x\": 4710.0, \"node_type\": \"multimarker\"}, \"1577062\": {\"y\": 2570.0, \"x\": 4670.0, \"node_type\": \"midmarker\"}, \"1576884\": {\"y\": 3945.0, \"x\": 155.0, \"node_type\": \"midmarker\"}, \"1576885\": {\"y\": 1415.0, \"x\": 2045.0, \"node_type\": \"midmarker\"}, \"1576929\": {\"y\": 1900.0, \"x\": 4690.0, \"node_type\": \"multimarker\"}, \"1576887\": {\"y\": 2230.0, \"x\": 4986.0, \"node_type\": \"midmarker\"}, \"1576880\": {\"y\": 3635.0, \"x\": 4779.0, \"node_type\": \"multimarker\"}, \"1576881\": {\"y\": 4925.0, \"x\": 1055.0, \"node_type\": \"midmarker\"}, \"1576923\": {\"y\": 3228.0, \"x\": 4792.0, \"node_type\": \"multimarker\"}, \"1576922\": {\"y\": 3228.0, \"x\": 4502.0, \"node_type\": \"multimarker\"}, \"1576921\": {\"y\": 4725.0, \"x\": 2880.0, \"node_type\": \"multimarker\"}, \"1576920\": {\"y\": 4580.0, \"x\": 2880.0, \"node_type\": \"midmarker\"}, \"1576927\": {\"y\": 2195.0, \"x\": 955.0, \"node_type\": \"midmarker\"}, \"1576926\": {\"y\": 1995.0, \"x\": 1055.0, \"node_type\": \"midmarker\"}, \"1576925\": {\"y\": 2045.0, \"x\": 1055.0, \"node_type\": \"multimarker\"}, \"1576924\": {\"y\": 3228.0, \"x\": 4662.0, \"node_type\": \"midmarker\"}, \"1576491\": {\"node_is_primary\": false, \"name\": \"CO2\", \"label_x\": 2007.0, \"node_type\": \"metabolite\", \"y\": 1165.0, \"x\": 2007.0, \"bigg_id\": \"co2_c\", \"label_y\": 1145.0}, \"1577087\": {\"node_is_primary\": false, \"name\": \"Coenzyme A\", \"label_x\": 5175.48828125, \"node_type\": \"metabolite\", \"y\": 4931.947265625, \"x\": 5208.85205078125, \"bigg_id\": \"coa_c\", \"label_y\": 4975.3330078125}, \"1577086\": {\"node_is_primary\": false, \"name\": \"Nicotinamide adenine dinucleotide\", \"label_x\": 4860.95166015625, \"node_type\": \"metabolite\", \"y\": 4529.25048828125, \"x\": 4893.27099609375, \"bigg_id\": \"nad_c\", \"label_y\": 4501.22509765625}, \"1577085\": {\"node_is_primary\": false, \"name\": \"Pyruvate\", \"label_x\": 4962.07666015625, \"node_type\": \"metabolite\", \"y\": 4509.18115234375, \"x\": 4988.05859375, \"bigg_id\": \"pyr_c\", \"label_y\": 4488.5498046875}, \"1577084\": {\"node_is_primary\": false, \"name\": \"D-Fructose 6-phosphate\", \"label_x\": 5052.6396484375, \"node_type\": \"metabolite\", \"y\": 4498.61865234375, \"x\": 5087.0712890625, \"bigg_id\": \"f6p_c\", \"label_y\": 4477.9873046875}, \"1577083\": {\"node_is_primary\": false, \"name\": \"ATP\", \"label_x\": 5152.708984375, \"node_type\": \"metabolite\", \"y\": 4488.05615234375, \"x\": 5183.9716796875, \"bigg_id\": \"atp_c\", \"label_y\": 4461.08740234375}, \"1577082\": {\"node_is_primary\": false, \"name\": \"Alpha-D-Ribose 5-phosphate\", \"label_x\": 5390.7685546875, \"node_type\": \"metabolite\", \"y\": 4418.7158203125, \"x\": 5403.0185546875, \"bigg_id\": \"r5p_c\", \"label_y\": 4391.7470703125}, \"1577081\": {\"node_is_primary\": false, \"name\": \"H+\", \"label_x\": 5204.56640625, \"node_type\": \"metabolite\", \"y\": 4994.3544921875, \"x\": 5262.95361328125, \"bigg_id\": \"h_c\", \"label_y\": 5025.4677734375}, \"1577080\": {\"node_is_primary\": false, \"name\": \"D-Erythrose 4-phosphate\", \"label_x\": 5442.19677734375, \"node_type\": \"metabolite\", \"y\": 4466.33544921875, \"x\": 5437.546875, \"bigg_id\": \"e4p_c\", \"label_y\": 4450.9853515625}, \"1576851\": {\"y\": 3945.0, \"x\": 1555.0, \"node_type\": \"multimarker\"}, \"1577089\": {\"node_is_primary\": false, \"name\": \"D-Glucose 6-phosphate\", \"label_x\": 4679.8271484375, \"node_type\": \"metabolite\", \"y\": 4559.88134765625, \"x\": 4700.52734375, \"bigg_id\": \"g6p_c\", \"label_y\": 4537.1376953125}, \"1577088\": {\"node_is_primary\": false, \"name\": \"Oxaloacetate\", \"label_x\": 4770.38916015625, \"node_type\": \"metabolite\", \"y\": 4544.03759765625, \"x\": 4783.69580078125, \"bigg_id\": \"oaa_c\", \"label_y\": 4522.349609375}, \"1576850\": {\"y\": 3945.0, \"x\": 1495.0, \"node_type\": \"midmarker\"}, \"1576853\": {\"y\": 3519.0, \"x\": 1493.0, \"node_type\": \"multimarker\"}, \"1576852\": {\"y\": 3486.0, \"x\": 1414.0, \"node_type\": \"midmarker\"}, \"1576998\": {\"y\": 976.1735229492188, \"x\": 1057.0, \"node_type\": \"multimarker\"}, \"1576498\": {\"node_is_primary\": false, \"name\": \"H+\", \"label_x\": 3529.338134765625, \"node_type\": \"metabolite\", \"y\": 650.0, \"x\": 3510.0, \"bigg_id\": \"h_e\", \"label_y\": 639.6690673828125}, \"1576857\": {\"y\": 1395.0, \"x\": 1055.0, \"node_type\": \"midmarker\"}, \"1576856\": {\"y\": 3225.0, \"x\": 1055.0, \"node_type\": \"midmarker\"}, \"1576855\": {\"y\": 3265.0, \"x\": 1055.0, \"node_type\": \"multimarker\"}, \"1576854\": {\"y\": 3458.0, \"x\": 1348.0, \"node_type\": \"multimarker\"}, \"1576493\": {\"node_is_primary\": true, \"name\": \"D-Ribulose 5-phosphate\", \"label_x\": 2155.0, \"node_type\": \"metabolite\", \"y\": 1265.0, \"x\": 2155.0, \"bigg_id\": \"ru5p__D_c\", \"label_y\": 1235.0}, \"1576492\": {\"node_is_primary\": false, \"name\": \"Nicotinamide adenine dinucleotide phosphate - reduced\", \"label_x\": 2080.0, \"node_type\": \"metabolite\", \"y\": 1165.0, \"x\": 2057.0, \"bigg_id\": \"nadph_c\", \"label_y\": 1140.0}, \"1576859\": {\"y\": 1715.0, \"x\": 835.0, \"node_type\": \"midmarker\"}, \"1576858\": {\"y\": 4598.0, \"x\": 3989.0, \"node_type\": \"midmarker\"}, \"1576497\": {\"node_is_primary\": true, \"name\": \"Nicotinamide adenine dinucleotide - reduced\", \"label_x\": 3450.0, \"node_type\": \"metabolite\", \"y\": 1120.0, \"x\": 3420.0, \"bigg_id\": \"nadh_c\", \"label_y\": 1150.0}, \"1576496\": {\"node_is_primary\": true, \"name\": \"Nicotinamide adenine dinucleotide phosphate\", \"label_x\": 3330.0, \"node_type\": \"metabolite\", \"y\": 1270.0, \"x\": 3330.0, \"bigg_id\": \"nadp_c\", \"label_y\": 1310.0}, \"1576495\": {\"node_is_primary\": true, \"name\": \"O2\", \"label_x\": 4259.09326171875, \"node_type\": \"metabolite\", \"y\": 1660.0, \"x\": 4330.0, \"bigg_id\": \"o2_c\", \"label_y\": 1677.4388427734375}, \"1576494\": {\"node_is_primary\": true, \"name\": \"O2\", \"label_x\": 4840.3310546875, \"node_type\": \"metabolite\", \"y\": 1660.0, \"x\": 4850.0, \"bigg_id\": \"o2_e\", \"label_y\": 1702.89208984375}, \"1576549\": {\"node_is_primary\": false, \"name\": \"H+\", \"label_x\": 911.677978515625, \"node_type\": \"metabolite\", \"y\": 3625.0, \"x\": 965.0, \"bigg_id\": \"h_c\", \"label_y\": 3612.305908203125}, \"1576548\": {\"node_is_primary\": true, \"name\": \"D-Fructose 6-phosphate\", \"label_x\": 2367.636962890625, \"node_type\": \"metabolite\", \"y\": 2186.826416015625, \"x\": 2362.636962890625, \"bigg_id\": \"f6p_c\", \"label_y\": 2216.826416015625}, \"1576545\": {\"node_is_primary\": true, \"name\": \"Glyceraldehyde 3-phosphate\", \"label_x\": 2375.091552734375, \"node_type\": \"metabolite\", \"y\": 1865.0, \"x\": 2358.984130859375, \"bigg_id\": \"g3p_c\", \"label_y\": 1898.4132080078125}, \"1576544\": {\"node_is_primary\": true, \"name\": \"CO2\", \"label_x\": 3651.0, \"node_type\": \"metabolite\", \"y\": 4754.0, \"x\": 3621.0, \"bigg_id\": \"co2_e\", \"label_y\": 4754.0}, \"1576547\": {\"node_is_primary\": true, \"name\": \"D-Erythrose 4-phosphate\", \"label_x\": 1922.7852783203125, \"node_type\": \"metabolite\", \"y\": 2190.0, \"x\": 1945.0, \"bigg_id\": \"e4p_c\", \"label_y\": 2242.214599609375}, \"1576546\": {\"node_is_primary\": true, \"name\": \"Sedoheptulose 7-phosphate\", \"label_x\": 1955.8675537109375, \"node_type\": \"metabolite\", \"y\": 1865.0, \"x\": 1983.082275390625, \"bigg_id\": \"s7p_c\", \"label_y\": 1814.314697265625}, \"1576542\": {\"node_is_primary\": true, \"name\": \"Ubiquinol-8\", \"label_x\": 4411.00048828125, \"node_type\": \"metabolite\", \"y\": 2210.3310546875, \"x\": 4508.47509765625, \"bigg_id\": \"q8h2_c\", \"label_y\": 2217.395751953125}, \"1577102\": {\"node_is_primary\": false, \"name\": \"H2O\", \"label_x\": 3189.1795476587818, \"node_type\": \"metabolite\", \"y\": 3976.144484067998, \"x\": 3188.1170476587818, \"bigg_id\": \"h2o_c\", \"label_y\": 3930.712355161748}, \"1576648\": {\"node_is_primary\": false, \"name\": \"H+\", \"label_x\": 2620.0, \"node_type\": \"metabolite\", \"y\": 4760.0, \"x\": 2600.0, \"bigg_id\": \"h_e\", \"label_y\": 4760.0}, \"1576649\": {\"node_is_primary\": true, \"name\": \"Ethanol\", \"label_x\": 2530.0, \"node_type\": \"metabolite\", \"y\": 4830.0, \"x\": 2500.0, \"bigg_id\": \"etoh_e\", \"label_y\": 4830.0}, \"1576646\": {\"node_is_primary\": false, \"name\": \"Phosphate\", \"label_x\": 684.8515014648438, \"node_type\": \"metabolite\", \"y\": 3425.0, \"x\": 735.0, \"bigg_id\": \"pi_c\", \"label_y\": 3409.13232421875}, \"1576647\": {\"node_is_primary\": true, \"name\": \"D-Glucose\", \"label_x\": 1085.066162109375, \"node_type\": \"metabolite\", \"y\": 705.0, \"x\": 1055.066162109375, \"bigg_id\": \"glc__D_e\", \"label_y\": 705.0}, \"1576644\": {\"node_is_primary\": false, \"name\": \"H+\", \"label_x\": 672.1574096679688, \"node_type\": \"metabolite\", \"y\": 3475.0, \"x\": 735.0, \"bigg_id\": \"h_c\", \"label_y\": 3478.173583984375}, \"1576645\": {\"node_is_primary\": false, \"name\": \"AMP\", \"label_x\": 640.4221801757812, \"node_type\": \"metabolite\", \"y\": 3525.0, \"x\": 735.0, \"bigg_id\": \"amp_c\", \"label_y\": 3545.6279296875}, \"1576642\": {\"node_is_primary\": false, \"name\": \"ATP\", \"label_x\": 670.5706176757812, \"node_type\": \"metabolite\", \"y\": 3855.0, \"x\": 735.0, \"bigg_id\": \"atp_c\", \"label_y\": 3840.71923828125}, \"1576643\": {\"node_is_primary\": false, \"name\": \"H2O\", \"label_x\": 681.677978515625, \"node_type\": \"metabolite\", \"y\": 3805.0, \"x\": 735.0, \"bigg_id\": \"h2o_c\", \"label_y\": 3787.545654296875}, \"1576640\": {\"node_is_primary\": true, \"name\": \"H2O\", \"label_x\": 3287.0, \"node_type\": \"metabolite\", \"y\": 4434.0, \"x\": 3257.0, \"bigg_id\": \"h2o_c\", \"label_y\": 4434.0}, \"1576641\": {\"node_is_primary\": true, \"name\": \"CO2\", \"label_x\": 3651.0, \"node_type\": \"metabolite\", \"y\": 4434.0, \"x\": 3621.0, \"bigg_id\": \"co2_c\", \"label_y\": 4434.0}, \"1577103\": {\"node_is_primary\": true, \"name\": \"Cis-Aconitate\", \"label_x\": 3156.1556150985407, \"node_type\": \"metabolite\", \"y\": 4053.2845721909744, \"x\": 3197.4642088485407, \"bigg_id\": \"acon_C_c\", \"label_y\": 4098.026271409724}, \"1576991\": {\"y\": 730.0, \"x\": 2840.0, \"node_type\": \"multimarker\"}, \"1577034\": {\"y\": 4570.0, \"x\": 2210.0, \"node_type\": \"midmarker\"}, \"1577035\": {\"y\": 4944.0, \"x\": 2211.0, \"node_type\": \"midmarker\"}, \"1577032\": {\"y\": 3945.0, \"x\": 2010.0, \"node_type\": \"midmarker\"}, \"1577033\": {\"y\": 3945.0, \"x\": 1980.0, \"node_type\": \"multimarker\"}, \"1577030\": {\"y\": 4925.0, \"x\": 1460.0, \"node_type\": \"midmarker\"}, \"1577031\": {\"y\": 3945.0, \"x\": 2040.0, \"node_type\": \"multimarker\"}, \"1576974\": {\"y\": 543.4132690429688, \"x\": 1056.6529541015625, \"node_type\": \"midmarker\"}, \"1576975\": {\"y\": 4430.0, \"x\": 2500.0, \"node_type\": \"multimarker\"}, \"1576976\": {\"y\": 4550.0, \"x\": 2500.0, \"node_type\": \"midmarker\"}, \"1576977\": {\"y\": 4730.0, \"x\": 2500.0, \"node_type\": \"multimarker\"}, \"1576970\": {\"y\": 3805.0, \"x\": 835.0, \"node_type\": \"multimarker\"}, \"1576971\": {\"y\": 3525.0, \"x\": 835.0, \"node_type\": \"multimarker\"}, \"1576972\": {\"y\": 3645.0, \"x\": 835.0, \"node_type\": \"midmarker\"}, \"1576978\": {\"y\": 2995.0, \"x\": 1055.0, \"node_type\": \"midmarker\"}, \"1576989\": {\"y\": 4925.107421875, \"x\": 2880.0, \"node_type\": \"midmarker\"}, \"1576602\": {\"node_is_primary\": false, \"name\": \"H+\", \"label_x\": 4234.01416015625, \"node_type\": \"metabolite\", \"y\": 1895.1654052734375, \"x\": 4301.69775390625, \"bigg_id\": \"h_c\", \"label_y\": 1903.8848876953125}, \"1576603\": {\"node_is_primary\": false, \"name\": \"H+\", \"label_x\": 4858.38818359375, \"node_type\": \"metabolite\", \"y\": 1900.0, \"x\": 4860.0, \"bigg_id\": \"h_e\", \"label_y\": 1950.6187744140625}, \"1576600\": {\"node_is_primary\": false, \"name\": \"H+\", \"label_x\": 4490.337890625, \"node_type\": \"metabolite\", \"y\": 3328.0, \"x\": 4472.0, \"bigg_id\": \"h_c\", \"label_y\": 3342.330810546875}, \"1576601\": {\"node_is_primary\": true, \"name\": \"Dihydroxyacetone phosphate\", \"label_x\": 739.3148193359375, \"node_type\": \"metabolite\", \"y\": 2195.0, \"x\": 855.0, \"bigg_id\": \"dhap_c\", \"label_y\": 2179.132568359375}, \"1576606\": {\"node_is_primary\": false, \"name\": \"Acetyl-CoA\", \"label_x\": 3125.0, \"node_type\": \"metabolite\", \"y\": 3402.0, \"x\": 3105.0, \"bigg_id\": \"accoa_c\", \"label_y\": 3402.0}, \"1576607\": {\"node_is_primary\": false, \"name\": \"H2O\", \"label_x\": 3190.0, \"node_type\": \"metabolite\", \"y\": 3480.0, \"x\": 3170.0, \"bigg_id\": \"h2o_c\", \"label_y\": 3480.0}, \"1576604\": {\"node_is_primary\": false, \"name\": \"H2O\", \"label_x\": 4452.77001953125, \"node_type\": \"metabolite\", \"y\": 1760.9495849609375, \"x\": 4439.09375, \"bigg_id\": \"h2o_c\", \"label_y\": 1736.77685546875}, \"1576605\": {\"node_is_primary\": true, \"name\": \"Alpha-D-Ribose 5-phosphate\", \"label_x\": 2418.413330078125, \"node_type\": \"metabolite\", \"y\": 1555.0, \"x\": 2419.0, \"bigg_id\": \"r5p_c\", \"label_y\": 1601.1072998046875}, \"1576608\": {\"node_is_primary\": false, \"name\": \"H+\", \"label_x\": 2891.0, \"node_type\": \"metabolite\", \"y\": 3220.0, \"x\": 2871.0, \"bigg_id\": \"h_c\", \"label_y\": 3220.0}, \"1576609\": {\"node_is_primary\": false, \"name\": \"Coenzyme A\", \"label_x\": 2800.0, \"node_type\": \"metabolite\", \"y\": 3168.0, \"x\": 2780.0, \"bigg_id\": \"coa_c\", \"label_y\": 3168.0}, \"1576808\": {\"node_is_primary\": false, \"name\": \"H+\", \"label_x\": 4874.1728515625, \"node_type\": \"metabolite\", \"y\": 2570.0, \"x\": 4850.0, \"bigg_id\": \"h_e\", \"label_y\": 2601.280517578125}, \"1576809\": {\"node_is_primary\": true, \"name\": \"Nicotinamide adenine dinucleotide\", \"label_x\": 4356.72412109375, \"node_type\": \"metabolite\", \"y\": 2646.77685546875, \"x\": 4449.00732421875, \"bigg_id\": \"nad_c\", \"label_y\": 2646.95849609375}, \"1576516\": {\"node_is_primary\": false, \"name\": \"H2O\", \"label_x\": 1315.0, \"node_type\": \"metabolite\", \"y\": 3375.0, \"x\": 1295.0, \"bigg_id\": \"h2o_c\", \"label_y\": 3375.0}, \"1576517\": {\"node_is_primary\": true, \"name\": \"Phosphoenolpyruvate\", \"label_x\": 1085.0, \"node_type\": \"metabolite\", \"y\": 3375.0, \"x\": 1055.0, \"bigg_id\": \"pep_c\", \"label_y\": 3355.0}, \"1576514\": {\"node_is_primary\": true, \"name\": \"Acetyl-CoA\", \"label_x\": 1695.0, \"node_type\": \"metabolite\", \"y\": 3945.0, \"x\": 1715.0, \"bigg_id\": \"accoa_c\", \"label_y\": 3965.0}, \"1576515\": {\"node_is_primary\": false, \"name\": \"Nicotinamide adenine dinucleotide - reduced\", \"label_x\": 1647.545654296875, \"node_type\": \"metabolite\", \"y\": 3885.0, \"x\": 1655.0, \"bigg_id\": \"nadh_c\", \"label_y\": 3855.4794921875}, \"1576512\": {\"node_is_primary\": false, \"name\": \"Coenzyme A\", \"label_x\": 1287.066162109375, \"node_type\": \"metabolite\", \"y\": 3905.0, \"x\": 1315.0, \"bigg_id\": \"coa_c\", \"label_y\": 3887.545654296875}, \"1576513\": {\"node_is_primary\": false, \"name\": \"CO2\", \"label_x\": 1595.0, \"node_type\": \"metabolite\", \"y\": 3855.0, \"x\": 1605.0, \"bigg_id\": \"co2_c\", \"label_y\": 3835.0}, \"1576510\": {\"node_is_primary\": false, \"name\": \"Nicotinamide adenine dinucleotide\", \"label_x\": 1394.189697265625, \"node_type\": \"metabolite\", \"y\": 3855.0, \"x\": 1365.0, \"bigg_id\": \"nad_c\", \"label_y\": 3851.826416015625}, \"1576511\": {\"node_is_primary\": true, \"name\": \"Pyruvate\", \"label_x\": 1025.0, \"node_type\": \"metabolite\", \"y\": 3945.0, \"x\": 1055.0, \"bigg_id\": \"pyr_c\", \"label_y\": 3965.0}, \"1576982\": {\"y\": 4275.0, \"x\": 1715.0, \"node_type\": \"midmarker\"}, \"1576691\": {\"node_is_primary\": false, \"name\": \"CO2\", \"label_x\": 2280.0, \"node_type\": \"metabolite\", \"y\": 3510.0, \"x\": 2260.0, \"bigg_id\": \"co2_c\", \"label_y\": 3510.0}, \"1576690\": {\"node_is_primary\": false, \"name\": \"Nicotinamide adenine dinucleotide phosphate\", \"label_x\": 2450.0, \"node_type\": \"metabolite\", \"y\": 3370.0, \"x\": 2430.0, \"bigg_id\": \"nadp_c\", \"label_y\": 3370.0}, \"1576518\": {\"node_is_primary\": false, \"name\": \"CO2\", \"label_x\": 1215.0, \"node_type\": \"metabolite\", \"y\": 3345.0, \"x\": 1205.0, \"bigg_id\": \"co2_c\", \"label_y\": 3325.0}, \"1576519\": {\"node_is_primary\": false, \"name\": \"H+\", \"label_x\": 1635.0, \"node_type\": \"metabolite\", \"y\": 3475.0, \"x\": 1615.0, \"bigg_id\": \"h_c\", \"label_y\": 3475.0}, \"1577078\": {\"node_is_primary\": false, \"name\": \"L-Glutamate\", \"label_x\": 5555.015625, \"node_type\": \"metabolite\", \"y\": 4651.92236328125, \"x\": 5534.521484375, \"bigg_id\": \"glu__L_c\", \"label_y\": 4645.02197265625}, \"1577079\": {\"node_is_primary\": false, \"name\": \"Glyceraldehyde 3-phosphate\", \"label_x\": 5534.87109375, \"node_type\": \"metabolite\", \"y\": 4517.58447265625, \"x\": 5512.26513671875, \"bigg_id\": \"g3p_c\", \"label_y\": 4508.57177734375}, \"1577072\": {\"node_is_primary\": false, \"name\": \"H+\", \"label_x\": 1123.4132080078125, \"node_type\": \"metabolite\", \"y\": 4416.7353515625, \"x\": 1093.4132080078125, \"bigg_id\": \"h_c\", \"label_y\": 4426.7353515625}, \"1577073\": {\"node_is_primary\": false, \"name\": \"H2O\", \"label_x\": 5539.50146484375, \"node_type\": \"metabolite\", \"y\": 4574.02490234375, \"x\": 5527.4580078125, \"bigg_id\": \"h2o_c\", \"label_y\": 4562.89990234375}, \"1577071\": {\"node_is_primary\": false, \"name\": \"H+\", \"label_x\": 1125.0, \"node_type\": \"metabolite\", \"y\": 4750.98193359375, \"x\": 1095.0, \"bigg_id\": \"h_e\", \"label_y\": 4760.98193359375}, \"1577076\": {\"y\": 4757.48193359375, \"x\": 5334.0517578125, \"node_type\": \"multimarker\"}, \"1577077\": {\"node_is_primary\": false, \"name\": \"ADP\", \"label_x\": 5529.1103515625, \"node_type\": \"metabolite\", \"y\": 4924.5068359375, \"x\": 5503.33544921875, \"bigg_id\": \"adp_c\", \"label_y\": 4931.337890625}, \"1577074\": {\"y\": 4717.48193359375, \"x\": 5334.0517578125, \"node_type\": \"multimarker\"}, \"1577075\": {\"y\": 4737.48193359375, \"x\": 5334.0517578125, \"node_type\": \"midmarker\"}, \"1576677\": {\"node_is_primary\": false, \"name\": \"Nicotinamide adenine dinucleotide phosphate - reduced\", \"label_x\": 3935.431640625, \"node_type\": \"metabolite\", \"y\": 3558.0, \"x\": 3992.0, \"bigg_id\": \"nadph_c\", \"label_y\": 3532.22314453125}, \"1576676\": {\"node_is_primary\": false, \"name\": \"Nicotinamide adenine dinucleotide phosphate\", \"label_x\": 4142.0, \"node_type\": \"metabolite\", \"y\": 3558.0, \"x\": 4142.0, \"bigg_id\": \"nadp_c\", \"label_y\": 3528.0}, \"1576675\": {\"node_is_primary\": false, \"name\": \"H2O\", \"label_x\": 4210.0, \"node_type\": \"metabolite\", \"y\": 3558.0, \"x\": 4192.0, \"bigg_id\": \"h2o_c\", \"label_y\": 3530.0}, \"1576674\": {\"node_is_primary\": false, \"name\": \"H+\", \"label_x\": 4456.0, \"node_type\": \"metabolite\", \"y\": 3087.0, \"x\": 4456.0, \"bigg_id\": \"h_c\", \"label_y\": 3109.0}, \"1576673\": {\"node_is_primary\": false, \"name\": \"H+\", \"label_x\": 4836.0, \"node_type\": \"metabolite\", \"y\": 3087.0, \"x\": 4836.0, \"bigg_id\": \"h_e\", \"label_y\": 3115.0}, \"1576672\": {\"node_is_primary\": false, \"name\": \"H+\", \"label_x\": 1169.0, \"node_type\": \"metabolite\", \"y\": 2465.0, \"x\": 1145.0, \"bigg_id\": \"h_c\", \"label_y\": 2465.0}, \"1576671\": {\"node_is_primary\": false, \"name\": \"Nicotinamide adenine dinucleotide - reduced\", \"label_x\": 1165.0, \"node_type\": \"metabolite\", \"y\": 2515.0, \"x\": 1145.0, \"bigg_id\": \"nadh_c\", \"label_y\": 2515.0}, \"1576670\": {\"node_is_primary\": false, \"name\": \"Phosphate\", \"label_x\": 1165.0, \"node_type\": \"metabolite\", \"y\": 2315.0, \"x\": 1145.0, \"bigg_id\": \"pi_c\", \"label_y\": 2315.0}, \"1576679\": {\"node_is_primary\": false, \"name\": \"H+\", \"label_x\": 4050.0, \"node_type\": \"metabolite\", \"y\": 3558.0, \"x\": 4042.0, \"bigg_id\": \"h_c\", \"label_y\": 3530.0}, \"1576678\": {\"node_is_primary\": false, \"name\": \"Ammonium\", \"label_x\": 3856.820068359375, \"node_type\": \"metabolite\", \"y\": 3558.0, \"x\": 3942.0, \"bigg_id\": \"nh4_c\", \"label_y\": 3573.222900390625}, \"1576938\": {\"y\": 4158.0, \"x\": 4415.0, \"node_type\": \"multimarker\"}, \"1576939\": {\"y\": 4158.0, \"x\": 4435.0, \"node_type\": \"midmarker\"}, \"1576930\": {\"y\": 1900.0, \"x\": 4630.0, \"node_type\": \"multimarker\"}, \"1576931\": {\"y\": 1425.0, \"x\": 2305.0, \"node_type\": \"midmarker\"}, \"1576932\": {\"y\": 3341.0, \"x\": 2843.0, \"node_type\": \"multimarker\"}, \"1576933\": {\"y\": 3445.0, \"x\": 2994.0, \"node_type\": \"multimarker\"}, \"1576934\": {\"y\": 3388.0, \"x\": 2911.0, \"node_type\": \"midmarker\"}, \"1576935\": {\"y\": 4065.0, \"x\": 1715.0, \"node_type\": \"multimarker\"}, \"1576936\": {\"y\": 4105.0, \"x\": 1715.0, \"node_type\": \"multimarker\"}, \"1576937\": {\"y\": 4085.0, \"x\": 1715.0, \"node_type\": \"midmarker\"}, \"1577009\": {\"y\": 470.0, \"x\": 2840.0, \"node_type\": \"midmarker\"}, \"1577008\": {\"y\": 2395.0, \"x\": 1055.0, \"node_type\": \"midmarker\"}, \"1577007\": {\"y\": 2435.0, \"x\": 1055.0, \"node_type\": \"multimarker\"}, \"1577006\": {\"y\": 2345.0, \"x\": 1055.0, \"node_type\": \"multimarker\"}, \"1577005\": {\"y\": 1265.0, \"x\": 1617.0, \"node_type\": \"multimarker\"}, \"1577004\": {\"y\": 1265.0, \"x\": 1657.0, \"node_type\": \"multimarker\"}, \"1577003\": {\"y\": 1265.0, \"x\": 1637.0, \"node_type\": \"midmarker\"}, \"1577002\": {\"y\": 2846.0, \"x\": 4560.0, \"node_type\": \"multimarker\"}, \"1577001\": {\"y\": 2846.0, \"x\": 4770.0, \"node_type\": \"multimarker\"}, \"1577000\": {\"y\": 2846.0, \"x\": 4667.0, \"node_type\": \"midmarker\"}, \"1577094\": {\"node_is_primary\": false, \"name\": \"Phosphoenolpyruvate\", \"label_x\": 4379.6201171875, \"node_type\": \"metabolite\", \"y\": 4629.59423828125, \"x\": 4414.0517578125, \"bigg_id\": \"pep_c\", \"label_y\": 4607.90673828125}, \"1577095\": {\"node_is_primary\": false, \"name\": \"L-Glutamine\", \"label_x\": 4253.14453125, \"node_type\": \"metabolite\", \"y\": 4650.7197265625, \"x\": 4332.9951171875, \"bigg_id\": \"gln__L_c\", \"label_y\": 4627.97607421875}, \"1577096\": {\"node_is_primary\": false, \"name\": \"Nicotinamide adenine dinucleotide phosphate\", \"label_x\": 4968.08447265625, \"node_type\": \"metabolite\", \"y\": 4864.818359375, \"x\": 5028.71435546875, \"bigg_id\": \"nadp_c\", \"label_y\": 4902.36181640625}, \"1577097\": {\"node_is_primary\": false, \"name\": \"Nicotinamide adenine dinucleotide phosphate - reduced\", \"label_x\": 4203.775390625, \"node_type\": \"metabolite\", \"y\": 4682.4072265625, \"x\": 4267.78271484375, \"bigg_id\": \"nadph_c\", \"label_y\": 4664.94482421875}, \"1577090\": {\"node_is_primary\": false, \"name\": \"Nicotinamide adenine dinucleotide - reduced\", \"label_x\": 5078.88623046875, \"node_type\": \"metabolite\", \"y\": 4897.1259765625, \"x\": 5134.0517578125, \"bigg_id\": \"nadh_c\", \"label_y\": 4936.322265625}, \"1577091\": {\"node_is_primary\": false, \"name\": \"2-Oxoglutarate\", \"label_x\": 5497.31591796875, \"node_type\": \"metabolite\", \"y\": 4979.51025390625, \"x\": 5481.046875, \"bigg_id\": \"akg_c\", \"label_y\": 5004.2978515625}, \"1577092\": {\"node_is_primary\": false, \"name\": \"Acetyl-CoA\", \"label_x\": 4556.52001953125, \"node_type\": \"metabolite\", \"y\": 4576.78173828125, \"x\": 4601.51416015625, \"bigg_id\": \"accoa_c\", \"label_y\": 4549.81298828125}, \"1577093\": {\"node_is_primary\": false, \"name\": \"3-Phospho-D-glycerate\", \"label_x\": 4459.6201171875, \"node_type\": \"metabolite\", \"y\": 4602.1318359375, \"x\": 4508.83935546875, \"bigg_id\": \"3pg_c\", \"label_y\": 4576.21923828125}, \"1577098\": {\"node_is_primary\": false, \"name\": \"Phosphate\", \"label_x\": 4884.8583984375, \"node_type\": \"metabolite\", \"y\": 4831.37548828125, \"x\": 4933.43505859375, \"bigg_id\": \"pi_c\", \"label_y\": 4859.1142578125}, \"1577099\": {\"y\": 4023.6457547875243, \"x\": 3055.6239109998846, \"node_type\": \"multimarker\"}, \"1576529\": {\"node_is_primary\": true, \"name\": \"D-Fructose 1,6-bisphosphate\", \"label_x\": 1096.404296875, \"node_type\": \"metabolite\", \"y\": 1925.0, \"x\": 1055.0, \"bigg_id\": \"fdp_c\", \"label_y\": 1928.173583984375}, \"1576528\": {\"node_is_primary\": false, \"name\": \"H2O\", \"label_x\": 672.9427490234375, \"node_type\": \"metabolite\", \"y\": 1855.0, \"x\": 765.0, \"bigg_id\": \"h2o_c\", \"label_y\": 1861.3470458984375}, \"1576527\": {\"node_is_primary\": true, \"name\": \"Ammonium\", \"label_x\": 4019.0, \"node_type\": \"metabolite\", \"y\": 4441.0, \"x\": 3989.0, \"bigg_id\": \"nh4_c\", \"label_y\": 4441.0}, \"1576526\": {\"node_is_primary\": true, \"name\": \"Ammonium\", \"label_x\": 4019.0, \"node_type\": \"metabolite\", \"y\": 4757.0, \"x\": 3989.0, \"bigg_id\": \"nh4_e\", \"label_y\": 4757.0}, \"1576525\": {\"node_is_primary\": true, \"name\": \"D-Fructose 6-phosphate\", \"label_x\": 1075.0, \"node_type\": \"metabolite\", \"y\": 1545.0, \"x\": 1055.0, \"bigg_id\": \"f6p_c\", \"label_y\": 1525.0}, \"1576524\": {\"node_is_primary\": true, \"name\": \"D-Glucose 6-phosphate\", \"label_x\": 1075.0, \"node_type\": \"metabolite\", \"y\": 1265.0, \"x\": 1055.0, \"bigg_id\": \"g6p_c\", \"label_y\": 1245.0}, \"1576523\": {\"node_is_primary\": false, \"name\": \"H2O\", \"label_x\": 886.289794921875, \"node_type\": \"metabolite\", \"y\": 3325.0, \"x\": 965.0, \"bigg_id\": \"h2o_c\", \"label_y\": 3307.958740234375}, \"1576522\": {\"node_is_primary\": true, \"name\": \"D-Glycerate 2-phosphate\", \"label_x\": 1093.0, \"node_type\": \"metabolite\", \"y\": 3125.0, \"x\": 1055.0, \"bigg_id\": \"2pg_c\", \"label_y\": 3125.0}, \"1576521\": {\"node_is_primary\": true, \"name\": \"Oxaloacetate\", \"label_x\": 2692.0, \"node_type\": \"metabolite\", \"y\": 3724.0, \"x\": 2659.0, \"bigg_id\": \"oaa_c\", \"label_y\": 3724.0}, \"1576520\": {\"node_is_primary\": false, \"name\": \"Phosphate\", \"label_x\": 1685.0, \"node_type\": \"metabolite\", \"y\": 3515.0, \"x\": 1665.0, \"bigg_id\": \"pi_c\", \"label_y\": 3515.0}, \"1576488\": {\"node_is_primary\": false, \"name\": \"ADP\", \"label_x\": 1165.0, \"node_type\": \"metabolite\", \"y\": 2635.0, \"x\": 1145.0, \"bigg_id\": \"adp_c\", \"label_y\": 2635.0}, \"1576841\": {\"y\": 820.0, \"x\": 3510.0, \"node_type\": \"midmarker\"}, \"1576842\": {\"y\": 800.0, \"x\": 3510.0, \"node_type\": \"multimarker\"}, \"1576843\": {\"y\": 870.0, \"x\": 3510.0, \"node_type\": \"multimarker\"}, \"1576844\": {\"y\": 3022.0, \"x\": 2727.0, \"node_type\": \"multimarker\"}, \"1576845\": {\"y\": 3076.0, \"x\": 2684.0, \"node_type\": \"midmarker\"}, \"1576846\": {\"y\": 3846.0, \"x\": 3606.0, \"node_type\": \"midmarker\"}, \"1576847\": {\"y\": 3923.0, \"x\": 3512.0, \"node_type\": \"multimarker\"}, \"1576848\": {\"y\": 3781.0, \"x\": 3663.0, \"node_type\": \"multimarker\"}, \"1576849\": {\"y\": 3945.0, \"x\": 1430.0, \"node_type\": \"multimarker\"}, \"1576485\": {\"node_is_primary\": false, \"name\": \"ATP\", \"label_x\": 1165.0, \"node_type\": \"metabolite\", \"y\": 2805.0, \"x\": 1145.0, \"bigg_id\": \"atp_c\", \"label_y\": 2805.0}, \"1576486\": {\"node_is_primary\": true, \"name\": \"3-Phospho-D-glycerate\", \"label_x\": 1085.0, \"node_type\": \"metabolite\", \"y\": 2875.0, \"x\": 1055.0, \"bigg_id\": \"3pg_c\", \"label_y\": 2875.0}, \"1576487\": {\"node_is_primary\": true, \"name\": \"3-Phospho-D-glyceroyl phosphate\", \"label_x\": 1085.0, \"node_type\": \"metabolite\", \"y\": 2565.0, \"x\": 1055.0, \"bigg_id\": \"13dpg_c\", \"label_y\": 2565.0}, \"1576558\": {\"node_is_primary\": true, \"name\": \"D-Xylulose 5-phosphate\", \"label_x\": 1944.76025390625, \"node_type\": \"metabolite\", \"y\": 1555.0, \"x\": 1945.0, \"bigg_id\": \"xu5p__D_c\", \"label_y\": 1599.5205078125}, \"1576559\": {\"node_is_primary\": true, \"name\": \"H+\", \"label_x\": 4867.7265625, \"node_type\": \"metabolite\", \"y\": 2229.0, \"x\": 4850.0, \"bigg_id\": \"h_e\", \"label_y\": 2273.503662109375}, \"1576552\": {\"node_is_primary\": true, \"name\": \"L-Glutamate\", \"label_x\": 4883.0, \"node_type\": \"metabolite\", \"y\": 3634.0, \"x\": 4883.0, \"bigg_id\": \"glu__L_e\", \"label_y\": 3604.0}, \"1576553\": {\"node_is_primary\": false, \"name\": \"H+\", \"label_x\": 4857.23046875, \"node_type\": \"metabolite\", \"y\": 3703.0, \"x\": 4825.0, \"bigg_id\": \"h_e\", \"label_y\": 3723.0}, \"1576550\": {\"node_is_primary\": false, \"name\": \"ADP\", \"label_x\": 903.744140625, \"node_type\": \"metabolite\", \"y\": 3555.0, \"x\": 965.0, \"bigg_id\": \"adp_c\", \"label_y\": 3528.02490234375}, \"1576551\": {\"node_is_primary\": false, \"name\": \"ATP\", \"label_x\": 929.1323852539062, \"node_type\": \"metabolite\", \"y\": 3815.0, \"x\": 965.0, \"bigg_id\": \"atp_c\", \"label_y\": 3794.372314453125}, \"1576556\": {\"node_is_primary\": true, \"name\": \"D-Lactate\", \"label_x\": 1088.470458984375, \"node_type\": \"metabolite\", \"y\": 4835.0, \"x\": 1055.0, \"bigg_id\": \"lac__D_e\", \"label_y\": 4857.21484375}, \"1576557\": {\"node_is_primary\": true, \"name\": \"Pyruvate\", \"label_x\": 249.61181640625, \"node_type\": \"metabolite\", \"y\": 3945.0, \"x\": 275.0, \"bigg_id\": \"pyr_e\", \"label_y\": 3994.041015625}, \"1576554\": {\"node_is_primary\": true, \"name\": \"L-Glutamate\", \"label_x\": 4221.2158203125, \"node_type\": \"metabolite\", \"y\": 3632.0, \"x\": 4248.0, \"bigg_id\": \"glu__L_c\", \"label_y\": 3601.0}, \"1576555\": {\"node_is_primary\": false, \"name\": \"H+\", \"label_x\": 4503.1796875, \"node_type\": \"metabolite\", \"y\": 3688.0, \"x\": 4478.0, \"bigg_id\": \"h_c\", \"label_y\": 3696.834716796875}, \"1576639\": {\"node_is_primary\": true, \"name\": \"H2O\", \"label_x\": 3287.0, \"node_type\": \"metabolite\", \"y\": 4754.0, \"x\": 3257.0, \"bigg_id\": \"h2o_e\", \"label_y\": 4754.0}, \"1576638\": {\"node_is_primary\": false, \"name\": \"H+\", \"label_x\": 2692.0, \"node_type\": \"metabolite\", \"y\": 3510.0, \"x\": 2660.0, \"bigg_id\": \"h_c\", \"label_y\": 3510.0}, \"1576633\": {\"node_is_primary\": false, \"name\": \"Nicotinamide adenine dinucleotide\", \"label_x\": 935.0, \"node_type\": \"metabolite\", \"y\": 4255.0, \"x\": 955.0, \"bigg_id\": \"nad_c\", \"label_y\": 4255.0}, \"1576632\": {\"node_is_primary\": false, \"name\": \"H+\", \"label_x\": 4305.0, \"node_type\": \"metabolite\", \"y\": 1380.0, \"x\": 4285.0, \"bigg_id\": \"h_c\", \"label_y\": 1380.0}, \"1576631\": {\"node_is_primary\": false, \"name\": \"Phosphate\", \"label_x\": 4305.0, \"node_type\": \"metabolite\", \"y\": 1450.0, \"x\": 4285.0, \"bigg_id\": \"pi_c\", \"label_y\": 1450.0}, \"1576630\": {\"node_is_primary\": false, \"name\": \"H2O\", \"label_x\": 4295.0, \"node_type\": \"metabolite\", \"y\": 1140.0, \"x\": 4275.0, \"bigg_id\": \"h2o_c\", \"label_y\": 1140.0}, \"1576637\": {\"node_is_primary\": false, \"name\": \"Nicotinamide adenine dinucleotide - reduced\", \"label_x\": 2710.0, \"node_type\": \"metabolite\", \"y\": 3585.0, \"x\": 2680.0, \"bigg_id\": \"nadh_c\", \"label_y\": 3590.0}, \"1576636\": {\"node_is_primary\": false, \"name\": \"Nicotinamide adenine dinucleotide\", \"label_x\": 2690.0, \"node_type\": \"metabolite\", \"y\": 3310.0, \"x\": 2670.0, \"bigg_id\": \"nad_c\", \"label_y\": 3320.0}, \"1576635\": {\"node_is_primary\": false, \"name\": \"H+\", \"label_x\": 935.0, \"node_type\": \"metabolite\", \"y\": 4095.0, \"x\": 955.0, \"bigg_id\": \"h_c\", \"label_y\": 4095.0}, \"1576634\": {\"node_is_primary\": false, \"name\": \"Nicotinamide adenine dinucleotide - reduced\", \"label_x\": 935.0, \"node_type\": \"metabolite\", \"y\": 4045.0, \"x\": 955.0, \"bigg_id\": \"nadh_c\", \"label_y\": 4045.0}, \"1577043\": {\"y\": 4071.0, \"x\": 2342.0, \"node_type\": \"multimarker\"}, \"1577042\": {\"y\": 4086.0, \"x\": 2356.0, \"node_type\": \"midmarker\"}, \"1577041\": {\"y\": 4100.0, \"x\": 2371.0, \"node_type\": \"multimarker\"}, \"1577047\": {\"y\": 4432.0, \"x\": 1460.0, \"node_type\": \"midmarker\"}, \"1577046\": {\"y\": 4470.0, \"x\": 1360.0, \"node_type\": \"multimarker\"}, \"1577045\": {\"y\": 4600.0, \"x\": 1360.0, \"node_type\": \"midmarker\"}, \"1577044\": {\"y\": 4730.0, \"x\": 1360.0, \"node_type\": \"multimarker\"}, \"1577049\": {\"y\": 2600.0, \"x\": 3110.0, \"node_type\": \"midmarker\"}, \"1577048\": {\"y\": 2600.0, \"x\": 3080.0, \"node_type\": \"multimarker\"}, \"1576941\": {\"y\": 3330.0, \"x\": 2310.0, \"node_type\": \"multimarker\"}, \"1576940\": {\"y\": 4158.0, \"x\": 4455.0, \"node_type\": \"multimarker\"}, \"1576943\": {\"y\": 3390.0, \"x\": 2190.0, \"node_type\": \"multimarker\"}, \"1576942\": {\"y\": 3360.0, \"x\": 2250.0, \"node_type\": \"midmarker\"}, \"1576945\": {\"y\": 1265.0, \"x\": 1307.0, \"node_type\": \"midmarker\"}, \"1576944\": {\"y\": 1265.0, \"x\": 1327.0, \"node_type\": \"multimarker\"}, \"1576947\": {\"y\": 4935.0, \"x\": 1715.0, \"node_type\": \"midmarker\"}, \"1576946\": {\"y\": 1265.0, \"x\": 1287.0, \"node_type\": \"multimarker\"}, \"1576949\": {\"y\": 3815.0, \"x\": 4247.0, \"node_type\": \"multimarker\"}, \"1576628\": {\"node_is_primary\": false, \"name\": \"H2O\", \"label_x\": 4175.82763671875, \"node_type\": \"metabolite\", \"y\": 3940.0, \"x\": 4201.0, \"bigg_id\": \"h2o_c\", \"label_y\": 3972.89208984375}, \"1576629\": {\"node_is_primary\": false, \"name\": \"Ammonium\", \"label_x\": 4160.99267578125, \"node_type\": \"metabolite\", \"y\": 3762.0, \"x\": 4193.0, \"bigg_id\": \"nh4_c\", \"label_y\": 3793.22314453125}, \"1576888\": {\"y\": 3020.0, \"x\": 3631.0, \"node_type\": \"midmarker\"}, \"1576889\": {\"y\": 2976.0, \"x\": 3588.0, \"node_type\": \"multimarker\"}, \"1576983\": {\"y\": 4255.0, \"x\": 1715.0, \"node_type\": \"multimarker\"}, \"1576620\": {\"node_is_primary\": false, \"name\": \"Nicotinamide adenine dinucleotide\", \"label_x\": 2380.0, \"node_type\": \"metabolite\", \"y\": 3220.0, \"x\": 2360.0, \"bigg_id\": \"nad_c\", \"label_y\": 3220.0}, \"1576621\": {\"node_is_primary\": false, \"name\": \"CO2\", \"label_x\": 1979.703125, \"node_type\": \"metabolite\", \"y\": 3420.0, \"x\": 2060.0, \"bigg_id\": \"co2_c\", \"label_y\": 3415.23974609375}, \"1576839\": {\"y\": 1265.0, \"x\": 1977.0, \"node_type\": \"multimarker\"}, \"1576838\": {\"y\": 1265.0, \"x\": 1937.0, \"node_type\": \"multimarker\"}, \"1576831\": {\"node_is_primary\": false, \"name\": \"H+\", \"label_x\": 2460.1826171875, \"node_type\": \"metabolite\", \"y\": 700.0, \"x\": 2510.0, \"bigg_id\": \"h_e\", \"label_y\": 722.5455932617188}, \"1576830\": {\"node_is_primary\": false, \"name\": \"Ubiquinol-8\", \"label_x\": 3041.5869140625, \"node_type\": \"metabolite\", \"y\": 2740.0, \"x\": 3020.0, \"bigg_id\": \"q8h2_c\", \"label_y\": 2740.0}, \"1576833\": {\"node_is_primary\": false, \"name\": \"H+\", \"label_x\": 1228.8927001953125, \"node_type\": \"metabolite\", \"y\": 4770.0, \"x\": 1270.0, \"bigg_id\": \"h_e\", \"label_y\": 4750.95849609375}, \"1576832\": {\"node_is_primary\": false, \"name\": \"H+\", \"label_x\": 1950.0, \"node_type\": \"metabolite\", \"y\": 3860.0, \"x\": 1950.0, \"bigg_id\": \"h_c\", \"label_y\": 3840.0}, \"1576835\": {\"y\": 2775.0, \"x\": 1055.0, \"node_type\": \"multimarker\"}, \"1576834\": {\"y\": 2665.0, \"x\": 1055.0, \"node_type\": \"multimarker\"}, \"1576837\": {\"y\": 1265.0, \"x\": 1957.0, \"node_type\": \"midmarker\"}, \"1576836\": {\"y\": 2725.0, \"x\": 1055.0, \"node_type\": \"midmarker\"}, \"1576688\": {\"node_is_primary\": false, \"name\": \"H+\", \"label_x\": 351.3470764160156, \"node_type\": \"metabolite\", \"y\": 4045.0, \"x\": 345.0, \"bigg_id\": \"h_e\", \"label_y\": 4072.933837890625}, \"1576689\": {\"node_is_primary\": false, \"name\": \"H+\", \"label_x\": 675.0, \"node_type\": \"metabolite\", \"y\": 4045.0, \"x\": 675.0, \"bigg_id\": \"h_c\", \"label_y\": 4077.694091796875}, \"1576567\": {\"node_is_primary\": false, \"name\": \"Coenzyme A\", \"label_x\": 3448.892578125, \"node_type\": \"metabolite\", \"y\": 2960.0, \"x\": 3460.0, \"bigg_id\": \"coa_c\", \"label_y\": 2991.107421875}, \"1576682\": {\"node_is_primary\": false, \"name\": \"H+\", \"label_x\": 4398.884765625, \"node_type\": \"metabolite\", \"y\": 1150.0, \"x\": 4415.0, \"bigg_id\": \"h_c\", \"label_y\": 1187.7266845703125}, \"1576683\": {\"node_is_primary\": false, \"name\": \"H2O\", \"label_x\": 4482.7265625, \"node_type\": \"metabolite\", \"y\": 1030.0, \"x\": 4482.7265625, \"bigg_id\": \"h2o_c\", \"label_y\": 1010.0}, \"1576680\": {\"node_is_primary\": false, \"name\": \"H+\", \"label_x\": 4865.0, \"node_type\": \"metabolite\", \"y\": 1150.0, \"x\": 4865.0, \"bigg_id\": \"h_e\", \"label_y\": 1180.0}, \"1576568\": {\"node_is_primary\": false, \"name\": \"ATP\", \"label_x\": 3496.826416015625, \"node_type\": \"metabolite\", \"y\": 3030.0, \"x\": 3500.0, \"bigg_id\": \"atp_c\", \"label_y\": 3062.694091796875}, \"1576686\": {\"node_is_primary\": false, \"name\": \"Coenzyme A\", \"label_x\": 2786.826416015625, \"node_type\": \"metabolite\", \"y\": 4091.0, \"x\": 2806.0, \"bigg_id\": \"coa_c\", \"label_y\": 4132.21484375}, \"1576687\": {\"node_is_primary\": false, \"name\": \"H+\", \"label_x\": 2899.041015625, \"node_type\": \"metabolite\", \"y\": 4117.0, \"x\": 2897.0, \"bigg_id\": \"h_c\", \"label_y\": 4155.8671875}, \"1576684\": {\"node_is_primary\": false, \"name\": \"H2O\", \"label_x\": 2599.520751953125, \"node_type\": \"metabolite\", \"y\": 3860.0, \"x\": 2610.0, \"bigg_id\": \"h2o_c\", \"label_y\": 3890.1484375}, \"1576685\": {\"node_is_primary\": true, \"name\": \"Citrate\", \"label_x\": 2972.653076171875, \"node_type\": \"metabolite\", \"y\": 3986.0, \"x\": 2971.0, \"bigg_id\": \"cit_c\", \"label_y\": 3943.1826171875}, \"1576664\": {\"node_is_primary\": false, \"name\": \"H+\", \"label_x\": 4818.7197265625, \"node_type\": \"metabolite\", \"y\": 2921.942138671875, \"x\": 4791.7197265625, \"bigg_id\": \"h_e\", \"label_y\": 2921.942138671875}, \"1576665\": {\"node_is_primary\": false, \"name\": \"H+\", \"label_x\": 4389.423828125, \"node_type\": \"metabolite\", \"y\": 2763.553955078125, \"x\": 4461.380859375, \"bigg_id\": \"h_c\", \"label_y\": 2763.9423828125}, \"1576666\": {\"node_is_primary\": true, \"name\": \"Formate\", \"label_x\": 1500.0, \"node_type\": \"metabolite\", \"y\": 4843.322265625, \"x\": 1460.0, \"bigg_id\": \"for_e\", \"label_y\": 4843.322265625}, \"1576667\": {\"node_is_primary\": false, \"name\": \"H2O\", \"label_x\": 1587.0, \"node_type\": \"metabolite\", \"y\": 1160.0, \"x\": 1587.0, \"bigg_id\": \"h2o_c\", \"label_y\": 1140.0}, \"1576660\": {\"node_is_primary\": false, \"name\": \"H+\", \"label_x\": 1835.0, \"node_type\": \"metabolite\", \"y\": 4775.0, \"x\": 1815.0, \"bigg_id\": \"h_e\", \"label_y\": 4775.0}, \"1576661\": {\"node_is_primary\": false, \"name\": \"H+\", \"label_x\": 1839.76025390625, \"node_type\": \"metabolite\", \"y\": 4452.45458984375, \"x\": 1819.76025390625, \"bigg_id\": \"h_c\", \"label_y\": 4452.45458984375}, \"1576662\": {\"node_is_primary\": false, \"name\": \"Phosphoenolpyruvate\", \"label_x\": 877.8765258789062, \"node_type\": \"metabolite\", \"y\": 974.4060668945312, \"x\": 957.694091796875, \"bigg_id\": \"pep_c\", \"label_y\": 976.9517211914062}, \"1576663\": {\"node_is_primary\": false, \"name\": \"Pyruvate\", \"label_x\": 1193.082275390625, \"node_type\": \"metabolite\", \"y\": 972.8192138671875, \"x\": 1161.3470458984375, \"bigg_id\": \"pyr_c\", \"label_y\": 986.47216796875}, \"1576668\": {\"node_is_primary\": false, \"name\": \"H+\", \"label_x\": 1687.0, \"node_type\": \"metabolite\", \"y\": 1160.0, \"x\": 1687.0, \"bigg_id\": \"h_c\", \"label_y\": 1140.0}, \"1576669\": {\"node_is_primary\": false, \"name\": \"Nicotinamide adenine dinucleotide\", \"label_x\": 1165.0, \"node_type\": \"metabolite\", \"y\": 2265.0, \"x\": 1145.0, \"bigg_id\": \"nad_c\", \"label_y\": 2265.0}, \"1576905\": {\"y\": 1270.0, \"x\": 3470.0, \"node_type\": \"multimarker\"}, \"1576907\": {\"y\": 1270.0, \"x\": 3520.0, \"node_type\": \"midmarker\"}, \"1576906\": {\"y\": 1270.0, \"x\": 3570.0, \"node_type\": \"multimarker\"}, \"1576901\": {\"y\": 3849.0, \"x\": 4364.0, \"node_type\": \"multimarker\"}, \"1576900\": {\"y\": 3869.0, \"x\": 4364.0, \"node_type\": \"midmarker\"}, \"1576909\": {\"y\": 3402.0, \"x\": 3783.0, \"node_type\": \"midmarker\"}, \"1576908\": {\"y\": 3480.0, \"x\": 3780.0, \"node_type\": \"multimarker\"}, \"1577018\": {\"y\": 1150.0, \"x\": 4625.0, \"node_type\": \"multimarker\"}, \"1577019\": {\"y\": 1150.0, \"x\": 4665.0, \"node_type\": \"midmarker\"}, \"1577014\": {\"y\": 3632.0, \"x\": 4078.0, \"node_type\": \"multimarker\"}, \"1577015\": {\"y\": 3632.0, \"x\": 4098.0, \"node_type\": \"midmarker\"}, \"1577016\": {\"y\": 3632.0, \"x\": 4118.0, \"node_type\": \"multimarker\"}, \"1577017\": {\"y\": 1150.0, \"x\": 4705.0, \"node_type\": \"multimarker\"}, \"1577011\": {\"y\": 3027.0, \"x\": 4666.0, \"node_type\": \"midmarker\"}, \"1577012\": {\"y\": 3027.0, \"x\": 4536.0, \"node_type\": \"multimarker\"}, \"1577013\": {\"y\": 3027.0, \"x\": 4796.0, \"node_type\": \"multimarker\"}, \"1576840\": {\"y\": 1660.0, \"x\": 4660.0, \"node_type\": \"midmarker\"}, \"1576489\": {\"node_is_primary\": false, \"name\": \"Nicotinamide adenine dinucleotide phosphate\", \"label_x\": 1907.0, \"node_type\": \"metabolite\", \"y\": 1165.0, \"x\": 1907.0, \"bigg_id\": \"nadp_c\", \"label_y\": 1145.0}, \"1576539\": {\"node_is_primary\": true, \"name\": \"Ubiquinone-8\", \"label_x\": 4686.61181640625, \"node_type\": \"metabolite\", \"y\": 2215.0361328125, \"x\": 4758.67626953125, \"bigg_id\": \"q8_c\", \"label_y\": 2192.47509765625}, \"1576534\": {\"node_is_primary\": true, \"name\": \"ATP\", \"label_x\": 4215.0, \"node_type\": \"metabolite\", \"y\": 1040.0, \"x\": 4215.0, \"bigg_id\": \"atp_c\", \"label_y\": 1010.0}, \"1576535\": {\"node_is_primary\": true, \"name\": \"AMP\", \"label_x\": 4033.388427734375, \"node_type\": \"metabolite\", \"y\": 1070.0, \"x\": 4065.0, \"bigg_id\": \"amp_c\", \"label_y\": 1030.661865234375}, \"1576536\": {\"node_is_primary\": true, \"name\": \"ADP\", \"label_x\": 4196.611328125, \"node_type\": \"metabolite\", \"y\": 1510.0, \"x\": 4215.0, \"bigg_id\": \"adp_c\", \"label_y\": 1556.1151123046875}, \"1576537\": {\"node_is_primary\": true, \"name\": \"L-Glutamine\", \"label_x\": 4851.38134765625, \"node_type\": \"metabolite\", \"y\": 4158.0, \"x\": 4882.0, \"bigg_id\": \"gln__L_e\", \"label_y\": 4199.2802734375}, \"1576530\": {\"node_is_primary\": false, \"name\": \"Phosphate\", \"label_x\": 686.744140625, \"node_type\": \"metabolite\", \"y\": 1565.0, \"x\": 755.0, \"bigg_id\": \"pi_c\", \"label_y\": 1563.4132080078125}, \"1576531\": {\"node_is_primary\": true, \"name\": \"Succinate\", \"label_x\": 4950.4462890625, \"node_type\": \"metabolite\", \"y\": 2880.0, \"x\": 4932.0, \"bigg_id\": \"succ_e\", \"label_y\": 2915.280517578125}, \"1576532\": {\"node_is_primary\": true, \"name\": \"Glyoxylate\", \"label_x\": 3211.3271484375, \"node_type\": \"metabolite\", \"y\": 3570.0, \"x\": 3180.0, \"bigg_id\": \"glx_c\", \"label_y\": 3543.267578125}, \"1576533\": {\"node_is_primary\": true, \"name\": \"Succinate\", \"label_x\": 3439.01611328125, \"node_type\": \"metabolite\", \"y\": 2867.0, \"x\": 3420.0, \"bigg_id\": \"succ_c\", \"label_y\": 2838.810302734375}, \"1576879\": {\"y\": 3635.0, \"x\": 4541.0, \"node_type\": \"multimarker\"}, \"1576878\": {\"y\": 3635.0, \"x\": 4645.0, \"node_type\": \"midmarker\"}, \"1576875\": {\"y\": 3655.0, \"x\": 1055.0, \"node_type\": \"multimarker\"}, \"1576874\": {\"y\": 2035.0, \"x\": 2178.0, \"node_type\": \"multimarker\"}, \"1576877\": {\"y\": 3745.0, \"x\": 1055.0, \"node_type\": \"multimarker\"}, \"1576876\": {\"y\": 3705.0, \"x\": 1055.0, \"node_type\": \"midmarker\"}, \"1576871\": {\"y\": 4914.0, \"x\": 3621.0, \"node_type\": \"midmarker\"}, \"1576569\": {\"node_is_primary\": false, \"name\": \"Phosphate\", \"label_x\": 3814.0, \"node_type\": \"metabolite\", \"y\": 3051.0, \"x\": 3794.0, \"bigg_id\": \"pi_c\", \"label_y\": 3051.0}, \"1576873\": {\"y\": 1955.0, \"x\": 2175.0, \"node_type\": \"multimarker\"}, \"1576872\": {\"y\": 1995.0, \"x\": 2178.0, \"node_type\": \"midmarker\"}, \"1576681\": {\"node_is_primary\": false, \"name\": \"Phosphate\", \"label_x\": 4459.546875, \"node_type\": \"metabolite\", \"y\": 1330.0, \"x\": 4495.0, \"bigg_id\": \"pi_c\", \"label_y\": 1293.5970458984375}, \"1576581\": {\"node_is_primary\": false, \"name\": \"Phosphate\", \"label_x\": 4454.0, \"node_type\": \"metabolite\", \"y\": 4054.0, \"x\": 4434.0, \"bigg_id\": \"pi_c\", \"label_y\": 4054.0}, \"1576580\": {\"node_is_primary\": false, \"name\": \"H+\", \"label_x\": 4454.0, \"node_type\": \"metabolite\", \"y\": 4004.0, \"x\": 4434.0, \"bigg_id\": \"h_c\", \"label_y\": 4004.0}, \"1576585\": {\"node_is_primary\": false, \"name\": \"Coenzyme A\", \"label_x\": 3628.99267578125, \"node_type\": \"metabolite\", \"y\": 3506.0, \"x\": 3684.0, \"bigg_id\": \"coa_c\", \"label_y\": 3483.05029296875}, \"1576584\": {\"node_is_primary\": true, \"name\": \"D-Lactate\", \"label_x\": 1089.0, \"node_type\": \"metabolite\", \"y\": 4345.0, \"x\": 1055.0, \"bigg_id\": \"lac__D_c\", \"label_y\": 4349.0}, \"1576587\": {\"node_is_primary\": false, \"name\": \"CO2\", \"label_x\": 3898.0, \"node_type\": \"metabolite\", \"y\": 3285.0, \"x\": 3872.0, \"bigg_id\": \"co2_c\", \"label_y\": 3285.0}, \"1576586\": {\"node_is_primary\": false, \"name\": \"Nicotinamide adenine dinucleotide\", \"label_x\": 3606.208740234375, \"node_type\": \"metabolite\", \"y\": 3558.0, \"x\": 3684.0, \"bigg_id\": \"nad_c\", \"label_y\": 3539.885009765625}, \"1576589\": {\"node_is_primary\": false, \"name\": \"Coenzyme A\", \"label_x\": 1165.0, \"node_type\": \"metabolite\", \"y\": 4045.0, \"x\": 1165.0, \"bigg_id\": \"coa_c\", \"label_y\": 4065.0}, \"1576588\": {\"node_is_primary\": false, \"name\": \"Nicotinamide adenine dinucleotide - reduced\", \"label_x\": 3846.0, \"node_type\": \"metabolite\", \"y\": 3233.0, \"x\": 3820.0, \"bigg_id\": \"nadh_c\", \"label_y\": 3233.0}, \"1576622\": {\"node_is_primary\": false, \"name\": \"Nicotinamide adenine dinucleotide - reduced\", \"label_x\": 1994.9427490234375, \"node_type\": \"metabolite\", \"y\": 3370.0, \"x\": 2080.0, \"bigg_id\": \"nadh_c\", \"label_y\": 3350.958740234375}, \"1576623\": {\"node_is_primary\": false, \"name\": \"Nicotinamide adenine dinucleotide phosphate\", \"label_x\": 1257.0, \"node_type\": \"metabolite\", \"y\": 1160.0, \"x\": 1257.0, \"bigg_id\": \"nadp_c\", \"label_y\": 1140.0}, \"1576624\": {\"node_is_primary\": false, \"name\": \"Nicotinamide adenine dinucleotide phosphate - reduced\", \"label_x\": 1430.0, \"node_type\": \"metabolite\", \"y\": 1160.0, \"x\": 1407.0, \"bigg_id\": \"nadph_c\", \"label_y\": 1140.0}, \"1576625\": {\"node_is_primary\": false, \"name\": \"H+\", \"label_x\": 1357.0, \"node_type\": \"metabolite\", \"y\": 1160.0, \"x\": 1357.0, \"bigg_id\": \"h_c\", \"label_y\": 1140.0}, \"1576626\": {\"node_is_primary\": true, \"name\": \"6-phospho-D-glucono-1,5-lactone\", \"label_x\": 1507.0, \"node_type\": \"metabolite\", \"y\": 1265.0, \"x\": 1507.0, \"bigg_id\": \"6pgl_c\", \"label_y\": 1235.0}, \"1576627\": {\"node_is_primary\": true, \"name\": \"Acetate\", \"label_x\": 1759.0985107421875, \"node_type\": \"metabolite\", \"y\": 4845.0, \"x\": 1715.0, \"bigg_id\": \"ac_e\", \"label_y\": 4848.173828125}, \"1577050\": {\"y\": 2600.0, \"x\": 3140.0, \"node_type\": \"multimarker\"}, \"1577051\": {\"y\": 1361.5867919921875, \"x\": 576.050048828125, \"node_type\": \"multimarker\"}, \"1577052\": {\"y\": 1361.586669921875, \"x\": 640.0, \"node_type\": \"midmarker\"}, \"1577053\": {\"y\": 1361.586669921875, \"x\": 704.5778198242188, \"node_type\": \"multimarker\"}, \"1577054\": {\"y\": 1360.0, \"x\": 182.0, \"node_type\": \"midmarker\"}, \"1577056\": {\"y\": 736.0, \"x\": 2610.0, \"node_type\": \"multimarker\"}, \"1577057\": {\"y\": 756.0, \"x\": 2610.0, \"node_type\": \"midmarker\"}, \"1577058\": {\"y\": 980.0, \"x\": 2610.0, \"node_type\": \"multimarker\"}, \"1577059\": {\"y\": 470.0, \"x\": 2610.0, \"node_type\": \"midmarker\"}, \"1576897\": {\"y\": 1735.0, \"x\": 1695.0, \"node_type\": \"multimarker\"}, \"1576896\": {\"y\": 1735.0, \"x\": 1525.0, \"node_type\": \"midmarker\"}, \"1576895\": {\"y\": 3636.0, \"x\": 5015.0, \"node_type\": \"midmarker\"}, \"1576893\": {\"y\": 1690.0, \"x\": 1055.0, \"node_type\": \"multimarker\"}, \"1576892\": {\"y\": 1775.0, \"x\": 1055.0, \"node_type\": \"multimarker\"}, \"1576891\": {\"y\": 1735.0, \"x\": 1055.0, \"node_type\": \"midmarker\"}, \"1576890\": {\"y\": 3063.0, \"x\": 3666.0, \"node_type\": \"multimarker\"}, \"1576956\": {\"y\": 4225.0, \"x\": 1055.0, \"node_type\": \"multimarker\"}, \"1576957\": {\"y\": 4175.0, \"x\": 1055.0, \"node_type\": \"midmarker\"}, \"1576954\": {\"y\": 1350.0, \"x\": 4215.0, \"node_type\": \"multimarker\"}, \"1576955\": {\"y\": 4125.0, \"x\": 1055.0, \"node_type\": \"multimarker\"}, \"1576952\": {\"y\": 1200.0, \"x\": 4215.0, \"node_type\": \"multimarker\"}, \"1576953\": {\"y\": 1260.0, \"x\": 4215.0, \"node_type\": \"midmarker\"}, \"1576899\": {\"y\": 3889.0, \"x\": 4364.0, \"node_type\": \"multimarker\"}, \"1576898\": {\"y\": 1735.0, \"x\": 1405.0, \"node_type\": \"multimarker\"}, \"1576958\": {\"y\": 3456.0, \"x\": 2578.0, \"node_type\": \"multimarker\"}, \"1576959\": {\"y\": 3404.0, \"x\": 2577.0, \"node_type\": \"midmarker\"}, \"1576950\": {\"y\": 3877.0, \"x\": 4247.0, \"node_type\": \"multimarker\"}, \"1576951\": {\"y\": 3857.0, \"x\": 4247.0, \"node_type\": \"midmarker\"}, \"1576826\": {\"node_is_primary\": true, \"name\": \"D-Fructose\", \"label_x\": 284.1323547363281, \"node_type\": \"metabolite\", \"y\": 1360.0, \"x\": 300.0, \"bigg_id\": \"fru_e\", \"label_y\": 1405.8675537109375}, \"1576827\": {\"node_is_primary\": true, \"name\": \"Nicotinamide adenine dinucleotide - reduced\", \"label_x\": 4322.0859375, \"node_type\": \"metabolite\", \"y\": 2478.91357421875, \"x\": 4417.8271484375, \"bigg_id\": \"nadh_c\", \"label_y\": 2462.79833984375}, \"1576824\": {\"node_is_primary\": false, \"name\": \"Nicotinamide adenine dinucleotide - reduced\", \"label_x\": 2347.0, \"node_type\": \"metabolite\", \"y\": 3935.0, \"x\": 2333.0, \"bigg_id\": \"nadh_c\", \"label_y\": 3921.0}, \"1576825\": {\"node_is_primary\": false, \"name\": \"Coenzyme A\", \"label_x\": 2140.0, \"node_type\": \"metabolite\", \"y\": 3860.0, \"x\": 2130.0, \"bigg_id\": \"coa_c\", \"label_y\": 3840.0}, \"1576822\": {\"node_is_primary\": false, \"name\": \"Nicotinamide adenine dinucleotide\", \"label_x\": 2496.0, \"node_type\": \"metabolite\", \"y\": 4065.0, \"x\": 2482.0, \"bigg_id\": \"nad_c\", \"label_y\": 4051.0}, \"1576988\": {\"y\": 3868.0, \"x\": 4116.0, \"node_type\": \"midmarker\"}, \"1576820\": {\"node_is_primary\": false, \"name\": \"H+\", \"label_x\": 4273.546875, \"node_type\": \"metabolite\", \"y\": 2570.0, \"x\": 4310.0, \"bigg_id\": \"h_c\", \"label_y\": 2604.6689453125}, \"1576821\": {\"node_is_primary\": false, \"name\": \"Pyruvate\", \"label_x\": 692.5455932617188, \"node_type\": \"metabolite\", \"y\": 1237.785400390625, \"x\": 714.76025390625, \"bigg_id\": \"pyr_c\", \"label_y\": 1207.785400390625}, \"1576985\": {\"y\": 4918.0, \"x\": 3991.0, \"node_type\": \"midmarker\"}, \"1576987\": {\"y\": 3848.0, \"x\": 4116.0, \"node_type\": \"multimarker\"}, \"1576986\": {\"y\": 3888.0, \"x\": 4116.0, \"node_type\": \"multimarker\"}, \"1576981\": {\"y\": 4305.0, \"x\": 1715.0, \"node_type\": \"multimarker\"}, \"1576980\": {\"y\": 4937.93359375, \"x\": 2500.0, \"node_type\": \"midmarker\"}, \"1576828\": {\"node_is_primary\": false, \"name\": \"Nicotinamide adenine dinucleotide\", \"label_x\": 2070.0, \"node_type\": \"metabolite\", \"y\": 3860.0, \"x\": 2070.0, \"bigg_id\": \"nad_c\", \"label_y\": 3840.0}, \"1576829\": {\"node_is_primary\": true, \"name\": \"Ethanol\", \"label_x\": 2522.0, \"node_type\": \"metabolite\", \"y\": 4228.0, \"x\": 2501.0, \"bigg_id\": \"etoh_c\", \"label_y\": 4206.0}, \"1576570\": {\"node_is_primary\": true, \"name\": \"Succinyl-CoA\", \"label_x\": 3772.230712890625, \"node_type\": \"metabolite\", \"y\": 3193.0, \"x\": 3739.0, \"bigg_id\": \"succoa_c\", \"label_y\": 3193.479248046875}, \"1576571\": {\"node_is_primary\": false, \"name\": \"ADP\", \"label_x\": 3788.0, \"node_type\": \"metabolite\", \"y\": 3116.0, \"x\": 3768.0, \"bigg_id\": \"adp_c\", \"label_y\": 3126.0}, \"1576572\": {\"node_is_primary\": false, \"name\": \"ATP\", \"label_x\": 1165.0, \"node_type\": \"metabolite\", \"y\": 1645.0, \"x\": 1145.0, \"bigg_id\": \"atp_c\", \"label_y\": 1645.0}, \"1576573\": {\"node_is_primary\": false, \"name\": \"ADP\", \"label_x\": 1165.0, \"node_type\": \"metabolite\", \"y\": 1805.0, \"x\": 1145.0, \"bigg_id\": \"adp_c\", \"label_y\": 1805.0}, \"1576574\": {\"node_is_primary\": false, \"name\": \"H+\", \"label_x\": 1165.0, \"node_type\": \"metabolite\", \"y\": 1855.0, \"x\": 1145.0, \"bigg_id\": \"h_c\", \"label_y\": 1855.0}, \"1576575\": {\"node_is_primary\": true, \"name\": \"Glyceraldehyde 3-phosphate\", \"label_x\": 1085.0, \"node_type\": \"metabolite\", \"y\": 2195.0, \"x\": 1055.0, \"bigg_id\": \"g3p_c\", \"label_y\": 2195.0}, \"1576576\": {\"node_is_primary\": false, \"name\": \"ATP\", \"label_x\": 4474.0, \"node_type\": \"metabolite\", \"y\": 3755.0, \"x\": 4440.0, \"bigg_id\": \"atp_c\", \"label_y\": 3753.0}, \"1576577\": {\"node_is_primary\": false, \"name\": \"Ammonium\", \"label_x\": 4477.0, \"node_type\": \"metabolite\", \"y\": 3805.0, \"x\": 4440.0, \"bigg_id\": \"nh4_c\", \"label_y\": 3811.0}, \"1576578\": {\"node_is_primary\": true, \"name\": \"L-Glutamine\", \"label_x\": 4245.0, \"node_type\": \"metabolite\", \"y\": 4094.0, \"x\": 4246.0, \"bigg_id\": \"gln__L_c\", \"label_y\": 4130.0}, \"1576579\": {\"node_is_primary\": false, \"name\": \"ADP\", \"label_x\": 4454.0, \"node_type\": \"metabolite\", \"y\": 3954.0, \"x\": 4434.0, \"bigg_id\": \"adp_c\", \"label_y\": 3954.0}, \"1576928\": {\"y\": 1900.0, \"x\": 4660.0, \"node_type\": \"midmarker\"}, \"1576651\": {\"node_is_primary\": false, \"name\": \"ATP\", \"label_x\": 1835.0, \"node_type\": \"metabolite\", \"y\": 4335.0, \"x\": 1815.0, \"bigg_id\": \"atp_c\", \"label_y\": 4335.0}, \"1576650\": {\"node_is_primary\": false, \"name\": \"H+\", \"label_x\": 2620.0, \"node_type\": \"metabolite\", \"y\": 4400.0, \"x\": 2600.0, \"bigg_id\": \"h_c\", \"label_y\": 4400.0}, \"1576653\": {\"node_is_primary\": false, \"name\": \"ADP\", \"label_x\": 1835.0, \"node_type\": \"metabolite\", \"y\": 4225.0, \"x\": 1815.0, \"bigg_id\": \"adp_c\", \"label_y\": 4225.0}, \"1576652\": {\"node_is_primary\": true, \"name\": \"Acetate\", \"label_x\": 1745.0, \"node_type\": \"metabolite\", \"y\": 4385.0, \"x\": 1715.0, \"bigg_id\": \"ac_c\", \"label_y\": 4385.0}, \"1576655\": {\"node_is_primary\": false, \"name\": \"H+\", \"label_x\": 4002.0, \"node_type\": \"metabolite\", \"y\": 3982.0, \"x\": 4029.0, \"bigg_id\": \"h_c\", \"label_y\": 3986.0}, \"1576654\": {\"node_is_primary\": false, \"name\": \"Nicotinamide adenine dinucleotide phosphate - reduced\", \"label_x\": 3993.9423828125, \"node_type\": \"metabolite\", \"y\": 3932.0, \"x\": 4029.0, \"bigg_id\": \"nadph_c\", \"label_y\": 3909.05029296875}, \"1576657\": {\"node_is_primary\": true, \"name\": \"Fumarate\", \"label_x\": 2879.817626953125, \"node_type\": \"metabolite\", \"y\": 650.0, \"x\": 2840.0, \"bigg_id\": \"fum_e\", \"label_y\": 635.0911865234375}, \"1576656\": {\"node_is_primary\": false, \"name\": \"Nicotinamide adenine dinucleotide phosphate\", \"label_x\": 3957.985595703125, \"node_type\": \"metabolite\", \"y\": 3759.0, \"x\": 4043.0, \"bigg_id\": \"nadp_c\", \"label_y\": 3736.215576171875}, \"1576659\": {\"node_is_primary\": false, \"name\": \"H+\", \"label_x\": 2954.28076171875, \"node_type\": \"metabolite\", \"y\": 1010.0, \"x\": 2940.0, \"bigg_id\": \"h_c\", \"label_y\": 1038.4132080078125}, \"1576658\": {\"node_is_primary\": false, \"name\": \"H+\", \"label_x\": 2962.214599609375, \"node_type\": \"metabolite\", \"y\": 700.0, \"x\": 2940.0, \"bigg_id\": \"h_e\", \"label_y\": 718.4132080078125}, \"1576912\": {\"y\": 3995.0, \"x\": 1255.0, \"node_type\": \"multimarker\"}, \"1576913\": {\"y\": 3995.0, \"x\": 1415.0, \"node_type\": \"multimarker\"}, \"1576910\": {\"y\": 3330.0, \"x\": 3776.0, \"node_type\": \"multimarker\"}, \"1576911\": {\"y\": 3995.0, \"x\": 1335.0, \"node_type\": \"midmarker\"}, \"1576916\": {\"y\": 3526.0, \"x\": 1404.0, \"node_type\": \"midmarker\"}, \"1576917\": {\"y\": 3554.0, \"x\": 1485.0, \"node_type\": \"multimarker\"}, \"1576914\": {\"y\": 1660.0, \"x\": 4970.0, \"node_type\": \"midmarker\"}, \"1576918\": {\"y\": 3503.0, \"x\": 1335.0, \"node_type\": \"multimarker\"}, \"1576919\": {\"y\": 4520.0, \"x\": 2880.0, \"node_type\": \"multimarker\"}, \"1577028\": {\"y\": 3360.0, \"x\": 2310.0, \"node_type\": \"multimarker\"}, \"1577021\": {\"y\": 3918.0, \"x\": 2840.0, \"node_type\": \"multimarker\"}, \"1577020\": {\"y\": 3837.0, \"x\": 2744.0, \"node_type\": \"multimarker\"}, \"1577023\": {\"y\": 3945.0, \"x\": 375.0, \"node_type\": \"multimarker\"}, \"1577022\": {\"y\": 3886.0, \"x\": 2798.0, \"node_type\": \"midmarker\"}, \"1577025\": {\"y\": 3945.0, \"x\": 505.0, \"node_type\": \"midmarker\"}, \"1577024\": {\"y\": 3945.0, \"x\": 645.0, \"node_type\": \"multimarker\"}, \"1577027\": {\"y\": 3410.0, \"x\": 2220.0, \"node_type\": \"multimarker\"}, \"1577026\": {\"y\": 3390.0, \"x\": 2260.0, \"node_type\": \"midmarker\"}, \"1576967\": {\"y\": 4604.0, \"x\": 3621.0, \"node_type\": \"midmarker\"}, \"1576966\": {\"y\": 1735.0, \"x\": 2175.0, \"node_type\": \"multimarker\"}, \"1576965\": {\"y\": 1695.0, \"x\": 2175.0, \"node_type\": \"midmarker\"}, \"1576964\": {\"y\": 1645.0, \"x\": 2175.0, \"node_type\": \"multimarker\"}, \"1576962\": {\"y\": 4924.0, \"x\": 3257.0, \"node_type\": \"midmarker\"}, \"1576961\": {\"y\": 4614.0, \"x\": 3257.0, \"node_type\": \"midmarker\"}, \"1576960\": {\"y\": 3341.0, \"x\": 2582.0, \"node_type\": \"multimarker\"}, \"1576969\": {\"y\": 3228.0, \"x\": 5032.0, \"node_type\": \"midmarker\"}, \"1576499\": {\"node_is_primary\": false, \"name\": \"H+\", \"label_x\": 3522.892333984375, \"node_type\": \"metabolite\", \"y\": 1080.287841796875, \"x\": 3510.0, \"bigg_id\": \"h_c\", \"label_y\": 1099.0072021484375}, \"1576999\": {\"y\": 1041.710205078125, \"x\": 1056.5867919921875, \"node_type\": \"multimarker\"}}, \"canvas\": {\"y\": 314.36893920898433, \"x\": 7.857062530517567, \"height\": 4860.457037353515, \"width\": 5894.515691375733}, \"text_labels\": {}}]'),\n",
       "               model_data: JSON.parse('null'),\n",
       "               static_site_index: JSON.parse('null'),\n",
       "           };\n",
       "       }\n",
       "   })();\n",
       "  </script>\n"
      ],
      "text/plain": [
       "<IPython.core.display.HTML object>"
      ]
     },
     "execution_count": 86,
     "metadata": {},
     "output_type": "execute_result"
    }
   ],
   "source": [
    "escher.Builder('e_coli_core.Core metabolism',\n",
    "               reaction_data=solution.fluxes.to_dict()).display_in_notebook()"
   ]
  },
  {
   "cell_type": "markdown",
   "metadata": {},
   "source": [
    "## Manipulating models"
   ]
  },
  {
   "cell_type": "markdown",
   "metadata": {},
   "source": [
    "### Making temporary changes to the model"
   ]
  },
  {
   "cell_type": "markdown",
   "metadata": {},
   "source": [
    "Usually one relies on making copies if objects need to be changed but the original state needs to be retained. Unfortunately, making copies of models is time consuming."
   ]
  },
  {
   "cell_type": "code",
   "execution_count": 87,
   "metadata": {},
   "outputs": [
    {
     "data": {
      "text/html": [
       "<strong><em>Optimal</em> solution with objective value 0.874</strong><br><div>\n",
       "<style scoped>\n",
       "    .dataframe tbody tr th:only-of-type {\n",
       "        vertical-align: middle;\n",
       "    }\n",
       "\n",
       "    .dataframe tbody tr th {\n",
       "        vertical-align: top;\n",
       "    }\n",
       "\n",
       "    .dataframe thead th {\n",
       "        text-align: right;\n",
       "    }\n",
       "</style>\n",
       "<table border=\"1\" class=\"dataframe\">\n",
       "  <thead>\n",
       "    <tr style=\"text-align: right;\">\n",
       "      <th></th>\n",
       "      <th>fluxes</th>\n",
       "      <th>reduced_costs</th>\n",
       "    </tr>\n",
       "  </thead>\n",
       "  <tbody>\n",
       "    <tr>\n",
       "      <th>ACALD</th>\n",
       "      <td>0.000000</td>\n",
       "      <td>8.673617e-19</td>\n",
       "    </tr>\n",
       "    <tr>\n",
       "      <th>ACALDt</th>\n",
       "      <td>0.000000</td>\n",
       "      <td>0.000000e+00</td>\n",
       "    </tr>\n",
       "    <tr>\n",
       "      <th>ACKr</th>\n",
       "      <td>0.000000</td>\n",
       "      <td>-1.734723e-18</td>\n",
       "    </tr>\n",
       "    <tr>\n",
       "      <th>ACONTa</th>\n",
       "      <td>6.007250</td>\n",
       "      <td>0.000000e+00</td>\n",
       "    </tr>\n",
       "    <tr>\n",
       "      <th>ACONTb</th>\n",
       "      <td>6.007250</td>\n",
       "      <td>0.000000e+00</td>\n",
       "    </tr>\n",
       "    <tr>\n",
       "      <th>...</th>\n",
       "      <td>...</td>\n",
       "      <td>...</td>\n",
       "    </tr>\n",
       "    <tr>\n",
       "      <th>TALA</th>\n",
       "      <td>1.496984</td>\n",
       "      <td>0.000000e+00</td>\n",
       "    </tr>\n",
       "    <tr>\n",
       "      <th>THD2</th>\n",
       "      <td>0.000000</td>\n",
       "      <td>-2.546243e-03</td>\n",
       "    </tr>\n",
       "    <tr>\n",
       "      <th>TKT1</th>\n",
       "      <td>1.496984</td>\n",
       "      <td>0.000000e+00</td>\n",
       "    </tr>\n",
       "    <tr>\n",
       "      <th>TKT2</th>\n",
       "      <td>1.181498</td>\n",
       "      <td>0.000000e+00</td>\n",
       "    </tr>\n",
       "    <tr>\n",
       "      <th>TPI</th>\n",
       "      <td>7.477382</td>\n",
       "      <td>0.000000e+00</td>\n",
       "    </tr>\n",
       "  </tbody>\n",
       "</table>\n",
       "<p>95 rows × 2 columns</p>\n",
       "</div>"
      ],
      "text/plain": [
       "<Solution 0.874 at 0x7f65eecebc88>"
      ]
     },
     "execution_count": 87,
     "metadata": {},
     "output_type": "execute_result"
    }
   ],
   "source": [
    "model.optimize()"
   ]
  },
  {
   "cell_type": "code",
   "execution_count": 88,
   "metadata": {},
   "outputs": [
    {
     "name": "stdout",
     "output_type": "stream",
     "text": [
      "CPU times: user 28.6 ms, sys: 3.34 ms, total: 32 ms\n",
      "Wall time: 420 ms\n"
     ]
    }
   ],
   "source": [
    "%%time\n",
    "copy_of_model = model.copy()"
   ]
  },
  {
   "cell_type": "markdown",
   "metadata": {},
   "source": [
    "Yes, even milliseconds add up pretty quickly if you need to run many simulations (e.g. if you need to knock out every single gene individually in the model to check if it is essential or not)."
   ]
  },
  {
   "cell_type": "code",
   "execution_count": 89,
   "metadata": {},
   "outputs": [
    {
     "name": "stdout",
     "output_type": "stream",
     "text": [
      "CPU times: user 3.63 s, sys: 224 ms, total: 3.85 s\n",
      "Wall time: 4.65 s\n"
     ]
    }
   ],
   "source": [
    "%%time\n",
    "for gene in model.genes:\n",
    "    mutant = model.copy()\n",
    "    mutant.genes.get_by_id(gene.id).knock_out()"
   ]
  },
  {
   "cell_type": "markdown",
   "metadata": {},
   "source": [
    "For that reason cobrapy provides a mechanism that is less time consuming. Almost all methods that make changes to the mdoel such as knocking-out genes, reactions, adding or removing metabolites, reactions etc can be automatically reverted upon exit from a python context. How this works is probably best understood by looking at an example."
   ]
  },
  {
   "cell_type": "code",
   "execution_count": 90,
   "metadata": {},
   "outputs": [
    {
     "name": "stdout",
     "output_type": "stream",
     "text": [
      "CPU times: user 50.4 ms, sys: 3.63 ms, total: 54 ms\n",
      "Wall time: 52.8 ms\n"
     ]
    }
   ],
   "source": [
    "%%time\n",
    "with model:\n",
    "    for gene in model.genes:\n",
    "        gene.knock_out()"
   ]
  },
  {
   "cell_type": "markdown",
   "metadata": {},
   "source": [
    "Here, the `with model` statements starts the context and changes done to the model one indentation level to the right, are automatically recorded. When that block finishes, the context manager is requested to roll-back all changes leaving the model looking exactly as it did before all the changes."
   ]
  },
  {
   "cell_type": "markdown",
   "metadata": {},
   "source": [
    "Changing flux bounds can as indicated also be done reversibly. For example let's set the lower and upper bound of phosphoglycerate kinase to 0 (effectively knocking out the reaction)."
   ]
  },
  {
   "cell_type": "code",
   "execution_count": 6,
   "metadata": {},
   "outputs": [
    {
     "name": "stdout",
     "output_type": "stream",
     "text": [
      "PGK's bounds inside the with statement\n",
      "0 (0, 0)\n",
      "Mutant growth rate:  -2.171174082614637e-15\n",
      "PGK's bounds outside the with statement\n",
      "(-1000.0, 1000.0)\n"
     ]
    }
   ],
   "source": [
    "with model:\n",
    "    model.reactions.PGK.bounds = 0, 0\n",
    "    print(\"PGK's bounds inside the with statement\")\n",
    "    print(model.reactions.PGK.lower_bound, model.reactions.PGK.bounds)\n",
    "    print('Mutant growth rate: ', model.optimize().objective_value)\n",
    "print(\"PGK's bounds outside the with statement\")\n",
    "print(model.reactions.PGK.bounds)"
   ]
  },
  {
   "cell_type": "markdown",
   "metadata": {},
   "source": [
    "### Slim versus full optimize"
   ]
  },
  {
   "cell_type": "markdown",
   "metadata": {},
   "source": [
    "Mathematical solvers are now so fast that for many small to mid-size models computing the solution can be even faster than it takes us to collect the values from the solver and convert that to objects that are usable for in python. When we use `model.optimize` we gather values for all reactions and metabolites and that can take some time. If we are only interested in the flux value of a single reaction or the objective, it is faster to instead use `model.slim_optimize` which only does the optimization and returns the objective value leaving it up to you to fetch other values that you may need. For example, let's optimize and get the flux value of the `ATPM` reaction."
   ]
  },
  {
   "cell_type": "code",
   "execution_count": 7,
   "metadata": {},
   "outputs": [
    {
     "name": "stdout",
     "output_type": "stream",
     "text": [
      "CPU times: user 5.37 ms, sys: 1.49 ms, total: 6.86 ms\n",
      "Wall time: 24.9 ms\n"
     ]
    }
   ],
   "source": [
    "%%time\n",
    "solution = model.optimize()\n",
    "solution.fluxes['ATPM']"
   ]
  },
  {
   "cell_type": "code",
   "execution_count": 8,
   "metadata": {},
   "outputs": [
    {
     "name": "stdout",
     "output_type": "stream",
     "text": [
      "CPU times: user 358 µs, sys: 21 µs, total: 379 µs\n",
      "Wall time: 388 µs\n"
     ]
    }
   ],
   "source": [
    "%%time\n",
    "model.slim_optimize()\n",
    "model.reactions.ATPM.flux"
   ]
  },
  {
   "cell_type": "markdown",
   "metadata": {},
   "source": [
    "Again, the difference may seem small but when done thousands of times these small differences can start to become significant."
   ]
  },
  {
   "cell_type": "markdown",
   "metadata": {},
   "source": [
    "### Changing the objective function"
   ]
  },
  {
   "cell_type": "markdown",
   "metadata": {},
   "source": [
    "You can change the objective function like this (e.g. if you'd like to determine the maximum possible production rate of acetate)."
   ]
  },
  {
   "cell_type": "code",
   "execution_count": 153,
   "metadata": {},
   "outputs": [
    {
     "name": "stdout",
     "output_type": "stream",
     "text": [
      "20.0\n"
     ]
    }
   ],
   "source": [
    "with model:\n",
    "    model.objective = model.reactions.EX_ac_e\n",
    "    print(model.optimize().objective_value)"
   ]
  },
  {
   "cell_type": "markdown",
   "metadata": {},
   "source": [
    "### Changing the medium"
   ]
  },
  {
   "cell_type": "markdown",
   "metadata": {},
   "source": [
    "One can access the medium condition using `model.medium`. The indicated bound is the effective upper uptake bound. "
   ]
  },
  {
   "cell_type": "code",
   "execution_count": 9,
   "metadata": {},
   "outputs": [
    {
     "data": {
      "text/plain": [
       "{'EX_co2_e': 1000.0,\n",
       " 'EX_glc__D_e': 10.0,\n",
       " 'EX_h2o_e': 1000.0,\n",
       " 'EX_h_e': 1000.0,\n",
       " 'EX_nh4_e': 1000.0,\n",
       " 'EX_o2_e': 1000.0,\n",
       " 'EX_pi_e': 1000.0}"
      ]
     },
     "execution_count": 9,
     "metadata": {},
     "output_type": "execute_result"
    }
   ],
   "source": [
    "model.medium"
   ]
  },
  {
   "cell_type": "markdown",
   "metadata": {},
   "source": [
    "Changing the carbon source in the medium can be achieved by adjusting the flux bounds of the respective exchange reactions appropriately. For example, the following code block removes glucose from the medium and adds succinate."
   ]
  },
  {
   "cell_type": "code",
   "execution_count": 10,
   "metadata": {},
   "outputs": [
    {
     "name": "stdout",
     "output_type": "stream",
     "text": [
      "0.397563015428\n"
     ]
    }
   ],
   "source": [
    "medium = model.medium\n",
    "with model:\n",
    "    medium['EX_glc__D_e'] = 0\n",
    "    medium['EX_succ_e'] = 10\n",
    "    model.medium = medium\n",
    "    solution = model.optimize()\n",
    "    print(solution.fluxes['BIOMASS_Ecoli_core_w_GAM'])"
   ]
  },
  {
   "cell_type": "markdown",
   "metadata": {},
   "source": [
    "Changing the carbon source to succinate led to a significant drop in growth rate."
   ]
  },
  {
   "cell_type": "markdown",
   "metadata": {},
   "source": [
    "***\n",
    "**??**\n",
    "\n",
    "* Change the carbon source in the medium to a different carbon source. What is the difference in the growth rate observed?\n",
    "* How about growing E. coli under anaerobic conditions?\n",
    "* Now that you know how to compute the maximum production rate of a compound and you know how to manipulate the medium, calculate the theoretical maximum yield for "
   ]
  },
  {
   "cell_type": "code",
   "execution_count": null,
   "metadata": {},
   "outputs": [],
   "source": []
  },
  {
   "cell_type": "markdown",
   "metadata": {},
   "source": [
    "***"
   ]
  },
  {
   "cell_type": "code",
   "execution_count": null,
   "metadata": {},
   "outputs": [],
   "source": []
  },
  {
   "cell_type": "markdown",
   "metadata": {},
   "source": [
    "## Adding reactions and pathways"
   ]
  },
  {
   "cell_type": "code",
   "execution_count": 133,
   "metadata": {},
   "outputs": [],
   "source": [
    "from cobra import Reaction, Metabolite"
   ]
  },
  {
   "cell_type": "markdown",
   "metadata": {},
   "source": [
    "Ok, let's add [cis-aconitic acid decarboxylase](https://www.kegg.jp/entry/R02243), a reaction that produces itaconic acid from the TCA cycle intertmediate cis-aconitate:\n",
    "\n",
    "    1 H(+) + 1 cis-aconitate = 1 CO2 + 1 itaconate"
   ]
  },
  {
   "cell_type": "code",
   "execution_count": 135,
   "metadata": {},
   "outputs": [],
   "source": [
    "new_reaction = Reaction('CAADC')  # CAADC -> (c)is-(a)conitic (a)cid (d)e(c)arboxylase"
   ]
  },
  {
   "cell_type": "markdown",
   "metadata": {},
   "source": [
    "Itaconic acid (or itaconate depending on its protonation state) is not a native metabolite in _E. coli_. So, we need to create a new metabolite."
   ]
  },
  {
   "cell_type": "code",
   "execution_count": 136,
   "metadata": {},
   "outputs": [],
   "source": [
    "itaconate = Metabolite(id='itaconate_c', compartment='c')"
   ]
  },
  {
   "cell_type": "markdown",
   "metadata": {},
   "source": [
    "The native metabolites in the reaction are:"
   ]
  },
  {
   "cell_type": "code",
   "execution_count": 137,
   "metadata": {},
   "outputs": [
    {
     "data": {
      "text/html": [
       "\n",
       "        <table>\n",
       "            <tr>\n",
       "                <td><strong>Metabolite identifier</strong></td><td>acon_C_c</td>\n",
       "            </tr><tr>\n",
       "                <td><strong>Name</strong></td><td>Cis-Aconitate</td>\n",
       "            </tr><tr>\n",
       "                <td><strong>Memory address</strong></td>\n",
       "                <td>0x07f65ae2fa470</td>\n",
       "            </tr><tr>\n",
       "                <td><strong>Formula</strong></td><td>C6H3O6</td>\n",
       "            </tr><tr>\n",
       "                <td><strong>Compartment</strong></td><td>c</td>\n",
       "            </tr><tr>\n",
       "                <td><strong>In 2 reaction(s)</strong></td><td>\n",
       "                    ACONTa, ACONTb</td>\n",
       "            </tr>\n",
       "        </table>"
      ],
      "text/plain": [
       "<Metabolite acon_C_c at 0x7f65ae2fa470>"
      ]
     },
     "execution_count": 137,
     "metadata": {},
     "output_type": "execute_result"
    }
   ],
   "source": [
    "model.metabolites.acon_C_c"
   ]
  },
  {
   "cell_type": "code",
   "execution_count": 138,
   "metadata": {},
   "outputs": [
    {
     "data": {
      "text/html": [
       "\n",
       "        <table>\n",
       "            <tr>\n",
       "                <td><strong>Metabolite identifier</strong></td><td>h_c</td>\n",
       "            </tr><tr>\n",
       "                <td><strong>Name</strong></td><td>H+</td>\n",
       "            </tr><tr>\n",
       "                <td><strong>Memory address</strong></td>\n",
       "                <td>0x07f65ae368dd8</td>\n",
       "            </tr><tr>\n",
       "                <td><strong>Formula</strong></td><td>H</td>\n",
       "            </tr><tr>\n",
       "                <td><strong>Compartment</strong></td><td>c</td>\n",
       "            </tr><tr>\n",
       "                <td><strong>In 35 reaction(s)</strong></td><td>\n",
       "                    PFK, LDH_D, ETOHt2r, PIt2r, CYTBD, CS, MALS, GLUSy, PGL, GLNS, SUCCt2_2, GLUDy, BIOMASS_Ecoli_core_w_GAM, AKGt2r, FORt2, ACALD, MDH, MALt2_2, PYRt2, D_LACt2, GLUt2r, SUCCt3, ALCD2x, GAPD, PYK, ACt2...</td>\n",
       "            </tr>\n",
       "        </table>"
      ],
      "text/plain": [
       "<Metabolite h_c at 0x7f65ae368dd8>"
      ]
     },
     "execution_count": 138,
     "metadata": {},
     "output_type": "execute_result"
    }
   ],
   "source": [
    "model.metabolites.h_c"
   ]
  },
  {
   "cell_type": "code",
   "execution_count": 139,
   "metadata": {},
   "outputs": [
    {
     "data": {
      "text/html": [
       "\n",
       "        <table>\n",
       "            <tr>\n",
       "                <td><strong>Metabolite identifier</strong></td><td>co2_c</td>\n",
       "            </tr><tr>\n",
       "                <td><strong>Name</strong></td><td>CO2</td>\n",
       "            </tr><tr>\n",
       "                <td><strong>Memory address</strong></td>\n",
       "                <td>0x07f65ae2d4cf8</td>\n",
       "            </tr><tr>\n",
       "                <td><strong>Formula</strong></td><td>CO2</td>\n",
       "            </tr><tr>\n",
       "                <td><strong>Compartment</strong></td><td>c</td>\n",
       "            </tr><tr>\n",
       "                <td><strong>In 9 reaction(s)</strong></td><td>\n",
       "                    PDH, ME1, AKGDH, CO2t, PPCK, GND, PPC, ICDHyr, ME2</td>\n",
       "            </tr>\n",
       "        </table>"
      ],
      "text/plain": [
       "<Metabolite co2_c at 0x7f65ae2d4cf8>"
      ]
     },
     "execution_count": 139,
     "metadata": {},
     "output_type": "execute_result"
    }
   ],
   "source": [
    "model.metabolites.co2_c"
   ]
  },
  {
   "cell_type": "markdown",
   "metadata": {},
   "source": [
    "Now, we're going to specify the reaction's stoichiometry."
   ]
  },
  {
   "cell_type": "code",
   "execution_count": 141,
   "metadata": {},
   "outputs": [],
   "source": [
    "new_reaction.add_metabolites({model.metabolites.h_c: -1,\n",
    "                              model.metabolites.acon_C_c: -1,\n",
    "                              itaconate: 1, # our newly created metabolites\n",
    "                              model.metabolites.co2_c: 1\n",
    "                             })"
   ]
  },
  {
   "cell_type": "markdown",
   "metadata": {},
   "source": [
    "Printing the reaction reveals that the reaction reveals that formula is correct."
   ]
  },
  {
   "cell_type": "code",
   "execution_count": 142,
   "metadata": {},
   "outputs": [
    {
     "name": "stdout",
     "output_type": "stream",
     "text": [
      "acon_C_c + h_c --> co2_c + itaconate_c\n"
     ]
    }
   ],
   "source": [
    "print(new_reaction.build_reaction_string())"
   ]
  },
  {
   "cell_type": "markdown",
   "metadata": {},
   "source": [
    "Now, let's add the new reaction to the model."
   ]
  },
  {
   "cell_type": "code",
   "execution_count": 144,
   "metadata": {},
   "outputs": [
    {
     "name": "stderr",
     "output_type": "stream",
     "text": [
      "Ignoring reaction 'CAADC' since it already exists.\n"
     ]
    }
   ],
   "source": [
    "model.add_reactions([new_reaction])"
   ]
  },
  {
   "cell_type": "markdown",
   "metadata": {},
   "source": [
    "Quickly check that the reaction was indeed added to the model."
   ]
  },
  {
   "cell_type": "code",
   "execution_count": 146,
   "metadata": {},
   "outputs": [
    {
     "data": {
      "text/html": [
       "\n",
       "        <table>\n",
       "            <tr>\n",
       "                <td><strong>Reaction identifier</strong></td><td>CAADC</td>\n",
       "            </tr><tr>\n",
       "                <td><strong>Name</strong></td><td></td>\n",
       "            </tr><tr>\n",
       "                <td><strong>Memory address</strong></td>\n",
       "                <td>0x07f65ae835710</td>\n",
       "            </tr><tr>\n",
       "                <td><strong>Stoichiometry</strong></td>\n",
       "                <td>\n",
       "                    <p style='text-align:right'>acon_C_c + h_c --> co2_c + itaconate_c</p>\n",
       "                    <p style='text-align:right'>Cis-Aconitate + H+ --> CO2 + </p>\n",
       "                </td>\n",
       "            </tr><tr>\n",
       "                <td><strong>GPR</strong></td><td></td>\n",
       "            </tr><tr>\n",
       "                <td><strong>Lower bound</strong></td><td>0.0</td>\n",
       "            </tr><tr>\n",
       "                <td><strong>Upper bound</strong></td><td>1000.0</td>\n",
       "            </tr>\n",
       "        </table>\n",
       "        "
      ],
      "text/plain": [
       "<Reaction CAADC at 0x7f65ae835710>"
      ]
     },
     "execution_count": 146,
     "metadata": {},
     "output_type": "execute_result"
    }
   ],
   "source": [
    "model.reactions.CAADC"
   ]
  },
  {
   "cell_type": "markdown",
   "metadata": {},
   "source": [
    "Let's produce some itaconic acid then!"
   ]
  },
  {
   "cell_type": "code",
   "execution_count": 149,
   "metadata": {},
   "outputs": [
    {
     "name": "stdout",
     "output_type": "stream",
     "text": [
      "0.0\n"
     ]
    }
   ],
   "source": [
    "with model:\n",
    "    model.objective = model.reactions.CAADC\n",
    "    print(model.optimize().objective_value)"
   ]
  },
  {
   "cell_type": "markdown",
   "metadata": {},
   "source": [
    "***\n",
    "**??**\n",
    "\n",
    "\n",
    "😞 What happened? Discuss with your partners. Why is there no production flux? How can this situation be resolved?\n",
    "\n",
    "Hints:\n",
    "* Revisit the steady-steady assumption that underlies also GSMs."
   ]
  },
  {
   "cell_type": "code",
   "execution_count": 150,
   "metadata": {},
   "outputs": [],
   "source": [
    "itaconate_exchange = Reaction('EX_itaconate')\n",
    "itaconate_exchange.add_metabolites({model.metabolites.itaconate_c: -1})\n",
    "model.add_reaction(itaconate_exchange)"
   ]
  },
  {
   "cell_type": "markdown",
   "metadata": {},
   "source": [
    "Alternatively, there exists also a convenience function for adding exchange reactions in cobrapy."
   ]
  },
  {
   "cell_type": "code",
   "execution_count": 151,
   "metadata": {},
   "outputs": [
    {
     "data": {
      "text/html": [
       "\n",
       "        <table>\n",
       "            <tr>\n",
       "                <td><strong>Reaction identifier</strong></td><td>DM_itaconate_c</td>\n",
       "            </tr><tr>\n",
       "                <td><strong>Name</strong></td><td> demand</td>\n",
       "            </tr><tr>\n",
       "                <td><strong>Memory address</strong></td>\n",
       "                <td>0x07f65cdc77f98</td>\n",
       "            </tr><tr>\n",
       "                <td><strong>Stoichiometry</strong></td>\n",
       "                <td>\n",
       "                    <p style='text-align:right'>itaconate_c --> </p>\n",
       "                    <p style='text-align:right'> --> </p>\n",
       "                </td>\n",
       "            </tr><tr>\n",
       "                <td><strong>GPR</strong></td><td></td>\n",
       "            </tr><tr>\n",
       "                <td><strong>Lower bound</strong></td><td>0</td>\n",
       "            </tr><tr>\n",
       "                <td><strong>Upper bound</strong></td><td>1000.0</td>\n",
       "            </tr>\n",
       "        </table>\n",
       "        "
      ],
      "text/plain": [
       "<Reaction DM_itaconate_c at 0x7f65cdc77f98>"
      ]
     },
     "execution_count": 151,
     "metadata": {},
     "output_type": "execute_result"
    }
   ],
   "source": [
    "model.add_boundary(model.metabolites.itaconate_c, type='demand')"
   ]
  },
  {
   "cell_type": "code",
   "execution_count": 152,
   "metadata": {},
   "outputs": [
    {
     "name": "stdout",
     "output_type": "stream",
     "text": [
      "10.0\n"
     ]
    }
   ],
   "source": [
    "with model:\n",
    "    model.objective = model.reactions.CAADC\n",
    "    print(model.optimize().objective_value)"
   ]
  },
  {
   "cell_type": "markdown",
   "metadata": {},
   "source": [
    "Yes, much better!"
   ]
  },
  {
   "cell_type": "markdown",
   "metadata": {},
   "source": [
    "***"
   ]
  },
  {
   "cell_type": "markdown",
   "metadata": {},
   "source": [
    "## Gene deletions and gene essentiality"
   ]
  },
  {
   "cell_type": "markdown",
   "metadata": {},
   "source": [
    "### Knocking out a single gene"
   ]
  },
  {
   "cell_type": "markdown",
   "metadata": {},
   "source": [
    "In the model, exactly one gene is associated with reaction with [phosphoglycerate kinase](http://bigg.ucsd.edu/universal/reactions/PGK) (PGK)."
   ]
  },
  {
   "cell_type": "code",
   "execution_count": 2,
   "metadata": {},
   "outputs": [
    {
     "data": {
      "text/plain": [
       "frozenset({<Gene b2926 at 0x11ac145c0>})"
      ]
     },
     "execution_count": 2,
     "metadata": {},
     "output_type": "execute_result"
    }
   ],
   "source": [
    "model.reactions.PGK.genes"
   ]
  },
  {
   "cell_type": "markdown",
   "metadata": {},
   "source": [
    "Checking the name of this gene in the model (the id is the Blattner number b2926), reveals that it is indeed [pgk](http://ecocyc.org/gene?orgid=ECOLI&id=EG10703)."
   ]
  },
  {
   "cell_type": "code",
   "execution_count": 3,
   "metadata": {},
   "outputs": [
    {
     "data": {
      "text/plain": [
       "'pgk'"
      ]
     },
     "execution_count": 3,
     "metadata": {},
     "output_type": "execute_result"
    }
   ],
   "source": [
    "model.genes.b2926.name"
   ]
  },
  {
   "cell_type": "markdown",
   "metadata": {},
   "source": [
    "Is [pgk](http://ecocyc.org/gene?orgid=ECOLI&id=EG10703) essential? Let's find out."
   ]
  },
  {
   "cell_type": "code",
   "execution_count": 4,
   "metadata": {},
   "outputs": [
    {
     "name": "stdout",
     "output_type": "stream",
     "text": [
      "0.0\n"
     ]
    }
   ],
   "source": [
    "with model as pgk_mutant:\n",
    "    pgk_mutant.genes.b2926.knock_out()\n",
    "    print(pgk_mutant.slim_optimize())"
   ]
  },
  {
   "cell_type": "markdown",
   "metadata": {},
   "source": [
    "Yes, it is."
   ]
  },
  {
   "cell_type": "markdown",
   "metadata": {},
   "source": [
    "## Perform all possible single gene deletions"
   ]
  },
  {
   "cell_type": "markdown",
   "metadata": {},
   "source": [
    "Using a `for` loop allows to iterate over all genes in the model and knock out each one of them individually. We're using the model as a context to undo every gene deletion before proceeding to the next knockout."
   ]
  },
  {
   "cell_type": "code",
   "execution_count": 5,
   "metadata": {
    "collapsed": true,
    "jupyter": {
     "outputs_hidden": true
    }
   },
   "outputs": [],
   "source": [
    "essentiality = {}\n",
    "for gene in model.genes:\n",
    "    with model:\n",
    "        gene.knock_out()\n",
    "        essentiality[gene] = model.slim_optimize(error_value=0.)"
   ]
  },
  {
   "cell_type": "code",
   "execution_count": 6,
   "metadata": {},
   "outputs": [
    {
     "data": {
      "text/plain": [
       "{<Gene b0351 at 0x11abe88d0>: 0.8739215069684303,\n",
       " <Gene b1241 at 0x11abe8978>: 0.8739215069684303,\n",
       " <Gene s0001 at 0x11abe8ba8>: 0.21114065257211811,\n",
       " <Gene b1849 at 0x11abe8dd8>: 0.8739215069684366,\n",
       " <Gene b3115 at 0x11abe8e80>: 0.8739215069684366,\n",
       " <Gene b2296 at 0x11abed0f0>: 0.8739215069684366,\n",
       " <Gene b1276 at 0x11abed320>: 0.8739215069684366,\n",
       " <Gene b0118 at 0x11abed550>: 0.8739215069684366,\n",
       " <Gene b0474 at 0x11abed780>: 0.8739215069684366,\n",
       " <Gene b0116 at 0x11abed9b0>: 0.7823510529477373,\n",
       " <Gene b0726 at 0x11abedbe0>: 0.8583074080226895,\n",
       " <Gene b0727 at 0x11abede10>: 0.8583074080226895,\n",
       " <Gene b2587 at 0x11abef080>: 0.8739215069684314,\n",
       " <Gene b0356 at 0x11abef2b0>: 0.8739215069684314,\n",
       " <Gene b1478 at 0x11abef4e0>: 0.8739215069684314,\n",
       " <Gene b3731 at 0x11abef710>: 0.3742298749331111,\n",
       " <Gene b3733 at 0x11abef940>: 0.3742298749331111,\n",
       " <Gene b3735 at 0x11abefb70>: 0.3742298749331111,\n",
       " <Gene b3739 at 0x11abefda0>: 0.8739215069684335,\n",
       " <Gene b3732 at 0x11abeffd0>: 0.3742298749331108,\n",
       " <Gene b3737 at 0x11abf3240>: 0.3742298749331108,\n",
       " <Gene b3736 at 0x11abf3470>: 0.3742298749331108,\n",
       " <Gene b3738 at 0x11abf36a0>: 0.3742298749331108,\n",
       " <Gene b3734 at 0x11abf38d0>: 0.3742298749331108,\n",
       " <Gene b0720 at 0x11abf3b00>: 0.0,\n",
       " <Gene b0979 at 0x11abf3d30>: 0.8739215069684316,\n",
       " <Gene b0978 at 0x11abf3f60>: 0.8739215069684316,\n",
       " <Gene b0733 at 0x11abf51d0>: 0.8739215069684316,\n",
       " <Gene b0734 at 0x11abf5400>: 0.8739215069684316,\n",
       " <Gene b2975 at 0x11abf5630>: 0.8739215069684316,\n",
       " <Gene b3603 at 0x11abf5860>: 0.8739215069684316,\n",
       " <Gene b2779 at 0x11abf5a90>: 5.597179969023558e-18,\n",
       " <Gene b2925 at 0x11abf5cc0>: 0.8739215069684334,\n",
       " <Gene b1773 at 0x11abf5ef0>: 0.8739215069684334,\n",
       " <Gene b2097 at 0x11abf7160>: 0.8739215069684334,\n",
       " <Gene b3925 at 0x11abf7390>: 0.8739215069684334,\n",
       " <Gene b4232 at 0x11abf75c0>: 0.8739215069684334,\n",
       " <Gene b0904 at 0x11abf77f0>: 0.8739215069684334,\n",
       " <Gene b2492 at 0x11abf7a20>: 0.8739215069684334,\n",
       " <Gene b4151 at 0x11abf7c50>: 0.8739215069684334,\n",
       " <Gene b4154 at 0x11abf7e80>: 0.8739215069684334,\n",
       " <Gene b4152 at 0x11abfb0f0>: 0.8739215069684334,\n",
       " <Gene b4153 at 0x11abfb320>: 0.8739215069684334,\n",
       " <Gene b1817 at 0x11abfb550>: 0.8739215069684334,\n",
       " <Gene b2415 at 0x11abfb780>: 0.0,\n",
       " <Gene b1818 at 0x11abfb9b0>: 0.8739215069684315,\n",
       " <Gene b1819 at 0x11abfbbe0>: 0.8739215069684315,\n",
       " <Gene b2416 at 0x11abfbe10>: 0.0,\n",
       " <Gene b4122 at 0x11abfd080>: 0.8739215069684307,\n",
       " <Gene b1612 at 0x11abfd2b0>: 0.8739215069684307,\n",
       " <Gene b1611 at 0x11abfd4e0>: 0.8739215069684307,\n",
       " <Gene b3528 at 0x11abfd710>: 0.8739215069684307,\n",
       " <Gene b1852 at 0x11abfd940>: 0.8638133095040009,\n",
       " <Gene b1779 at 0x11abfdb70>: 1.3397418963809056e-16,\n",
       " <Gene b1101 at 0x11abfdda0>: 0.8739215069684306,\n",
       " <Gene b1621 at 0x11abfdfd0>: 0.8739215069684306,\n",
       " <Gene b2417 at 0x11abff240>: 0.8739215069684306,\n",
       " <Gene b3870 at 0x11abff470>: 0.8739215069684306,\n",
       " <Gene b1297 at 0x11abff6a0>: 0.8739215069684306,\n",
       " <Gene b0810 at 0x11abff8d0>: 0.8739215069684306,\n",
       " <Gene b0809 at 0x11abffb00>: 0.8739215069684306,\n",
       " <Gene b0811 at 0x11abffd30>: 0.8739215069684306,\n",
       " <Gene b1761 at 0x11abfff60>: 0.8513885233462078,\n",
       " <Gene b1524 at 0x11ac031d0>: 0.8739215069684304,\n",
       " <Gene b1812 at 0x11ac03400>: 0.8739215069684304,\n",
       " <Gene b0485 at 0x11ac03630>: 0.8739215069684304,\n",
       " <Gene b3213 at 0x11ac03860>: 0.8739215069684304,\n",
       " <Gene b3212 at 0x11ac03a90>: 0.8739215069684304,\n",
       " <Gene b4077 at 0x11ac03cc0>: 0.8739215069684304,\n",
       " <Gene b2029 at 0x11ac03ef0>: 0.8638133095039995,\n",
       " <Gene b0875 at 0x11ac06160>: 0.8739215069684302,\n",
       " <Gene b1136 at 0x11ac06390>: 1.4099155226041516e-15,\n",
       " <Gene b4015 at 0x11ac065c0>: 0.8739215069684301,\n",
       " <Gene b2133 at 0x11ac067f0>: 0.8739215069684301,\n",
       " <Gene b1380 at 0x11ac06a20>: 0.8739215069684301,\n",
       " <Gene b4014 at 0x11ac06c50>: 0.8739215069684301,\n",
       " <Gene b2976 at 0x11ac06e80>: 0.8739215069684301,\n",
       " <Gene b3236 at 0x11ac090f0>: 0.8258192905969888,\n",
       " <Gene b1479 at 0x11ac09320>: 0.8739215069684304,\n",
       " <Gene b2463 at 0x11ac09550>: 0.8739215069684304,\n",
       " <Gene b2279 at 0x11ac09780>: 0.21166294973531072,\n",
       " <Gene b2282 at 0x11ac099b0>: 0.21166294973531072,\n",
       " <Gene b2284 at 0x11ac09be0>: 0.21166294973531072,\n",
       " <Gene b2287 at 0x11ac09e10>: 0.21166294973531072,\n",
       " <Gene b2276 at 0x11ac0c080>: 0.21166294973531072,\n",
       " <Gene b2278 at 0x11ac0c2b0>: 0.21166294973531072,\n",
       " <Gene b2288 at 0x11ac0c4e0>: 0.21166294973531072,\n",
       " <Gene b2285 at 0x11ac0c710>: 0.21166294973531072,\n",
       " <Gene b2280 at 0x11ac0c940>: 0.21166294973531072,\n",
       " <Gene b2281 at 0x11ac0cb70>: 0.21166294973531072,\n",
       " <Gene b2283 at 0x11ac0cda0>: 0.21166294973531072,\n",
       " <Gene b2286 at 0x11ac0cfd0>: 0.21166294973531072,\n",
       " <Gene b2277 at 0x11ac0e240>: 0.21166294973531072,\n",
       " <Gene b1602 at 0x11ac0e470>: 0.8739215069684289,\n",
       " <Gene b3962 at 0x11ac0e6a0>: 0.8739215069684289,\n",
       " <Gene b1603 at 0x11ac0e8d0>: 0.8739215069684289,\n",
       " <Gene b0451 at 0x11ac0eb00>: 0.8739215069684289,\n",
       " <Gene b0114 at 0x11ac0ed30>: 0.7966959254309577,\n",
       " <Gene b0115 at 0x11ac0ef60>: 0.7966959254309577,\n",
       " <Gene b3916 at 0x11ac111d0>: 0.8739215069684318,\n",
       " <Gene b1723 at 0x11ac11400>: 0.8739215069684318,\n",
       " <Gene b3114 at 0x11ac11630>: 0.8739215069684318,\n",
       " <Gene b3951 at 0x11ac11860>: 0.8739215069684318,\n",
       " <Gene b0902 at 0x11ac11a90>: 0.8739215069684318,\n",
       " <Gene b2579 at 0x11ac11cc0>: 0.8739215069684318,\n",
       " <Gene b0903 at 0x11ac11ef0>: 0.8739215069684318,\n",
       " <Gene b3952 at 0x11ac14160>: 0.8739215069684318,\n",
       " <Gene b4025 at 0x11ac14390>: 0.8631595522084197,\n",
       " <Gene b2926 at 0x11ac145c0>: 1.1746245567390042e-17,\n",
       " <Gene b0767 at 0x11ac147f0>: 0.8638133095040007,\n",
       " <Gene b3612 at 0x11ac14a20>: 0.8739215069684331,\n",
       " <Gene b4395 at 0x11ac14c50>: 0.8739215069684331,\n",
       " <Gene b0755 at 0x11ac14e80>: 0.8739215069684331,\n",
       " <Gene b2987 at 0x11ac170f0>: 0.8739215069684331,\n",
       " <Gene b3493 at 0x11ac17320>: 0.8739215069684331,\n",
       " <Gene b3956 at 0x11ac17550>: 0.8707448062160279,\n",
       " <Gene b3403 at 0x11ac17780>: 0.8739215069684327,\n",
       " <Gene b1702 at 0x11ac179b0>: 0.8739215069684327,\n",
       " <Gene b2297 at 0x11ac17be0>: 0.8739215069684327,\n",
       " <Gene b2458 at 0x11ac17e10>: 0.8739215069684327,\n",
       " <Gene b1676 at 0x11ac1a080>: 0.8739215069684327,\n",
       " <Gene b1854 at 0x11ac1a2b0>: 0.8739215069684327,\n",
       " <Gene b4301 at 0x11ac1a4e0>: 0.8739215069684327,\n",
       " <Gene b3386 at 0x11ac1a710>: 0.8739215069684327,\n",
       " <Gene b2914 at 0x11ac1a940>: 0.8739215069684327,\n",
       " <Gene b4090 at 0x11ac1ab70>: 0.8739215069684327,\n",
       " <Gene b0722 at 0x11ac1ada0>: 0.8142975075325386,\n",
       " <Gene b0724 at 0x11ac1afd0>: 0.8142975075325386,\n",
       " <Gene b0723 at 0x11ac1d240>: 0.8142975075325386,\n",
       " <Gene b0721 at 0x11ac1d470>: 0.8142975075325386,\n",
       " <Gene b0729 at 0x11ac1d6a0>: 0.8583074080226918,\n",
       " <Gene b0728 at 0x11ac1d8d0>: 0.8583074080226918,\n",
       " <Gene b0008 at 0x11ac1db00>: 0.8739215069684326,\n",
       " <Gene b2464 at 0x11ac1dd30>: 0.8739215069684326,\n",
       " <Gene b2935 at 0x11ac1df60>: 0.8739215069684326,\n",
       " <Gene b2465 at 0x11ac201d0>: 0.8739215069684326,\n",
       " <Gene b3919 at 0x11ac20400>: 0.7040369478590276}"
      ]
     },
     "execution_count": 6,
     "metadata": {},
     "output_type": "execute_result"
    }
   ],
   "source": [
    "essentiality"
   ]
  },
  {
   "cell_type": "code",
   "execution_count": 8,
   "metadata": {
    "collapsed": true,
    "jupyter": {
     "outputs_hidden": true
    },
    "scrolled": true
   },
   "outputs": [],
   "source": [
    "df = DataFrame.from_dict(essentiality, orient='index')\n",
    "df = df.rename(columns={0: 'growth'})\n",
    "df = df.sort_values('growth')"
   ]
  },
  {
   "cell_type": "code",
   "execution_count": 9,
   "metadata": {},
   "outputs": [
    {
     "data": {
      "text/plain": [
       "<matplotlib.axes._subplots.AxesSubplot at 0x11ad62128>"
      ]
     },
     "execution_count": 9,
     "metadata": {},
     "output_type": "execute_result"
    },
    {
     "data": {
      "image/png": "[encoded data removed]",
      "text/plain": [
       "<matplotlib.figure.Figure at 0x11ac2f4e0>"
      ]
     },
     "metadata": {},
     "output_type": "display_data"
    }
   ],
   "source": [
    "df.plot.hist()"
   ]
  },
  {
   "cell_type": "code",
   "execution_count": 10,
   "metadata": {},
   "outputs": [
    {
     "data": {
      "image/png": "[encoded data removed]",
      "text/plain": [
       "<matplotlib.figure.Figure at 0x11ae07898>"
      ]
     },
     "metadata": {},
     "output_type": "display_data"
    }
   ],
   "source": [
    "ax = df.plot.bar().axes\n",
    "ax.figure.set_size_inches(16, 9)"
   ]
  },
  {
   "cell_type": "markdown",
   "metadata": {},
   "source": [
    "## Exercises\n",
    "\n",
    "1. How many genes are in each category (essential and non-essential)? How many non-essential genes show a reduced growth rate?\n",
    "2. Determine the essentialiy of genes for all other available carbon sources (if this is too complicated, determine the essentiality profile for one other carbon source).\n",
    "\n",
    "Hints:\n",
    "* Sometimes an optimal solution cannot be found for certain knockouts (an exception is raised). Use `try` and `except` to catch infeasible solutions."
   ]
  },
  {
   "cell_type": "code",
   "execution_count": 11,
   "metadata": {
    "collapsed": true,
    "jupyter": {
     "outputs_hidden": true
    }
   },
   "outputs": [],
   "source": [
    "carbon_exchanges = ['EX_ac_e', 'EX_etoh_e', 'EX_for_e',\n",
    "                    'EX_fru_e', 'EX_fum_e', 'EX_glc__D_e',\n",
    "                    'EX_lac__D_e', 'EX_mal__L_e', 'EX_pyr_e', 'EX_succ_e']"
   ]
  },
  {
   "cell_type": "markdown",
   "metadata": {},
   "source": [
    "## Gene essentiality with respect to each biomass precursor"
   ]
  },
  {
   "cell_type": "code",
   "execution_count": 12,
   "metadata": {},
   "outputs": [
    {
     "data": {
      "text/plain": [
       "16"
      ]
     },
     "execution_count": 12,
     "metadata": {},
     "output_type": "execute_result"
    }
   ],
   "source": [
    "biomass_precursors = model.reactions.BIOMASS_Ecoli_core_w_GAM.reactants\n",
    "len(biomass_precursors)"
   ]
  },
  {
   "cell_type": "code",
   "execution_count": 13,
   "metadata": {},
   "outputs": [
    {
     "data": {
      "text/plain": [
       "[<Metabolite 3pg_c at 0x11ab95e48>,\n",
       " <Metabolite accoa_c at 0x11abb14e0>,\n",
       " <Metabolite atp_c at 0x11abb6828>,\n",
       " <Metabolite e4p_c at 0x11abbd048>,\n",
       " <Metabolite f6p_c at 0x11abbda90>,\n",
       " <Metabolite g3p_c at 0x11abc3d30>,\n",
       " <Metabolite g6p_c at 0x11abc8048>,\n",
       " <Metabolite gln__L_c at 0x11abc8438>,\n",
       " <Metabolite glu__L_c at 0x11abc8780>,\n",
       " <Metabolite h2o_c at 0x11abc2278>,\n",
       " <Metabolite nad_c at 0x11abd6630>,\n",
       " <Metabolite nadph_c at 0x11abd6f28>,\n",
       " <Metabolite oaa_c at 0x11abdbf28>,\n",
       " <Metabolite pep_c at 0x11abdf278>,\n",
       " <Metabolite pyr_c at 0x11abdfc18>,\n",
       " <Metabolite r5p_c at 0x11abe15f8>]"
      ]
     },
     "execution_count": 13,
     "metadata": {},
     "output_type": "execute_result"
    }
   ],
   "source": [
    "biomass_precursors"
   ]
  },
  {
   "cell_type": "code",
   "execution_count": 14,
   "metadata": {},
   "outputs": [
    {
     "name": "stdout",
     "output_type": "stream",
     "text": [
      "Determining essentiality profile for precursor: 3pg_c\n",
      "Determining essentiality profile for precursor: accoa_c\n",
      "Determining essentiality profile for precursor: atp_c\n",
      "Determining essentiality profile for precursor: e4p_c\n",
      "Determining essentiality profile for precursor: f6p_c\n",
      "Determining essentiality profile for precursor: g3p_c\n",
      "Determining essentiality profile for precursor: g6p_c\n",
      "Determining essentiality profile for precursor: gln__L_c\n",
      "Determining essentiality profile for precursor: glu__L_c\n",
      "Determining essentiality profile for precursor: h2o_c\n",
      "Determining essentiality profile for precursor: nad_c\n",
      "Determining essentiality profile for precursor: nadph_c\n",
      "Determining essentiality profile for precursor: oaa_c\n",
      "Determining essentiality profile for precursor: pep_c\n",
      "Determining essentiality profile for precursor: pyr_c\n",
      "Determining essentiality profile for precursor: r5p_c\n"
     ]
    }
   ],
   "source": [
    "precursor_production = pd.DataFrame(columns=['knocked_gene', 'precursor', 'max_production'])\n",
    "index = 0\n",
    "for precursor in biomass_precursors:\n",
    "    print('Determining essentiality profile for precursor: ' + precursor.id)\n",
    "    with model:\n",
    "        model.objective = model.add_boundary(precursor, type='demand')\n",
    "        for gene in model.genes:\n",
    "            with model:\n",
    "                gene.knock_out()\n",
    "                precursor_production.loc[index] = gene.name, precursor.id, model.slim_optimize(error_value=0.)\n",
    "                index += 1"
   ]
  },
  {
   "cell_type": "code",
   "execution_count": 15,
   "metadata": {
    "collapsed": true,
    "jupyter": {
     "outputs_hidden": true
    }
   },
   "outputs": [],
   "source": [
    "precursor_production['can_produce'] = precursor_production['max_production'].apply(lambda x: 0 if x < 0.05 else 1)"
   ]
  },
  {
   "cell_type": "code",
   "execution_count": 16,
   "metadata": {},
   "outputs": [
    {
     "data": {
      "text/html": [
       "<div>\n",
       "<style>\n",
       "    .dataframe thead tr:only-child th {\n",
       "        text-align: right;\n",
       "    }\n",
       "\n",
       "    .dataframe thead th {\n",
       "        text-align: left;\n",
       "    }\n",
       "\n",
       "    .dataframe tbody tr th {\n",
       "        vertical-align: top;\n",
       "    }\n",
       "</style>\n",
       "<table border=\"1\" class=\"dataframe\">\n",
       "  <thead>\n",
       "    <tr style=\"text-align: right;\">\n",
       "      <th></th>\n",
       "      <th>knocked_gene</th>\n",
       "      <th>precursor</th>\n",
       "      <th>max_production</th>\n",
       "      <th>can_produce</th>\n",
       "    </tr>\n",
       "  </thead>\n",
       "  <tbody>\n",
       "    <tr>\n",
       "      <th>0</th>\n",
       "      <td>mhpF</td>\n",
       "      <td>3pg_c</td>\n",
       "      <td>19.6233</td>\n",
       "      <td>1</td>\n",
       "    </tr>\n",
       "    <tr>\n",
       "      <th>1</th>\n",
       "      <td>adhE</td>\n",
       "      <td>3pg_c</td>\n",
       "      <td>19.6233</td>\n",
       "      <td>1</td>\n",
       "    </tr>\n",
       "    <tr>\n",
       "      <th>2</th>\n",
       "      <td>s0001</td>\n",
       "      <td>3pg_c</td>\n",
       "      <td>8.4933</td>\n",
       "      <td>1</td>\n",
       "    </tr>\n",
       "    <tr>\n",
       "      <th>3</th>\n",
       "      <td>purT</td>\n",
       "      <td>3pg_c</td>\n",
       "      <td>19.6233</td>\n",
       "      <td>1</td>\n",
       "    </tr>\n",
       "    <tr>\n",
       "      <th>4</th>\n",
       "      <td>tdcD</td>\n",
       "      <td>3pg_c</td>\n",
       "      <td>19.6233</td>\n",
       "      <td>1</td>\n",
       "    </tr>\n",
       "    <tr>\n",
       "      <th>...</th>\n",
       "      <td>...</td>\n",
       "      <td>...</td>\n",
       "      <td>...</td>\n",
       "      <td>...</td>\n",
       "    </tr>\n",
       "    <tr>\n",
       "      <th>2187</th>\n",
       "      <td>talB</td>\n",
       "      <td>r5p_c</td>\n",
       "      <td>10.0920</td>\n",
       "      <td>1</td>\n",
       "    </tr>\n",
       "    <tr>\n",
       "      <th>2188</th>\n",
       "      <td>talA</td>\n",
       "      <td>r5p_c</td>\n",
       "      <td>10.0920</td>\n",
       "      <td>1</td>\n",
       "    </tr>\n",
       "    <tr>\n",
       "      <th>2189</th>\n",
       "      <td>tktA</td>\n",
       "      <td>r5p_c</td>\n",
       "      <td>10.0920</td>\n",
       "      <td>1</td>\n",
       "    </tr>\n",
       "    <tr>\n",
       "      <th>2190</th>\n",
       "      <td>tktB</td>\n",
       "      <td>r5p_c</td>\n",
       "      <td>10.0920</td>\n",
       "      <td>1</td>\n",
       "    </tr>\n",
       "    <tr>\n",
       "      <th>2191</th>\n",
       "      <td>tpiA</td>\n",
       "      <td>r5p_c</td>\n",
       "      <td>9.6319</td>\n",
       "      <td>1</td>\n",
       "    </tr>\n",
       "  </tbody>\n",
       "</table>\n",
       "<p>2192 rows × 4 columns</p>\n",
       "</div>"
      ],
      "text/plain": [
       "     knocked_gene precursor  max_production  can_produce\n",
       "0            mhpF     3pg_c         19.6233            1\n",
       "1            adhE     3pg_c         19.6233            1\n",
       "2           s0001     3pg_c          8.4933            1\n",
       "3            purT     3pg_c         19.6233            1\n",
       "4            tdcD     3pg_c         19.6233            1\n",
       "...           ...       ...             ...          ...\n",
       "2187         talB     r5p_c         10.0920            1\n",
       "2188         talA     r5p_c         10.0920            1\n",
       "2189         tktA     r5p_c         10.0920            1\n",
       "2190         tktB     r5p_c         10.0920            1\n",
       "2191         tpiA     r5p_c          9.6319            1\n",
       "\n",
       "[2192 rows x 4 columns]"
      ]
     },
     "execution_count": 16,
     "metadata": {},
     "output_type": "execute_result"
    }
   ],
   "source": [
    "precursor_production"
   ]
  },
  {
   "cell_type": "code",
   "execution_count": 17,
   "metadata": {},
   "outputs": [
    {
     "data": {
      "text/html": [
       "<script>requirejs.config({paths: { 'plotly': ['https://cdn.plot.ly/plotly-latest.min']},});if(!window.Plotly) {{require(['plotly'],function(plotly) {window.Plotly=plotly;});}}</script>"
      ],
      "text/vnd.plotly.v1+html": [
       "<script>requirejs.config({paths: { 'plotly': ['https://cdn.plot.ly/plotly-latest.min']},});if(!window.Plotly) {{require(['plotly'],function(plotly) {window.Plotly=plotly;});}}</script>"
      ]
     },
     "metadata": {},
     "output_type": "display_data"
    }
   ],
   "source": [
    "import plotly.graph_objs as go\n",
    "from plotly.offline import init_notebook_mode, iplot\n",
    "init_notebook_mode(connected=True)"
   ]
  },
  {
   "cell_type": "code",
   "execution_count": 18,
   "metadata": {},
   "outputs": [
    {
     "data": {
      "application/vnd.plotly.v1+json": {
       "data": [
        {
         "type": "heatmap",
         "z": [
          [
           1,
           1,
           1,
           1,
           1,
           1,
           1,
           1,
           1,
           1,
           1,
           1,
           1,
           1,
           1,
           1,
           1,
           1,
           1,
           1,
           1,
           1,
           1,
           1,
           1,
           1,
           1,
           1,
           1,
           1,
           1,
           1,
           1,
           1,
           1,
           1,
           1,
           1,
           1,
           1,
           1,
           1,
           1,
           0,
           1,
           1,
           1,
           1,
           1,
           1,
           1,
           1,
           1,
           1,
           1,
           1,
           1,
           1,
           1,
           1,
           1,
           1,
           1,
           1,
           1,
           1,
           1,
           1,
           1,
           1,
           1,
           1,
           1,
           1,
           1,
           1,
           1,
           1,
           1,
           1,
           1,
           1,
           1,
           1,
           1,
           1,
           1,
           1,
           1,
           1,
           1,
           1,
           1,
           1,
           1,
           1,
           1,
           0,
           1,
           1,
           1,
           1,
           1,
           1,
           1,
           1,
           1,
           0,
           0,
           1,
           1,
           1,
           1,
           1,
           1,
           1,
           1,
           1,
           1,
           1,
           1,
           1,
           1,
           1,
           1,
           1,
           1,
           1,
           1,
           1,
           1,
           1,
           1,
           1,
           1,
           1,
           1
          ],
          [
           0,
           0,
           0,
           0,
           0,
           0,
           0,
           0,
           0,
           0,
           0,
           0,
           0,
           0,
           0,
           0,
           0,
           0,
           0,
           0,
           0,
           0,
           0,
           0,
           0,
           0,
           0,
           0,
           0,
           0,
           0,
           0,
           0,
           0,
           0,
           0,
           0,
           0,
           0,
           0,
           0,
           0,
           0,
           0,
           0,
           0,
           0,
           0,
           0,
           0,
           0,
           0,
           0,
           0,
           0,
           0,
           0,
           0,
           0,
           0,
           0,
           0,
           0,
           0,
           0,
           0,
           0,
           0,
           0,
           0,
           0,
           0,
           0,
           0,
           0,
           0,
           0,
           0,
           0,
           0,
           0,
           0,
           0,
           0,
           0,
           0,
           0,
           0,
           0,
           0,
           0,
           0,
           0,
           0,
           0,
           0,
           0,
           0,
           0,
           0,
           0,
           0,
           0,
           0,
           0,
           0,
           0,
           0,
           0,
           0,
           0,
           0,
           0,
           0,
           0,
           0,
           0,
           0,
           0,
           0,
           0,
           0,
           0,
           0,
           0,
           0,
           0,
           0,
           0,
           0,
           0,
           0,
           0,
           0,
           0,
           0,
           0
          ],
          [
           0,
           0,
           0,
           0,
           0,
           0,
           0,
           0,
           0,
           0,
           0,
           0,
           0,
           0,
           0,
           0,
           0,
           0,
           0,
           0,
           0,
           0,
           0,
           0,
           0,
           0,
           0,
           0,
           0,
           0,
           0,
           0,
           0,
           0,
           0,
           0,
           0,
           0,
           0,
           0,
           0,
           0,
           0,
           0,
           0,
           0,
           0,
           0,
           0,
           0,
           0,
           0,
           0,
           0,
           0,
           0,
           0,
           0,
           0,
           0,
           0,
           0,
           0,
           0,
           0,
           0,
           0,
           0,
           0,
           0,
           0,
           0,
           0,
           0,
           0,
           0,
           0,
           0,
           0,
           0,
           0,
           0,
           0,
           0,
           0,
           0,
           0,
           0,
           0,
           0,
           0,
           0,
           0,
           0,
           0,
           0,
           0,
           0,
           0,
           0,
           0,
           0,
           0,
           0,
           0,
           0,
           0,
           0,
           0,
           0,
           0,
           0,
           0,
           0,
           0,
           0,
           0,
           0,
           0,
           0,
           0,
           0,
           0,
           0,
           0,
           0,
           0,
           0,
           0,
           0,
           0,
           0,
           0,
           0,
           0,
           0,
           0
          ],
          [
           1,
           1,
           1,
           1,
           1,
           1,
           1,
           1,
           1,
           1,
           1,
           1,
           1,
           1,
           1,
           1,
           1,
           1,
           1,
           1,
           1,
           1,
           1,
           1,
           1,
           1,
           1,
           1,
           1,
           1,
           1,
           1,
           1,
           1,
           1,
           1,
           1,
           1,
           1,
           1,
           1,
           1,
           1,
           1,
           1,
           1,
           1,
           1,
           1,
           1,
           1,
           1,
           1,
           1,
           1,
           1,
           1,
           1,
           1,
           1,
           1,
           1,
           1,
           1,
           1,
           1,
           1,
           1,
           1,
           1,
           1,
           1,
           1,
           1,
           1,
           1,
           1,
           1,
           1,
           1,
           1,
           1,
           1,
           1,
           1,
           1,
           1,
           1,
           1,
           1,
           1,
           1,
           1,
           1,
           1,
           1,
           1,
           1,
           1,
           1,
           1,
           1,
           1,
           1,
           1,
           1,
           1,
           0,
           0,
           1,
           1,
           1,
           1,
           1,
           1,
           1,
           1,
           1,
           1,
           1,
           1,
           1,
           1,
           1,
           1,
           1,
           1,
           1,
           1,
           1,
           1,
           1,
           1,
           1,
           1,
           1,
           1
          ],
          [
           1,
           1,
           1,
           1,
           1,
           1,
           1,
           1,
           1,
           1,
           1,
           1,
           1,
           1,
           1,
           1,
           1,
           1,
           1,
           1,
           1,
           1,
           1,
           1,
           1,
           1,
           1,
           1,
           1,
           1,
           1,
           1,
           1,
           1,
           1,
           1,
           1,
           1,
           1,
           1,
           1,
           1,
           1,
           1,
           1,
           1,
           1,
           1,
           1,
           1,
           1,
           1,
           1,
           1,
           1,
           1,
           1,
           1,
           1,
           1,
           1,
           1,
           1,
           1,
           1,
           1,
           1,
           1,
           1,
           1,
           1,
           1,
           1,
           1,
           1,
           1,
           1,
           1,
           1,
           1,
           1,
           1,
           1,
           1,
           1,
           1,
           1,
           1,
           1,
           1,
           1,
           1,
           1,
           1,
           1,
           1,
           1,
           1,
           1,
           1,
           1,
           1,
           1,
           1,
           1,
           1,
           1,
           0,
           0,
           1,
           1,
           1,
           1,
           1,
           1,
           1,
           1,
           1,
           1,
           1,
           1,
           1,
           1,
           1,
           1,
           1,
           1,
           1,
           1,
           1,
           1,
           1,
           1,
           1,
           1,
           1,
           1
          ],
          [
           1,
           1,
           1,
           1,
           1,
           1,
           1,
           1,
           1,
           1,
           1,
           1,
           1,
           1,
           1,
           1,
           1,
           1,
           1,
           1,
           1,
           1,
           1,
           1,
           1,
           1,
           1,
           1,
           1,
           1,
           1,
           1,
           1,
           1,
           1,
           1,
           1,
           1,
           1,
           1,
           1,
           1,
           1,
           1,
           1,
           1,
           1,
           1,
           1,
           1,
           1,
           1,
           1,
           1,
           1,
           1,
           1,
           1,
           1,
           1,
           1,
           1,
           1,
           1,
           1,
           1,
           1,
           1,
           1,
           1,
           1,
           1,
           1,
           1,
           1,
           1,
           1,
           1,
           1,
           1,
           1,
           1,
           1,
           1,
           1,
           1,
           1,
           1,
           1,
           1,
           1,
           1,
           1,
           1,
           1,
           1,
           1,
           1,
           1,
           1,
           1,
           1,
           1,
           1,
           1,
           1,
           1,
           0,
           0,
           1,
           1,
           1,
           1,
           1,
           1,
           1,
           1,
           1,
           1,
           1,
           1,
           1,
           1,
           1,
           1,
           1,
           1,
           1,
           1,
           1,
           1,
           1,
           1,
           1,
           1,
           1,
           1
          ],
          [
           1,
           1,
           1,
           1,
           1,
           1,
           1,
           1,
           1,
           1,
           1,
           1,
           1,
           1,
           1,
           1,
           1,
           1,
           1,
           1,
           1,
           1,
           1,
           1,
           1,
           1,
           1,
           1,
           1,
           1,
           1,
           1,
           1,
           1,
           1,
           1,
           1,
           1,
           1,
           1,
           1,
           1,
           1,
           1,
           1,
           1,
           1,
           1,
           1,
           1,
           1,
           1,
           1,
           1,
           1,
           1,
           1,
           1,
           1,
           1,
           1,
           1,
           1,
           1,
           1,
           1,
           1,
           1,
           1,
           1,
           1,
           1,
           1,
           1,
           1,
           1,
           1,
           1,
           1,
           1,
           1,
           1,
           1,
           1,
           1,
           1,
           1,
           1,
           1,
           1,
           1,
           1,
           1,
           1,
           1,
           1,
           1,
           1,
           1,
           1,
           1,
           1,
           1,
           1,
           1,
           1,
           1,
           0,
           0,
           1,
           1,
           1,
           1,
           1,
           1,
           1,
           1,
           1,
           1,
           1,
           1,
           1,
           1,
           1,
           1,
           1,
           1,
           1,
           1,
           1,
           1,
           1,
           1,
           1,
           1,
           1,
           1
          ],
          [
           1,
           1,
           1,
           1,
           1,
           1,
           1,
           1,
           1,
           1,
           1,
           1,
           1,
           1,
           1,
           1,
           1,
           1,
           1,
           1,
           1,
           1,
           1,
           1,
           1,
           1,
           1,
           1,
           0,
           1,
           1,
           1,
           1,
           1,
           1,
           1,
           1,
           1,
           1,
           1,
           1,
           1,
           1,
           0,
           1,
           1,
           1,
           1,
           1,
           1,
           1,
           1,
           1,
           1,
           0,
           1,
           1,
           1,
           1,
           1,
           1,
           1,
           0,
           1,
           1,
           1,
           1,
           1,
           1,
           1,
           1,
           1,
           1,
           1,
           1,
           1,
           1,
           1,
           1,
           1,
           1,
           1,
           1,
           1,
           1,
           1,
           1,
           1,
           1,
           1,
           1,
           1,
           1,
           1,
           1,
           1,
           1,
           0,
           1,
           1,
           1,
           1,
           1,
           1,
           1,
           1,
           1,
           0,
           0,
           1,
           1,
           1,
           1,
           1,
           1,
           1,
           1,
           1,
           1,
           1,
           1,
           1,
           1,
           1,
           1,
           1,
           1,
           1,
           1,
           1,
           1,
           1,
           1,
           1,
           1,
           1,
           1
          ],
          [
           1,
           1,
           1,
           1,
           1,
           1,
           1,
           1,
           1,
           1,
           1,
           1,
           1,
           1,
           1,
           1,
           1,
           1,
           1,
           1,
           1,
           1,
           1,
           1,
           1,
           1,
           1,
           1,
           0,
           1,
           1,
           1,
           1,
           1,
           1,
           1,
           1,
           1,
           1,
           1,
           1,
           1,
           1,
           0,
           1,
           1,
           1,
           1,
           1,
           1,
           1,
           1,
           1,
           1,
           0,
           1,
           1,
           1,
           1,
           1,
           1,
           1,
           0,
           1,
           1,
           1,
           1,
           1,
           1,
           1,
           1,
           1,
           1,
           1,
           1,
           1,
           1,
           1,
           1,
           1,
           1,
           1,
           1,
           1,
           1,
           1,
           1,
           1,
           1,
           1,
           1,
           1,
           1,
           1,
           1,
           1,
           1,
           0,
           1,
           1,
           1,
           1,
           1,
           1,
           1,
           1,
           1,
           0,
           0,
           1,
           1,
           1,
           1,
           1,
           1,
           1,
           1,
           1,
           1,
           1,
           1,
           1,
           1,
           1,
           1,
           1,
           1,
           1,
           1,
           1,
           1,
           1,
           1,
           1,
           1,
           1,
           1
          ],
          [
           1,
           1,
           1,
           1,
           1,
           1,
           1,
           1,
           1,
           1,
           1,
           1,
           1,
           1,
           1,
           1,
           1,
           1,
           1,
           1,
           1,
           1,
           1,
           1,
           1,
           1,
           1,
           1,
           1,
           1,
           1,
           1,
           1,
           1,
           1,
           1,
           1,
           1,
           1,
           1,
           1,
           1,
           1,
           1,
           1,
           1,
           1,
           1,
           1,
           1,
           1,
           1,
           1,
           1,
           1,
           1,
           1,
           1,
           1,
           1,
           1,
           1,
           1,
           1,
           1,
           1,
           1,
           1,
           1,
           1,
           1,
           1,
           1,
           1,
           1,
           1,
           1,
           1,
           1,
           1,
           1,
           1,
           1,
           1,
           1,
           1,
           1,
           1,
           1,
           1,
           1,
           1,
           1,
           1,
           1,
           1,
           1,
           1,
           1,
           1,
           1,
           1,
           1,
           1,
           1,
           1,
           1,
           0,
           0,
           1,
           1,
           1,
           1,
           1,
           1,
           1,
           1,
           1,
           1,
           1,
           1,
           1,
           1,
           1,
           1,
           1,
           1,
           1,
           1,
           1,
           1,
           1,
           1,
           1,
           1,
           1,
           1
          ],
          [
           0,
           0,
           0,
           0,
           0,
           0,
           0,
           0,
           0,
           0,
           0,
           0,
           0,
           0,
           0,
           0,
           0,
           0,
           0,
           0,
           0,
           0,
           0,
           0,
           0,
           0,
           0,
           0,
           0,
           0,
           0,
           0,
           0,
           0,
           0,
           0,
           0,
           0,
           0,
           0,
           0,
           0,
           0,
           0,
           0,
           0,
           0,
           0,
           0,
           0,
           0,
           0,
           0,
           0,
           0,
           0,
           0,
           0,
           0,
           0,
           0,
           0,
           0,
           0,
           0,
           0,
           0,
           0,
           0,
           0,
           0,
           0,
           0,
           0,
           0,
           0,
           0,
           0,
           0,
           0,
           0,
           0,
           0,
           0,
           0,
           0,
           0,
           0,
           0,
           0,
           0,
           0,
           0,
           0,
           0,
           0,
           0,
           0,
           0,
           0,
           0,
           0,
           0,
           0,
           0,
           0,
           0,
           0,
           0,
           0,
           0,
           0,
           0,
           0,
           0,
           0,
           0,
           0,
           0,
           0,
           0,
           0,
           0,
           0,
           0,
           0,
           0,
           0,
           0,
           0,
           0,
           0,
           0,
           0,
           0,
           0,
           0
          ],
          [
           0,
           0,
           0,
           0,
           0,
           0,
           0,
           0,
           0,
           0,
           0,
           0,
           0,
           0,
           0,
           0,
           0,
           0,
           0,
           0,
           0,
           0,
           0,
           0,
           0,
           0,
           0,
           0,
           0,
           0,
           0,
           0,
           0,
           0,
           0,
           0,
           0,
           0,
           0,
           0,
           0,
           0,
           0,
           0,
           0,
           0,
           0,
           0,
           0,
           0,
           0,
           0,
           0,
           0,
           0,
           0,
           0,
           0,
           0,
           0,
           0,
           0,
           0,
           0,
           0,
           0,
           0,
           0,
           0,
           0,
           0,
           0,
           0,
           0,
           0,
           0,
           0,
           0,
           0,
           0,
           0,
           0,
           0,
           0,
           0,
           0,
           0,
           0,
           0,
           0,
           0,
           0,
           0,
           0,
           0,
           0,
           0,
           0,
           0,
           0,
           0,
           0,
           0,
           0,
           0,
           0,
           0,
           0,
           0,
           0,
           0,
           0,
           0,
           0,
           0,
           0,
           0,
           0,
           0,
           0,
           0,
           0,
           0,
           0,
           0,
           0,
           0,
           0,
           0,
           0,
           0,
           0,
           0,
           0,
           0,
           0,
           0
          ],
          [
           1,
           1,
           1,
           1,
           1,
           1,
           1,
           1,
           1,
           1,
           1,
           1,
           1,
           1,
           1,
           1,
           1,
           1,
           1,
           1,
           1,
           1,
           1,
           1,
           1,
           1,
           1,
           1,
           0,
           1,
           1,
           1,
           1,
           1,
           1,
           1,
           1,
           1,
           1,
           1,
           1,
           1,
           1,
           0,
           1,
           1,
           1,
           1,
           1,
           1,
           1,
           1,
           1,
           1,
           1,
           1,
           1,
           1,
           1,
           1,
           1,
           1,
           1,
           1,
           1,
           1,
           1,
           1,
           1,
           1,
           1,
           1,
           1,
           1,
           1,
           1,
           1,
           1,
           1,
           1,
           1,
           1,
           1,
           1,
           1,
           1,
           1,
           1,
           1,
           1,
           1,
           1,
           1,
           1,
           1,
           1,
           1,
           0,
           1,
           1,
           1,
           1,
           1,
           1,
           1,
           1,
           1,
           0,
           0,
           1,
           1,
           1,
           1,
           1,
           1,
           1,
           1,
           1,
           1,
           1,
           1,
           1,
           1,
           1,
           1,
           1,
           1,
           1,
           1,
           1,
           1,
           1,
           1,
           1,
           1,
           1,
           1
          ],
          [
           1,
           1,
           1,
           1,
           1,
           1,
           1,
           1,
           1,
           1,
           1,
           1,
           1,
           1,
           1,
           1,
           1,
           1,
           1,
           1,
           1,
           1,
           1,
           1,
           1,
           1,
           1,
           1,
           0,
           1,
           1,
           1,
           1,
           1,
           1,
           1,
           1,
           1,
           1,
           1,
           1,
           1,
           1,
           0,
           1,
           1,
           1,
           1,
           1,
           1,
           1,
           1,
           1,
           1,
           1,
           1,
           1,
           1,
           1,
           1,
           1,
           1,
           1,
           1,
           1,
           1,
           1,
           1,
           1,
           1,
           1,
           1,
           1,
           1,
           1,
           1,
           1,
           1,
           1,
           1,
           1,
           1,
           1,
           1,
           1,
           1,
           1,
           1,
           1,
           1,
           1,
           1,
           1,
           1,
           1,
           1,
           1,
           0,
           1,
           1,
           1,
           1,
           1,
           1,
           1,
           1,
           1,
           0,
           0,
           1,
           1,
           1,
           1,
           1,
           1,
           1,
           1,
           1,
           1,
           1,
           1,
           1,
           1,
           1,
           1,
           1,
           1,
           1,
           1,
           1,
           1,
           1,
           1,
           1,
           1,
           1,
           1
          ],
          [
           1,
           1,
           1,
           1,
           1,
           1,
           1,
           1,
           1,
           1,
           1,
           1,
           1,
           1,
           1,
           1,
           1,
           1,
           1,
           1,
           1,
           1,
           1,
           1,
           1,
           1,
           1,
           1,
           0,
           1,
           1,
           1,
           1,
           1,
           1,
           1,
           1,
           1,
           1,
           1,
           1,
           1,
           1,
           0,
           1,
           1,
           1,
           1,
           1,
           1,
           1,
           1,
           1,
           1,
           1,
           1,
           1,
           1,
           1,
           1,
           1,
           1,
           1,
           1,
           1,
           1,
           1,
           1,
           1,
           1,
           1,
           1,
           1,
           1,
           1,
           1,
           1,
           1,
           1,
           1,
           1,
           1,
           1,
           1,
           1,
           1,
           1,
           1,
           1,
           1,
           1,
           1,
           1,
           1,
           1,
           1,
           1,
           0,
           1,
           1,
           1,
           1,
           1,
           1,
           1,
           1,
           1,
           0,
           0,
           1,
           1,
           1,
           1,
           1,
           1,
           1,
           1,
           1,
           1,
           1,
           1,
           1,
           1,
           1,
           1,
           1,
           1,
           1,
           1,
           1,
           1,
           1,
           1,
           1,
           1,
           1,
           1
          ],
          [
           1,
           1,
           1,
           1,
           1,
           1,
           1,
           1,
           1,
           1,
           1,
           1,
           1,
           1,
           1,
           1,
           1,
           1,
           1,
           1,
           1,
           1,
           1,
           1,
           1,
           1,
           1,
           1,
           1,
           1,
           1,
           1,
           1,
           1,
           1,
           1,
           1,
           1,
           1,
           1,
           1,
           1,
           1,
           1,
           1,
           1,
           1,
           1,
           1,
           1,
           1,
           1,
           1,
           1,
           1,
           1,
           1,
           1,
           1,
           1,
           1,
           1,
           1,
           1,
           1,
           1,
           1,
           1,
           1,
           1,
           1,
           1,
           1,
           1,
           1,
           1,
           1,
           1,
           1,
           1,
           1,
           1,
           1,
           1,
           1,
           1,
           1,
           1,
           1,
           1,
           1,
           1,
           1,
           1,
           1,
           1,
           1,
           1,
           1,
           1,
           1,
           1,
           1,
           1,
           1,
           1,
           1,
           0,
           0,
           1,
           1,
           1,
           1,
           1,
           1,
           1,
           1,
           1,
           1,
           1,
           1,
           1,
           1,
           1,
           1,
           1,
           1,
           1,
           1,
           1,
           1,
           1,
           1,
           1,
           1,
           1,
           1
          ]
         ]
        }
       ],
       "layout": {
        "xaxis": {
         "title": "knocked genes"
        },
        "yaxis": {
         "title": "precursor"
        }
       }
      },
      "text/html": [
       "<div id=\"01cf105c-9016-49a9-ac91-204d682a5145\" style=\"height: 525px; width: 100%;\" class=\"plotly-graph-div\"></div><script type=\"text/javascript\">require([\"plotly\"], function(Plotly) { window.PLOTLYENV=window.PLOTLYENV || {};window.PLOTLYENV.BASE_URL=\"https://plot.ly\";Plotly.newPlot(\"01cf105c-9016-49a9-ac91-204d682a5145\", [{\"type\": \"heatmap\", \"z\": [[1, 1, 1, 1, 1, 1, 1, 1, 1, 1, 1, 1, 1, 1, 1, 1, 1, 1, 1, 1, 1, 1, 1, 1, 1, 1, 1, 1, 1, 1, 1, 1, 1, 1, 1, 1, 1, 1, 1, 1, 1, 1, 1, 0, 1, 1, 1, 1, 1, 1, 1, 1, 1, 1, 1, 1, 1, 1, 1, 1, 1, 1, 1, 1, 1, 1, 1, 1, 1, 1, 1, 1, 1, 1, 1, 1, 1, 1, 1, 1, 1, 1, 1, 1, 1, 1, 1, 1, 1, 1, 1, 1, 1, 1, 1, 1, 1, 0, 1, 1, 1, 1, 1, 1, 1, 1, 1, 0, 0, 1, 1, 1, 1, 1, 1, 1, 1, 1, 1, 1, 1, 1, 1, 1, 1, 1, 1, 1, 1, 1, 1, 1, 1, 1, 1, 1, 1], [0, 0, 0, 0, 0, 0, 0, 0, 0, 0, 0, 0, 0, 0, 0, 0, 0, 0, 0, 0, 0, 0, 0, 0, 0, 0, 0, 0, 0, 0, 0, 0, 0, 0, 0, 0, 0, 0, 0, 0, 0, 0, 0, 0, 0, 0, 0, 0, 0, 0, 0, 0, 0, 0, 0, 0, 0, 0, 0, 0, 0, 0, 0, 0, 0, 0, 0, 0, 0, 0, 0, 0, 0, 0, 0, 0, 0, 0, 0, 0, 0, 0, 0, 0, 0, 0, 0, 0, 0, 0, 0, 0, 0, 0, 0, 0, 0, 0, 0, 0, 0, 0, 0, 0, 0, 0, 0, 0, 0, 0, 0, 0, 0, 0, 0, 0, 0, 0, 0, 0, 0, 0, 0, 0, 0, 0, 0, 0, 0, 0, 0, 0, 0, 0, 0, 0, 0], [0, 0, 0, 0, 0, 0, 0, 0, 0, 0, 0, 0, 0, 0, 0, 0, 0, 0, 0, 0, 0, 0, 0, 0, 0, 0, 0, 0, 0, 0, 0, 0, 0, 0, 0, 0, 0, 0, 0, 0, 0, 0, 0, 0, 0, 0, 0, 0, 0, 0, 0, 0, 0, 0, 0, 0, 0, 0, 0, 0, 0, 0, 0, 0, 0, 0, 0, 0, 0, 0, 0, 0, 0, 0, 0, 0, 0, 0, 0, 0, 0, 0, 0, 0, 0, 0, 0, 0, 0, 0, 0, 0, 0, 0, 0, 0, 0, 0, 0, 0, 0, 0, 0, 0, 0, 0, 0, 0, 0, 0, 0, 0, 0, 0, 0, 0, 0, 0, 0, 0, 0, 0, 0, 0, 0, 0, 0, 0, 0, 0, 0, 0, 0, 0, 0, 0, 0], [1, 1, 1, 1, 1, 1, 1, 1, 1, 1, 1, 1, 1, 1, 1, 1, 1, 1, 1, 1, 1, 1, 1, 1, 1, 1, 1, 1, 1, 1, 1, 1, 1, 1, 1, 1, 1, 1, 1, 1, 1, 1, 1, 1, 1, 1, 1, 1, 1, 1, 1, 1, 1, 1, 1, 1, 1, 1, 1, 1, 1, 1, 1, 1, 1, 1, 1, 1, 1, 1, 1, 1, 1, 1, 1, 1, 1, 1, 1, 1, 1, 1, 1, 1, 1, 1, 1, 1, 1, 1, 1, 1, 1, 1, 1, 1, 1, 1, 1, 1, 1, 1, 1, 1, 1, 1, 1, 0, 0, 1, 1, 1, 1, 1, 1, 1, 1, 1, 1, 1, 1, 1, 1, 1, 1, 1, 1, 1, 1, 1, 1, 1, 1, 1, 1, 1, 1], [1, 1, 1, 1, 1, 1, 1, 1, 1, 1, 1, 1, 1, 1, 1, 1, 1, 1, 1, 1, 1, 1, 1, 1, 1, 1, 1, 1, 1, 1, 1, 1, 1, 1, 1, 1, 1, 1, 1, 1, 1, 1, 1, 1, 1, 1, 1, 1, 1, 1, 1, 1, 1, 1, 1, 1, 1, 1, 1, 1, 1, 1, 1, 1, 1, 1, 1, 1, 1, 1, 1, 1, 1, 1, 1, 1, 1, 1, 1, 1, 1, 1, 1, 1, 1, 1, 1, 1, 1, 1, 1, 1, 1, 1, 1, 1, 1, 1, 1, 1, 1, 1, 1, 1, 1, 1, 1, 0, 0, 1, 1, 1, 1, 1, 1, 1, 1, 1, 1, 1, 1, 1, 1, 1, 1, 1, 1, 1, 1, 1, 1, 1, 1, 1, 1, 1, 1], [1, 1, 1, 1, 1, 1, 1, 1, 1, 1, 1, 1, 1, 1, 1, 1, 1, 1, 1, 1, 1, 1, 1, 1, 1, 1, 1, 1, 1, 1, 1, 1, 1, 1, 1, 1, 1, 1, 1, 1, 1, 1, 1, 1, 1, 1, 1, 1, 1, 1, 1, 1, 1, 1, 1, 1, 1, 1, 1, 1, 1, 1, 1, 1, 1, 1, 1, 1, 1, 1, 1, 1, 1, 1, 1, 1, 1, 1, 1, 1, 1, 1, 1, 1, 1, 1, 1, 1, 1, 1, 1, 1, 1, 1, 1, 1, 1, 1, 1, 1, 1, 1, 1, 1, 1, 1, 1, 0, 0, 1, 1, 1, 1, 1, 1, 1, 1, 1, 1, 1, 1, 1, 1, 1, 1, 1, 1, 1, 1, 1, 1, 1, 1, 1, 1, 1, 1], [1, 1, 1, 1, 1, 1, 1, 1, 1, 1, 1, 1, 1, 1, 1, 1, 1, 1, 1, 1, 1, 1, 1, 1, 1, 1, 1, 1, 1, 1, 1, 1, 1, 1, 1, 1, 1, 1, 1, 1, 1, 1, 1, 1, 1, 1, 1, 1, 1, 1, 1, 1, 1, 1, 1, 1, 1, 1, 1, 1, 1, 1, 1, 1, 1, 1, 1, 1, 1, 1, 1, 1, 1, 1, 1, 1, 1, 1, 1, 1, 1, 1, 1, 1, 1, 1, 1, 1, 1, 1, 1, 1, 1, 1, 1, 1, 1, 1, 1, 1, 1, 1, 1, 1, 1, 1, 1, 0, 0, 1, 1, 1, 1, 1, 1, 1, 1, 1, 1, 1, 1, 1, 1, 1, 1, 1, 1, 1, 1, 1, 1, 1, 1, 1, 1, 1, 1], [1, 1, 1, 1, 1, 1, 1, 1, 1, 1, 1, 1, 1, 1, 1, 1, 1, 1, 1, 1, 1, 1, 1, 1, 1, 1, 1, 1, 0, 1, 1, 1, 1, 1, 1, 1, 1, 1, 1, 1, 1, 1, 1, 0, 1, 1, 1, 1, 1, 1, 1, 1, 1, 1, 0, 1, 1, 1, 1, 1, 1, 1, 0, 1, 1, 1, 1, 1, 1, 1, 1, 1, 1, 1, 1, 1, 1, 1, 1, 1, 1, 1, 1, 1, 1, 1, 1, 1, 1, 1, 1, 1, 1, 1, 1, 1, 1, 0, 1, 1, 1, 1, 1, 1, 1, 1, 1, 0, 0, 1, 1, 1, 1, 1, 1, 1, 1, 1, 1, 1, 1, 1, 1, 1, 1, 1, 1, 1, 1, 1, 1, 1, 1, 1, 1, 1, 1], [1, 1, 1, 1, 1, 1, 1, 1, 1, 1, 1, 1, 1, 1, 1, 1, 1, 1, 1, 1, 1, 1, 1, 1, 1, 1, 1, 1, 0, 1, 1, 1, 1, 1, 1, 1, 1, 1, 1, 1, 1, 1, 1, 0, 1, 1, 1, 1, 1, 1, 1, 1, 1, 1, 0, 1, 1, 1, 1, 1, 1, 1, 0, 1, 1, 1, 1, 1, 1, 1, 1, 1, 1, 1, 1, 1, 1, 1, 1, 1, 1, 1, 1, 1, 1, 1, 1, 1, 1, 1, 1, 1, 1, 1, 1, 1, 1, 0, 1, 1, 1, 1, 1, 1, 1, 1, 1, 0, 0, 1, 1, 1, 1, 1, 1, 1, 1, 1, 1, 1, 1, 1, 1, 1, 1, 1, 1, 1, 1, 1, 1, 1, 1, 1, 1, 1, 1], [1, 1, 1, 1, 1, 1, 1, 1, 1, 1, 1, 1, 1, 1, 1, 1, 1, 1, 1, 1, 1, 1, 1, 1, 1, 1, 1, 1, 1, 1, 1, 1, 1, 1, 1, 1, 1, 1, 1, 1, 1, 1, 1, 1, 1, 1, 1, 1, 1, 1, 1, 1, 1, 1, 1, 1, 1, 1, 1, 1, 1, 1, 1, 1, 1, 1, 1, 1, 1, 1, 1, 1, 1, 1, 1, 1, 1, 1, 1, 1, 1, 1, 1, 1, 1, 1, 1, 1, 1, 1, 1, 1, 1, 1, 1, 1, 1, 1, 1, 1, 1, 1, 1, 1, 1, 1, 1, 0, 0, 1, 1, 1, 1, 1, 1, 1, 1, 1, 1, 1, 1, 1, 1, 1, 1, 1, 1, 1, 1, 1, 1, 1, 1, 1, 1, 1, 1], [0, 0, 0, 0, 0, 0, 0, 0, 0, 0, 0, 0, 0, 0, 0, 0, 0, 0, 0, 0, 0, 0, 0, 0, 0, 0, 0, 0, 0, 0, 0, 0, 0, 0, 0, 0, 0, 0, 0, 0, 0, 0, 0, 0, 0, 0, 0, 0, 0, 0, 0, 0, 0, 0, 0, 0, 0, 0, 0, 0, 0, 0, 0, 0, 0, 0, 0, 0, 0, 0, 0, 0, 0, 0, 0, 0, 0, 0, 0, 0, 0, 0, 0, 0, 0, 0, 0, 0, 0, 0, 0, 0, 0, 0, 0, 0, 0, 0, 0, 0, 0, 0, 0, 0, 0, 0, 0, 0, 0, 0, 0, 0, 0, 0, 0, 0, 0, 0, 0, 0, 0, 0, 0, 0, 0, 0, 0, 0, 0, 0, 0, 0, 0, 0, 0, 0, 0], [0, 0, 0, 0, 0, 0, 0, 0, 0, 0, 0, 0, 0, 0, 0, 0, 0, 0, 0, 0, 0, 0, 0, 0, 0, 0, 0, 0, 0, 0, 0, 0, 0, 0, 0, 0, 0, 0, 0, 0, 0, 0, 0, 0, 0, 0, 0, 0, 0, 0, 0, 0, 0, 0, 0, 0, 0, 0, 0, 0, 0, 0, 0, 0, 0, 0, 0, 0, 0, 0, 0, 0, 0, 0, 0, 0, 0, 0, 0, 0, 0, 0, 0, 0, 0, 0, 0, 0, 0, 0, 0, 0, 0, 0, 0, 0, 0, 0, 0, 0, 0, 0, 0, 0, 0, 0, 0, 0, 0, 0, 0, 0, 0, 0, 0, 0, 0, 0, 0, 0, 0, 0, 0, 0, 0, 0, 0, 0, 0, 0, 0, 0, 0, 0, 0, 0, 0], [1, 1, 1, 1, 1, 1, 1, 1, 1, 1, 1, 1, 1, 1, 1, 1, 1, 1, 1, 1, 1, 1, 1, 1, 1, 1, 1, 1, 0, 1, 1, 1, 1, 1, 1, 1, 1, 1, 1, 1, 1, 1, 1, 0, 1, 1, 1, 1, 1, 1, 1, 1, 1, 1, 1, 1, 1, 1, 1, 1, 1, 1, 1, 1, 1, 1, 1, 1, 1, 1, 1, 1, 1, 1, 1, 1, 1, 1, 1, 1, 1, 1, 1, 1, 1, 1, 1, 1, 1, 1, 1, 1, 1, 1, 1, 1, 1, 0, 1, 1, 1, 1, 1, 1, 1, 1, 1, 0, 0, 1, 1, 1, 1, 1, 1, 1, 1, 1, 1, 1, 1, 1, 1, 1, 1, 1, 1, 1, 1, 1, 1, 1, 1, 1, 1, 1, 1], [1, 1, 1, 1, 1, 1, 1, 1, 1, 1, 1, 1, 1, 1, 1, 1, 1, 1, 1, 1, 1, 1, 1, 1, 1, 1, 1, 1, 0, 1, 1, 1, 1, 1, 1, 1, 1, 1, 1, 1, 1, 1, 1, 0, 1, 1, 1, 1, 1, 1, 1, 1, 1, 1, 1, 1, 1, 1, 1, 1, 1, 1, 1, 1, 1, 1, 1, 1, 1, 1, 1, 1, 1, 1, 1, 1, 1, 1, 1, 1, 1, 1, 1, 1, 1, 1, 1, 1, 1, 1, 1, 1, 1, 1, 1, 1, 1, 0, 1, 1, 1, 1, 1, 1, 1, 1, 1, 0, 0, 1, 1, 1, 1, 1, 1, 1, 1, 1, 1, 1, 1, 1, 1, 1, 1, 1, 1, 1, 1, 1, 1, 1, 1, 1, 1, 1, 1], [1, 1, 1, 1, 1, 1, 1, 1, 1, 1, 1, 1, 1, 1, 1, 1, 1, 1, 1, 1, 1, 1, 1, 1, 1, 1, 1, 1, 0, 1, 1, 1, 1, 1, 1, 1, 1, 1, 1, 1, 1, 1, 1, 0, 1, 1, 1, 1, 1, 1, 1, 1, 1, 1, 1, 1, 1, 1, 1, 1, 1, 1, 1, 1, 1, 1, 1, 1, 1, 1, 1, 1, 1, 1, 1, 1, 1, 1, 1, 1, 1, 1, 1, 1, 1, 1, 1, 1, 1, 1, 1, 1, 1, 1, 1, 1, 1, 0, 1, 1, 1, 1, 1, 1, 1, 1, 1, 0, 0, 1, 1, 1, 1, 1, 1, 1, 1, 1, 1, 1, 1, 1, 1, 1, 1, 1, 1, 1, 1, 1, 1, 1, 1, 1, 1, 1, 1], [1, 1, 1, 1, 1, 1, 1, 1, 1, 1, 1, 1, 1, 1, 1, 1, 1, 1, 1, 1, 1, 1, 1, 1, 1, 1, 1, 1, 1, 1, 1, 1, 1, 1, 1, 1, 1, 1, 1, 1, 1, 1, 1, 1, 1, 1, 1, 1, 1, 1, 1, 1, 1, 1, 1, 1, 1, 1, 1, 1, 1, 1, 1, 1, 1, 1, 1, 1, 1, 1, 1, 1, 1, 1, 1, 1, 1, 1, 1, 1, 1, 1, 1, 1, 1, 1, 1, 1, 1, 1, 1, 1, 1, 1, 1, 1, 1, 1, 1, 1, 1, 1, 1, 1, 1, 1, 1, 0, 0, 1, 1, 1, 1, 1, 1, 1, 1, 1, 1, 1, 1, 1, 1, 1, 1, 1, 1, 1, 1, 1, 1, 1, 1, 1, 1, 1, 1]]}], {\"xaxis\": {\"title\": \"knocked genes\"}, \"yaxis\": {\"title\": \"precursor\"}}, {\"showLink\": true, \"linkText\": \"Export to plot.ly\"})});</script>"
      ],
      "text/vnd.plotly.v1+html": [
       "<div id=\"01cf105c-9016-49a9-ac91-204d682a5145\" style=\"height: 525px; width: 100%;\" class=\"plotly-graph-div\"></div><script type=\"text/javascript\">require([\"plotly\"], function(Plotly) { window.PLOTLYENV=window.PLOTLYENV || {};window.PLOTLYENV.BASE_URL=\"https://plot.ly\";Plotly.newPlot(\"01cf105c-9016-49a9-ac91-204d682a5145\", [{\"type\": \"heatmap\", \"z\": [[1, 1, 1, 1, 1, 1, 1, 1, 1, 1, 1, 1, 1, 1, 1, 1, 1, 1, 1, 1, 1, 1, 1, 1, 1, 1, 1, 1, 1, 1, 1, 1, 1, 1, 1, 1, 1, 1, 1, 1, 1, 1, 1, 0, 1, 1, 1, 1, 1, 1, 1, 1, 1, 1, 1, 1, 1, 1, 1, 1, 1, 1, 1, 1, 1, 1, 1, 1, 1, 1, 1, 1, 1, 1, 1, 1, 1, 1, 1, 1, 1, 1, 1, 1, 1, 1, 1, 1, 1, 1, 1, 1, 1, 1, 1, 1, 1, 0, 1, 1, 1, 1, 1, 1, 1, 1, 1, 0, 0, 1, 1, 1, 1, 1, 1, 1, 1, 1, 1, 1, 1, 1, 1, 1, 1, 1, 1, 1, 1, 1, 1, 1, 1, 1, 1, 1, 1], [0, 0, 0, 0, 0, 0, 0, 0, 0, 0, 0, 0, 0, 0, 0, 0, 0, 0, 0, 0, 0, 0, 0, 0, 0, 0, 0, 0, 0, 0, 0, 0, 0, 0, 0, 0, 0, 0, 0, 0, 0, 0, 0, 0, 0, 0, 0, 0, 0, 0, 0, 0, 0, 0, 0, 0, 0, 0, 0, 0, 0, 0, 0, 0, 0, 0, 0, 0, 0, 0, 0, 0, 0, 0, 0, 0, 0, 0, 0, 0, 0, 0, 0, 0, 0, 0, 0, 0, 0, 0, 0, 0, 0, 0, 0, 0, 0, 0, 0, 0, 0, 0, 0, 0, 0, 0, 0, 0, 0, 0, 0, 0, 0, 0, 0, 0, 0, 0, 0, 0, 0, 0, 0, 0, 0, 0, 0, 0, 0, 0, 0, 0, 0, 0, 0, 0, 0], [0, 0, 0, 0, 0, 0, 0, 0, 0, 0, 0, 0, 0, 0, 0, 0, 0, 0, 0, 0, 0, 0, 0, 0, 0, 0, 0, 0, 0, 0, 0, 0, 0, 0, 0, 0, 0, 0, 0, 0, 0, 0, 0, 0, 0, 0, 0, 0, 0, 0, 0, 0, 0, 0, 0, 0, 0, 0, 0, 0, 0, 0, 0, 0, 0, 0, 0, 0, 0, 0, 0, 0, 0, 0, 0, 0, 0, 0, 0, 0, 0, 0, 0, 0, 0, 0, 0, 0, 0, 0, 0, 0, 0, 0, 0, 0, 0, 0, 0, 0, 0, 0, 0, 0, 0, 0, 0, 0, 0, 0, 0, 0, 0, 0, 0, 0, 0, 0, 0, 0, 0, 0, 0, 0, 0, 0, 0, 0, 0, 0, 0, 0, 0, 0, 0, 0, 0], [1, 1, 1, 1, 1, 1, 1, 1, 1, 1, 1, 1, 1, 1, 1, 1, 1, 1, 1, 1, 1, 1, 1, 1, 1, 1, 1, 1, 1, 1, 1, 1, 1, 1, 1, 1, 1, 1, 1, 1, 1, 1, 1, 1, 1, 1, 1, 1, 1, 1, 1, 1, 1, 1, 1, 1, 1, 1, 1, 1, 1, 1, 1, 1, 1, 1, 1, 1, 1, 1, 1, 1, 1, 1, 1, 1, 1, 1, 1, 1, 1, 1, 1, 1, 1, 1, 1, 1, 1, 1, 1, 1, 1, 1, 1, 1, 1, 1, 1, 1, 1, 1, 1, 1, 1, 1, 1, 0, 0, 1, 1, 1, 1, 1, 1, 1, 1, 1, 1, 1, 1, 1, 1, 1, 1, 1, 1, 1, 1, 1, 1, 1, 1, 1, 1, 1, 1], [1, 1, 1, 1, 1, 1, 1, 1, 1, 1, 1, 1, 1, 1, 1, 1, 1, 1, 1, 1, 1, 1, 1, 1, 1, 1, 1, 1, 1, 1, 1, 1, 1, 1, 1, 1, 1, 1, 1, 1, 1, 1, 1, 1, 1, 1, 1, 1, 1, 1, 1, 1, 1, 1, 1, 1, 1, 1, 1, 1, 1, 1, 1, 1, 1, 1, 1, 1, 1, 1, 1, 1, 1, 1, 1, 1, 1, 1, 1, 1, 1, 1, 1, 1, 1, 1, 1, 1, 1, 1, 1, 1, 1, 1, 1, 1, 1, 1, 1, 1, 1, 1, 1, 1, 1, 1, 1, 0, 0, 1, 1, 1, 1, 1, 1, 1, 1, 1, 1, 1, 1, 1, 1, 1, 1, 1, 1, 1, 1, 1, 1, 1, 1, 1, 1, 1, 1], [1, 1, 1, 1, 1, 1, 1, 1, 1, 1, 1, 1, 1, 1, 1, 1, 1, 1, 1, 1, 1, 1, 1, 1, 1, 1, 1, 1, 1, 1, 1, 1, 1, 1, 1, 1, 1, 1, 1, 1, 1, 1, 1, 1, 1, 1, 1, 1, 1, 1, 1, 1, 1, 1, 1, 1, 1, 1, 1, 1, 1, 1, 1, 1, 1, 1, 1, 1, 1, 1, 1, 1, 1, 1, 1, 1, 1, 1, 1, 1, 1, 1, 1, 1, 1, 1, 1, 1, 1, 1, 1, 1, 1, 1, 1, 1, 1, 1, 1, 1, 1, 1, 1, 1, 1, 1, 1, 0, 0, 1, 1, 1, 1, 1, 1, 1, 1, 1, 1, 1, 1, 1, 1, 1, 1, 1, 1, 1, 1, 1, 1, 1, 1, 1, 1, 1, 1], [1, 1, 1, 1, 1, 1, 1, 1, 1, 1, 1, 1, 1, 1, 1, 1, 1, 1, 1, 1, 1, 1, 1, 1, 1, 1, 1, 1, 1, 1, 1, 1, 1, 1, 1, 1, 1, 1, 1, 1, 1, 1, 1, 1, 1, 1, 1, 1, 1, 1, 1, 1, 1, 1, 1, 1, 1, 1, 1, 1, 1, 1, 1, 1, 1, 1, 1, 1, 1, 1, 1, 1, 1, 1, 1, 1, 1, 1, 1, 1, 1, 1, 1, 1, 1, 1, 1, 1, 1, 1, 1, 1, 1, 1, 1, 1, 1, 1, 1, 1, 1, 1, 1, 1, 1, 1, 1, 0, 0, 1, 1, 1, 1, 1, 1, 1, 1, 1, 1, 1, 1, 1, 1, 1, 1, 1, 1, 1, 1, 1, 1, 1, 1, 1, 1, 1, 1], [1, 1, 1, 1, 1, 1, 1, 1, 1, 1, 1, 1, 1, 1, 1, 1, 1, 1, 1, 1, 1, 1, 1, 1, 1, 1, 1, 1, 0, 1, 1, 1, 1, 1, 1, 1, 1, 1, 1, 1, 1, 1, 1, 0, 1, 1, 1, 1, 1, 1, 1, 1, 1, 1, 0, 1, 1, 1, 1, 1, 1, 1, 0, 1, 1, 1, 1, 1, 1, 1, 1, 1, 1, 1, 1, 1, 1, 1, 1, 1, 1, 1, 1, 1, 1, 1, 1, 1, 1, 1, 1, 1, 1, 1, 1, 1, 1, 0, 1, 1, 1, 1, 1, 1, 1, 1, 1, 0, 0, 1, 1, 1, 1, 1, 1, 1, 1, 1, 1, 1, 1, 1, 1, 1, 1, 1, 1, 1, 1, 1, 1, 1, 1, 1, 1, 1, 1], [1, 1, 1, 1, 1, 1, 1, 1, 1, 1, 1, 1, 1, 1, 1, 1, 1, 1, 1, 1, 1, 1, 1, 1, 1, 1, 1, 1, 0, 1, 1, 1, 1, 1, 1, 1, 1, 1, 1, 1, 1, 1, 1, 0, 1, 1, 1, 1, 1, 1, 1, 1, 1, 1, 0, 1, 1, 1, 1, 1, 1, 1, 0, 1, 1, 1, 1, 1, 1, 1, 1, 1, 1, 1, 1, 1, 1, 1, 1, 1, 1, 1, 1, 1, 1, 1, 1, 1, 1, 1, 1, 1, 1, 1, 1, 1, 1, 0, 1, 1, 1, 1, 1, 1, 1, 1, 1, 0, 0, 1, 1, 1, 1, 1, 1, 1, 1, 1, 1, 1, 1, 1, 1, 1, 1, 1, 1, 1, 1, 1, 1, 1, 1, 1, 1, 1, 1], [1, 1, 1, 1, 1, 1, 1, 1, 1, 1, 1, 1, 1, 1, 1, 1, 1, 1, 1, 1, 1, 1, 1, 1, 1, 1, 1, 1, 1, 1, 1, 1, 1, 1, 1, 1, 1, 1, 1, 1, 1, 1, 1, 1, 1, 1, 1, 1, 1, 1, 1, 1, 1, 1, 1, 1, 1, 1, 1, 1, 1, 1, 1, 1, 1, 1, 1, 1, 1, 1, 1, 1, 1, 1, 1, 1, 1, 1, 1, 1, 1, 1, 1, 1, 1, 1, 1, 1, 1, 1, 1, 1, 1, 1, 1, 1, 1, 1, 1, 1, 1, 1, 1, 1, 1, 1, 1, 0, 0, 1, 1, 1, 1, 1, 1, 1, 1, 1, 1, 1, 1, 1, 1, 1, 1, 1, 1, 1, 1, 1, 1, 1, 1, 1, 1, 1, 1], [0, 0, 0, 0, 0, 0, 0, 0, 0, 0, 0, 0, 0, 0, 0, 0, 0, 0, 0, 0, 0, 0, 0, 0, 0, 0, 0, 0, 0, 0, 0, 0, 0, 0, 0, 0, 0, 0, 0, 0, 0, 0, 0, 0, 0, 0, 0, 0, 0, 0, 0, 0, 0, 0, 0, 0, 0, 0, 0, 0, 0, 0, 0, 0, 0, 0, 0, 0, 0, 0, 0, 0, 0, 0, 0, 0, 0, 0, 0, 0, 0, 0, 0, 0, 0, 0, 0, 0, 0, 0, 0, 0, 0, 0, 0, 0, 0, 0, 0, 0, 0, 0, 0, 0, 0, 0, 0, 0, 0, 0, 0, 0, 0, 0, 0, 0, 0, 0, 0, 0, 0, 0, 0, 0, 0, 0, 0, 0, 0, 0, 0, 0, 0, 0, 0, 0, 0], [0, 0, 0, 0, 0, 0, 0, 0, 0, 0, 0, 0, 0, 0, 0, 0, 0, 0, 0, 0, 0, 0, 0, 0, 0, 0, 0, 0, 0, 0, 0, 0, 0, 0, 0, 0, 0, 0, 0, 0, 0, 0, 0, 0, 0, 0, 0, 0, 0, 0, 0, 0, 0, 0, 0, 0, 0, 0, 0, 0, 0, 0, 0, 0, 0, 0, 0, 0, 0, 0, 0, 0, 0, 0, 0, 0, 0, 0, 0, 0, 0, 0, 0, 0, 0, 0, 0, 0, 0, 0, 0, 0, 0, 0, 0, 0, 0, 0, 0, 0, 0, 0, 0, 0, 0, 0, 0, 0, 0, 0, 0, 0, 0, 0, 0, 0, 0, 0, 0, 0, 0, 0, 0, 0, 0, 0, 0, 0, 0, 0, 0, 0, 0, 0, 0, 0, 0], [1, 1, 1, 1, 1, 1, 1, 1, 1, 1, 1, 1, 1, 1, 1, 1, 1, 1, 1, 1, 1, 1, 1, 1, 1, 1, 1, 1, 0, 1, 1, 1, 1, 1, 1, 1, 1, 1, 1, 1, 1, 1, 1, 0, 1, 1, 1, 1, 1, 1, 1, 1, 1, 1, 1, 1, 1, 1, 1, 1, 1, 1, 1, 1, 1, 1, 1, 1, 1, 1, 1, 1, 1, 1, 1, 1, 1, 1, 1, 1, 1, 1, 1, 1, 1, 1, 1, 1, 1, 1, 1, 1, 1, 1, 1, 1, 1, 0, 1, 1, 1, 1, 1, 1, 1, 1, 1, 0, 0, 1, 1, 1, 1, 1, 1, 1, 1, 1, 1, 1, 1, 1, 1, 1, 1, 1, 1, 1, 1, 1, 1, 1, 1, 1, 1, 1, 1], [1, 1, 1, 1, 1, 1, 1, 1, 1, 1, 1, 1, 1, 1, 1, 1, 1, 1, 1, 1, 1, 1, 1, 1, 1, 1, 1, 1, 0, 1, 1, 1, 1, 1, 1, 1, 1, 1, 1, 1, 1, 1, 1, 0, 1, 1, 1, 1, 1, 1, 1, 1, 1, 1, 1, 1, 1, 1, 1, 1, 1, 1, 1, 1, 1, 1, 1, 1, 1, 1, 1, 1, 1, 1, 1, 1, 1, 1, 1, 1, 1, 1, 1, 1, 1, 1, 1, 1, 1, 1, 1, 1, 1, 1, 1, 1, 1, 0, 1, 1, 1, 1, 1, 1, 1, 1, 1, 0, 0, 1, 1, 1, 1, 1, 1, 1, 1, 1, 1, 1, 1, 1, 1, 1, 1, 1, 1, 1, 1, 1, 1, 1, 1, 1, 1, 1, 1], [1, 1, 1, 1, 1, 1, 1, 1, 1, 1, 1, 1, 1, 1, 1, 1, 1, 1, 1, 1, 1, 1, 1, 1, 1, 1, 1, 1, 0, 1, 1, 1, 1, 1, 1, 1, 1, 1, 1, 1, 1, 1, 1, 0, 1, 1, 1, 1, 1, 1, 1, 1, 1, 1, 1, 1, 1, 1, 1, 1, 1, 1, 1, 1, 1, 1, 1, 1, 1, 1, 1, 1, 1, 1, 1, 1, 1, 1, 1, 1, 1, 1, 1, 1, 1, 1, 1, 1, 1, 1, 1, 1, 1, 1, 1, 1, 1, 0, 1, 1, 1, 1, 1, 1, 1, 1, 1, 0, 0, 1, 1, 1, 1, 1, 1, 1, 1, 1, 1, 1, 1, 1, 1, 1, 1, 1, 1, 1, 1, 1, 1, 1, 1, 1, 1, 1, 1], [1, 1, 1, 1, 1, 1, 1, 1, 1, 1, 1, 1, 1, 1, 1, 1, 1, 1, 1, 1, 1, 1, 1, 1, 1, 1, 1, 1, 1, 1, 1, 1, 1, 1, 1, 1, 1, 1, 1, 1, 1, 1, 1, 1, 1, 1, 1, 1, 1, 1, 1, 1, 1, 1, 1, 1, 1, 1, 1, 1, 1, 1, 1, 1, 1, 1, 1, 1, 1, 1, 1, 1, 1, 1, 1, 1, 1, 1, 1, 1, 1, 1, 1, 1, 1, 1, 1, 1, 1, 1, 1, 1, 1, 1, 1, 1, 1, 1, 1, 1, 1, 1, 1, 1, 1, 1, 1, 0, 0, 1, 1, 1, 1, 1, 1, 1, 1, 1, 1, 1, 1, 1, 1, 1, 1, 1, 1, 1, 1, 1, 1, 1, 1, 1, 1, 1, 1]]}], {\"xaxis\": {\"title\": \"knocked genes\"}, \"yaxis\": {\"title\": \"precursor\"}}, {\"showLink\": true, \"linkText\": \"Export to plot.ly\"})});</script>"
      ]
     },
     "metadata": {},
     "output_type": "display_data"
    }
   ],
   "source": [
    "df = precursor_production.pivot(index='precursor', columns='knocked_gene', values='can_produce')\n",
    "data = [go.Heatmap(z=df.values.tolist())]\n",
    "layout = go.Layout(xaxis=dict(title='knocked genes'), yaxis=dict(title='precursor'))\n",
    "fig = go.Figure(data=data, layout=layout)\n",
    "iplot(fig)"
   ]
  }
 ],
 "metadata": {
  "kernelspec": {
   "display_name": "python3.6",
   "language": "python",
   "name": "python3.6"
  },
  "language_info": {
   "codemirror_mode": {
    "name": "ipython",
    "version": 3
   },
   "file_extension": ".py",
   "mimetype": "text/x-python",
   "name": "python",
   "nbconvert_exporter": "python",
   "pygments_lexer": "ipython3",
   "version": "3.6.12"
  }
 },
 "nbformat": 4,
 "nbformat_minor": 4
}
